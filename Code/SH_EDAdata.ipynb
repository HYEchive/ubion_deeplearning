{
 "cells": [
  {
   "cell_type": "code",
   "execution_count": 2,
   "source": [
    "import pandas as pd\r\n",
    "import numpy as np\r\n",
    "import seaborn as sns\r\n",
    "import matplotlib\r\n",
    "import matplotlib.pyplot as plt\r\n",
    "import plotly.express as px\r\n",
    "\r\n",
    "dataset = pd.read_csv(r'C:\\Users\\user\\Desktop\\자료\\0실습\\[유비온]해커톤-신용카드 사기\\140472_store_credit_card_revenue_data\\funda_train.csv')"
   ],
   "outputs": [],
   "metadata": {}
  },
  {
   "cell_type": "code",
   "execution_count": 3,
   "source": [
    "dataset['amount_small'] = dataset['amount']/1000000 #sum 할 시 값이 커져 십만 기준\r\n",
    "dataset"
   ],
   "outputs": [
    {
     "output_type": "execute_result",
     "data": {
      "text/html": [
       "<div>\n",
       "<style scoped>\n",
       "    .dataframe tbody tr th:only-of-type {\n",
       "        vertical-align: middle;\n",
       "    }\n",
       "\n",
       "    .dataframe tbody tr th {\n",
       "        vertical-align: top;\n",
       "    }\n",
       "\n",
       "    .dataframe thead th {\n",
       "        text-align: right;\n",
       "    }\n",
       "</style>\n",
       "<table border=\"1\" class=\"dataframe\">\n",
       "  <thead>\n",
       "    <tr style=\"text-align: right;\">\n",
       "      <th></th>\n",
       "      <th>store_id</th>\n",
       "      <th>card_id</th>\n",
       "      <th>card_company</th>\n",
       "      <th>transacted_date</th>\n",
       "      <th>transacted_time</th>\n",
       "      <th>installment_term</th>\n",
       "      <th>region</th>\n",
       "      <th>type_of_business</th>\n",
       "      <th>amount</th>\n",
       "      <th>amount_small</th>\n",
       "    </tr>\n",
       "  </thead>\n",
       "  <tbody>\n",
       "    <tr>\n",
       "      <th>0</th>\n",
       "      <td>0</td>\n",
       "      <td>0</td>\n",
       "      <td>b</td>\n",
       "      <td>2016-06-01</td>\n",
       "      <td>13:13</td>\n",
       "      <td>0</td>\n",
       "      <td>NaN</td>\n",
       "      <td>기타 미용업</td>\n",
       "      <td>1857.142857</td>\n",
       "      <td>0.001857</td>\n",
       "    </tr>\n",
       "    <tr>\n",
       "      <th>1</th>\n",
       "      <td>0</td>\n",
       "      <td>1</td>\n",
       "      <td>h</td>\n",
       "      <td>2016-06-01</td>\n",
       "      <td>18:12</td>\n",
       "      <td>0</td>\n",
       "      <td>NaN</td>\n",
       "      <td>기타 미용업</td>\n",
       "      <td>857.142857</td>\n",
       "      <td>0.000857</td>\n",
       "    </tr>\n",
       "    <tr>\n",
       "      <th>2</th>\n",
       "      <td>0</td>\n",
       "      <td>2</td>\n",
       "      <td>c</td>\n",
       "      <td>2016-06-01</td>\n",
       "      <td>18:52</td>\n",
       "      <td>0</td>\n",
       "      <td>NaN</td>\n",
       "      <td>기타 미용업</td>\n",
       "      <td>2000.000000</td>\n",
       "      <td>0.002000</td>\n",
       "    </tr>\n",
       "    <tr>\n",
       "      <th>3</th>\n",
       "      <td>0</td>\n",
       "      <td>3</td>\n",
       "      <td>a</td>\n",
       "      <td>2016-06-01</td>\n",
       "      <td>20:22</td>\n",
       "      <td>0</td>\n",
       "      <td>NaN</td>\n",
       "      <td>기타 미용업</td>\n",
       "      <td>7857.142857</td>\n",
       "      <td>0.007857</td>\n",
       "    </tr>\n",
       "    <tr>\n",
       "      <th>4</th>\n",
       "      <td>0</td>\n",
       "      <td>4</td>\n",
       "      <td>c</td>\n",
       "      <td>2016-06-02</td>\n",
       "      <td>11:06</td>\n",
       "      <td>0</td>\n",
       "      <td>NaN</td>\n",
       "      <td>기타 미용업</td>\n",
       "      <td>2000.000000</td>\n",
       "      <td>0.002000</td>\n",
       "    </tr>\n",
       "    <tr>\n",
       "      <th>...</th>\n",
       "      <td>...</td>\n",
       "      <td>...</td>\n",
       "      <td>...</td>\n",
       "      <td>...</td>\n",
       "      <td>...</td>\n",
       "      <td>...</td>\n",
       "      <td>...</td>\n",
       "      <td>...</td>\n",
       "      <td>...</td>\n",
       "      <td>...</td>\n",
       "    </tr>\n",
       "    <tr>\n",
       "      <th>6556608</th>\n",
       "      <td>2136</td>\n",
       "      <td>4663855</td>\n",
       "      <td>d</td>\n",
       "      <td>2019-02-28</td>\n",
       "      <td>23:20</td>\n",
       "      <td>0</td>\n",
       "      <td>제주 제주시</td>\n",
       "      <td>기타 주점업</td>\n",
       "      <td>-4500.000000</td>\n",
       "      <td>-0.004500</td>\n",
       "    </tr>\n",
       "    <tr>\n",
       "      <th>6556609</th>\n",
       "      <td>2136</td>\n",
       "      <td>4663855</td>\n",
       "      <td>d</td>\n",
       "      <td>2019-02-28</td>\n",
       "      <td>23:24</td>\n",
       "      <td>0</td>\n",
       "      <td>제주 제주시</td>\n",
       "      <td>기타 주점업</td>\n",
       "      <td>4142.857143</td>\n",
       "      <td>0.004143</td>\n",
       "    </tr>\n",
       "    <tr>\n",
       "      <th>6556610</th>\n",
       "      <td>2136</td>\n",
       "      <td>4663489</td>\n",
       "      <td>a</td>\n",
       "      <td>2019-02-28</td>\n",
       "      <td>23:24</td>\n",
       "      <td>0</td>\n",
       "      <td>제주 제주시</td>\n",
       "      <td>기타 주점업</td>\n",
       "      <td>4500.000000</td>\n",
       "      <td>0.004500</td>\n",
       "    </tr>\n",
       "    <tr>\n",
       "      <th>6556611</th>\n",
       "      <td>2136</td>\n",
       "      <td>4663856</td>\n",
       "      <td>d</td>\n",
       "      <td>2019-02-28</td>\n",
       "      <td>23:27</td>\n",
       "      <td>0</td>\n",
       "      <td>제주 제주시</td>\n",
       "      <td>기타 주점업</td>\n",
       "      <td>571.428571</td>\n",
       "      <td>0.000571</td>\n",
       "    </tr>\n",
       "    <tr>\n",
       "      <th>6556612</th>\n",
       "      <td>2136</td>\n",
       "      <td>4658616</td>\n",
       "      <td>c</td>\n",
       "      <td>2019-02-28</td>\n",
       "      <td>23:54</td>\n",
       "      <td>0</td>\n",
       "      <td>제주 제주시</td>\n",
       "      <td>기타 주점업</td>\n",
       "      <td>5857.142857</td>\n",
       "      <td>0.005857</td>\n",
       "    </tr>\n",
       "  </tbody>\n",
       "</table>\n",
       "<p>6556613 rows × 10 columns</p>\n",
       "</div>"
      ],
      "text/plain": [
       "         store_id  card_id card_company transacted_date transacted_time  \\\n",
       "0               0        0            b      2016-06-01           13:13   \n",
       "1               0        1            h      2016-06-01           18:12   \n",
       "2               0        2            c      2016-06-01           18:52   \n",
       "3               0        3            a      2016-06-01           20:22   \n",
       "4               0        4            c      2016-06-02           11:06   \n",
       "...           ...      ...          ...             ...             ...   \n",
       "6556608      2136  4663855            d      2019-02-28           23:20   \n",
       "6556609      2136  4663855            d      2019-02-28           23:24   \n",
       "6556610      2136  4663489            a      2019-02-28           23:24   \n",
       "6556611      2136  4663856            d      2019-02-28           23:27   \n",
       "6556612      2136  4658616            c      2019-02-28           23:54   \n",
       "\n",
       "         installment_term  region type_of_business       amount  amount_small  \n",
       "0                       0     NaN           기타 미용업  1857.142857      0.001857  \n",
       "1                       0     NaN           기타 미용업   857.142857      0.000857  \n",
       "2                       0     NaN           기타 미용업  2000.000000      0.002000  \n",
       "3                       0     NaN           기타 미용업  7857.142857      0.007857  \n",
       "4                       0     NaN           기타 미용업  2000.000000      0.002000  \n",
       "...                   ...     ...              ...          ...           ...  \n",
       "6556608                 0  제주 제주시           기타 주점업 -4500.000000     -0.004500  \n",
       "6556609                 0  제주 제주시           기타 주점업  4142.857143      0.004143  \n",
       "6556610                 0  제주 제주시           기타 주점업  4500.000000      0.004500  \n",
       "6556611                 0  제주 제주시           기타 주점업   571.428571      0.000571  \n",
       "6556612                 0  제주 제주시           기타 주점업  5857.142857      0.005857  \n",
       "\n",
       "[6556613 rows x 10 columns]"
      ]
     },
     "metadata": {},
     "execution_count": 3
    }
   ],
   "metadata": {}
  },
  {
   "cell_type": "code",
   "execution_count": 19,
   "source": [
    "#날짜 확인 16.06~19.02 코로나 이전의 매출\r\n",
    "dataset['transacted_date'].sort_values()"
   ],
   "outputs": [
    {
     "output_type": "execute_result",
     "data": {
      "text/plain": [
       "0          2016-06-01\n",
       "3972143    2016-06-01\n",
       "3972142    2016-06-01\n",
       "3955809    2016-06-01\n",
       "3955808    2016-06-01\n",
       "              ...    \n",
       "1927409    2019-02-28\n",
       "1927408    2019-02-28\n",
       "1927407    2019-02-28\n",
       "1908774    2019-02-28\n",
       "6556612    2019-02-28\n",
       "Name: transacted_date, Length: 6556613, dtype: object"
      ]
     },
     "metadata": {},
     "execution_count": 19
    }
   ],
   "metadata": {}
  },
  {
   "cell_type": "code",
   "execution_count": 4,
   "source": [
    "dataset.isna().sum() #결측치 확인"
   ],
   "outputs": [
    {
     "output_type": "execute_result",
     "data": {
      "text/plain": [
       "store_id                  0\n",
       "card_id                   0\n",
       "card_company              0\n",
       "transacted_date           0\n",
       "transacted_time           0\n",
       "installment_term          0\n",
       "region              2042766\n",
       "type_of_business    3952609\n",
       "amount                    0\n",
       "amount_small              0\n",
       "dtype: int64"
      ]
     },
     "metadata": {},
     "execution_count": 4
    }
   ],
   "metadata": {}
  },
  {
   "cell_type": "code",
   "execution_count": 5,
   "source": [
    "dataset.isin([0]).sum() #데이터에 0으로 입력된 값 확인"
   ],
   "outputs": [
    {
     "output_type": "execute_result",
     "data": {
      "text/plain": [
       "store_id               4481\n",
       "card_id                   5\n",
       "card_company              0\n",
       "transacted_date           0\n",
       "transacted_time           0\n",
       "installment_term    6327632\n",
       "region                    0\n",
       "type_of_business          0\n",
       "amount                   80\n",
       "amount_small             80\n",
       "dtype: int64"
      ]
     },
     "metadata": {},
     "execution_count": 5
    }
   ],
   "metadata": {}
  },
  {
   "cell_type": "code",
   "execution_count": 6,
   "source": [
    "dataset['region'] = dataset['region'].fillna('지역 모름') #결측치 대체\r\n",
    "dataset['type_of_business'] = dataset['type_of_business'].fillna('업종 모름')\r\n",
    "dataset.isna().sum() # 결측지가 잘 대체됐는지 확인"
   ],
   "outputs": [
    {
     "output_type": "execute_result",
     "data": {
      "text/plain": [
       "store_id            0\n",
       "card_id             0\n",
       "card_company        0\n",
       "transacted_date     0\n",
       "transacted_time     0\n",
       "installment_term    0\n",
       "region              0\n",
       "type_of_business    0\n",
       "amount              0\n",
       "amount_small        0\n",
       "dtype: int64"
      ]
     },
     "metadata": {},
     "execution_count": 6
    }
   ],
   "metadata": {}
  },
  {
   "cell_type": "code",
   "execution_count": 7,
   "source": [
    "#비즈니스 타입 별 금액 확인 sum시 환불금액은 자연스럽게 빠지기때문에 (+금액, -금액) 조정하지않음\r\n",
    "a = dataset['amount_small'].groupby(dataset['type_of_business'])\r\n",
    "print(a.sum().sort_values(ascending=False))\r\n"
   ],
   "outputs": [
    {
     "output_type": "stream",
     "name": "stdout",
     "text": [
      "type_of_business\n",
      "업종 모름                 39488.749497\n",
      "한식 음식점업                4810.450168\n",
      "의복 소매업                 2403.673998\n",
      "의약품 도매업                1568.540161\n",
      "일반 교과 학원               1293.610831\n",
      "                          ...     \n",
      "예술품 및 골동품 소매업             3.172929\n",
      "채소, 과실 및 뿌리작물 소매업         2.532857\n",
      "곡물 및 기타 식량작물 재배업          1.972814\n",
      "배전반 및 전기 자동제어반 제조업        1.635599\n",
      "신선식품 및 단순 가공식품 도매업        0.506327\n",
      "Name: amount_small, Length: 146, dtype: float64\n"
     ]
    }
   ],
   "metadata": {}
  },
  {
   "cell_type": "code",
   "execution_count": 9,
   "source": [
    "#비즈니스 타입 별 결제건수 확인\r\n",
    "a.count().sort_values(ascending=False)"
   ],
   "outputs": [
    {
     "output_type": "execute_result",
     "data": {
      "text/plain": [
       "type_of_business\n",
       "업종 모름                       3952609\n",
       "한식 음식점업                      745905\n",
       "두발 미용업                       178475\n",
       "의복 소매업                       158234\n",
       "기타 주점업                       102413\n",
       "                             ...   \n",
       "곡물 및 기타 식량작물 재배업                569\n",
       "주방용품 및 가정용 유리, 요업 제품 소매업        551\n",
       "배전반 및 전기 자동제어반 제조업              533\n",
       "그 외 기타 생활용품 도매업                 519\n",
       "신선식품 및 단순 가공식품 도매업              231\n",
       "Name: amount_small, Length: 146, dtype: int64"
      ]
     },
     "metadata": {},
     "execution_count": 9
    }
   ],
   "metadata": {}
  },
  {
   "cell_type": "code",
   "execution_count": 10,
   "source": [
    "#datetime 함수 사용하여 시간, 일, 월 칼럼 추가 \r\n",
    "dataset['datetime'] = pd.to_datetime(dataset.transacted_date + \" \" + \r\n",
    "                                dataset.transacted_time, format='%Y-%m-%d %H:%M:%S')\r\n",
    "\r\n",
    "dataset['time'] = dataset['datetime'].dt.time\r\n",
    "dataset['day'] = dataset['datetime'].dt.day\r\n",
    "dataset['month'] = dataset['datetime'].dt.month\r\n",
    "\r\n",
    "#도(big_region), 시(small_region) 칼럼 추가\r\n",
    "dataset['big_region'] = dataset['region'].str[0:2]\r\n",
    "dataset['small_region'] = dataset['region'].str[3:]\r\n",
    "dataset.head(1)"
   ],
   "outputs": [
    {
     "output_type": "execute_result",
     "data": {
      "text/html": [
       "<div>\n",
       "<style scoped>\n",
       "    .dataframe tbody tr th:only-of-type {\n",
       "        vertical-align: middle;\n",
       "    }\n",
       "\n",
       "    .dataframe tbody tr th {\n",
       "        vertical-align: top;\n",
       "    }\n",
       "\n",
       "    .dataframe thead th {\n",
       "        text-align: right;\n",
       "    }\n",
       "</style>\n",
       "<table border=\"1\" class=\"dataframe\">\n",
       "  <thead>\n",
       "    <tr style=\"text-align: right;\">\n",
       "      <th></th>\n",
       "      <th>store_id</th>\n",
       "      <th>card_id</th>\n",
       "      <th>card_company</th>\n",
       "      <th>transacted_date</th>\n",
       "      <th>transacted_time</th>\n",
       "      <th>installment_term</th>\n",
       "      <th>region</th>\n",
       "      <th>type_of_business</th>\n",
       "      <th>amount</th>\n",
       "      <th>amount_small</th>\n",
       "      <th>datetime</th>\n",
       "      <th>time</th>\n",
       "      <th>day</th>\n",
       "      <th>month</th>\n",
       "      <th>big_region</th>\n",
       "      <th>small_region</th>\n",
       "    </tr>\n",
       "  </thead>\n",
       "  <tbody>\n",
       "    <tr>\n",
       "      <th>0</th>\n",
       "      <td>0</td>\n",
       "      <td>0</td>\n",
       "      <td>b</td>\n",
       "      <td>2016-06-01</td>\n",
       "      <td>13:13</td>\n",
       "      <td>0</td>\n",
       "      <td>지역 모름</td>\n",
       "      <td>기타 미용업</td>\n",
       "      <td>1857.142857</td>\n",
       "      <td>0.001857</td>\n",
       "      <td>2016-06-01 13:13:00</td>\n",
       "      <td>13:13:00</td>\n",
       "      <td>1</td>\n",
       "      <td>6</td>\n",
       "      <td>지역</td>\n",
       "      <td>모름</td>\n",
       "    </tr>\n",
       "  </tbody>\n",
       "</table>\n",
       "</div>"
      ],
      "text/plain": [
       "   store_id  card_id card_company transacted_date transacted_time  \\\n",
       "0         0        0            b      2016-06-01           13:13   \n",
       "\n",
       "   installment_term region type_of_business       amount  amount_small  \\\n",
       "0                 0  지역 모름           기타 미용업  1857.142857      0.001857   \n",
       "\n",
       "             datetime      time  day  month big_region small_region  \n",
       "0 2016-06-01 13:13:00  13:13:00    1      6         지역           모름  "
      ]
     },
     "metadata": {},
     "execution_count": 10
    }
   ],
   "metadata": {}
  },
  {
   "cell_type": "code",
   "execution_count": 42,
   "source": [
    "dataset['big_region'].value_counts()"
   ],
   "outputs": [
    {
     "output_type": "execute_result",
     "data": {
      "text/plain": [
       "지역    2042766\n",
       "경기     968836\n",
       "서울     704437\n",
       "경남     406190\n",
       "부산     359042\n",
       "경북     262338\n",
       "충북     239796\n",
       "충남     217040\n",
       "대구     208424\n",
       "인천     192439\n",
       "강원     169791\n",
       "전북     143514\n",
       "대전     142478\n",
       "울산     124640\n",
       "전남     121978\n",
       "광주     118015\n",
       "제주     114671\n",
       "세종      20218\n",
       "Name: big_region, dtype: int64"
      ]
     },
     "metadata": {},
     "execution_count": 42
    }
   ],
   "metadata": {}
  },
  {
   "cell_type": "code",
   "execution_count": 15,
   "source": [
    "#1. 지역에 따라 월별 시즈널리티 확인\r\n",
    "#지역별 월 결제액 확인 하지만 지역별로 큰 차이 나지않음\r\n",
    "#전지역 월 결제액 그래프가 한 캔버스안에 그리는게 가능할지... \r\n",
    "def region_month_sales(region, datetimes): #지역-매출액\r\n",
    "\r\n",
    "    \"\"\" parameter\r\n",
    "        business_type : data['type_of_business']에 있는 업종명을 넣어주세요.\r\n",
    "        datetimes : 셋 중에 하나를 선택하세요. time, day, month \r\n",
    "    \"\"\"\r\n",
    "    \r\n",
    "    dataset_ = dataset.loc[(dataset['big_region'] == region), ['amount_small',datetimes]]\r\n",
    "    group = dataset_['amount_small'].groupby(dataset_[datetimes]) \r\n",
    "\r\n",
    "    fig = px.line(group.sum(), title = region + \" 월별 매출\")\r\n",
    "    fig.show()"
   ],
   "outputs": [],
   "metadata": {}
  },
  {
   "cell_type": "code",
   "execution_count": 16,
   "source": [
    "region_month_sales('강원','month') "
   ],
   "outputs": [
    {
     "output_type": "display_data",
     "data": {
      "application/vnd.plotly.v1+json": {
       "config": {
        "plotlyServerURL": "https://plot.ly"
       },
       "data": [
        {
         "hovertemplate": "variable=amount_small<br>month=%{x}<br>value=%{y}<extra></extra>",
         "legendgroup": "amount_small",
         "line": {
          "color": "#636efa",
          "dash": "solid"
         },
         "marker": {
          "symbol": "circle"
         },
         "mode": "lines",
         "name": "amount_small",
         "orientation": "v",
         "showlegend": true,
         "type": "scatter",
         "x": [
          1,
          2,
          3,
          4,
          5,
          6,
          7,
          8,
          9,
          10,
          11,
          12
         ],
         "xaxis": "x",
         "y": [
          162.891071,
          143.8369817142857,
          115.58242714285714,
          108.32496442857143,
          112.40363857142857,
          148.96585957142858,
          154.913711,
          160.045911,
          157.0630962857143,
          163.92496414285714,
          183.26668242857144,
          182.62353442857142
         ],
         "yaxis": "y"
        }
       ],
       "layout": {
        "legend": {
         "title": {
          "text": "variable"
         },
         "tracegroupgap": 0
        },
        "template": {
         "data": {
          "bar": [
           {
            "error_x": {
             "color": "#2a3f5f"
            },
            "error_y": {
             "color": "#2a3f5f"
            },
            "marker": {
             "line": {
              "color": "#E5ECF6",
              "width": 0.5
             },
             "pattern": {
              "fillmode": "overlay",
              "size": 10,
              "solidity": 0.2
             }
            },
            "type": "bar"
           }
          ],
          "barpolar": [
           {
            "marker": {
             "line": {
              "color": "#E5ECF6",
              "width": 0.5
             },
             "pattern": {
              "fillmode": "overlay",
              "size": 10,
              "solidity": 0.2
             }
            },
            "type": "barpolar"
           }
          ],
          "carpet": [
           {
            "aaxis": {
             "endlinecolor": "#2a3f5f",
             "gridcolor": "white",
             "linecolor": "white",
             "minorgridcolor": "white",
             "startlinecolor": "#2a3f5f"
            },
            "baxis": {
             "endlinecolor": "#2a3f5f",
             "gridcolor": "white",
             "linecolor": "white",
             "minorgridcolor": "white",
             "startlinecolor": "#2a3f5f"
            },
            "type": "carpet"
           }
          ],
          "choropleth": [
           {
            "colorbar": {
             "outlinewidth": 0,
             "ticks": ""
            },
            "type": "choropleth"
           }
          ],
          "contour": [
           {
            "colorbar": {
             "outlinewidth": 0,
             "ticks": ""
            },
            "colorscale": [
             [
              0,
              "#0d0887"
             ],
             [
              0.1111111111111111,
              "#46039f"
             ],
             [
              0.2222222222222222,
              "#7201a8"
             ],
             [
              0.3333333333333333,
              "#9c179e"
             ],
             [
              0.4444444444444444,
              "#bd3786"
             ],
             [
              0.5555555555555556,
              "#d8576b"
             ],
             [
              0.6666666666666666,
              "#ed7953"
             ],
             [
              0.7777777777777778,
              "#fb9f3a"
             ],
             [
              0.8888888888888888,
              "#fdca26"
             ],
             [
              1,
              "#f0f921"
             ]
            ],
            "type": "contour"
           }
          ],
          "contourcarpet": [
           {
            "colorbar": {
             "outlinewidth": 0,
             "ticks": ""
            },
            "type": "contourcarpet"
           }
          ],
          "heatmap": [
           {
            "colorbar": {
             "outlinewidth": 0,
             "ticks": ""
            },
            "colorscale": [
             [
              0,
              "#0d0887"
             ],
             [
              0.1111111111111111,
              "#46039f"
             ],
             [
              0.2222222222222222,
              "#7201a8"
             ],
             [
              0.3333333333333333,
              "#9c179e"
             ],
             [
              0.4444444444444444,
              "#bd3786"
             ],
             [
              0.5555555555555556,
              "#d8576b"
             ],
             [
              0.6666666666666666,
              "#ed7953"
             ],
             [
              0.7777777777777778,
              "#fb9f3a"
             ],
             [
              0.8888888888888888,
              "#fdca26"
             ],
             [
              1,
              "#f0f921"
             ]
            ],
            "type": "heatmap"
           }
          ],
          "heatmapgl": [
           {
            "colorbar": {
             "outlinewidth": 0,
             "ticks": ""
            },
            "colorscale": [
             [
              0,
              "#0d0887"
             ],
             [
              0.1111111111111111,
              "#46039f"
             ],
             [
              0.2222222222222222,
              "#7201a8"
             ],
             [
              0.3333333333333333,
              "#9c179e"
             ],
             [
              0.4444444444444444,
              "#bd3786"
             ],
             [
              0.5555555555555556,
              "#d8576b"
             ],
             [
              0.6666666666666666,
              "#ed7953"
             ],
             [
              0.7777777777777778,
              "#fb9f3a"
             ],
             [
              0.8888888888888888,
              "#fdca26"
             ],
             [
              1,
              "#f0f921"
             ]
            ],
            "type": "heatmapgl"
           }
          ],
          "histogram": [
           {
            "marker": {
             "pattern": {
              "fillmode": "overlay",
              "size": 10,
              "solidity": 0.2
             }
            },
            "type": "histogram"
           }
          ],
          "histogram2d": [
           {
            "colorbar": {
             "outlinewidth": 0,
             "ticks": ""
            },
            "colorscale": [
             [
              0,
              "#0d0887"
             ],
             [
              0.1111111111111111,
              "#46039f"
             ],
             [
              0.2222222222222222,
              "#7201a8"
             ],
             [
              0.3333333333333333,
              "#9c179e"
             ],
             [
              0.4444444444444444,
              "#bd3786"
             ],
             [
              0.5555555555555556,
              "#d8576b"
             ],
             [
              0.6666666666666666,
              "#ed7953"
             ],
             [
              0.7777777777777778,
              "#fb9f3a"
             ],
             [
              0.8888888888888888,
              "#fdca26"
             ],
             [
              1,
              "#f0f921"
             ]
            ],
            "type": "histogram2d"
           }
          ],
          "histogram2dcontour": [
           {
            "colorbar": {
             "outlinewidth": 0,
             "ticks": ""
            },
            "colorscale": [
             [
              0,
              "#0d0887"
             ],
             [
              0.1111111111111111,
              "#46039f"
             ],
             [
              0.2222222222222222,
              "#7201a8"
             ],
             [
              0.3333333333333333,
              "#9c179e"
             ],
             [
              0.4444444444444444,
              "#bd3786"
             ],
             [
              0.5555555555555556,
              "#d8576b"
             ],
             [
              0.6666666666666666,
              "#ed7953"
             ],
             [
              0.7777777777777778,
              "#fb9f3a"
             ],
             [
              0.8888888888888888,
              "#fdca26"
             ],
             [
              1,
              "#f0f921"
             ]
            ],
            "type": "histogram2dcontour"
           }
          ],
          "mesh3d": [
           {
            "colorbar": {
             "outlinewidth": 0,
             "ticks": ""
            },
            "type": "mesh3d"
           }
          ],
          "parcoords": [
           {
            "line": {
             "colorbar": {
              "outlinewidth": 0,
              "ticks": ""
             }
            },
            "type": "parcoords"
           }
          ],
          "pie": [
           {
            "automargin": true,
            "type": "pie"
           }
          ],
          "scatter": [
           {
            "marker": {
             "colorbar": {
              "outlinewidth": 0,
              "ticks": ""
             }
            },
            "type": "scatter"
           }
          ],
          "scatter3d": [
           {
            "line": {
             "colorbar": {
              "outlinewidth": 0,
              "ticks": ""
             }
            },
            "marker": {
             "colorbar": {
              "outlinewidth": 0,
              "ticks": ""
             }
            },
            "type": "scatter3d"
           }
          ],
          "scattercarpet": [
           {
            "marker": {
             "colorbar": {
              "outlinewidth": 0,
              "ticks": ""
             }
            },
            "type": "scattercarpet"
           }
          ],
          "scattergeo": [
           {
            "marker": {
             "colorbar": {
              "outlinewidth": 0,
              "ticks": ""
             }
            },
            "type": "scattergeo"
           }
          ],
          "scattergl": [
           {
            "marker": {
             "colorbar": {
              "outlinewidth": 0,
              "ticks": ""
             }
            },
            "type": "scattergl"
           }
          ],
          "scattermapbox": [
           {
            "marker": {
             "colorbar": {
              "outlinewidth": 0,
              "ticks": ""
             }
            },
            "type": "scattermapbox"
           }
          ],
          "scatterpolar": [
           {
            "marker": {
             "colorbar": {
              "outlinewidth": 0,
              "ticks": ""
             }
            },
            "type": "scatterpolar"
           }
          ],
          "scatterpolargl": [
           {
            "marker": {
             "colorbar": {
              "outlinewidth": 0,
              "ticks": ""
             }
            },
            "type": "scatterpolargl"
           }
          ],
          "scatterternary": [
           {
            "marker": {
             "colorbar": {
              "outlinewidth": 0,
              "ticks": ""
             }
            },
            "type": "scatterternary"
           }
          ],
          "surface": [
           {
            "colorbar": {
             "outlinewidth": 0,
             "ticks": ""
            },
            "colorscale": [
             [
              0,
              "#0d0887"
             ],
             [
              0.1111111111111111,
              "#46039f"
             ],
             [
              0.2222222222222222,
              "#7201a8"
             ],
             [
              0.3333333333333333,
              "#9c179e"
             ],
             [
              0.4444444444444444,
              "#bd3786"
             ],
             [
              0.5555555555555556,
              "#d8576b"
             ],
             [
              0.6666666666666666,
              "#ed7953"
             ],
             [
              0.7777777777777778,
              "#fb9f3a"
             ],
             [
              0.8888888888888888,
              "#fdca26"
             ],
             [
              1,
              "#f0f921"
             ]
            ],
            "type": "surface"
           }
          ],
          "table": [
           {
            "cells": {
             "fill": {
              "color": "#EBF0F8"
             },
             "line": {
              "color": "white"
             }
            },
            "header": {
             "fill": {
              "color": "#C8D4E3"
             },
             "line": {
              "color": "white"
             }
            },
            "type": "table"
           }
          ]
         },
         "layout": {
          "annotationdefaults": {
           "arrowcolor": "#2a3f5f",
           "arrowhead": 0,
           "arrowwidth": 1
          },
          "autotypenumbers": "strict",
          "coloraxis": {
           "colorbar": {
            "outlinewidth": 0,
            "ticks": ""
           }
          },
          "colorscale": {
           "diverging": [
            [
             0,
             "#8e0152"
            ],
            [
             0.1,
             "#c51b7d"
            ],
            [
             0.2,
             "#de77ae"
            ],
            [
             0.3,
             "#f1b6da"
            ],
            [
             0.4,
             "#fde0ef"
            ],
            [
             0.5,
             "#f7f7f7"
            ],
            [
             0.6,
             "#e6f5d0"
            ],
            [
             0.7,
             "#b8e186"
            ],
            [
             0.8,
             "#7fbc41"
            ],
            [
             0.9,
             "#4d9221"
            ],
            [
             1,
             "#276419"
            ]
           ],
           "sequential": [
            [
             0,
             "#0d0887"
            ],
            [
             0.1111111111111111,
             "#46039f"
            ],
            [
             0.2222222222222222,
             "#7201a8"
            ],
            [
             0.3333333333333333,
             "#9c179e"
            ],
            [
             0.4444444444444444,
             "#bd3786"
            ],
            [
             0.5555555555555556,
             "#d8576b"
            ],
            [
             0.6666666666666666,
             "#ed7953"
            ],
            [
             0.7777777777777778,
             "#fb9f3a"
            ],
            [
             0.8888888888888888,
             "#fdca26"
            ],
            [
             1,
             "#f0f921"
            ]
           ],
           "sequentialminus": [
            [
             0,
             "#0d0887"
            ],
            [
             0.1111111111111111,
             "#46039f"
            ],
            [
             0.2222222222222222,
             "#7201a8"
            ],
            [
             0.3333333333333333,
             "#9c179e"
            ],
            [
             0.4444444444444444,
             "#bd3786"
            ],
            [
             0.5555555555555556,
             "#d8576b"
            ],
            [
             0.6666666666666666,
             "#ed7953"
            ],
            [
             0.7777777777777778,
             "#fb9f3a"
            ],
            [
             0.8888888888888888,
             "#fdca26"
            ],
            [
             1,
             "#f0f921"
            ]
           ]
          },
          "colorway": [
           "#636efa",
           "#EF553B",
           "#00cc96",
           "#ab63fa",
           "#FFA15A",
           "#19d3f3",
           "#FF6692",
           "#B6E880",
           "#FF97FF",
           "#FECB52"
          ],
          "font": {
           "color": "#2a3f5f"
          },
          "geo": {
           "bgcolor": "white",
           "lakecolor": "white",
           "landcolor": "#E5ECF6",
           "showlakes": true,
           "showland": true,
           "subunitcolor": "white"
          },
          "hoverlabel": {
           "align": "left"
          },
          "hovermode": "closest",
          "mapbox": {
           "style": "light"
          },
          "paper_bgcolor": "white",
          "plot_bgcolor": "#E5ECF6",
          "polar": {
           "angularaxis": {
            "gridcolor": "white",
            "linecolor": "white",
            "ticks": ""
           },
           "bgcolor": "#E5ECF6",
           "radialaxis": {
            "gridcolor": "white",
            "linecolor": "white",
            "ticks": ""
           }
          },
          "scene": {
           "xaxis": {
            "backgroundcolor": "#E5ECF6",
            "gridcolor": "white",
            "gridwidth": 2,
            "linecolor": "white",
            "showbackground": true,
            "ticks": "",
            "zerolinecolor": "white"
           },
           "yaxis": {
            "backgroundcolor": "#E5ECF6",
            "gridcolor": "white",
            "gridwidth": 2,
            "linecolor": "white",
            "showbackground": true,
            "ticks": "",
            "zerolinecolor": "white"
           },
           "zaxis": {
            "backgroundcolor": "#E5ECF6",
            "gridcolor": "white",
            "gridwidth": 2,
            "linecolor": "white",
            "showbackground": true,
            "ticks": "",
            "zerolinecolor": "white"
           }
          },
          "shapedefaults": {
           "line": {
            "color": "#2a3f5f"
           }
          },
          "ternary": {
           "aaxis": {
            "gridcolor": "white",
            "linecolor": "white",
            "ticks": ""
           },
           "baxis": {
            "gridcolor": "white",
            "linecolor": "white",
            "ticks": ""
           },
           "bgcolor": "#E5ECF6",
           "caxis": {
            "gridcolor": "white",
            "linecolor": "white",
            "ticks": ""
           }
          },
          "title": {
           "x": 0.05
          },
          "xaxis": {
           "automargin": true,
           "gridcolor": "white",
           "linecolor": "white",
           "ticks": "",
           "title": {
            "standoff": 15
           },
           "zerolinecolor": "white",
           "zerolinewidth": 2
          },
          "yaxis": {
           "automargin": true,
           "gridcolor": "white",
           "linecolor": "white",
           "ticks": "",
           "title": {
            "standoff": 15
           },
           "zerolinecolor": "white",
           "zerolinewidth": 2
          }
         }
        },
        "title": {
         "text": "강원 월별 매출"
        },
        "xaxis": {
         "anchor": "y",
         "domain": [
          0,
          1
         ],
         "title": {
          "text": "month"
         }
        },
        "yaxis": {
         "anchor": "x",
         "domain": [
          0,
          1
         ],
         "title": {
          "text": "value"
         }
        }
       }
      }
     },
     "metadata": {}
    }
   ],
   "metadata": {}
  },
  {
   "cell_type": "code",
   "execution_count": 20,
   "source": [
    "region_month_sales('부산','month') "
   ],
   "outputs": [
    {
     "output_type": "display_data",
     "data": {
      "application/vnd.plotly.v1+json": {
       "config": {
        "plotlyServerURL": "https://plot.ly"
       },
       "data": [
        {
         "hovertemplate": "variable=amount_small<br>month=%{x}<br>value=%{y}<extra></extra>",
         "legendgroup": "amount_small",
         "line": {
          "color": "#636efa",
          "dash": "solid"
         },
         "marker": {
          "symbol": "circle"
         },
         "mode": "lines",
         "name": "amount_small",
         "orientation": "v",
         "showlegend": true,
         "type": "scatter",
         "x": [
          1,
          2,
          3,
          4,
          5,
          6,
          7,
          8,
          9,
          10,
          11,
          12
         ],
         "xaxis": "x",
         "y": [
          351.97040642857144,
          338.57091585714284,
          266.2181467142857,
          267.921176,
          283.19302714285715,
          372.76703385714285,
          368.35862457142855,
          384.85238514285714,
          358.45460028571426,
          355.19338457142857,
          349.82988814285716,
          379.2089975714286
         ],
         "yaxis": "y"
        }
       ],
       "layout": {
        "legend": {
         "title": {
          "text": "variable"
         },
         "tracegroupgap": 0
        },
        "template": {
         "data": {
          "bar": [
           {
            "error_x": {
             "color": "#2a3f5f"
            },
            "error_y": {
             "color": "#2a3f5f"
            },
            "marker": {
             "line": {
              "color": "#E5ECF6",
              "width": 0.5
             },
             "pattern": {
              "fillmode": "overlay",
              "size": 10,
              "solidity": 0.2
             }
            },
            "type": "bar"
           }
          ],
          "barpolar": [
           {
            "marker": {
             "line": {
              "color": "#E5ECF6",
              "width": 0.5
             },
             "pattern": {
              "fillmode": "overlay",
              "size": 10,
              "solidity": 0.2
             }
            },
            "type": "barpolar"
           }
          ],
          "carpet": [
           {
            "aaxis": {
             "endlinecolor": "#2a3f5f",
             "gridcolor": "white",
             "linecolor": "white",
             "minorgridcolor": "white",
             "startlinecolor": "#2a3f5f"
            },
            "baxis": {
             "endlinecolor": "#2a3f5f",
             "gridcolor": "white",
             "linecolor": "white",
             "minorgridcolor": "white",
             "startlinecolor": "#2a3f5f"
            },
            "type": "carpet"
           }
          ],
          "choropleth": [
           {
            "colorbar": {
             "outlinewidth": 0,
             "ticks": ""
            },
            "type": "choropleth"
           }
          ],
          "contour": [
           {
            "colorbar": {
             "outlinewidth": 0,
             "ticks": ""
            },
            "colorscale": [
             [
              0,
              "#0d0887"
             ],
             [
              0.1111111111111111,
              "#46039f"
             ],
             [
              0.2222222222222222,
              "#7201a8"
             ],
             [
              0.3333333333333333,
              "#9c179e"
             ],
             [
              0.4444444444444444,
              "#bd3786"
             ],
             [
              0.5555555555555556,
              "#d8576b"
             ],
             [
              0.6666666666666666,
              "#ed7953"
             ],
             [
              0.7777777777777778,
              "#fb9f3a"
             ],
             [
              0.8888888888888888,
              "#fdca26"
             ],
             [
              1,
              "#f0f921"
             ]
            ],
            "type": "contour"
           }
          ],
          "contourcarpet": [
           {
            "colorbar": {
             "outlinewidth": 0,
             "ticks": ""
            },
            "type": "contourcarpet"
           }
          ],
          "heatmap": [
           {
            "colorbar": {
             "outlinewidth": 0,
             "ticks": ""
            },
            "colorscale": [
             [
              0,
              "#0d0887"
             ],
             [
              0.1111111111111111,
              "#46039f"
             ],
             [
              0.2222222222222222,
              "#7201a8"
             ],
             [
              0.3333333333333333,
              "#9c179e"
             ],
             [
              0.4444444444444444,
              "#bd3786"
             ],
             [
              0.5555555555555556,
              "#d8576b"
             ],
             [
              0.6666666666666666,
              "#ed7953"
             ],
             [
              0.7777777777777778,
              "#fb9f3a"
             ],
             [
              0.8888888888888888,
              "#fdca26"
             ],
             [
              1,
              "#f0f921"
             ]
            ],
            "type": "heatmap"
           }
          ],
          "heatmapgl": [
           {
            "colorbar": {
             "outlinewidth": 0,
             "ticks": ""
            },
            "colorscale": [
             [
              0,
              "#0d0887"
             ],
             [
              0.1111111111111111,
              "#46039f"
             ],
             [
              0.2222222222222222,
              "#7201a8"
             ],
             [
              0.3333333333333333,
              "#9c179e"
             ],
             [
              0.4444444444444444,
              "#bd3786"
             ],
             [
              0.5555555555555556,
              "#d8576b"
             ],
             [
              0.6666666666666666,
              "#ed7953"
             ],
             [
              0.7777777777777778,
              "#fb9f3a"
             ],
             [
              0.8888888888888888,
              "#fdca26"
             ],
             [
              1,
              "#f0f921"
             ]
            ],
            "type": "heatmapgl"
           }
          ],
          "histogram": [
           {
            "marker": {
             "pattern": {
              "fillmode": "overlay",
              "size": 10,
              "solidity": 0.2
             }
            },
            "type": "histogram"
           }
          ],
          "histogram2d": [
           {
            "colorbar": {
             "outlinewidth": 0,
             "ticks": ""
            },
            "colorscale": [
             [
              0,
              "#0d0887"
             ],
             [
              0.1111111111111111,
              "#46039f"
             ],
             [
              0.2222222222222222,
              "#7201a8"
             ],
             [
              0.3333333333333333,
              "#9c179e"
             ],
             [
              0.4444444444444444,
              "#bd3786"
             ],
             [
              0.5555555555555556,
              "#d8576b"
             ],
             [
              0.6666666666666666,
              "#ed7953"
             ],
             [
              0.7777777777777778,
              "#fb9f3a"
             ],
             [
              0.8888888888888888,
              "#fdca26"
             ],
             [
              1,
              "#f0f921"
             ]
            ],
            "type": "histogram2d"
           }
          ],
          "histogram2dcontour": [
           {
            "colorbar": {
             "outlinewidth": 0,
             "ticks": ""
            },
            "colorscale": [
             [
              0,
              "#0d0887"
             ],
             [
              0.1111111111111111,
              "#46039f"
             ],
             [
              0.2222222222222222,
              "#7201a8"
             ],
             [
              0.3333333333333333,
              "#9c179e"
             ],
             [
              0.4444444444444444,
              "#bd3786"
             ],
             [
              0.5555555555555556,
              "#d8576b"
             ],
             [
              0.6666666666666666,
              "#ed7953"
             ],
             [
              0.7777777777777778,
              "#fb9f3a"
             ],
             [
              0.8888888888888888,
              "#fdca26"
             ],
             [
              1,
              "#f0f921"
             ]
            ],
            "type": "histogram2dcontour"
           }
          ],
          "mesh3d": [
           {
            "colorbar": {
             "outlinewidth": 0,
             "ticks": ""
            },
            "type": "mesh3d"
           }
          ],
          "parcoords": [
           {
            "line": {
             "colorbar": {
              "outlinewidth": 0,
              "ticks": ""
             }
            },
            "type": "parcoords"
           }
          ],
          "pie": [
           {
            "automargin": true,
            "type": "pie"
           }
          ],
          "scatter": [
           {
            "marker": {
             "colorbar": {
              "outlinewidth": 0,
              "ticks": ""
             }
            },
            "type": "scatter"
           }
          ],
          "scatter3d": [
           {
            "line": {
             "colorbar": {
              "outlinewidth": 0,
              "ticks": ""
             }
            },
            "marker": {
             "colorbar": {
              "outlinewidth": 0,
              "ticks": ""
             }
            },
            "type": "scatter3d"
           }
          ],
          "scattercarpet": [
           {
            "marker": {
             "colorbar": {
              "outlinewidth": 0,
              "ticks": ""
             }
            },
            "type": "scattercarpet"
           }
          ],
          "scattergeo": [
           {
            "marker": {
             "colorbar": {
              "outlinewidth": 0,
              "ticks": ""
             }
            },
            "type": "scattergeo"
           }
          ],
          "scattergl": [
           {
            "marker": {
             "colorbar": {
              "outlinewidth": 0,
              "ticks": ""
             }
            },
            "type": "scattergl"
           }
          ],
          "scattermapbox": [
           {
            "marker": {
             "colorbar": {
              "outlinewidth": 0,
              "ticks": ""
             }
            },
            "type": "scattermapbox"
           }
          ],
          "scatterpolar": [
           {
            "marker": {
             "colorbar": {
              "outlinewidth": 0,
              "ticks": ""
             }
            },
            "type": "scatterpolar"
           }
          ],
          "scatterpolargl": [
           {
            "marker": {
             "colorbar": {
              "outlinewidth": 0,
              "ticks": ""
             }
            },
            "type": "scatterpolargl"
           }
          ],
          "scatterternary": [
           {
            "marker": {
             "colorbar": {
              "outlinewidth": 0,
              "ticks": ""
             }
            },
            "type": "scatterternary"
           }
          ],
          "surface": [
           {
            "colorbar": {
             "outlinewidth": 0,
             "ticks": ""
            },
            "colorscale": [
             [
              0,
              "#0d0887"
             ],
             [
              0.1111111111111111,
              "#46039f"
             ],
             [
              0.2222222222222222,
              "#7201a8"
             ],
             [
              0.3333333333333333,
              "#9c179e"
             ],
             [
              0.4444444444444444,
              "#bd3786"
             ],
             [
              0.5555555555555556,
              "#d8576b"
             ],
             [
              0.6666666666666666,
              "#ed7953"
             ],
             [
              0.7777777777777778,
              "#fb9f3a"
             ],
             [
              0.8888888888888888,
              "#fdca26"
             ],
             [
              1,
              "#f0f921"
             ]
            ],
            "type": "surface"
           }
          ],
          "table": [
           {
            "cells": {
             "fill": {
              "color": "#EBF0F8"
             },
             "line": {
              "color": "white"
             }
            },
            "header": {
             "fill": {
              "color": "#C8D4E3"
             },
             "line": {
              "color": "white"
             }
            },
            "type": "table"
           }
          ]
         },
         "layout": {
          "annotationdefaults": {
           "arrowcolor": "#2a3f5f",
           "arrowhead": 0,
           "arrowwidth": 1
          },
          "autotypenumbers": "strict",
          "coloraxis": {
           "colorbar": {
            "outlinewidth": 0,
            "ticks": ""
           }
          },
          "colorscale": {
           "diverging": [
            [
             0,
             "#8e0152"
            ],
            [
             0.1,
             "#c51b7d"
            ],
            [
             0.2,
             "#de77ae"
            ],
            [
             0.3,
             "#f1b6da"
            ],
            [
             0.4,
             "#fde0ef"
            ],
            [
             0.5,
             "#f7f7f7"
            ],
            [
             0.6,
             "#e6f5d0"
            ],
            [
             0.7,
             "#b8e186"
            ],
            [
             0.8,
             "#7fbc41"
            ],
            [
             0.9,
             "#4d9221"
            ],
            [
             1,
             "#276419"
            ]
           ],
           "sequential": [
            [
             0,
             "#0d0887"
            ],
            [
             0.1111111111111111,
             "#46039f"
            ],
            [
             0.2222222222222222,
             "#7201a8"
            ],
            [
             0.3333333333333333,
             "#9c179e"
            ],
            [
             0.4444444444444444,
             "#bd3786"
            ],
            [
             0.5555555555555556,
             "#d8576b"
            ],
            [
             0.6666666666666666,
             "#ed7953"
            ],
            [
             0.7777777777777778,
             "#fb9f3a"
            ],
            [
             0.8888888888888888,
             "#fdca26"
            ],
            [
             1,
             "#f0f921"
            ]
           ],
           "sequentialminus": [
            [
             0,
             "#0d0887"
            ],
            [
             0.1111111111111111,
             "#46039f"
            ],
            [
             0.2222222222222222,
             "#7201a8"
            ],
            [
             0.3333333333333333,
             "#9c179e"
            ],
            [
             0.4444444444444444,
             "#bd3786"
            ],
            [
             0.5555555555555556,
             "#d8576b"
            ],
            [
             0.6666666666666666,
             "#ed7953"
            ],
            [
             0.7777777777777778,
             "#fb9f3a"
            ],
            [
             0.8888888888888888,
             "#fdca26"
            ],
            [
             1,
             "#f0f921"
            ]
           ]
          },
          "colorway": [
           "#636efa",
           "#EF553B",
           "#00cc96",
           "#ab63fa",
           "#FFA15A",
           "#19d3f3",
           "#FF6692",
           "#B6E880",
           "#FF97FF",
           "#FECB52"
          ],
          "font": {
           "color": "#2a3f5f"
          },
          "geo": {
           "bgcolor": "white",
           "lakecolor": "white",
           "landcolor": "#E5ECF6",
           "showlakes": true,
           "showland": true,
           "subunitcolor": "white"
          },
          "hoverlabel": {
           "align": "left"
          },
          "hovermode": "closest",
          "mapbox": {
           "style": "light"
          },
          "paper_bgcolor": "white",
          "plot_bgcolor": "#E5ECF6",
          "polar": {
           "angularaxis": {
            "gridcolor": "white",
            "linecolor": "white",
            "ticks": ""
           },
           "bgcolor": "#E5ECF6",
           "radialaxis": {
            "gridcolor": "white",
            "linecolor": "white",
            "ticks": ""
           }
          },
          "scene": {
           "xaxis": {
            "backgroundcolor": "#E5ECF6",
            "gridcolor": "white",
            "gridwidth": 2,
            "linecolor": "white",
            "showbackground": true,
            "ticks": "",
            "zerolinecolor": "white"
           },
           "yaxis": {
            "backgroundcolor": "#E5ECF6",
            "gridcolor": "white",
            "gridwidth": 2,
            "linecolor": "white",
            "showbackground": true,
            "ticks": "",
            "zerolinecolor": "white"
           },
           "zaxis": {
            "backgroundcolor": "#E5ECF6",
            "gridcolor": "white",
            "gridwidth": 2,
            "linecolor": "white",
            "showbackground": true,
            "ticks": "",
            "zerolinecolor": "white"
           }
          },
          "shapedefaults": {
           "line": {
            "color": "#2a3f5f"
           }
          },
          "ternary": {
           "aaxis": {
            "gridcolor": "white",
            "linecolor": "white",
            "ticks": ""
           },
           "baxis": {
            "gridcolor": "white",
            "linecolor": "white",
            "ticks": ""
           },
           "bgcolor": "#E5ECF6",
           "caxis": {
            "gridcolor": "white",
            "linecolor": "white",
            "ticks": ""
           }
          },
          "title": {
           "x": 0.05
          },
          "xaxis": {
           "automargin": true,
           "gridcolor": "white",
           "linecolor": "white",
           "ticks": "",
           "title": {
            "standoff": 15
           },
           "zerolinecolor": "white",
           "zerolinewidth": 2
          },
          "yaxis": {
           "automargin": true,
           "gridcolor": "white",
           "linecolor": "white",
           "ticks": "",
           "title": {
            "standoff": 15
           },
           "zerolinecolor": "white",
           "zerolinewidth": 2
          }
         }
        },
        "title": {
         "text": "부산 월별 매출"
        },
        "xaxis": {
         "anchor": "y",
         "domain": [
          0,
          1
         ],
         "title": {
          "text": "month"
         }
        },
        "yaxis": {
         "anchor": "x",
         "domain": [
          0,
          1
         ],
         "title": {
          "text": "value"
         }
        }
       }
      }
     },
     "metadata": {}
    }
   ],
   "metadata": {}
  },
  {
   "cell_type": "code",
   "execution_count": 27,
   "source": [
    "region_month_sales('제주','month') "
   ],
   "outputs": [
    {
     "output_type": "display_data",
     "data": {
      "application/vnd.plotly.v1+json": {
       "config": {
        "plotlyServerURL": "https://plot.ly"
       },
       "data": [
        {
         "hovertemplate": "variable=amount_small<br>month=%{x}<br>value=%{y}<extra></extra>",
         "legendgroup": "amount_small",
         "line": {
          "color": "#636efa",
          "dash": "solid"
         },
         "marker": {
          "symbol": "circle"
         },
         "mode": "lines",
         "name": "amount_small",
         "orientation": "v",
         "showlegend": true,
         "type": "scatter",
         "x": [
          1,
          2,
          3,
          4,
          5,
          6,
          7,
          8,
          9,
          10,
          11,
          12
         ],
         "xaxis": "x",
         "y": [
          77.20975357142858,
          74.50254385714285,
          54.9789,
          56.13926857142857,
          60.07631714285714,
          84.60053128571428,
          87.39413171428572,
          85.43122271428571,
          81.80961028571429,
          81.84154857142858,
          78.08485285714286,
          81.26790857142858
         ],
         "yaxis": "y"
        }
       ],
       "layout": {
        "legend": {
         "title": {
          "text": "variable"
         },
         "tracegroupgap": 0
        },
        "template": {
         "data": {
          "bar": [
           {
            "error_x": {
             "color": "#2a3f5f"
            },
            "error_y": {
             "color": "#2a3f5f"
            },
            "marker": {
             "line": {
              "color": "#E5ECF6",
              "width": 0.5
             },
             "pattern": {
              "fillmode": "overlay",
              "size": 10,
              "solidity": 0.2
             }
            },
            "type": "bar"
           }
          ],
          "barpolar": [
           {
            "marker": {
             "line": {
              "color": "#E5ECF6",
              "width": 0.5
             },
             "pattern": {
              "fillmode": "overlay",
              "size": 10,
              "solidity": 0.2
             }
            },
            "type": "barpolar"
           }
          ],
          "carpet": [
           {
            "aaxis": {
             "endlinecolor": "#2a3f5f",
             "gridcolor": "white",
             "linecolor": "white",
             "minorgridcolor": "white",
             "startlinecolor": "#2a3f5f"
            },
            "baxis": {
             "endlinecolor": "#2a3f5f",
             "gridcolor": "white",
             "linecolor": "white",
             "minorgridcolor": "white",
             "startlinecolor": "#2a3f5f"
            },
            "type": "carpet"
           }
          ],
          "choropleth": [
           {
            "colorbar": {
             "outlinewidth": 0,
             "ticks": ""
            },
            "type": "choropleth"
           }
          ],
          "contour": [
           {
            "colorbar": {
             "outlinewidth": 0,
             "ticks": ""
            },
            "colorscale": [
             [
              0,
              "#0d0887"
             ],
             [
              0.1111111111111111,
              "#46039f"
             ],
             [
              0.2222222222222222,
              "#7201a8"
             ],
             [
              0.3333333333333333,
              "#9c179e"
             ],
             [
              0.4444444444444444,
              "#bd3786"
             ],
             [
              0.5555555555555556,
              "#d8576b"
             ],
             [
              0.6666666666666666,
              "#ed7953"
             ],
             [
              0.7777777777777778,
              "#fb9f3a"
             ],
             [
              0.8888888888888888,
              "#fdca26"
             ],
             [
              1,
              "#f0f921"
             ]
            ],
            "type": "contour"
           }
          ],
          "contourcarpet": [
           {
            "colorbar": {
             "outlinewidth": 0,
             "ticks": ""
            },
            "type": "contourcarpet"
           }
          ],
          "heatmap": [
           {
            "colorbar": {
             "outlinewidth": 0,
             "ticks": ""
            },
            "colorscale": [
             [
              0,
              "#0d0887"
             ],
             [
              0.1111111111111111,
              "#46039f"
             ],
             [
              0.2222222222222222,
              "#7201a8"
             ],
             [
              0.3333333333333333,
              "#9c179e"
             ],
             [
              0.4444444444444444,
              "#bd3786"
             ],
             [
              0.5555555555555556,
              "#d8576b"
             ],
             [
              0.6666666666666666,
              "#ed7953"
             ],
             [
              0.7777777777777778,
              "#fb9f3a"
             ],
             [
              0.8888888888888888,
              "#fdca26"
             ],
             [
              1,
              "#f0f921"
             ]
            ],
            "type": "heatmap"
           }
          ],
          "heatmapgl": [
           {
            "colorbar": {
             "outlinewidth": 0,
             "ticks": ""
            },
            "colorscale": [
             [
              0,
              "#0d0887"
             ],
             [
              0.1111111111111111,
              "#46039f"
             ],
             [
              0.2222222222222222,
              "#7201a8"
             ],
             [
              0.3333333333333333,
              "#9c179e"
             ],
             [
              0.4444444444444444,
              "#bd3786"
             ],
             [
              0.5555555555555556,
              "#d8576b"
             ],
             [
              0.6666666666666666,
              "#ed7953"
             ],
             [
              0.7777777777777778,
              "#fb9f3a"
             ],
             [
              0.8888888888888888,
              "#fdca26"
             ],
             [
              1,
              "#f0f921"
             ]
            ],
            "type": "heatmapgl"
           }
          ],
          "histogram": [
           {
            "marker": {
             "pattern": {
              "fillmode": "overlay",
              "size": 10,
              "solidity": 0.2
             }
            },
            "type": "histogram"
           }
          ],
          "histogram2d": [
           {
            "colorbar": {
             "outlinewidth": 0,
             "ticks": ""
            },
            "colorscale": [
             [
              0,
              "#0d0887"
             ],
             [
              0.1111111111111111,
              "#46039f"
             ],
             [
              0.2222222222222222,
              "#7201a8"
             ],
             [
              0.3333333333333333,
              "#9c179e"
             ],
             [
              0.4444444444444444,
              "#bd3786"
             ],
             [
              0.5555555555555556,
              "#d8576b"
             ],
             [
              0.6666666666666666,
              "#ed7953"
             ],
             [
              0.7777777777777778,
              "#fb9f3a"
             ],
             [
              0.8888888888888888,
              "#fdca26"
             ],
             [
              1,
              "#f0f921"
             ]
            ],
            "type": "histogram2d"
           }
          ],
          "histogram2dcontour": [
           {
            "colorbar": {
             "outlinewidth": 0,
             "ticks": ""
            },
            "colorscale": [
             [
              0,
              "#0d0887"
             ],
             [
              0.1111111111111111,
              "#46039f"
             ],
             [
              0.2222222222222222,
              "#7201a8"
             ],
             [
              0.3333333333333333,
              "#9c179e"
             ],
             [
              0.4444444444444444,
              "#bd3786"
             ],
             [
              0.5555555555555556,
              "#d8576b"
             ],
             [
              0.6666666666666666,
              "#ed7953"
             ],
             [
              0.7777777777777778,
              "#fb9f3a"
             ],
             [
              0.8888888888888888,
              "#fdca26"
             ],
             [
              1,
              "#f0f921"
             ]
            ],
            "type": "histogram2dcontour"
           }
          ],
          "mesh3d": [
           {
            "colorbar": {
             "outlinewidth": 0,
             "ticks": ""
            },
            "type": "mesh3d"
           }
          ],
          "parcoords": [
           {
            "line": {
             "colorbar": {
              "outlinewidth": 0,
              "ticks": ""
             }
            },
            "type": "parcoords"
           }
          ],
          "pie": [
           {
            "automargin": true,
            "type": "pie"
           }
          ],
          "scatter": [
           {
            "marker": {
             "colorbar": {
              "outlinewidth": 0,
              "ticks": ""
             }
            },
            "type": "scatter"
           }
          ],
          "scatter3d": [
           {
            "line": {
             "colorbar": {
              "outlinewidth": 0,
              "ticks": ""
             }
            },
            "marker": {
             "colorbar": {
              "outlinewidth": 0,
              "ticks": ""
             }
            },
            "type": "scatter3d"
           }
          ],
          "scattercarpet": [
           {
            "marker": {
             "colorbar": {
              "outlinewidth": 0,
              "ticks": ""
             }
            },
            "type": "scattercarpet"
           }
          ],
          "scattergeo": [
           {
            "marker": {
             "colorbar": {
              "outlinewidth": 0,
              "ticks": ""
             }
            },
            "type": "scattergeo"
           }
          ],
          "scattergl": [
           {
            "marker": {
             "colorbar": {
              "outlinewidth": 0,
              "ticks": ""
             }
            },
            "type": "scattergl"
           }
          ],
          "scattermapbox": [
           {
            "marker": {
             "colorbar": {
              "outlinewidth": 0,
              "ticks": ""
             }
            },
            "type": "scattermapbox"
           }
          ],
          "scatterpolar": [
           {
            "marker": {
             "colorbar": {
              "outlinewidth": 0,
              "ticks": ""
             }
            },
            "type": "scatterpolar"
           }
          ],
          "scatterpolargl": [
           {
            "marker": {
             "colorbar": {
              "outlinewidth": 0,
              "ticks": ""
             }
            },
            "type": "scatterpolargl"
           }
          ],
          "scatterternary": [
           {
            "marker": {
             "colorbar": {
              "outlinewidth": 0,
              "ticks": ""
             }
            },
            "type": "scatterternary"
           }
          ],
          "surface": [
           {
            "colorbar": {
             "outlinewidth": 0,
             "ticks": ""
            },
            "colorscale": [
             [
              0,
              "#0d0887"
             ],
             [
              0.1111111111111111,
              "#46039f"
             ],
             [
              0.2222222222222222,
              "#7201a8"
             ],
             [
              0.3333333333333333,
              "#9c179e"
             ],
             [
              0.4444444444444444,
              "#bd3786"
             ],
             [
              0.5555555555555556,
              "#d8576b"
             ],
             [
              0.6666666666666666,
              "#ed7953"
             ],
             [
              0.7777777777777778,
              "#fb9f3a"
             ],
             [
              0.8888888888888888,
              "#fdca26"
             ],
             [
              1,
              "#f0f921"
             ]
            ],
            "type": "surface"
           }
          ],
          "table": [
           {
            "cells": {
             "fill": {
              "color": "#EBF0F8"
             },
             "line": {
              "color": "white"
             }
            },
            "header": {
             "fill": {
              "color": "#C8D4E3"
             },
             "line": {
              "color": "white"
             }
            },
            "type": "table"
           }
          ]
         },
         "layout": {
          "annotationdefaults": {
           "arrowcolor": "#2a3f5f",
           "arrowhead": 0,
           "arrowwidth": 1
          },
          "autotypenumbers": "strict",
          "coloraxis": {
           "colorbar": {
            "outlinewidth": 0,
            "ticks": ""
           }
          },
          "colorscale": {
           "diverging": [
            [
             0,
             "#8e0152"
            ],
            [
             0.1,
             "#c51b7d"
            ],
            [
             0.2,
             "#de77ae"
            ],
            [
             0.3,
             "#f1b6da"
            ],
            [
             0.4,
             "#fde0ef"
            ],
            [
             0.5,
             "#f7f7f7"
            ],
            [
             0.6,
             "#e6f5d0"
            ],
            [
             0.7,
             "#b8e186"
            ],
            [
             0.8,
             "#7fbc41"
            ],
            [
             0.9,
             "#4d9221"
            ],
            [
             1,
             "#276419"
            ]
           ],
           "sequential": [
            [
             0,
             "#0d0887"
            ],
            [
             0.1111111111111111,
             "#46039f"
            ],
            [
             0.2222222222222222,
             "#7201a8"
            ],
            [
             0.3333333333333333,
             "#9c179e"
            ],
            [
             0.4444444444444444,
             "#bd3786"
            ],
            [
             0.5555555555555556,
             "#d8576b"
            ],
            [
             0.6666666666666666,
             "#ed7953"
            ],
            [
             0.7777777777777778,
             "#fb9f3a"
            ],
            [
             0.8888888888888888,
             "#fdca26"
            ],
            [
             1,
             "#f0f921"
            ]
           ],
           "sequentialminus": [
            [
             0,
             "#0d0887"
            ],
            [
             0.1111111111111111,
             "#46039f"
            ],
            [
             0.2222222222222222,
             "#7201a8"
            ],
            [
             0.3333333333333333,
             "#9c179e"
            ],
            [
             0.4444444444444444,
             "#bd3786"
            ],
            [
             0.5555555555555556,
             "#d8576b"
            ],
            [
             0.6666666666666666,
             "#ed7953"
            ],
            [
             0.7777777777777778,
             "#fb9f3a"
            ],
            [
             0.8888888888888888,
             "#fdca26"
            ],
            [
             1,
             "#f0f921"
            ]
           ]
          },
          "colorway": [
           "#636efa",
           "#EF553B",
           "#00cc96",
           "#ab63fa",
           "#FFA15A",
           "#19d3f3",
           "#FF6692",
           "#B6E880",
           "#FF97FF",
           "#FECB52"
          ],
          "font": {
           "color": "#2a3f5f"
          },
          "geo": {
           "bgcolor": "white",
           "lakecolor": "white",
           "landcolor": "#E5ECF6",
           "showlakes": true,
           "showland": true,
           "subunitcolor": "white"
          },
          "hoverlabel": {
           "align": "left"
          },
          "hovermode": "closest",
          "mapbox": {
           "style": "light"
          },
          "paper_bgcolor": "white",
          "plot_bgcolor": "#E5ECF6",
          "polar": {
           "angularaxis": {
            "gridcolor": "white",
            "linecolor": "white",
            "ticks": ""
           },
           "bgcolor": "#E5ECF6",
           "radialaxis": {
            "gridcolor": "white",
            "linecolor": "white",
            "ticks": ""
           }
          },
          "scene": {
           "xaxis": {
            "backgroundcolor": "#E5ECF6",
            "gridcolor": "white",
            "gridwidth": 2,
            "linecolor": "white",
            "showbackground": true,
            "ticks": "",
            "zerolinecolor": "white"
           },
           "yaxis": {
            "backgroundcolor": "#E5ECF6",
            "gridcolor": "white",
            "gridwidth": 2,
            "linecolor": "white",
            "showbackground": true,
            "ticks": "",
            "zerolinecolor": "white"
           },
           "zaxis": {
            "backgroundcolor": "#E5ECF6",
            "gridcolor": "white",
            "gridwidth": 2,
            "linecolor": "white",
            "showbackground": true,
            "ticks": "",
            "zerolinecolor": "white"
           }
          },
          "shapedefaults": {
           "line": {
            "color": "#2a3f5f"
           }
          },
          "ternary": {
           "aaxis": {
            "gridcolor": "white",
            "linecolor": "white",
            "ticks": ""
           },
           "baxis": {
            "gridcolor": "white",
            "linecolor": "white",
            "ticks": ""
           },
           "bgcolor": "#E5ECF6",
           "caxis": {
            "gridcolor": "white",
            "linecolor": "white",
            "ticks": ""
           }
          },
          "title": {
           "x": 0.05
          },
          "xaxis": {
           "automargin": true,
           "gridcolor": "white",
           "linecolor": "white",
           "ticks": "",
           "title": {
            "standoff": 15
           },
           "zerolinecolor": "white",
           "zerolinewidth": 2
          },
          "yaxis": {
           "automargin": true,
           "gridcolor": "white",
           "linecolor": "white",
           "ticks": "",
           "title": {
            "standoff": 15
           },
           "zerolinecolor": "white",
           "zerolinewidth": 2
          }
         }
        },
        "title": {
         "text": "제주 월별 매출"
        },
        "xaxis": {
         "anchor": "y",
         "domain": [
          0,
          1
         ],
         "title": {
          "text": "month"
         }
        },
        "yaxis": {
         "anchor": "x",
         "domain": [
          0,
          1
         ],
         "title": {
          "text": "value"
         }
        }
       }
      }
     },
     "metadata": {}
    }
   ],
   "metadata": {}
  },
  {
   "cell_type": "code",
   "execution_count": 34,
   "source": [
    "region_month_sales('경기','month') "
   ],
   "outputs": [
    {
     "output_type": "display_data",
     "data": {
      "application/vnd.plotly.v1+json": {
       "config": {
        "plotlyServerURL": "https://plot.ly"
       },
       "data": [
        {
         "hovertemplate": "variable=amount_small<br>month=%{x}<br>value=%{y}<extra></extra>",
         "legendgroup": "amount_small",
         "line": {
          "color": "#636efa",
          "dash": "solid"
         },
         "marker": {
          "symbol": "circle"
         },
         "mode": "lines",
         "name": "amount_small",
         "orientation": "v",
         "showlegend": true,
         "type": "scatter",
         "x": [
          1,
          2,
          3,
          4,
          5,
          6,
          7,
          8,
          9,
          10,
          11,
          12
         ],
         "xaxis": "x",
         "y": [
          963.0166417142857,
          904.3529168571429,
          708.5700541428572,
          678.3031488571429,
          716.0740767142858,
          952.35276,
          999.4185161428571,
          956.2859662857143,
          926.4356914285714,
          948.0200208571429,
          944.5095007142858,
          1026.328341857143
         ],
         "yaxis": "y"
        }
       ],
       "layout": {
        "legend": {
         "title": {
          "text": "variable"
         },
         "tracegroupgap": 0
        },
        "template": {
         "data": {
          "bar": [
           {
            "error_x": {
             "color": "#2a3f5f"
            },
            "error_y": {
             "color": "#2a3f5f"
            },
            "marker": {
             "line": {
              "color": "#E5ECF6",
              "width": 0.5
             },
             "pattern": {
              "fillmode": "overlay",
              "size": 10,
              "solidity": 0.2
             }
            },
            "type": "bar"
           }
          ],
          "barpolar": [
           {
            "marker": {
             "line": {
              "color": "#E5ECF6",
              "width": 0.5
             },
             "pattern": {
              "fillmode": "overlay",
              "size": 10,
              "solidity": 0.2
             }
            },
            "type": "barpolar"
           }
          ],
          "carpet": [
           {
            "aaxis": {
             "endlinecolor": "#2a3f5f",
             "gridcolor": "white",
             "linecolor": "white",
             "minorgridcolor": "white",
             "startlinecolor": "#2a3f5f"
            },
            "baxis": {
             "endlinecolor": "#2a3f5f",
             "gridcolor": "white",
             "linecolor": "white",
             "minorgridcolor": "white",
             "startlinecolor": "#2a3f5f"
            },
            "type": "carpet"
           }
          ],
          "choropleth": [
           {
            "colorbar": {
             "outlinewidth": 0,
             "ticks": ""
            },
            "type": "choropleth"
           }
          ],
          "contour": [
           {
            "colorbar": {
             "outlinewidth": 0,
             "ticks": ""
            },
            "colorscale": [
             [
              0,
              "#0d0887"
             ],
             [
              0.1111111111111111,
              "#46039f"
             ],
             [
              0.2222222222222222,
              "#7201a8"
             ],
             [
              0.3333333333333333,
              "#9c179e"
             ],
             [
              0.4444444444444444,
              "#bd3786"
             ],
             [
              0.5555555555555556,
              "#d8576b"
             ],
             [
              0.6666666666666666,
              "#ed7953"
             ],
             [
              0.7777777777777778,
              "#fb9f3a"
             ],
             [
              0.8888888888888888,
              "#fdca26"
             ],
             [
              1,
              "#f0f921"
             ]
            ],
            "type": "contour"
           }
          ],
          "contourcarpet": [
           {
            "colorbar": {
             "outlinewidth": 0,
             "ticks": ""
            },
            "type": "contourcarpet"
           }
          ],
          "heatmap": [
           {
            "colorbar": {
             "outlinewidth": 0,
             "ticks": ""
            },
            "colorscale": [
             [
              0,
              "#0d0887"
             ],
             [
              0.1111111111111111,
              "#46039f"
             ],
             [
              0.2222222222222222,
              "#7201a8"
             ],
             [
              0.3333333333333333,
              "#9c179e"
             ],
             [
              0.4444444444444444,
              "#bd3786"
             ],
             [
              0.5555555555555556,
              "#d8576b"
             ],
             [
              0.6666666666666666,
              "#ed7953"
             ],
             [
              0.7777777777777778,
              "#fb9f3a"
             ],
             [
              0.8888888888888888,
              "#fdca26"
             ],
             [
              1,
              "#f0f921"
             ]
            ],
            "type": "heatmap"
           }
          ],
          "heatmapgl": [
           {
            "colorbar": {
             "outlinewidth": 0,
             "ticks": ""
            },
            "colorscale": [
             [
              0,
              "#0d0887"
             ],
             [
              0.1111111111111111,
              "#46039f"
             ],
             [
              0.2222222222222222,
              "#7201a8"
             ],
             [
              0.3333333333333333,
              "#9c179e"
             ],
             [
              0.4444444444444444,
              "#bd3786"
             ],
             [
              0.5555555555555556,
              "#d8576b"
             ],
             [
              0.6666666666666666,
              "#ed7953"
             ],
             [
              0.7777777777777778,
              "#fb9f3a"
             ],
             [
              0.8888888888888888,
              "#fdca26"
             ],
             [
              1,
              "#f0f921"
             ]
            ],
            "type": "heatmapgl"
           }
          ],
          "histogram": [
           {
            "marker": {
             "pattern": {
              "fillmode": "overlay",
              "size": 10,
              "solidity": 0.2
             }
            },
            "type": "histogram"
           }
          ],
          "histogram2d": [
           {
            "colorbar": {
             "outlinewidth": 0,
             "ticks": ""
            },
            "colorscale": [
             [
              0,
              "#0d0887"
             ],
             [
              0.1111111111111111,
              "#46039f"
             ],
             [
              0.2222222222222222,
              "#7201a8"
             ],
             [
              0.3333333333333333,
              "#9c179e"
             ],
             [
              0.4444444444444444,
              "#bd3786"
             ],
             [
              0.5555555555555556,
              "#d8576b"
             ],
             [
              0.6666666666666666,
              "#ed7953"
             ],
             [
              0.7777777777777778,
              "#fb9f3a"
             ],
             [
              0.8888888888888888,
              "#fdca26"
             ],
             [
              1,
              "#f0f921"
             ]
            ],
            "type": "histogram2d"
           }
          ],
          "histogram2dcontour": [
           {
            "colorbar": {
             "outlinewidth": 0,
             "ticks": ""
            },
            "colorscale": [
             [
              0,
              "#0d0887"
             ],
             [
              0.1111111111111111,
              "#46039f"
             ],
             [
              0.2222222222222222,
              "#7201a8"
             ],
             [
              0.3333333333333333,
              "#9c179e"
             ],
             [
              0.4444444444444444,
              "#bd3786"
             ],
             [
              0.5555555555555556,
              "#d8576b"
             ],
             [
              0.6666666666666666,
              "#ed7953"
             ],
             [
              0.7777777777777778,
              "#fb9f3a"
             ],
             [
              0.8888888888888888,
              "#fdca26"
             ],
             [
              1,
              "#f0f921"
             ]
            ],
            "type": "histogram2dcontour"
           }
          ],
          "mesh3d": [
           {
            "colorbar": {
             "outlinewidth": 0,
             "ticks": ""
            },
            "type": "mesh3d"
           }
          ],
          "parcoords": [
           {
            "line": {
             "colorbar": {
              "outlinewidth": 0,
              "ticks": ""
             }
            },
            "type": "parcoords"
           }
          ],
          "pie": [
           {
            "automargin": true,
            "type": "pie"
           }
          ],
          "scatter": [
           {
            "marker": {
             "colorbar": {
              "outlinewidth": 0,
              "ticks": ""
             }
            },
            "type": "scatter"
           }
          ],
          "scatter3d": [
           {
            "line": {
             "colorbar": {
              "outlinewidth": 0,
              "ticks": ""
             }
            },
            "marker": {
             "colorbar": {
              "outlinewidth": 0,
              "ticks": ""
             }
            },
            "type": "scatter3d"
           }
          ],
          "scattercarpet": [
           {
            "marker": {
             "colorbar": {
              "outlinewidth": 0,
              "ticks": ""
             }
            },
            "type": "scattercarpet"
           }
          ],
          "scattergeo": [
           {
            "marker": {
             "colorbar": {
              "outlinewidth": 0,
              "ticks": ""
             }
            },
            "type": "scattergeo"
           }
          ],
          "scattergl": [
           {
            "marker": {
             "colorbar": {
              "outlinewidth": 0,
              "ticks": ""
             }
            },
            "type": "scattergl"
           }
          ],
          "scattermapbox": [
           {
            "marker": {
             "colorbar": {
              "outlinewidth": 0,
              "ticks": ""
             }
            },
            "type": "scattermapbox"
           }
          ],
          "scatterpolar": [
           {
            "marker": {
             "colorbar": {
              "outlinewidth": 0,
              "ticks": ""
             }
            },
            "type": "scatterpolar"
           }
          ],
          "scatterpolargl": [
           {
            "marker": {
             "colorbar": {
              "outlinewidth": 0,
              "ticks": ""
             }
            },
            "type": "scatterpolargl"
           }
          ],
          "scatterternary": [
           {
            "marker": {
             "colorbar": {
              "outlinewidth": 0,
              "ticks": ""
             }
            },
            "type": "scatterternary"
           }
          ],
          "surface": [
           {
            "colorbar": {
             "outlinewidth": 0,
             "ticks": ""
            },
            "colorscale": [
             [
              0,
              "#0d0887"
             ],
             [
              0.1111111111111111,
              "#46039f"
             ],
             [
              0.2222222222222222,
              "#7201a8"
             ],
             [
              0.3333333333333333,
              "#9c179e"
             ],
             [
              0.4444444444444444,
              "#bd3786"
             ],
             [
              0.5555555555555556,
              "#d8576b"
             ],
             [
              0.6666666666666666,
              "#ed7953"
             ],
             [
              0.7777777777777778,
              "#fb9f3a"
             ],
             [
              0.8888888888888888,
              "#fdca26"
             ],
             [
              1,
              "#f0f921"
             ]
            ],
            "type": "surface"
           }
          ],
          "table": [
           {
            "cells": {
             "fill": {
              "color": "#EBF0F8"
             },
             "line": {
              "color": "white"
             }
            },
            "header": {
             "fill": {
              "color": "#C8D4E3"
             },
             "line": {
              "color": "white"
             }
            },
            "type": "table"
           }
          ]
         },
         "layout": {
          "annotationdefaults": {
           "arrowcolor": "#2a3f5f",
           "arrowhead": 0,
           "arrowwidth": 1
          },
          "autotypenumbers": "strict",
          "coloraxis": {
           "colorbar": {
            "outlinewidth": 0,
            "ticks": ""
           }
          },
          "colorscale": {
           "diverging": [
            [
             0,
             "#8e0152"
            ],
            [
             0.1,
             "#c51b7d"
            ],
            [
             0.2,
             "#de77ae"
            ],
            [
             0.3,
             "#f1b6da"
            ],
            [
             0.4,
             "#fde0ef"
            ],
            [
             0.5,
             "#f7f7f7"
            ],
            [
             0.6,
             "#e6f5d0"
            ],
            [
             0.7,
             "#b8e186"
            ],
            [
             0.8,
             "#7fbc41"
            ],
            [
             0.9,
             "#4d9221"
            ],
            [
             1,
             "#276419"
            ]
           ],
           "sequential": [
            [
             0,
             "#0d0887"
            ],
            [
             0.1111111111111111,
             "#46039f"
            ],
            [
             0.2222222222222222,
             "#7201a8"
            ],
            [
             0.3333333333333333,
             "#9c179e"
            ],
            [
             0.4444444444444444,
             "#bd3786"
            ],
            [
             0.5555555555555556,
             "#d8576b"
            ],
            [
             0.6666666666666666,
             "#ed7953"
            ],
            [
             0.7777777777777778,
             "#fb9f3a"
            ],
            [
             0.8888888888888888,
             "#fdca26"
            ],
            [
             1,
             "#f0f921"
            ]
           ],
           "sequentialminus": [
            [
             0,
             "#0d0887"
            ],
            [
             0.1111111111111111,
             "#46039f"
            ],
            [
             0.2222222222222222,
             "#7201a8"
            ],
            [
             0.3333333333333333,
             "#9c179e"
            ],
            [
             0.4444444444444444,
             "#bd3786"
            ],
            [
             0.5555555555555556,
             "#d8576b"
            ],
            [
             0.6666666666666666,
             "#ed7953"
            ],
            [
             0.7777777777777778,
             "#fb9f3a"
            ],
            [
             0.8888888888888888,
             "#fdca26"
            ],
            [
             1,
             "#f0f921"
            ]
           ]
          },
          "colorway": [
           "#636efa",
           "#EF553B",
           "#00cc96",
           "#ab63fa",
           "#FFA15A",
           "#19d3f3",
           "#FF6692",
           "#B6E880",
           "#FF97FF",
           "#FECB52"
          ],
          "font": {
           "color": "#2a3f5f"
          },
          "geo": {
           "bgcolor": "white",
           "lakecolor": "white",
           "landcolor": "#E5ECF6",
           "showlakes": true,
           "showland": true,
           "subunitcolor": "white"
          },
          "hoverlabel": {
           "align": "left"
          },
          "hovermode": "closest",
          "mapbox": {
           "style": "light"
          },
          "paper_bgcolor": "white",
          "plot_bgcolor": "#E5ECF6",
          "polar": {
           "angularaxis": {
            "gridcolor": "white",
            "linecolor": "white",
            "ticks": ""
           },
           "bgcolor": "#E5ECF6",
           "radialaxis": {
            "gridcolor": "white",
            "linecolor": "white",
            "ticks": ""
           }
          },
          "scene": {
           "xaxis": {
            "backgroundcolor": "#E5ECF6",
            "gridcolor": "white",
            "gridwidth": 2,
            "linecolor": "white",
            "showbackground": true,
            "ticks": "",
            "zerolinecolor": "white"
           },
           "yaxis": {
            "backgroundcolor": "#E5ECF6",
            "gridcolor": "white",
            "gridwidth": 2,
            "linecolor": "white",
            "showbackground": true,
            "ticks": "",
            "zerolinecolor": "white"
           },
           "zaxis": {
            "backgroundcolor": "#E5ECF6",
            "gridcolor": "white",
            "gridwidth": 2,
            "linecolor": "white",
            "showbackground": true,
            "ticks": "",
            "zerolinecolor": "white"
           }
          },
          "shapedefaults": {
           "line": {
            "color": "#2a3f5f"
           }
          },
          "ternary": {
           "aaxis": {
            "gridcolor": "white",
            "linecolor": "white",
            "ticks": ""
           },
           "baxis": {
            "gridcolor": "white",
            "linecolor": "white",
            "ticks": ""
           },
           "bgcolor": "#E5ECF6",
           "caxis": {
            "gridcolor": "white",
            "linecolor": "white",
            "ticks": ""
           }
          },
          "title": {
           "x": 0.05
          },
          "xaxis": {
           "automargin": true,
           "gridcolor": "white",
           "linecolor": "white",
           "ticks": "",
           "title": {
            "standoff": 15
           },
           "zerolinecolor": "white",
           "zerolinewidth": 2
          },
          "yaxis": {
           "automargin": true,
           "gridcolor": "white",
           "linecolor": "white",
           "ticks": "",
           "title": {
            "standoff": 15
           },
           "zerolinecolor": "white",
           "zerolinewidth": 2
          }
         }
        },
        "title": {
         "text": "경기 월별 매출"
        },
        "xaxis": {
         "anchor": "y",
         "domain": [
          0,
          1
         ],
         "title": {
          "text": "month"
         }
        },
        "yaxis": {
         "anchor": "x",
         "domain": [
          0,
          1
         ],
         "title": {
          "text": "value"
         }
        }
       }
      }
     },
     "metadata": {}
    }
   ],
   "metadata": {}
  },
  {
   "cell_type": "code",
   "execution_count": 35,
   "source": [
    "#지역별 월 결제건수 확인 / 결제액과 큰차이 없음\r\n",
    "def region_month_counts(region, datetimes): #지역-매출건수\r\n",
    "\r\n",
    "    \"\"\" parameter\r\n",
    "        business_type : data['type_of_business']에 있는 업종명을 넣어주세요.\r\n",
    "        datetimes : 셋 중에 하나를 선택하세요. time, day, month \r\n",
    "    \"\"\"\r\n",
    "    \r\n",
    "    dataset_ = dataset.loc[(dataset['big_region'] == region), ['amount_small',datetimes]]\r\n",
    "    group = dataset_['amount_small'].groupby(dataset_[datetimes]) \r\n",
    "\r\n",
    "    fig = px.line(group.count(), title = region + \" 월별 매출\")\r\n",
    "    fig.show()"
   ],
   "outputs": [],
   "metadata": {}
  },
  {
   "cell_type": "code",
   "execution_count": 41,
   "source": [
    "region_month_counts('충북','month') "
   ],
   "outputs": [
    {
     "output_type": "display_data",
     "data": {
      "application/vnd.plotly.v1+json": {
       "config": {
        "plotlyServerURL": "https://plot.ly"
       },
       "data": [
        {
         "hovertemplate": "variable=amount_small<br>month=%{x}<br>value=%{y}<extra></extra>",
         "legendgroup": "amount_small",
         "line": {
          "color": "#636efa",
          "dash": "solid"
         },
         "marker": {
          "symbol": "circle"
         },
         "mode": "lines",
         "name": "amount_small",
         "orientation": "v",
         "showlegend": true,
         "type": "scatter",
         "x": [
          1,
          2,
          3,
          4,
          5,
          6,
          7,
          8,
          9,
          10,
          11,
          12
         ],
         "xaxis": "x",
         "y": [
          18680,
          17497,
          16530,
          18053,
          18725,
          22420,
          21538,
          20849,
          21623,
          21955,
          21374,
          20552
         ],
         "yaxis": "y"
        }
       ],
       "layout": {
        "legend": {
         "title": {
          "text": "variable"
         },
         "tracegroupgap": 0
        },
        "template": {
         "data": {
          "bar": [
           {
            "error_x": {
             "color": "#2a3f5f"
            },
            "error_y": {
             "color": "#2a3f5f"
            },
            "marker": {
             "line": {
              "color": "#E5ECF6",
              "width": 0.5
             },
             "pattern": {
              "fillmode": "overlay",
              "size": 10,
              "solidity": 0.2
             }
            },
            "type": "bar"
           }
          ],
          "barpolar": [
           {
            "marker": {
             "line": {
              "color": "#E5ECF6",
              "width": 0.5
             },
             "pattern": {
              "fillmode": "overlay",
              "size": 10,
              "solidity": 0.2
             }
            },
            "type": "barpolar"
           }
          ],
          "carpet": [
           {
            "aaxis": {
             "endlinecolor": "#2a3f5f",
             "gridcolor": "white",
             "linecolor": "white",
             "minorgridcolor": "white",
             "startlinecolor": "#2a3f5f"
            },
            "baxis": {
             "endlinecolor": "#2a3f5f",
             "gridcolor": "white",
             "linecolor": "white",
             "minorgridcolor": "white",
             "startlinecolor": "#2a3f5f"
            },
            "type": "carpet"
           }
          ],
          "choropleth": [
           {
            "colorbar": {
             "outlinewidth": 0,
             "ticks": ""
            },
            "type": "choropleth"
           }
          ],
          "contour": [
           {
            "colorbar": {
             "outlinewidth": 0,
             "ticks": ""
            },
            "colorscale": [
             [
              0,
              "#0d0887"
             ],
             [
              0.1111111111111111,
              "#46039f"
             ],
             [
              0.2222222222222222,
              "#7201a8"
             ],
             [
              0.3333333333333333,
              "#9c179e"
             ],
             [
              0.4444444444444444,
              "#bd3786"
             ],
             [
              0.5555555555555556,
              "#d8576b"
             ],
             [
              0.6666666666666666,
              "#ed7953"
             ],
             [
              0.7777777777777778,
              "#fb9f3a"
             ],
             [
              0.8888888888888888,
              "#fdca26"
             ],
             [
              1,
              "#f0f921"
             ]
            ],
            "type": "contour"
           }
          ],
          "contourcarpet": [
           {
            "colorbar": {
             "outlinewidth": 0,
             "ticks": ""
            },
            "type": "contourcarpet"
           }
          ],
          "heatmap": [
           {
            "colorbar": {
             "outlinewidth": 0,
             "ticks": ""
            },
            "colorscale": [
             [
              0,
              "#0d0887"
             ],
             [
              0.1111111111111111,
              "#46039f"
             ],
             [
              0.2222222222222222,
              "#7201a8"
             ],
             [
              0.3333333333333333,
              "#9c179e"
             ],
             [
              0.4444444444444444,
              "#bd3786"
             ],
             [
              0.5555555555555556,
              "#d8576b"
             ],
             [
              0.6666666666666666,
              "#ed7953"
             ],
             [
              0.7777777777777778,
              "#fb9f3a"
             ],
             [
              0.8888888888888888,
              "#fdca26"
             ],
             [
              1,
              "#f0f921"
             ]
            ],
            "type": "heatmap"
           }
          ],
          "heatmapgl": [
           {
            "colorbar": {
             "outlinewidth": 0,
             "ticks": ""
            },
            "colorscale": [
             [
              0,
              "#0d0887"
             ],
             [
              0.1111111111111111,
              "#46039f"
             ],
             [
              0.2222222222222222,
              "#7201a8"
             ],
             [
              0.3333333333333333,
              "#9c179e"
             ],
             [
              0.4444444444444444,
              "#bd3786"
             ],
             [
              0.5555555555555556,
              "#d8576b"
             ],
             [
              0.6666666666666666,
              "#ed7953"
             ],
             [
              0.7777777777777778,
              "#fb9f3a"
             ],
             [
              0.8888888888888888,
              "#fdca26"
             ],
             [
              1,
              "#f0f921"
             ]
            ],
            "type": "heatmapgl"
           }
          ],
          "histogram": [
           {
            "marker": {
             "pattern": {
              "fillmode": "overlay",
              "size": 10,
              "solidity": 0.2
             }
            },
            "type": "histogram"
           }
          ],
          "histogram2d": [
           {
            "colorbar": {
             "outlinewidth": 0,
             "ticks": ""
            },
            "colorscale": [
             [
              0,
              "#0d0887"
             ],
             [
              0.1111111111111111,
              "#46039f"
             ],
             [
              0.2222222222222222,
              "#7201a8"
             ],
             [
              0.3333333333333333,
              "#9c179e"
             ],
             [
              0.4444444444444444,
              "#bd3786"
             ],
             [
              0.5555555555555556,
              "#d8576b"
             ],
             [
              0.6666666666666666,
              "#ed7953"
             ],
             [
              0.7777777777777778,
              "#fb9f3a"
             ],
             [
              0.8888888888888888,
              "#fdca26"
             ],
             [
              1,
              "#f0f921"
             ]
            ],
            "type": "histogram2d"
           }
          ],
          "histogram2dcontour": [
           {
            "colorbar": {
             "outlinewidth": 0,
             "ticks": ""
            },
            "colorscale": [
             [
              0,
              "#0d0887"
             ],
             [
              0.1111111111111111,
              "#46039f"
             ],
             [
              0.2222222222222222,
              "#7201a8"
             ],
             [
              0.3333333333333333,
              "#9c179e"
             ],
             [
              0.4444444444444444,
              "#bd3786"
             ],
             [
              0.5555555555555556,
              "#d8576b"
             ],
             [
              0.6666666666666666,
              "#ed7953"
             ],
             [
              0.7777777777777778,
              "#fb9f3a"
             ],
             [
              0.8888888888888888,
              "#fdca26"
             ],
             [
              1,
              "#f0f921"
             ]
            ],
            "type": "histogram2dcontour"
           }
          ],
          "mesh3d": [
           {
            "colorbar": {
             "outlinewidth": 0,
             "ticks": ""
            },
            "type": "mesh3d"
           }
          ],
          "parcoords": [
           {
            "line": {
             "colorbar": {
              "outlinewidth": 0,
              "ticks": ""
             }
            },
            "type": "parcoords"
           }
          ],
          "pie": [
           {
            "automargin": true,
            "type": "pie"
           }
          ],
          "scatter": [
           {
            "marker": {
             "colorbar": {
              "outlinewidth": 0,
              "ticks": ""
             }
            },
            "type": "scatter"
           }
          ],
          "scatter3d": [
           {
            "line": {
             "colorbar": {
              "outlinewidth": 0,
              "ticks": ""
             }
            },
            "marker": {
             "colorbar": {
              "outlinewidth": 0,
              "ticks": ""
             }
            },
            "type": "scatter3d"
           }
          ],
          "scattercarpet": [
           {
            "marker": {
             "colorbar": {
              "outlinewidth": 0,
              "ticks": ""
             }
            },
            "type": "scattercarpet"
           }
          ],
          "scattergeo": [
           {
            "marker": {
             "colorbar": {
              "outlinewidth": 0,
              "ticks": ""
             }
            },
            "type": "scattergeo"
           }
          ],
          "scattergl": [
           {
            "marker": {
             "colorbar": {
              "outlinewidth": 0,
              "ticks": ""
             }
            },
            "type": "scattergl"
           }
          ],
          "scattermapbox": [
           {
            "marker": {
             "colorbar": {
              "outlinewidth": 0,
              "ticks": ""
             }
            },
            "type": "scattermapbox"
           }
          ],
          "scatterpolar": [
           {
            "marker": {
             "colorbar": {
              "outlinewidth": 0,
              "ticks": ""
             }
            },
            "type": "scatterpolar"
           }
          ],
          "scatterpolargl": [
           {
            "marker": {
             "colorbar": {
              "outlinewidth": 0,
              "ticks": ""
             }
            },
            "type": "scatterpolargl"
           }
          ],
          "scatterternary": [
           {
            "marker": {
             "colorbar": {
              "outlinewidth": 0,
              "ticks": ""
             }
            },
            "type": "scatterternary"
           }
          ],
          "surface": [
           {
            "colorbar": {
             "outlinewidth": 0,
             "ticks": ""
            },
            "colorscale": [
             [
              0,
              "#0d0887"
             ],
             [
              0.1111111111111111,
              "#46039f"
             ],
             [
              0.2222222222222222,
              "#7201a8"
             ],
             [
              0.3333333333333333,
              "#9c179e"
             ],
             [
              0.4444444444444444,
              "#bd3786"
             ],
             [
              0.5555555555555556,
              "#d8576b"
             ],
             [
              0.6666666666666666,
              "#ed7953"
             ],
             [
              0.7777777777777778,
              "#fb9f3a"
             ],
             [
              0.8888888888888888,
              "#fdca26"
             ],
             [
              1,
              "#f0f921"
             ]
            ],
            "type": "surface"
           }
          ],
          "table": [
           {
            "cells": {
             "fill": {
              "color": "#EBF0F8"
             },
             "line": {
              "color": "white"
             }
            },
            "header": {
             "fill": {
              "color": "#C8D4E3"
             },
             "line": {
              "color": "white"
             }
            },
            "type": "table"
           }
          ]
         },
         "layout": {
          "annotationdefaults": {
           "arrowcolor": "#2a3f5f",
           "arrowhead": 0,
           "arrowwidth": 1
          },
          "autotypenumbers": "strict",
          "coloraxis": {
           "colorbar": {
            "outlinewidth": 0,
            "ticks": ""
           }
          },
          "colorscale": {
           "diverging": [
            [
             0,
             "#8e0152"
            ],
            [
             0.1,
             "#c51b7d"
            ],
            [
             0.2,
             "#de77ae"
            ],
            [
             0.3,
             "#f1b6da"
            ],
            [
             0.4,
             "#fde0ef"
            ],
            [
             0.5,
             "#f7f7f7"
            ],
            [
             0.6,
             "#e6f5d0"
            ],
            [
             0.7,
             "#b8e186"
            ],
            [
             0.8,
             "#7fbc41"
            ],
            [
             0.9,
             "#4d9221"
            ],
            [
             1,
             "#276419"
            ]
           ],
           "sequential": [
            [
             0,
             "#0d0887"
            ],
            [
             0.1111111111111111,
             "#46039f"
            ],
            [
             0.2222222222222222,
             "#7201a8"
            ],
            [
             0.3333333333333333,
             "#9c179e"
            ],
            [
             0.4444444444444444,
             "#bd3786"
            ],
            [
             0.5555555555555556,
             "#d8576b"
            ],
            [
             0.6666666666666666,
             "#ed7953"
            ],
            [
             0.7777777777777778,
             "#fb9f3a"
            ],
            [
             0.8888888888888888,
             "#fdca26"
            ],
            [
             1,
             "#f0f921"
            ]
           ],
           "sequentialminus": [
            [
             0,
             "#0d0887"
            ],
            [
             0.1111111111111111,
             "#46039f"
            ],
            [
             0.2222222222222222,
             "#7201a8"
            ],
            [
             0.3333333333333333,
             "#9c179e"
            ],
            [
             0.4444444444444444,
             "#bd3786"
            ],
            [
             0.5555555555555556,
             "#d8576b"
            ],
            [
             0.6666666666666666,
             "#ed7953"
            ],
            [
             0.7777777777777778,
             "#fb9f3a"
            ],
            [
             0.8888888888888888,
             "#fdca26"
            ],
            [
             1,
             "#f0f921"
            ]
           ]
          },
          "colorway": [
           "#636efa",
           "#EF553B",
           "#00cc96",
           "#ab63fa",
           "#FFA15A",
           "#19d3f3",
           "#FF6692",
           "#B6E880",
           "#FF97FF",
           "#FECB52"
          ],
          "font": {
           "color": "#2a3f5f"
          },
          "geo": {
           "bgcolor": "white",
           "lakecolor": "white",
           "landcolor": "#E5ECF6",
           "showlakes": true,
           "showland": true,
           "subunitcolor": "white"
          },
          "hoverlabel": {
           "align": "left"
          },
          "hovermode": "closest",
          "mapbox": {
           "style": "light"
          },
          "paper_bgcolor": "white",
          "plot_bgcolor": "#E5ECF6",
          "polar": {
           "angularaxis": {
            "gridcolor": "white",
            "linecolor": "white",
            "ticks": ""
           },
           "bgcolor": "#E5ECF6",
           "radialaxis": {
            "gridcolor": "white",
            "linecolor": "white",
            "ticks": ""
           }
          },
          "scene": {
           "xaxis": {
            "backgroundcolor": "#E5ECF6",
            "gridcolor": "white",
            "gridwidth": 2,
            "linecolor": "white",
            "showbackground": true,
            "ticks": "",
            "zerolinecolor": "white"
           },
           "yaxis": {
            "backgroundcolor": "#E5ECF6",
            "gridcolor": "white",
            "gridwidth": 2,
            "linecolor": "white",
            "showbackground": true,
            "ticks": "",
            "zerolinecolor": "white"
           },
           "zaxis": {
            "backgroundcolor": "#E5ECF6",
            "gridcolor": "white",
            "gridwidth": 2,
            "linecolor": "white",
            "showbackground": true,
            "ticks": "",
            "zerolinecolor": "white"
           }
          },
          "shapedefaults": {
           "line": {
            "color": "#2a3f5f"
           }
          },
          "ternary": {
           "aaxis": {
            "gridcolor": "white",
            "linecolor": "white",
            "ticks": ""
           },
           "baxis": {
            "gridcolor": "white",
            "linecolor": "white",
            "ticks": ""
           },
           "bgcolor": "#E5ECF6",
           "caxis": {
            "gridcolor": "white",
            "linecolor": "white",
            "ticks": ""
           }
          },
          "title": {
           "x": 0.05
          },
          "xaxis": {
           "automargin": true,
           "gridcolor": "white",
           "linecolor": "white",
           "ticks": "",
           "title": {
            "standoff": 15
           },
           "zerolinecolor": "white",
           "zerolinewidth": 2
          },
          "yaxis": {
           "automargin": true,
           "gridcolor": "white",
           "linecolor": "white",
           "ticks": "",
           "title": {
            "standoff": 15
           },
           "zerolinecolor": "white",
           "zerolinewidth": 2
          }
         }
        },
        "title": {
         "text": "충북 월별 매출"
        },
        "xaxis": {
         "anchor": "y",
         "domain": [
          0,
          1
         ],
         "title": {
          "text": "month"
         }
        },
        "yaxis": {
         "anchor": "x",
         "domain": [
          0,
          1
         ],
         "title": {
          "text": "value"
         }
        }
       }
      }
     },
     "metadata": {}
    }
   ],
   "metadata": {}
  },
  {
   "cell_type": "code",
   "execution_count": 60,
   "source": [
    "#2. 업종 별 결제액\r\n",
    "#대부분 일상과 가까운 업종의 매출액이 크다\r\n",
    "\r\n",
    "#업종모름의 값이 커 drop\r\n",
    "a = dataset[dataset['type_of_business'] == '업종 모름'].index\r\n",
    "dataset_drop = dataset.drop(a)\r\n",
    "dataset_drop\r\n",
    "\r\n",
    "#매출액 큰 업종별 내림차순 \r\n",
    "data_type = dataset_drop['amount_small'].groupby(dataset_drop['type_of_business'])\r\n",
    "data_type_sum = data_type.sum().sort_values(ascending=False)\r\n",
    "\r\n",
    "#plot 사이즈 크기 조절 및 폰트 지정\r\n",
    "plt.rcParams['font.family'] = 'malgun gothic'\r\n",
    "plt.rcParams['figure.figsize'] = (5,30)\r\n",
    "data_type_sum.plot(kind = 'barh')"
   ],
   "outputs": [
    {
     "output_type": "execute_result",
     "data": {
      "text/plain": [
       "<AxesSubplot:ylabel='type_of_business'>"
      ]
     },
     "metadata": {},
     "execution_count": 60
    },
    {
     "output_type": "display_data",
     "data": {
      "image/png": "[encoded data removed]",
      "text/plain": [
       "<Figure size 360x2160 with 1 Axes>"
      ]
     },
     "metadata": {
      "needs_background": "light"
     }
    }
   ],
   "metadata": {}
  },
  {
   "cell_type": "code",
   "execution_count": 108,
   "source": [
    "#업종 별 매출 top5 확인\r\n",
    "data_type_sum.head(5)"
   ],
   "outputs": [
    {
     "output_type": "execute_result",
     "data": {
      "text/plain": [
       "type_of_business\n",
       "한식 음식점업     4810.450168\n",
       "의복 소매업      2403.673998\n",
       "의약품 도매업     1568.540161\n",
       "일반 교과 학원    1293.610831\n",
       "두발 미용업      1087.474652\n",
       "Name: amount_small, dtype: float64"
      ]
     },
     "metadata": {},
     "execution_count": 108
    }
   ],
   "metadata": {}
  },
  {
   "cell_type": "code",
   "execution_count": 117,
   "source": [
    "#업종 별 매출 top5 상세확인\r\n",
    "def business_sales(business_type, datetimes): #\r\n",
    "\r\n",
    "    \"\"\" parameter\r\n",
    "        business_type : dataset['type_of_business']에 있는 업종명을 넣어주세요.\r\n",
    "        datetimes : 셋 중에 하나를 선택하세요. time, day, month \r\n",
    "    \"\"\"\r\n",
    "    \r\n",
    "    dataset_ = dataset.loc[(dataset['type_of_business'] == business_type), ['amount',datetimes]]\r\n",
    "    group = dataset_['amount'].groupby(dataset_[datetimes]) \r\n",
    "\r\n",
    "    fig = px.line(group.sum(), title = business_type + \" 매출\")\r\n",
    "    fig.show()"
   ],
   "outputs": [],
   "metadata": {}
  },
  {
   "cell_type": "code",
   "execution_count": 111,
   "source": [
    "business_sales('한식 음식점업', 'time')"
   ],
   "outputs": [
    {
     "output_type": "display_data",
     "data": {
      "application/vnd.plotly.v1+json": {
       "config": {
        "plotlyServerURL": "https://plot.ly"
       },
       "data": [
        {
         "hovertemplate": "variable=amount<br>time=%{x}<br>value=%{y}<extra></extra>",
         "legendgroup": "amount",
         "line": {
          "color": "#636efa",
          "dash": "solid"
         },
         "marker": {
          "symbol": "circle"
         },
         "mode": "lines",
         "name": "amount",
         "showlegend": true,
         "type": "scattergl",
         "x": [
          "00:00:00",
          "00:01:00",
          "00:02:00",
          "00:03:00",
          "00:04:00",
          "00:05:00",
          "00:06:00",
          "00:07:00",
          "00:08:00",
          "00:09:00",
          "00:10:00",
          "00:11:00",
          "00:12:00",
          "00:13:00",
          "00:14:00",
          "00:15:00",
          "00:16:00",
          "00:17:00",
          "00:18:00",
          "00:19:00",
          "00:20:00",
          "00:21:00",
          "00:22:00",
          "00:23:00",
          "00:24:00",
          "00:25:00",
          "00:26:00",
          "00:27:00",
          "00:28:00",
          "00:29:00",
          "00:30:00",
          "00:31:00",
          "00:32:00",
          "00:33:00",
          "00:34:00",
          "00:35:00",
          "00:36:00",
          "00:37:00",
          "00:38:00",
          "00:39:00",
          "00:40:00",
          "00:41:00",
          "00:42:00",
          "00:43:00",
          "00:44:00",
          "00:45:00",
          "00:46:00",
          "00:47:00",
          "00:48:00",
          "00:49:00",
          "00:50:00",
          "00:51:00",
          "00:52:00",
          "00:53:00",
          "00:54:00",
          "00:55:00",
          "00:56:00",
          "00:57:00",
          "00:58:00",
          "00:59:00",
          "01:00:00",
          "01:01:00",
          "01:02:00",
          "01:03:00",
          "01:04:00",
          "01:05:00",
          "01:06:00",
          "01:07:00",
          "01:08:00",
          "01:09:00",
          "01:10:00",
          "01:11:00",
          "01:12:00",
          "01:13:00",
          "01:14:00",
          "01:15:00",
          "01:16:00",
          "01:17:00",
          "01:18:00",
          "01:19:00",
          "01:20:00",
          "01:21:00",
          "01:22:00",
          "01:23:00",
          "01:24:00",
          "01:25:00",
          "01:26:00",
          "01:27:00",
          "01:28:00",
          "01:29:00",
          "01:30:00",
          "01:31:00",
          "01:32:00",
          "01:33:00",
          "01:34:00",
          "01:35:00",
          "01:36:00",
          "01:37:00",
          "01:38:00",
          "01:39:00",
          "01:40:00",
          "01:41:00",
          "01:42:00",
          "01:43:00",
          "01:44:00",
          "01:45:00",
          "01:46:00",
          "01:47:00",
          "01:48:00",
          "01:49:00",
          "01:50:00",
          "01:51:00",
          "01:52:00",
          "01:53:00",
          "01:54:00",
          "01:55:00",
          "01:56:00",
          "01:57:00",
          "01:58:00",
          "01:59:00",
          "02:00:00",
          "02:01:00",
          "02:02:00",
          "02:03:00",
          "02:04:00",
          "02:05:00",
          "02:06:00",
          "02:07:00",
          "02:08:00",
          "02:09:00",
          "02:10:00",
          "02:11:00",
          "02:12:00",
          "02:13:00",
          "02:14:00",
          "02:15:00",
          "02:16:00",
          "02:17:00",
          "02:18:00",
          "02:19:00",
          "02:20:00",
          "02:21:00",
          "02:22:00",
          "02:23:00",
          "02:24:00",
          "02:25:00",
          "02:26:00",
          "02:27:00",
          "02:28:00",
          "02:29:00",
          "02:30:00",
          "02:31:00",
          "02:32:00",
          "02:33:00",
          "02:34:00",
          "02:35:00",
          "02:36:00",
          "02:37:00",
          "02:38:00",
          "02:39:00",
          "02:40:00",
          "02:41:00",
          "02:42:00",
          "02:43:00",
          "02:44:00",
          "02:45:00",
          "02:46:00",
          "02:47:00",
          "02:48:00",
          "02:49:00",
          "02:50:00",
          "02:51:00",
          "02:52:00",
          "02:53:00",
          "02:54:00",
          "02:55:00",
          "02:56:00",
          "02:57:00",
          "02:58:00",
          "02:59:00",
          "03:00:00",
          "03:01:00",
          "03:02:00",
          "03:03:00",
          "03:04:00",
          "03:05:00",
          "03:06:00",
          "03:07:00",
          "03:08:00",
          "03:09:00",
          "03:10:00",
          "03:11:00",
          "03:12:00",
          "03:13:00",
          "03:14:00",
          "03:15:00",
          "03:16:00",
          "03:17:00",
          "03:18:00",
          "03:19:00",
          "03:20:00",
          "03:21:00",
          "03:22:00",
          "03:23:00",
          "03:24:00",
          "03:25:00",
          "03:26:00",
          "03:27:00",
          "03:28:00",
          "03:29:00",
          "03:30:00",
          "03:31:00",
          "03:32:00",
          "03:33:00",
          "03:34:00",
          "03:35:00",
          "03:36:00",
          "03:37:00",
          "03:38:00",
          "03:39:00",
          "03:40:00",
          "03:41:00",
          "03:42:00",
          "03:43:00",
          "03:44:00",
          "03:45:00",
          "03:46:00",
          "03:47:00",
          "03:48:00",
          "03:49:00",
          "03:50:00",
          "03:51:00",
          "03:52:00",
          "03:53:00",
          "03:54:00",
          "03:55:00",
          "03:56:00",
          "03:57:00",
          "03:58:00",
          "03:59:00",
          "04:00:00",
          "04:01:00",
          "04:02:00",
          "04:03:00",
          "04:04:00",
          "04:05:00",
          "04:06:00",
          "04:07:00",
          "04:08:00",
          "04:09:00",
          "04:10:00",
          "04:11:00",
          "04:12:00",
          "04:13:00",
          "04:14:00",
          "04:15:00",
          "04:16:00",
          "04:17:00",
          "04:18:00",
          "04:19:00",
          "04:20:00",
          "04:21:00",
          "04:22:00",
          "04:23:00",
          "04:24:00",
          "04:25:00",
          "04:26:00",
          "04:27:00",
          "04:28:00",
          "04:29:00",
          "04:30:00",
          "04:31:00",
          "04:32:00",
          "04:33:00",
          "04:34:00",
          "04:35:00",
          "04:36:00",
          "04:37:00",
          "04:38:00",
          "04:39:00",
          "04:40:00",
          "04:41:00",
          "04:42:00",
          "04:43:00",
          "04:44:00",
          "04:45:00",
          "04:46:00",
          "04:47:00",
          "04:48:00",
          "04:49:00",
          "04:50:00",
          "04:51:00",
          "04:52:00",
          "04:53:00",
          "04:54:00",
          "04:55:00",
          "04:56:00",
          "04:57:00",
          "04:58:00",
          "04:59:00",
          "05:00:00",
          "05:01:00",
          "05:02:00",
          "05:03:00",
          "05:04:00",
          "05:05:00",
          "05:06:00",
          "05:07:00",
          "05:08:00",
          "05:09:00",
          "05:10:00",
          "05:11:00",
          "05:12:00",
          "05:13:00",
          "05:14:00",
          "05:15:00",
          "05:16:00",
          "05:17:00",
          "05:18:00",
          "05:19:00",
          "05:20:00",
          "05:21:00",
          "05:22:00",
          "05:23:00",
          "05:24:00",
          "05:25:00",
          "05:26:00",
          "05:27:00",
          "05:28:00",
          "05:29:00",
          "05:30:00",
          "05:31:00",
          "05:32:00",
          "05:33:00",
          "05:34:00",
          "05:35:00",
          "05:36:00",
          "05:37:00",
          "05:38:00",
          "05:39:00",
          "05:40:00",
          "05:41:00",
          "05:42:00",
          "05:43:00",
          "05:44:00",
          "05:45:00",
          "05:46:00",
          "05:47:00",
          "05:48:00",
          "05:49:00",
          "05:50:00",
          "05:51:00",
          "05:52:00",
          "05:53:00",
          "05:54:00",
          "05:55:00",
          "05:56:00",
          "05:57:00",
          "05:58:00",
          "05:59:00",
          "06:00:00",
          "06:01:00",
          "06:02:00",
          "06:03:00",
          "06:04:00",
          "06:05:00",
          "06:06:00",
          "06:07:00",
          "06:08:00",
          "06:09:00",
          "06:10:00",
          "06:11:00",
          "06:12:00",
          "06:13:00",
          "06:14:00",
          "06:15:00",
          "06:16:00",
          "06:17:00",
          "06:18:00",
          "06:19:00",
          "06:20:00",
          "06:21:00",
          "06:22:00",
          "06:23:00",
          "06:24:00",
          "06:25:00",
          "06:26:00",
          "06:27:00",
          "06:28:00",
          "06:29:00",
          "06:30:00",
          "06:31:00",
          "06:32:00",
          "06:33:00",
          "06:34:00",
          "06:35:00",
          "06:36:00",
          "06:37:00",
          "06:38:00",
          "06:39:00",
          "06:40:00",
          "06:41:00",
          "06:42:00",
          "06:43:00",
          "06:44:00",
          "06:45:00",
          "06:46:00",
          "06:47:00",
          "06:48:00",
          "06:49:00",
          "06:50:00",
          "06:51:00",
          "06:52:00",
          "06:53:00",
          "06:54:00",
          "06:55:00",
          "06:56:00",
          "06:57:00",
          "06:58:00",
          "06:59:00",
          "07:00:00",
          "07:01:00",
          "07:02:00",
          "07:03:00",
          "07:04:00",
          "07:05:00",
          "07:06:00",
          "07:07:00",
          "07:08:00",
          "07:09:00",
          "07:10:00",
          "07:11:00",
          "07:12:00",
          "07:13:00",
          "07:14:00",
          "07:15:00",
          "07:16:00",
          "07:17:00",
          "07:18:00",
          "07:19:00",
          "07:20:00",
          "07:21:00",
          "07:22:00",
          "07:23:00",
          "07:24:00",
          "07:25:00",
          "07:26:00",
          "07:27:00",
          "07:28:00",
          "07:29:00",
          "07:30:00",
          "07:31:00",
          "07:32:00",
          "07:33:00",
          "07:34:00",
          "07:35:00",
          "07:36:00",
          "07:37:00",
          "07:38:00",
          "07:39:00",
          "07:40:00",
          "07:41:00",
          "07:42:00",
          "07:43:00",
          "07:44:00",
          "07:45:00",
          "07:46:00",
          "07:47:00",
          "07:48:00",
          "07:49:00",
          "07:50:00",
          "07:51:00",
          "07:52:00",
          "07:53:00",
          "07:54:00",
          "07:55:00",
          "07:56:00",
          "07:57:00",
          "07:58:00",
          "07:59:00",
          "08:00:00",
          "08:01:00",
          "08:02:00",
          "08:03:00",
          "08:04:00",
          "08:05:00",
          "08:06:00",
          "08:07:00",
          "08:08:00",
          "08:09:00",
          "08:10:00",
          "08:11:00",
          "08:12:00",
          "08:13:00",
          "08:14:00",
          "08:15:00",
          "08:16:00",
          "08:17:00",
          "08:18:00",
          "08:19:00",
          "08:20:00",
          "08:21:00",
          "08:22:00",
          "08:23:00",
          "08:24:00",
          "08:25:00",
          "08:26:00",
          "08:27:00",
          "08:28:00",
          "08:29:00",
          "08:30:00",
          "08:31:00",
          "08:32:00",
          "08:33:00",
          "08:34:00",
          "08:35:00",
          "08:36:00",
          "08:37:00",
          "08:38:00",
          "08:39:00",
          "08:40:00",
          "08:41:00",
          "08:42:00",
          "08:43:00",
          "08:44:00",
          "08:45:00",
          "08:46:00",
          "08:47:00",
          "08:48:00",
          "08:49:00",
          "08:50:00",
          "08:51:00",
          "08:52:00",
          "08:53:00",
          "08:54:00",
          "08:55:00",
          "08:56:00",
          "08:57:00",
          "08:58:00",
          "08:59:00",
          "09:00:00",
          "09:01:00",
          "09:02:00",
          "09:03:00",
          "09:04:00",
          "09:05:00",
          "09:06:00",
          "09:07:00",
          "09:08:00",
          "09:09:00",
          "09:10:00",
          "09:11:00",
          "09:12:00",
          "09:13:00",
          "09:14:00",
          "09:15:00",
          "09:16:00",
          "09:17:00",
          "09:18:00",
          "09:19:00",
          "09:20:00",
          "09:21:00",
          "09:22:00",
          "09:23:00",
          "09:24:00",
          "09:25:00",
          "09:26:00",
          "09:27:00",
          "09:28:00",
          "09:29:00",
          "09:30:00",
          "09:31:00",
          "09:32:00",
          "09:33:00",
          "09:34:00",
          "09:35:00",
          "09:36:00",
          "09:37:00",
          "09:38:00",
          "09:39:00",
          "09:40:00",
          "09:41:00",
          "09:42:00",
          "09:43:00",
          "09:44:00",
          "09:45:00",
          "09:46:00",
          "09:47:00",
          "09:48:00",
          "09:49:00",
          "09:50:00",
          "09:51:00",
          "09:52:00",
          "09:53:00",
          "09:54:00",
          "09:55:00",
          "09:56:00",
          "09:57:00",
          "09:58:00",
          "09:59:00",
          "10:00:00",
          "10:01:00",
          "10:02:00",
          "10:03:00",
          "10:04:00",
          "10:05:00",
          "10:06:00",
          "10:07:00",
          "10:08:00",
          "10:09:00",
          "10:10:00",
          "10:11:00",
          "10:12:00",
          "10:13:00",
          "10:14:00",
          "10:15:00",
          "10:16:00",
          "10:17:00",
          "10:18:00",
          "10:19:00",
          "10:20:00",
          "10:21:00",
          "10:22:00",
          "10:23:00",
          "10:24:00",
          "10:25:00",
          "10:26:00",
          "10:27:00",
          "10:28:00",
          "10:29:00",
          "10:30:00",
          "10:31:00",
          "10:32:00",
          "10:33:00",
          "10:34:00",
          "10:35:00",
          "10:36:00",
          "10:37:00",
          "10:38:00",
          "10:39:00",
          "10:40:00",
          "10:41:00",
          "10:42:00",
          "10:43:00",
          "10:44:00",
          "10:45:00",
          "10:46:00",
          "10:47:00",
          "10:48:00",
          "10:49:00",
          "10:50:00",
          "10:51:00",
          "10:52:00",
          "10:53:00",
          "10:54:00",
          "10:55:00",
          "10:56:00",
          "10:57:00",
          "10:58:00",
          "10:59:00",
          "11:00:00",
          "11:01:00",
          "11:02:00",
          "11:03:00",
          "11:04:00",
          "11:05:00",
          "11:06:00",
          "11:07:00",
          "11:08:00",
          "11:09:00",
          "11:10:00",
          "11:11:00",
          "11:12:00",
          "11:13:00",
          "11:14:00",
          "11:15:00",
          "11:16:00",
          "11:17:00",
          "11:18:00",
          "11:19:00",
          "11:20:00",
          "11:21:00",
          "11:22:00",
          "11:23:00",
          "11:24:00",
          "11:25:00",
          "11:26:00",
          "11:27:00",
          "11:28:00",
          "11:29:00",
          "11:30:00",
          "11:31:00",
          "11:32:00",
          "11:33:00",
          "11:34:00",
          "11:35:00",
          "11:36:00",
          "11:37:00",
          "11:38:00",
          "11:39:00",
          "11:40:00",
          "11:41:00",
          "11:42:00",
          "11:43:00",
          "11:44:00",
          "11:45:00",
          "11:46:00",
          "11:47:00",
          "11:48:00",
          "11:49:00",
          "11:50:00",
          "11:51:00",
          "11:52:00",
          "11:53:00",
          "11:54:00",
          "11:55:00",
          "11:56:00",
          "11:57:00",
          "11:58:00",
          "11:59:00",
          "12:00:00",
          "12:01:00",
          "12:02:00",
          "12:03:00",
          "12:04:00",
          "12:05:00",
          "12:06:00",
          "12:07:00",
          "12:08:00",
          "12:09:00",
          "12:10:00",
          "12:11:00",
          "12:12:00",
          "12:13:00",
          "12:14:00",
          "12:15:00",
          "12:16:00",
          "12:17:00",
          "12:18:00",
          "12:19:00",
          "12:20:00",
          "12:21:00",
          "12:22:00",
          "12:23:00",
          "12:24:00",
          "12:25:00",
          "12:26:00",
          "12:27:00",
          "12:28:00",
          "12:29:00",
          "12:30:00",
          "12:31:00",
          "12:32:00",
          "12:33:00",
          "12:34:00",
          "12:35:00",
          "12:36:00",
          "12:37:00",
          "12:38:00",
          "12:39:00",
          "12:40:00",
          "12:41:00",
          "12:42:00",
          "12:43:00",
          "12:44:00",
          "12:45:00",
          "12:46:00",
          "12:47:00",
          "12:48:00",
          "12:49:00",
          "12:50:00",
          "12:51:00",
          "12:52:00",
          "12:53:00",
          "12:54:00",
          "12:55:00",
          "12:56:00",
          "12:57:00",
          "12:58:00",
          "12:59:00",
          "13:00:00",
          "13:01:00",
          "13:02:00",
          "13:03:00",
          "13:04:00",
          "13:05:00",
          "13:06:00",
          "13:07:00",
          "13:08:00",
          "13:09:00",
          "13:10:00",
          "13:11:00",
          "13:12:00",
          "13:13:00",
          "13:14:00",
          "13:15:00",
          "13:16:00",
          "13:17:00",
          "13:18:00",
          "13:19:00",
          "13:20:00",
          "13:21:00",
          "13:22:00",
          "13:23:00",
          "13:24:00",
          "13:25:00",
          "13:26:00",
          "13:27:00",
          "13:28:00",
          "13:29:00",
          "13:30:00",
          "13:31:00",
          "13:32:00",
          "13:33:00",
          "13:34:00",
          "13:35:00",
          "13:36:00",
          "13:37:00",
          "13:38:00",
          "13:39:00",
          "13:40:00",
          "13:41:00",
          "13:42:00",
          "13:43:00",
          "13:44:00",
          "13:45:00",
          "13:46:00",
          "13:47:00",
          "13:48:00",
          "13:49:00",
          "13:50:00",
          "13:51:00",
          "13:52:00",
          "13:53:00",
          "13:54:00",
          "13:55:00",
          "13:56:00",
          "13:57:00",
          "13:58:00",
          "13:59:00",
          "14:00:00",
          "14:01:00",
          "14:02:00",
          "14:03:00",
          "14:04:00",
          "14:05:00",
          "14:06:00",
          "14:07:00",
          "14:08:00",
          "14:09:00",
          "14:10:00",
          "14:11:00",
          "14:12:00",
          "14:13:00",
          "14:14:00",
          "14:15:00",
          "14:16:00",
          "14:17:00",
          "14:18:00",
          "14:19:00",
          "14:20:00",
          "14:21:00",
          "14:22:00",
          "14:23:00",
          "14:24:00",
          "14:25:00",
          "14:26:00",
          "14:27:00",
          "14:28:00",
          "14:29:00",
          "14:30:00",
          "14:31:00",
          "14:32:00",
          "14:33:00",
          "14:34:00",
          "14:35:00",
          "14:36:00",
          "14:37:00",
          "14:38:00",
          "14:39:00",
          "14:40:00",
          "14:41:00",
          "14:42:00",
          "14:43:00",
          "14:44:00",
          "14:45:00",
          "14:46:00",
          "14:47:00",
          "14:48:00",
          "14:49:00",
          "14:50:00",
          "14:51:00",
          "14:52:00",
          "14:53:00",
          "14:54:00",
          "14:55:00",
          "14:56:00",
          "14:57:00",
          "14:58:00",
          "14:59:00",
          "15:00:00",
          "15:01:00",
          "15:02:00",
          "15:03:00",
          "15:04:00",
          "15:05:00",
          "15:06:00",
          "15:07:00",
          "15:08:00",
          "15:09:00",
          "15:10:00",
          "15:11:00",
          "15:12:00",
          "15:13:00",
          "15:14:00",
          "15:15:00",
          "15:16:00",
          "15:17:00",
          "15:18:00",
          "15:19:00",
          "15:20:00",
          "15:21:00",
          "15:22:00",
          "15:23:00",
          "15:24:00",
          "15:25:00",
          "15:26:00",
          "15:27:00",
          "15:28:00",
          "15:29:00",
          "15:30:00",
          "15:31:00",
          "15:32:00",
          "15:33:00",
          "15:34:00",
          "15:35:00",
          "15:36:00",
          "15:37:00",
          "15:38:00",
          "15:39:00",
          "15:40:00",
          "15:41:00",
          "15:42:00",
          "15:43:00",
          "15:44:00",
          "15:45:00",
          "15:46:00",
          "15:47:00",
          "15:48:00",
          "15:49:00",
          "15:50:00",
          "15:51:00",
          "15:52:00",
          "15:53:00",
          "15:54:00",
          "15:55:00",
          "15:56:00",
          "15:57:00",
          "15:58:00",
          "15:59:00",
          "16:00:00",
          "16:01:00",
          "16:02:00",
          "16:03:00",
          "16:04:00",
          "16:05:00",
          "16:06:00",
          "16:07:00",
          "16:08:00",
          "16:09:00",
          "16:10:00",
          "16:11:00",
          "16:12:00",
          "16:13:00",
          "16:14:00",
          "16:15:00",
          "16:16:00",
          "16:17:00",
          "16:18:00",
          "16:19:00",
          "16:20:00",
          "16:21:00",
          "16:22:00",
          "16:23:00",
          "16:24:00",
          "16:25:00",
          "16:26:00",
          "16:27:00",
          "16:28:00",
          "16:29:00",
          "16:30:00",
          "16:31:00",
          "16:32:00",
          "16:33:00",
          "16:34:00",
          "16:35:00",
          "16:36:00",
          "16:37:00",
          "16:38:00",
          "16:39:00",
          "16:40:00",
          "16:41:00",
          "16:42:00",
          "16:43:00",
          "16:44:00",
          "16:45:00",
          "16:46:00",
          "16:47:00",
          "16:48:00",
          "16:49:00",
          "16:50:00",
          "16:51:00",
          "16:52:00",
          "16:53:00",
          "16:54:00",
          "16:55:00",
          "16:56:00",
          "16:57:00",
          "16:58:00",
          "16:59:00",
          "17:00:00",
          "17:01:00",
          "17:02:00",
          "17:03:00",
          "17:04:00",
          "17:05:00",
          "17:06:00",
          "17:07:00",
          "17:08:00",
          "17:09:00",
          "17:10:00",
          "17:11:00",
          "17:12:00",
          "17:13:00",
          "17:14:00",
          "17:15:00",
          "17:16:00",
          "17:17:00",
          "17:18:00",
          "17:19:00",
          "17:20:00",
          "17:21:00",
          "17:22:00",
          "17:23:00",
          "17:24:00",
          "17:25:00",
          "17:26:00",
          "17:27:00",
          "17:28:00",
          "17:29:00",
          "17:30:00",
          "17:31:00",
          "17:32:00",
          "17:33:00",
          "17:34:00",
          "17:35:00",
          "17:36:00",
          "17:37:00",
          "17:38:00",
          "17:39:00",
          "17:40:00",
          "17:41:00",
          "17:42:00",
          "17:43:00",
          "17:44:00",
          "17:45:00",
          "17:46:00",
          "17:47:00",
          "17:48:00",
          "17:49:00",
          "17:50:00",
          "17:51:00",
          "17:52:00",
          "17:53:00",
          "17:54:00",
          "17:55:00",
          "17:56:00",
          "17:57:00",
          "17:58:00",
          "17:59:00",
          "18:00:00",
          "18:01:00",
          "18:02:00",
          "18:03:00",
          "18:04:00",
          "18:05:00",
          "18:06:00",
          "18:07:00",
          "18:08:00",
          "18:09:00",
          "18:10:00",
          "18:11:00",
          "18:12:00",
          "18:13:00",
          "18:14:00",
          "18:15:00",
          "18:16:00",
          "18:17:00",
          "18:18:00",
          "18:19:00",
          "18:20:00",
          "18:21:00",
          "18:22:00",
          "18:23:00",
          "18:24:00",
          "18:25:00",
          "18:26:00",
          "18:27:00",
          "18:28:00",
          "18:29:00",
          "18:30:00",
          "18:31:00",
          "18:32:00",
          "18:33:00",
          "18:34:00",
          "18:35:00",
          "18:36:00",
          "18:37:00",
          "18:38:00",
          "18:39:00",
          "18:40:00",
          "18:41:00",
          "18:42:00",
          "18:43:00",
          "18:44:00",
          "18:45:00",
          "18:46:00",
          "18:47:00",
          "18:48:00",
          "18:49:00",
          "18:50:00",
          "18:51:00",
          "18:52:00",
          "18:53:00",
          "18:54:00",
          "18:55:00",
          "18:56:00",
          "18:57:00",
          "18:58:00",
          "18:59:00",
          "19:00:00",
          "19:01:00",
          "19:02:00",
          "19:03:00",
          "19:04:00",
          "19:05:00",
          "19:06:00",
          "19:07:00",
          "19:08:00",
          "19:09:00",
          "19:10:00",
          "19:11:00",
          "19:12:00",
          "19:13:00",
          "19:14:00",
          "19:15:00",
          "19:16:00",
          "19:17:00",
          "19:18:00",
          "19:19:00",
          "19:20:00",
          "19:21:00",
          "19:22:00",
          "19:23:00",
          "19:24:00",
          "19:25:00",
          "19:26:00",
          "19:27:00",
          "19:28:00",
          "19:29:00",
          "19:30:00",
          "19:31:00",
          "19:32:00",
          "19:33:00",
          "19:34:00",
          "19:35:00",
          "19:36:00",
          "19:37:00",
          "19:38:00",
          "19:39:00",
          "19:40:00",
          "19:41:00",
          "19:42:00",
          "19:43:00",
          "19:44:00",
          "19:45:00",
          "19:46:00",
          "19:47:00",
          "19:48:00",
          "19:49:00",
          "19:50:00",
          "19:51:00",
          "19:52:00",
          "19:53:00",
          "19:54:00",
          "19:55:00",
          "19:56:00",
          "19:57:00",
          "19:58:00",
          "19:59:00",
          "20:00:00",
          "20:01:00",
          "20:02:00",
          "20:03:00",
          "20:04:00",
          "20:05:00",
          "20:06:00",
          "20:07:00",
          "20:08:00",
          "20:09:00",
          "20:10:00",
          "20:11:00",
          "20:12:00",
          "20:13:00",
          "20:14:00",
          "20:15:00",
          "20:16:00",
          "20:17:00",
          "20:18:00",
          "20:19:00",
          "20:20:00",
          "20:21:00",
          "20:22:00",
          "20:23:00",
          "20:24:00",
          "20:25:00",
          "20:26:00",
          "20:27:00",
          "20:28:00",
          "20:29:00",
          "20:30:00",
          "20:31:00",
          "20:32:00",
          "20:33:00",
          "20:34:00",
          "20:35:00",
          "20:36:00",
          "20:37:00",
          "20:38:00",
          "20:39:00",
          "20:40:00",
          "20:41:00",
          "20:42:00",
          "20:43:00",
          "20:44:00",
          "20:45:00",
          "20:46:00",
          "20:47:00",
          "20:48:00",
          "20:49:00",
          "20:50:00",
          "20:51:00",
          "20:52:00",
          "20:53:00",
          "20:54:00",
          "20:55:00",
          "20:56:00",
          "20:57:00",
          "20:58:00",
          "20:59:00",
          "21:00:00",
          "21:01:00",
          "21:02:00",
          "21:03:00",
          "21:04:00",
          "21:05:00",
          "21:06:00",
          "21:07:00",
          "21:08:00",
          "21:09:00",
          "21:10:00",
          "21:11:00",
          "21:12:00",
          "21:13:00",
          "21:14:00",
          "21:15:00",
          "21:16:00",
          "21:17:00",
          "21:18:00",
          "21:19:00",
          "21:20:00",
          "21:21:00",
          "21:22:00",
          "21:23:00",
          "21:24:00",
          "21:25:00",
          "21:26:00",
          "21:27:00",
          "21:28:00",
          "21:29:00",
          "21:30:00",
          "21:31:00",
          "21:32:00",
          "21:33:00",
          "21:34:00",
          "21:35:00",
          "21:36:00",
          "21:37:00",
          "21:38:00",
          "21:39:00",
          "21:40:00",
          "21:41:00",
          "21:42:00",
          "21:43:00",
          "21:44:00",
          "21:45:00",
          "21:46:00",
          "21:47:00",
          "21:48:00",
          "21:49:00",
          "21:50:00",
          "21:51:00",
          "21:52:00",
          "21:53:00",
          "21:54:00",
          "21:55:00",
          "21:56:00",
          "21:57:00",
          "21:58:00",
          "21:59:00",
          "22:00:00",
          "22:01:00",
          "22:02:00",
          "22:03:00",
          "22:04:00",
          "22:05:00",
          "22:06:00",
          "22:07:00",
          "22:08:00",
          "22:09:00",
          "22:10:00",
          "22:11:00",
          "22:12:00",
          "22:13:00",
          "22:14:00",
          "22:15:00",
          "22:16:00",
          "22:17:00",
          "22:18:00",
          "22:19:00",
          "22:20:00",
          "22:21:00",
          "22:22:00",
          "22:23:00",
          "22:24:00",
          "22:25:00",
          "22:26:00",
          "22:27:00",
          "22:28:00",
          "22:29:00",
          "22:30:00",
          "22:31:00",
          "22:32:00",
          "22:33:00",
          "22:34:00",
          "22:35:00",
          "22:36:00",
          "22:37:00",
          "22:38:00",
          "22:39:00",
          "22:40:00",
          "22:41:00",
          "22:42:00",
          "22:43:00",
          "22:44:00",
          "22:45:00",
          "22:46:00",
          "22:47:00",
          "22:48:00",
          "22:49:00",
          "22:50:00",
          "22:51:00",
          "22:52:00",
          "22:53:00",
          "22:54:00",
          "22:55:00",
          "22:56:00",
          "22:57:00",
          "22:58:00",
          "22:59:00",
          "23:00:00",
          "23:01:00",
          "23:02:00",
          "23:03:00",
          "23:04:00",
          "23:05:00",
          "23:06:00",
          "23:07:00",
          "23:08:00",
          "23:09:00",
          "23:10:00",
          "23:11:00",
          "23:12:00",
          "23:13:00",
          "23:14:00",
          "23:15:00",
          "23:16:00",
          "23:17:00",
          "23:18:00",
          "23:19:00",
          "23:20:00",
          "23:21:00",
          "23:22:00",
          "23:23:00",
          "23:24:00",
          "23:25:00",
          "23:26:00",
          "23:27:00",
          "23:28:00",
          "23:29:00",
          "23:30:00",
          "23:31:00",
          "23:32:00",
          "23:33:00",
          "23:34:00",
          "23:35:00",
          "23:36:00",
          "23:37:00",
          "23:38:00",
          "23:39:00",
          "23:40:00",
          "23:41:00",
          "23:42:00",
          "23:43:00",
          "23:44:00",
          "23:45:00",
          "23:46:00",
          "23:47:00",
          "23:48:00",
          "23:49:00",
          "23:50:00",
          "23:51:00",
          "23:52:00",
          "23:53:00",
          "23:54:00",
          "23:55:00",
          "23:56:00",
          "23:57:00",
          "23:58:00",
          "23:59:00"
         ],
         "xaxis": "x",
         "y": [
          3113504.285714286,
          3701825.714285714,
          3247507.1428571427,
          3218592.8571428573,
          2892327.7142857146,
          3139414.285714286,
          3417300,
          3164340,
          3052030,
          2997681.4285714286,
          2617088.5714285714,
          2845900,
          2882867.1428571427,
          2781708.5714285714,
          3067398.5714285714,
          3146068.5714285714,
          2965300,
          3222248.5714285714,
          2966228.5714285714,
          2750028.5714285714,
          2682075.714285714,
          2699028.5714285714,
          2656800,
          2590774.285714286,
          2812167.1428571427,
          2547085.714285714,
          2756918.5714285714,
          2584957.1428571427,
          2729834.285714286,
          2708864.285714286,
          2365251.4285714286,
          2610414.285714286,
          2499598.5714285714,
          2292914.285714286,
          2264200,
          2585271.4285714286,
          2307714.285714286,
          2411671.4285714286,
          3138142.8571428573,
          2237685.714285714,
          2740545.5714285714,
          2306228.5714285714,
          2165257.1428571427,
          2211114.285714286,
          2095505.7142857143,
          2106685.714285714,
          2109142.8571428573,
          2030057.142857143,
          2034755.7142857143,
          2120042.8571428573,
          2149185.714285714,
          2055135.7142857143,
          2146914.285714286,
          2013328.5714285714,
          2206271.4285714286,
          2085871.4285714286,
          2050228.5714285714,
          1956000,
          2092642.8571428573,
          1998800,
          2027914.2857142857,
          1883100,
          1985571.4285714286,
          2020042.857142857,
          1828614.2857142857,
          2202485.714285714,
          1843865.7142857143,
          1713042.857142857,
          1776485.7142857143,
          2122400,
          1676471.4285714286,
          1643028.5714285714,
          1643028.5714285714,
          1708785.7142857143,
          1754271.4285714286,
          1890314.2857142857,
          1961228.5714285714,
          1599825.7142857143,
          1627912.8571428573,
          1339844.2857142857,
          1397557.142857143,
          1971692.857142857,
          1537790,
          1644642.8571428573,
          1489585.7142857143,
          1433485.7142857143,
          1560700,
          1212714.2857142857,
          1435814.2857142857,
          1332637.142857143,
          1401728.5714285714,
          1386675.7142857143,
          1295957.142857143,
          1366457.142857143,
          1377385.7142857143,
          1250657.142857143,
          1335700,
          1359128.5714285714,
          1431042.8571428573,
          1344671.4285714286,
          1211514.2857142857,
          1019228.5714285714,
          1270771.4285714286,
          1337685.7142857143,
          1130014.2857142857,
          1408628.5714285714,
          1000585.7142857143,
          1208042.8571428573,
          1253142.8571428573,
          1274828.5714285714,
          1206500,
          1226107.142857143,
          1149542.857142857,
          1074378.5714285714,
          1503642.857142857,
          1548300,
          1362800,
          1086600,
          1286371.4285714286,
          1603277.142857143,
          1380674.2857142857,
          1427871.4285714286,
          1310957.142857143,
          1182785.7142857143,
          880242.8571428572,
          1176971.4285714286,
          913457.1428571428,
          911514.2857142857,
          906500,
          961894.2857142857,
          1114250,
          1297057.142857143,
          1032014.2857142857,
          859614.2857142857,
          1144600,
          810671.4285714286,
          933642.8571428572,
          917400,
          903371.4285714285,
          843085.7142857143,
          742514.2857142857,
          888828.5714285715,
          778514.2857142857,
          782271.4285714286,
          712542.8571428572,
          779857.1428571428,
          643850,
          760357.1428571428,
          837657.1428571428,
          667302.8571428572,
          743157.1428571428,
          814864.2857142857,
          820900,
          697128.5714285715,
          732100,
          743571.4285714286,
          647928.5714285715,
          894500,
          876842.8571428572,
          806157.1428571428,
          579585.7142857143,
          564628.5714285715,
          679514.2857142857,
          586500,
          506271.4285714286,
          583557.1428571428,
          805914.2857142857,
          757471.4285714285,
          520081.4285714286,
          548385.7142857143,
          604857.1428571428,
          571257.1428571428,
          547242.8571428572,
          660357.1428571428,
          675957.1428571428,
          523428.5714285714,
          580242.8571428572,
          559114.2857142857,
          661485.7142857143,
          610228.5714285715,
          700857.1428571428,
          605550,
          622085.7142857143,
          650114.2857142857,
          600942.8571428572,
          514914.28571428574,
          494471.4285714286,
          481028.5714285714,
          460385.71428571426,
          381057.14285714284,
          388300,
          422542.85714285716,
          430714.2857142857,
          517257.14285714284,
          536785.7142857143,
          374214.28571428574,
          452185.71428571426,
          425314.2857142857,
          403742.85714285716,
          353200,
          424714.28571428574,
          418071.4285714286,
          366014.28571428574,
          435628.5714285714,
          318385.71428571426,
          435900,
          468871.4285714286,
          445857.14285714284,
          376700,
          440600,
          344371.4285714286,
          400885.7142857143,
          301528.5714285714,
          431128.5714285714,
          406442.85714285716,
          300400,
          471757.14285714284,
          463257.14285714284,
          352942.85714285716,
          442785.71428571426,
          332928.5714285714,
          612428.5714285715,
          296800,
          277985.7142857143,
          311057.14285714284,
          284628.5714285714,
          327671.4285714286,
          298157.14285714284,
          339414.28571428574,
          279402.28571428574,
          207140.57142857142,
          358957.14285714284,
          332814.28571428574,
          292600,
          356614.2857142857,
          298571.4285714286,
          287657.14285714284,
          332871.4285714286,
          358971.4285714286,
          226685.7142857143,
          359055.71428571426,
          297685.71428571426,
          253200,
          263628.5714285714,
          340500,
          296385.71428571426,
          226000,
          226985.7142857143,
          268957.14285714284,
          289700,
          261728.57142857142,
          217485.7142857143,
          278514.28571428574,
          242528.57142857142,
          233985.7142857143,
          265485.71428571426,
          216085.7142857143,
          174985.7142857143,
          241542.85714285716,
          185342.85714285716,
          198557.14285714287,
          220471.42857142858,
          264690,
          143750,
          209128.57142857142,
          232557.14285714284,
          198942.85714285716,
          210914.2857142857,
          129242.85714285714,
          206100,
          216000,
          158128.57142857142,
          204100,
          155642.85714285713,
          127342.85714285714,
          188857.14285714287,
          153985.7142857143,
          129328.57142857142,
          53842.857142857145,
          116000,
          153214.2857142857,
          105042.85714285714,
          126500,
          158214.2857142857,
          96114.28571428571,
          78471.42857142858,
          83357.14285714286,
          75185.71428571429,
          145971.42857142858,
          119057.14285714286,
          127442.85714285714,
          102342.85714285714,
          197242.85714285713,
          134728.57142857142,
          134314.2857142857,
          111100,
          100342.85714285714,
          154000,
          111214.28571428571,
          142171.42857142858,
          134714.2857142857,
          115571.42857142858,
          164500,
          122500,
          81000,
          53785.71428571428,
          122842.85714285714,
          189757.14285714287,
          59042.857142857145,
          103428.57142857142,
          102400,
          166900,
          80500,
          75285.71428571429,
          132271.42857142858,
          50214.28571428571,
          47500,
          64428.57142857143,
          36214.28571428572,
          92428.57142857143,
          156028.57142857142,
          86071.42857142857,
          73128.57142857143,
          85000,
          182214.2857142857,
          90714.28571428571,
          45257.142857142855,
          52428.57142857143,
          58142.857142857145,
          88571.42857142858,
          115357.14285714287,
          80857.14285714286,
          75214.28571428571,
          50671.42857142857,
          63285.71428571429,
          124285.71428571429,
          74857.14285714286,
          109428.57142857143,
          44214.28571428572,
          65457.142857142855,
          133785.7142857143,
          90099.99999999999,
          69257.14285714286,
          44714.28571428572,
          62142.857142857145,
          116714.28571428571,
          78571.42857142858,
          35071.42857142857,
          32857.142857142855,
          58857.142857142855,
          74428.57142857143,
          39142.85714285714,
          111428.57142857143,
          76428.57142857143,
          53857.14285714286,
          58285.71428571428,
          110428.57142857142,
          38285.71428571428,
          54071.42857142857,
          17000,
          59428.57142857143,
          34000,
          64500.00000000001,
          45285.71428571428,
          24028.571428571428,
          124714.28571428571,
          49214.28571428572,
          63000,
          29600,
          62285.71428571428,
          54314.28571428572,
          46428.57142857143,
          41485.71428571428,
          52914.28571428572,
          126028.57142857142,
          57857.142857142855,
          70714.28571428572,
          62142.857142857145,
          138171.42857142858,
          43571.42857142857,
          74000,
          69314.28571428571,
          117214.28571428571,
          78857.14285714286,
          83285.71428571429,
          59935.57142857143,
          52742.857142857145,
          47985.71428571429,
          137500,
          23857.142857142855,
          41328.57142857143,
          103242.85714285714,
          43000,
          31642.85714285714,
          64445.71428571428,
          80197.14285714286,
          61071.42857142857,
          69328.57142857143,
          70742.85714285714,
          288228.5714285714,
          118714.28571428571,
          91571.42857142858,
          122857.14285714286,
          155071.42857142858,
          174600,
          137785.7142857143,
          157857.14285714287,
          276500,
          83514.28571428571,
          129857.14285714286,
          139000,
          132571.42857142858,
          96642.85714285714,
          123571.42857142858,
          194500,
          59928.571428571435,
          125714.28571428571,
          114714.28571428571,
          155085.7142857143,
          84571.42857142858,
          118457.14285714286,
          134500,
          250928.57142857145,
          117557.14285714286,
          232000,
          86314.28571428571,
          166957.14285714284,
          48000.00000000001,
          213928.57142857142,
          166728.57142857142,
          147357.14285714287,
          114428.57142857143,
          60714.28571428572,
          205000,
          139357.14285714287,
          78289.14285714286,
          128571.42857142858,
          199071.42857142858,
          99428.57142857142,
          85428.57142857143,
          87769.71428571429,
          93142.85714285714,
          120671.42857142857,
          145800,
          117057.14285714286,
          96357.14285714286,
          190285.71428571426,
          86571.42857142858,
          247528.57142857145,
          66857.14285714286,
          193985.7142857143,
          82571.42857142857,
          75571.42857142858,
          91785.71428571429,
          63742.857142857145,
          1095871.4285714284,
          69285.71428571429,
          50428.57142857143,
          102971.42857142858,
          78000,
          44785.71428571428,
          45714.28571428572,
          80000,
          194057.14285714287,
          46542.857142857145,
          343785.7142857143,
          66071.42857142857,
          74428.57142857143,
          51357.142857142855,
          53642.857142857145,
          108571.42857142858,
          205285.71428571426,
          111600,
          63428.57142857143,
          85928.57142857143,
          85500,
          108214.28571428571,
          334714.28571428574,
          160314.28571428574,
          90857.14285714286,
          41142.857142857145,
          297571.4285714285,
          81714.28571428571,
          47057.142857142855,
          74500,
          63857.142857142855,
          96714.28571428571,
          44571.42857142857,
          184000,
          186714.2857142857,
          134642.85714285713,
          92085.71428571429,
          236428.57142857142,
          105000,
          42857.142857142855,
          211285.71428571426,
          262000,
          344428.5714285714,
          157142.85714285716,
          396285.71428571426,
          232857.14285714284,
          242500,
          93714.28571428571,
          122857.14285714286,
          198057.14285714287,
          64142.857142857145,
          221000,
          81500,
          147307.14285714287,
          63285.7142857143,
          123000,
          117000,
          141714.28571428574,
          178571.42857142858,
          178500,
          71000,
          77714.28571428571,
          888642.8571428573,
          123000,
          595071.4285714285,
          93071.42857142857,
          278857.14285714284,
          113785.71428571429,
          411299.99999999994,
          159428.57142857142,
          71000,
          339857.14285714284,
          78285.71428571429,
          85142.85714285714,
          479785.71428571426,
          214785.71428571426,
          181214.2857142857,
          230285.7142857143,
          158000,
          104071.42857142858,
          307285.7142857142,
          287642.85714285716,
          549428.5714285715,
          286142.85714285716,
          385785.71428571426,
          188285.7142857143,
          188214.2857142857,
          213214.28571428568,
          90071.42857142858,
          119285.71428571428,
          395214.28571428574,
          198814.28571428574,
          96142.85714285714,
          83571.42857142857,
          125571.42857142858,
          418428.5714285714,
          119785.71428571429,
          374042.85714285716,
          74500,
          195357.14285714284,
          143928.57142857142,
          83714.28571428571,
          42857.142857142855,
          254285.7142857143,
          252857.14285714287,
          382357.14285714284,
          644571.4285714286,
          89785.71428571429,
          98928.57142857143,
          235571.42857142855,
          141500,
          92000,
          712357.1428571428,
          175357.14285714284,
          168714.2857142857,
          297902.85714285716,
          371857.14285714284,
          49442.857142857145,
          144428.57142857142,
          104571.42857142858,
          390500.00000000006,
          145357.14285714287,
          134285.7142857143,
          117714.28571428571,
          -25857.14285714287,
          78771.42857142857,
          120457.14285714286,
          248214.2857142857,
          516785.7142857143,
          40571.42857142857,
          206214.2857142857,
          110285.71428571429,
          309528.5714285714,
          128557.14285714286,
          241214.2857142857,
          478428.5714285714,
          966785.7142857142,
          141071.42857142858,
          133714.2857142857,
          116142.85714285714,
          178644.2857142857,
          105214.28571428571,
          327000.00000000006,
          130285.71428571429,
          234128.57142857145,
          254428,
          101214.28571428571,
          116071.42857142858,
          179285.71428571426,
          242357.14285714284,
          93071.4285714286,
          217142.85714285716,
          155785.7142857143,
          189071.42857142858,
          224785.7142857143,
          200828.57142857145,
          143642.85714285713,
          152685.7142857143,
          230685.7142857143,
          400250,
          513268.2857142857,
          498000,
          146114.28571428574,
          386971.4285714285,
          263857.14285714284,
          181628.57142857142,
          523185.7142857143,
          139500,
          129900,
          514785.71428571426,
          157100,
          369785.71428571426,
          505200,
          188414.28571428574,
          200428.57142857142,
          1369014.2857142857,
          131857.14285714287,
          212614.2857142857,
          643785.7142857143,
          275400,
          111029.14285714286,
          924828,
          236914.2857142857,
          530528.5714285714,
          443578.57142857136,
          581900,
          195600.00000000003,
          528314.2857142857,
          383900,
          266700,
          247086.2857142857,
          168685.14285714287,
          259314.2857142857,
          528714.8571428572,
          284213.71428571426,
          424428.5714285714,
          934800.0000000001,
          388885.71428571426,
          223985.7142857143,
          916842.857142857,
          487786.28571428574,
          545470.8571428572,
          478671.4285714286,
          522500,
          726000,
          710100.5714285715,
          774499.4285714285,
          602185.7142857143,
          731871.4285714285,
          442128.5714285714,
          541042.8571428572,
          506100,
          377571.4285714286,
          566764.2857142857,
          572328.5714285715,
          661014.2857142857,
          510071.4285714286,
          480957.14285714284,
          372200,
          689935.7142857143,
          548557.1428571428,
          627757.1428571428,
          641100,
          368885.7142857143,
          581772.8571428572,
          915498.5714285715,
          713371.4285714286,
          846257.1428571428,
          697171.4285714286,
          1087515.2857142857,
          1090499,
          882214.8571428573,
          989428,
          1389071.4285714286,
          1667314.285714286,
          631357.1428571428,
          1749578.5714285714,
          542342.8571428572,
          1417140.5714285714,
          1478202.2857142857,
          1177350,
          1088614.2857142857,
          1162228.5714285714,
          1049085.7142857143,
          1397728.5714285714,
          1266785.7142857143,
          1483371.4285714286,
          1233501.857142857,
          1257713.142857143,
          1439514.2857142857,
          1560300,
          1824771.4285714286,
          1833314.857142857,
          1338499.4285714286,
          1627100,
          1837372,
          2263635.714285714,
          1877021.4285714286,
          2058285.7142857143,
          3275128.5714285714,
          2210547.8571428573,
          2334600,
          2295328.5714285714,
          2855128.5714285714,
          2909371.4285714286,
          3153685.714285714,
          3118928.5714285714,
          3747214.285714286,
          3916442.8571428573,
          4289801.428571428,
          3735106.5714285714,
          3993293.4285714286,
          3527717.1428571427,
          5505268.571428572,
          4443242.857142857,
          4836086.285714285,
          4846944.285714285,
          4855445.142857143,
          6031786.571428572,
          4898214.285714285,
          5371272,
          5964410.857142857,
          6930173.428571428,
          6542414.285714285,
          7022500,
          7439400,
          6626028.571428572,
          7208857.142857143,
          8439585.714285715,
          7393285.714285715,
          7997828.571428572,
          7476005,
          7538750,
          7768972,
          7186192.285714285,
          7394371.428571429,
          7472385.714285715,
          8022021.428571429,
          7541391.571428572,
          8907039,
          7946885.714285715,
          8623726.285714285,
          8146376.285714285,
          7792060,
          8111485.714285715,
          7582859.142857143,
          8153200,
          7847517.857142857,
          8408921.42857143,
          7166786.428571428,
          7795906,
          7877179.142857143,
          7340871.428571429,
          7493271.428571428,
          7701386.285714285,
          6779985.714285715,
          6988585.714285715,
          7226407.428571428,
          6625171.428571428,
          7076271.428571428,
          6443273.142857143,
          6456729.714285715,
          7636393.428571429,
          6951626.857142857,
          6220073.142857143,
          6013178.571428572,
          5797154.857142857,
          5158971.428571429,
          5378459.285714285,
          5662557.428571428,
          5201185.714285715,
          6342000,
          5664750,
          5736000,
          5307314.285714285,
          5277100,
          6128457.142857143,
          5487357.142857143,
          5577414.285714285,
          5287214.285714285,
          5426585.714285715,
          5630157.142857143,
          5588235.714285715,
          6168950,
          5498000,
          5932428.571428572,
          4590457.142857143,
          5461285.714285715,
          5048200,
          4501142.857142857,
          5161835.714285715,
          4565214.285714285,
          4698192.857142857,
          5950600.571428572,
          4240928,
          4512814.428571428,
          4845521.428571428,
          4512314.285714285,
          4534149.857142857,
          4341692.285714285,
          4776585.714285715,
          4226257.142857143,
          4893374,
          4094935.1428571427,
          4064307.1428571427,
          4366935.714285715,
          3737000,
          4757514.285714285,
          3880728.5714285714,
          4097900,
          4729528.571428572,
          4201814.285714285,
          3847728.5714285714,
          3341514.285714286,
          3306414.285714286,
          4422920.714285715,
          3861664.285714286,
          4543387.428571428,
          3834450,
          3096228.5714285714,
          3758671.4285714286,
          3197335.714285714,
          3243321.4285714286,
          3552742.8571428573,
          2966071.4285714286,
          4510357.142857143,
          2996128.5714285714,
          3701228.5714285714,
          2991671.4285714286,
          3103957.714285714,
          2936549.4285714286,
          3589628.5714285714,
          3410764.285714286,
          3593100,
          4146414.285714286,
          3420878.5714285714,
          2957064.285714286,
          3411478.5714285714,
          2691385.714285714,
          3088464.2857142854,
          2702778.5714285714,
          3713471.4285714286,
          2336635,
          3125228.5714285714,
          3014457.1428571427,
          2811173,
          3162142.8571428573,
          3045287.1428571427,
          3120498,
          2458500,
          2518502,
          2661000.5714285714,
          3169678.5714285714,
          2396642.8571428573,
          3408307.1428571427,
          3076407.1428571427,
          3837357.1428571427,
          2834329.714285714,
          1908242.2857142857,
          3414108.285714286,
          2624942.285714286,
          2213885.1428571427,
          2595671.4285714286,
          3182187.1428571427,
          2771514.8571428573,
          2445113.714285714,
          3082957.714285714,
          2337216.5714285714,
          2375732.8571428573,
          2821371.4285714286,
          2381651.4285714286,
          1904413.5714285714,
          2686428.5714285714,
          2340464.285714286,
          2169700,
          2566407.1428571427,
          2894507.1428571427,
          2777742.8571428573,
          2150857.1428571427,
          3067071.4285714286,
          2053571.4285714286,
          2142771.4285714286,
          2661414.285714286,
          2198257.1428571427,
          2441607.1428571427,
          1771742.857142857,
          2341172,
          1669171.4285714286,
          2201685.714285714,
          2444285.7142857146,
          2418919,
          2356071.4285714286,
          2001328.5714285716,
          1939943.4285714284,
          2106142.2857142854,
          2072728,
          2226292.8571428573,
          1926028.5714285714,
          2101443.1428571427,
          1549070.857142857,
          2254242.8571428573,
          2265128.5714285714,
          2065979.142857143,
          1511957.142857143,
          1733864.2857142857,
          1641557.142857143,
          2495200,
          1487342.857142857,
          2435842.8571428573,
          1755380.2857142857,
          2397128.5714285714,
          1148471.4285714286,
          1379507.142857143,
          2064514.2857142857,
          2256557.7142857146,
          1848913.7142857143,
          1651850.5714285714,
          1577371.4285714286,
          1451371.4285714286,
          2020971.4285714286,
          1704842.8571428573,
          2304492.8571428573,
          1778264.285714286,
          1312771.4285714286,
          1995078.5714285714,
          1687257.142857143,
          1528328.7142857143,
          2116807,
          1842829.142857143,
          1245256.5714285714,
          1378700,
          1532493.4285714286,
          1747856.5714285714,
          1587142.857142857,
          1582300,
          1372971.4285714286,
          1380614.2857142857,
          1528314.2857142857,
          1535214.2857142857,
          1206257.142857143,
          2312850,
          1396071.4285714286,
          2101271.4285714286,
          3143150.571428572,
          1630885.142857143,
          1519614.2857142857,
          1493928.5714285714,
          1196628.5714285714,
          1650242.857142857,
          1916057.142857143,
          1097671.4285714286,
          1816971.4285714286,
          1695886.2857142857,
          1455559.142857143,
          1763368.8571428573,
          1643557.142857143,
          1754171.4285714286,
          2370601.1428571427,
          1373541.7142857143,
          1186207.142857143,
          1652842.8571428573,
          1465728.5714285714,
          1607435.7142857143,
          1485471.4285714286,
          2121257.7142857146,
          949285.7142857143,
          1244929.142857143,
          1664856.5714285714,
          1611899.4285714286,
          1948371.4285714286,
          1704079.142857143,
          1304242.857142857,
          1154971.4285714286,
          1472971.4285714286,
          1363621.4285714286,
          1498885.142857143,
          921528.5714285715,
          1426642.8571428573,
          1594942.857142857,
          1407214.2857142857,
          1487271.4285714286,
          1579000,
          1272550,
          1342800,
          1892200,
          2163400,
          2825628.5714285714,
          1411929.142857143,
          1355142.2857142857,
          1021142.8571428572,
          1580285.7142857143,
          1937159.7142857143,
          1775771.4285714286,
          1327490,
          2153071.4285714286,
          2535100,
          1602271.4285714286,
          2095442.8571428573,
          1888485.7142857143,
          2873944.285714286,
          2254281.4285714286,
          2233728.5714285714,
          1872885.7142857143,
          1730742.857142857,
          1194542.8571428573,
          1715414.2857142857,
          1456478.5714285714,
          1690400,
          1499200,
          1618242.857142857,
          1742114.857142857,
          1874271.4285714286,
          1350100.5714285714,
          1591500,
          1756616.142857143,
          1628941,
          2137799.4285714286,
          2394605.7142857146,
          1864485.7142857143,
          1358085.7142857143,
          2516559.5714285714,
          1534570.857142857,
          1857000,
          2646292.8571428573,
          1977942.2857142857,
          1316442.8571428573,
          2476728.5714285714,
          2174048.5714285714,
          1949742.857142857,
          2345057.1428571427,
          1751871.4285714286,
          1562350.5714285714,
          1913049.4285714286,
          2146850,
          2360000,
          3051050,
          2128228.5714285714,
          2050730,
          1969281.4285714286,
          2109228.5714285714,
          2335310,
          2282271.4285714286,
          1776300,
          2395285.7142857146,
          2473767.1428571427,
          2294337.1428571427,
          2774162.8571428573,
          2098554.285714286,
          2306957.1428571427,
          2474614.285714286,
          2615998.5714285714,
          2792957.1428571427,
          2509874.285714286,
          2802614.285714286,
          2203052.8571428573,
          3334448.5714285714,
          2380614.285714286,
          2490500.5714285714,
          2872710.8571428573,
          2531357.1428571427,
          3143785.714285714,
          2800802.8571428573,
          2927449.5714285714,
          2911565.8571428573,
          2964728.5714285714,
          3058171.4285714286,
          3465974.285714286,
          3326642.8571428573,
          3349250,
          3554014.285714286,
          3280507.1428571427,
          3504248.5714285714,
          3250670,
          3704728.5714285714,
          3118928.5714285714,
          4035071.4285714286,
          3981442.8571428573,
          3335057.1428571427,
          4739490,
          3981134.285714286,
          4762230,
          4184202.8571428573,
          3732528.5714285714,
          4648700,
          4496490,
          4735335.571428572,
          4906415.714285715,
          4182387.1428571427,
          4315931.428571428,
          4876838.571428572,
          5517314.285714285,
          4875814.285714285,
          4445191.428571428,
          4901577.142857143,
          5374182.857142857,
          5238065.714285715,
          5000684.285714285,
          5052742.857142857,
          5813434.285714285,
          5213402.857142857,
          5795114.285714285,
          5545347.142857143,
          4987347.142857143,
          6309880,
          5579465.714285715,
          5672275.714285715,
          5898379.142857143,
          6033259.142857143,
          6631457.714285715,
          6175629.142857143,
          6008503.714285715,
          6190792.857142857,
          6817560,
          6690515,
          6385392.857142857,
          6393113.714285715,
          6791253.571428572,
          6555155.714285715,
          6837314.285714285,
          7378485.714285715,
          7157351.428571428,
          7340793.142857143,
          7063924.285714285,
          7120112.857142857,
          7781164.285714285,
          7698957.142857143,
          7959291.428571428,
          8141194.285714285,
          8009185,
          8295700,
          7813569.142857143,
          8894357.285714285,
          7602507.142857143,
          8095934.285714285,
          8725147.857142856,
          8666964.285714285,
          8582010,
          8436437.142857144,
          8521091.42857143,
          8958528.57142857,
          8421711.42857143,
          9027378.57142857,
          8953382.857142856,
          10389195.714285715,
          9241577.142857144,
          9922457.142857144,
          10054697.142857144,
          10224404,
          10310463,
          10189115.857142856,
          11408168.57142857,
          10923107.285714285,
          9891800,
          10906381.42857143,
          10329384.285714285,
          10876737.142857144,
          10644730,
          10865014.285714285,
          11238444.285714285,
          10845480,
          11509840,
          11619767.142857144,
          11040778.57142857,
          11393386.57142857,
          11423083.42857143,
          11707791.42857143,
          12341308.57142857,
          11656470,
          12556561.42857143,
          11851790,
          11706698.57142857,
          13094501.42857143,
          12102572.857142856,
          12656871.42857143,
          12451570,
          13112969.42857143,
          13206098.57142857,
          12758717.142857144,
          13790304.285714285,
          13434842.857142856,
          13297508.57142857,
          12691085.857142856,
          13267380.57142857,
          13480926.57142857,
          13782870,
          14320909.285714285,
          13382384.285714285,
          13213317.142857144,
          14063112.857142856,
          14432720,
          13730234.285714285,
          13183645.714285715,
          13108577.714285715,
          13719814.285714285,
          14029183.42857143,
          14625330.857142856,
          14630850,
          13892221.42857143,
          14872034.285714285,
          14227585.42857143,
          15322013.142857144,
          15726407.142857144,
          15567141.42857143,
          14269685.714285715,
          14902115.714285715,
          14918757.142857144,
          16037517.142857144,
          15274727.42857143,
          14521282.857142856,
          14443243.42857143,
          15260060,
          15799398.57142857,
          15407311.42857143,
          15289893.57142857,
          15158032.857142856,
          14502500,
          15539551.42857143,
          15679191.714285715,
          15260070.857142856,
          14533686.857142856,
          14251874.285714285,
          14659312.285714285,
          14381604.857142856,
          14495271.42857143,
          14707780,
          14059534.285714285,
          14959741.42857143,
          15148688.142857144,
          14507821.42857143,
          14187020,
          14901016,
          14997821.142857144,
          13563228.57142857,
          15057974.285714285,
          14328991.42857143,
          13962832.57142857,
          15282431.714285715,
          15078061.42857143,
          14414574.714285715,
          14346902.857142856,
          14418687.142857144,
          14323385.714285715,
          14125792.857142856,
          13316781.142857144,
          14089035.714285715,
          13966990,
          13189231,
          13755938.57142857,
          13283395.714285715,
          13430560,
          13516712.857142856,
          12770071.42857143,
          12204254.714285715,
          13072028.57142857,
          11612380,
          13483046.285714285,
          12108472.285714285,
          11951244.857142856,
          12248788.57142857,
          12662998.57142857,
          11457641.42857143,
          11658332.857142858,
          11807375,
          10995128.142857144,
          11853928.57142857,
          11884518.57142857,
          11902538.57142857,
          11350197.142857144,
          11949438.57142857,
          11277158.57142857,
          12062776.714285715,
          11400521.42857143,
          11214977.142857144,
          10806076.285714285,
          10153410,
          10699054.285714285,
          11131767.142857144,
          11089428.57142857,
          10461632.857142856,
          10629819.285714285,
          9886385.714285715,
          10492220,
          10608855.714285715,
          9849627.142857144,
          9692358.57142857,
          10509591.42857143,
          10151921,
          9589122.857142856,
          9815400,
          10172934.285714285,
          9879335.714285715,
          8964628.57142857,
          9751402.857142856,
          9877709.42857143,
          9466445.714285715,
          9792040,
          9642111.285714285,
          9090346,
          8664380.857142856,
          8765018.857142856,
          9252681.285714285,
          9520882.857142856,
          9455518.57142857,
          8320232.857142857,
          8479732.857142856,
          8594832.57142857,
          8820087.142857144,
          8074893.428571428,
          8391337.857142856,
          8525562.142857144,
          7772797.142857143,
          8013191.428571428,
          7732472.857142857,
          7958344.285714285,
          8059465.714285715,
          7173462.857142857,
          8049701.428571429,
          8172508.571428572,
          7026050,
          7226935.714285715,
          6725197.142857143,
          6618250,
          6816961.428571428,
          7159955.714285715,
          7248682.857142857,
          6920676,
          6723280,
          7282547.142857143,
          7263424.285714285,
          6723511.428571429,
          6225155.714285715,
          6760048.571428572,
          6437028.571428572,
          7256008.571428572,
          7042785.714285715,
          6266945.714285715,
          6620425.714285715,
          6513070,
          6474785.714285715,
          6215595.714285715,
          6825352.857142857,
          6200240,
          6051931.428571428,
          6135258.571428572,
          6251570,
          5739414.285714285,
          6242781.428571428,
          6538660.571428572,
          6033007,
          6038634.285714285,
          5706345.714285715,
          5392451.428571428,
          6047437.142857143,
          5392611.428571428,
          6174611.428571428,
          5816582.857142857,
          5809815.714285715,
          5430984.285714285,
          5719124.285714285,
          5842144.285714285,
          5443571.428571428,
          5452987.142857143,
          5765822.857142857,
          5241611.428571428,
          5423985.714285715,
          5129147.142857143,
          5366730,
          4819371.428571428,
          5507955.714285715,
          5433812.857142857,
          5001346.857142857,
          5222015.714285715,
          5335122.857142857,
          4957955.714285715,
          5170670,
          5502941.428571428,
          4322814.857142857,
          4960512.285714285,
          4881328.571428572,
          5634170.142857143,
          5380204.285714285,
          4672198.571428572,
          4559045.285714285,
          4638481.428571428,
          4399518.428571428,
          4872700.142857143,
          4505150,
          4330322.857142857,
          4472967.142857143,
          4414148.571428572,
          4262167.142857143,
          4731541.428571428,
          4326365.714285715,
          4443305.714285715,
          4059852.8571428573,
          3943597.1428571427,
          4252321.428571428,
          4258385.714285715,
          4074432.8571428573,
          4108368.5714285714,
          3912482.8571428573,
          3871355.714285714,
          3760404.285714286,
          4509002.857142857,
          4026352.8571428573,
          3942351.4285714286,
          4907235.714285715,
          3675160.714285714,
          3941630,
          3731108.5714285714,
          3437674.285714286,
          3764578.5714285714,
          3546714.285714286,
          3536285.714285714,
          3693814.285714286,
          3758702.8571428573,
          3474872.8571428573,
          3423631.4285714286,
          3535200,
          4018170,
          3892552.8571428573,
          3600789.8571428573,
          4066685.8571428573,
          3463051.4285714286,
          3495048.5714285714
         ],
         "yaxis": "y"
        }
       ],
       "layout": {
        "legend": {
         "title": {
          "text": "variable"
         },
         "tracegroupgap": 0
        },
        "template": {
         "data": {
          "bar": [
           {
            "error_x": {
             "color": "#2a3f5f"
            },
            "error_y": {
             "color": "#2a3f5f"
            },
            "marker": {
             "line": {
              "color": "#E5ECF6",
              "width": 0.5
             },
             "pattern": {
              "fillmode": "overlay",
              "size": 10,
              "solidity": 0.2
             }
            },
            "type": "bar"
           }
          ],
          "barpolar": [
           {
            "marker": {
             "line": {
              "color": "#E5ECF6",
              "width": 0.5
             },
             "pattern": {
              "fillmode": "overlay",
              "size": 10,
              "solidity": 0.2
             }
            },
            "type": "barpolar"
           }
          ],
          "carpet": [
           {
            "aaxis": {
             "endlinecolor": "#2a3f5f",
             "gridcolor": "white",
             "linecolor": "white",
             "minorgridcolor": "white",
             "startlinecolor": "#2a3f5f"
            },
            "baxis": {
             "endlinecolor": "#2a3f5f",
             "gridcolor": "white",
             "linecolor": "white",
             "minorgridcolor": "white",
             "startlinecolor": "#2a3f5f"
            },
            "type": "carpet"
           }
          ],
          "choropleth": [
           {
            "colorbar": {
             "outlinewidth": 0,
             "ticks": ""
            },
            "type": "choropleth"
           }
          ],
          "contour": [
           {
            "colorbar": {
             "outlinewidth": 0,
             "ticks": ""
            },
            "colorscale": [
             [
              0,
              "#0d0887"
             ],
             [
              0.1111111111111111,
              "#46039f"
             ],
             [
              0.2222222222222222,
              "#7201a8"
             ],
             [
              0.3333333333333333,
              "#9c179e"
             ],
             [
              0.4444444444444444,
              "#bd3786"
             ],
             [
              0.5555555555555556,
              "#d8576b"
             ],
             [
              0.6666666666666666,
              "#ed7953"
             ],
             [
              0.7777777777777778,
              "#fb9f3a"
             ],
             [
              0.8888888888888888,
              "#fdca26"
             ],
             [
              1,
              "#f0f921"
             ]
            ],
            "type": "contour"
           }
          ],
          "contourcarpet": [
           {
            "colorbar": {
             "outlinewidth": 0,
             "ticks": ""
            },
            "type": "contourcarpet"
           }
          ],
          "heatmap": [
           {
            "colorbar": {
             "outlinewidth": 0,
             "ticks": ""
            },
            "colorscale": [
             [
              0,
              "#0d0887"
             ],
             [
              0.1111111111111111,
              "#46039f"
             ],
             [
              0.2222222222222222,
              "#7201a8"
             ],
             [
              0.3333333333333333,
              "#9c179e"
             ],
             [
              0.4444444444444444,
              "#bd3786"
             ],
             [
              0.5555555555555556,
              "#d8576b"
             ],
             [
              0.6666666666666666,
              "#ed7953"
             ],
             [
              0.7777777777777778,
              "#fb9f3a"
             ],
             [
              0.8888888888888888,
              "#fdca26"
             ],
             [
              1,
              "#f0f921"
             ]
            ],
            "type": "heatmap"
           }
          ],
          "heatmapgl": [
           {
            "colorbar": {
             "outlinewidth": 0,
             "ticks": ""
            },
            "colorscale": [
             [
              0,
              "#0d0887"
             ],
             [
              0.1111111111111111,
              "#46039f"
             ],
             [
              0.2222222222222222,
              "#7201a8"
             ],
             [
              0.3333333333333333,
              "#9c179e"
             ],
             [
              0.4444444444444444,
              "#bd3786"
             ],
             [
              0.5555555555555556,
              "#d8576b"
             ],
             [
              0.6666666666666666,
              "#ed7953"
             ],
             [
              0.7777777777777778,
              "#fb9f3a"
             ],
             [
              0.8888888888888888,
              "#fdca26"
             ],
             [
              1,
              "#f0f921"
             ]
            ],
            "type": "heatmapgl"
           }
          ],
          "histogram": [
           {
            "marker": {
             "pattern": {
              "fillmode": "overlay",
              "size": 10,
              "solidity": 0.2
             }
            },
            "type": "histogram"
           }
          ],
          "histogram2d": [
           {
            "colorbar": {
             "outlinewidth": 0,
             "ticks": ""
            },
            "colorscale": [
             [
              0,
              "#0d0887"
             ],
             [
              0.1111111111111111,
              "#46039f"
             ],
             [
              0.2222222222222222,
              "#7201a8"
             ],
             [
              0.3333333333333333,
              "#9c179e"
             ],
             [
              0.4444444444444444,
              "#bd3786"
             ],
             [
              0.5555555555555556,
              "#d8576b"
             ],
             [
              0.6666666666666666,
              "#ed7953"
             ],
             [
              0.7777777777777778,
              "#fb9f3a"
             ],
             [
              0.8888888888888888,
              "#fdca26"
             ],
             [
              1,
              "#f0f921"
             ]
            ],
            "type": "histogram2d"
           }
          ],
          "histogram2dcontour": [
           {
            "colorbar": {
             "outlinewidth": 0,
             "ticks": ""
            },
            "colorscale": [
             [
              0,
              "#0d0887"
             ],
             [
              0.1111111111111111,
              "#46039f"
             ],
             [
              0.2222222222222222,
              "#7201a8"
             ],
             [
              0.3333333333333333,
              "#9c179e"
             ],
             [
              0.4444444444444444,
              "#bd3786"
             ],
             [
              0.5555555555555556,
              "#d8576b"
             ],
             [
              0.6666666666666666,
              "#ed7953"
             ],
             [
              0.7777777777777778,
              "#fb9f3a"
             ],
             [
              0.8888888888888888,
              "#fdca26"
             ],
             [
              1,
              "#f0f921"
             ]
            ],
            "type": "histogram2dcontour"
           }
          ],
          "mesh3d": [
           {
            "colorbar": {
             "outlinewidth": 0,
             "ticks": ""
            },
            "type": "mesh3d"
           }
          ],
          "parcoords": [
           {
            "line": {
             "colorbar": {
              "outlinewidth": 0,
              "ticks": ""
             }
            },
            "type": "parcoords"
           }
          ],
          "pie": [
           {
            "automargin": true,
            "type": "pie"
           }
          ],
          "scatter": [
           {
            "marker": {
             "colorbar": {
              "outlinewidth": 0,
              "ticks": ""
             }
            },
            "type": "scatter"
           }
          ],
          "scatter3d": [
           {
            "line": {
             "colorbar": {
              "outlinewidth": 0,
              "ticks": ""
             }
            },
            "marker": {
             "colorbar": {
              "outlinewidth": 0,
              "ticks": ""
             }
            },
            "type": "scatter3d"
           }
          ],
          "scattercarpet": [
           {
            "marker": {
             "colorbar": {
              "outlinewidth": 0,
              "ticks": ""
             }
            },
            "type": "scattercarpet"
           }
          ],
          "scattergeo": [
           {
            "marker": {
             "colorbar": {
              "outlinewidth": 0,
              "ticks": ""
             }
            },
            "type": "scattergeo"
           }
          ],
          "scattergl": [
           {
            "marker": {
             "colorbar": {
              "outlinewidth": 0,
              "ticks": ""
             }
            },
            "type": "scattergl"
           }
          ],
          "scattermapbox": [
           {
            "marker": {
             "colorbar": {
              "outlinewidth": 0,
              "ticks": ""
             }
            },
            "type": "scattermapbox"
           }
          ],
          "scatterpolar": [
           {
            "marker": {
             "colorbar": {
              "outlinewidth": 0,
              "ticks": ""
             }
            },
            "type": "scatterpolar"
           }
          ],
          "scatterpolargl": [
           {
            "marker": {
             "colorbar": {
              "outlinewidth": 0,
              "ticks": ""
             }
            },
            "type": "scatterpolargl"
           }
          ],
          "scatterternary": [
           {
            "marker": {
             "colorbar": {
              "outlinewidth": 0,
              "ticks": ""
             }
            },
            "type": "scatterternary"
           }
          ],
          "surface": [
           {
            "colorbar": {
             "outlinewidth": 0,
             "ticks": ""
            },
            "colorscale": [
             [
              0,
              "#0d0887"
             ],
             [
              0.1111111111111111,
              "#46039f"
             ],
             [
              0.2222222222222222,
              "#7201a8"
             ],
             [
              0.3333333333333333,
              "#9c179e"
             ],
             [
              0.4444444444444444,
              "#bd3786"
             ],
             [
              0.5555555555555556,
              "#d8576b"
             ],
             [
              0.6666666666666666,
              "#ed7953"
             ],
             [
              0.7777777777777778,
              "#fb9f3a"
             ],
             [
              0.8888888888888888,
              "#fdca26"
             ],
             [
              1,
              "#f0f921"
             ]
            ],
            "type": "surface"
           }
          ],
          "table": [
           {
            "cells": {
             "fill": {
              "color": "#EBF0F8"
             },
             "line": {
              "color": "white"
             }
            },
            "header": {
             "fill": {
              "color": "#C8D4E3"
             },
             "line": {
              "color": "white"
             }
            },
            "type": "table"
           }
          ]
         },
         "layout": {
          "annotationdefaults": {
           "arrowcolor": "#2a3f5f",
           "arrowhead": 0,
           "arrowwidth": 1
          },
          "autotypenumbers": "strict",
          "coloraxis": {
           "colorbar": {
            "outlinewidth": 0,
            "ticks": ""
           }
          },
          "colorscale": {
           "diverging": [
            [
             0,
             "#8e0152"
            ],
            [
             0.1,
             "#c51b7d"
            ],
            [
             0.2,
             "#de77ae"
            ],
            [
             0.3,
             "#f1b6da"
            ],
            [
             0.4,
             "#fde0ef"
            ],
            [
             0.5,
             "#f7f7f7"
            ],
            [
             0.6,
             "#e6f5d0"
            ],
            [
             0.7,
             "#b8e186"
            ],
            [
             0.8,
             "#7fbc41"
            ],
            [
             0.9,
             "#4d9221"
            ],
            [
             1,
             "#276419"
            ]
           ],
           "sequential": [
            [
             0,
             "#0d0887"
            ],
            [
             0.1111111111111111,
             "#46039f"
            ],
            [
             0.2222222222222222,
             "#7201a8"
            ],
            [
             0.3333333333333333,
             "#9c179e"
            ],
            [
             0.4444444444444444,
             "#bd3786"
            ],
            [
             0.5555555555555556,
             "#d8576b"
            ],
            [
             0.6666666666666666,
             "#ed7953"
            ],
            [
             0.7777777777777778,
             "#fb9f3a"
            ],
            [
             0.8888888888888888,
             "#fdca26"
            ],
            [
             1,
             "#f0f921"
            ]
           ],
           "sequentialminus": [
            [
             0,
             "#0d0887"
            ],
            [
             0.1111111111111111,
             "#46039f"
            ],
            [
             0.2222222222222222,
             "#7201a8"
            ],
            [
             0.3333333333333333,
             "#9c179e"
            ],
            [
             0.4444444444444444,
             "#bd3786"
            ],
            [
             0.5555555555555556,
             "#d8576b"
            ],
            [
             0.6666666666666666,
             "#ed7953"
            ],
            [
             0.7777777777777778,
             "#fb9f3a"
            ],
            [
             0.8888888888888888,
             "#fdca26"
            ],
            [
             1,
             "#f0f921"
            ]
           ]
          },
          "colorway": [
           "#636efa",
           "#EF553B",
           "#00cc96",
           "#ab63fa",
           "#FFA15A",
           "#19d3f3",
           "#FF6692",
           "#B6E880",
           "#FF97FF",
           "#FECB52"
          ],
          "font": {
           "color": "#2a3f5f"
          },
          "geo": {
           "bgcolor": "white",
           "lakecolor": "white",
           "landcolor": "#E5ECF6",
           "showlakes": true,
           "showland": true,
           "subunitcolor": "white"
          },
          "hoverlabel": {
           "align": "left"
          },
          "hovermode": "closest",
          "mapbox": {
           "style": "light"
          },
          "paper_bgcolor": "white",
          "plot_bgcolor": "#E5ECF6",
          "polar": {
           "angularaxis": {
            "gridcolor": "white",
            "linecolor": "white",
            "ticks": ""
           },
           "bgcolor": "#E5ECF6",
           "radialaxis": {
            "gridcolor": "white",
            "linecolor": "white",
            "ticks": ""
           }
          },
          "scene": {
           "xaxis": {
            "backgroundcolor": "#E5ECF6",
            "gridcolor": "white",
            "gridwidth": 2,
            "linecolor": "white",
            "showbackground": true,
            "ticks": "",
            "zerolinecolor": "white"
           },
           "yaxis": {
            "backgroundcolor": "#E5ECF6",
            "gridcolor": "white",
            "gridwidth": 2,
            "linecolor": "white",
            "showbackground": true,
            "ticks": "",
            "zerolinecolor": "white"
           },
           "zaxis": {
            "backgroundcolor": "#E5ECF6",
            "gridcolor": "white",
            "gridwidth": 2,
            "linecolor": "white",
            "showbackground": true,
            "ticks": "",
            "zerolinecolor": "white"
           }
          },
          "shapedefaults": {
           "line": {
            "color": "#2a3f5f"
           }
          },
          "ternary": {
           "aaxis": {
            "gridcolor": "white",
            "linecolor": "white",
            "ticks": ""
           },
           "baxis": {
            "gridcolor": "white",
            "linecolor": "white",
            "ticks": ""
           },
           "bgcolor": "#E5ECF6",
           "caxis": {
            "gridcolor": "white",
            "linecolor": "white",
            "ticks": ""
           }
          },
          "title": {
           "x": 0.05
          },
          "xaxis": {
           "automargin": true,
           "gridcolor": "white",
           "linecolor": "white",
           "ticks": "",
           "title": {
            "standoff": 15
           },
           "zerolinecolor": "white",
           "zerolinewidth": 2
          },
          "yaxis": {
           "automargin": true,
           "gridcolor": "white",
           "linecolor": "white",
           "ticks": "",
           "title": {
            "standoff": 15
           },
           "zerolinecolor": "white",
           "zerolinewidth": 2
          }
         }
        },
        "title": {
         "text": "한식 음식점업 매출"
        },
        "xaxis": {
         "anchor": "y",
         "domain": [
          0,
          1
         ],
         "title": {
          "text": "time"
         }
        },
        "yaxis": {
         "anchor": "x",
         "domain": [
          0,
          1
         ],
         "title": {
          "text": "value"
         }
        }
       }
      }
     },
     "metadata": {}
    }
   ],
   "metadata": {}
  },
  {
   "cell_type": "code",
   "execution_count": 124,
   "source": [
    "#할일1. 할부 많은 업종 알아보기 2.연도별 매출추이 확인\r\n",
    "\r\n",
    "#하고싶은거1. 업종 별 지역 분포 \r\n",
    "#전지역 월 결제액 그래프가 한 캔버스안에 그리는게 가능할지... \r\n",
    "dataset['installment_term'].value_counts()"
   ],
   "outputs": [
    {
     "output_type": "execute_result",
     "data": {
      "text/plain": [
       "0     6327632\n",
       "3      134709\n",
       "2       42101\n",
       "5       23751\n",
       "6       10792\n",
       "10       6241\n",
       "4        4816\n",
       "12       2699\n",
       "60       1290\n",
       "7         553\n",
       "8         413\n",
       "24        404\n",
       "9         349\n",
       "18        332\n",
       "15        130\n",
       "20        116\n",
       "80         83\n",
       "11         47\n",
       "30         43\n",
       "36         36\n",
       "16         23\n",
       "14         12\n",
       "63          8\n",
       "83          6\n",
       "65          6\n",
       "19          4\n",
       "72          4\n",
       "13          3\n",
       "35          2\n",
       "23          2\n",
       "93          2\n",
       "82          2\n",
       "17          1\n",
       "22          1\n",
       "Name: installment_term, dtype: int64"
      ]
     },
     "metadata": {},
     "execution_count": 124
    }
   ],
   "metadata": {}
  },
  {
   "cell_type": "code",
   "execution_count": null,
   "source": [],
   "outputs": [],
   "metadata": {}
  }
 ],
 "metadata": {
  "orig_nbformat": 4,
  "language_info": {
   "name": "python",
   "version": "3.9.6",
   "mimetype": "text/x-python",
   "codemirror_mode": {
    "name": "ipython",
    "version": 3
   },
   "pygments_lexer": "ipython3",
   "nbconvert_exporter": "python",
   "file_extension": ".py"
  },
  "kernelspec": {
   "name": "python3",
   "display_name": "Python 3.9.6 64-bit"
  },
  "interpreter": {
   "hash": "247ab06e135bb35fa78c5eff31b2a9a0050dcb5fb773c2631d2a29ac689eeccb"
  }
 },
 "nbformat": 4,
 "nbformat_minor": 2
}