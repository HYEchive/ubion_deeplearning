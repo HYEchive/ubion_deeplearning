{
 "cells": [
  {
   "cell_type": "code",
   "execution_count": 1,
   "metadata": {},
   "outputs": [],
   "source": [
    "import pandas as pd\n",
    "import numpy as np\n",
    "\n",
    "from tqdm import tqdm\n",
    "\n",
    "import matplotlib.pyplot as plt\n",
    "import plotly.express as px\n",
    "import seaborn as sns\n",
    "\n",
    "import warnings\n",
    "warnings.filterwarnings(action='ignore')\n"
   ]
  },
  {
   "cell_type": "code",
   "execution_count": 187,
   "metadata": {},
   "outputs": [],
   "source": [
    "dataset = pd.read_csv('../../data/funda_train.csv')"
   ]
  },
  {
   "cell_type": "code",
   "execution_count": 188,
   "metadata": {},
   "outputs": [],
   "source": [
    "dataset['year_month'] = dataset['transacted_date'].str.slice(stop=7)"
   ]
  },
  {
   "cell_type": "code",
   "execution_count": 189,
   "metadata": {},
   "outputs": [],
   "source": [
    "drop_features = ['installment_term', 'region', 'type_of_business','card_company','transacted_time']\n",
    "dataset = dataset.drop(drop_features, axis=1)"
   ]
  },
  {
   "cell_type": "code",
   "execution_count": 190,
   "metadata": {},
   "outputs": [
    {
     "data": {
      "text/html": [
       "<div>\n",
       "<style scoped>\n",
       "    .dataframe tbody tr th:only-of-type {\n",
       "        vertical-align: middle;\n",
       "    }\n",
       "\n",
       "    .dataframe tbody tr th {\n",
       "        vertical-align: top;\n",
       "    }\n",
       "\n",
       "    .dataframe thead th {\n",
       "        text-align: right;\n",
       "    }\n",
       "</style>\n",
       "<table border=\"1\" class=\"dataframe\">\n",
       "  <thead>\n",
       "    <tr style=\"text-align: right;\">\n",
       "      <th></th>\n",
       "      <th>store_id</th>\n",
       "      <th>amount</th>\n",
       "      <th>year_month</th>\n",
       "      <th>card_id</th>\n",
       "    </tr>\n",
       "  </thead>\n",
       "  <tbody>\n",
       "    <tr>\n",
       "      <th>41</th>\n",
       "      <td>0</td>\n",
       "      <td>-8571.428571</td>\n",
       "      <td>2016-06</td>\n",
       "      <td>40</td>\n",
       "    </tr>\n",
       "    <tr>\n",
       "      <th>347</th>\n",
       "      <td>0</td>\n",
       "      <td>-1857.142857</td>\n",
       "      <td>2016-08</td>\n",
       "      <td>285</td>\n",
       "    </tr>\n",
       "    <tr>\n",
       "      <th>731</th>\n",
       "      <td>0</td>\n",
       "      <td>-2000.000000</td>\n",
       "      <td>2016-10</td>\n",
       "      <td>473</td>\n",
       "    </tr>\n",
       "    <tr>\n",
       "      <th>831</th>\n",
       "      <td>0</td>\n",
       "      <td>-85.714286</td>\n",
       "      <td>2016-11</td>\n",
       "      <td>230</td>\n",
       "    </tr>\n",
       "    <tr>\n",
       "      <th>944</th>\n",
       "      <td>0</td>\n",
       "      <td>-57.142857</td>\n",
       "      <td>2016-11</td>\n",
       "      <td>138</td>\n",
       "    </tr>\n",
       "    <tr>\n",
       "      <th>...</th>\n",
       "      <td>...</td>\n",
       "      <td>...</td>\n",
       "      <td>...</td>\n",
       "      <td>...</td>\n",
       "    </tr>\n",
       "    <tr>\n",
       "      <th>6556242</th>\n",
       "      <td>2136</td>\n",
       "      <td>-13428.571429</td>\n",
       "      <td>2019-02</td>\n",
       "      <td>4663626</td>\n",
       "    </tr>\n",
       "    <tr>\n",
       "      <th>6556448</th>\n",
       "      <td>2136</td>\n",
       "      <td>-6928.571429</td>\n",
       "      <td>2019-02</td>\n",
       "      <td>4663760</td>\n",
       "    </tr>\n",
       "    <tr>\n",
       "      <th>6556485</th>\n",
       "      <td>2136</td>\n",
       "      <td>-5571.428571</td>\n",
       "      <td>2019-02</td>\n",
       "      <td>4663779</td>\n",
       "    </tr>\n",
       "    <tr>\n",
       "      <th>6556489</th>\n",
       "      <td>2136</td>\n",
       "      <td>-8571.428571</td>\n",
       "      <td>2019-02</td>\n",
       "      <td>4663780</td>\n",
       "    </tr>\n",
       "    <tr>\n",
       "      <th>6556608</th>\n",
       "      <td>2136</td>\n",
       "      <td>-4500.000000</td>\n",
       "      <td>2019-02</td>\n",
       "      <td>4663855</td>\n",
       "    </tr>\n",
       "  </tbody>\n",
       "</table>\n",
       "<p>73100 rows × 4 columns</p>\n",
       "</div>"
      ],
      "text/plain": [
       "         store_id        amount year_month  card_id\n",
       "41              0  -8571.428571    2016-06       40\n",
       "347             0  -1857.142857    2016-08      285\n",
       "731             0  -2000.000000    2016-10      473\n",
       "831             0    -85.714286    2016-11      230\n",
       "944             0    -57.142857    2016-11      138\n",
       "...           ...           ...        ...      ...\n",
       "6556242      2136 -13428.571429    2019-02  4663626\n",
       "6556448      2136  -6928.571429    2019-02  4663760\n",
       "6556485      2136  -5571.428571    2019-02  4663779\n",
       "6556489      2136  -8571.428571    2019-02  4663780\n",
       "6556608      2136  -4500.000000    2019-02  4663855\n",
       "\n",
       "[73100 rows x 4 columns]"
      ]
     },
     "execution_count": 190,
     "metadata": {},
     "output_type": "execute_result"
    }
   ],
   "source": [
    "subset = dataset[['store_id','amount','year_month','card_id']]\n",
    "subset\n",
    "\n",
    "refund = subset[subset['amount'] < 0]\n",
    "refund"
   ]
  },
  {
   "cell_type": "code",
   "execution_count": 191,
   "metadata": {},
   "outputs": [
    {
     "data": {
      "text/html": [
       "<div>\n",
       "<style scoped>\n",
       "    .dataframe tbody tr th:only-of-type {\n",
       "        vertical-align: middle;\n",
       "    }\n",
       "\n",
       "    .dataframe tbody tr th {\n",
       "        vertical-align: top;\n",
       "    }\n",
       "\n",
       "    .dataframe thead th {\n",
       "        text-align: right;\n",
       "    }\n",
       "</style>\n",
       "<table border=\"1\" class=\"dataframe\">\n",
       "  <thead>\n",
       "    <tr style=\"text-align: right;\">\n",
       "      <th></th>\n",
       "      <th>store_id</th>\n",
       "      <th>card_id</th>\n",
       "      <th>transacted_date</th>\n",
       "      <th>amount</th>\n",
       "      <th>year_month</th>\n",
       "    </tr>\n",
       "  </thead>\n",
       "  <tbody>\n",
       "    <tr>\n",
       "      <th>40</th>\n",
       "      <td>0</td>\n",
       "      <td>40</td>\n",
       "      <td>2016-06-10</td>\n",
       "      <td>8571.428571</td>\n",
       "      <td>2016-06</td>\n",
       "    </tr>\n",
       "    <tr>\n",
       "      <th>41</th>\n",
       "      <td>0</td>\n",
       "      <td>40</td>\n",
       "      <td>2016-06-10</td>\n",
       "      <td>-8571.428571</td>\n",
       "      <td>2016-06</td>\n",
       "    </tr>\n",
       "  </tbody>\n",
       "</table>\n",
       "</div>"
      ],
      "text/plain": [
       "    store_id  card_id transacted_date       amount year_month\n",
       "40         0       40      2016-06-10  8571.428571    2016-06\n",
       "41         0       40      2016-06-10 -8571.428571    2016-06"
      ]
     },
     "execution_count": 191,
     "metadata": {},
     "output_type": "execute_result"
    }
   ],
   "source": [
    "dataset.iloc[refund.index[0] -1 : refund.index[0] + 1]"
   ]
  },
  {
   "cell_type": "code",
   "execution_count": 192,
   "metadata": {},
   "outputs": [
    {
     "name": "stderr",
     "output_type": "stream",
     "text": [
      "100%|██████████| 73100/73100 [00:13<00:00, 5613.91it/s]\n"
     ]
    }
   ],
   "source": [
    "refund_case_1 = []\n",
    "for i in tqdm(range(len(refund.index))):\n",
    "    subset = dataset.iloc[refund.index[i]-1 : refund.index[i] + 1]\n",
    "    if subset['amount'].sum() == 0:\n",
    "        refund_case_1.append(refund.index[i]) # 환불 건의 index 를 추출합니다. index 41과 같은 건을 모두 추출\n",
    "    else:\n",
    "        pass"
   ]
  },
  {
   "cell_type": "code",
   "execution_count": 193,
   "metadata": {},
   "outputs": [
    {
     "name": "stderr",
     "output_type": "stream",
     "text": [
      "100%|██████████| 73100/73100 [00:12<00:00, 5811.60it/s]\n"
     ]
    }
   ],
   "source": [
    "refund_case_2 = []\n",
    "for i in tqdm(range(len(refund.index))):\n",
    "    subset = dataset.iloc[refund.index[i]-1 : refund.index[i] + 1]\n",
    "    if subset['amount'].sum() == 0:\n",
    "        refund_case_2.append(refund.index[i]-1)  # 환불 전 결제 건의 index 를 추출합니다. index 40과 같은 건을 모두 추출\n",
    "    else:\n",
    "        pass"
   ]
  },
  {
   "cell_type": "code",
   "execution_count": 194,
   "metadata": {},
   "outputs": [
    {
     "name": "stdout",
     "output_type": "stream",
     "text": [
      "refund_case_1 : 55347 refund_case_2 : 55347\n",
      "두 케이스 동일\n"
     ]
    }
   ],
   "source": [
    "print(\"refund_case_1 : {refund} refund_case_2 : {payment}\".format(refund = len(refund_case_1), payment = len(refund_case_2)))\n",
    "if len(refund_case_1) == len(refund_case_2):\n",
    "    print(\"두 케이스 동일\")"
   ]
  },
  {
   "cell_type": "code",
   "execution_count": 195,
   "metadata": {},
   "outputs": [
    {
     "name": "stdout",
     "output_type": "stream",
     "text": [
      "기존 환불 건수 : 73100 드랍 후 환불 건수 : 17753\n"
     ]
    }
   ],
   "source": [
    "sub_refund = refund.drop(index = refund_case_1, axis = 0)\n",
    "\n",
    "print(\"기존 환불 건수 : {before} 드랍 후 환불 건수 : {after}\".format(before = len(refund), after = len(sub_refund)))"
   ]
  },
  {
   "cell_type": "code",
   "execution_count": 196,
   "metadata": {},
   "outputs": [],
   "source": [
    "sub_dataset = dataset.drop(index = refund_case_2, axis = 0)"
   ]
  },
  {
   "cell_type": "code",
   "execution_count": 197,
   "metadata": {},
   "outputs": [
    {
     "data": {
      "text/html": [
       "<div>\n",
       "<style scoped>\n",
       "    .dataframe tbody tr th:only-of-type {\n",
       "        vertical-align: middle;\n",
       "    }\n",
       "\n",
       "    .dataframe tbody tr th {\n",
       "        vertical-align: top;\n",
       "    }\n",
       "\n",
       "    .dataframe thead th {\n",
       "        text-align: right;\n",
       "    }\n",
       "</style>\n",
       "<table border=\"1\" class=\"dataframe\">\n",
       "  <thead>\n",
       "    <tr style=\"text-align: right;\">\n",
       "      <th></th>\n",
       "      <th>store_id</th>\n",
       "      <th>amount</th>\n",
       "      <th>year_month</th>\n",
       "      <th>card_id</th>\n",
       "    </tr>\n",
       "  </thead>\n",
       "  <tbody>\n",
       "    <tr>\n",
       "      <th>3544</th>\n",
       "      <td>0</td>\n",
       "      <td>-5000.0</td>\n",
       "      <td>2018-07</td>\n",
       "      <td>1401</td>\n",
       "    </tr>\n",
       "  </tbody>\n",
       "</table>\n",
       "</div>"
      ],
      "text/plain": [
       "      store_id  amount year_month  card_id\n",
       "3544         0 -5000.0    2018-07     1401"
      ]
     },
     "execution_count": 197,
     "metadata": {},
     "output_type": "execute_result"
    }
   ],
   "source": [
    "sub_refund[0:1]"
   ]
  },
  {
   "cell_type": "code",
   "execution_count": 198,
   "metadata": {},
   "outputs": [
    {
     "name": "stdout",
     "output_type": "stream",
     "text": [
      "      store_id  card_id transacted_date  amount year_month\n",
      "3520         0     1401      2018-07-11  5000.0    2018-07\n",
      "      store_id  card_id transacted_date  amount year_month\n",
      "7389         1     2922      2018-06-14  1000.0    2018-06\n",
      "      store_id  card_id transacted_date      amount year_month\n",
      "8363         2     3613      2017-03-10  142.857143    2017-03\n",
      "8375         2     3613      2017-03-21  142.857143    2017-03\n",
      "8409         2     3613      2017-06-12  142.857143    2017-06\n",
      "      store_id  card_id transacted_date      amount year_month\n",
      "8363         2     3613      2017-03-10  142.857143    2017-03\n",
      "8375         2     3613      2017-03-21  142.857143    2017-03\n",
      "8409         2     3613      2017-06-12  142.857143    2017-06\n",
      "      store_id  card_id transacted_date       amount year_month\n",
      "8612         2     3781      2018-05-27  7857.142857    2018-05\n",
      "      store_id  card_id transacted_date      amount year_month\n",
      "8713         2     3852      2018-08-29  142.857143    2018-08\n",
      "       store_id  card_id transacted_date       amount year_month\n",
      "10390         4    10986      2017-03-29  5428.571429    2017-03\n",
      "       store_id  card_id transacted_date       amount year_month\n",
      "10895         4    11394      2017-06-17  5714.285714    2017-06\n",
      "       store_id  card_id transacted_date       amount year_month\n",
      "11061         4    11525      2017-07-18  4571.428571    2017-07\n",
      "11265         4    11525      2017-08-15  4571.428571    2017-08\n",
      "       store_id  card_id transacted_date       amount year_month\n",
      "11497         4    11891      2017-09-23  5142.857143    2017-09\n",
      "11498         4    11891      2017-09-23  5142.857143    2017-09\n",
      "       store_id  card_id transacted_date       amount year_month\n",
      "13065         4    13167      2018-06-30  2142.857143    2018-06\n",
      "13066         4    13167      2018-06-30  2142.857143    2018-06\n",
      "       store_id  card_id transacted_date       amount year_month\n",
      "13311         4    13416      2018-08-04  5142.857143    2018-08\n",
      "       store_id  card_id transacted_date      amount year_month\n",
      "13674         4    13743      2018-10-10  571.428571    2018-10\n",
      "       store_id  card_id transacted_date      amount year_month\n",
      "14288         4    14277      2019-01-06  342.857143    2019-01\n",
      "       store_id  card_id transacted_date        amount year_month\n",
      "14640         4    14593      2019-02-24  10428.571429    2019-02\n",
      "       store_id  card_id transacted_date  amount year_month\n",
      "14670         4    14617      2019-02-28  6000.0    2019-02\n",
      "14671         4    14617      2019-02-28  6000.0    2019-02\n",
      "       store_id  card_id transacted_date        amount year_month\n",
      "14779         5    15141      2016-07-15  14857.142857    2016-07\n",
      "       store_id  card_id transacted_date        amount year_month\n",
      "16044         5    15981      2018-05-28  11857.142857    2018-05\n",
      "       store_id  card_id transacted_date       amount year_month\n",
      "16943         6    16723      2016-09-21  5428.571429    2016-09\n",
      "       store_id  card_id transacted_date       amount year_month\n",
      "17073         6    16470      2016-10-05  1428.571429    2016-10\n",
      "       store_id  card_id transacted_date       amount year_month\n",
      "17194         6    16627      2016-10-20  3285.714286    2016-10\n",
      "       store_id  card_id transacted_date        amount year_month\n",
      "18652         6    18007      2017-05-27  17785.714286    2017-05\n",
      "       store_id  card_id transacted_date       amount year_month\n",
      "18936         6    17835      2017-07-06  5357.142857    2017-07\n",
      "       store_id  card_id transacted_date       amount year_month\n",
      "19042         6    17714      2017-07-22  3285.714286    2017-07\n",
      "19043         6    17714      2017-07-22  3285.714286    2017-07\n",
      "       store_id  card_id transacted_date        amount year_month\n",
      "19779         6    18898      2017-11-10  10285.714286    2017-11\n",
      "19780         6    18898      2017-11-10  10285.714286    2017-11\n",
      "       store_id  card_id transacted_date       amount year_month\n",
      "20315         6    19333      2018-01-06  4428.571429    2018-01\n",
      "       store_id  card_id transacted_date  amount year_month\n",
      "21638         6    20296      2018-05-24  4000.0    2018-05\n",
      "       store_id  card_id transacted_date       amount year_month\n",
      "22013         6    19012      2018-07-06  6571.428571    2018-07\n",
      "       store_id  card_id transacted_date        amount year_month\n",
      "22202         6    20707      2018-08-03  10142.857143    2018-08\n",
      "22203         6    20707      2018-08-03  10142.857143    2018-08\n",
      "       store_id  card_id transacted_date       amount year_month\n",
      "22721         6    21074      2018-10-08  6428.571429    2018-10\n",
      "       store_id  card_id transacted_date       amount year_month\n",
      "22723         6    21075      2018-10-08  1857.142857    2018-10\n",
      "       store_id  card_id transacted_date       amount year_month\n",
      "23773         6    20799      2018-12-16  6142.857143    2018-12\n",
      "       store_id  card_id transacted_date       amount year_month\n",
      "24160         6    22198      2019-01-11  3428.571429    2019-01\n",
      "       store_id  card_id transacted_date       amount year_month\n",
      "27085         8    24616      2017-02-16  4714.285714    2017-02\n",
      "       store_id  card_id transacted_date       amount year_month\n",
      "27622         8    25061      2017-06-06  1428.571429    2017-06\n",
      "27626         8    25061      2017-06-06  1428.571429    2017-06\n",
      "       store_id  card_id transacted_date      amount year_month\n",
      "27623         8    25061      2017-06-06  285.714286    2017-06\n",
      "       store_id  card_id transacted_date        amount year_month\n",
      "27704         8    25122      2017-06-28  11928.571429    2017-06\n",
      "27708         8    25122      2017-06-28  11928.571429    2017-06\n",
      "27712         8    25122      2017-06-28  11928.571429    2017-06\n",
      "       store_id  card_id transacted_date       amount year_month\n",
      "27705         8    25122      2017-06-28  5714.285714    2017-06\n",
      "27709         8    25122      2017-06-28  5714.285714    2017-06\n",
      "       store_id  card_id transacted_date        amount year_month\n",
      "27704         8    25122      2017-06-28  11928.571429    2017-06\n",
      "27708         8    25122      2017-06-28  11928.571429    2017-06\n",
      "27712         8    25122      2017-06-28  11928.571429    2017-06\n",
      "       store_id  card_id transacted_date       amount year_month\n",
      "27705         8    25122      2017-06-28  5714.285714    2017-06\n",
      "27709         8    25122      2017-06-28  5714.285714    2017-06\n",
      "       store_id  card_id transacted_date   amount year_month\n",
      "27768         8    25165      2017-07-05  17000.0    2017-07\n",
      "       store_id  card_id transacted_date        amount year_month\n",
      "27831         8    25208      2017-07-12  21428.571429    2017-07\n",
      "       store_id  card_id transacted_date        amount year_month\n",
      "29093         8    26139      2018-05-11  29571.428571    2018-05\n",
      "       store_id  card_id transacted_date   amount year_month\n",
      "31852         9    28920      2017-08-02  10000.0    2017-08\n",
      "       store_id  card_id transacted_date        amount year_month\n",
      "32676        10    29718      2018-01-15  50285.714286    2018-01\n",
      "       store_id  card_id transacted_date      amount year_month\n",
      "33537        11    30569      2017-05-05  142.857143    2017-05\n",
      "       store_id  card_id transacted_date       amount year_month\n",
      "33690        11    30668      2017-06-03  2142.857143    2017-06\n",
      "       store_id  card_id transacted_date      amount year_month\n",
      "37615        12    31834      2016-08-03  142.857143    2016-08\n",
      "37720        12    31834      2017-05-12  142.857143    2017-05\n",
      "       store_id  card_id transacted_date        amount year_month\n",
      "37631        12    31849      2016-09-05  70714.285714    2016-09\n",
      "       store_id  card_id transacted_date      amount year_month\n",
      "37648        12    31865      2016-09-26  785.714286    2016-09\n",
      "Empty DataFrame\n",
      "Columns: [store_id, card_id, transacted_date, amount, year_month]\n",
      "Index: []\n",
      "       store_id  card_id transacted_date     amount year_month\n",
      "37799        12    31976      2017-12-01  14.285714    2017-12\n",
      "37915        12    31976      2018-05-02  14.285714    2018-05\n",
      "38153        12    31976      2018-12-13  14.285714    2018-12\n",
      "       store_id  card_id transacted_date   amount year_month\n",
      "37824        12    31996      2018-01-03  99000.0    2018-01\n",
      "       store_id  card_id transacted_date     amount year_month\n",
      "37799        12    31976      2017-12-01  14.285714    2017-12\n",
      "37915        12    31976      2018-05-02  14.285714    2018-05\n",
      "38153        12    31976      2018-12-13  14.285714    2018-12\n",
      "       store_id  card_id transacted_date       amount year_month\n",
      "38054        12    32181      2018-09-21  4714.285714    2018-09\n",
      "       store_id  card_id transacted_date     amount year_month\n",
      "37799        12    31976      2017-12-01  14.285714    2017-12\n",
      "37915        12    31976      2018-05-02  14.285714    2018-05\n",
      "38153        12    31976      2018-12-13  14.285714    2018-12\n",
      "       store_id  card_id transacted_date       amount year_month\n",
      "38223        13    32357      2017-05-11  1642.857143    2017-05\n",
      "       store_id  card_id transacted_date        amount year_month\n",
      "38484        13    32591      2017-06-07  12857.142857    2017-06\n",
      "38485        13    32591      2017-06-07  12857.142857    2017-06\n",
      "       store_id  card_id transacted_date       amount year_month\n",
      "39336        13    33322      2017-10-14  7714.285714    2017-10\n",
      "       store_id  card_id transacted_date       amount year_month\n",
      "41432        13    35029      2018-08-30  3428.571429    2018-08\n",
      "       store_id  card_id transacted_date       amount year_month\n",
      "42152        13    35571      2018-12-22  1285.714286    2018-12\n",
      "       store_id  card_id transacted_date        amount year_month\n",
      "42713        14    36406      2016-08-17  17142.857143    2016-08\n",
      "       store_id  card_id transacted_date        amount year_month\n",
      "42734        14    36423      2016-08-25  66857.142857    2016-08\n",
      "42804        14    36423      2016-09-30  66857.142857    2016-09\n",
      "       store_id  card_id transacted_date        amount year_month\n",
      "42756        14    36442      2016-09-05  41142.857143    2016-09\n",
      "       store_id  card_id transacted_date        amount year_month\n",
      "42910        14    36562      2016-11-26  32142.857143    2016-11\n",
      "       store_id  card_id transacted_date        amount year_month\n",
      "43006        14    36645      2017-01-03  17142.857143    2017-01\n",
      "       store_id  card_id transacted_date        amount year_month\n",
      "43188        14    36785      2017-03-17  17142.857143    2017-03\n",
      "       store_id  card_id transacted_date        amount year_month\n",
      "43192        14    36786      2017-03-17  18571.428571    2017-03\n",
      "       store_id  card_id transacted_date        amount year_month\n",
      "43228        14    36810      2017-04-11  39285.714286    2017-04\n",
      "       store_id  card_id transacted_date        amount year_month\n",
      "43288        14    36851      2017-05-16  77142.857143    2017-05\n",
      "       store_id  card_id transacted_date        amount year_month\n",
      "43448        14    36388      2017-07-24  31285.714286    2017-07\n",
      "       store_id  card_id transacted_date        amount year_month\n",
      "43578        14    37063      2017-09-05  17142.857143    2017-09\n",
      "       store_id  card_id transacted_date        amount year_month\n",
      "43748        14    37182      2017-11-20  41428.571429    2017-11\n",
      "       store_id  card_id transacted_date         amount year_month\n",
      "43771        14    37195      2017-11-27  114285.714286    2017-11\n",
      "       store_id  card_id transacted_date        amount year_month\n",
      "43794        14    37209      2017-12-01  41428.571429    2017-12\n",
      "       store_id  card_id transacted_date        amount year_month\n",
      "43942        14    37334      2018-01-15  34285.714286    2018-01\n",
      "       store_id  card_id transacted_date        amount year_month\n",
      "44111        14    36346      2018-03-23  88571.428571    2018-03\n",
      "44158        14    36346      2018-04-05  88571.428571    2018-04\n",
      "       store_id  card_id transacted_date        amount year_month\n",
      "44116        14    37453      2018-03-24  34285.714286    2018-03\n",
      "       store_id  card_id transacted_date        amount year_month\n",
      "44147        14    37477      2018-04-02  85714.285714    2018-04\n",
      "       store_id  card_id transacted_date   amount year_month\n",
      "44187        14    36796      2018-04-13  30000.0    2018-04\n",
      "       store_id  card_id transacted_date        amount year_month\n",
      "44400        14    37656      2018-07-02  32857.142857    2018-07\n",
      "         store_id  card_id transacted_date        amount year_month\n",
      "44464          14    37705      2018-07-16  17142.857143    2018-07\n",
      "4279574      1401    37705      2018-04-19  17142.857143    2018-04\n",
      "       store_id  card_id transacted_date   amount year_month\n",
      "44627        14    37823      2018-08-28  30000.0    2018-08\n",
      "       store_id  card_id transacted_date        amount year_month\n",
      "44648        14    37839      2018-09-03  37142.857143    2018-09\n",
      "       store_id  card_id transacted_date        amount year_month\n",
      "44772        14    37923      2018-10-11  38571.428571    2018-10\n",
      "       store_id  card_id transacted_date        amount year_month\n",
      "44950        14    37745      2018-12-06  41428.571429    2018-12\n",
      "       store_id  card_id transacted_date        amount year_month\n",
      "45079        14    38133      2019-01-05  38571.428571    2019-01\n",
      "       store_id  card_id transacted_date        amount year_month\n",
      "45083        14    38135      2019-01-06  28571.428571    2019-01\n",
      "       store_id  card_id transacted_date        amount year_month\n",
      "45077        14    38131      2019-01-05  68571.428571    2019-01\n",
      "       store_id  card_id transacted_date        amount year_month\n",
      "45111        14    38131      2019-01-10  32857.142857    2019-01\n",
      "       store_id  card_id transacted_date        amount year_month\n",
      "45160        14    38185      2019-01-21  17857.142857    2019-01\n",
      "       store_id  card_id transacted_date        amount year_month\n",
      "45153        14    38179      2019-01-18  68571.428571    2019-01\n",
      "       store_id  card_id transacted_date        amount year_month\n",
      "45194        14    38205      2019-02-01  38571.428571    2019-02\n",
      "45199        14    38205      2019-02-02  38571.428571    2019-02\n",
      "       store_id  card_id transacted_date        amount year_month\n",
      "45059        14    38119      2019-01-02  17857.142857    2019-01\n",
      "45207        14    38119      2019-02-07  17857.142857    2019-02\n",
      "       store_id  card_id transacted_date    amount year_month\n",
      "45259        14    37783      2019-02-21  120000.0    2019-02\n",
      "       store_id  card_id transacted_date       amount year_month\n",
      "46130        15    39283      2016-11-17  7857.142857    2016-11\n",
      "       store_id  card_id transacted_date   amount year_month\n",
      "46773        15    38950      2017-01-01  10000.0    2017-01\n",
      "       store_id  card_id transacted_date  amount year_month\n",
      "47166        15    40119      2017-01-26  9000.0    2017-01\n",
      "       store_id  card_id transacted_date       amount year_month\n",
      "47438        15    40353      2017-02-09  4285.714286    2017-02\n",
      "       store_id  card_id transacted_date       amount year_month\n",
      "49330        15    41911      2017-05-29  7142.857143    2017-05\n"
     ]
    }
   ],
   "source": [
    "refund_case_31 = []\n",
    "for i in range(len(sub_refund.index))[0:100]:\n",
    "    subset = sub_dataset.loc[(sub_dataset['amount'] == abs(sub_refund.iloc[i].amount)) & (sub_dataset['card_id'] == (sub_refund.iloc[i].card_id))] # 환불 전 결제 케이스\n",
    "    #refund_case_3.append(subset.index.min())\n",
    "    print(subset)"
   ]
  },
  {
   "cell_type": "code",
   "execution_count": 199,
   "metadata": {},
   "outputs": [
    {
     "name": "stderr",
     "output_type": "stream",
     "text": [
      "100%|██████████| 17753/17753 [07:53<00:00, 37.47it/s]\n"
     ]
    }
   ],
   "source": [
    "refund_case_3 = []\n",
    "for i in tqdm(range(len(sub_refund.index))):\n",
    "    subset = sub_dataset.loc[(sub_dataset['amount'] == abs(sub_refund.iloc[i].amount)) & (sub_dataset['card_id'] == (sub_refund.iloc[i].card_id))] # 환불 전 결제 케이스\n",
    "    refund_case_3.append(subset.index.min())"
   ]
  },
  {
   "cell_type": "code",
   "execution_count": 200,
   "metadata": {},
   "outputs": [],
   "source": [
    "refund_case_3 = [x for x in refund_case_3 if np.isnan(x) == False] # 해당 조건을 만족하는 환불건만 있고 결제건이 없을때 Nan이 리스트에 들어가므로 난을 제거"
   ]
  },
  {
   "cell_type": "markdown",
   "metadata": {},
   "source": [
    "- -- -------------"
   ]
  },
  {
   "cell_type": "code",
   "execution_count": 201,
   "metadata": {},
   "outputs": [],
   "source": [
    "refund_case_4 = list(sub_refund.index)"
   ]
  },
  {
   "cell_type": "code",
   "execution_count": 202,
   "metadata": {},
   "outputs": [
    {
     "name": "stdout",
     "output_type": "stream",
     "text": [
      "refund_case_3 : 17657 refund_case_4 : 17753\n"
     ]
    }
   ],
   "source": [
    "print(\"refund_case_3 : {before} refund_case_4 : {after}\".format(before = len(refund_case_3), after = len(refund_case_4))) # 환불 케이스"
   ]
  },
  {
   "cell_type": "code",
   "execution_count": 203,
   "metadata": {},
   "outputs": [
    {
     "data": {
      "text/plain": [
       "6410413"
      ]
     },
     "execution_count": 203,
     "metadata": {},
     "output_type": "execute_result"
    }
   ],
   "source": [
    "len(dataset) - 73100*2 # 우리가 원하는 결과"
   ]
  },
  {
   "cell_type": "code",
   "execution_count": 204,
   "metadata": {},
   "outputs": [
    {
     "data": {
      "text/plain": [
       "6501266"
      ]
     },
     "execution_count": 204,
     "metadata": {},
     "output_type": "execute_result"
    }
   ],
   "source": [
    "dataset = dataset.drop(index = refund_case_1, axis = 0)\n",
    "len(dataset)"
   ]
  },
  {
   "cell_type": "code",
   "execution_count": 205,
   "metadata": {},
   "outputs": [
    {
     "data": {
      "text/plain": [
       "6445919"
      ]
     },
     "execution_count": 205,
     "metadata": {},
     "output_type": "execute_result"
    }
   ],
   "source": [
    "dataset = dataset.drop(index = refund_case_2, axis = 0)\n",
    "len(dataset)"
   ]
  },
  {
   "cell_type": "code",
   "execution_count": 206,
   "metadata": {},
   "outputs": [
    {
     "data": {
      "text/plain": [
       "6428813"
      ]
     },
     "execution_count": 206,
     "metadata": {},
     "output_type": "execute_result"
    }
   ],
   "source": [
    "dataset = dataset.drop(index = refund_case_3, axis = 0)\n",
    "len(dataset)"
   ]
  },
  {
   "cell_type": "code",
   "execution_count": 207,
   "metadata": {},
   "outputs": [
    {
     "data": {
      "text/plain": [
       "6411060"
      ]
     },
     "execution_count": 207,
     "metadata": {},
     "output_type": "execute_result"
    }
   ],
   "source": [
    "dataset = dataset.drop(index = refund_case_4, axis = 0)\n",
    "len(dataset)"
   ]
  },
  {
   "cell_type": "code",
   "execution_count": 208,
   "metadata": {},
   "outputs": [
    {
     "data": {
      "text/plain": [
       "[]"
      ]
     },
     "execution_count": 208,
     "metadata": {},
     "output_type": "execute_result"
    }
   ],
   "source": [
    "overlap_test = list(set(refund_case_1).intersection(refund_case_3)) # 중복 index가 있는지 확인\n",
    "overlap_test"
   ]
  },
  {
   "cell_type": "code",
   "execution_count": 209,
   "metadata": {},
   "outputs": [
    {
     "name": "stdout",
     "output_type": "stream",
     "text": [
      "해결하지 못한 환불 건수 : 647\n"
     ]
    }
   ],
   "source": [
    "print(\"해결하지 못한 환불 건수 : {case}\".format(case = len(dataset) - 6410413))"
   ]
  },
  {
   "cell_type": "code",
   "execution_count": 210,
   "metadata": {},
   "outputs": [
    {
     "data": {
      "text/html": [
       "<div>\n",
       "<style scoped>\n",
       "    .dataframe tbody tr th:only-of-type {\n",
       "        vertical-align: middle;\n",
       "    }\n",
       "\n",
       "    .dataframe tbody tr th {\n",
       "        vertical-align: top;\n",
       "    }\n",
       "\n",
       "    .dataframe thead th {\n",
       "        text-align: right;\n",
       "    }\n",
       "</style>\n",
       "<table border=\"1\" class=\"dataframe\">\n",
       "  <thead>\n",
       "    <tr style=\"text-align: right;\">\n",
       "      <th></th>\n",
       "      <th>store_id</th>\n",
       "      <th>amount</th>\n",
       "      <th>transacted_date</th>\n",
       "    </tr>\n",
       "  </thead>\n",
       "  <tbody>\n",
       "    <tr>\n",
       "      <th>0</th>\n",
       "      <td>0</td>\n",
       "      <td>1857.142857</td>\n",
       "      <td>2016-06-01</td>\n",
       "    </tr>\n",
       "    <tr>\n",
       "      <th>1</th>\n",
       "      <td>0</td>\n",
       "      <td>857.142857</td>\n",
       "      <td>2016-06-01</td>\n",
       "    </tr>\n",
       "    <tr>\n",
       "      <th>2</th>\n",
       "      <td>0</td>\n",
       "      <td>2000.000000</td>\n",
       "      <td>2016-06-01</td>\n",
       "    </tr>\n",
       "    <tr>\n",
       "      <th>3</th>\n",
       "      <td>0</td>\n",
       "      <td>7857.142857</td>\n",
       "      <td>2016-06-01</td>\n",
       "    </tr>\n",
       "    <tr>\n",
       "      <th>4</th>\n",
       "      <td>0</td>\n",
       "      <td>2000.000000</td>\n",
       "      <td>2016-06-02</td>\n",
       "    </tr>\n",
       "    <tr>\n",
       "      <th>...</th>\n",
       "      <td>...</td>\n",
       "      <td>...</td>\n",
       "      <td>...</td>\n",
       "    </tr>\n",
       "    <tr>\n",
       "      <th>6556606</th>\n",
       "      <td>2136</td>\n",
       "      <td>3928.571429</td>\n",
       "      <td>2019-02-28</td>\n",
       "    </tr>\n",
       "    <tr>\n",
       "      <th>6556609</th>\n",
       "      <td>2136</td>\n",
       "      <td>4142.857143</td>\n",
       "      <td>2019-02-28</td>\n",
       "    </tr>\n",
       "    <tr>\n",
       "      <th>6556610</th>\n",
       "      <td>2136</td>\n",
       "      <td>4500.000000</td>\n",
       "      <td>2019-02-28</td>\n",
       "    </tr>\n",
       "    <tr>\n",
       "      <th>6556611</th>\n",
       "      <td>2136</td>\n",
       "      <td>571.428571</td>\n",
       "      <td>2019-02-28</td>\n",
       "    </tr>\n",
       "    <tr>\n",
       "      <th>6556612</th>\n",
       "      <td>2136</td>\n",
       "      <td>5857.142857</td>\n",
       "      <td>2019-02-28</td>\n",
       "    </tr>\n",
       "  </tbody>\n",
       "</table>\n",
       "<p>6411060 rows × 3 columns</p>\n",
       "</div>"
      ],
      "text/plain": [
       "         store_id       amount transacted_date\n",
       "0               0  1857.142857      2016-06-01\n",
       "1               0   857.142857      2016-06-01\n",
       "2               0  2000.000000      2016-06-01\n",
       "3               0  7857.142857      2016-06-01\n",
       "4               0  2000.000000      2016-06-02\n",
       "...           ...          ...             ...\n",
       "6556606      2136  3928.571429      2019-02-28\n",
       "6556609      2136  4142.857143      2019-02-28\n",
       "6556610      2136  4500.000000      2019-02-28\n",
       "6556611      2136   571.428571      2019-02-28\n",
       "6556612      2136  5857.142857      2019-02-28\n",
       "\n",
       "[6411060 rows x 3 columns]"
      ]
     },
     "execution_count": 210,
     "metadata": {},
     "output_type": "execute_result"
    }
   ],
   "source": [
    "subset_2 = dataset[['store_id','amount','transacted_date']]\n",
    "subset_2"
   ]
  },
  {
   "cell_type": "code",
   "execution_count": 211,
   "metadata": {},
   "outputs": [
    {
     "name": "stderr",
     "output_type": "stream",
     "text": [
      "100%|██████████| 1966/1966 [00:55<00:00, 35.44it/s]\n"
     ]
    }
   ],
   "source": [
    "finalset_1=pd.DataFrame(data={'store_id': [],'amount' : [],'date' : []}) #스토어별 일별 매출집계\n",
    "\n",
    "store = subset_2.loc[subset_2['store_id'] == 0]\n",
    "finalset_1['amount'] = store.groupby(['transacted_date'])['amount'].agg('sum').values\n",
    "finalset_1['date'] = store.groupby(['transacted_date'])['amount'].agg('sum').index\n",
    "finalset_1['store_id'] = 0\n",
    "\n",
    "\n",
    "for i in tqdm(subset_2['store_id'].unique()[1:]): # 시작은 1 고정\n",
    "\n",
    "    tempset = pd.DataFrame(data={'store_id': [],'amount' : [],'date' : []})\n",
    "\n",
    "    store_ = subset_2.loc[subset_2['store_id'] == i]\n",
    "\n",
    "    tempset['amount'] = store_.groupby(['transacted_date'])['amount'].agg('sum').values\n",
    "    tempset['date'] = store_.groupby(['transacted_date'])['amount'].agg('sum').index\n",
    "    tempset['store_id'] = i\n",
    "\n",
    "    finalset_1 = pd.concat([finalset_1,tempset], axis = 0)\n",
    "\n",
    "finalset_1 = finalset_1.reset_index(drop=True)"
   ]
  },
  {
   "cell_type": "code",
   "execution_count": 165,
   "metadata": {},
   "outputs": [
    {
     "data": {
      "text/html": [
       "<div>\n",
       "<style scoped>\n",
       "    .dataframe tbody tr th:only-of-type {\n",
       "        vertical-align: middle;\n",
       "    }\n",
       "\n",
       "    .dataframe tbody tr th {\n",
       "        vertical-align: top;\n",
       "    }\n",
       "\n",
       "    .dataframe thead th {\n",
       "        text-align: right;\n",
       "    }\n",
       "</style>\n",
       "<table border=\"1\" class=\"dataframe\">\n",
       "  <thead>\n",
       "    <tr style=\"text-align: right;\">\n",
       "      <th></th>\n",
       "      <th>store_id</th>\n",
       "      <th>amount</th>\n",
       "      <th>date</th>\n",
       "    </tr>\n",
       "  </thead>\n",
       "  <tbody>\n",
       "    <tr>\n",
       "      <th>0</th>\n",
       "      <td>0</td>\n",
       "      <td>12571.428571</td>\n",
       "      <td>2016-06-01</td>\n",
       "    </tr>\n",
       "    <tr>\n",
       "      <th>1</th>\n",
       "      <td>0</td>\n",
       "      <td>40571.428571</td>\n",
       "      <td>2016-06-02</td>\n",
       "    </tr>\n",
       "    <tr>\n",
       "      <th>2</th>\n",
       "      <td>0</td>\n",
       "      <td>18142.857143</td>\n",
       "      <td>2016-06-03</td>\n",
       "    </tr>\n",
       "    <tr>\n",
       "      <th>3</th>\n",
       "      <td>0</td>\n",
       "      <td>31714.285714</td>\n",
       "      <td>2016-06-04</td>\n",
       "    </tr>\n",
       "    <tr>\n",
       "      <th>4</th>\n",
       "      <td>0</td>\n",
       "      <td>10428.571429</td>\n",
       "      <td>2016-06-05</td>\n",
       "    </tr>\n",
       "    <tr>\n",
       "      <th>...</th>\n",
       "      <td>...</td>\n",
       "      <td>...</td>\n",
       "      <td>...</td>\n",
       "    </tr>\n",
       "    <tr>\n",
       "      <th>798</th>\n",
       "      <td>0</td>\n",
       "      <td>8571.428571</td>\n",
       "      <td>2019-02-23</td>\n",
       "    </tr>\n",
       "    <tr>\n",
       "      <th>799</th>\n",
       "      <td>0</td>\n",
       "      <td>38571.428571</td>\n",
       "      <td>2019-02-24</td>\n",
       "    </tr>\n",
       "    <tr>\n",
       "      <th>800</th>\n",
       "      <td>0</td>\n",
       "      <td>39714.285714</td>\n",
       "      <td>2019-02-25</td>\n",
       "    </tr>\n",
       "    <tr>\n",
       "      <th>801</th>\n",
       "      <td>0</td>\n",
       "      <td>9857.142857</td>\n",
       "      <td>2019-02-27</td>\n",
       "    </tr>\n",
       "    <tr>\n",
       "      <th>802</th>\n",
       "      <td>0</td>\n",
       "      <td>22714.285714</td>\n",
       "      <td>2019-02-28</td>\n",
       "    </tr>\n",
       "  </tbody>\n",
       "</table>\n",
       "<p>803 rows × 3 columns</p>\n",
       "</div>"
      ],
      "text/plain": [
       "     store_id        amount        date\n",
       "0           0  12571.428571  2016-06-01\n",
       "1           0  40571.428571  2016-06-02\n",
       "2           0  18142.857143  2016-06-03\n",
       "3           0  31714.285714  2016-06-04\n",
       "4           0  10428.571429  2016-06-05\n",
       "..        ...           ...         ...\n",
       "798         0   8571.428571  2019-02-23\n",
       "799         0  38571.428571  2019-02-24\n",
       "800         0  39714.285714  2019-02-25\n",
       "801         0   9857.142857  2019-02-27\n",
       "802         0  22714.285714  2019-02-28\n",
       "\n",
       "[803 rows x 3 columns]"
      ]
     },
     "execution_count": 165,
     "metadata": {},
     "output_type": "execute_result"
    }
   ],
   "source": [
    "finalset_1[finalset_1['store_id'] == 0]"
   ]
  },
  {
   "cell_type": "code",
   "execution_count": 23,
   "metadata": {},
   "outputs": [
    {
     "name": "stderr",
     "output_type": "stream",
     "text": [
      "100%|██████████| 1966/1966 [00:41<00:00, 47.79it/s]\n"
     ]
    }
   ],
   "source": [
    "finalset=pd.DataFrame(data={'store_id': [],'amount' : [],'year_month' : []}) #스토어별 매출집계\n",
    "\n",
    "store = subset_2.loc[subset_2['store_id'] == 0]\n",
    "finalset['amount'] = store.groupby(['year_month'])['amount'].agg('sum').values\n",
    "finalset['year_month'] = store.groupby(['year_month'])['amount'].agg('sum').index\n",
    "finalset['store_id'] = 0\n",
    "\n",
    "\n",
    "for i in tqdm(subset_2['store_id'].unique()[1:]): # 시작은 1 고정\n",
    "\n",
    "    tempset = pd.DataFrame(data={'store_id': [],'amount' : [],'year_month' : []})\n",
    "\n",
    "    store_ = subset_2.loc[subset_2['store_id'] == i]\n",
    "\n",
    "    tempset['amount'] = store_.groupby(['year_month'])['amount'].agg('sum').values\n",
    "    tempset['year_month'] = store_.groupby(['year_month'])['amount'].agg('sum').index\n",
    "    tempset['store_id'] = i\n",
    "\n",
    "    finalset = pd.concat([finalset,tempset], axis = 0)\n",
    "\n",
    "finalset = finalset.reset_index(drop=True)"
   ]
  },
  {
   "cell_type": "code",
   "execution_count": 29,
   "metadata": {},
   "outputs": [
    {
     "data": {
      "text/plain": [
       "1967"
      ]
     },
     "execution_count": 29,
     "metadata": {},
     "output_type": "execute_result"
    }
   ],
   "source": [
    "len(subset_2['store_id'].unique())"
   ]
  },
  {
   "cell_type": "code",
   "execution_count": 24,
   "metadata": {},
   "outputs": [],
   "source": [
    "finalset['datetime'] = pd.to_datetime(finalset['year_month'] + '-25', format='%Y-%m-%d')"
   ]
  },
  {
   "cell_type": "code",
   "execution_count": 25,
   "metadata": {},
   "outputs": [],
   "source": [
    "finalset.to_csv('../../Data/finalset.csv')"
   ]
  },
  {
   "cell_type": "code",
   "execution_count": 214,
   "metadata": {},
   "outputs": [],
   "source": [
    "finalset = pd.read_csv('../../Data/dailyamount.csv', index_col= 'Unnamed: 0')"
   ]
  },
  {
   "cell_type": "code",
   "execution_count": 215,
   "metadata": {},
   "outputs": [
    {
     "data": {
      "text/html": [
       "<div>\n",
       "<style scoped>\n",
       "    .dataframe tbody tr th:only-of-type {\n",
       "        vertical-align: middle;\n",
       "    }\n",
       "\n",
       "    .dataframe tbody tr th {\n",
       "        vertical-align: top;\n",
       "    }\n",
       "\n",
       "    .dataframe thead th {\n",
       "        text-align: right;\n",
       "    }\n",
       "</style>\n",
       "<table border=\"1\" class=\"dataframe\">\n",
       "  <thead>\n",
       "    <tr style=\"text-align: right;\">\n",
       "      <th></th>\n",
       "      <th>store_id</th>\n",
       "      <th>amount</th>\n",
       "      <th>date</th>\n",
       "    </tr>\n",
       "  </thead>\n",
       "  <tbody>\n",
       "    <tr>\n",
       "      <th>0</th>\n",
       "      <td>0</td>\n",
       "      <td>12571.428571</td>\n",
       "      <td>2016-06-01</td>\n",
       "    </tr>\n",
       "    <tr>\n",
       "      <th>1</th>\n",
       "      <td>0</td>\n",
       "      <td>40571.428571</td>\n",
       "      <td>2016-06-02</td>\n",
       "    </tr>\n",
       "    <tr>\n",
       "      <th>2</th>\n",
       "      <td>0</td>\n",
       "      <td>18142.857143</td>\n",
       "      <td>2016-06-03</td>\n",
       "    </tr>\n",
       "    <tr>\n",
       "      <th>3</th>\n",
       "      <td>0</td>\n",
       "      <td>31714.285714</td>\n",
       "      <td>2016-06-04</td>\n",
       "    </tr>\n",
       "    <tr>\n",
       "      <th>4</th>\n",
       "      <td>0</td>\n",
       "      <td>10428.571429</td>\n",
       "      <td>2016-06-05</td>\n",
       "    </tr>\n",
       "    <tr>\n",
       "      <th>...</th>\n",
       "      <td>...</td>\n",
       "      <td>...</td>\n",
       "      <td>...</td>\n",
       "    </tr>\n",
       "    <tr>\n",
       "      <th>1282738</th>\n",
       "      <td>2136</td>\n",
       "      <td>85357.142857</td>\n",
       "      <td>2019-02-24</td>\n",
       "    </tr>\n",
       "    <tr>\n",
       "      <th>1282739</th>\n",
       "      <td>2136</td>\n",
       "      <td>37214.285714</td>\n",
       "      <td>2019-02-25</td>\n",
       "    </tr>\n",
       "    <tr>\n",
       "      <th>1282740</th>\n",
       "      <td>2136</td>\n",
       "      <td>47142.857143</td>\n",
       "      <td>2019-02-26</td>\n",
       "    </tr>\n",
       "    <tr>\n",
       "      <th>1282741</th>\n",
       "      <td>2136</td>\n",
       "      <td>65071.428571</td>\n",
       "      <td>2019-02-27</td>\n",
       "    </tr>\n",
       "    <tr>\n",
       "      <th>1282742</th>\n",
       "      <td>2136</td>\n",
       "      <td>65857.142857</td>\n",
       "      <td>2019-02-28</td>\n",
       "    </tr>\n",
       "  </tbody>\n",
       "</table>\n",
       "<p>1282743 rows × 3 columns</p>\n",
       "</div>"
      ],
      "text/plain": [
       "         store_id        amount        date\n",
       "0               0  12571.428571  2016-06-01\n",
       "1               0  40571.428571  2016-06-02\n",
       "2               0  18142.857143  2016-06-03\n",
       "3               0  31714.285714  2016-06-04\n",
       "4               0  10428.571429  2016-06-05\n",
       "...           ...           ...         ...\n",
       "1282738      2136  85357.142857  2019-02-24\n",
       "1282739      2136  37214.285714  2019-02-25\n",
       "1282740      2136  47142.857143  2019-02-26\n",
       "1282741      2136  65071.428571  2019-02-27\n",
       "1282742      2136  65857.142857  2019-02-28\n",
       "\n",
       "[1282743 rows x 3 columns]"
      ]
     },
     "execution_count": 215,
     "metadata": {},
     "output_type": "execute_result"
    }
   ],
   "source": [
    "finalset"
   ]
  },
  {
   "cell_type": "code",
   "execution_count": 173,
   "metadata": {},
   "outputs": [],
   "source": [
    "finalset['datetime'] = pd.to_datetime(finalset['year_month'] + '-25', format='%Y-%m-%d')"
   ]
  },
  {
   "cell_type": "code",
   "execution_count": 174,
   "metadata": {},
   "outputs": [
    {
     "data": {
      "text/html": [
       "<div>\n",
       "<style scoped>\n",
       "    .dataframe tbody tr th:only-of-type {\n",
       "        vertical-align: middle;\n",
       "    }\n",
       "\n",
       "    .dataframe tbody tr th {\n",
       "        vertical-align: top;\n",
       "    }\n",
       "\n",
       "    .dataframe thead th {\n",
       "        text-align: right;\n",
       "    }\n",
       "</style>\n",
       "<table border=\"1\" class=\"dataframe\">\n",
       "  <thead>\n",
       "    <tr style=\"text-align: right;\">\n",
       "      <th></th>\n",
       "      <th>store_id</th>\n",
       "      <th>amount</th>\n",
       "      <th>datetime</th>\n",
       "    </tr>\n",
       "  </thead>\n",
       "  <tbody>\n",
       "    <tr>\n",
       "      <th>0</th>\n",
       "      <td>0</td>\n",
       "      <td>7.470000e+05</td>\n",
       "      <td>2016-06-25</td>\n",
       "    </tr>\n",
       "    <tr>\n",
       "      <th>1</th>\n",
       "      <td>0</td>\n",
       "      <td>1.005000e+06</td>\n",
       "      <td>2016-07-25</td>\n",
       "    </tr>\n",
       "    <tr>\n",
       "      <th>2</th>\n",
       "      <td>0</td>\n",
       "      <td>8.715714e+05</td>\n",
       "      <td>2016-08-25</td>\n",
       "    </tr>\n",
       "    <tr>\n",
       "      <th>3</th>\n",
       "      <td>0</td>\n",
       "      <td>8.978571e+05</td>\n",
       "      <td>2016-09-25</td>\n",
       "    </tr>\n",
       "    <tr>\n",
       "      <th>4</th>\n",
       "      <td>0</td>\n",
       "      <td>8.354286e+05</td>\n",
       "      <td>2016-10-25</td>\n",
       "    </tr>\n",
       "    <tr>\n",
       "      <th>...</th>\n",
       "      <td>...</td>\n",
       "      <td>...</td>\n",
       "      <td>...</td>\n",
       "    </tr>\n",
       "    <tr>\n",
       "      <th>60146</th>\n",
       "      <td>2136</td>\n",
       "      <td>2.012214e+06</td>\n",
       "      <td>2018-10-25</td>\n",
       "    </tr>\n",
       "    <tr>\n",
       "      <th>60147</th>\n",
       "      <td>2136</td>\n",
       "      <td>2.135429e+06</td>\n",
       "      <td>2018-11-25</td>\n",
       "    </tr>\n",
       "    <tr>\n",
       "      <th>60148</th>\n",
       "      <td>2136</td>\n",
       "      <td>2.427429e+06</td>\n",
       "      <td>2018-12-25</td>\n",
       "    </tr>\n",
       "    <tr>\n",
       "      <th>60149</th>\n",
       "      <td>2136</td>\n",
       "      <td>1.873643e+06</td>\n",
       "      <td>2019-01-25</td>\n",
       "    </tr>\n",
       "    <tr>\n",
       "      <th>60150</th>\n",
       "      <td>2136</td>\n",
       "      <td>2.227429e+06</td>\n",
       "      <td>2019-02-25</td>\n",
       "    </tr>\n",
       "  </tbody>\n",
       "</table>\n",
       "<p>60151 rows × 3 columns</p>\n",
       "</div>"
      ],
      "text/plain": [
       "       store_id        amount   datetime\n",
       "0             0  7.470000e+05 2016-06-25\n",
       "1             0  1.005000e+06 2016-07-25\n",
       "2             0  8.715714e+05 2016-08-25\n",
       "3             0  8.978571e+05 2016-09-25\n",
       "4             0  8.354286e+05 2016-10-25\n",
       "...         ...           ...        ...\n",
       "60146      2136  2.012214e+06 2018-10-25\n",
       "60147      2136  2.135429e+06 2018-11-25\n",
       "60148      2136  2.427429e+06 2018-12-25\n",
       "60149      2136  1.873643e+06 2019-01-25\n",
       "60150      2136  2.227429e+06 2019-02-25\n",
       "\n",
       "[60151 rows x 3 columns]"
      ]
     },
     "execution_count": 174,
     "metadata": {},
     "output_type": "execute_result"
    }
   ],
   "source": [
    "finalset = finalset.drop('year_month', axis = 1)\n",
    "finalset"
   ]
  },
  {
   "cell_type": "code",
   "execution_count": 216,
   "metadata": {},
   "outputs": [
    {
     "name": "stdout",
     "output_type": "stream",
     "text": [
      "2 번째 가게 제외\n",
      "20 번째 가게 제외\n",
      "25 번째 가게 제외\n",
      "69 번째 가게 제외\n",
      "105 번째 가게 제외\n",
      "106 번째 가게 제외\n",
      "111 번째 가게 제외\n",
      "154 번째 가게 제외\n",
      "187 번째 가게 제외\n",
      "210 번째 가게 제외\n",
      "218 번째 가게 제외\n",
      "232 번째 가게 제외\n",
      "237 번째 가게 제외\n",
      "238 번째 가게 제외\n",
      "246 번째 가게 제외\n",
      "248 번째 가게 제외\n",
      "250 번째 가게 제외\n",
      "257 번째 가게 제외\n",
      "279 번째 가게 제외\n",
      "295 번째 가게 제외\n",
      "314 번째 가게 제외\n",
      "332 번째 가게 제외\n",
      "334 번째 가게 제외\n",
      "341 번째 가게 제외\n",
      "350 번째 가게 제외\n",
      "353 번째 가게 제외\n",
      "360 번째 가게 제외\n",
      "372 번째 가게 제외\n",
      "377 번째 가게 제외\n",
      "389 번째 가게 제외\n",
      "397 번째 가게 제외\n",
      "412 번째 가게 제외\n",
      "443 번째 가게 제외\n",
      "447 번째 가게 제외\n",
      "448 번째 가게 제외\n",
      "459 번째 가게 제외\n",
      "469 번째 가게 제외\n",
      "479 번째 가게 제외\n",
      "488 번째 가게 제외\n",
      "506 번째 가게 제외\n",
      "512 번째 가게 제외\n",
      "515 번째 가게 제외\n",
      "540 번째 가게 제외\n",
      "554 번째 가게 제외\n",
      "555 번째 가게 제외\n",
      "557 번째 가게 제외\n",
      "562 번째 가게 제외\n",
      "576 번째 가게 제외\n",
      "580 번째 가게 제외\n",
      "599 번째 가게 제외\n",
      "603 번째 가게 제외\n",
      "614 번째 가게 제외\n",
      "619 번째 가게 제외\n",
      "632 번째 가게 제외\n",
      "640 번째 가게 제외\n",
      "660 번째 가게 제외\n",
      "675 번째 가게 제외\n",
      "677 번째 가게 제외\n",
      "722 번째 가게 제외\n",
      "725 번째 가게 제외\n",
      "731 번째 가게 제외\n",
      "733 번째 가게 제외\n",
      "772 번째 가게 제외\n",
      "788 번째 가게 제외\n",
      "789 번째 가게 제외\n",
      "795 번째 가게 제외\n",
      "808 번째 가게 제외\n",
      "810 번째 가게 제외\n",
      "817 번째 가게 제외\n",
      "841 번째 가게 제외\n",
      "846 번째 가게 제외\n",
      "847 번째 가게 제외\n",
      "855 번째 가게 제외\n",
      "856 번째 가게 제외\n",
      "881 번째 가게 제외\n",
      "883 번째 가게 제외\n",
      "894 번째 가게 제외\n",
      "899 번째 가게 제외\n",
      "939 번째 가게 제외\n",
      "941 번째 가게 제외\n",
      "952 번째 가게 제외\n",
      "954 번째 가게 제외\n",
      "982 번째 가게 제외\n",
      "993 번째 가게 제외\n",
      "1000 번째 가게 제외\n",
      "1009 번째 가게 제외\n",
      "1041 번째 가게 제외\n",
      "1056 번째 가게 제외\n",
      "1063 번째 가게 제외\n",
      "1067 번째 가게 제외\n",
      "1080 번째 가게 제외\n",
      "1086 번째 가게 제외\n",
      "1098 번째 가게 제외\n",
      "1110 번째 가게 제외\n",
      "1117 번째 가게 제외\n",
      "1139 번째 가게 제외\n",
      "1152 번째 가게 제외\n",
      "1167 번째 가게 제외\n",
      "1172 번째 가게 제외\n",
      "1186 번째 가게 제외\n",
      "1204 번째 가게 제외\n",
      "1229 번째 가게 제외\n",
      "1236 번째 가게 제외\n",
      "1240 번째 가게 제외\n",
      "1244 번째 가게 제외\n",
      "1251 번째 가게 제외\n",
      "1268 번째 가게 제외\n",
      "1351 번째 가게 제외\n",
      "1357 번째 가게 제외\n",
      "1365 번째 가게 제외\n",
      "1379 번째 가게 제외\n",
      "1408 번째 가게 제외\n",
      "1411 번째 가게 제외\n",
      "1412 번째 가게 제외\n",
      "1423 번째 가게 제외\n",
      "1427 번째 가게 제외\n",
      "1435 번째 가게 제외\n",
      "1436 번째 가게 제외\n",
      "1445 번째 가게 제외\n",
      "1453 번째 가게 제외\n",
      "1464 번째 가게 제외\n",
      "1465 번째 가게 제외\n",
      "1466 번째 가게 제외\n",
      "1473 번째 가게 제외\n",
      "1496 번째 가게 제외\n",
      "1501 번째 가게 제외\n",
      "1524 번째 가게 제외\n",
      "1527 번째 가게 제외\n",
      "1568 번째 가게 제외\n",
      "1598 번째 가게 제외\n",
      "1613 번째 가게 제외\n",
      "1658 번째 가게 제외\n",
      "1671 번째 가게 제외\n",
      "1675 번째 가게 제외\n",
      "1699 번째 가게 제외\n",
      "1703 번째 가게 제외\n",
      "1719 번째 가게 제외\n",
      "1720 번째 가게 제외\n",
      "1730 번째 가게 제외\n",
      "1760 번째 가게 제외\n",
      "1784 번째 가게 제외\n",
      "1795 번째 가게 제외\n",
      "1800 번째 가게 제외\n",
      "1805 번째 가게 제외\n",
      "1836 번째 가게 제외\n",
      "1839 번째 가게 제외\n",
      "1853 번째 가게 제외\n",
      "1869 번째 가게 제외\n",
      "1887 번째 가게 제외\n",
      "1892 번째 가게 제외\n",
      "1899 번째 가게 제외\n",
      "1928 번째 가게 제외\n",
      "1929 번째 가게 제외\n",
      "1935 번째 가게 제외\n",
      "1941 번째 가게 제외\n",
      "1947 번째 가게 제외\n",
      "1959 번째 가게 제외\n",
      "1961 번째 가게 제외\n",
      "1967 번째 가게 제외\n",
      "1974 번째 가게 제외\n",
      "1989 번째 가게 제외\n",
      "2014 번째 가게 제외\n",
      "2018 번째 가게 제외\n",
      "2023 번째 가게 제외\n",
      "2027 번째 가게 제외\n",
      "2052 번째 가게 제외\n",
      "2058 번째 가게 제외\n",
      "2081 번째 가게 제외\n",
      "2089 번째 가게 제외\n",
      "2091 번째 가게 제외\n",
      "2092 번째 가게 제외\n",
      "2093 번째 가게 제외\n",
      "2096 번째 가게 제외\n",
      "2118 번째 가게 제외\n",
      "2119 번째 가게 제외\n",
      "2123 번째 가게 제외\n"
     ]
    },
    {
     "data": {
      "text/plain": [
       "' # 매출 데이터량(12개 미만)이 적은 가게를 필터링하는 함수 / 제거 알고리즘 구현해야함\\nn_store = 0\\n\\nfor i in finalset[\\'store_id\\'].unique():\\n    subset_5 = finalset[finalset[\\'store_id\\'] == i]\\n    if len(subset_5) < 12:\\n        print(i,\"매출 데이터량이 너무 적습니다.\")\\n        n_store += 1\\n    else:\\n        pass\\nprint(\"매출 데이터량이 적은 가게의 수 : \", n_store) '"
      ]
     },
     "execution_count": 216,
     "metadata": {},
     "output_type": "execute_result"
    }
   ],
   "source": [
    "# 1년치 미만 매출 데이터를 보유한 가게들의 데이터를 제거합니다.\n",
    "\n",
    "for i in finalset['store_id'].unique():\n",
    "    subset_5 = finalset.loc[finalset['store_id'] == i]\n",
    "    if len(subset_5) < 360:\n",
    "        print(i,\"번째 가게 제외\")\n",
    "        finalset = finalset.drop(subset_5.index)\n",
    "    else:\n",
    "        pass\n",
    "\n",
    "\"\"\" # 매출 데이터량(12개 미만)이 적은 가게를 필터링하는 함수 / 제거 알고리즘 구현해야함\n",
    "n_store = 0\n",
    "\n",
    "for i in finalset['store_id'].unique():\n",
    "    subset_5 = finalset[finalset['store_id'] == i]\n",
    "    if len(subset_5) < 12:\n",
    "        print(i,\"매출 데이터량이 너무 적습니다.\")\n",
    "        n_store += 1\n",
    "    else:\n",
    "        pass\n",
    "print(\"매출 데이터량이 적은 가게의 수 : \", n_store) \"\"\""
   ]
  },
  {
   "cell_type": "code",
   "execution_count": 89,
   "metadata": {},
   "outputs": [
    {
     "name": "stderr",
     "output_type": "stream",
     "text": [
      "100%|██████████| 1966/1966 [00:02<00:00, 877.90it/s] \n"
     ]
    },
    {
     "data": {
      "text/plain": [
       "' # 2019-02 월 데이터가 없는 가게를 필터링하는 함수 / 제거 알고리즘 구현해야함\\nn_store = 0\\n\\nfor i in finalset[\\'store_id\\'].unique():\\n    subset_6 = finalset[finalset[\\'store_id\\'] == i].tail(1)\\n    if subset_6[\\'datetime\\'].values != finalset[\\'datetime\\'][32]:\\n        print(i,\"번째 가게는 최근 30일 간의 매출이 없습니다.\")\\n        print(subset_6)\\n        n_store += 1\\n    else:\\n        pass\\nprint(\"총 {store} 가게가 최근 매출이 없습니다.\".format(store = n_store)) '"
      ]
     },
     "execution_count": 89,
     "metadata": {},
     "output_type": "execute_result"
    }
   ],
   "source": [
    "for i in tqdm(finalset['store_id'].unique()):\n",
    "    subset_5 = finalset[finalset['store_id'] == i]\n",
    "    if subset_5.tail(1)['datetime'].values != pd.to_datetime('2019-02-25', format='%Y-%m-%d'):\n",
    "        finalset = finalset.drop(subset_5.index, axis = 0)\n",
    "    else:\n",
    "        pass\n",
    "\n",
    "\"\"\" # 2019-02 월 데이터가 없는 가게를 필터링하는 함수 / 제거 알고리즘 구현해야함\n",
    "n_store = 0\n",
    "\n",
    "for i in finalset['store_id'].unique():\n",
    "    subset_6 = finalset[finalset['store_id'] == i].tail(1)\n",
    "    if subset_6['datetime'].values != finalset['datetime'][32]:\n",
    "        print(i,\"번째 가게는 최근 30일 간의 매출이 없습니다.\")\n",
    "        print(subset_6)\n",
    "        n_store += 1\n",
    "    else:\n",
    "        pass\n",
    "print(\"총 {store} 가게가 최근 매출이 없습니다.\".format(store = n_store)) \"\"\""
   ]
  },
  {
   "cell_type": "code",
   "execution_count": 217,
   "metadata": {},
   "outputs": [
    {
     "data": {
      "text/html": [
       "<div>\n",
       "<style scoped>\n",
       "    .dataframe tbody tr th:only-of-type {\n",
       "        vertical-align: middle;\n",
       "    }\n",
       "\n",
       "    .dataframe tbody tr th {\n",
       "        vertical-align: top;\n",
       "    }\n",
       "\n",
       "    .dataframe thead th {\n",
       "        text-align: right;\n",
       "    }\n",
       "</style>\n",
       "<table border=\"1\" class=\"dataframe\">\n",
       "  <thead>\n",
       "    <tr style=\"text-align: right;\">\n",
       "      <th></th>\n",
       "      <th>store_id</th>\n",
       "      <th>amount</th>\n",
       "      <th>date</th>\n",
       "    </tr>\n",
       "  </thead>\n",
       "  <tbody>\n",
       "    <tr>\n",
       "      <th>0</th>\n",
       "      <td>0</td>\n",
       "      <td>12571.428571</td>\n",
       "      <td>2016-06-01</td>\n",
       "    </tr>\n",
       "    <tr>\n",
       "      <th>1</th>\n",
       "      <td>0</td>\n",
       "      <td>40571.428571</td>\n",
       "      <td>2016-06-02</td>\n",
       "    </tr>\n",
       "    <tr>\n",
       "      <th>2</th>\n",
       "      <td>0</td>\n",
       "      <td>18142.857143</td>\n",
       "      <td>2016-06-03</td>\n",
       "    </tr>\n",
       "    <tr>\n",
       "      <th>3</th>\n",
       "      <td>0</td>\n",
       "      <td>31714.285714</td>\n",
       "      <td>2016-06-04</td>\n",
       "    </tr>\n",
       "    <tr>\n",
       "      <th>4</th>\n",
       "      <td>0</td>\n",
       "      <td>10428.571429</td>\n",
       "      <td>2016-06-05</td>\n",
       "    </tr>\n",
       "    <tr>\n",
       "      <th>...</th>\n",
       "      <td>...</td>\n",
       "      <td>...</td>\n",
       "      <td>...</td>\n",
       "    </tr>\n",
       "    <tr>\n",
       "      <th>1282738</th>\n",
       "      <td>2136</td>\n",
       "      <td>85357.142857</td>\n",
       "      <td>2019-02-24</td>\n",
       "    </tr>\n",
       "    <tr>\n",
       "      <th>1282739</th>\n",
       "      <td>2136</td>\n",
       "      <td>37214.285714</td>\n",
       "      <td>2019-02-25</td>\n",
       "    </tr>\n",
       "    <tr>\n",
       "      <th>1282740</th>\n",
       "      <td>2136</td>\n",
       "      <td>47142.857143</td>\n",
       "      <td>2019-02-26</td>\n",
       "    </tr>\n",
       "    <tr>\n",
       "      <th>1282741</th>\n",
       "      <td>2136</td>\n",
       "      <td>65071.428571</td>\n",
       "      <td>2019-02-27</td>\n",
       "    </tr>\n",
       "    <tr>\n",
       "      <th>1282742</th>\n",
       "      <td>2136</td>\n",
       "      <td>65857.142857</td>\n",
       "      <td>2019-02-28</td>\n",
       "    </tr>\n",
       "  </tbody>\n",
       "</table>\n",
       "<p>1232804 rows × 3 columns</p>\n",
       "</div>"
      ],
      "text/plain": [
       "         store_id        amount        date\n",
       "0               0  12571.428571  2016-06-01\n",
       "1               0  40571.428571  2016-06-02\n",
       "2               0  18142.857143  2016-06-03\n",
       "3               0  31714.285714  2016-06-04\n",
       "4               0  10428.571429  2016-06-05\n",
       "...           ...           ...         ...\n",
       "1282738      2136  85357.142857  2019-02-24\n",
       "1282739      2136  37214.285714  2019-02-25\n",
       "1282740      2136  47142.857143  2019-02-26\n",
       "1282741      2136  65071.428571  2019-02-27\n",
       "1282742      2136  65857.142857  2019-02-28\n",
       "\n",
       "[1232804 rows x 3 columns]"
      ]
     },
     "execution_count": 217,
     "metadata": {},
     "output_type": "execute_result"
    }
   ],
   "source": [
    "finalset"
   ]
  },
  {
   "cell_type": "code",
   "execution_count": 218,
   "metadata": {},
   "outputs": [
    {
     "name": "stderr",
     "output_type": "stream",
     "text": [
      "  0%|          | 7/1791 [00:42<4:14:11,  8.55s/it]"
     ]
    },
    {
     "name": "stdout",
     "output_type": "stream",
     "text": [
      "8 번째 가게에서 에러\n"
     ]
    },
    {
     "name": "stderr",
     "output_type": "stream",
     "text": [
      "  1%|          | 12/1791 [00:56<2:00:48,  4.07s/it]"
     ]
    }
   ],
   "source": [
    "# datetime type 을 datetime[ns]로 변경해야함\n",
    "for i in tqdm(finalset['store_id'].unique()): \n",
    "    try:\n",
    "        series  = finalset[finalset['store_id'] == i]\n",
    "        model = auto_arima(np.array(series['amount']), start_p = 0, start_q = 0, supress_warnings=False)\n",
    "        forecast_data = model.predict(n_periods = 90)\n",
    "\n",
    "        subset_4 = pd.DataFrame(data={'store_id': [],'amount' : [],'datetime' : []})\n",
    "        subset_4 = subset_4.append({'amount' : sum(forecast_data.tolist()[0:30]), 'datetime' : pd.to_datetime('2019-03-25', format='%Y-%m-%d')},  ignore_index=True)\n",
    "        subset_4 = subset_4.append({'amount' : sum(forecast_data.tolist()[30:60]), 'datetime' : pd.to_datetime('2019-04-25', format='%Y-%m-%d')},  ignore_index=True)\n",
    "        subset_4 = subset_4.append({'amount' : sum(forecast_data.tolist()[60:90]), 'datetime' : pd.to_datetime('2019-05-25', format='%Y-%m-%d')},  ignore_index=True)\n",
    "        subset_4['store_id'] = i \n",
    "\n",
    "        finalset = pd.concat([finalset, subset_4], axis = 0)\n",
    "        finalset = finalset.sort_values(by=['store_id','datetime']).reset_index(drop = True)\n",
    "    except:\n",
    "        print(i,'번째 가게에서 에러')\n",
    "finalset"
   ]
  },
  {
   "cell_type": "code",
   "execution_count": 180,
   "metadata": {},
   "outputs": [
    {
     "data": {
      "text/html": [
       "<div>\n",
       "<style scoped>\n",
       "    .dataframe tbody tr th:only-of-type {\n",
       "        vertical-align: middle;\n",
       "    }\n",
       "\n",
       "    .dataframe tbody tr th {\n",
       "        vertical-align: top;\n",
       "    }\n",
       "\n",
       "    .dataframe thead th {\n",
       "        text-align: right;\n",
       "    }\n",
       "</style>\n",
       "<table border=\"1\" class=\"dataframe\">\n",
       "  <thead>\n",
       "    <tr style=\"text-align: right;\">\n",
       "      <th></th>\n",
       "      <th>store_id</th>\n",
       "      <th>amount</th>\n",
       "      <th>datetime</th>\n",
       "    </tr>\n",
       "  </thead>\n",
       "  <tbody>\n",
       "    <tr>\n",
       "      <th>33</th>\n",
       "      <td>0</td>\n",
       "      <td>7.049922e+05</td>\n",
       "      <td>2019-03-25</td>\n",
       "    </tr>\n",
       "    <tr>\n",
       "      <th>69</th>\n",
       "      <td>1</td>\n",
       "      <td>1.608358e+05</td>\n",
       "      <td>2019-03-25</td>\n",
       "    </tr>\n",
       "    <tr>\n",
       "      <th>105</th>\n",
       "      <td>2</td>\n",
       "      <td>1.066178e+06</td>\n",
       "      <td>2019-03-25</td>\n",
       "    </tr>\n",
       "    <tr>\n",
       "      <th>141</th>\n",
       "      <td>4</td>\n",
       "      <td>9.969200e+05</td>\n",
       "      <td>2019-03-25</td>\n",
       "    </tr>\n",
       "    <tr>\n",
       "      <th>177</th>\n",
       "      <td>5</td>\n",
       "      <td>4.999851e+05</td>\n",
       "      <td>2019-03-25</td>\n",
       "    </tr>\n",
       "  </tbody>\n",
       "</table>\n",
       "</div>"
      ],
      "text/plain": [
       "     store_id        amount   datetime\n",
       "33          0  7.049922e+05 2019-03-25\n",
       "69          1  1.608358e+05 2019-03-25\n",
       "105         2  1.066178e+06 2019-03-25\n",
       "141         4  9.969200e+05 2019-03-25\n",
       "177         5  4.999851e+05 2019-03-25"
      ]
     },
     "execution_count": 180,
     "metadata": {},
     "output_type": "execute_result"
    }
   ],
   "source": [
    "finalset[finalset['datetime'] == '2019-03-25']"
   ]
  },
  {
   "cell_type": "code",
   "execution_count": 68,
   "metadata": {},
   "outputs": [
    {
     "data": {
      "text/html": [
       "<div>\n",
       "<style scoped>\n",
       "    .dataframe tbody tr th:only-of-type {\n",
       "        vertical-align: middle;\n",
       "    }\n",
       "\n",
       "    .dataframe tbody tr th {\n",
       "        vertical-align: top;\n",
       "    }\n",
       "\n",
       "    .dataframe thead th {\n",
       "        text-align: right;\n",
       "    }\n",
       "</style>\n",
       "<table border=\"1\" class=\"dataframe\">\n",
       "  <thead>\n",
       "    <tr style=\"text-align: right;\">\n",
       "      <th></th>\n",
       "      <th>store_id</th>\n",
       "      <th>amount</th>\n",
       "      <th>datetime</th>\n",
       "    </tr>\n",
       "  </thead>\n",
       "  <tbody>\n",
       "    <tr>\n",
       "      <th>0</th>\n",
       "      <td>0</td>\n",
       "      <td>7.470000e+05</td>\n",
       "      <td>2016-06-25</td>\n",
       "    </tr>\n",
       "    <tr>\n",
       "      <th>1</th>\n",
       "      <td>0</td>\n",
       "      <td>1.005000e+06</td>\n",
       "      <td>2016-07-25</td>\n",
       "    </tr>\n",
       "    <tr>\n",
       "      <th>2</th>\n",
       "      <td>0</td>\n",
       "      <td>8.715714e+05</td>\n",
       "      <td>2016-08-25</td>\n",
       "    </tr>\n",
       "    <tr>\n",
       "      <th>3</th>\n",
       "      <td>0</td>\n",
       "      <td>8.978571e+05</td>\n",
       "      <td>2016-09-25</td>\n",
       "    </tr>\n",
       "    <tr>\n",
       "      <th>4</th>\n",
       "      <td>0</td>\n",
       "      <td>8.354286e+05</td>\n",
       "      <td>2016-10-25</td>\n",
       "    </tr>\n",
       "    <tr>\n",
       "      <th>...</th>\n",
       "      <td>...</td>\n",
       "      <td>...</td>\n",
       "      <td>...</td>\n",
       "    </tr>\n",
       "    <tr>\n",
       "      <th>64785</th>\n",
       "      <td>2136</td>\n",
       "      <td>1.873643e+06</td>\n",
       "      <td>2019-01-25</td>\n",
       "    </tr>\n",
       "    <tr>\n",
       "      <th>64786</th>\n",
       "      <td>2136</td>\n",
       "      <td>2.227429e+06</td>\n",
       "      <td>2019-02-25</td>\n",
       "    </tr>\n",
       "    <tr>\n",
       "      <th>64787</th>\n",
       "      <td>2136</td>\n",
       "      <td>2.313651e+06</td>\n",
       "      <td>2019-03-25</td>\n",
       "    </tr>\n",
       "    <tr>\n",
       "      <th>64788</th>\n",
       "      <td>2136</td>\n",
       "      <td>2.313651e+06</td>\n",
       "      <td>2019-04-25</td>\n",
       "    </tr>\n",
       "    <tr>\n",
       "      <th>64789</th>\n",
       "      <td>2136</td>\n",
       "      <td>2.313651e+06</td>\n",
       "      <td>2019-05-25</td>\n",
       "    </tr>\n",
       "  </tbody>\n",
       "</table>\n",
       "<p>64790 rows × 3 columns</p>\n",
       "</div>"
      ],
      "text/plain": [
       "       store_id        amount   datetime\n",
       "0             0  7.470000e+05 2016-06-25\n",
       "1             0  1.005000e+06 2016-07-25\n",
       "2             0  8.715714e+05 2016-08-25\n",
       "3             0  8.978571e+05 2016-09-25\n",
       "4             0  8.354286e+05 2016-10-25\n",
       "...         ...           ...        ...\n",
       "64785      2136  1.873643e+06 2019-01-25\n",
       "64786      2136  2.227429e+06 2019-02-25\n",
       "64787      2136  2.313651e+06 2019-03-25\n",
       "64788      2136  2.313651e+06 2019-04-25\n",
       "64789      2136  2.313651e+06 2019-05-25\n",
       "\n",
       "[64790 rows x 3 columns]"
      ]
     },
     "execution_count": 68,
     "metadata": {},
     "output_type": "execute_result"
    }
   ],
   "source": [
    "finalset"
   ]
  },
  {
   "cell_type": "code",
   "execution_count": 69,
   "metadata": {},
   "outputs": [
    {
     "name": "stdout",
     "output_type": "stream",
     "text": [
      "<class 'pandas.core.frame.DataFrame'>\n",
      "RangeIndex: 64790 entries, 0 to 64789\n",
      "Data columns (total 3 columns):\n",
      " #   Column    Non-Null Count  Dtype         \n",
      "---  ------    --------------  -----         \n",
      " 0   store_id  64790 non-null  int64         \n",
      " 1   amount    64790 non-null  float64       \n",
      " 2   datetime  64790 non-null  datetime64[ns]\n",
      "dtypes: datetime64[ns](1), float64(1), int64(1)\n",
      "memory usage: 1.5 MB\n"
     ]
    }
   ],
   "source": [
    "finalset.info()"
   ]
  },
  {
   "cell_type": "code",
   "execution_count": 18,
   "metadata": {},
   "outputs": [],
   "source": [
    "finalset.to_csv('../../Data/submission.csv')"
   ]
  },
  {
   "cell_type": "code",
   "execution_count": 29,
   "metadata": {},
   "outputs": [],
   "source": [
    "submission = pd.DataFrame(data={'store_id': [],'amount' : []})"
   ]
  },
  {
   "cell_type": "code",
   "execution_count": 44,
   "metadata": {},
   "outputs": [],
   "source": [
    "submission['store_id'] = finalset['store_id'].unique().tolist()"
   ]
  },
  {
   "cell_type": "code",
   "execution_count": 114,
   "metadata": {},
   "outputs": [
    {
     "data": {
      "text/plain": [
       "1"
      ]
     },
     "execution_count": 114,
     "metadata": {},
     "output_type": "execute_result"
    }
   ],
   "source": [
    "model.order[0]"
   ]
  },
  {
   "cell_type": "code",
   "execution_count": 117,
   "metadata": {},
   "outputs": [
    {
     "name": "stderr",
     "output_type": "stream",
     "text": [
      "  5%|▌         | 2/40 [00:00<00:05,  7.51it/s]"
     ]
    },
    {
     "name": "stdout",
     "output_type": "stream",
     "text": [
      "0\n",
      "[732559.74025974 732559.74025974 732559.74025974]\n",
      "(0, 0, 0)\n",
      "1\n",
      "[77428.57142857 77428.57142857 77428.57142857]\n",
      "(0, 1, 0)\n"
     ]
    },
    {
     "name": "stderr",
     "output_type": "stream",
     "text": [
      " 12%|█▎        | 5/40 [00:01<00:08,  4.33it/s]"
     ]
    },
    {
     "name": "stdout",
     "output_type": "stream",
     "text": [
      "6\n",
      "[2463857.14285715 2463857.14285715 2463857.14285715]\n",
      "(0, 1, 0)\n"
     ]
    },
    {
     "name": "stderr",
     "output_type": "stream",
     "text": [
      " 25%|██▌       | 10/40 [00:01<00:04,  6.46it/s]"
     ]
    },
    {
     "name": "stdout",
     "output_type": "stream",
     "text": [
      "9\n",
      "[492945.81280788 492945.81280788 492945.81280788]\n",
      "(0, 0, 0)\n",
      "10\n",
      "[490484.47204969 490484.47204969 490484.47204969]\n",
      "(0, 0, 0)\n"
     ]
    },
    {
     "name": "stderr",
     "output_type": "stream",
     "text": [
      " 30%|███       | 12/40 [00:02<00:05,  5.27it/s]"
     ]
    },
    {
     "name": "stdout",
     "output_type": "stream",
     "text": [
      "12\n",
      "[310920. 310920. 310920.]\n",
      "(0, 1, 0)\n"
     ]
    },
    {
     "name": "stderr",
     "output_type": "stream",
     "text": [
      " 38%|███▊      | 15/40 [00:03<00:07,  3.26it/s]"
     ]
    },
    {
     "name": "stdout",
     "output_type": "stream",
     "text": [
      "15\n",
      "[749485.71428571 749485.71428571 749485.71428571]\n",
      "(0, 1, 0)\n"
     ]
    },
    {
     "name": "stderr",
     "output_type": "stream",
     "text": [
      " 55%|█████▌    | 22/40 [00:05<00:05,  3.31it/s]"
     ]
    },
    {
     "name": "stdout",
     "output_type": "stream",
     "text": [
      "22\n",
      "[232625. 232625. 232625.]\n",
      "(0, 0, 0)\n"
     ]
    },
    {
     "name": "stderr",
     "output_type": "stream",
     "text": [
      " 60%|██████    | 24/40 [00:06<00:04,  3.80it/s]"
     ]
    },
    {
     "name": "stdout",
     "output_type": "stream",
     "text": [
      "25\n",
      "[101314.28571429 101314.28571429 101314.28571429]\n",
      "(0, 0, 0)\n"
     ]
    },
    {
     "name": "stderr",
     "output_type": "stream",
     "text": [
      " 78%|███████▊  | 31/40 [00:08<00:02,  4.40it/s]"
     ]
    },
    {
     "name": "stdout",
     "output_type": "stream",
     "text": [
      "32\n",
      "[143105.36796537 143105.36796537 143105.36796537]\n",
      "(0, 0, 0)\n"
     ]
    },
    {
     "name": "stderr",
     "output_type": "stream",
     "text": [
      " 88%|████████▊ | 35/40 [00:09<00:00,  5.34it/s]"
     ]
    },
    {
     "name": "stdout",
     "output_type": "stream",
     "text": [
      "36\n",
      "[4879015.23809524 4879015.23809524 4879015.23809524]\n",
      "(0, 0, 0)\n",
      "37\n",
      "[1442688.39285714 1442688.39285714 1442688.39285714]\n",
      "(0, 0, 0)\n"
     ]
    },
    {
     "name": "stderr",
     "output_type": "stream",
     "text": [
      " 95%|█████████▌| 38/40 [00:10<00:00,  3.32it/s]"
     ]
    },
    {
     "name": "stdout",
     "output_type": "stream",
     "text": [
      "42\n",
      "[545642.85714286 545642.85714286 545642.85714286]\n",
      "(0, 1, 0)\n"
     ]
    },
    {
     "name": "stderr",
     "output_type": "stream",
     "text": [
      "100%|██████████| 40/40 [00:10<00:00,  3.68it/s]\n"
     ]
    }
   ],
   "source": [
    "for i in tqdm(finalset['store_id'].unique()[0:40]): \n",
    "    series  = finalset.loc[finalset['store_id'] == i]\n",
    "    model = auto_arima(np.array(series['amount']), start_p = 0, start_q = 0, supress_warnings=False)\n",
    "    forecast_data = model.predict(n_periods=3)\n",
    "\n",
    "    if model.order[0] == 0 and model.order[2] == 0:\n",
    "        print(i)\n",
    "        print(forecast_data)\n",
    "        print(model.order)\n",
    "    "
   ]
  },
  {
   "cell_type": "code",
   "execution_count": 66,
   "metadata": {},
   "outputs": [],
   "source": [
    "submission['amount'] = store_amount"
   ]
  },
  {
   "cell_type": "code",
   "execution_count": 59,
   "metadata": {},
   "outputs": [],
   "source": [
    "submission.to_csv('../../data/submission.csv')"
   ]
  },
  {
   "cell_type": "code",
   "execution_count": 103,
   "metadata": {},
   "outputs": [
    {
     "data": {
      "text/plain": [
       "<AxesSubplot:>"
      ]
     },
     "execution_count": 103,
     "metadata": {},
     "output_type": "execute_result"
    },
    {
     "data": {
      "image/png": "[encoded data removed]",
      "text/plain": [
       "<Figure size 432x288 with 1 Axes>"
      ]
     },
     "metadata": {
      "needs_background": "light"
     },
     "output_type": "display_data"
    }
   ],
   "source": [
    "finalset[finalset['store_id'] == 4]['amount'].plot()\n"
   ]
  },
  {
   "cell_type": "code",
   "execution_count": 106,
   "metadata": {},
   "outputs": [
    {
     "data": {
      "text/plain": [
       "<AxesSubplot:>"
      ]
     },
     "execution_count": 106,
     "metadata": {},
     "output_type": "execute_result"
    },
    {
     "data": {
      "image/png": "[encoded data removed]",
      "text/plain": [
       "<Figure size 432x288 with 1 Axes>"
      ]
     },
     "metadata": {
      "needs_background": "light"
     },
     "output_type": "display_data"
    }
   ],
   "source": [
    "finalset[finalset['store_id'] == 0]['amount'].plot()"
   ]
  },
  {
   "cell_type": "code",
   "execution_count": null,
   "metadata": {},
   "outputs": [],
   "source": []
  }
 ],
 "metadata": {
  "interpreter": {
   "hash": "71b59b5ba49ad06bb2a011e750699e3983d230921f30bf7f37eb3a01ae69aa26"
  },
  "kernelspec": {
   "display_name": "Python 3.9.6 64-bit",
   "name": "python3"
  },
  "language_info": {
   "codemirror_mode": {
    "name": "ipython",
    "version": 3
   },
   "file_extension": ".py",
   "mimetype": "text/x-python",
   "name": "python",
   "nbconvert_exporter": "python",
   "pygments_lexer": "ipython3",
   "version": "3.9.6"
  },
  "orig_nbformat": 4
 },
 "nbformat": 4,
 "nbformat_minor": 2
}
