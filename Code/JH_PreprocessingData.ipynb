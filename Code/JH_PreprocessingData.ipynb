{
 "cells": [
  {
   "cell_type": "code",
   "execution_count": 1,
   "metadata": {},
   "outputs": [],
   "source": [
    "import pandas as pd\n",
    "import numpy as np\n",
    "\n",
    "from tqdm import tqdm\n",
    "\n",
    "import matplotlib.pyplot as plt\n",
    "import plotly.express as px\n",
    "import seaborn as sns\n",
    "\n",
    "from pmdarima.arima import auto_arima\n",
    "\n",
    "import warnings\n",
    "warnings.filterwarnings(action='ignore')\n"
   ]
  },
  {
   "cell_type": "code",
   "execution_count": 2,
   "metadata": {},
   "outputs": [],
   "source": [
    "dataset = pd.read_csv('../../data/funda_train.csv')"
   ]
  },
  {
   "cell_type": "code",
   "execution_count": 3,
   "metadata": {},
   "outputs": [],
   "source": [
    "dataset['year_month'] = dataset['transacted_date'].str.slice(stop=7)"
   ]
  },
  {
   "cell_type": "code",
   "execution_count": 4,
   "metadata": {},
   "outputs": [],
   "source": [
    "\"\"\" drop_features = ['installment_term', 'region', 'type_of_business','transacted_date','card_company','transacted_time']\n",
    "dataset = dataset.drop(drop_features, axis=1) \"\"\""
   ]
  },
  {
   "cell_type": "code",
   "execution_count": 4,
   "metadata": {},
   "outputs": [
    {
     "data": {
      "text/html": [
       "<div>\n",
       "<style scoped>\n",
       "    .dataframe tbody tr th:only-of-type {\n",
       "        vertical-align: middle;\n",
       "    }\n",
       "\n",
       "    .dataframe tbody tr th {\n",
       "        vertical-align: top;\n",
       "    }\n",
       "\n",
       "    .dataframe thead th {\n",
       "        text-align: right;\n",
       "    }\n",
       "</style>\n",
       "<table border=\"1\" class=\"dataframe\">\n",
       "  <thead>\n",
       "    <tr style=\"text-align: right;\">\n",
       "      <th></th>\n",
       "      <th>store_id</th>\n",
       "      <th>amount</th>\n",
       "      <th>year_month</th>\n",
       "      <th>card_id</th>\n",
       "    </tr>\n",
       "  </thead>\n",
       "  <tbody>\n",
       "    <tr>\n",
       "      <th>41</th>\n",
       "      <td>0</td>\n",
       "      <td>-8571.428571</td>\n",
       "      <td>2016-06</td>\n",
       "      <td>40</td>\n",
       "    </tr>\n",
       "    <tr>\n",
       "      <th>347</th>\n",
       "      <td>0</td>\n",
       "      <td>-1857.142857</td>\n",
       "      <td>2016-08</td>\n",
       "      <td>285</td>\n",
       "    </tr>\n",
       "    <tr>\n",
       "      <th>731</th>\n",
       "      <td>0</td>\n",
       "      <td>-2000.000000</td>\n",
       "      <td>2016-10</td>\n",
       "      <td>473</td>\n",
       "    </tr>\n",
       "    <tr>\n",
       "      <th>831</th>\n",
       "      <td>0</td>\n",
       "      <td>-85.714286</td>\n",
       "      <td>2016-11</td>\n",
       "      <td>230</td>\n",
       "    </tr>\n",
       "    <tr>\n",
       "      <th>944</th>\n",
       "      <td>0</td>\n",
       "      <td>-57.142857</td>\n",
       "      <td>2016-11</td>\n",
       "      <td>138</td>\n",
       "    </tr>\n",
       "    <tr>\n",
       "      <th>...</th>\n",
       "      <td>...</td>\n",
       "      <td>...</td>\n",
       "      <td>...</td>\n",
       "      <td>...</td>\n",
       "    </tr>\n",
       "    <tr>\n",
       "      <th>6556242</th>\n",
       "      <td>2136</td>\n",
       "      <td>-13428.571429</td>\n",
       "      <td>2019-02</td>\n",
       "      <td>4663626</td>\n",
       "    </tr>\n",
       "    <tr>\n",
       "      <th>6556448</th>\n",
       "      <td>2136</td>\n",
       "      <td>-6928.571429</td>\n",
       "      <td>2019-02</td>\n",
       "      <td>4663760</td>\n",
       "    </tr>\n",
       "    <tr>\n",
       "      <th>6556485</th>\n",
       "      <td>2136</td>\n",
       "      <td>-5571.428571</td>\n",
       "      <td>2019-02</td>\n",
       "      <td>4663779</td>\n",
       "    </tr>\n",
       "    <tr>\n",
       "      <th>6556489</th>\n",
       "      <td>2136</td>\n",
       "      <td>-8571.428571</td>\n",
       "      <td>2019-02</td>\n",
       "      <td>4663780</td>\n",
       "    </tr>\n",
       "    <tr>\n",
       "      <th>6556608</th>\n",
       "      <td>2136</td>\n",
       "      <td>-4500.000000</td>\n",
       "      <td>2019-02</td>\n",
       "      <td>4663855</td>\n",
       "    </tr>\n",
       "  </tbody>\n",
       "</table>\n",
       "<p>73100 rows × 4 columns</p>\n",
       "</div>"
      ],
      "text/plain": [
       "         store_id        amount year_month  card_id\n",
       "41              0  -8571.428571    2016-06       40\n",
       "347             0  -1857.142857    2016-08      285\n",
       "731             0  -2000.000000    2016-10      473\n",
       "831             0    -85.714286    2016-11      230\n",
       "944             0    -57.142857    2016-11      138\n",
       "...           ...           ...        ...      ...\n",
       "6556242      2136 -13428.571429    2019-02  4663626\n",
       "6556448      2136  -6928.571429    2019-02  4663760\n",
       "6556485      2136  -5571.428571    2019-02  4663779\n",
       "6556489      2136  -8571.428571    2019-02  4663780\n",
       "6556608      2136  -4500.000000    2019-02  4663855\n",
       "\n",
       "[73100 rows x 4 columns]"
      ]
     },
     "execution_count": 4,
     "metadata": {},
     "output_type": "execute_result"
    }
   ],
   "source": [
    "subset = dataset[['store_id','amount','year_month','card_id']]\n",
    "subset\n",
    "\n",
    "refund = subset[subset['amount'] < 0]\n",
    "refund"
   ]
  },
  {
   "cell_type": "code",
   "execution_count": 5,
   "metadata": {},
   "outputs": [
    {
     "data": {
      "text/html": [
       "<div>\n",
       "<style scoped>\n",
       "    .dataframe tbody tr th:only-of-type {\n",
       "        vertical-align: middle;\n",
       "    }\n",
       "\n",
       "    .dataframe tbody tr th {\n",
       "        vertical-align: top;\n",
       "    }\n",
       "\n",
       "    .dataframe thead th {\n",
       "        text-align: right;\n",
       "    }\n",
       "</style>\n",
       "<table border=\"1\" class=\"dataframe\">\n",
       "  <thead>\n",
       "    <tr style=\"text-align: right;\">\n",
       "      <th></th>\n",
       "      <th>store_id</th>\n",
       "      <th>card_id</th>\n",
       "      <th>card_company</th>\n",
       "      <th>transacted_date</th>\n",
       "      <th>transacted_time</th>\n",
       "      <th>installment_term</th>\n",
       "      <th>region</th>\n",
       "      <th>type_of_business</th>\n",
       "      <th>amount</th>\n",
       "      <th>year_month</th>\n",
       "    </tr>\n",
       "  </thead>\n",
       "  <tbody>\n",
       "    <tr>\n",
       "      <th>40</th>\n",
       "      <td>0</td>\n",
       "      <td>40</td>\n",
       "      <td>a</td>\n",
       "      <td>2016-06-10</td>\n",
       "      <td>17:25</td>\n",
       "      <td>2</td>\n",
       "      <td>NaN</td>\n",
       "      <td>기타 미용업</td>\n",
       "      <td>8571.428571</td>\n",
       "      <td>2016-06</td>\n",
       "    </tr>\n",
       "    <tr>\n",
       "      <th>41</th>\n",
       "      <td>0</td>\n",
       "      <td>40</td>\n",
       "      <td>a</td>\n",
       "      <td>2016-06-10</td>\n",
       "      <td>17:26</td>\n",
       "      <td>2</td>\n",
       "      <td>NaN</td>\n",
       "      <td>기타 미용업</td>\n",
       "      <td>-8571.428571</td>\n",
       "      <td>2016-06</td>\n",
       "    </tr>\n",
       "  </tbody>\n",
       "</table>\n",
       "</div>"
      ],
      "text/plain": [
       "    store_id  card_id card_company transacted_date transacted_time  \\\n",
       "40         0       40            a      2016-06-10           17:25   \n",
       "41         0       40            a      2016-06-10           17:26   \n",
       "\n",
       "    installment_term region type_of_business       amount year_month  \n",
       "40                 2    NaN           기타 미용업  8571.428571    2016-06  \n",
       "41                 2    NaN           기타 미용업 -8571.428571    2016-06  "
      ]
     },
     "execution_count": 5,
     "metadata": {},
     "output_type": "execute_result"
    }
   ],
   "source": [
    "dataset.iloc[refund.index[0] -1 : refund.index[0] + 1]"
   ]
  },
  {
   "cell_type": "code",
   "execution_count": 6,
   "metadata": {},
   "outputs": [
    {
     "name": "stderr",
     "output_type": "stream",
     "text": [
      "100%|██████████| 73100/73100 [00:27<00:00, 2634.60it/s]\n"
     ]
    }
   ],
   "source": [
    "refund_case_1 = []\n",
    "for i in tqdm(range(len(refund.index))):\n",
    "    subset = dataset.iloc[refund.index[i]-1 : refund.index[i] + 1]\n",
    "    if subset['amount'].sum() == 0:\n",
    "        refund_case_1.append(refund.index[i]) # 환불 건의 index 를 추출합니다. index 41과 같은 건을 모두 추출\n",
    "    else:\n",
    "        pass"
   ]
  },
  {
   "cell_type": "code",
   "execution_count": 7,
   "metadata": {},
   "outputs": [
    {
     "name": "stderr",
     "output_type": "stream",
     "text": [
      "100%|██████████| 73100/73100 [00:20<00:00, 3650.06it/s]\n"
     ]
    }
   ],
   "source": [
    "refund_case_2 = []\n",
    "for i in tqdm(range(len(refund.index))):\n",
    "    subset = dataset.iloc[refund.index[i]-1 : refund.index[i] + 1]\n",
    "    if subset['amount'].sum() == 0:\n",
    "        refund_case_2.append(refund.index[i]-1)  # 환불 전 결제 건의 index 를 추출합니다. index 40과 같은 건을 모두 추출\n",
    "    else:\n",
    "        pass"
   ]
  },
  {
   "cell_type": "code",
   "execution_count": 8,
   "metadata": {},
   "outputs": [
    {
     "name": "stdout",
     "output_type": "stream",
     "text": [
      "refund_case_1 : 55347 refund_case_2 : 55347\n",
      "두 케이스 동일\n"
     ]
    }
   ],
   "source": [
    "print(\"refund_case_1 : {refund} refund_case_2 : {payment}\".format(refund = len(refund_case_1), payment = len(refund_case_2)))\n",
    "if len(refund_case_1) == len(refund_case_2):\n",
    "    print(\"두 케이스 동일\")"
   ]
  },
  {
   "cell_type": "code",
   "execution_count": 9,
   "metadata": {},
   "outputs": [
    {
     "name": "stdout",
     "output_type": "stream",
     "text": [
      "기존 환불 건수 : 73100 드랍 후 환불 건수 : 17753\n"
     ]
    }
   ],
   "source": [
    "sub_refund = refund.drop(index = refund_case_1, axis = 0)\n",
    "\n",
    "print(\"기존 환불 건수 : {before} 드랍 후 환불 건수 : {after}\".format(before = len(refund), after = len(sub_refund)))"
   ]
  },
  {
   "cell_type": "code",
   "execution_count": 10,
   "metadata": {},
   "outputs": [],
   "source": [
    "sub_dataset = dataset.drop(index = refund_case_2, axis = 0)"
   ]
  },
  {
   "cell_type": "code",
   "execution_count": 11,
   "metadata": {},
   "outputs": [
    {
     "name": "stderr",
     "output_type": "stream",
     "text": [
      "100%|██████████| 17753/17753 [11:22<00:00, 26.00it/s]\n"
     ]
    }
   ],
   "source": [
    "refund_case_3 = []\n",
    "for i in tqdm(range(len(sub_refund.index))):\n",
    "    subset = sub_dataset.loc[(sub_dataset['amount'] == abs(sub_refund.iloc[i].amount)) & (sub_dataset['card_id'] == (sub_refund.iloc[i].card_id))] # 환불 전 결제 케이스\n",
    "    refund_case_3.append(subset.index.min())"
   ]
  },
  {
   "cell_type": "code",
   "execution_count": 12,
   "metadata": {},
   "outputs": [],
   "source": [
    "refund_case_3 = [x for x in refund_case_3 if np.isnan(x) == False] # 해당 조건을 만족하는 환불건만 있고 결제건이 없을때 Nan이 리스트에 들어가므로 난을 제거"
   ]
  },
  {
   "cell_type": "markdown",
   "metadata": {},
   "source": [
    "- -- -------------"
   ]
  },
  {
   "cell_type": "code",
   "execution_count": 13,
   "metadata": {},
   "outputs": [],
   "source": [
    "refund_case_4 = list(sub_refund.index)"
   ]
  },
  {
   "cell_type": "code",
   "execution_count": 14,
   "metadata": {},
   "outputs": [
    {
     "name": "stdout",
     "output_type": "stream",
     "text": [
      "refund_case_3 : 17657 refund_case_4 : 17753\n"
     ]
    }
   ],
   "source": [
    "print(\"refund_case_3 : {before} refund_case_4 : {after}\".format(before = len(refund_case_3), after = len(refund_case_4))) # 환불 케이스"
   ]
  },
  {
   "cell_type": "code",
   "execution_count": 15,
   "metadata": {},
   "outputs": [
    {
     "data": {
      "text/plain": [
       "6410413"
      ]
     },
     "execution_count": 15,
     "metadata": {},
     "output_type": "execute_result"
    }
   ],
   "source": [
    "len(dataset) - 73100*2 # 우리가 원하는 결과"
   ]
  },
  {
   "cell_type": "code",
   "execution_count": 16,
   "metadata": {},
   "outputs": [
    {
     "data": {
      "text/plain": [
       "6501266"
      ]
     },
     "execution_count": 16,
     "metadata": {},
     "output_type": "execute_result"
    }
   ],
   "source": [
    "dataset = dataset.drop(index = refund_case_1, axis = 0)\n",
    "len(dataset)"
   ]
  },
  {
   "cell_type": "code",
   "execution_count": 17,
   "metadata": {},
   "outputs": [
    {
     "data": {
      "text/plain": [
       "6445919"
      ]
     },
     "execution_count": 17,
     "metadata": {},
     "output_type": "execute_result"
    }
   ],
   "source": [
    "dataset = dataset.drop(index = refund_case_2, axis = 0)\n",
    "len(dataset)"
   ]
  },
  {
   "cell_type": "code",
   "execution_count": 18,
   "metadata": {},
   "outputs": [
    {
     "data": {
      "text/plain": [
       "6428813"
      ]
     },
     "execution_count": 18,
     "metadata": {},
     "output_type": "execute_result"
    }
   ],
   "source": [
    "dataset = dataset.drop(index = refund_case_3, axis = 0)\n",
    "len(dataset)"
   ]
  },
  {
   "cell_type": "code",
   "execution_count": 19,
   "metadata": {},
   "outputs": [
    {
     "data": {
      "text/plain": [
       "6411060"
      ]
     },
     "execution_count": 19,
     "metadata": {},
     "output_type": "execute_result"
    }
   ],
   "source": [
    "dataset = dataset.drop(index = refund_case_4, axis = 0)\n",
    "len(dataset)"
   ]
  },
  {
   "cell_type": "code",
   "execution_count": 20,
   "metadata": {},
   "outputs": [
    {
     "data": {
      "text/plain": [
       "[]"
      ]
     },
     "execution_count": 20,
     "metadata": {},
     "output_type": "execute_result"
    }
   ],
   "source": [
    "overlap_test = list(set(refund_case_1).intersection(refund_case_3)) # 중복 index가 있는지 확인\n",
    "overlap_test"
   ]
  },
  {
   "cell_type": "code",
   "execution_count": 21,
   "metadata": {},
   "outputs": [
    {
     "name": "stdout",
     "output_type": "stream",
     "text": [
      "해결하지 못한 환불 건수 : 647\n"
     ]
    }
   ],
   "source": [
    "print(\"해결하지 못한 환불 건수 : {case}\".format(case = len(dataset) - 6410413))"
   ]
  },
  {
   "cell_type": "code",
   "execution_count": 22,
   "metadata": {},
   "outputs": [
    {
     "data": {
      "text/html": [
       "<div>\n",
       "<style scoped>\n",
       "    .dataframe tbody tr th:only-of-type {\n",
       "        vertical-align: middle;\n",
       "    }\n",
       "\n",
       "    .dataframe tbody tr th {\n",
       "        vertical-align: top;\n",
       "    }\n",
       "\n",
       "    .dataframe thead th {\n",
       "        text-align: right;\n",
       "    }\n",
       "</style>\n",
       "<table border=\"1\" class=\"dataframe\">\n",
       "  <thead>\n",
       "    <tr style=\"text-align: right;\">\n",
       "      <th></th>\n",
       "      <th>store_id</th>\n",
       "      <th>amount</th>\n",
       "      <th>year_month</th>\n",
       "    </tr>\n",
       "  </thead>\n",
       "  <tbody>\n",
       "    <tr>\n",
       "      <th>0</th>\n",
       "      <td>0</td>\n",
       "      <td>1857.142857</td>\n",
       "      <td>2016-06</td>\n",
       "    </tr>\n",
       "    <tr>\n",
       "      <th>1</th>\n",
       "      <td>0</td>\n",
       "      <td>857.142857</td>\n",
       "      <td>2016-06</td>\n",
       "    </tr>\n",
       "    <tr>\n",
       "      <th>2</th>\n",
       "      <td>0</td>\n",
       "      <td>2000.000000</td>\n",
       "      <td>2016-06</td>\n",
       "    </tr>\n",
       "    <tr>\n",
       "      <th>3</th>\n",
       "      <td>0</td>\n",
       "      <td>7857.142857</td>\n",
       "      <td>2016-06</td>\n",
       "    </tr>\n",
       "    <tr>\n",
       "      <th>4</th>\n",
       "      <td>0</td>\n",
       "      <td>2000.000000</td>\n",
       "      <td>2016-06</td>\n",
       "    </tr>\n",
       "    <tr>\n",
       "      <th>...</th>\n",
       "      <td>...</td>\n",
       "      <td>...</td>\n",
       "      <td>...</td>\n",
       "    </tr>\n",
       "    <tr>\n",
       "      <th>6556606</th>\n",
       "      <td>2136</td>\n",
       "      <td>3928.571429</td>\n",
       "      <td>2019-02</td>\n",
       "    </tr>\n",
       "    <tr>\n",
       "      <th>6556609</th>\n",
       "      <td>2136</td>\n",
       "      <td>4142.857143</td>\n",
       "      <td>2019-02</td>\n",
       "    </tr>\n",
       "    <tr>\n",
       "      <th>6556610</th>\n",
       "      <td>2136</td>\n",
       "      <td>4500.000000</td>\n",
       "      <td>2019-02</td>\n",
       "    </tr>\n",
       "    <tr>\n",
       "      <th>6556611</th>\n",
       "      <td>2136</td>\n",
       "      <td>571.428571</td>\n",
       "      <td>2019-02</td>\n",
       "    </tr>\n",
       "    <tr>\n",
       "      <th>6556612</th>\n",
       "      <td>2136</td>\n",
       "      <td>5857.142857</td>\n",
       "      <td>2019-02</td>\n",
       "    </tr>\n",
       "  </tbody>\n",
       "</table>\n",
       "<p>6411060 rows × 3 columns</p>\n",
       "</div>"
      ],
      "text/plain": [
       "         store_id       amount year_month\n",
       "0               0  1857.142857    2016-06\n",
       "1               0   857.142857    2016-06\n",
       "2               0  2000.000000    2016-06\n",
       "3               0  7857.142857    2016-06\n",
       "4               0  2000.000000    2016-06\n",
       "...           ...          ...        ...\n",
       "6556606      2136  3928.571429    2019-02\n",
       "6556609      2136  4142.857143    2019-02\n",
       "6556610      2136  4500.000000    2019-02\n",
       "6556611      2136   571.428571    2019-02\n",
       "6556612      2136  5857.142857    2019-02\n",
       "\n",
       "[6411060 rows x 3 columns]"
      ]
     },
     "execution_count": 22,
     "metadata": {},
     "output_type": "execute_result"
    }
   ],
   "source": [
    "subset_2 = dataset[['store_id','amount','year_month']]\n",
    "subset_2"
   ]
  },
  {
   "cell_type": "code",
   "execution_count": 60,
   "metadata": {},
   "outputs": [
    {
     "name": "stderr",
     "output_type": "stream",
     "text": [
      "100%|██████████| 1/1 [00:00<00:00, 24.67it/s]"
     ]
    },
    {
     "name": "stdout",
     "output_type": "stream",
     "text": [
      "    store_id         amount year_month\n",
      "0          1  137214.285714    2016-06\n",
      "1          1  163000.000000    2016-07\n",
      "2          1  118142.857143    2016-08\n",
      "3          1   90428.571429    2016-09\n",
      "4          1  118071.428571    2016-10\n",
      "5          1  111857.142857    2016-11\n",
      "6          1  115571.428571    2016-12\n",
      "7          1  129642.857143    2017-01\n",
      "8          1  160214.285714    2017-02\n",
      "9          1  168428.571429    2017-03\n",
      "10         1  152571.428571    2017-04\n",
      "11         1  107500.000000    2017-05\n",
      "12         1  110357.142857    2017-06\n",
      "13         1  132571.428571    2017-07\n",
      "14         1  107642.857143    2017-08\n",
      "15         1  131357.142857    2017-09\n",
      "16         1   80142.857143    2017-10\n",
      "17         1  110142.857143    2017-11\n",
      "18         1  100714.285714    2017-12\n",
      "19         1  109571.428571    2018-01\n",
      "20         1   94214.285714    2018-02\n",
      "21         1  108357.142857    2018-03\n",
      "22         1  108857.142857    2018-04\n",
      "23         1   80500.000000    2018-05\n",
      "24         1   78285.714286    2018-06\n",
      "25         1  100785.714286    2018-07\n",
      "26         1   92142.857143    2018-08\n",
      "27         1   63571.428571    2018-09\n",
      "28         1   95000.000000    2018-10\n",
      "29         1   80785.714286    2018-11\n",
      "30         1   85285.714286    2018-12\n",
      "31         1  148285.714286    2019-01\n",
      "32         1   77428.571429    2019-02 1 번째 템프셋\n"
     ]
    },
    {
     "name": "stderr",
     "output_type": "stream",
     "text": [
      "\n"
     ]
    }
   ],
   "source": [
    "se1=pd.DataFrame(data={'store_id': [],'amount' : [],'year_month' : []})\n",
    "\n",
    "store = subset_2.loc[subset_2['store_id'] == 0]\n",
    "se1['amount'] = store.groupby(['year_month'])['amount'].agg('sum').values\n",
    "se1['year_month'] = store.groupby(['year_month'])['amount'].agg('sum').index\n",
    "se1['store_id'] = 0\n",
    "\n",
    "\n",
    "for i in tqdm(subset_2['store_id'].unique()[1:2]): # 시작은 1 고정\n",
    "\n",
    "    tempset = pd.DataFrame(data={'store_id': [],'amount' : [],'year_month' : []})\n",
    "\n",
    "    store_ = subset_2.loc[subset_2['store_id'] == i]\n",
    "\n",
    "    tempset['amount'] = store_.groupby(['year_month'])['amount'].agg('sum').values\n",
    "    tempset['year_month'] = store_.groupby(['year_month'])['amount'].agg('sum').index\n",
    "    tempset['store_id'] = i\n",
    "    print(tempset, i,\"번째 템프셋\")\n",
    "    se1 = pd.concat([se1,tempset], axis = 0)\n",
    "\n",
    "se1 = se1.reset_index(drop=True)"
   ]
  },
  {
   "cell_type": "code",
   "execution_count": 23,
   "metadata": {},
   "outputs": [
    {
     "name": "stderr",
     "output_type": "stream",
     "text": [
      "100%|██████████| 1966/1966 [00:41<00:00, 47.79it/s]\n"
     ]
    }
   ],
   "source": [
    "finalset=pd.DataFrame(data={'store_id': [],'amount' : [],'year_month' : []})\n",
    "\n",
    "store = subset_2.loc[subset_2['store_id'] == 0]\n",
    "finalset['amount'] = store.groupby(['year_month'])['amount'].agg('sum').values\n",
    "finalset['year_month'] = store.groupby(['year_month'])['amount'].agg('sum').index\n",
    "finalset['store_id'] = 0\n",
    "\n",
    "\n",
    "for i in tqdm(subset_2['store_id'].unique()[1:]): # 시작은 1 고정\n",
    "\n",
    "    tempset = pd.DataFrame(data={'store_id': [],'amount' : [],'year_month' : []})\n",
    "\n",
    "    store_ = subset_2.loc[subset_2['store_id'] == i]\n",
    "\n",
    "    tempset['amount'] = store_.groupby(['year_month'])['amount'].agg('sum').values\n",
    "    tempset['year_month'] = store_.groupby(['year_month'])['amount'].agg('sum').index\n",
    "    tempset['store_id'] = i\n",
    "\n",
    "    finalset = pd.concat([finalset,tempset], axis = 0)\n",
    "\n",
    "finalset = finalset.reset_index(drop=True)"
   ]
  },
  {
   "cell_type": "code",
   "execution_count": 29,
   "metadata": {},
   "outputs": [
    {
     "data": {
      "text/plain": [
       "1967"
      ]
     },
     "execution_count": 29,
     "metadata": {},
     "output_type": "execute_result"
    }
   ],
   "source": [
    "len(subset_2['store_id'].unique())"
   ]
  },
  {
   "cell_type": "code",
   "execution_count": 24,
   "metadata": {},
   "outputs": [],
   "source": [
    "finalset['datetime'] = pd.to_datetime(finalset['year_month'] + '-25', format='%Y-%m-%d')"
   ]
  },
  {
   "cell_type": "code",
   "execution_count": 25,
   "metadata": {},
   "outputs": [],
   "source": [
    "finalset.to_csv('../../Data/finalset.csv')"
   ]
  },
  {
   "cell_type": "code",
   "execution_count": 9,
   "metadata": {},
   "outputs": [],
   "source": [
    "finalset = pd.read_csv('../../Data/finalset.csv', index_col= 'Unnamed: 0')"
   ]
  },
  {
   "cell_type": "code",
   "execution_count": 11,
   "metadata": {},
   "outputs": [
    {
     "data": {
      "text/html": [
       "<div>\n",
       "<style scoped>\n",
       "    .dataframe tbody tr th:only-of-type {\n",
       "        vertical-align: middle;\n",
       "    }\n",
       "\n",
       "    .dataframe tbody tr th {\n",
       "        vertical-align: top;\n",
       "    }\n",
       "\n",
       "    .dataframe thead th {\n",
       "        text-align: right;\n",
       "    }\n",
       "</style>\n",
       "<table border=\"1\" class=\"dataframe\">\n",
       "  <thead>\n",
       "    <tr style=\"text-align: right;\">\n",
       "      <th></th>\n",
       "      <th>store_id</th>\n",
       "      <th>amount</th>\n",
       "      <th>datetime</th>\n",
       "    </tr>\n",
       "  </thead>\n",
       "  <tbody>\n",
       "    <tr>\n",
       "      <th>0</th>\n",
       "      <td>0</td>\n",
       "      <td>7.470000e+05</td>\n",
       "      <td>2016-06-25</td>\n",
       "    </tr>\n",
       "    <tr>\n",
       "      <th>1</th>\n",
       "      <td>0</td>\n",
       "      <td>1.005000e+06</td>\n",
       "      <td>2016-07-25</td>\n",
       "    </tr>\n",
       "    <tr>\n",
       "      <th>2</th>\n",
       "      <td>0</td>\n",
       "      <td>8.715714e+05</td>\n",
       "      <td>2016-08-25</td>\n",
       "    </tr>\n",
       "    <tr>\n",
       "      <th>3</th>\n",
       "      <td>0</td>\n",
       "      <td>8.978571e+05</td>\n",
       "      <td>2016-09-25</td>\n",
       "    </tr>\n",
       "    <tr>\n",
       "      <th>4</th>\n",
       "      <td>0</td>\n",
       "      <td>8.354286e+05</td>\n",
       "      <td>2016-10-25</td>\n",
       "    </tr>\n",
       "    <tr>\n",
       "      <th>...</th>\n",
       "      <td>...</td>\n",
       "      <td>...</td>\n",
       "      <td>...</td>\n",
       "    </tr>\n",
       "    <tr>\n",
       "      <th>60146</th>\n",
       "      <td>2136</td>\n",
       "      <td>2.012214e+06</td>\n",
       "      <td>2018-10-25</td>\n",
       "    </tr>\n",
       "    <tr>\n",
       "      <th>60147</th>\n",
       "      <td>2136</td>\n",
       "      <td>2.135429e+06</td>\n",
       "      <td>2018-11-25</td>\n",
       "    </tr>\n",
       "    <tr>\n",
       "      <th>60148</th>\n",
       "      <td>2136</td>\n",
       "      <td>2.427429e+06</td>\n",
       "      <td>2018-12-25</td>\n",
       "    </tr>\n",
       "    <tr>\n",
       "      <th>60149</th>\n",
       "      <td>2136</td>\n",
       "      <td>1.873643e+06</td>\n",
       "      <td>2019-01-25</td>\n",
       "    </tr>\n",
       "    <tr>\n",
       "      <th>60150</th>\n",
       "      <td>2136</td>\n",
       "      <td>2.227429e+06</td>\n",
       "      <td>2019-02-25</td>\n",
       "    </tr>\n",
       "  </tbody>\n",
       "</table>\n",
       "<p>60151 rows × 3 columns</p>\n",
       "</div>"
      ],
      "text/plain": [
       "       store_id        amount    datetime\n",
       "0             0  7.470000e+05  2016-06-25\n",
       "1             0  1.005000e+06  2016-07-25\n",
       "2             0  8.715714e+05  2016-08-25\n",
       "3             0  8.978571e+05  2016-09-25\n",
       "4             0  8.354286e+05  2016-10-25\n",
       "...         ...           ...         ...\n",
       "60146      2136  2.012214e+06  2018-10-25\n",
       "60147      2136  2.135429e+06  2018-11-25\n",
       "60148      2136  2.427429e+06  2018-12-25\n",
       "60149      2136  1.873643e+06  2019-01-25\n",
       "60150      2136  2.227429e+06  2019-02-25\n",
       "\n",
       "[60151 rows x 3 columns]"
      ]
     },
     "execution_count": 11,
     "metadata": {},
     "output_type": "execute_result"
    }
   ],
   "source": [
    "finalset = finalset.drop('year_month', axis = 1)\n",
    "finalset"
   ]
  },
  {
   "cell_type": "code",
   "execution_count": 12,
   "metadata": {},
   "outputs": [],
   "source": [
    "series  = finalset.loc[finalset['store_id'] == 0]"
   ]
  },
  {
   "cell_type": "code",
   "execution_count": 23,
   "metadata": {},
   "outputs": [
    {
     "name": "stdout",
     "output_type": "stream",
     "text": [
      "795 매출 데이터량이 너무 적습니다.\n",
      "매출 데이터량이 적은 가게의 수 :  1\n"
     ]
    }
   ],
   "source": [
    "# 매출 데이터량(12개 미만)이 적은 가게를 필터링하는 함수 / 제거 알고리즘 구현해야함\n",
    "n_store = 0 \n",
    "for i in finalset['store_id'].unique()[30:]:\n",
    "    subset_5 = finalset[finalset['store_id'] == i]\n",
    "    if len(subset_5) < 12:\n",
    "        print(i,\"매출 데이터량이 너무 적습니다.\")\n",
    "        n_store += 1\n",
    "    else:\n",
    "        pass\n",
    "print(\"매출 데이터량이 적은 가게의 수 : \", n_store)"
   ]
  },
  {
   "cell_type": "code",
   "execution_count": 269,
   "metadata": {},
   "outputs": [
    {
     "name": "stdout",
     "output_type": "stream",
     "text": [
      "34 번째 가게는 최근 30일 간의 매출이 없습니다.\n",
      "      store_id         amount             datetime\n",
      "1109        34  260957.142857  2019-01-25 00:00:00\n",
      "111 번째 가게는 최근 30일 간의 매출이 없습니다.\n",
      "      store_id   amount             datetime\n",
      "3376       111  83000.0  2018-09-25 00:00:00\n",
      "251 번째 가게는 최근 30일 간의 매출이 없습니다.\n",
      "      store_id        amount             datetime\n",
      "7529       251  42857.142857  2019-01-25 00:00:00\n",
      "257 번째 가게는 최근 30일 간의 매출이 없습니다.\n",
      "      store_id         amount             datetime\n",
      "7711       257  276785.714286  2018-09-25 00:00:00\n",
      "277 번째 가게는 최근 30일 간의 매출이 없습니다.\n",
      "      store_id        amount             datetime\n",
      "8288       277  23142.857143  2019-01-25 00:00:00\n",
      "368 번째 가게는 최근 30일 간의 매출이 없습니다.\n",
      "       store_id        amount             datetime\n",
      "11016       368  81471.428571  2019-01-25 00:00:00\n",
      "374 번째 가게는 최근 30일 간의 매출이 없습니다.\n",
      "       store_id         amount             datetime\n",
      "11211       374  169571.428571  2018-12-25 00:00:00\n",
      "479 번째 가게는 최근 30일 간의 매출이 없습니다.\n",
      "       store_id   amount             datetime\n",
      "14140       479  25000.0  2018-12-25 00:00:00\n",
      "578 번째 가게는 최근 30일 간의 매출이 없습니다.\n",
      "       store_id         amount             datetime\n",
      "17085       578  583171.428571  2019-01-25 00:00:00\n",
      "619 번째 가게는 최근 30일 간의 매출이 없습니다.\n",
      "       store_id         amount             datetime\n",
      "18297       619  271428.571429  2018-11-25 00:00:00\n",
      "632 번째 가게는 최근 30일 간의 매출이 없습니다.\n",
      "       store_id        amount             datetime\n",
      "18663       632  79714.285714  2018-10-25 00:00:00\n",
      "640 번째 가게는 최근 30일 간의 매출이 없습니다.\n",
      "       store_id         amount             datetime\n",
      "18890       640  238571.428571  2018-10-25 00:00:00\n",
      "739 번째 가게는 최근 30일 간의 매출이 없습니다.\n",
      "       store_id  amount             datetime\n",
      "21655       739  1000.0  2019-01-25 00:00:00\n",
      "772 번째 가게는 최근 30일 간의 매출이 없습니다.\n",
      "       store_id    amount             datetime\n",
      "22630       772  311500.0  2018-10-25 00:00:00\n",
      "795 번째 가게는 최근 30일 간의 매출이 없습니다.\n",
      "       store_id        amount             datetime\n",
      "23267       795  34828.571429  2017-05-25 00:00:00\n",
      "802 번째 가게는 최근 30일 간의 매출이 없습니다.\n",
      "       store_id         amount             datetime\n",
      "23489       802  186857.142857  2018-11-25 00:00:00\n",
      "838 번째 가게는 최근 30일 간의 매출이 없습니다.\n",
      "       store_id         amount             datetime\n",
      "24566       838  750928.571429  2018-12-25 00:00:00\n",
      "849 번째 가게는 최근 30일 간의 매출이 없습니다.\n",
      "       store_id   amount             datetime\n",
      "24908       849  60000.0  2019-01-25 00:00:00\n",
      "870 번째 가게는 최근 30일 간의 매출이 없습니다.\n",
      "       store_id         amount             datetime\n",
      "25560       870  124242.857143  2019-01-25 00:00:00\n",
      "888 번째 가게는 최근 30일 간의 매출이 없습니다.\n",
      "       store_id         amount             datetime\n",
      "26116       888  375328.571429  2019-01-25 00:00:00\n",
      "999 번째 가게는 최근 30일 간의 매출이 없습니다.\n",
      "       store_id         amount             datetime\n",
      "29266       999  452135.714286  2018-02-25 00:00:00\n",
      "1182 번째 가게는 최근 30일 간의 매출이 없습니다.\n",
      "       store_id        amount             datetime\n",
      "34083      1182  1.886286e+06  2019-01-25 00:00:00\n",
      "1193 번째 가게는 최근 30일 간의 매출이 없습니다.\n",
      "       store_id         amount             datetime\n",
      "34410      1193  259371.428571  2019-01-25 00:00:00\n",
      "1217 번째 가게는 최근 30일 간의 매출이 없습니다.\n",
      "       store_id         amount             datetime\n",
      "35027      1217  199857.142857  2018-12-25 00:00:00\n",
      "1233 번째 가게는 최근 30일 간의 매출이 없습니다.\n",
      "       store_id        amount             datetime\n",
      "35480      1233  17857.142857  2018-06-25 00:00:00\n",
      "1244 번째 가게는 최근 30일 간의 매출이 없습니다.\n",
      "       store_id        amount             datetime\n",
      "35711      1244  95142.857143  2019-01-25 00:00:00\n",
      "1269 번째 가게는 최근 30일 간의 매출이 없습니다.\n",
      "       store_id        amount             datetime\n",
      "36415      1269  7.219857e+06  2019-01-25 00:00:00\n",
      "1471 번째 가게는 최근 30일 간의 매출이 없습니다.\n",
      "       store_id   amount             datetime\n",
      "42012      1471  24000.0  2019-01-25 00:00:00\n",
      "1520 번째 가게는 최근 30일 간의 매출이 없습니다.\n",
      "       store_id       amount             datetime\n",
      "43336      1520  3785.714286  2018-12-25 00:00:00\n",
      "1527 번째 가게는 최근 30일 간의 매출이 없습니다.\n",
      "       store_id       amount             datetime\n",
      "43524      1527  1428.571429  2018-06-25 00:00:00\n",
      "1565 번째 가게는 최근 30일 간의 매출이 없습니다.\n",
      "       store_id    amount             datetime\n",
      "44537      1565  101000.0  2019-01-25 00:00:00\n",
      "1567 번째 가게는 최근 30일 간의 매출이 없습니다.\n",
      "       store_id    amount             datetime\n",
      "44599      1567  478400.0  2018-11-25 00:00:00\n",
      "1598 번째 가게는 최근 30일 간의 매출이 없습니다.\n",
      "       store_id       amount             datetime\n",
      "45515      1598  2857.142857  2018-11-25 00:00:00\n",
      "1604 번째 가게는 최근 30일 간의 매출이 없습니다.\n",
      "       store_id         amount             datetime\n",
      "45701      1604  264597.142857  2018-09-25 00:00:00\n",
      "1685 번째 가게는 최근 30일 간의 매출이 없습니다.\n",
      "       store_id        amount             datetime\n",
      "47982      1685  58714.285714  2018-10-25 00:00:00\n",
      "1869 번째 가게는 최근 30일 간의 매출이 없습니다.\n",
      "       store_id        amount             datetime\n",
      "53171      1869  11142.857143  2019-01-25 00:00:00\n",
      "1906 번째 가게는 최근 30일 간의 매출이 없습니다.\n",
      "       store_id         amount             datetime\n",
      "54176      1906  598871.428571  2019-01-25 00:00:00\n",
      "1967 번째 가게는 최근 30일 간의 매출이 없습니다.\n",
      "       store_id        amount             datetime\n",
      "55740      1967  56185.714286  2018-12-25 00:00:00\n",
      "1983 번째 가게는 최근 30일 간의 매출이 없습니다.\n",
      "       store_id    amount             datetime\n",
      "56168      1983  752000.0  2019-01-25 00:00:00\n",
      "2027 번째 가게는 최근 30일 간의 매출이 없습니다.\n",
      "       store_id         amount             datetime\n",
      "57374      2027  167142.857143  2018-11-25 00:00:00\n",
      "2053 번째 가게는 최근 30일 간의 매출이 없습니다.\n",
      "       store_id  amount             datetime\n",
      "57960      2053  5500.0  2018-12-25 00:00:00\n",
      "2058 번째 가게는 최근 30일 간의 매출이 없습니다.\n",
      "       store_id         amount             datetime\n",
      "58060      2058  271428.571429  2018-08-25 00:00:00\n",
      "2067 번째 가게는 최근 30일 간의 매출이 없습니다.\n",
      "       store_id         amount             datetime\n",
      "58314      2067  149971.428571  2019-01-25 00:00:00\n",
      "2086 번째 가게는 최근 30일 간의 매출이 없습니다.\n",
      "       store_id         amount             datetime\n",
      "58847      2086  537571.428571  2018-11-25 00:00:00\n",
      "2119 번째 가게는 최근 30일 간의 매출이 없습니다.\n",
      "       store_id         amount             datetime\n",
      "59791      2119  722571.428571  2018-02-25 00:00:00\n",
      "45 의 가게가 최근 매출이 없습니다.\n"
     ]
    }
   ],
   "source": [
    "# 2019-02 월 데이터가 없는 가게를 필터링하는 함수 / 제거 알고리즘 구현해야함\n",
    "\n",
    "n_store = 0\n",
    "for i in finalset['store_id'].unique()[30:]:\n",
    "    subset_5 = finalset[finalset['store_id'] == i].tail(1)\n",
    "    if finalset['datetime'][32] != subset_5['datetime'].values:\n",
    "        print(i,\"번째 가게는 최근 30일 간의 매출이 없습니다.\")\n",
    "        print(subset_5)\n",
    "        n_store += 1\n",
    "    else:\n",
    "        pass\n",
    "print(n_store,\"의 가게가 최근 매출이 없습니다.\")"
   ]
  },
  {
   "cell_type": "code",
   "execution_count": 25,
   "metadata": {},
   "outputs": [
    {
     "name": "stderr",
     "output_type": "stream",
     "text": [
      " 33%|███▎      | 1/3 [00:00<00:01,  1.72it/s]"
     ]
    },
    {
     "name": "stdout",
     "output_type": "stream",
     "text": [
      "795 번째에서 에러\n"
     ]
    },
    {
     "name": "stderr",
     "output_type": "stream",
     "text": [
      "100%|██████████| 3/3 [00:00<00:00,  3.08it/s]\n"
     ]
    },
    {
     "data": {
      "text/html": [
       "<div>\n",
       "<style scoped>\n",
       "    .dataframe tbody tr th:only-of-type {\n",
       "        vertical-align: middle;\n",
       "    }\n",
       "\n",
       "    .dataframe tbody tr th {\n",
       "        vertical-align: top;\n",
       "    }\n",
       "\n",
       "    .dataframe thead th {\n",
       "        text-align: right;\n",
       "    }\n",
       "</style>\n",
       "<table border=\"1\" class=\"dataframe\">\n",
       "  <thead>\n",
       "    <tr style=\"text-align: right;\">\n",
       "      <th></th>\n",
       "      <th>store_id</th>\n",
       "      <th>amount</th>\n",
       "      <th>datetime</th>\n",
       "    </tr>\n",
       "  </thead>\n",
       "  <tbody>\n",
       "    <tr>\n",
       "      <th>0</th>\n",
       "      <td>0</td>\n",
       "      <td>7.470000e+05</td>\n",
       "      <td>2016-06-25</td>\n",
       "    </tr>\n",
       "    <tr>\n",
       "      <th>1</th>\n",
       "      <td>0</td>\n",
       "      <td>1.005000e+06</td>\n",
       "      <td>2016-07-25</td>\n",
       "    </tr>\n",
       "    <tr>\n",
       "      <th>2</th>\n",
       "      <td>0</td>\n",
       "      <td>8.715714e+05</td>\n",
       "      <td>2016-08-25</td>\n",
       "    </tr>\n",
       "    <tr>\n",
       "      <th>3</th>\n",
       "      <td>0</td>\n",
       "      <td>8.978571e+05</td>\n",
       "      <td>2016-09-25</td>\n",
       "    </tr>\n",
       "    <tr>\n",
       "      <th>4</th>\n",
       "      <td>0</td>\n",
       "      <td>8.354286e+05</td>\n",
       "      <td>2016-10-25</td>\n",
       "    </tr>\n",
       "    <tr>\n",
       "      <th>...</th>\n",
       "      <td>...</td>\n",
       "      <td>...</td>\n",
       "      <td>...</td>\n",
       "    </tr>\n",
       "    <tr>\n",
       "      <th>62384</th>\n",
       "      <td>2136</td>\n",
       "      <td>2.012214e+06</td>\n",
       "      <td>2018-10-25</td>\n",
       "    </tr>\n",
       "    <tr>\n",
       "      <th>62385</th>\n",
       "      <td>2136</td>\n",
       "      <td>2.135429e+06</td>\n",
       "      <td>2018-11-25</td>\n",
       "    </tr>\n",
       "    <tr>\n",
       "      <th>62386</th>\n",
       "      <td>2136</td>\n",
       "      <td>2.427429e+06</td>\n",
       "      <td>2018-12-25</td>\n",
       "    </tr>\n",
       "    <tr>\n",
       "      <th>62387</th>\n",
       "      <td>2136</td>\n",
       "      <td>1.873643e+06</td>\n",
       "      <td>2019-01-25</td>\n",
       "    </tr>\n",
       "    <tr>\n",
       "      <th>62388</th>\n",
       "      <td>2136</td>\n",
       "      <td>2.227429e+06</td>\n",
       "      <td>2019-02-25</td>\n",
       "    </tr>\n",
       "  </tbody>\n",
       "</table>\n",
       "<p>62389 rows × 3 columns</p>\n",
       "</div>"
      ],
      "text/plain": [
       "       store_id        amount    datetime\n",
       "0             0  7.470000e+05  2016-06-25\n",
       "1             0  1.005000e+06  2016-07-25\n",
       "2             0  8.715714e+05  2016-08-25\n",
       "3             0  8.978571e+05  2016-09-25\n",
       "4             0  8.354286e+05  2016-10-25\n",
       "...         ...           ...         ...\n",
       "62384      2136  2.012214e+06  2018-10-25\n",
       "62385      2136  2.135429e+06  2018-11-25\n",
       "62386      2136  2.427429e+06  2018-12-25\n",
       "62387      2136  1.873643e+06  2019-01-25\n",
       "62388      2136  2.227429e+06  2019-02-25\n",
       "\n",
       "[62389 rows x 3 columns]"
      ]
     },
     "execution_count": 25,
     "metadata": {},
     "output_type": "execute_result"
    }
   ],
   "source": [
    "# datetime type 을 datetime[ns]로 변경해야함\n",
    "\n",
    "for i in tqdm(finalset['store_id'].unique()[741:744]): \n",
    "    try:\n",
    "        series  = finalset.loc[finalset['store_id'] == i]\n",
    "        model = auto_arima(np.array(series['amount']), start_p=0, start_q=0,supress_warnings=False)\n",
    "        # model_fit = model.fit(trend='c',full_output=True, disp=1)\n",
    "        forecast_data = model.predict(n_periods=3)\n",
    "\n",
    "        subset_4 = pd.DataFrame(data={'store_id': [],'amount' : [],'datetime' : []})\n",
    "        subset_4 = subset_4.append({'amount' : forecast_data.tolist()[0], 'datetime' : '2019-03-25'},  ignore_index=True)\n",
    "        subset_4 = subset_4.append({'amount' : forecast_data.tolist()[1], 'datetime' : '2019-04-25'},  ignore_index=True)\n",
    "        subset_4 = subset_4.append({'amount' : forecast_data.tolist()[2], 'datetime' : '2019-05-25'},  ignore_index=True)\n",
    "        subset_4['store_id'] = i\n",
    "        finalset = pd.concat([finalset, subset_4], axis = 0)\n",
    "        finalset = finalset.sort_values(by=['store_id','datetime']).reset_index(drop = True)\n",
    "    except:\n",
    "        print(i,'번째에서 에러')\n",
    "finalset"
   ]
  },
  {
   "cell_type": "code",
   "execution_count": 115,
   "metadata": {},
   "outputs": [
    {
     "ename": "SyntaxError",
     "evalue": "leading zeros in decimal integer literals are not permitted; use an 0o prefix for octal integers (Temp/ipykernel_24544/4230796615.py, line 2)",
     "output_type": "error",
     "traceback": [
      "\u001b[1;36m  File \u001b[1;32m\"C:\\Users\\JH\\AppData\\Local\\Temp/ipykernel_24544/4230796615.py\"\u001b[1;36m, line \u001b[1;32m2\u001b[0m\n\u001b[1;33m    series['year_month'] = pd.to_datetime(2019-03-25, format='%Y-%m-%d')\u001b[0m\n\u001b[1;37m                                                ^\u001b[0m\n\u001b[1;31mSyntaxError\u001b[0m\u001b[1;31m:\u001b[0m leading zeros in decimal integer literals are not permitted; use an 0o prefix for octal integers\n"
     ]
    }
   ],
   "source": [
    "series['amount'] = forecast_data[0]\n",
    "series['year_month'] = pd.to_datetime('2019-03-25', format='%Y-%m-%d')\n",
    "series['store_id'] = 0"
   ]
  }
 ],
 "metadata": {
  "interpreter": {
   "hash": "71b59b5ba49ad06bb2a011e750699e3983d230921f30bf7f37eb3a01ae69aa26"
  },
  "kernelspec": {
   "display_name": "Python 3.9.6 64-bit",
   "name": "python3"
  },
  "language_info": {
   "codemirror_mode": {
    "name": "ipython",
    "version": 3
   },
   "file_extension": ".py",
   "mimetype": "text/x-python",
   "name": "python",
   "nbconvert_exporter": "python",
   "pygments_lexer": "ipython3",
   "version": "3.9.6"
  },
  "orig_nbformat": 4
 },
 "nbformat": 4,
 "nbformat_minor": 2
}
