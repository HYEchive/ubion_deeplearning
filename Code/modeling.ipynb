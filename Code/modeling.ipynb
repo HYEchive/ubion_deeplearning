{
 "cells": [
  {
   "cell_type": "code",
   "execution_count": 90,
   "metadata": {},
   "outputs": [],
   "source": [
    "import pandas as pd\n",
    "import numpy as np\n",
    "\n",
    "from tqdm import tqdm\n",
    "\n",
    "import matplotlib.pyplot as plt\n",
    "import plotly.express as px\n",
    "import plotly.graph_objects as go\n",
    "import seaborn as sns\n",
    "\n",
    "from pmdarima.arima import auto_arima\n",
    "\n",
    "from statsmodels.tsa.seasonal import seasonal_decompose\n",
    "import warnings\n",
    "warnings.filterwarnings(action='ignore')\n"
   ]
  },
  {
   "cell_type": "code",
   "execution_count": 91,
   "metadata": {},
   "outputs": [],
   "source": [
    "monthset = pd.read_csv('../../data/finalset.csv', index_col= 'Unnamed: 0')\n",
    "dailyset = pd.read_csv('../../data/dailyamount.csv', index_col= 'Unnamed: 0')"
   ]
  },
  {
   "cell_type": "code",
   "execution_count": 92,
   "metadata": {},
   "outputs": [],
   "source": [
    "monthset['datetime'] = pd.to_datetime(monthset['datetime'], format = '%Y-%m-%d')\n",
    "dailyset['date'] = pd.to_datetime(dailyset['date'], format = '%Y-%m-%d')\n",
    "monthset = monthset.drop('year_month', axis =1)"
   ]
  },
  {
   "cell_type": "code",
   "execution_count": 93,
   "metadata": {},
   "outputs": [],
   "source": [
    "def remove_smallstore(dataset, case): \n",
    "    for i in dataset['store_id'].unique():\n",
    "        store_n = dataset.loc[dataset['store_id'] == i]\n",
    "        if len(store_n) < case:\n",
    "            print(\"가게 {store}는 매출 데이터가 180일 미만인 가게입니다. 제거하겠습니다.\".format(store = i))\n",
    "            dataset = dataset.drop(store_n.index)\n",
    "        else:\n",
    "            pass\n",
    "    return dataset\n",
    "\n",
    "def decomposite_timeseries(store_id, periods_):\n",
    "    dates = pd.date_range('2016-06-01', periods= periods_, freq='M')\n",
    "    series = pd.DataFrame({'amount': monthset[monthset['store_id'] == store_id]['amount'].values},\n",
    "                index=dates)\n",
    "    decomposition = seasonal_decompose(series.amount, model ='additive')\n",
    "    seasonal = decomposition.seasonal\n",
    "    #trend = decomposition.trend\n",
    "    #residual = decomposition.resid\n",
    "    #decomposition.plot()\n",
    "    #plt.show()\n",
    "    return seasonal\n",
    "\n",
    "def store_plot(dataset, start, end):\n",
    "    sns.set_style('whitegrid')\n",
    "    plt.figure(figsize=(26, 6))\n",
    "    for i in dataset['store_id'].unique()[start:end]:\n",
    "        dataset_ = dataset.loc[(dataset['store_id'] == i), ['amount', 'datetime']]\n",
    "        group = (dataset_['amount']/10000).groupby(dataset_['datetime'])\n",
    "        plt.plot(group.sum().index[15:], group.sum().values[15:], label='store_{}'.format(i), marker = 'o')\n",
    "    plt.axvline(pd.to_datetime('2019-03-01', format='%Y-%m'), \n",
    "            color= 'blueviolet',linestyle =':', linewidth = 5) \n",
    "    plt.legend()\n",
    "\n",
    "def store_plotly(dataset, start, end):\n",
    "    fig = go.Figure()\n",
    "    for i in dataset['store_id'].unique()[start:end]:\n",
    "        dataset_ = dataset.loc[(dataset['store_id'] == i), ['amount', 'datetime']]\n",
    "        group = (dataset_['amount']/10000).groupby(dataset_['datetime'])\n",
    "        fig.add_trace(go.Scatter(x=group.sum().index[15:], y=group.sum().values[15:],\n",
    "                            mode='lines+markers'\n",
    "                            ))\n",
    "    fig.show()\n",
    "        "
   ]
  },
  {
   "cell_type": "code",
   "execution_count": 94,
   "metadata": {},
   "outputs": [
    {
     "name": "stdout",
     "output_type": "stream",
     "text": [
      "가게 111는 매출 데이터가 180일 미만인 가게입니다. 제거하겠습니다.\n",
      "가게 279는 매출 데이터가 180일 미만인 가게입니다. 제거하겠습니다.\n",
      "가게 479는 매출 데이터가 180일 미만인 가게입니다. 제거하겠습니다.\n",
      "가게 603는 매출 데이터가 180일 미만인 가게입니다. 제거하겠습니다.\n",
      "가게 632는 매출 데이터가 180일 미만인 가게입니다. 제거하겠습니다.\n",
      "가게 795는 매출 데이터가 180일 미만인 가게입니다. 제거하겠습니다.\n",
      "가게 808는 매출 데이터가 180일 미만인 가게입니다. 제거하겠습니다.\n",
      "가게 881는 매출 데이터가 180일 미만인 가게입니다. 제거하겠습니다.\n",
      "가게 1063는 매출 데이터가 180일 미만인 가게입니다. 제거하겠습니다.\n",
      "가게 1139는 매출 데이터가 180일 미만인 가게입니다. 제거하겠습니다.\n",
      "가게 1204는 매출 데이터가 180일 미만인 가게입니다. 제거하겠습니다.\n",
      "가게 1240는 매출 데이터가 180일 미만인 가게입니다. 제거하겠습니다.\n",
      "가게 1351는 매출 데이터가 180일 미만인 가게입니다. 제거하겠습니다.\n",
      "가게 1703는 매출 데이터가 180일 미만인 가게입니다. 제거하겠습니다.\n",
      "가게 1892는 매출 데이터가 180일 미만인 가게입니다. 제거하겠습니다.\n",
      "가게 1935는 매출 데이터가 180일 미만인 가게입니다. 제거하겠습니다.\n",
      "가게 2091는 매출 데이터가 180일 미만인 가게입니다. 제거하겠습니다.\n",
      "가게 2119는 매출 데이터가 180일 미만인 가게입니다. 제거하겠습니다.\n"
     ]
    }
   ],
   "source": [
    "dailyset = remove_smallstore(dailyset, 180)"
   ]
  },
  {
   "cell_type": "code",
   "execution_count": 95,
   "metadata": {},
   "outputs": [
    {
     "name": "stdout",
     "output_type": "stream",
     "text": [
      "1949 1967\n"
     ]
    }
   ],
   "source": [
    "print(len(dailyset['store_id'].unique()), len(monthset['store_id'].unique()))"
   ]
  },
  {
   "cell_type": "code",
   "execution_count": 96,
   "metadata": {},
   "outputs": [
    {
     "name": "stderr",
     "output_type": "stream",
     "text": [
      "  4%|▍         | 1/25 [00:06<02:42,  6.78s/it]"
     ]
    },
    {
     "name": "stdout",
     "output_type": "stream",
     "text": [
      "0번 째 가게의 3,4,5월 매출 예측이 성공하였습니다.\n"
     ]
    },
    {
     "name": "stderr",
     "output_type": "stream",
     "text": [
      "  8%|▊         | 2/25 [00:11<02:02,  5.32s/it]"
     ]
    },
    {
     "name": "stdout",
     "output_type": "stream",
     "text": [
      "1번 째 가게의 3,4,5월 매출 예측이 성공하였습니다.\n"
     ]
    },
    {
     "name": "stderr",
     "output_type": "stream",
     "text": [
      " 12%|█▏        | 3/25 [00:16<01:57,  5.33s/it]"
     ]
    },
    {
     "name": "stdout",
     "output_type": "stream",
     "text": [
      "2번 째 가게의 3,4,5월 매출 예측이 성공하였습니다.\n"
     ]
    },
    {
     "name": "stderr",
     "output_type": "stream",
     "text": [
      " 16%|█▌        | 4/25 [00:19<01:32,  4.42s/it]"
     ]
    },
    {
     "name": "stdout",
     "output_type": "stream",
     "text": [
      "4번 째 가게의 3,4,5월 매출 예측이 성공하였습니다.\n"
     ]
    },
    {
     "name": "stderr",
     "output_type": "stream",
     "text": [
      " 20%|██        | 5/25 [00:24<01:33,  4.68s/it]"
     ]
    },
    {
     "name": "stdout",
     "output_type": "stream",
     "text": [
      "5번 째 가게의 3,4,5월 매출 예측이 성공하였습니다.\n"
     ]
    },
    {
     "name": "stderr",
     "output_type": "stream",
     "text": [
      " 24%|██▍       | 6/25 [00:32<01:49,  5.78s/it]"
     ]
    },
    {
     "name": "stdout",
     "output_type": "stream",
     "text": [
      "6번 째 가게의 3,4,5월 매출 예측이 성공하였습니다.\n"
     ]
    },
    {
     "name": "stderr",
     "output_type": "stream",
     "text": [
      " 28%|██▊       | 7/25 [00:34<01:20,  4.48s/it]"
     ]
    },
    {
     "name": "stdout",
     "output_type": "stream",
     "text": [
      "7번 째 가게의 3,4,5월 매출 예측이 성공하였습니다.\n"
     ]
    },
    {
     "name": "stderr",
     "output_type": "stream",
     "text": [
      " 32%|███▏      | 8/25 [00:54<02:40,  9.45s/it]"
     ]
    },
    {
     "name": "stdout",
     "output_type": "stream",
     "text": [
      "8번 째 가게의 3,4,5월 매출 예측이 성공하였습니다.\n"
     ]
    },
    {
     "name": "stderr",
     "output_type": "stream",
     "text": [
      " 36%|███▌      | 9/25 [00:55<01:49,  6.82s/it]"
     ]
    },
    {
     "name": "stdout",
     "output_type": "stream",
     "text": [
      "9번 째 가게의 3,4,5월 매출 예측이 성공하였습니다.\n",
      "10번 째 가게는 시계열을 분해하기에는 너무 짧은 데이터를 가지고 있습니다.\n"
     ]
    },
    {
     "name": "stderr",
     "output_type": "stream",
     "text": [
      " 44%|████▍     | 11/25 [01:00<01:07,  4.82s/it]"
     ]
    },
    {
     "name": "stdout",
     "output_type": "stream",
     "text": [
      "11번 째 가게의 3,4,5월 매출 예측이 성공하였습니다.\n"
     ]
    },
    {
     "name": "stderr",
     "output_type": "stream",
     "text": [
      " 48%|████▊     | 12/25 [01:04<00:59,  4.54s/it]"
     ]
    },
    {
     "name": "stdout",
     "output_type": "stream",
     "text": [
      "12번 째 가게의 3,4,5월 매출 예측이 성공하였습니다.\n",
      "13번 째 가게는 시계열을 분해하기에는 너무 짧은 데이터를 가지고 있습니다.\n"
     ]
    },
    {
     "name": "stderr",
     "output_type": "stream",
     "text": [
      " 56%|█████▌    | 14/25 [01:50<02:15, 12.34s/it]"
     ]
    },
    {
     "name": "stdout",
     "output_type": "stream",
     "text": [
      "14번 째 가게의 3,4,5월 매출 예측이 성공하였습니다.\n"
     ]
    },
    {
     "name": "stderr",
     "output_type": "stream",
     "text": [
      " 60%|██████    | 15/25 [01:58<01:53, 11.32s/it]"
     ]
    },
    {
     "name": "stdout",
     "output_type": "stream",
     "text": [
      "15번 째 가게의 3,4,5월 매출 예측이 성공하였습니다.\n"
     ]
    },
    {
     "name": "stderr",
     "output_type": "stream",
     "text": [
      " 64%|██████▍   | 16/25 [02:01<01:23,  9.29s/it]"
     ]
    },
    {
     "name": "stdout",
     "output_type": "stream",
     "text": [
      "16번 째 가게의 3,4,5월 매출 예측이 성공하였습니다.\n"
     ]
    },
    {
     "name": "stderr",
     "output_type": "stream",
     "text": [
      " 68%|██████▊   | 17/25 [02:09<01:11,  8.92s/it]"
     ]
    },
    {
     "name": "stdout",
     "output_type": "stream",
     "text": [
      "17번 째 가게의 3,4,5월 매출 예측이 성공하였습니다.\n"
     ]
    },
    {
     "name": "stderr",
     "output_type": "stream",
     "text": [
      " 72%|███████▏  | 18/25 [02:13<00:53,  7.57s/it]"
     ]
    },
    {
     "name": "stdout",
     "output_type": "stream",
     "text": [
      "18번 째 가게의 3,4,5월 매출 예측이 성공하였습니다.\n"
     ]
    },
    {
     "name": "stderr",
     "output_type": "stream",
     "text": [
      " 76%|███████▌  | 19/25 [02:13<00:33,  5.57s/it]"
     ]
    },
    {
     "name": "stdout",
     "output_type": "stream",
     "text": [
      "19번 째 가게의 3,4,5월 매출 예측이 성공하였습니다.\n"
     ]
    },
    {
     "name": "stderr",
     "output_type": "stream",
     "text": [
      " 80%|████████  | 20/25 [02:17<00:24,  4.93s/it]"
     ]
    },
    {
     "name": "stdout",
     "output_type": "stream",
     "text": [
      "20번 째 가게의 3,4,5월 매출 예측이 성공하였습니다.\n"
     ]
    },
    {
     "name": "stderr",
     "output_type": "stream",
     "text": [
      " 84%|████████▍ | 21/25 [02:17<00:14,  3.70s/it]"
     ]
    },
    {
     "name": "stdout",
     "output_type": "stream",
     "text": [
      "22번 째 가게의 3,4,5월 매출 예측이 성공하였습니다.\n"
     ]
    },
    {
     "name": "stderr",
     "output_type": "stream",
     "text": [
      " 88%|████████▊ | 22/25 [02:29<00:17,  5.95s/it]"
     ]
    },
    {
     "name": "stdout",
     "output_type": "stream",
     "text": [
      "23번 째 가게의 3,4,5월 매출 예측이 성공하였습니다.\n"
     ]
    },
    {
     "name": "stderr",
     "output_type": "stream",
     "text": [
      " 92%|█████████▏| 23/25 [02:45<00:17,  8.89s/it]"
     ]
    },
    {
     "name": "stdout",
     "output_type": "stream",
     "text": [
      "24번 째 가게의 3,4,5월 매출 예측이 성공하였습니다.\n"
     ]
    },
    {
     "name": "stderr",
     "output_type": "stream",
     "text": [
      " 96%|█████████▌| 24/25 [02:51<00:08,  8.11s/it]"
     ]
    },
    {
     "name": "stdout",
     "output_type": "stream",
     "text": [
      "25번 째 가게의 3,4,5월 매출 예측이 성공하였습니다.\n"
     ]
    },
    {
     "name": "stderr",
     "output_type": "stream",
     "text": [
      "100%|██████████| 25/25 [03:11<00:00,  7.68s/it]"
     ]
    },
    {
     "name": "stdout",
     "output_type": "stream",
     "text": [
      "26번 째 가게의 3,4,5월 매출 예측이 성공하였습니다.\n"
     ]
    },
    {
     "name": "stderr",
     "output_type": "stream",
     "text": [
      "\n"
     ]
    }
   ],
   "source": [
    "w1 = 1/12  # seasonal_weight\n",
    "\n",
    "for i in tqdm(dailyset['store_id'].unique()[0:25]):\n",
    "    if len(monthset[monthset['store_id'] == i])< 24:\n",
    "        print('{store_id}번 째 가게는 시계열을 분해하기에는 너무 짧은 데이터를 가지고 있습니다.'.format(store_id = i))\n",
    "        pass\n",
    "    else:\n",
    "        try:\n",
    "            dates = pd.date_range('2016-06-01', periods= len(monthset[monthset['store_id'] == i]), freq='M')\n",
    "            series_month = pd.DataFrame({'amount': monthset[monthset['store_id'] == i]['amount'].values},\n",
    "                    index=dates)\n",
    "            decomposition = seasonal_decompose(series_month.amount, model ='additive')\n",
    "            seasonal = decomposition.seasonal\n",
    "            #trend = decomposition.trend\n",
    "            #residual = decomposition.resid\n",
    "            \n",
    "            series_daily  = dailyset[dailyset['store_id'] == i]\n",
    "            model = auto_arima(np.array(series_daily['amount']), start_p = 0, start_q = 0, supress_warnings=False, with_intercept = True, trend = 'c')\n",
    "            forecast_data = model.predict(n_periods = 90)\n",
    "\n",
    "            subset_4 = pd.DataFrame(data={'store_id': [],'amount' : [],'datetime' : []})\n",
    "            subset_4 = subset_4.append({'amount' : sum(forecast_data.tolist()[0:30] + seasonal['2018-03-31']*w1), \n",
    "                            'datetime' : pd.to_datetime('2019-03-25', format='%Y-%m-%d')},  ignore_index=True)\n",
    "            subset_4 = subset_4.append({'amount' : sum(forecast_data.tolist()[30:60] + seasonal['2018-04-30']*w1), \n",
    "                            'datetime' : pd.to_datetime('2019-04-25', format='%Y-%m-%d')},  ignore_index=True)\n",
    "            subset_4 = subset_4.append({'amount' : sum(forecast_data.tolist()[60:90] + seasonal['2018-05-31']*w1), \n",
    "                            'datetime' : pd.to_datetime('2019-05-25', format='%Y-%m-%d')},  ignore_index=True)\n",
    "            subset_4['store_id'] = i \n",
    "\n",
    "            monthset = pd.concat([monthset, subset_4], axis = 0)\n",
    "            monthset = monthset.sort_values(by=['store_id','datetime']).reset_index(drop = True)\n",
    "            print('{store_id}번 째 가게의 3,4,5월 매출 예측이 성공하였습니다.'.format(store_id = i))\n",
    "        except:\n",
    "            if seasonal['2018-03-31'] == None or seasonal['2018-04-31'] == None or seasonal['2018-05-31']:\n",
    "                print('{store_id}번 째 가게의 시즈널 데이터가 없습니다.'.format(store_id = i))\n",
    "            else:\n",
    "                print('{store_id}번 째 가게에서 원인을 알 수 없는 에러가 발생했습니다.'.format(store_id = i))"
   ]
  },
  {
   "cell_type": "code",
   "execution_count": 97,
   "metadata": {},
   "outputs": [
    {
     "data": {
      "image/png": "[encoded data removed]",
      "text/plain": [
       "<Figure size 1872x432 with 1 Axes>"
      ]
     },
     "metadata": {},
     "output_type": "display_data"
    }
   ],
   "source": [
    "store_plot(monthset, 0,5)"
   ]
  },
  {
   "cell_type": "code",
   "execution_count": 84,
   "metadata": {},
   "outputs": [
    {
     "data": {
      "application/vnd.plotly.v1+json": {
       "config": {
        "plotlyServerURL": "https://plotly.com"
       },
       "data": [
        {
         "mode": "lines+markers",
         "type": "scatter",
         "x": [
          "2017-09-25T00:00:00",
          "2017-10-25T00:00:00",
          "2017-11-25T00:00:00",
          "2017-12-25T00:00:00",
          "2018-01-25T00:00:00",
          "2018-02-25T00:00:00",
          "2018-03-25T00:00:00",
          "2018-04-25T00:00:00",
          "2018-05-25T00:00:00",
          "2018-06-25T00:00:00",
          "2018-07-25T00:00:00",
          "2018-08-25T00:00:00",
          "2018-09-25T00:00:00",
          "2018-10-25T00:00:00",
          "2018-11-25T00:00:00",
          "2018-12-25T00:00:00",
          "2019-01-25T00:00:00",
          "2019-02-25T00:00:00",
          "2019-03-25T00:00:00",
          "2019-04-25T00:00:00",
          "2019-05-25T00:00:00"
         ],
         "y": [
          84.08571428571433,
          60.05714285714285,
          63.085714285714296,
          81.27142857142859,
          64.31428571428573,
          68.52857142857144,
          84.84285714285716,
          63.614285714285714,
          68.64285714285714,
          70.72857142857141,
          75.87142857142855,
          67.9857142857143,
          65.18571428571433,
          73.90000000000002,
          67.60000000000001,
          87.45714285714291,
          68.28571428571438,
          51.528571428571446,
          92.94522987968027,
          58.20239948244185,
          75.65929108304884
         ]
        },
        {
         "mode": "lines+markers",
         "type": "scatter",
         "x": [
          "2017-09-25T00:00:00",
          "2017-10-25T00:00:00",
          "2017-11-25T00:00:00",
          "2017-12-25T00:00:00",
          "2018-01-25T00:00:00",
          "2018-02-25T00:00:00",
          "2018-03-25T00:00:00",
          "2018-04-25T00:00:00",
          "2018-05-25T00:00:00",
          "2018-06-25T00:00:00",
          "2018-07-25T00:00:00",
          "2018-08-25T00:00:00",
          "2018-09-25T00:00:00",
          "2018-10-25T00:00:00",
          "2018-11-25T00:00:00",
          "2018-12-25T00:00:00",
          "2019-01-25T00:00:00",
          "2019-02-25T00:00:00",
          "2019-03-25T00:00:00",
          "2019-04-25T00:00:00",
          "2019-05-25T00:00:00"
         ],
         "y": [
          13.13571428571428,
          8.014285714285714,
          11.014285714285716,
          10.071428571428575,
          10.957142857142852,
          9.421428571428573,
          10.835714285714285,
          10.885714285714284,
          8.05,
          7.828571428571429,
          10.078571428571427,
          9.214285714285715,
          6.357142857142859,
          9.5,
          8.078571428571431,
          8.528571428571428,
          14.828571428571433,
          7.742857142857145,
          23.46859912605944,
          21.343310766482457,
          10.533647406905505
         ]
        },
        {
         "mode": "lines+markers",
         "type": "scatter",
         "x": [
          "2017-09-25T00:00:00",
          "2017-10-25T00:00:00",
          "2017-11-25T00:00:00",
          "2017-12-25T00:00:00",
          "2018-01-25T00:00:00",
          "2018-02-25T00:00:00",
          "2018-03-25T00:00:00",
          "2018-04-25T00:00:00",
          "2018-05-25T00:00:00",
          "2018-06-25T00:00:00",
          "2018-07-25T00:00:00",
          "2018-08-25T00:00:00",
          "2018-09-25T00:00:00",
          "2018-10-25T00:00:00",
          "2018-11-25T00:00:00",
          "2018-12-25T00:00:00",
          "2019-01-25T00:00:00",
          "2019-02-25T00:00:00",
          "2019-03-25T00:00:00",
          "2019-04-25T00:00:00",
          "2019-05-25T00:00:00"
         ],
         "y": [
          23.285714285714285,
          26.671428571428574,
          25.285714285714285,
          23.857142857142854,
          29.97142857142856,
          31.28571428571429,
          18.97142857142857,
          28.357142857142858,
          47.28571428571428,
          35.42857142857143,
          68.92857142857144,
          45.78571428571429,
          48.07142857142858,
          51.000000000000014,
          18.542857142857144,
          34.07142857142858,
          40.78571428571429,
          49.68571428571429,
          73.86441561952047,
          112.05513692009244,
          140.7410745614676
         ]
        },
        {
         "mode": "lines+markers",
         "type": "scatter",
         "x": [
          "2017-09-25T00:00:00",
          "2017-10-25T00:00:00",
          "2017-11-25T00:00:00",
          "2017-12-25T00:00:00",
          "2018-01-25T00:00:00",
          "2018-02-25T00:00:00",
          "2018-03-25T00:00:00",
          "2018-04-25T00:00:00",
          "2018-05-25T00:00:00",
          "2018-06-25T00:00:00",
          "2018-07-25T00:00:00",
          "2018-08-25T00:00:00",
          "2018-09-25T00:00:00",
          "2018-10-25T00:00:00",
          "2018-11-25T00:00:00",
          "2018-12-25T00:00:00",
          "2019-01-25T00:00:00",
          "2019-02-25T00:00:00",
          "2019-03-25T00:00:00",
          "2019-04-25T00:00:00",
          "2019-05-25T00:00:00"
         ],
         "y": [
          97.25714285714284,
          106.05714285714282,
          118.9142857142859,
          101.01428571428568,
          83.15714285714286,
          65.09999999999998,
          90.8,
          79.22142857142858,
          77.54285714285713,
          88.12857142857142,
          105.09285714285714,
          84.9285714285714,
          69.8142857142857,
          82.84285714285714,
          88.30000000000003,
          92.38571428571431,
          94.48571428571432,
          88.22857142857141,
          94.76891959447073,
          96.3815844726435,
          86.57853506510232
         ]
        },
        {
         "mode": "lines+markers",
         "type": "scatter",
         "x": [
          "2017-09-25T00:00:00",
          "2017-10-25T00:00:00",
          "2017-11-25T00:00:00",
          "2017-12-25T00:00:00",
          "2018-01-25T00:00:00",
          "2018-02-25T00:00:00",
          "2018-03-25T00:00:00",
          "2018-04-25T00:00:00",
          "2018-05-25T00:00:00",
          "2018-06-25T00:00:00",
          "2018-07-25T00:00:00",
          "2018-08-25T00:00:00",
          "2018-09-25T00:00:00",
          "2018-10-25T00:00:00",
          "2018-11-25T00:00:00",
          "2018-12-25T00:00:00",
          "2019-01-25T00:00:00",
          "2019-02-25T00:00:00",
          "2019-03-25T00:00:00",
          "2019-04-25T00:00:00",
          "2019-05-25T00:00:00"
         ],
         "y": [
          29.142857142857135,
          39.615714285714276,
          39.92857142857143,
          44.155714285714275,
          38.842857142857135,
          31.67857142857143,
          37.01428571428571,
          29.785714285714285,
          43.2,
          57.55714285714283,
          60.707142857142856,
          48.28857142857142,
          19.500000000000004,
          32.49285714285714,
          38.33000000000001,
          39.957142857142884,
          32.3,
          21.55142857142857,
          29.75178953059274,
          40.28951046019961,
          47.096070675520785
         ]
        }
       ],
       "layout": {
        "template": {
         "data": {
          "bar": [
           {
            "error_x": {
             "color": "#2a3f5f"
            },
            "error_y": {
             "color": "#2a3f5f"
            },
            "marker": {
             "line": {
              "color": "#E5ECF6",
              "width": 0.5
             },
             "pattern": {
              "fillmode": "overlay",
              "size": 10,
              "solidity": 0.2
             }
            },
            "type": "bar"
           }
          ],
          "barpolar": [
           {
            "marker": {
             "line": {
              "color": "#E5ECF6",
              "width": 0.5
             },
             "pattern": {
              "fillmode": "overlay",
              "size": 10,
              "solidity": 0.2
             }
            },
            "type": "barpolar"
           }
          ],
          "carpet": [
           {
            "aaxis": {
             "endlinecolor": "#2a3f5f",
             "gridcolor": "white",
             "linecolor": "white",
             "minorgridcolor": "white",
             "startlinecolor": "#2a3f5f"
            },
            "baxis": {
             "endlinecolor": "#2a3f5f",
             "gridcolor": "white",
             "linecolor": "white",
             "minorgridcolor": "white",
             "startlinecolor": "#2a3f5f"
            },
            "type": "carpet"
           }
          ],
          "choropleth": [
           {
            "colorbar": {
             "outlinewidth": 0,
             "ticks": ""
            },
            "type": "choropleth"
           }
          ],
          "contour": [
           {
            "colorbar": {
             "outlinewidth": 0,
             "ticks": ""
            },
            "colorscale": [
             [
              0,
              "#0d0887"
             ],
             [
              0.1111111111111111,
              "#46039f"
             ],
             [
              0.2222222222222222,
              "#7201a8"
             ],
             [
              0.3333333333333333,
              "#9c179e"
             ],
             [
              0.4444444444444444,
              "#bd3786"
             ],
             [
              0.5555555555555556,
              "#d8576b"
             ],
             [
              0.6666666666666666,
              "#ed7953"
             ],
             [
              0.7777777777777778,
              "#fb9f3a"
             ],
             [
              0.8888888888888888,
              "#fdca26"
             ],
             [
              1,
              "#f0f921"
             ]
            ],
            "type": "contour"
           }
          ],
          "contourcarpet": [
           {
            "colorbar": {
             "outlinewidth": 0,
             "ticks": ""
            },
            "type": "contourcarpet"
           }
          ],
          "heatmap": [
           {
            "colorbar": {
             "outlinewidth": 0,
             "ticks": ""
            },
            "colorscale": [
             [
              0,
              "#0d0887"
             ],
             [
              0.1111111111111111,
              "#46039f"
             ],
             [
              0.2222222222222222,
              "#7201a8"
             ],
             [
              0.3333333333333333,
              "#9c179e"
             ],
             [
              0.4444444444444444,
              "#bd3786"
             ],
             [
              0.5555555555555556,
              "#d8576b"
             ],
             [
              0.6666666666666666,
              "#ed7953"
             ],
             [
              0.7777777777777778,
              "#fb9f3a"
             ],
             [
              0.8888888888888888,
              "#fdca26"
             ],
             [
              1,
              "#f0f921"
             ]
            ],
            "type": "heatmap"
           }
          ],
          "heatmapgl": [
           {
            "colorbar": {
             "outlinewidth": 0,
             "ticks": ""
            },
            "colorscale": [
             [
              0,
              "#0d0887"
             ],
             [
              0.1111111111111111,
              "#46039f"
             ],
             [
              0.2222222222222222,
              "#7201a8"
             ],
             [
              0.3333333333333333,
              "#9c179e"
             ],
             [
              0.4444444444444444,
              "#bd3786"
             ],
             [
              0.5555555555555556,
              "#d8576b"
             ],
             [
              0.6666666666666666,
              "#ed7953"
             ],
             [
              0.7777777777777778,
              "#fb9f3a"
             ],
             [
              0.8888888888888888,
              "#fdca26"
             ],
             [
              1,
              "#f0f921"
             ]
            ],
            "type": "heatmapgl"
           }
          ],
          "histogram": [
           {
            "marker": {
             "pattern": {
              "fillmode": "overlay",
              "size": 10,
              "solidity": 0.2
             }
            },
            "type": "histogram"
           }
          ],
          "histogram2d": [
           {
            "colorbar": {
             "outlinewidth": 0,
             "ticks": ""
            },
            "colorscale": [
             [
              0,
              "#0d0887"
             ],
             [
              0.1111111111111111,
              "#46039f"
             ],
             [
              0.2222222222222222,
              "#7201a8"
             ],
             [
              0.3333333333333333,
              "#9c179e"
             ],
             [
              0.4444444444444444,
              "#bd3786"
             ],
             [
              0.5555555555555556,
              "#d8576b"
             ],
             [
              0.6666666666666666,
              "#ed7953"
             ],
             [
              0.7777777777777778,
              "#fb9f3a"
             ],
             [
              0.8888888888888888,
              "#fdca26"
             ],
             [
              1,
              "#f0f921"
             ]
            ],
            "type": "histogram2d"
           }
          ],
          "histogram2dcontour": [
           {
            "colorbar": {
             "outlinewidth": 0,
             "ticks": ""
            },
            "colorscale": [
             [
              0,
              "#0d0887"
             ],
             [
              0.1111111111111111,
              "#46039f"
             ],
             [
              0.2222222222222222,
              "#7201a8"
             ],
             [
              0.3333333333333333,
              "#9c179e"
             ],
             [
              0.4444444444444444,
              "#bd3786"
             ],
             [
              0.5555555555555556,
              "#d8576b"
             ],
             [
              0.6666666666666666,
              "#ed7953"
             ],
             [
              0.7777777777777778,
              "#fb9f3a"
             ],
             [
              0.8888888888888888,
              "#fdca26"
             ],
             [
              1,
              "#f0f921"
             ]
            ],
            "type": "histogram2dcontour"
           }
          ],
          "mesh3d": [
           {
            "colorbar": {
             "outlinewidth": 0,
             "ticks": ""
            },
            "type": "mesh3d"
           }
          ],
          "parcoords": [
           {
            "line": {
             "colorbar": {
              "outlinewidth": 0,
              "ticks": ""
             }
            },
            "type": "parcoords"
           }
          ],
          "pie": [
           {
            "automargin": true,
            "type": "pie"
           }
          ],
          "scatter": [
           {
            "marker": {
             "colorbar": {
              "outlinewidth": 0,
              "ticks": ""
             }
            },
            "type": "scatter"
           }
          ],
          "scatter3d": [
           {
            "line": {
             "colorbar": {
              "outlinewidth": 0,
              "ticks": ""
             }
            },
            "marker": {
             "colorbar": {
              "outlinewidth": 0,
              "ticks": ""
             }
            },
            "type": "scatter3d"
           }
          ],
          "scattercarpet": [
           {
            "marker": {
             "colorbar": {
              "outlinewidth": 0,
              "ticks": ""
             }
            },
            "type": "scattercarpet"
           }
          ],
          "scattergeo": [
           {
            "marker": {
             "colorbar": {
              "outlinewidth": 0,
              "ticks": ""
             }
            },
            "type": "scattergeo"
           }
          ],
          "scattergl": [
           {
            "marker": {
             "colorbar": {
              "outlinewidth": 0,
              "ticks": ""
             }
            },
            "type": "scattergl"
           }
          ],
          "scattermapbox": [
           {
            "marker": {
             "colorbar": {
              "outlinewidth": 0,
              "ticks": ""
             }
            },
            "type": "scattermapbox"
           }
          ],
          "scatterpolar": [
           {
            "marker": {
             "colorbar": {
              "outlinewidth": 0,
              "ticks": ""
             }
            },
            "type": "scatterpolar"
           }
          ],
          "scatterpolargl": [
           {
            "marker": {
             "colorbar": {
              "outlinewidth": 0,
              "ticks": ""
             }
            },
            "type": "scatterpolargl"
           }
          ],
          "scatterternary": [
           {
            "marker": {
             "colorbar": {
              "outlinewidth": 0,
              "ticks": ""
             }
            },
            "type": "scatterternary"
           }
          ],
          "surface": [
           {
            "colorbar": {
             "outlinewidth": 0,
             "ticks": ""
            },
            "colorscale": [
             [
              0,
              "#0d0887"
             ],
             [
              0.1111111111111111,
              "#46039f"
             ],
             [
              0.2222222222222222,
              "#7201a8"
             ],
             [
              0.3333333333333333,
              "#9c179e"
             ],
             [
              0.4444444444444444,
              "#bd3786"
             ],
             [
              0.5555555555555556,
              "#d8576b"
             ],
             [
              0.6666666666666666,
              "#ed7953"
             ],
             [
              0.7777777777777778,
              "#fb9f3a"
             ],
             [
              0.8888888888888888,
              "#fdca26"
             ],
             [
              1,
              "#f0f921"
             ]
            ],
            "type": "surface"
           }
          ],
          "table": [
           {
            "cells": {
             "fill": {
              "color": "#EBF0F8"
             },
             "line": {
              "color": "white"
             }
            },
            "header": {
             "fill": {
              "color": "#C8D4E3"
             },
             "line": {
              "color": "white"
             }
            },
            "type": "table"
           }
          ]
         },
         "layout": {
          "annotationdefaults": {
           "arrowcolor": "#2a3f5f",
           "arrowhead": 0,
           "arrowwidth": 1
          },
          "autotypenumbers": "strict",
          "coloraxis": {
           "colorbar": {
            "outlinewidth": 0,
            "ticks": ""
           }
          },
          "colorscale": {
           "diverging": [
            [
             0,
             "#8e0152"
            ],
            [
             0.1,
             "#c51b7d"
            ],
            [
             0.2,
             "#de77ae"
            ],
            [
             0.3,
             "#f1b6da"
            ],
            [
             0.4,
             "#fde0ef"
            ],
            [
             0.5,
             "#f7f7f7"
            ],
            [
             0.6,
             "#e6f5d0"
            ],
            [
             0.7,
             "#b8e186"
            ],
            [
             0.8,
             "#7fbc41"
            ],
            [
             0.9,
             "#4d9221"
            ],
            [
             1,
             "#276419"
            ]
           ],
           "sequential": [
            [
             0,
             "#0d0887"
            ],
            [
             0.1111111111111111,
             "#46039f"
            ],
            [
             0.2222222222222222,
             "#7201a8"
            ],
            [
             0.3333333333333333,
             "#9c179e"
            ],
            [
             0.4444444444444444,
             "#bd3786"
            ],
            [
             0.5555555555555556,
             "#d8576b"
            ],
            [
             0.6666666666666666,
             "#ed7953"
            ],
            [
             0.7777777777777778,
             "#fb9f3a"
            ],
            [
             0.8888888888888888,
             "#fdca26"
            ],
            [
             1,
             "#f0f921"
            ]
           ],
           "sequentialminus": [
            [
             0,
             "#0d0887"
            ],
            [
             0.1111111111111111,
             "#46039f"
            ],
            [
             0.2222222222222222,
             "#7201a8"
            ],
            [
             0.3333333333333333,
             "#9c179e"
            ],
            [
             0.4444444444444444,
             "#bd3786"
            ],
            [
             0.5555555555555556,
             "#d8576b"
            ],
            [
             0.6666666666666666,
             "#ed7953"
            ],
            [
             0.7777777777777778,
             "#fb9f3a"
            ],
            [
             0.8888888888888888,
             "#fdca26"
            ],
            [
             1,
             "#f0f921"
            ]
           ]
          },
          "colorway": [
           "#636efa",
           "#EF553B",
           "#00cc96",
           "#ab63fa",
           "#FFA15A",
           "#19d3f3",
           "#FF6692",
           "#B6E880",
           "#FF97FF",
           "#FECB52"
          ],
          "font": {
           "color": "#2a3f5f"
          },
          "geo": {
           "bgcolor": "white",
           "lakecolor": "white",
           "landcolor": "#E5ECF6",
           "showlakes": true,
           "showland": true,
           "subunitcolor": "white"
          },
          "hoverlabel": {
           "align": "left"
          },
          "hovermode": "closest",
          "mapbox": {
           "style": "light"
          },
          "paper_bgcolor": "white",
          "plot_bgcolor": "#E5ECF6",
          "polar": {
           "angularaxis": {
            "gridcolor": "white",
            "linecolor": "white",
            "ticks": ""
           },
           "bgcolor": "#E5ECF6",
           "radialaxis": {
            "gridcolor": "white",
            "linecolor": "white",
            "ticks": ""
           }
          },
          "scene": {
           "xaxis": {
            "backgroundcolor": "#E5ECF6",
            "gridcolor": "white",
            "gridwidth": 2,
            "linecolor": "white",
            "showbackground": true,
            "ticks": "",
            "zerolinecolor": "white"
           },
           "yaxis": {
            "backgroundcolor": "#E5ECF6",
            "gridcolor": "white",
            "gridwidth": 2,
            "linecolor": "white",
            "showbackground": true,
            "ticks": "",
            "zerolinecolor": "white"
           },
           "zaxis": {
            "backgroundcolor": "#E5ECF6",
            "gridcolor": "white",
            "gridwidth": 2,
            "linecolor": "white",
            "showbackground": true,
            "ticks": "",
            "zerolinecolor": "white"
           }
          },
          "shapedefaults": {
           "line": {
            "color": "#2a3f5f"
           }
          },
          "ternary": {
           "aaxis": {
            "gridcolor": "white",
            "linecolor": "white",
            "ticks": ""
           },
           "baxis": {
            "gridcolor": "white",
            "linecolor": "white",
            "ticks": ""
           },
           "bgcolor": "#E5ECF6",
           "caxis": {
            "gridcolor": "white",
            "linecolor": "white",
            "ticks": ""
           }
          },
          "title": {
           "x": 0.05
          },
          "xaxis": {
           "automargin": true,
           "gridcolor": "white",
           "linecolor": "white",
           "ticks": "",
           "title": {
            "standoff": 15
           },
           "zerolinecolor": "white",
           "zerolinewidth": 2
          },
          "yaxis": {
           "automargin": true,
           "gridcolor": "white",
           "linecolor": "white",
           "ticks": "",
           "title": {
            "standoff": 15
           },
           "zerolinecolor": "white",
           "zerolinewidth": 2
          }
         }
        }
       }
      }
     },
     "metadata": {},
     "output_type": "display_data"
    }
   ],
   "source": [
    "store_plotly(monthset, 0 , 5)"
   ]
  },
  {
   "cell_type": "code",
   "execution_count": null,
   "metadata": {},
   "outputs": [],
   "source": []
  }
 ],
 "metadata": {
  "interpreter": {
   "hash": "71b59b5ba49ad06bb2a011e750699e3983d230921f30bf7f37eb3a01ae69aa26"
  },
  "kernelspec": {
   "display_name": "Python 3.9.6 64-bit",
   "name": "python3"
  },
  "language_info": {
   "codemirror_mode": {
    "name": "ipython",
    "version": 3
   },
   "file_extension": ".py",
   "mimetype": "text/x-python",
   "name": "python",
   "nbconvert_exporter": "python",
   "pygments_lexer": "ipython3",
   "version": "3.9.6"
  },
  "orig_nbformat": 4
 },
 "nbformat": 4,
 "nbformat_minor": 2
}
