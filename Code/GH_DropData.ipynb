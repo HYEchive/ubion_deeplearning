{
 "cells": [
  {
   "cell_type": "code",
   "execution_count": 14,
   "metadata": {},
   "outputs": [],
   "source": [
    "import pandas as pd\n",
    "from tqdm import tqdm\n"
   ]
  },
  {
   "cell_type": "code",
   "execution_count": 15,
   "metadata": {},
   "outputs": [],
   "source": [
    "finalset = pd.read_csv('finalset.csv', index_col= 'Unnamed: 0')"
   ]
  },
  {
   "cell_type": "code",
   "execution_count": 16,
   "metadata": {},
   "outputs": [
    {
     "data": {
      "text/html": [
       "<div>\n",
       "<style scoped>\n",
       "    .dataframe tbody tr th:only-of-type {\n",
       "        vertical-align: middle;\n",
       "    }\n",
       "\n",
       "    .dataframe tbody tr th {\n",
       "        vertical-align: top;\n",
       "    }\n",
       "\n",
       "    .dataframe thead th {\n",
       "        text-align: right;\n",
       "    }\n",
       "</style>\n",
       "<table border=\"1\" class=\"dataframe\">\n",
       "  <thead>\n",
       "    <tr style=\"text-align: right;\">\n",
       "      <th></th>\n",
       "      <th>store_id</th>\n",
       "      <th>amount</th>\n",
       "      <th>datetime</th>\n",
       "    </tr>\n",
       "  </thead>\n",
       "  <tbody>\n",
       "    <tr>\n",
       "      <th>0</th>\n",
       "      <td>0</td>\n",
       "      <td>7.470000e+05</td>\n",
       "      <td>2016-06-25</td>\n",
       "    </tr>\n",
       "    <tr>\n",
       "      <th>1</th>\n",
       "      <td>0</td>\n",
       "      <td>1.005000e+06</td>\n",
       "      <td>2016-07-25</td>\n",
       "    </tr>\n",
       "    <tr>\n",
       "      <th>2</th>\n",
       "      <td>0</td>\n",
       "      <td>8.715714e+05</td>\n",
       "      <td>2016-08-25</td>\n",
       "    </tr>\n",
       "    <tr>\n",
       "      <th>3</th>\n",
       "      <td>0</td>\n",
       "      <td>8.978571e+05</td>\n",
       "      <td>2016-09-25</td>\n",
       "    </tr>\n",
       "    <tr>\n",
       "      <th>4</th>\n",
       "      <td>0</td>\n",
       "      <td>8.354286e+05</td>\n",
       "      <td>2016-10-25</td>\n",
       "    </tr>\n",
       "    <tr>\n",
       "      <th>...</th>\n",
       "      <td>...</td>\n",
       "      <td>...</td>\n",
       "      <td>...</td>\n",
       "    </tr>\n",
       "    <tr>\n",
       "      <th>60146</th>\n",
       "      <td>2136</td>\n",
       "      <td>2.012214e+06</td>\n",
       "      <td>2018-10-25</td>\n",
       "    </tr>\n",
       "    <tr>\n",
       "      <th>60147</th>\n",
       "      <td>2136</td>\n",
       "      <td>2.135429e+06</td>\n",
       "      <td>2018-11-25</td>\n",
       "    </tr>\n",
       "    <tr>\n",
       "      <th>60148</th>\n",
       "      <td>2136</td>\n",
       "      <td>2.427429e+06</td>\n",
       "      <td>2018-12-25</td>\n",
       "    </tr>\n",
       "    <tr>\n",
       "      <th>60149</th>\n",
       "      <td>2136</td>\n",
       "      <td>1.873643e+06</td>\n",
       "      <td>2019-01-25</td>\n",
       "    </tr>\n",
       "    <tr>\n",
       "      <th>60150</th>\n",
       "      <td>2136</td>\n",
       "      <td>2.227429e+06</td>\n",
       "      <td>2019-02-25</td>\n",
       "    </tr>\n",
       "  </tbody>\n",
       "</table>\n",
       "<p>60151 rows × 3 columns</p>\n",
       "</div>"
      ],
      "text/plain": [
       "       store_id        amount    datetime\n",
       "0             0  7.470000e+05  2016-06-25\n",
       "1             0  1.005000e+06  2016-07-25\n",
       "2             0  8.715714e+05  2016-08-25\n",
       "3             0  8.978571e+05  2016-09-25\n",
       "4             0  8.354286e+05  2016-10-25\n",
       "...         ...           ...         ...\n",
       "60146      2136  2.012214e+06  2018-10-25\n",
       "60147      2136  2.135429e+06  2018-11-25\n",
       "60148      2136  2.427429e+06  2018-12-25\n",
       "60149      2136  1.873643e+06  2019-01-25\n",
       "60150      2136  2.227429e+06  2019-02-25\n",
       "\n",
       "[60151 rows x 3 columns]"
      ]
     },
     "execution_count": 16,
     "metadata": {},
     "output_type": "execute_result"
    }
   ],
   "source": [
    "finalset = finalset.drop('year_month', axis = 1)\n",
    "finalset"
   ]
  },
  {
   "cell_type": "code",
   "execution_count": 17,
   "metadata": {},
   "outputs": [
    {
     "name": "stdout",
     "output_type": "stream",
     "text": [
      "795 매출 데이터량이 너무 적습니다.\n",
      "매출 데이터량이 적은 가게의 수 :  1\n"
     ]
    }
   ],
   "source": [
    "# 매출 데이터량(12개 미만)이 적은 가게를 필터링하는 함수 / 제거 알고리즘 구현해야함\n",
    "n_store = 0 \n",
    "for i in finalset['store_id'].unique()[0:]:\n",
    "    subset_5 = finalset[finalset['store_id'] == i]\n",
    "    if len(subset_5) < 12:\n",
    "        print(i,\"매출 데이터량이 너무 적습니다.\")\n",
    "        n_store += 1\n",
    "    else:\n",
    "        pass\n",
    "print(\"매출 데이터량이 적은 가게의 수 : \", n_store)"
   ]
  },
  {
   "cell_type": "code",
   "execution_count": 18,
   "metadata": {},
   "outputs": [
    {
     "name": "stderr",
     "output_type": "stream",
     "text": [
      " 58%|█████▊    | 1148/1967 [00:00<00:00, 1826.11it/s]"
     ]
    },
    {
     "name": "stdout",
     "output_type": "stream",
     "text": [
      "795 매출 데이터량이 너무 적습니다.\n"
     ]
    },
    {
     "name": "stderr",
     "output_type": "stream",
     "text": [
      "100%|██████████| 1967/1967 [00:01<00:00, 1578.83it/s]"
     ]
    },
    {
     "name": "stdout",
     "output_type": "stream",
     "text": [
      "1 개의 가게가 최근 매출이 없습니다.\n"
     ]
    },
    {
     "name": "stderr",
     "output_type": "stream",
     "text": [
      "\n"
     ]
    }
   ],
   "source": [
    "n_store = 0\n",
    "\n",
    "for i in tqdm(finalset['store_id'].unique()[0:]):\n",
    "    subset_5  = finalset.loc[finalset['store_id'] == i]\n",
    "    if len(subset_5) < 12:\n",
    "        print(i,\"매출 데이터량이 너무 적습니다.\")\n",
    "        # 스토어 개수를 출력하기 위한 함수\n",
    "        n_store += 1\n",
    "        # 스토어 아이디 별로 loc 시행\n",
    "        non_id = subset_5['store_id'].unique()[0]\n",
    "        finalset = finalset.loc[finalset['store_id'] != non_id].reset_index(drop=True)       \n",
    "    else:\n",
    "        pass\n",
    "print(n_store,\"개의 가게가 최근 매출이 없습니다.\")\n"
   ]
  },
  {
   "cell_type": "code",
   "execution_count": 19,
   "metadata": {},
   "outputs": [
    {
     "data": {
      "text/html": [
       "<div>\n",
       "<style scoped>\n",
       "    .dataframe tbody tr th:only-of-type {\n",
       "        vertical-align: middle;\n",
       "    }\n",
       "\n",
       "    .dataframe tbody tr th {\n",
       "        vertical-align: top;\n",
       "    }\n",
       "\n",
       "    .dataframe thead th {\n",
       "        text-align: right;\n",
       "    }\n",
       "</style>\n",
       "<table border=\"1\" class=\"dataframe\">\n",
       "  <thead>\n",
       "    <tr style=\"text-align: right;\">\n",
       "      <th></th>\n",
       "      <th>store_id</th>\n",
       "      <th>amount</th>\n",
       "      <th>datetime</th>\n",
       "    </tr>\n",
       "  </thead>\n",
       "  <tbody>\n",
       "  </tbody>\n",
       "</table>\n",
       "</div>"
      ],
      "text/plain": [
       "Empty DataFrame\n",
       "Columns: [store_id, amount, datetime]\n",
       "Index: []"
      ]
     },
     "execution_count": 19,
     "metadata": {},
     "output_type": "execute_result"
    }
   ],
   "source": [
    "finalset[finalset['store_id']==795]"
   ]
  },
  {
   "cell_type": "code",
   "execution_count": 20,
   "metadata": {},
   "outputs": [
    {
     "name": "stdout",
     "output_type": "stream",
     "text": [
      "34 번째 가게는 최근 30일 간의 매출이 없습니다.\n",
      "      store_id         amount    datetime\n",
      "1004        34  260957.142857  2019-01-25\n",
      "111 번째 가게는 최근 30일 간의 매출이 없습니다.\n",
      "      store_id   amount    datetime\n",
      "3271       111  83000.0  2018-09-25\n",
      "251 번째 가게는 최근 30일 간의 매출이 없습니다.\n",
      "      store_id        amount    datetime\n",
      "7424       251  42857.142857  2019-01-25\n",
      "257 번째 가게는 최근 30일 간의 매출이 없습니다.\n",
      "      store_id         amount    datetime\n",
      "7606       257  276785.714286  2018-09-25\n",
      "277 번째 가게는 최근 30일 간의 매출이 없습니다.\n",
      "      store_id        amount    datetime\n",
      "8183       277  23142.857143  2019-01-25\n",
      "368 번째 가게는 최근 30일 간의 매출이 없습니다.\n",
      "       store_id        amount    datetime\n",
      "10911       368  81471.428571  2019-01-25\n",
      "374 번째 가게는 최근 30일 간의 매출이 없습니다.\n",
      "       store_id         amount    datetime\n",
      "11106       374  169571.428571  2018-12-25\n",
      "479 번째 가게는 최근 30일 간의 매출이 없습니다.\n",
      "       store_id   amount    datetime\n",
      "14035       479  25000.0  2018-12-25\n",
      "578 번째 가게는 최근 30일 간의 매출이 없습니다.\n",
      "       store_id         amount    datetime\n",
      "16980       578  583171.428571  2019-01-25\n",
      "619 번째 가게는 최근 30일 간의 매출이 없습니다.\n",
      "       store_id         amount    datetime\n",
      "18192       619  271428.571429  2018-11-25\n",
      "632 번째 가게는 최근 30일 간의 매출이 없습니다.\n",
      "       store_id        amount    datetime\n",
      "18558       632  79714.285714  2018-10-25\n",
      "640 번째 가게는 최근 30일 간의 매출이 없습니다.\n",
      "       store_id         amount    datetime\n",
      "18785       640  238571.428571  2018-10-25\n",
      "739 번째 가게는 최근 30일 간의 매출이 없습니다.\n",
      "       store_id  amount    datetime\n",
      "21550       739  1000.0  2019-01-25\n",
      "772 번째 가게는 최근 30일 간의 매출이 없습니다.\n",
      "       store_id    amount    datetime\n",
      "22525       772  311500.0  2018-10-25\n",
      "802 번째 가게는 최근 30일 간의 매출이 없습니다.\n",
      "       store_id         amount    datetime\n",
      "23382       802  186857.142857  2018-11-25\n",
      "838 번째 가게는 최근 30일 간의 매출이 없습니다.\n",
      "       store_id         amount    datetime\n",
      "24459       838  750928.571429  2018-12-25\n",
      "849 번째 가게는 최근 30일 간의 매출이 없습니다.\n",
      "       store_id   amount    datetime\n",
      "24801       849  60000.0  2019-01-25\n",
      "870 번째 가게는 최근 30일 간의 매출이 없습니다.\n",
      "       store_id         amount    datetime\n",
      "25453       870  124242.857143  2019-01-25\n",
      "888 번째 가게는 최근 30일 간의 매출이 없습니다.\n",
      "       store_id         amount    datetime\n",
      "26009       888  375328.571429  2019-01-25\n",
      "999 번째 가게는 최근 30일 간의 매출이 없습니다.\n",
      "       store_id         amount    datetime\n",
      "29159       999  452135.714286  2018-02-25\n",
      "1182 번째 가게는 최근 30일 간의 매출이 없습니다.\n",
      "       store_id        amount    datetime\n",
      "33976      1182  1.886286e+06  2019-01-25\n",
      "1193 번째 가게는 최근 30일 간의 매출이 없습니다.\n",
      "       store_id         amount    datetime\n",
      "34303      1193  259371.428571  2019-01-25\n",
      "1217 번째 가게는 최근 30일 간의 매출이 없습니다.\n",
      "       store_id         amount    datetime\n",
      "34920      1217  199857.142857  2018-12-25\n",
      "1233 번째 가게는 최근 30일 간의 매출이 없습니다.\n",
      "       store_id        amount    datetime\n",
      "35373      1233  17857.142857  2018-06-25\n",
      "1244 번째 가게는 최근 30일 간의 매출이 없습니다.\n",
      "       store_id        amount    datetime\n",
      "35604      1244  95142.857143  2019-01-25\n",
      "1269 번째 가게는 최근 30일 간의 매출이 없습니다.\n",
      "       store_id        amount    datetime\n",
      "36308      1269  7.219857e+06  2019-01-25\n",
      "1471 번째 가게는 최근 30일 간의 매출이 없습니다.\n",
      "       store_id   amount    datetime\n",
      "41905      1471  24000.0  2019-01-25\n",
      "1520 번째 가게는 최근 30일 간의 매출이 없습니다.\n",
      "       store_id       amount    datetime\n",
      "43229      1520  3785.714286  2018-12-25\n",
      "1527 번째 가게는 최근 30일 간의 매출이 없습니다.\n",
      "       store_id       amount    datetime\n",
      "43417      1527  1428.571429  2018-06-25\n",
      "1565 번째 가게는 최근 30일 간의 매출이 없습니다.\n",
      "       store_id    amount    datetime\n",
      "44430      1565  101000.0  2019-01-25\n",
      "1567 번째 가게는 최근 30일 간의 매출이 없습니다.\n",
      "       store_id    amount    datetime\n",
      "44492      1567  478400.0  2018-11-25\n",
      "1598 번째 가게는 최근 30일 간의 매출이 없습니다.\n",
      "       store_id       amount    datetime\n",
      "45408      1598  2857.142857  2018-11-25\n",
      "1604 번째 가게는 최근 30일 간의 매출이 없습니다.\n",
      "       store_id         amount    datetime\n",
      "45594      1604  264597.142857  2018-09-25\n",
      "1685 번째 가게는 최근 30일 간의 매출이 없습니다.\n",
      "       store_id        amount    datetime\n",
      "47875      1685  58714.285714  2018-10-25\n",
      "1869 번째 가게는 최근 30일 간의 매출이 없습니다.\n",
      "       store_id        amount    datetime\n",
      "53064      1869  11142.857143  2019-01-25\n",
      "1906 번째 가게는 최근 30일 간의 매출이 없습니다.\n",
      "       store_id         amount    datetime\n",
      "54069      1906  598871.428571  2019-01-25\n",
      "1967 번째 가게는 최근 30일 간의 매출이 없습니다.\n",
      "       store_id        amount    datetime\n",
      "55633      1967  56185.714286  2018-12-25\n",
      "1983 번째 가게는 최근 30일 간의 매출이 없습니다.\n",
      "       store_id    amount    datetime\n",
      "56061      1983  752000.0  2019-01-25\n",
      "2027 번째 가게는 최근 30일 간의 매출이 없습니다.\n",
      "       store_id         amount    datetime\n",
      "57267      2027  167142.857143  2018-11-25\n",
      "2053 번째 가게는 최근 30일 간의 매출이 없습니다.\n",
      "       store_id  amount    datetime\n",
      "57853      2053  5500.0  2018-12-25\n",
      "2058 번째 가게는 최근 30일 간의 매출이 없습니다.\n",
      "       store_id         amount    datetime\n",
      "57953      2058  271428.571429  2018-08-25\n",
      "2067 번째 가게는 최근 30일 간의 매출이 없습니다.\n",
      "       store_id         amount    datetime\n",
      "58207      2067  149971.428571  2019-01-25\n",
      "2086 번째 가게는 최근 30일 간의 매출이 없습니다.\n",
      "       store_id         amount    datetime\n",
      "58740      2086  537571.428571  2018-11-25\n",
      "2119 번째 가게는 최근 30일 간의 매출이 없습니다.\n",
      "       store_id         amount    datetime\n",
      "59684      2119  722571.428571  2018-02-25\n",
      "44 의 가게가 최근 매출이 없습니다.\n"
     ]
    }
   ],
   "source": [
    "# 2019-02 월 데이터가 없는 가게를 필터링하는 함수 / 제거 알고리즘 구현해야함\n",
    "\n",
    "n_stores = 0\n",
    "for i in finalset['store_id'].unique()[30:]:\n",
    "    subset_5 = finalset[finalset['store_id'] == i].tail(1)\n",
    "    if finalset['datetime'][32] != subset_5['datetime'].values:\n",
    "        print(i,\"번째 가게는 최근 30일 간의 매출이 없습니다.\")\n",
    "        print(subset_5)\n",
    "        n_stores += 1\n",
    "    else:\n",
    "        pass\n",
    "print(n_stores,\"의 가게가 최근 매출이 없습니다.\")"
   ]
  },
  {
   "cell_type": "code",
   "execution_count": 21,
   "metadata": {},
   "outputs": [
    {
     "name": "stderr",
     "output_type": "stream",
     "text": [
      "  3%|▎         | 59/1936 [00:00<00:03, 588.68it/s]"
     ]
    },
    {
     "name": "stdout",
     "output_type": "stream",
     "text": [
      "34 가게는 최근 30일 간의 매출이 없으므로 삭제하였습니다.\n",
      "111 가게는 최근 30일 간의 매출이 없으므로 삭제하였습니다.\n"
     ]
    },
    {
     "name": "stderr",
     "output_type": "stream",
     "text": [
      " 13%|█▎        | 251/1936 [00:00<00:04, 397.35it/s]"
     ]
    },
    {
     "name": "stdout",
     "output_type": "stream",
     "text": [
      "251 가게는 최근 30일 간의 매출이 없으므로 삭제하였습니다.\n",
      "257 가게는 최근 30일 간의 매출이 없으므로 삭제하였습니다.\n",
      "277 가게는 최근 30일 간의 매출이 없으므로 삭제하였습니다.\n"
     ]
    },
    {
     "name": "stderr",
     "output_type": "stream",
     "text": [
      " 20%|██        | 390/1936 [00:00<00:02, 540.44it/s]"
     ]
    },
    {
     "name": "stdout",
     "output_type": "stream",
     "text": [
      "368 가게는 최근 30일 간의 매출이 없으므로 삭제하였습니다.\n",
      "374 가게는 최근 30일 간의 매출이 없으므로 삭제하였습니다.\n",
      "479 가게는 최근 30일 간의 매출이 없으므로 삭제하였습니다.\n"
     ]
    },
    {
     "name": "stderr",
     "output_type": "stream",
     "text": [
      " 30%|██▉       | 578/1936 [00:01<00:02, 536.80it/s]"
     ]
    },
    {
     "name": "stdout",
     "output_type": "stream",
     "text": [
      "578 가게는 최근 30일 간의 매출이 없으므로 삭제하였습니다.\n",
      "619 가게는 최근 30일 간의 매출이 없으므로 삭제하였습니다.\n",
      "632 가게는 최근 30일 간의 매출이 없으므로 삭제하였습니다.\n",
      "640 가게는 최근 30일 간의 매출이 없으므로 삭제하였습니다.\n"
     ]
    },
    {
     "name": "stderr",
     "output_type": "stream",
     "text": [
      " 39%|███▊      | 746/1936 [00:01<00:02, 534.30it/s]"
     ]
    },
    {
     "name": "stdout",
     "output_type": "stream",
     "text": [
      "739 가게는 최근 30일 간의 매출이 없으므로 삭제하였습니다.\n",
      "772 가게는 최근 30일 간의 매출이 없으므로 삭제하였습니다.\n",
      "802 가게는 최근 30일 간의 매출이 없으므로 삭제하였습니다.\n",
      "838 가게는 최근 30일 간의 매출이 없으므로 삭제하였습니다.\n",
      "849 가게는 최근 30일 간의 매출이 없으므로 삭제하였습니다.\n"
     ]
    },
    {
     "name": "stderr",
     "output_type": "stream",
     "text": [
      " 46%|████▋     | 897/1936 [00:01<00:01, 636.57it/s]"
     ]
    },
    {
     "name": "stdout",
     "output_type": "stream",
     "text": [
      "870 가게는 최근 30일 간의 매출이 없으므로 삭제하였습니다.\n",
      "888 가게는 최근 30일 간의 매출이 없으므로 삭제하였습니다.\n",
      "999 가게는 최근 30일 간의 매출이 없으므로 삭제하였습니다.\n"
     ]
    },
    {
     "name": "stderr",
     "output_type": "stream",
     "text": [
      " 68%|██████▊   | 1307/1936 [00:02<00:00, 967.54it/s]"
     ]
    },
    {
     "name": "stdout",
     "output_type": "stream",
     "text": [
      "1182 가게는 최근 30일 간의 매출이 없으므로 삭제하였습니다.\n",
      "1193 가게는 최근 30일 간의 매출이 없으므로 삭제하였습니다.\n",
      "1217 가게는 최근 30일 간의 매출이 없으므로 삭제하였습니다.\n",
      "1233 가게는 최근 30일 간의 매출이 없으므로 삭제하였습니다.\n",
      "1244 가게는 최근 30일 간의 매출이 없으므로 삭제하였습니다.\n",
      "1269 가게는 최근 30일 간의 매출이 없으므로 삭제하였습니다.\n",
      "1471 가게는 최근 30일 간의 매출이 없으므로 삭제하였습니다.\n"
     ]
    },
    {
     "name": "stderr",
     "output_type": "stream",
     "text": [
      " 78%|███████▊  | 1501/1936 [00:02<00:00, 825.17it/s]"
     ]
    },
    {
     "name": "stdout",
     "output_type": "stream",
     "text": [
      "1520 가게는 최근 30일 간의 매출이 없으므로 삭제하였습니다.\n",
      "1527 가게는 최근 30일 간의 매출이 없으므로 삭제하였습니다.\n",
      "1565 가게는 최근 30일 간의 매출이 없으므로 삭제하였습니다.\n",
      "1567 가게는 최근 30일 간의 매출이 없으므로 삭제하였습니다.\n",
      "1598 가게는 최근 30일 간의 매출이 없으므로 삭제하였습니다.\n",
      "1604 가게는 최근 30일 간의 매출이 없으므로 삭제하였습니다.\n"
     ]
    },
    {
     "name": "stderr",
     "output_type": "stream",
     "text": [
      " 89%|████████▊ | 1714/1936 [00:02<00:00, 882.56it/s]"
     ]
    },
    {
     "name": "stdout",
     "output_type": "stream",
     "text": [
      "1685 가게는 최근 30일 간의 매출이 없으므로 삭제하였습니다.\n",
      "1869 가게는 최근 30일 간의 매출이 없으므로 삭제하였습니다.\n",
      "1906"
     ]
    },
    {
     "name": "stderr",
     "output_type": "stream",
     "text": [
      " 93%|█████████▎| 1805/1936 [00:02<00:00, 868.17it/s]"
     ]
    },
    {
     "name": "stdout",
     "output_type": "stream",
     "text": [
      " 가게는 최근 30일 간의 매출이 없으므로 삭제하였습니다.\n",
      "1967 가게는 최근 30일 간의 매출이 없으므로 삭제하였습니다.\n",
      "1983 가게는 최근 30일 간의 매출이 없으므로 삭제하였습니다.\n",
      "2027 가게는 최근 30일 간의 매출이 없으므로 삭제하였습니다.\n",
      "2053 가게는 최근 30일 간의 매출이 없으므로 삭제하였습니다.\n",
      "2058 가게는 최근 30일 간의 매출이 없으므로 삭제하였습니다.\n",
      "2067 가게는 최근 30일 간의 매출이 없으므로 삭제하였습니다.\n",
      "2086 가게는 최근 30일 간의 매출이 없으므로 삭제하였습니다.\n"
     ]
    },
    {
     "name": "stderr",
     "output_type": "stream",
     "text": [
      "100%|██████████| 1936/1936 [00:02<00:00, 674.23it/s]"
     ]
    },
    {
     "name": "stdout",
     "output_type": "stream",
     "text": [
      "2119 가게는 최근 30일 간의 매출이 없으므로 삭제하였습니다.\n",
      "44 개의 가게를 삭제완료했습니다.\n"
     ]
    },
    {
     "name": "stderr",
     "output_type": "stream",
     "text": [
      "\n"
     ]
    }
   ],
   "source": [
    "n_stores_ = 0\n",
    "\n",
    "for i in tqdm(finalset['store_id'].unique()[30:]):\n",
    "    subset_5 = finalset[finalset['store_id'] == i].tail(1)\n",
    "    if finalset['datetime'][32] != subset_5['datetime'].values:\n",
    "        # store_id 변수 지정\n",
    "        non_id = subset_5['store_id'].unique()[0]\n",
    "        # 스토어 개수를 출력하기 위한 함수\n",
    "        n_stores_ += 1\n",
    "        # x에 있는 id를 제외하고 뽑기\n",
    "        finalset = finalset.loc[finalset['store_id'] != non_id].reset_index(drop=True) \n",
    "        # 30일 매출 데이터가 없는 것을 뽑아주기 완료\n",
    "        print(non_id,'가게는 최근 30일 간의 매출이 없으므로 삭제하였습니다.')    \n",
    "    else:\n",
    "        pass\n",
    "\n",
    "print(n_stores_,\"개의 가게를 삭제완료했습니다.\")\n"
   ]
  },
  {
   "cell_type": "code",
   "execution_count": 22,
   "metadata": {},
   "outputs": [
    {
     "data": {
      "text/html": [
       "<div>\n",
       "<style scoped>\n",
       "    .dataframe tbody tr th:only-of-type {\n",
       "        vertical-align: middle;\n",
       "    }\n",
       "\n",
       "    .dataframe tbody tr th {\n",
       "        vertical-align: top;\n",
       "    }\n",
       "\n",
       "    .dataframe thead th {\n",
       "        text-align: right;\n",
       "    }\n",
       "</style>\n",
       "<table border=\"1\" class=\"dataframe\">\n",
       "  <thead>\n",
       "    <tr style=\"text-align: right;\">\n",
       "      <th></th>\n",
       "      <th>store_id</th>\n",
       "      <th>amount</th>\n",
       "      <th>datetime</th>\n",
       "    </tr>\n",
       "  </thead>\n",
       "  <tbody>\n",
       "  </tbody>\n",
       "</table>\n",
       "</div>"
      ],
      "text/plain": [
       "Empty DataFrame\n",
       "Columns: [store_id, amount, datetime]\n",
       "Index: []"
      ]
     },
     "execution_count": 22,
     "metadata": {},
     "output_type": "execute_result"
    }
   ],
   "source": [
    "finalset[finalset['store_id']==34]"
   ]
  },
  {
   "cell_type": "code",
   "execution_count": 23,
   "metadata": {},
   "outputs": [
    {
     "data": {
      "text/html": [
       "<div>\n",
       "<style scoped>\n",
       "    .dataframe tbody tr th:only-of-type {\n",
       "        vertical-align: middle;\n",
       "    }\n",
       "\n",
       "    .dataframe tbody tr th {\n",
       "        vertical-align: top;\n",
       "    }\n",
       "\n",
       "    .dataframe thead th {\n",
       "        text-align: right;\n",
       "    }\n",
       "</style>\n",
       "<table border=\"1\" class=\"dataframe\">\n",
       "  <thead>\n",
       "    <tr style=\"text-align: right;\">\n",
       "      <th></th>\n",
       "      <th>store_id</th>\n",
       "      <th>amount</th>\n",
       "      <th>datetime</th>\n",
       "    </tr>\n",
       "  </thead>\n",
       "  <tbody>\n",
       "    <tr>\n",
       "      <th>0</th>\n",
       "      <td>0</td>\n",
       "      <td>7.470000e+05</td>\n",
       "      <td>2016-06-25</td>\n",
       "    </tr>\n",
       "    <tr>\n",
       "      <th>1</th>\n",
       "      <td>0</td>\n",
       "      <td>1.005000e+06</td>\n",
       "      <td>2016-07-25</td>\n",
       "    </tr>\n",
       "    <tr>\n",
       "      <th>2</th>\n",
       "      <td>0</td>\n",
       "      <td>8.715714e+05</td>\n",
       "      <td>2016-08-25</td>\n",
       "    </tr>\n",
       "    <tr>\n",
       "      <th>3</th>\n",
       "      <td>0</td>\n",
       "      <td>8.978571e+05</td>\n",
       "      <td>2016-09-25</td>\n",
       "    </tr>\n",
       "    <tr>\n",
       "      <th>4</th>\n",
       "      <td>0</td>\n",
       "      <td>8.354286e+05</td>\n",
       "      <td>2016-10-25</td>\n",
       "    </tr>\n",
       "    <tr>\n",
       "      <th>...</th>\n",
       "      <td>...</td>\n",
       "      <td>...</td>\n",
       "      <td>...</td>\n",
       "    </tr>\n",
       "    <tr>\n",
       "      <th>59019</th>\n",
       "      <td>2136</td>\n",
       "      <td>2.012214e+06</td>\n",
       "      <td>2018-10-25</td>\n",
       "    </tr>\n",
       "    <tr>\n",
       "      <th>59020</th>\n",
       "      <td>2136</td>\n",
       "      <td>2.135429e+06</td>\n",
       "      <td>2018-11-25</td>\n",
       "    </tr>\n",
       "    <tr>\n",
       "      <th>59021</th>\n",
       "      <td>2136</td>\n",
       "      <td>2.427429e+06</td>\n",
       "      <td>2018-12-25</td>\n",
       "    </tr>\n",
       "    <tr>\n",
       "      <th>59022</th>\n",
       "      <td>2136</td>\n",
       "      <td>1.873643e+06</td>\n",
       "      <td>2019-01-25</td>\n",
       "    </tr>\n",
       "    <tr>\n",
       "      <th>59023</th>\n",
       "      <td>2136</td>\n",
       "      <td>2.227429e+06</td>\n",
       "      <td>2019-02-25</td>\n",
       "    </tr>\n",
       "  </tbody>\n",
       "</table>\n",
       "<p>59024 rows × 3 columns</p>\n",
       "</div>"
      ],
      "text/plain": [
       "       store_id        amount    datetime\n",
       "0             0  7.470000e+05  2016-06-25\n",
       "1             0  1.005000e+06  2016-07-25\n",
       "2             0  8.715714e+05  2016-08-25\n",
       "3             0  8.978571e+05  2016-09-25\n",
       "4             0  8.354286e+05  2016-10-25\n",
       "...         ...           ...         ...\n",
       "59019      2136  2.012214e+06  2018-10-25\n",
       "59020      2136  2.135429e+06  2018-11-25\n",
       "59021      2136  2.427429e+06  2018-12-25\n",
       "59022      2136  1.873643e+06  2019-01-25\n",
       "59023      2136  2.227429e+06  2019-02-25\n",
       "\n",
       "[59024 rows x 3 columns]"
      ]
     },
     "execution_count": 23,
     "metadata": {},
     "output_type": "execute_result"
    }
   ],
   "source": [
    "finalset_real = finalset\n",
    "finalset_real"
   ]
  },
  {
   "cell_type": "code",
   "execution_count": 12,
   "metadata": {},
   "outputs": [],
   "source": [
    "finalset_real.to_csv('finalset_real.csv')"
   ]
  }
 ],
 "metadata": {
  "interpreter": {
   "hash": "3e194ca94d9d720df57297bf37581ae4a889736a9f9aea5aedd380eb1a7083ce"
  },
  "kernelspec": {
   "display_name": "Python 3.9.6 64-bit ('pythonProject4': conda)",
   "name": "python3"
  },
  "language_info": {
   "codemirror_mode": {
    "name": "ipython",
    "version": 3
   },
   "file_extension": ".py",
   "mimetype": "text/x-python",
   "name": "python",
   "nbconvert_exporter": "python",
   "pygments_lexer": "ipython3",
   "version": "3.9.6"
  },
  "orig_nbformat": 4
 },
 "nbformat": 4,
 "nbformat_minor": 2
}
