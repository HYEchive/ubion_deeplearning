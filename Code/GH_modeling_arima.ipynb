{
 "cells": [
  {
   "cell_type": "code",
   "execution_count": 76,
   "metadata": {},
   "outputs": [
    {
     "name": "stdout",
     "output_type": "stream",
     "text": [
      "Collecting pmdarima\n",
      "  Using cached pmdarima-1.8.3-cp39-cp39-macosx_10_15_x86_64.whl (603 kB)\n",
      "Requirement already satisfied: urllib3 in /Users/jeong-giho/.conda/envs/pythonProject4/lib/python3.9/site-packages (from pmdarima) (1.26.6)\n",
      "Requirement already satisfied: joblib>=0.11 in /Users/jeong-giho/.conda/envs/pythonProject4/lib/python3.9/site-packages (from pmdarima) (1.0.1)\n",
      "Requirement already satisfied: pandas>=0.19 in /Users/jeong-giho/.conda/envs/pythonProject4/lib/python3.9/site-packages (from pmdarima) (1.3.1)\n",
      "Requirement already satisfied: scipy>=1.3.2 in /Users/jeong-giho/.conda/envs/pythonProject4/lib/python3.9/site-packages (from pmdarima) (1.7.1)\n",
      "Requirement already satisfied: scikit-learn>=0.22 in /Users/jeong-giho/.conda/envs/pythonProject4/lib/python3.9/site-packages (from pmdarima) (0.24.2)\n",
      "Requirement already satisfied: numpy>=1.19.3 in /Users/jeong-giho/.conda/envs/pythonProject4/lib/python3.9/site-packages (from pmdarima) (1.19.5)\n",
      "Requirement already satisfied: setuptools!=50.0.0,>=38.6.0 in /Users/jeong-giho/.conda/envs/pythonProject4/lib/python3.9/site-packages (from pmdarima) (52.0.0.post20210125)\n",
      "Collecting Cython!=0.29.18,>=0.29\n",
      "  Downloading Cython-0.29.24-cp39-cp39-macosx_10_9_x86_64.whl (1.9 MB)\n",
      "\u001b[K     |████████████████████████████████| 1.9 MB 162 kB/s \n",
      "\u001b[?25hRequirement already satisfied: statsmodels!=0.12.0,>=0.11 in /Users/jeong-giho/.conda/envs/pythonProject4/lib/python3.9/site-packages (from pmdarima) (0.12.2)\n",
      "Requirement already satisfied: python-dateutil>=2.7.3 in /Users/jeong-giho/.conda/envs/pythonProject4/lib/python3.9/site-packages (from pandas>=0.19->pmdarima) (2.8.2)\n",
      "Requirement already satisfied: pytz>=2017.3 in /Users/jeong-giho/.conda/envs/pythonProject4/lib/python3.9/site-packages (from pandas>=0.19->pmdarima) (2021.1)\n",
      "Requirement already satisfied: six>=1.5 in /Users/jeong-giho/.conda/envs/pythonProject4/lib/python3.9/site-packages (from python-dateutil>=2.7.3->pandas>=0.19->pmdarima) (1.15.0)\n",
      "Requirement already satisfied: threadpoolctl>=2.0.0 in /Users/jeong-giho/.conda/envs/pythonProject4/lib/python3.9/site-packages (from scikit-learn>=0.22->pmdarima) (2.2.0)\n",
      "Requirement already satisfied: patsy>=0.5 in /Users/jeong-giho/.conda/envs/pythonProject4/lib/python3.9/site-packages (from statsmodels!=0.12.0,>=0.11->pmdarima) (0.5.1)\n",
      "Installing collected packages: Cython, pmdarima\n",
      "Successfully installed Cython-0.29.24 pmdarima-1.8.3\n"
     ]
    }
   ],
   "source": [
    "!pip install pmdarima"
   ]
  },
  {
   "cell_type": "code",
   "execution_count": 2,
   "metadata": {},
   "outputs": [],
   "source": [
    "import pandas as pd\n",
    "import matplotlib.pyplot as plt\n",
    "import numpy as np\n",
    "from statsmodels.tsa.stattools import adfuller, kpss\n",
    "from statsmodels.graphics.tsaplots import plot_acf, plot_pacf\n",
    "from statsmodels.tsa.arima_model import ARIMA\n",
    "from sklearn.metrics import mean_squared_error\n",
    "from pmdarima.arima import auto_arima"
   ]
  },
  {
   "cell_type": "code",
   "execution_count": 3,
   "metadata": {},
   "outputs": [],
   "source": [
    "finalset = pd.read_csv('finalset.csv')"
   ]
  },
  {
   "cell_type": "code",
   "execution_count": 4,
   "metadata": {},
   "outputs": [
    {
     "data": {
      "text/plain": [
       "132    7.334286e+05\n",
       "133    7.689286e+05\n",
       "134    6.984286e+05\n",
       "135    9.364286e+05\n",
       "136    7.627143e+05\n",
       "137    8.595714e+05\n",
       "138    1.069857e+06\n",
       "139    6.891429e+05\n",
       "140    1.050143e+06\n",
       "141    9.702857e+05\n",
       "142    1.085171e+06\n",
       "143    1.035857e+06\n",
       "144    8.941429e+05\n",
       "145    1.022714e+06\n",
       "146    1.191429e+06\n",
       "147    9.725714e+05\n",
       "148    1.060571e+06\n",
       "149    1.189143e+06\n",
       "150    1.010143e+06\n",
       "151    8.315714e+05\n",
       "152    6.510000e+05\n",
       "153    9.080000e+05\n",
       "154    7.922143e+05\n",
       "155    7.754286e+05\n",
       "156    8.812857e+05\n",
       "157    1.050929e+06\n",
       "158    8.492857e+05\n",
       "159    6.981429e+05\n",
       "160    8.284286e+05\n",
       "161    8.830000e+05\n",
       "162    9.238571e+05\n",
       "163    9.448571e+05\n",
       "164    8.822857e+05\n",
       "Name: amount, dtype: float64"
      ]
     },
     "execution_count": 4,
     "metadata": {},
     "output_type": "execute_result"
    }
   ],
   "source": [
    "testset = finalset[finalset['store_id']==4]['amount']\n",
    "testset"
   ]
  },
  {
   "cell_type": "code",
   "execution_count": 5,
   "metadata": {},
   "outputs": [],
   "source": [
    "def adf_test(timeseries):\n",
    "    print ('Results of Dickey-Fuller Test:')\n",
    "    dftest = adfuller(timeseries, autolag='AIC')\n",
    "    dfoutput = pd.Series(dftest[0:4], index=['Test Statistic','p-value','#Lags Used','Number of Observations Used'])\n",
    "    for key,value in dftest[4].items():\n",
    "       dfoutput['Critical Value (%s)'%key] = value\n",
    "    print (dfoutput)\n",
    "    \n",
    "def kpss_test(timeseries):\n",
    "    print ('Results of KPSS Test:')\n",
    "    kpsstest = kpss(timeseries, regression='c', lags=\"auto\")\n",
    "    kpss_output = pd.Series(kpsstest[0:3], index=['Test Statistic','p-value','Lags Used'])\n",
    "    for key,value in kpsstest[3].items():\n",
    "        kpss_output['Critical Value (%s)'%key] = value\n",
    "    print (kpss_output)"
   ]
  },
  {
   "cell_type": "code",
   "execution_count": 6,
   "metadata": {},
   "outputs": [
    {
     "name": "stdout",
     "output_type": "stream",
     "text": [
      "Results of Dickey-Fuller Test:\n",
      "Test Statistic                 -4.125034\n",
      "p-value                         0.000880\n",
      "#Lags Used                      0.000000\n",
      "Number of Observations Used    32.000000\n",
      "Critical Value (1%)            -3.653520\n",
      "Critical Value (5%)            -2.957219\n",
      "Critical Value (10%)           -2.617588\n",
      "dtype: float64\n"
     ]
    }
   ],
   "source": [
    "adf_test(testset)"
   ]
  },
  {
   "cell_type": "code",
   "execution_count": 7,
   "metadata": {},
   "outputs": [
    {
     "name": "stdout",
     "output_type": "stream",
     "text": [
      "Results of KPSS Test:\n",
      "Test Statistic           0.174151\n",
      "p-value                  0.100000\n",
      "Lags Used                2.000000\n",
      "Critical Value (10%)     0.347000\n",
      "Critical Value (5%)      0.463000\n",
      "Critical Value (2.5%)    0.574000\n",
      "Critical Value (1%)      0.739000\n",
      "dtype: float64\n"
     ]
    },
    {
     "name": "stderr",
     "output_type": "stream",
     "text": [
      "<ipython-input-5-e9840422ca7d>:11: FutureWarning: the 'lags'' keyword is deprecated, use 'nlags' instead\n",
      "  kpsstest = kpss(timeseries, regression='c', lags=\"auto\")\n",
      "/Users/jeong-giho/.conda/envs/pythonProject4/lib/python3.9/site-packages/statsmodels/tsa/stattools.py:1910: InterpolationWarning: The test statistic is outside of the range of p-values available in the\n",
      "look-up table. The actual p-value is greater than the p-value returned.\n",
      "\n",
      "  warnings.warn(\n"
     ]
    }
   ],
   "source": [
    "kpss_test(testset)"
   ]
  },
  {
   "cell_type": "code",
   "execution_count": 8,
   "metadata": {},
   "outputs": [
    {
     "data": {
      "image/png": "[encoded data removed]",
      "text/plain": [
       "<Figure size 640x480 with 2 Axes>"
      ]
     },
     "metadata": {},
     "output_type": "display_data"
    }
   ],
   "source": [
    "N_LAGS = 10\n",
    "SIGNIFICANCE_LEVEL = 0.05\n",
    "\n",
    "fig, ax = plt.subplots(2, 1)\n",
    "plot_acf(testset, ax=ax[0], lags=N_LAGS, alpha=SIGNIFICANCE_LEVEL)\n",
    "plot_pacf(testset, ax=ax[1], lags=N_LAGS, alpha=SIGNIFICANCE_LEVEL)\n",
    "plt.show()\n",
    "plt.tight_layout()"
   ]
  },
  {
   "cell_type": "code",
   "execution_count": 9,
   "metadata": {},
   "outputs": [
    {
     "name": "stderr",
     "output_type": "stream",
     "text": [
      "/Users/jeong-giho/.conda/envs/pythonProject4/lib/python3.9/site-packages/statsmodels/tsa/arima_model.py:472: FutureWarning: \n",
      "statsmodels.tsa.arima_model.ARMA and statsmodels.tsa.arima_model.ARIMA have\n",
      "been deprecated in favor of statsmodels.tsa.arima.model.ARIMA (note the .\n",
      "between arima and model) and\n",
      "statsmodels.tsa.SARIMAX. These will be removed after the 0.12 release.\n",
      "\n",
      "statsmodels.tsa.arima.model.ARIMA makes use of the statespace framework and\n",
      "is both well tested and maintained.\n",
      "\n",
      "To silence this warning and continue using ARMA and ARIMA until they are\n",
      "removed, use:\n",
      "\n",
      "import warnings\n",
      "warnings.filterwarnings('ignore', 'statsmodels.tsa.arima_model.ARMA',\n",
      "                        FutureWarning)\n",
      "warnings.filterwarnings('ignore', 'statsmodels.tsa.arima_model.ARIMA',\n",
      "                        FutureWarning)\n",
      "\n",
      "  warnings.warn(ARIMA_DEPRECATION_WARN, FutureWarning)\n",
      "/Users/jeong-giho/.conda/envs/pythonProject4/lib/python3.9/site-packages/statsmodels/tsa/base/tsa_model.py:578: ValueWarning: An unsupported index was provided and will be ignored when e.g. forecasting.\n",
      "  warnings.warn('An unsupported index was provided and will be'\n",
      "/Users/jeong-giho/.conda/envs/pythonProject4/lib/python3.9/site-packages/statsmodels/tsa/base/tsa_model.py:578: ValueWarning: An unsupported index was provided and will be ignored when e.g. forecasting.\n",
      "  warnings.warn('An unsupported index was provided and will be'\n",
      "/Users/jeong-giho/.conda/envs/pythonProject4/lib/python3.9/site-packages/statsmodels/tsa/arima_model.py:472: FutureWarning: \n",
      "statsmodels.tsa.arima_model.ARMA and statsmodels.tsa.arima_model.ARIMA have\n",
      "been deprecated in favor of statsmodels.tsa.arima.model.ARIMA (note the .\n",
      "between arima and model) and\n",
      "statsmodels.tsa.SARIMAX. These will be removed after the 0.12 release.\n",
      "\n",
      "statsmodels.tsa.arima.model.ARIMA makes use of the statespace framework and\n",
      "is both well tested and maintained.\n",
      "\n",
      "To silence this warning and continue using ARMA and ARIMA until they are\n",
      "removed, use:\n",
      "\n",
      "import warnings\n",
      "warnings.filterwarnings('ignore', 'statsmodels.tsa.arima_model.ARMA',\n",
      "                        FutureWarning)\n",
      "warnings.filterwarnings('ignore', 'statsmodels.tsa.arima_model.ARIMA',\n",
      "                        FutureWarning)\n",
      "\n",
      "  warnings.warn(ARIMA_DEPRECATION_WARN, FutureWarning)\n",
      "/Users/jeong-giho/.conda/envs/pythonProject4/lib/python3.9/site-packages/statsmodels/tsa/base/tsa_model.py:578: ValueWarning: An unsupported index was provided and will be ignored when e.g. forecasting.\n",
      "  warnings.warn('An unsupported index was provided and will be'\n",
      "/Users/jeong-giho/.conda/envs/pythonProject4/lib/python3.9/site-packages/statsmodels/tsa/base/tsa_model.py:578: ValueWarning: An unsupported index was provided and will be ignored when e.g. forecasting.\n",
      "  warnings.warn('An unsupported index was provided and will be'\n"
     ]
    },
    {
     "name": "stdout",
     "output_type": "stream",
     "text": [
      "==============================================================================\n",
      "                 coef    std err          z      P>|z|      [0.025      0.975]\n",
      "------------------------------------------------------------------------------\n",
      "const       4651.7857   2.94e+04      0.158      0.874    -5.3e+04    6.23e+04\n",
      "==============================================================================\n",
      "==================================================================================\n",
      "                     coef    std err          z      P>|z|      [0.025      0.975]\n",
      "----------------------------------------------------------------------------------\n",
      "const           4160.5975   9361.856      0.444      0.657   -1.42e+04    2.25e+04\n",
      "ma.L1.D.amount    -0.6426      0.138     -4.643      0.000      -0.914      -0.371\n",
      "==================================================================================\n",
      "==================================================================================\n",
      "                     coef    std err          z      P>|z|      [0.025      0.975]\n",
      "----------------------------------------------------------------------------------\n",
      "const           4651.7857   1.88e+04      0.248      0.804   -3.21e+04    4.15e+04\n",
      "ar.L1.D.amount    -0.4238      0.156     -2.713      0.007      -0.730      -0.118\n",
      "==================================================================================\n",
      "==================================================================================\n",
      "                     coef    std err          z      P>|z|      [0.025      0.975]\n",
      "----------------------------------------------------------------------------------\n",
      "const           4651.7857   9545.354      0.487      0.626   -1.41e+04    2.34e+04\n",
      "ar.L1.D.amount    -0.0104      0.268     -0.039      0.969      -0.535       0.514\n",
      "ma.L1.D.amount    -0.6355      0.212     -2.994      0.003      -1.052      -0.219\n",
      "==================================================================================\n"
     ]
    },
    {
     "name": "stderr",
     "output_type": "stream",
     "text": [
      "/Users/jeong-giho/.conda/envs/pythonProject4/lib/python3.9/site-packages/statsmodels/tsa/arima_model.py:472: FutureWarning: \n",
      "statsmodels.tsa.arima_model.ARMA and statsmodels.tsa.arima_model.ARIMA have\n",
      "been deprecated in favor of statsmodels.tsa.arima.model.ARIMA (note the .\n",
      "between arima and model) and\n",
      "statsmodels.tsa.SARIMAX. These will be removed after the 0.12 release.\n",
      "\n",
      "statsmodels.tsa.arima.model.ARIMA makes use of the statespace framework and\n",
      "is both well tested and maintained.\n",
      "\n",
      "To silence this warning and continue using ARMA and ARIMA until they are\n",
      "removed, use:\n",
      "\n",
      "import warnings\n",
      "warnings.filterwarnings('ignore', 'statsmodels.tsa.arima_model.ARMA',\n",
      "                        FutureWarning)\n",
      "warnings.filterwarnings('ignore', 'statsmodels.tsa.arima_model.ARIMA',\n",
      "                        FutureWarning)\n",
      "\n",
      "  warnings.warn(ARIMA_DEPRECATION_WARN, FutureWarning)\n",
      "/Users/jeong-giho/.conda/envs/pythonProject4/lib/python3.9/site-packages/statsmodels/tsa/base/tsa_model.py:578: ValueWarning: An unsupported index was provided and will be ignored when e.g. forecasting.\n",
      "  warnings.warn('An unsupported index was provided and will be'\n",
      "/Users/jeong-giho/.conda/envs/pythonProject4/lib/python3.9/site-packages/statsmodels/tsa/base/tsa_model.py:578: ValueWarning: An unsupported index was provided and will be ignored when e.g. forecasting.\n",
      "  warnings.warn('An unsupported index was provided and will be'\n",
      "/Users/jeong-giho/.conda/envs/pythonProject4/lib/python3.9/site-packages/statsmodels/tsa/arima_model.py:472: FutureWarning: \n",
      "statsmodels.tsa.arima_model.ARMA and statsmodels.tsa.arima_model.ARIMA have\n",
      "been deprecated in favor of statsmodels.tsa.arima.model.ARIMA (note the .\n",
      "between arima and model) and\n",
      "statsmodels.tsa.SARIMAX. These will be removed after the 0.12 release.\n",
      "\n",
      "statsmodels.tsa.arima.model.ARIMA makes use of the statespace framework and\n",
      "is both well tested and maintained.\n",
      "\n",
      "To silence this warning and continue using ARMA and ARIMA until they are\n",
      "removed, use:\n",
      "\n",
      "import warnings\n",
      "warnings.filterwarnings('ignore', 'statsmodels.tsa.arima_model.ARMA',\n",
      "                        FutureWarning)\n",
      "warnings.filterwarnings('ignore', 'statsmodels.tsa.arima_model.ARIMA',\n",
      "                        FutureWarning)\n",
      "\n",
      "  warnings.warn(ARIMA_DEPRECATION_WARN, FutureWarning)\n",
      "/Users/jeong-giho/.conda/envs/pythonProject4/lib/python3.9/site-packages/statsmodels/tsa/base/tsa_model.py:578: ValueWarning: An unsupported index was provided and will be ignored when e.g. forecasting.\n",
      "  warnings.warn('An unsupported index was provided and will be'\n",
      "/Users/jeong-giho/.conda/envs/pythonProject4/lib/python3.9/site-packages/statsmodels/tsa/base/tsa_model.py:578: ValueWarning: An unsupported index was provided and will be ignored when e.g. forecasting.\n",
      "  warnings.warn('An unsupported index was provided and will be'\n"
     ]
    }
   ],
   "source": [
    "# 이번에는 for를 사용하여 최적의 p,q를 찾아보고자 한다.\n",
    "\n",
    "for i in range(0,2):\n",
    "  for j in range(0,2):\n",
    "    model = ARIMA(testset, order=(i,1,j))\n",
    "    model_fit1 = model.fit(trend='c',full_output=True, disp=True, start_ar_lags=i+j)\n",
    "    print(model_fit1.summary().tables[1])\n",
    "    \n",
    "\n",
    "# ARIMA에서는 자동적으로 차분을 진행하기 때문에 모델 구축시 변수는 원 데이터를 삽입한다."
   ]
  },
  {
   "cell_type": "code",
   "execution_count": 10,
   "metadata": {},
   "outputs": [
    {
     "name": "stdout",
     "output_type": "stream",
     "text": [
      "                             ARIMA Model Results                              \n",
      "==============================================================================\n",
      "Dep. Variable:               D.amount   No. Observations:                   32\n",
      "Model:                 ARIMA(0, 1, 1)   Log Likelihood                -424.635\n",
      "Method:                       css-mle   S.D. of innovations         139062.487\n",
      "Date:                Tue, 12 Oct 2021   AIC                            853.270\n",
      "Time:                        16:43:15   BIC                            856.202\n",
      "Sample:                             1   HQIC                           854.242\n",
      "                                                                              \n",
      "==================================================================================\n",
      "                     coef    std err          z      P>|z|      [0.025      0.975]\n",
      "----------------------------------------------------------------------------------\n",
      "ma.L1.D.amount    -0.6400      0.141     -4.540      0.000      -0.916      -0.364\n",
      "                                    Roots                                    \n",
      "=============================================================================\n",
      "                  Real          Imaginary           Modulus         Frequency\n",
      "-----------------------------------------------------------------------------\n",
      "MA.1            1.5626           +0.0000j            1.5626            0.0000\n",
      "-----------------------------------------------------------------------------\n"
     ]
    },
    {
     "name": "stderr",
     "output_type": "stream",
     "text": [
      "/Users/jeong-giho/.conda/envs/pythonProject4/lib/python3.9/site-packages/statsmodels/tsa/arima_model.py:472: FutureWarning: \n",
      "statsmodels.tsa.arima_model.ARMA and statsmodels.tsa.arima_model.ARIMA have\n",
      "been deprecated in favor of statsmodels.tsa.arima.model.ARIMA (note the .\n",
      "between arima and model) and\n",
      "statsmodels.tsa.SARIMAX. These will be removed after the 0.12 release.\n",
      "\n",
      "statsmodels.tsa.arima.model.ARIMA makes use of the statespace framework and\n",
      "is both well tested and maintained.\n",
      "\n",
      "To silence this warning and continue using ARMA and ARIMA until they are\n",
      "removed, use:\n",
      "\n",
      "import warnings\n",
      "warnings.filterwarnings('ignore', 'statsmodels.tsa.arima_model.ARMA',\n",
      "                        FutureWarning)\n",
      "warnings.filterwarnings('ignore', 'statsmodels.tsa.arima_model.ARIMA',\n",
      "                        FutureWarning)\n",
      "\n",
      "  warnings.warn(ARIMA_DEPRECATION_WARN, FutureWarning)\n",
      "/Users/jeong-giho/.conda/envs/pythonProject4/lib/python3.9/site-packages/statsmodels/tsa/base/tsa_model.py:578: ValueWarning: An unsupported index was provided and will be ignored when e.g. forecasting.\n",
      "  warnings.warn('An unsupported index was provided and will be'\n",
      "/Users/jeong-giho/.conda/envs/pythonProject4/lib/python3.9/site-packages/statsmodels/tsa/base/tsa_model.py:578: ValueWarning: An unsupported index was provided and will be ignored when e.g. forecasting.\n",
      "  warnings.warn('An unsupported index was provided and will be'\n"
     ]
    }
   ],
   "source": [
    "model = ARIMA(testset, order=(0,1,1))\n",
    "model_fit1 = model.fit(trend='nc',full_output=True, disp=True, start_ar_lags=4)\n",
    "print(model_fit1.summary())"
   ]
  },
  {
   "cell_type": "code",
   "execution_count": 11,
   "metadata": {},
   "outputs": [],
   "source": [
    "forecast_data1 = model_fit1.forecast(steps=3)"
   ]
  },
  {
   "cell_type": "code",
   "execution_count": 13,
   "metadata": {},
   "outputs": [
    {
     "data": {
      "text/plain": [
       "(array([893278.86237298, 893278.86237298, 893278.86237298]),\n",
       " array([139062.48671781, 147801.58713562, 156052.05255772]),\n",
       " array([[ 620721.39680549, 1165836.32794047],\n",
       "        [ 603593.0747293 , 1182964.65001666],\n",
       "        [ 587422.4596463 , 1199135.26509966]]))"
      ]
     },
     "execution_count": 13,
     "metadata": {},
     "output_type": "execute_result"
    }
   ],
   "source": [
    "forecast_data1"
   ]
  },
  {
   "cell_type": "code",
   "execution_count": 14,
   "metadata": {},
   "outputs": [
    {
     "data": {
      "text/plain": [
       "[893278.862372981, 893278.862372981, 893278.862372981]"
      ]
     },
     "execution_count": 14,
     "metadata": {},
     "output_type": "execute_result"
    }
   ],
   "source": [
    "forecast_data1[0].tolist()"
   ]
  },
  {
   "cell_type": "code",
   "execution_count": 15,
   "metadata": {},
   "outputs": [
    {
     "data": {
      "text/html": [
       "<div>\n",
       "<style scoped>\n",
       "    .dataframe tbody tr th:only-of-type {\n",
       "        vertical-align: middle;\n",
       "    }\n",
       "\n",
       "    .dataframe tbody tr th {\n",
       "        vertical-align: top;\n",
       "    }\n",
       "\n",
       "    .dataframe thead th {\n",
       "        text-align: right;\n",
       "    }\n",
       "</style>\n",
       "<table border=\"1\" class=\"dataframe\">\n",
       "  <thead>\n",
       "    <tr style=\"text-align: right;\">\n",
       "      <th></th>\n",
       "      <th>Unnamed: 0</th>\n",
       "      <th>store_id</th>\n",
       "      <th>amount</th>\n",
       "      <th>year_month</th>\n",
       "      <th>datetime</th>\n",
       "    </tr>\n",
       "  </thead>\n",
       "  <tbody>\n",
       "    <tr>\n",
       "      <th>0</th>\n",
       "      <td>0</td>\n",
       "      <td>0</td>\n",
       "      <td>7.470000e+05</td>\n",
       "      <td>2016-06</td>\n",
       "      <td>2016-06-25</td>\n",
       "    </tr>\n",
       "    <tr>\n",
       "      <th>1</th>\n",
       "      <td>1</td>\n",
       "      <td>0</td>\n",
       "      <td>1.005000e+06</td>\n",
       "      <td>2016-07</td>\n",
       "      <td>2016-07-25</td>\n",
       "    </tr>\n",
       "    <tr>\n",
       "      <th>2</th>\n",
       "      <td>2</td>\n",
       "      <td>0</td>\n",
       "      <td>8.715714e+05</td>\n",
       "      <td>2016-08</td>\n",
       "      <td>2016-08-25</td>\n",
       "    </tr>\n",
       "    <tr>\n",
       "      <th>3</th>\n",
       "      <td>3</td>\n",
       "      <td>0</td>\n",
       "      <td>8.978571e+05</td>\n",
       "      <td>2016-09</td>\n",
       "      <td>2016-09-25</td>\n",
       "    </tr>\n",
       "    <tr>\n",
       "      <th>4</th>\n",
       "      <td>4</td>\n",
       "      <td>0</td>\n",
       "      <td>8.354286e+05</td>\n",
       "      <td>2016-10</td>\n",
       "      <td>2016-10-25</td>\n",
       "    </tr>\n",
       "  </tbody>\n",
       "</table>\n",
       "</div>"
      ],
      "text/plain": [
       "   Unnamed: 0  store_id        amount year_month    datetime\n",
       "0           0         0  7.470000e+05    2016-06  2016-06-25\n",
       "1           1         0  1.005000e+06    2016-07  2016-07-25\n",
       "2           2         0  8.715714e+05    2016-08  2016-08-25\n",
       "3           3         0  8.978571e+05    2016-09  2016-09-25\n",
       "4           4         0  8.354286e+05    2016-10  2016-10-25"
      ]
     },
     "execution_count": 15,
     "metadata": {},
     "output_type": "execute_result"
    }
   ],
   "source": [
    "finalset.head(5)"
   ]
  },
  {
   "cell_type": "code",
   "execution_count": 16,
   "metadata": {},
   "outputs": [],
   "source": [
    "# 마지막 3개월의 예측 데이터\n",
    "pred_arima_AC1 = forecast_data1[0].tolist()\n",
    "\n",
    "\n",
    "# 마지막 3개월의 예측 데이터 최소값\n",
    "pred_AC1_lower = []\n",
    "# 마지막 3개월의 예측 데이터 최대값\n",
    "pred_AC1_upper = []\n",
    "\n",
    "for lower_upper in forecast_data1[2]:\n",
    "    lower = lower_upper[0]\n",
    "    upper = lower_upper[1]\n",
    "    pred_AC1_lower.append(lower)\n",
    "    pred_AC1_upper.append(upper)"
   ]
  },
  {
   "cell_type": "code",
   "execution_count": 17,
   "metadata": {},
   "outputs": [],
   "source": [
    "pred_arima_AC1 = pd.DataFrame(np.array(pred_arima_AC1).astype(int))\n",
    "pred_AC1_lower = np.array(pred_AC1_lower).astype(int)\n",
    "pred_AC1_upper = np.array(pred_AC1_upper).astype(int)"
   ]
  },
  {
   "cell_type": "code",
   "execution_count": 18,
   "metadata": {},
   "outputs": [
    {
     "data": {
      "text/plain": [
       "<Figure size 640x480 with 0 Axes>"
      ]
     },
     "metadata": {},
     "output_type": "display_data"
    },
    {
     "data": {
      "image/png": "[encoded data removed]",
      "text/plain": [
       "<Figure size 1500x1000 with 1 Axes>"
      ]
     },
     "metadata": {},
     "output_type": "display_data"
    }
   ],
   "source": [
    "plt.figure(figsize=(15, 10))\n",
    "\n",
    "# plt.plot(testset, color = 'k')\n",
    "\n",
    "# 모델이 예측한 가격 그래프\n",
    "plt.plot(pred_arima_AC1, color = 'gold')\n",
    "\n",
    "# 모델이 예측한 최저 가격 그래프\n",
    "plt.plot(pred_AC1_lower, color = 'red')\n",
    "\n",
    "# 모델이 예측한 최고 가격 그래프\n",
    "plt.plot(pred_AC1_upper, color = 'blue')\n",
    "\n",
    "plt.legend(['Predict', 'lower Predict','upper Predict'])\n",
    "plt.show()"
   ]
  },
  {
   "cell_type": "code",
   "execution_count": 59,
   "metadata": {},
   "outputs": [
    {
     "data": {
      "text/html": [
       "<div>\n",
       "<style scoped>\n",
       "    .dataframe tbody tr th:only-of-type {\n",
       "        vertical-align: middle;\n",
       "    }\n",
       "\n",
       "    .dataframe tbody tr th {\n",
       "        vertical-align: top;\n",
       "    }\n",
       "\n",
       "    .dataframe thead th {\n",
       "        text-align: right;\n",
       "    }\n",
       "</style>\n",
       "<table border=\"1\" class=\"dataframe\">\n",
       "  <thead>\n",
       "    <tr style=\"text-align: right;\">\n",
       "      <th></th>\n",
       "      <th>0</th>\n",
       "    </tr>\n",
       "  </thead>\n",
       "  <tbody>\n",
       "    <tr>\n",
       "      <th>0</th>\n",
       "      <td>92181</td>\n",
       "    </tr>\n",
       "    <tr>\n",
       "      <th>1</th>\n",
       "      <td>94482</td>\n",
       "    </tr>\n",
       "    <tr>\n",
       "      <th>2</th>\n",
       "      <td>94841</td>\n",
       "    </tr>\n",
       "  </tbody>\n",
       "</table>\n",
       "</div>"
      ],
      "text/plain": [
       "       0\n",
       "0  92181\n",
       "1  94482\n",
       "2  94841"
      ]
     },
     "execution_count": 59,
     "metadata": {},
     "output_type": "execute_result"
    }
   ],
   "source": [
    "pred_arima_AC1"
   ]
  }
 ],
 "metadata": {
  "interpreter": {
   "hash": "3e194ca94d9d720df57297bf37581ae4a889736a9f9aea5aedd380eb1a7083ce"
  },
  "kernelspec": {
   "display_name": "Python 3.9.6 64-bit ('pythonProject4': conda)",
   "name": "python3"
  },
  "language_info": {
   "codemirror_mode": {
    "name": "ipython",
    "version": 3
   },
   "file_extension": ".py",
   "mimetype": "text/x-python",
   "name": "python",
   "nbconvert_exporter": "python",
   "pygments_lexer": "ipython3",
   "version": "3.9.6"
  },
  "orig_nbformat": 4
 },
 "nbformat": 4,
 "nbformat_minor": 2
}
