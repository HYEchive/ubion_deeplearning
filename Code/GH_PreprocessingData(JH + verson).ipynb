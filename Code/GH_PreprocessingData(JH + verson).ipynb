{
 "cells": [
  {
   "cell_type": "code",
   "execution_count": 2,
   "metadata": {},
   "outputs": [
    {
     "name": "stdout",
     "output_type": "stream",
     "text": [
      "Collecting plotly\n",
      "  Downloading plotly-5.3.1-py2.py3-none-any.whl (23.9 MB)\n",
      "\u001b[K     |████████████████████████████████| 23.9 MB 110 kB/s \n",
      "\u001b[?25hCollecting tenacity>=6.2.0\n",
      "  Using cached tenacity-8.0.1-py3-none-any.whl (24 kB)\n",
      "Requirement already satisfied: six in /Users/jeong-giho/.conda/envs/pythonProject4/lib/python3.9/site-packages (from plotly) (1.15.0)\n",
      "Installing collected packages: tenacity, plotly\n",
      "Successfully installed plotly-5.3.1 tenacity-8.0.1\n"
     ]
    }
   ],
   "source": [
    "!pip install plotly"
   ]
  },
  {
   "cell_type": "code",
   "execution_count": 3,
   "metadata": {},
   "outputs": [],
   "source": [
    "import pandas as pd\n",
    "import datetime\n",
    "\n",
    "import matplotlib.pyplot as plt\n",
    "import plotly.express as px\n",
    "import seaborn as sns\n",
    "\n",
    "from tqdm import tqdm"
   ]
  },
  {
   "cell_type": "code",
   "execution_count": 23,
   "metadata": {},
   "outputs": [],
   "source": [
    "dataset = pd.read_csv('dataset.csv')"
   ]
  },
  {
   "cell_type": "code",
   "execution_count": 24,
   "metadata": {},
   "outputs": [
    {
     "data": {
      "text/html": [
       "<div>\n",
       "<style scoped>\n",
       "    .dataframe tbody tr th:only-of-type {\n",
       "        vertical-align: middle;\n",
       "    }\n",
       "\n",
       "    .dataframe tbody tr th {\n",
       "        vertical-align: top;\n",
       "    }\n",
       "\n",
       "    .dataframe thead th {\n",
       "        text-align: right;\n",
       "    }\n",
       "</style>\n",
       "<table border=\"1\" class=\"dataframe\">\n",
       "  <thead>\n",
       "    <tr style=\"text-align: right;\">\n",
       "      <th></th>\n",
       "      <th>Unnamed: 0</th>\n",
       "      <th>store_id</th>\n",
       "      <th>card_id</th>\n",
       "      <th>card_company</th>\n",
       "      <th>transacted_date</th>\n",
       "      <th>transacted_time</th>\n",
       "      <th>installment_term</th>\n",
       "      <th>region</th>\n",
       "      <th>type_of_business</th>\n",
       "      <th>amount</th>\n",
       "      <th>year_month</th>\n",
       "    </tr>\n",
       "  </thead>\n",
       "  <tbody>\n",
       "    <tr>\n",
       "      <th>0</th>\n",
       "      <td>0</td>\n",
       "      <td>0</td>\n",
       "      <td>0</td>\n",
       "      <td>b</td>\n",
       "      <td>2016-06-01</td>\n",
       "      <td>13:13</td>\n",
       "      <td>0</td>\n",
       "      <td>NaN</td>\n",
       "      <td>기타 미용업</td>\n",
       "      <td>1857.142857</td>\n",
       "      <td>2016-06</td>\n",
       "    </tr>\n",
       "    <tr>\n",
       "      <th>1</th>\n",
       "      <td>1</td>\n",
       "      <td>0</td>\n",
       "      <td>1</td>\n",
       "      <td>h</td>\n",
       "      <td>2016-06-01</td>\n",
       "      <td>18:12</td>\n",
       "      <td>0</td>\n",
       "      <td>NaN</td>\n",
       "      <td>기타 미용업</td>\n",
       "      <td>857.142857</td>\n",
       "      <td>2016-06</td>\n",
       "    </tr>\n",
       "    <tr>\n",
       "      <th>2</th>\n",
       "      <td>2</td>\n",
       "      <td>0</td>\n",
       "      <td>2</td>\n",
       "      <td>c</td>\n",
       "      <td>2016-06-01</td>\n",
       "      <td>18:52</td>\n",
       "      <td>0</td>\n",
       "      <td>NaN</td>\n",
       "      <td>기타 미용업</td>\n",
       "      <td>2000.000000</td>\n",
       "      <td>2016-06</td>\n",
       "    </tr>\n",
       "    <tr>\n",
       "      <th>3</th>\n",
       "      <td>3</td>\n",
       "      <td>0</td>\n",
       "      <td>3</td>\n",
       "      <td>a</td>\n",
       "      <td>2016-06-01</td>\n",
       "      <td>20:22</td>\n",
       "      <td>0</td>\n",
       "      <td>NaN</td>\n",
       "      <td>기타 미용업</td>\n",
       "      <td>7857.142857</td>\n",
       "      <td>2016-06</td>\n",
       "    </tr>\n",
       "    <tr>\n",
       "      <th>4</th>\n",
       "      <td>4</td>\n",
       "      <td>0</td>\n",
       "      <td>4</td>\n",
       "      <td>c</td>\n",
       "      <td>2016-06-02</td>\n",
       "      <td>11:06</td>\n",
       "      <td>0</td>\n",
       "      <td>NaN</td>\n",
       "      <td>기타 미용업</td>\n",
       "      <td>2000.000000</td>\n",
       "      <td>2016-06</td>\n",
       "    </tr>\n",
       "    <tr>\n",
       "      <th>...</th>\n",
       "      <td>...</td>\n",
       "      <td>...</td>\n",
       "      <td>...</td>\n",
       "      <td>...</td>\n",
       "      <td>...</td>\n",
       "      <td>...</td>\n",
       "      <td>...</td>\n",
       "      <td>...</td>\n",
       "      <td>...</td>\n",
       "      <td>...</td>\n",
       "      <td>...</td>\n",
       "    </tr>\n",
       "    <tr>\n",
       "      <th>6411055</th>\n",
       "      <td>6556606</td>\n",
       "      <td>2136</td>\n",
       "      <td>4663854</td>\n",
       "      <td>f</td>\n",
       "      <td>2019-02-28</td>\n",
       "      <td>23:03</td>\n",
       "      <td>0</td>\n",
       "      <td>제주 제주시</td>\n",
       "      <td>기타 주점업</td>\n",
       "      <td>3928.571429</td>\n",
       "      <td>2019-02</td>\n",
       "    </tr>\n",
       "    <tr>\n",
       "      <th>6411056</th>\n",
       "      <td>6556609</td>\n",
       "      <td>2136</td>\n",
       "      <td>4663855</td>\n",
       "      <td>d</td>\n",
       "      <td>2019-02-28</td>\n",
       "      <td>23:24</td>\n",
       "      <td>0</td>\n",
       "      <td>제주 제주시</td>\n",
       "      <td>기타 주점업</td>\n",
       "      <td>4142.857143</td>\n",
       "      <td>2019-02</td>\n",
       "    </tr>\n",
       "    <tr>\n",
       "      <th>6411057</th>\n",
       "      <td>6556610</td>\n",
       "      <td>2136</td>\n",
       "      <td>4663489</td>\n",
       "      <td>a</td>\n",
       "      <td>2019-02-28</td>\n",
       "      <td>23:24</td>\n",
       "      <td>0</td>\n",
       "      <td>제주 제주시</td>\n",
       "      <td>기타 주점업</td>\n",
       "      <td>4500.000000</td>\n",
       "      <td>2019-02</td>\n",
       "    </tr>\n",
       "    <tr>\n",
       "      <th>6411058</th>\n",
       "      <td>6556611</td>\n",
       "      <td>2136</td>\n",
       "      <td>4663856</td>\n",
       "      <td>d</td>\n",
       "      <td>2019-02-28</td>\n",
       "      <td>23:27</td>\n",
       "      <td>0</td>\n",
       "      <td>제주 제주시</td>\n",
       "      <td>기타 주점업</td>\n",
       "      <td>571.428571</td>\n",
       "      <td>2019-02</td>\n",
       "    </tr>\n",
       "    <tr>\n",
       "      <th>6411059</th>\n",
       "      <td>6556612</td>\n",
       "      <td>2136</td>\n",
       "      <td>4658616</td>\n",
       "      <td>c</td>\n",
       "      <td>2019-02-28</td>\n",
       "      <td>23:54</td>\n",
       "      <td>0</td>\n",
       "      <td>제주 제주시</td>\n",
       "      <td>기타 주점업</td>\n",
       "      <td>5857.142857</td>\n",
       "      <td>2019-02</td>\n",
       "    </tr>\n",
       "  </tbody>\n",
       "</table>\n",
       "<p>6411060 rows × 11 columns</p>\n",
       "</div>"
      ],
      "text/plain": [
       "         Unnamed: 0  store_id  card_id card_company transacted_date  \\\n",
       "0                 0         0        0            b      2016-06-01   \n",
       "1                 1         0        1            h      2016-06-01   \n",
       "2                 2         0        2            c      2016-06-01   \n",
       "3                 3         0        3            a      2016-06-01   \n",
       "4                 4         0        4            c      2016-06-02   \n",
       "...             ...       ...      ...          ...             ...   \n",
       "6411055     6556606      2136  4663854            f      2019-02-28   \n",
       "6411056     6556609      2136  4663855            d      2019-02-28   \n",
       "6411057     6556610      2136  4663489            a      2019-02-28   \n",
       "6411058     6556611      2136  4663856            d      2019-02-28   \n",
       "6411059     6556612      2136  4658616            c      2019-02-28   \n",
       "\n",
       "        transacted_time  installment_term  region type_of_business  \\\n",
       "0                 13:13                 0     NaN           기타 미용업   \n",
       "1                 18:12                 0     NaN           기타 미용업   \n",
       "2                 18:52                 0     NaN           기타 미용업   \n",
       "3                 20:22                 0     NaN           기타 미용업   \n",
       "4                 11:06                 0     NaN           기타 미용업   \n",
       "...                 ...               ...     ...              ...   \n",
       "6411055           23:03                 0  제주 제주시           기타 주점업   \n",
       "6411056           23:24                 0  제주 제주시           기타 주점업   \n",
       "6411057           23:24                 0  제주 제주시           기타 주점업   \n",
       "6411058           23:27                 0  제주 제주시           기타 주점업   \n",
       "6411059           23:54                 0  제주 제주시           기타 주점업   \n",
       "\n",
       "              amount year_month  \n",
       "0        1857.142857    2016-06  \n",
       "1         857.142857    2016-06  \n",
       "2        2000.000000    2016-06  \n",
       "3        7857.142857    2016-06  \n",
       "4        2000.000000    2016-06  \n",
       "...              ...        ...  \n",
       "6411055  3928.571429    2019-02  \n",
       "6411056  4142.857143    2019-02  \n",
       "6411057  4500.000000    2019-02  \n",
       "6411058   571.428571    2019-02  \n",
       "6411059  5857.142857    2019-02  \n",
       "\n",
       "[6411060 rows x 11 columns]"
      ]
     },
     "execution_count": 24,
     "metadata": {},
     "output_type": "execute_result"
    }
   ],
   "source": [
    "dataset"
   ]
  },
  {
   "cell_type": "markdown",
   "metadata": {},
   "source": [
    "# EDA\n",
    "\n",
    "1. 0, Nan 값 체크\n",
    "\n",
    "2. 시간 별 매출\n",
    "3. 지역 별 매출\n",
    "4. 업종 별 매출\n",
    "5. 가게 별 매출"
   ]
  },
  {
   "cell_type": "code",
   "execution_count": 5,
   "metadata": {},
   "outputs": [],
   "source": [
    "# 이미 전처리를 앞 코드에서 진행했으므로 생략\n",
    "# dataset['year_month'] = dataset['transacted_date'].str[0:7]"
   ]
  },
  {
   "cell_type": "code",
   "execution_count": 25,
   "metadata": {},
   "outputs": [
    {
     "data": {
      "text/plain": [
       "False    6411060\n",
       "Name: amount, dtype: int64"
      ]
     },
     "execution_count": 25,
     "metadata": {},
     "output_type": "execute_result"
    }
   ],
   "source": [
    "# 전처리 했던 dataset의 환불 정보 삭제 여부를 확인\n",
    "subset = dataset[['store_id','amount','year_month']]\n",
    "(subset['amount']<0).value_counts()"
   ]
  },
  {
   "cell_type": "code",
   "execution_count": 26,
   "metadata": {},
   "outputs": [
    {
     "data": {
      "text/html": [
       "<div>\n",
       "<style scoped>\n",
       "    .dataframe tbody tr th:only-of-type {\n",
       "        vertical-align: middle;\n",
       "    }\n",
       "\n",
       "    .dataframe tbody tr th {\n",
       "        vertical-align: top;\n",
       "    }\n",
       "\n",
       "    .dataframe thead th {\n",
       "        text-align: right;\n",
       "    }\n",
       "</style>\n",
       "<table border=\"1\" class=\"dataframe\">\n",
       "  <thead>\n",
       "    <tr style=\"text-align: right;\">\n",
       "      <th></th>\n",
       "      <th>store_id</th>\n",
       "      <th>amount</th>\n",
       "      <th>year_month</th>\n",
       "    </tr>\n",
       "  </thead>\n",
       "  <tbody>\n",
       "  </tbody>\n",
       "</table>\n",
       "</div>"
      ],
      "text/plain": [
       "Empty DataFrame\n",
       "Columns: [store_id, amount, year_month]\n",
       "Index: []"
      ]
     },
     "execution_count": 26,
     "metadata": {},
     "output_type": "execute_result"
    }
   ],
   "source": [
    "# 최종 데이터 셋 형성 테스트\n",
    "finalset=pd.DataFrame(data={'store_id': [],'amount' : [],'year_month' : []})\n",
    "finalset"
   ]
  },
  {
   "cell_type": "code",
   "execution_count": 27,
   "metadata": {},
   "outputs": [
    {
     "name": "stderr",
     "output_type": "stream",
     "text": [
      "100%|██████████| 1967/1967 [00:27<00:00, 72.37it/s]\n"
     ]
    }
   ],
   "source": [
    "finalset=pd.DataFrame(data={'store_id': [],'amount' : [],'year_month' : []})\n",
    "\n",
    "store = subset.loc[subset['store_id'] == 0]\n",
    "finalset['amount'] = store.groupby(['year_month'])['amount'].agg('sum').values\n",
    "finalset['year_month'] = store.groupby(['year_month'])['amount'].agg('sum').index\n",
    "finalset['store_id'] = 0\n",
    "\n",
    "\n",
    "for i in tqdm(subset['store_id'].unique()): # store_id의 개별 고유값에 대해서 for문 돌리기\n",
    "\n",
    "    tempset = pd.DataFrame(data={'store_id': [],'amount' : [],'year_month' : []})\n",
    "\n",
    "    store_ = subset.loc[subset['store_id'] == i]\n",
    "\n",
    "    tempset['amount'] = store_.groupby(['year_month'])['amount'].agg('sum').values\n",
    "    tempset['year_month'] = store_.groupby(['year_month'])['amount'].agg('sum').index\n",
    "    tempset['store_id'] = i\n",
    "\n",
    "    finalset = pd.concat([finalset,tempset], axis = 0)\n",
    "\n",
    "finalset = finalset.reset_index(drop=True)"
   ]
  },
  {
   "cell_type": "code",
   "execution_count": 28,
   "metadata": {},
   "outputs": [
    {
     "data": {
      "text/html": [
       "<div>\n",
       "<style scoped>\n",
       "    .dataframe tbody tr th:only-of-type {\n",
       "        vertical-align: middle;\n",
       "    }\n",
       "\n",
       "    .dataframe tbody tr th {\n",
       "        vertical-align: top;\n",
       "    }\n",
       "\n",
       "    .dataframe thead th {\n",
       "        text-align: right;\n",
       "    }\n",
       "</style>\n",
       "<table border=\"1\" class=\"dataframe\">\n",
       "  <thead>\n",
       "    <tr style=\"text-align: right;\">\n",
       "      <th></th>\n",
       "      <th>store_id</th>\n",
       "      <th>amount</th>\n",
       "      <th>year_month</th>\n",
       "    </tr>\n",
       "  </thead>\n",
       "  <tbody>\n",
       "    <tr>\n",
       "      <th>0</th>\n",
       "      <td>0</td>\n",
       "      <td>7.470000e+05</td>\n",
       "      <td>2016-06</td>\n",
       "    </tr>\n",
       "    <tr>\n",
       "      <th>1</th>\n",
       "      <td>0</td>\n",
       "      <td>1.005000e+06</td>\n",
       "      <td>2016-07</td>\n",
       "    </tr>\n",
       "    <tr>\n",
       "      <th>2</th>\n",
       "      <td>0</td>\n",
       "      <td>8.715714e+05</td>\n",
       "      <td>2016-08</td>\n",
       "    </tr>\n",
       "    <tr>\n",
       "      <th>3</th>\n",
       "      <td>0</td>\n",
       "      <td>8.978571e+05</td>\n",
       "      <td>2016-09</td>\n",
       "    </tr>\n",
       "    <tr>\n",
       "      <th>4</th>\n",
       "      <td>0</td>\n",
       "      <td>8.354286e+05</td>\n",
       "      <td>2016-10</td>\n",
       "    </tr>\n",
       "    <tr>\n",
       "      <th>...</th>\n",
       "      <td>...</td>\n",
       "      <td>...</td>\n",
       "      <td>...</td>\n",
       "    </tr>\n",
       "    <tr>\n",
       "      <th>60179</th>\n",
       "      <td>2136</td>\n",
       "      <td>2.012214e+06</td>\n",
       "      <td>2018-10</td>\n",
       "    </tr>\n",
       "    <tr>\n",
       "      <th>60180</th>\n",
       "      <td>2136</td>\n",
       "      <td>2.135429e+06</td>\n",
       "      <td>2018-11</td>\n",
       "    </tr>\n",
       "    <tr>\n",
       "      <th>60181</th>\n",
       "      <td>2136</td>\n",
       "      <td>2.427429e+06</td>\n",
       "      <td>2018-12</td>\n",
       "    </tr>\n",
       "    <tr>\n",
       "      <th>60182</th>\n",
       "      <td>2136</td>\n",
       "      <td>1.873643e+06</td>\n",
       "      <td>2019-01</td>\n",
       "    </tr>\n",
       "    <tr>\n",
       "      <th>60183</th>\n",
       "      <td>2136</td>\n",
       "      <td>2.227429e+06</td>\n",
       "      <td>2019-02</td>\n",
       "    </tr>\n",
       "  </tbody>\n",
       "</table>\n",
       "<p>60184 rows × 3 columns</p>\n",
       "</div>"
      ],
      "text/plain": [
       "       store_id        amount year_month\n",
       "0             0  7.470000e+05    2016-06\n",
       "1             0  1.005000e+06    2016-07\n",
       "2             0  8.715714e+05    2016-08\n",
       "3             0  8.978571e+05    2016-09\n",
       "4             0  8.354286e+05    2016-10\n",
       "...         ...           ...        ...\n",
       "60179      2136  2.012214e+06    2018-10\n",
       "60180      2136  2.135429e+06    2018-11\n",
       "60181      2136  2.427429e+06    2018-12\n",
       "60182      2136  1.873643e+06    2019-01\n",
       "60183      2136  2.227429e+06    2019-02\n",
       "\n",
       "[60184 rows x 3 columns]"
      ]
     },
     "execution_count": 28,
     "metadata": {},
     "output_type": "execute_result"
    }
   ],
   "source": [
    "finalset"
   ]
  },
  {
   "cell_type": "code",
   "execution_count": 29,
   "metadata": {},
   "outputs": [],
   "source": [
    "finalset['datetime'] = pd.to_datetime(finalset['year_month'] + '-25', format='%Y-%m-%d')"
   ]
  },
  {
   "cell_type": "code",
   "execution_count": 30,
   "metadata": {},
   "outputs": [
    {
     "name": "stdout",
     "output_type": "stream",
     "text": [
      "<class 'pandas.core.frame.DataFrame'>\n",
      "RangeIndex: 60184 entries, 0 to 60183\n",
      "Data columns (total 4 columns):\n",
      " #   Column      Non-Null Count  Dtype         \n",
      "---  ------      --------------  -----         \n",
      " 0   store_id    60184 non-null  int64         \n",
      " 1   amount      60184 non-null  float64       \n",
      " 2   year_month  60184 non-null  object        \n",
      " 3   datetime    60184 non-null  datetime64[ns]\n",
      "dtypes: datetime64[ns](1), float64(1), int64(1), object(1)\n",
      "memory usage: 1.8+ MB\n"
     ]
    }
   ],
   "source": [
    "finalset.info()"
   ]
  },
  {
   "cell_type": "code",
   "execution_count": 31,
   "metadata": {},
   "outputs": [
    {
     "data": {
      "text/html": [
       "<div>\n",
       "<style scoped>\n",
       "    .dataframe tbody tr th:only-of-type {\n",
       "        vertical-align: middle;\n",
       "    }\n",
       "\n",
       "    .dataframe tbody tr th {\n",
       "        vertical-align: top;\n",
       "    }\n",
       "\n",
       "    .dataframe thead th {\n",
       "        text-align: right;\n",
       "    }\n",
       "</style>\n",
       "<table border=\"1\" class=\"dataframe\">\n",
       "  <thead>\n",
       "    <tr style=\"text-align: right;\">\n",
       "      <th></th>\n",
       "      <th>store_id</th>\n",
       "      <th>amount</th>\n",
       "      <th>year_month</th>\n",
       "      <th>datetime</th>\n",
       "    </tr>\n",
       "  </thead>\n",
       "  <tbody>\n",
       "    <tr>\n",
       "      <th>0</th>\n",
       "      <td>0</td>\n",
       "      <td>7.470000e+05</td>\n",
       "      <td>2016-06</td>\n",
       "      <td>2016-06-25</td>\n",
       "    </tr>\n",
       "    <tr>\n",
       "      <th>1</th>\n",
       "      <td>0</td>\n",
       "      <td>1.005000e+06</td>\n",
       "      <td>2016-07</td>\n",
       "      <td>2016-07-25</td>\n",
       "    </tr>\n",
       "    <tr>\n",
       "      <th>2</th>\n",
       "      <td>0</td>\n",
       "      <td>8.715714e+05</td>\n",
       "      <td>2016-08</td>\n",
       "      <td>2016-08-25</td>\n",
       "    </tr>\n",
       "    <tr>\n",
       "      <th>3</th>\n",
       "      <td>0</td>\n",
       "      <td>8.978571e+05</td>\n",
       "      <td>2016-09</td>\n",
       "      <td>2016-09-25</td>\n",
       "    </tr>\n",
       "    <tr>\n",
       "      <th>4</th>\n",
       "      <td>0</td>\n",
       "      <td>8.354286e+05</td>\n",
       "      <td>2016-10</td>\n",
       "      <td>2016-10-25</td>\n",
       "    </tr>\n",
       "    <tr>\n",
       "      <th>...</th>\n",
       "      <td>...</td>\n",
       "      <td>...</td>\n",
       "      <td>...</td>\n",
       "      <td>...</td>\n",
       "    </tr>\n",
       "    <tr>\n",
       "      <th>60179</th>\n",
       "      <td>2136</td>\n",
       "      <td>2.012214e+06</td>\n",
       "      <td>2018-10</td>\n",
       "      <td>2018-10-25</td>\n",
       "    </tr>\n",
       "    <tr>\n",
       "      <th>60180</th>\n",
       "      <td>2136</td>\n",
       "      <td>2.135429e+06</td>\n",
       "      <td>2018-11</td>\n",
       "      <td>2018-11-25</td>\n",
       "    </tr>\n",
       "    <tr>\n",
       "      <th>60181</th>\n",
       "      <td>2136</td>\n",
       "      <td>2.427429e+06</td>\n",
       "      <td>2018-12</td>\n",
       "      <td>2018-12-25</td>\n",
       "    </tr>\n",
       "    <tr>\n",
       "      <th>60182</th>\n",
       "      <td>2136</td>\n",
       "      <td>1.873643e+06</td>\n",
       "      <td>2019-01</td>\n",
       "      <td>2019-01-25</td>\n",
       "    </tr>\n",
       "    <tr>\n",
       "      <th>60183</th>\n",
       "      <td>2136</td>\n",
       "      <td>2.227429e+06</td>\n",
       "      <td>2019-02</td>\n",
       "      <td>2019-02-25</td>\n",
       "    </tr>\n",
       "  </tbody>\n",
       "</table>\n",
       "<p>60184 rows × 4 columns</p>\n",
       "</div>"
      ],
      "text/plain": [
       "       store_id        amount year_month   datetime\n",
       "0             0  7.470000e+05    2016-06 2016-06-25\n",
       "1             0  1.005000e+06    2016-07 2016-07-25\n",
       "2             0  8.715714e+05    2016-08 2016-08-25\n",
       "3             0  8.978571e+05    2016-09 2016-09-25\n",
       "4             0  8.354286e+05    2016-10 2016-10-25\n",
       "...         ...           ...        ...        ...\n",
       "60179      2136  2.012214e+06    2018-10 2018-10-25\n",
       "60180      2136  2.135429e+06    2018-11 2018-11-25\n",
       "60181      2136  2.427429e+06    2018-12 2018-12-25\n",
       "60182      2136  1.873643e+06    2019-01 2019-01-25\n",
       "60183      2136  2.227429e+06    2019-02 2019-02-25\n",
       "\n",
       "[60184 rows x 4 columns]"
      ]
     },
     "execution_count": 31,
     "metadata": {},
     "output_type": "execute_result"
    }
   ],
   "source": [
    "finalset"
   ]
  },
  {
   "cell_type": "code",
   "execution_count": 32,
   "metadata": {},
   "outputs": [],
   "source": [
    "def store_plot(dataset, start, end):\n",
    "    sns.set_style('whitegrid')\n",
    "    plt.figure(figsize=(26, 6))\n",
    "    for i in finalset['store_id'].unique()[start:end]:\n",
    "        dataset_ = finalset.loc[(finalset['store_id'] == i), ['amount', 'datetime']]\n",
    "        group = (dataset_['amount']/10000).groupby(dataset_['datetime'])\n",
    "        plt.plot(group.sum().index, group.sum().values, label='store_{}'.format(i)) \n",
    "    plt.legend()\n",
    "    plt.show()\n",
    "    plt.tight_layout()\n",
    "    print(group.sum().index)"
   ]
  },
  {
   "cell_type": "code",
   "execution_count": 46,
   "metadata": {},
   "outputs": [
    {
     "data": {
      "text/plain": [
       "<Figure size 640x480 with 0 Axes>"
      ]
     },
     "metadata": {},
     "output_type": "display_data"
    },
    {
     "data": {
      "image/png": "[encoded data removed]",
      "text/plain": [
       "<Figure size 2600x600 with 1 Axes>"
      ]
     },
     "metadata": {},
     "output_type": "display_data"
    },
    {
     "name": "stdout",
     "output_type": "stream",
     "text": [
      "DatetimeIndex(['2016-10-25', '2016-11-25', '2016-12-25', '2017-01-25',\n",
      "               '2017-02-25', '2017-03-25', '2017-04-25', '2017-05-25',\n",
      "               '2017-06-25', '2017-07-25', '2017-08-25', '2017-09-25',\n",
      "               '2017-10-25', '2017-11-25', '2017-12-25', '2018-01-25',\n",
      "               '2018-02-25', '2018-03-25', '2018-04-25', '2018-05-25',\n",
      "               '2018-06-25', '2018-07-25', '2018-08-25', '2018-09-25',\n",
      "               '2018-10-25', '2018-11-25', '2018-12-25', '2019-01-25',\n",
      "               '2019-02-25'],\n",
      "              dtype='datetime64[ns]', name='datetime', freq=None)\n"
     ]
    }
   ],
   "source": [
    "store_plot(store_plot, 23, 25)\n"
   ]
  },
  {
   "cell_type": "code",
   "execution_count": 34,
   "metadata": {},
   "outputs": [],
   "source": [
    "# 최종 데이터셋 저장\n",
    "finalset.to_csv('finalset.csv')"
   ]
  },
  {
   "cell_type": "markdown",
   "metadata": {},
   "source": [
    "# 데이터 정상성 검정\n",
    "\n",
    "## 1. adf, kpss test 함수 형성"
   ]
  },
  {
   "cell_type": "code",
   "execution_count": 38,
   "metadata": {},
   "outputs": [],
   "source": [
    "from statsmodels.tsa.stattools import adfuller, kpss"
   ]
  },
  {
   "cell_type": "code",
   "execution_count": 39,
   "metadata": {},
   "outputs": [],
   "source": [
    "def adf_test(timeseries):\n",
    "    print ('Results of Dickey-Fuller Test:')\n",
    "    dftest = adfuller(timeseries, autolag='AIC')\n",
    "    dfoutput = pd.Series(dftest[0:4], index=['Test Statistic','p-value','#Lags Used','Number of Observations Used'])\n",
    "    for key,value in dftest[4].items():\n",
    "       dfoutput['Critical Value (%s)'%key] = value\n",
    "    print (dfoutput)"
   ]
  },
  {
   "cell_type": "code",
   "execution_count": 40,
   "metadata": {},
   "outputs": [],
   "source": [
    "def kpss_test(timeseries):\n",
    "    print ('Results of KPSS Test:')\n",
    "    kpsstest = kpss(timeseries, regression='c', lags=\"auto\")\n",
    "    kpss_output = pd.Series(kpsstest[0:3], index=['Test Statistic','p-value','Lags Used'])\n",
    "    for key,value in kpsstest[3].items():\n",
    "        kpss_output['Critical Value (%s)'%key] = value\n",
    "    print (kpss_output)"
   ]
  },
  {
   "cell_type": "code",
   "execution_count": 41,
   "metadata": {},
   "outputs": [
    {
     "name": "stdout",
     "output_type": "stream",
     "text": [
      "Results of Dickey-Fuller Test:\n",
      "Test Statistic                   -28.707484\n",
      "p-value                            0.000000\n",
      "#Lags Used                        57.000000\n",
      "Number of Observations Used    60126.000000\n",
      "Critical Value (1%)               -3.430459\n",
      "Critical Value (5%)               -2.861588\n",
      "Critical Value (10%)              -2.566796\n",
      "dtype: float64\n"
     ]
    }
   ],
   "source": [
    "adf_test(finalset[\"amount\"])"
   ]
  },
  {
   "cell_type": "code",
   "execution_count": 42,
   "metadata": {
    "id": "Vh1p7n0wOIZs"
   },
   "outputs": [
    {
     "name": "stdout",
     "output_type": "stream",
     "text": [
      "Results of KPSS Test:\n",
      "Test Statistic             0.388099\n",
      "p-value                    0.082285\n",
      "Lags Used                134.000000\n",
      "Critical Value (10%)       0.347000\n",
      "Critical Value (5%)        0.463000\n",
      "Critical Value (2.5%)      0.574000\n",
      "Critical Value (1%)        0.739000\n",
      "dtype: float64\n"
     ]
    },
    {
     "name": "stderr",
     "output_type": "stream",
     "text": [
      "<ipython-input-40-dc5217a6ae82>:3: FutureWarning: the 'lags'' keyword is deprecated, use 'nlags' instead\n",
      "  kpsstest = kpss(timeseries, regression='c', lags=\"auto\")\n"
     ]
    }
   ],
   "source": [
    "kpss_test(finalset['amount'])"
   ]
  },
  {
   "cell_type": "code",
   "execution_count": null,
   "metadata": {},
   "outputs": [],
   "source": []
  }
 ],
 "metadata": {
  "interpreter": {
   "hash": "0e532115abeb172ccd0a16786b6fed74bf6c6a181c5a849b853367ec4b51c499"
  },
  "kernelspec": {
   "display_name": "Python 3.9.6 64-bit ('pythonProject4': conda)",
   "name": "python3"
  },
  "language_info": {
   "codemirror_mode": {
    "name": "ipython",
    "version": 3
   },
   "file_extension": ".py",
   "mimetype": "text/x-python",
   "name": "python",
   "nbconvert_exporter": "python",
   "pygments_lexer": "ipython3",
   "version": "3.9.6"
  },
  "orig_nbformat": 4
 },
 "nbformat": 4,
 "nbformat_minor": 2
}
