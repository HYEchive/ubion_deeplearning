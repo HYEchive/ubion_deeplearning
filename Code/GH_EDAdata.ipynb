{
 "cells": [
  {
   "cell_type": "code",
   "execution_count": 62,
   "source": [
    "import pandas as pd\n",
    "import matplotlib.pyplot as plt\n",
    "from matplotlib import font_manager, rc     # 한글 깨짐 문제 해결 함수"
   ],
   "outputs": [],
   "metadata": {}
  },
  {
   "cell_type": "code",
   "execution_count": 148,
   "source": [
    "# 데이터 셋을 불러옵니다.\n",
    "# 애초에 분석하기 앞서 목표가 지역별 매출 규모를 파악하는 것이기 때문에 두 칼럼만 뽑아왔음.\n",
    "\n",
    "dataset = pd.read_csv('data/funda_train.csv', usecols=['region', 'amount'])\n",
    "dataset"
   ],
   "outputs": [
    {
     "output_type": "execute_result",
     "data": {
      "text/html": [
       "<div>\n",
       "<style scoped>\n",
       "    .dataframe tbody tr th:only-of-type {\n",
       "        vertical-align: middle;\n",
       "    }\n",
       "\n",
       "    .dataframe tbody tr th {\n",
       "        vertical-align: top;\n",
       "    }\n",
       "\n",
       "    .dataframe thead th {\n",
       "        text-align: right;\n",
       "    }\n",
       "</style>\n",
       "<table border=\"1\" class=\"dataframe\">\n",
       "  <thead>\n",
       "    <tr style=\"text-align: right;\">\n",
       "      <th></th>\n",
       "      <th>region</th>\n",
       "      <th>amount</th>\n",
       "    </tr>\n",
       "  </thead>\n",
       "  <tbody>\n",
       "    <tr>\n",
       "      <th>0</th>\n",
       "      <td>NaN</td>\n",
       "      <td>1857.142857</td>\n",
       "    </tr>\n",
       "    <tr>\n",
       "      <th>1</th>\n",
       "      <td>NaN</td>\n",
       "      <td>857.142857</td>\n",
       "    </tr>\n",
       "    <tr>\n",
       "      <th>2</th>\n",
       "      <td>NaN</td>\n",
       "      <td>2000.000000</td>\n",
       "    </tr>\n",
       "    <tr>\n",
       "      <th>3</th>\n",
       "      <td>NaN</td>\n",
       "      <td>7857.142857</td>\n",
       "    </tr>\n",
       "    <tr>\n",
       "      <th>4</th>\n",
       "      <td>NaN</td>\n",
       "      <td>2000.000000</td>\n",
       "    </tr>\n",
       "    <tr>\n",
       "      <th>...</th>\n",
       "      <td>...</td>\n",
       "      <td>...</td>\n",
       "    </tr>\n",
       "    <tr>\n",
       "      <th>6556608</th>\n",
       "      <td>제주 제주시</td>\n",
       "      <td>-4500.000000</td>\n",
       "    </tr>\n",
       "    <tr>\n",
       "      <th>6556609</th>\n",
       "      <td>제주 제주시</td>\n",
       "      <td>4142.857143</td>\n",
       "    </tr>\n",
       "    <tr>\n",
       "      <th>6556610</th>\n",
       "      <td>제주 제주시</td>\n",
       "      <td>4500.000000</td>\n",
       "    </tr>\n",
       "    <tr>\n",
       "      <th>6556611</th>\n",
       "      <td>제주 제주시</td>\n",
       "      <td>571.428571</td>\n",
       "    </tr>\n",
       "    <tr>\n",
       "      <th>6556612</th>\n",
       "      <td>제주 제주시</td>\n",
       "      <td>5857.142857</td>\n",
       "    </tr>\n",
       "  </tbody>\n",
       "</table>\n",
       "<p>6556613 rows × 2 columns</p>\n",
       "</div>"
      ],
      "text/plain": [
       "         region       amount\n",
       "0           NaN  1857.142857\n",
       "1           NaN   857.142857\n",
       "2           NaN  2000.000000\n",
       "3           NaN  7857.142857\n",
       "4           NaN  2000.000000\n",
       "...         ...          ...\n",
       "6556608  제주 제주시 -4500.000000\n",
       "6556609  제주 제주시  4142.857143\n",
       "6556610  제주 제주시  4500.000000\n",
       "6556611  제주 제주시   571.428571\n",
       "6556612  제주 제주시  5857.142857\n",
       "\n",
       "[6556613 rows x 2 columns]"
      ]
     },
     "metadata": {},
     "execution_count": 148
    }
   ],
   "metadata": {}
  },
  {
   "cell_type": "code",
   "execution_count": 112,
   "source": [
    "# 데이터의 정보를 확인합니다\n",
    "dataset.info()"
   ],
   "outputs": [
    {
     "output_type": "stream",
     "name": "stdout",
     "text": [
      "<class 'pandas.core.frame.DataFrame'>\n",
      "RangeIndex: 6556613 entries, 0 to 6556612\n",
      "Data columns (total 2 columns):\n",
      " #   Column  Dtype  \n",
      "---  ------  -----  \n",
      " 0   region  object \n",
      " 1   amount  float64\n",
      "dtypes: float64(1), object(1)\n",
      "memory usage: 100.0+ MB\n"
     ]
    }
   ],
   "metadata": {}
  },
  {
   "cell_type": "code",
   "execution_count": 113,
   "source": [
    "# 지역 데이터 확인\n",
    "print('Nan 지역 데이터 개수 : ', dataset['region'].value_counts(dropna=False)[0])\n",
    "print('Nan 제외 지역 데이터 개수 : ',dataset['region'].describe()[0])\n",
    "print(dataset['region'].value_counts())"
   ],
   "outputs": [
    {
     "output_type": "stream",
     "name": "stdout",
     "text": [
      "Nan 지역 데이터 개수 :  2042766\n",
      "Nan 제외 지역 데이터 개수 :  4513847\n",
      "경기 수원시    122029\n",
      "충북 청주시    116766\n",
      "경남 창원시    107147\n",
      "경남 김해시    100673\n",
      "경기 평택시     82138\n",
      "           ...  \n",
      "경남 거창군      1143\n",
      "서울 관악구      1037\n",
      "경남 함안군       878\n",
      "경북 영천시       849\n",
      "전남 완도군       681\n",
      "Name: region, Length: 180, dtype: int64\n"
     ]
    }
   ],
   "metadata": {}
  },
  {
   "cell_type": "code",
   "execution_count": 116,
   "source": [
    "# Nan 값과 지역이 있는 값의 비율을 보여주는 그래프\n",
    "\n",
    "import matplotlib.pyplot as plt\n",
    "\n",
    "plt.figure(figsize=(6, 9))\n",
    "plt.pie(dataset.region.isna().value_counts(), autopct='%.3f%%')\n",
    "plt.show()\n"
   ],
   "outputs": [
    {
     "output_type": "display_data",
     "data": {
      "text/plain": [
       "<Figure size 600x900 with 0 Axes>"
      ]
     },
     "metadata": {}
    },
    {
     "output_type": "display_data",
     "data": {
      "image/png": "[encoded data removed]",
      "text/plain": [
       "<Figure size 600x900 with 1 Axes>"
      ]
     },
     "metadata": {}
    }
   ],
   "metadata": {}
  },
  {
   "cell_type": "code",
   "execution_count": 117,
   "source": [
    "grouped = dataset['amount'].groupby(dataset['region'])\n",
    "grouped"
   ],
   "outputs": [
    {
     "output_type": "execute_result",
     "data": {
      "text/plain": [
       "<pandas.core.groupby.generic.SeriesGroupBy object at 0x7fdc5fb9e3d0>"
      ]
     },
     "metadata": {},
     "execution_count": 117
    }
   ],
   "metadata": {}
  },
  {
   "cell_type": "code",
   "execution_count": 118,
   "source": [
    "# ont_path = 'font/NanumBarunGothic.ttf' # 로컬에 font 폴더의 파일 경로 지정 (상대경로임)\n",
    "# font = font_manager.FontProperties(fname=font_path).get_name()\n",
    "# rc('font', family=font)\n",
    "# 위 코드는 시행해봤지만 작동안함..\n",
    "\n",
    "# 그래서 추가한 코드\n",
    "rc('font', family='AppleGothic')\n",
    "plt.rcParams['axes.unicode_minus'] = False \n",
    "\n",
    "plt.figure()\n",
    "plt.bar(grouped.mean().index, grouped.mean().values)\n",
    "plt.xlabel('시군구')\n",
    "plt.ylabel('매출 평균')\n",
    "plt.title('시군구 매출 평균')\n",
    "plt.show()"
   ],
   "outputs": [
    {
     "output_type": "display_data",
     "data": {
      "image/png": "[encoded data removed]",
      "text/plain": [
       "<Figure size 640x480 with 1 Axes>"
      ]
     },
     "metadata": {}
    }
   ],
   "metadata": {}
  },
  {
   "cell_type": "markdown",
   "source": [
    "보기에 굉장히 까다롭고 한눈에 들어오지도 않음. 따라서 더 큰 분류인 광역시, 도별 분류를 적용할 계획임"
   ],
   "metadata": {}
  },
  {
   "cell_type": "markdown",
   "source": [
    "# 도별, 광역시 별 분류 작업 시행 \n",
    "\n",
    "1. 그룹화 시행\n",
    "2. 평균치 구하기 \n",
    "3. 합계 구하기\n",
    "4. 결제 건수 구하기"
   ],
   "metadata": {}
  },
  {
   "cell_type": "markdown",
   "source": [
    "## 1. 그룹화 시행"
   ],
   "metadata": {}
  },
  {
   "cell_type": "code",
   "execution_count": 193,
   "source": [
    "# 시도구분 데이터 칼럼 생성\n",
    "dataset['region'] = dataset['region'].fillna('모름')\n",
    "dataset['시도구분'] = dataset['region'].str[0:2]\n",
    "dataset = dataset.reindex(columns=['시도구분', 'region', 'amount'])\n",
    "dataset"
   ],
   "outputs": [
    {
     "output_type": "execute_result",
     "data": {
      "text/html": [
       "<div>\n",
       "<style scoped>\n",
       "    .dataframe tbody tr th:only-of-type {\n",
       "        vertical-align: middle;\n",
       "    }\n",
       "\n",
       "    .dataframe tbody tr th {\n",
       "        vertical-align: top;\n",
       "    }\n",
       "\n",
       "    .dataframe thead th {\n",
       "        text-align: right;\n",
       "    }\n",
       "</style>\n",
       "<table border=\"1\" class=\"dataframe\">\n",
       "  <thead>\n",
       "    <tr style=\"text-align: right;\">\n",
       "      <th></th>\n",
       "      <th>시도구분</th>\n",
       "      <th>region</th>\n",
       "      <th>amount</th>\n",
       "    </tr>\n",
       "  </thead>\n",
       "  <tbody>\n",
       "    <tr>\n",
       "      <th>0</th>\n",
       "      <td>모름</td>\n",
       "      <td>모름</td>\n",
       "      <td>1857.142857</td>\n",
       "    </tr>\n",
       "    <tr>\n",
       "      <th>1</th>\n",
       "      <td>모름</td>\n",
       "      <td>모름</td>\n",
       "      <td>857.142857</td>\n",
       "    </tr>\n",
       "    <tr>\n",
       "      <th>2</th>\n",
       "      <td>모름</td>\n",
       "      <td>모름</td>\n",
       "      <td>2000.000000</td>\n",
       "    </tr>\n",
       "    <tr>\n",
       "      <th>3</th>\n",
       "      <td>모름</td>\n",
       "      <td>모름</td>\n",
       "      <td>7857.142857</td>\n",
       "    </tr>\n",
       "    <tr>\n",
       "      <th>4</th>\n",
       "      <td>모름</td>\n",
       "      <td>모름</td>\n",
       "      <td>2000.000000</td>\n",
       "    </tr>\n",
       "    <tr>\n",
       "      <th>...</th>\n",
       "      <td>...</td>\n",
       "      <td>...</td>\n",
       "      <td>...</td>\n",
       "    </tr>\n",
       "    <tr>\n",
       "      <th>6556608</th>\n",
       "      <td>제주</td>\n",
       "      <td>제주 제주시</td>\n",
       "      <td>-4500.000000</td>\n",
       "    </tr>\n",
       "    <tr>\n",
       "      <th>6556609</th>\n",
       "      <td>제주</td>\n",
       "      <td>제주 제주시</td>\n",
       "      <td>4142.857143</td>\n",
       "    </tr>\n",
       "    <tr>\n",
       "      <th>6556610</th>\n",
       "      <td>제주</td>\n",
       "      <td>제주 제주시</td>\n",
       "      <td>4500.000000</td>\n",
       "    </tr>\n",
       "    <tr>\n",
       "      <th>6556611</th>\n",
       "      <td>제주</td>\n",
       "      <td>제주 제주시</td>\n",
       "      <td>571.428571</td>\n",
       "    </tr>\n",
       "    <tr>\n",
       "      <th>6556612</th>\n",
       "      <td>제주</td>\n",
       "      <td>제주 제주시</td>\n",
       "      <td>5857.142857</td>\n",
       "    </tr>\n",
       "  </tbody>\n",
       "</table>\n",
       "<p>6556613 rows × 3 columns</p>\n",
       "</div>"
      ],
      "text/plain": [
       "        시도구분  region       amount\n",
       "0         모름      모름  1857.142857\n",
       "1         모름      모름   857.142857\n",
       "2         모름      모름  2000.000000\n",
       "3         모름      모름  7857.142857\n",
       "4         모름      모름  2000.000000\n",
       "...      ...     ...          ...\n",
       "6556608   제주  제주 제주시 -4500.000000\n",
       "6556609   제주  제주 제주시  4142.857143\n",
       "6556610   제주  제주 제주시  4500.000000\n",
       "6556611   제주  제주 제주시   571.428571\n",
       "6556612   제주  제주 제주시  5857.142857\n",
       "\n",
       "[6556613 rows x 3 columns]"
      ]
     },
     "metadata": {},
     "execution_count": 193
    }
   ],
   "metadata": {}
  },
  {
   "cell_type": "code",
   "execution_count": 194,
   "source": [
    "# 시도구분 별 매출을 그룹화 (평균을 구하기 때문에 단위는 변환하지 않음)\n",
    "grouped_dataset = dataset['amount'].groupby(dataset['시도구분'])"
   ],
   "outputs": [],
   "metadata": {}
  },
  {
   "cell_type": "markdown",
   "source": [
    "## 2. 평균치 구하기"
   ],
   "metadata": {}
  },
  {
   "cell_type": "code",
   "execution_count": 151,
   "source": [
    "# 주의해야 할 점은, 평균 데이터 값의 해석임\n",
    "# 1건당 평균 결제액으로 해석해야 함\n",
    "\n",
    "grouped_dataset.mean()"
   ],
   "outputs": [
    {
     "output_type": "execute_result",
     "data": {
      "text/plain": [
       "시도구분\n",
       "강원    10565.005458\n",
       "경기    11068.609791\n",
       "경남     7745.300733\n",
       "경북    10026.672105\n",
       "광주    13032.442798\n",
       "대구     9713.765159\n",
       "대전     8474.208232\n",
       "모름     9482.203503\n",
       "부산    11353.932371\n",
       "서울    15048.562574\n",
       "세종    11927.786908\n",
       "울산    10193.322646\n",
       "인천    12108.502793\n",
       "전남    13093.085170\n",
       "전북    10288.835047\n",
       "제주     7877.637669\n",
       "충남     7669.054659\n",
       "충북     7608.665441\n",
       "Name: amount, dtype: float64"
      ]
     },
     "metadata": {},
     "execution_count": 151
    }
   ],
   "metadata": {}
  },
  {
   "cell_type": "code",
   "execution_count": 152,
   "source": [
    "# 전체 지역 매출 평균\n",
    "dataset['amount'].mean()"
   ],
   "outputs": [
    {
     "output_type": "execute_result",
     "data": {
      "text/plain": [
       "10435.111345219211"
      ]
     },
     "metadata": {},
     "execution_count": 152
    }
   ],
   "metadata": {}
  },
  {
   "cell_type": "code",
   "execution_count": 221,
   "source": [
    "plt.figure(figsize=(18, 9))\n",
    "\n",
    "rc('font', family='AppleGothic')\n",
    "plt.rcParams['axes.unicode_minus'] = False  # 한글 폰트 깨짐 방지\n",
    "colors = ['dodgerblue', 'dodgerblue','dodgerblue', 'dodgerblue',\\\n",
    "        'C2','C2','C2','tab:orange','C2','C2','C2', 'C2','C2',\\\n",
    "        'dodgerblue', 'dodgerblue','dodgerblue', 'dodgerblue', 'dodgerblue']\n",
    "\n",
    "plt.bar(grouped_dataset.mean().index, grouped_dataset.mean().values, color = colors)             # 광역시, 도별 평균 매출 그래프\n",
    "plt.axhline(y=dataset['amount'].mean(), color= 'gray',\\\n",
    "            linestyle='dashed', linewidth = 2, label='전체 지역 건당 결제액 매출')       # 전체 지역 평균 매출 그래프 추가\n",
    "plt.grid(True, axis='y')\n",
    "\n",
    "plt.xlabel('시도구분')\n",
    "plt.ylabel('지역별 건당 결제액 평균')\n",
    "plt.legend(loc='best')\n",
    "plt.title('광역시, 도별 건당 결제액 평균(단위 : 원)')\n",
    "\n",
    "plt.show()\n",
    "plt.tight_layout()"
   ],
   "outputs": [
    {
     "output_type": "display_data",
     "data": {
      "text/plain": [
       "<Figure size 640x480 with 0 Axes>"
      ]
     },
     "metadata": {}
    },
    {
     "output_type": "display_data",
     "data": {
      "image/png": "[encoded data removed]",
      "text/plain": [
       "<Figure size 1800x900 with 1 Axes>"
      ]
     },
     "metadata": {}
    }
   ],
   "metadata": {}
  },
  {
   "cell_type": "markdown",
   "source": [
    "## 2. 합계 구하기"
   ],
   "metadata": {}
  },
  {
   "cell_type": "code",
   "execution_count": 260,
   "source": [
    "# 모르는 지역은 제외\n",
    "\n",
    "dataset_dropna = dataset.loc[(dataset['region']) != '모름']\n",
    "dataset_dropna = dataset_dropna.reset_index(drop=True)\n",
    "dataset_dropna\n"
   ],
   "outputs": [
    {
     "output_type": "execute_result",
     "data": {
      "text/html": [
       "<div>\n",
       "<style scoped>\n",
       "    .dataframe tbody tr th:only-of-type {\n",
       "        vertical-align: middle;\n",
       "    }\n",
       "\n",
       "    .dataframe tbody tr th {\n",
       "        vertical-align: top;\n",
       "    }\n",
       "\n",
       "    .dataframe thead th {\n",
       "        text-align: right;\n",
       "    }\n",
       "</style>\n",
       "<table border=\"1\" class=\"dataframe\">\n",
       "  <thead>\n",
       "    <tr style=\"text-align: right;\">\n",
       "      <th></th>\n",
       "      <th>시도구분</th>\n",
       "      <th>region</th>\n",
       "      <th>amount</th>\n",
       "    </tr>\n",
       "  </thead>\n",
       "  <tbody>\n",
       "    <tr>\n",
       "      <th>0</th>\n",
       "      <td>서울</td>\n",
       "      <td>서울 종로구</td>\n",
       "      <td>3428.571429</td>\n",
       "    </tr>\n",
       "    <tr>\n",
       "      <th>1</th>\n",
       "      <td>서울</td>\n",
       "      <td>서울 종로구</td>\n",
       "      <td>3285.714286</td>\n",
       "    </tr>\n",
       "    <tr>\n",
       "      <th>2</th>\n",
       "      <td>서울</td>\n",
       "      <td>서울 종로구</td>\n",
       "      <td>23000.000000</td>\n",
       "    </tr>\n",
       "    <tr>\n",
       "      <th>3</th>\n",
       "      <td>서울</td>\n",
       "      <td>서울 종로구</td>\n",
       "      <td>15571.428571</td>\n",
       "    </tr>\n",
       "    <tr>\n",
       "      <th>4</th>\n",
       "      <td>서울</td>\n",
       "      <td>서울 종로구</td>\n",
       "      <td>-15571.428571</td>\n",
       "    </tr>\n",
       "    <tr>\n",
       "      <th>...</th>\n",
       "      <td>...</td>\n",
       "      <td>...</td>\n",
       "      <td>...</td>\n",
       "    </tr>\n",
       "    <tr>\n",
       "      <th>4513842</th>\n",
       "      <td>제주</td>\n",
       "      <td>제주 제주시</td>\n",
       "      <td>-4500.000000</td>\n",
       "    </tr>\n",
       "    <tr>\n",
       "      <th>4513843</th>\n",
       "      <td>제주</td>\n",
       "      <td>제주 제주시</td>\n",
       "      <td>4142.857143</td>\n",
       "    </tr>\n",
       "    <tr>\n",
       "      <th>4513844</th>\n",
       "      <td>제주</td>\n",
       "      <td>제주 제주시</td>\n",
       "      <td>4500.000000</td>\n",
       "    </tr>\n",
       "    <tr>\n",
       "      <th>4513845</th>\n",
       "      <td>제주</td>\n",
       "      <td>제주 제주시</td>\n",
       "      <td>571.428571</td>\n",
       "    </tr>\n",
       "    <tr>\n",
       "      <th>4513846</th>\n",
       "      <td>제주</td>\n",
       "      <td>제주 제주시</td>\n",
       "      <td>5857.142857</td>\n",
       "    </tr>\n",
       "  </tbody>\n",
       "</table>\n",
       "<p>4513847 rows × 3 columns</p>\n",
       "</div>"
      ],
      "text/plain": [
       "        시도구분  region        amount\n",
       "0         서울  서울 종로구   3428.571429\n",
       "1         서울  서울 종로구   3285.714286\n",
       "2         서울  서울 종로구  23000.000000\n",
       "3         서울  서울 종로구  15571.428571\n",
       "4         서울  서울 종로구 -15571.428571\n",
       "...      ...     ...           ...\n",
       "4513842   제주  제주 제주시  -4500.000000\n",
       "4513843   제주  제주 제주시   4142.857143\n",
       "4513844   제주  제주 제주시   4500.000000\n",
       "4513845   제주  제주 제주시    571.428571\n",
       "4513846   제주  제주 제주시   5857.142857\n",
       "\n",
       "[4513847 rows x 3 columns]"
      ]
     },
     "metadata": {},
     "execution_count": 260
    }
   ],
   "metadata": {}
  },
  {
   "cell_type": "code",
   "execution_count": 255,
   "source": [
    "# 억 단위로 표시한 지역별 전체 결제액\n",
    "\n",
    "grouped_dataset_dropna = (dataset_dropna['amount']/100000000).groupby(dataset_dropna['시도구분'])"
   ],
   "outputs": [],
   "metadata": {}
  },
  {
   "cell_type": "code",
   "execution_count": 256,
   "source": [
    "# 억단위로 표시한 시도구분 별 매출 합계\n",
    "grouped_dataset_dropna.sum()"
   ],
   "outputs": [
    {
     "output_type": "execute_result",
     "data": {
      "text/plain": [
       "시도구분\n",
       "강원     17.938428\n",
       "경기    107.236676\n",
       "경남     31.460637\n",
       "경북     26.303771\n",
       "광주     15.380237\n",
       "대구     20.245818\n",
       "대전     12.073882\n",
       "부산     40.765386\n",
       "서울    106.007643\n",
       "세종      2.411560\n",
       "울산     12.704957\n",
       "인천     23.301482\n",
       "전남     15.970683\n",
       "전북     14.765919\n",
       "제주      9.033366\n",
       "충남     16.644916\n",
       "충북     18.245275\n",
       "Name: amount, dtype: float64"
      ]
     },
     "metadata": {},
     "execution_count": 256
    }
   ],
   "metadata": {}
  },
  {
   "cell_type": "code",
   "execution_count": 184,
   "source": [
    "# 억단위로 도출한 도시구분 별 매출 합계 평균\n",
    "dataset_dropna['amount'].sum()/(100000000*17)"
   ],
   "outputs": [
    {
     "output_type": "execute_result",
     "data": {
      "text/plain": [
       "28.852390459411737"
      ]
     },
     "metadata": {},
     "execution_count": 184
    }
   ],
   "metadata": {}
  },
  {
   "cell_type": "code",
   "execution_count": 272,
   "source": [
    "# 억단위로 도출한 도시구분(서울, 경기 제외)별 매출 합계 평균\n",
    "aaa={'모름', '서울', '경기'}\n",
    "dataset_dropna_1 = dataset[dataset['region'] != {'모름' or '서울' or '경기'}]\n",
    "dataset_dropna_1 = dataset_dropna_1.reset_index(drop=True)\n",
    "# dataset_dropna_1['amount'].sum()/(100000000*15)\n",
    "dataset_dropna_1"
   ],
   "outputs": [
    {
     "output_type": "execute_result",
     "data": {
      "text/html": [
       "<div>\n",
       "<style scoped>\n",
       "    .dataframe tbody tr th:only-of-type {\n",
       "        vertical-align: middle;\n",
       "    }\n",
       "\n",
       "    .dataframe tbody tr th {\n",
       "        vertical-align: top;\n",
       "    }\n",
       "\n",
       "    .dataframe thead th {\n",
       "        text-align: right;\n",
       "    }\n",
       "</style>\n",
       "<table border=\"1\" class=\"dataframe\">\n",
       "  <thead>\n",
       "    <tr style=\"text-align: right;\">\n",
       "      <th></th>\n",
       "      <th>시도구분</th>\n",
       "      <th>region</th>\n",
       "      <th>amount</th>\n",
       "    </tr>\n",
       "  </thead>\n",
       "  <tbody>\n",
       "    <tr>\n",
       "      <th>0</th>\n",
       "      <td>모름</td>\n",
       "      <td>모름</td>\n",
       "      <td>1857.142857</td>\n",
       "    </tr>\n",
       "    <tr>\n",
       "      <th>1</th>\n",
       "      <td>모름</td>\n",
       "      <td>모름</td>\n",
       "      <td>857.142857</td>\n",
       "    </tr>\n",
       "    <tr>\n",
       "      <th>2</th>\n",
       "      <td>모름</td>\n",
       "      <td>모름</td>\n",
       "      <td>2000.000000</td>\n",
       "    </tr>\n",
       "    <tr>\n",
       "      <th>3</th>\n",
       "      <td>모름</td>\n",
       "      <td>모름</td>\n",
       "      <td>7857.142857</td>\n",
       "    </tr>\n",
       "    <tr>\n",
       "      <th>4</th>\n",
       "      <td>모름</td>\n",
       "      <td>모름</td>\n",
       "      <td>2000.000000</td>\n",
       "    </tr>\n",
       "    <tr>\n",
       "      <th>...</th>\n",
       "      <td>...</td>\n",
       "      <td>...</td>\n",
       "      <td>...</td>\n",
       "    </tr>\n",
       "    <tr>\n",
       "      <th>6556608</th>\n",
       "      <td>제주</td>\n",
       "      <td>제주 제주시</td>\n",
       "      <td>-4500.000000</td>\n",
       "    </tr>\n",
       "    <tr>\n",
       "      <th>6556609</th>\n",
       "      <td>제주</td>\n",
       "      <td>제주 제주시</td>\n",
       "      <td>4142.857143</td>\n",
       "    </tr>\n",
       "    <tr>\n",
       "      <th>6556610</th>\n",
       "      <td>제주</td>\n",
       "      <td>제주 제주시</td>\n",
       "      <td>4500.000000</td>\n",
       "    </tr>\n",
       "    <tr>\n",
       "      <th>6556611</th>\n",
       "      <td>제주</td>\n",
       "      <td>제주 제주시</td>\n",
       "      <td>571.428571</td>\n",
       "    </tr>\n",
       "    <tr>\n",
       "      <th>6556612</th>\n",
       "      <td>제주</td>\n",
       "      <td>제주 제주시</td>\n",
       "      <td>5857.142857</td>\n",
       "    </tr>\n",
       "  </tbody>\n",
       "</table>\n",
       "<p>6556613 rows × 3 columns</p>\n",
       "</div>"
      ],
      "text/plain": [
       "        시도구분  region       amount\n",
       "0         모름      모름  1857.142857\n",
       "1         모름      모름   857.142857\n",
       "2         모름      모름  2000.000000\n",
       "3         모름      모름  7857.142857\n",
       "4         모름      모름  2000.000000\n",
       "...      ...     ...          ...\n",
       "6556608   제주  제주 제주시 -4500.000000\n",
       "6556609   제주  제주 제주시  4142.857143\n",
       "6556610   제주  제주 제주시  4500.000000\n",
       "6556611   제주  제주 제주시   571.428571\n",
       "6556612   제주  제주 제주시  5857.142857\n",
       "\n",
       "[6556613 rows x 3 columns]"
      ]
     },
     "metadata": {},
     "execution_count": 272
    }
   ],
   "metadata": {}
  },
  {
   "cell_type": "code",
   "execution_count": 257,
   "source": [
    "plt.figure(figsize=(18, 9))\n",
    "\n",
    "rc('font', family='AppleGothic')\n",
    "plt.rcParams['axes.unicode_minus'] = False  # 한글 폰트 깨짐 방지\n",
    "c = ['dodgerblue', 'dodgerblue','dodgerblue', 'dodgerblue',\\\n",
    "        'C2','C2','C2','C2','C2','C2', 'C2','C2',\\\n",
    "        'dodgerblue', 'dodgerblue','dodgerblue', 'dodgerblue', 'dodgerblue']\n",
    "\n",
    "# 색을 지정하려고 설정했는데, 계속 에러 발생 (AttributeError: 'Rectangle' object has no property 'colors')\n",
    "\n",
    "plt.bar(grouped_dataset_dropna.sum().index, grouped_dataset_dropna.sum().values)   # 광역시, 도별 평균 매출 그래프\n",
    "plt.axhline(y=dataset_dropna['amount'].sum()/(100000000*17), color= 'gray',linestyle ='dashed', linewidth = 2,\\\n",
    "        label='전체 지역 매출 합계 평균') # 전체 지역 평균 매출 그래프 추가\n",
    "plt.axhline(y=dataset_dropna['amount'].sum()/(100000000*15), color= 'red',linestyle ='dashed', linewidth = 2,\\\n",
    "        label='전체 지역 매출 합계 평균')\n",
    "plt.grid(True, axis='y')\n",
    "\n",
    "plt.xlabel('시도구분')\n",
    "plt.ylabel('지역별 매출 합계')\n",
    "plt.legend(loc='best')\n",
    "plt.title('광역시, 도별 매출 합계 (단위 : 억원)')\n",
    "\n",
    "plt.show()\n",
    "plt.tight_layout()"
   ],
   "outputs": [
    {
     "output_type": "display_data",
     "data": {
      "text/plain": [
       "<Figure size 640x480 with 0 Axes>"
      ]
     },
     "metadata": {}
    },
    {
     "output_type": "display_data",
     "data": {
      "image/png": "[encoded data removed]",
      "text/plain": [
       "<Figure size 1800x900 with 1 Axes>"
      ]
     },
     "metadata": {}
    }
   ],
   "metadata": {}
  },
  {
   "cell_type": "code",
   "execution_count": null,
   "source": [
    "dataset_dropna_1 = dataset.loc[(dataset['region']) != '모름', '서울', '경기']\n",
    "dataset_dropna_1 = dataset_dropna_1.reset_index(drop=True)\n",
    "grouped_dataset_dropna_1 = (dataset_dropna_1['amount']/100000000).groupby(dataset_dropna_1['시도구분'])\n",
    "grouped_dataset_dropna.sum()"
   ],
   "outputs": [],
   "metadata": {}
  },
  {
   "cell_type": "code",
   "execution_count": null,
   "source": [],
   "outputs": [],
   "metadata": {}
  },
  {
   "cell_type": "code",
   "execution_count": null,
   "source": [
    "plt.figure(figsize=(18, 9))\n",
    "\n",
    "rc('font', family='AppleGothic')\n",
    "plt.rcParams['axes.unicode_minus'] = False  # 한글 폰트 깨짐 방지\n",
    "\n",
    "plt.bar(grouped_dataset.mean().index, grouped_dataset.mean().values)                        # 광역시, 도별 평균 매출 그래프\n",
    "plt.axhline(y=dataset['amount'].mean(), color= 'r', linewidth = 2, label='전체 지역 건당 결제액 매출') # 전체 지역 평균 매출 그래프 추가\n",
    "plt.grid(True, axis='y')\n",
    "\n",
    "plt.xlabel('시도구분')\n",
    "plt.ylabel('지역별 건당 결제액 평균')\n",
    "plt.legend(loc='best')\n",
    "plt.title('광역시, 도별 건당 결제액 평균(단위 : 원)')\n",
    "\n",
    "plt.show()\n",
    "plt.tight_layout()"
   ],
   "outputs": [],
   "metadata": {}
  },
  {
   "cell_type": "code",
   "execution_count": 84,
   "source": [
    "# RAM 소모량을 줄이기 위해 새로운 데이터 셋으로 만듦\n",
    "region_= dataset[{'region', 'amount'}]\n",
    "region_"
   ],
   "outputs": [
    {
     "output_type": "execute_result",
     "data": {
      "text/html": [
       "<div>\n",
       "<style scoped>\n",
       "    .dataframe tbody tr th:only-of-type {\n",
       "        vertical-align: middle;\n",
       "    }\n",
       "\n",
       "    .dataframe tbody tr th {\n",
       "        vertical-align: top;\n",
       "    }\n",
       "\n",
       "    .dataframe thead th {\n",
       "        text-align: right;\n",
       "    }\n",
       "</style>\n",
       "<table border=\"1\" class=\"dataframe\">\n",
       "  <thead>\n",
       "    <tr style=\"text-align: right;\">\n",
       "      <th></th>\n",
       "      <th>region</th>\n",
       "      <th>amount</th>\n",
       "    </tr>\n",
       "  </thead>\n",
       "  <tbody>\n",
       "    <tr>\n",
       "      <th>0</th>\n",
       "      <td>NaN</td>\n",
       "      <td>1857.142857</td>\n",
       "    </tr>\n",
       "    <tr>\n",
       "      <th>1</th>\n",
       "      <td>NaN</td>\n",
       "      <td>857.142857</td>\n",
       "    </tr>\n",
       "    <tr>\n",
       "      <th>2</th>\n",
       "      <td>NaN</td>\n",
       "      <td>2000.000000</td>\n",
       "    </tr>\n",
       "    <tr>\n",
       "      <th>3</th>\n",
       "      <td>NaN</td>\n",
       "      <td>7857.142857</td>\n",
       "    </tr>\n",
       "    <tr>\n",
       "      <th>4</th>\n",
       "      <td>NaN</td>\n",
       "      <td>2000.000000</td>\n",
       "    </tr>\n",
       "    <tr>\n",
       "      <th>...</th>\n",
       "      <td>...</td>\n",
       "      <td>...</td>\n",
       "    </tr>\n",
       "    <tr>\n",
       "      <th>6556608</th>\n",
       "      <td>제주 제주시</td>\n",
       "      <td>-4500.000000</td>\n",
       "    </tr>\n",
       "    <tr>\n",
       "      <th>6556609</th>\n",
       "      <td>제주 제주시</td>\n",
       "      <td>4142.857143</td>\n",
       "    </tr>\n",
       "    <tr>\n",
       "      <th>6556610</th>\n",
       "      <td>제주 제주시</td>\n",
       "      <td>4500.000000</td>\n",
       "    </tr>\n",
       "    <tr>\n",
       "      <th>6556611</th>\n",
       "      <td>제주 제주시</td>\n",
       "      <td>571.428571</td>\n",
       "    </tr>\n",
       "    <tr>\n",
       "      <th>6556612</th>\n",
       "      <td>제주 제주시</td>\n",
       "      <td>5857.142857</td>\n",
       "    </tr>\n",
       "  </tbody>\n",
       "</table>\n",
       "<p>6556613 rows × 2 columns</p>\n",
       "</div>"
      ],
      "text/plain": [
       "         region       amount\n",
       "0           NaN  1857.142857\n",
       "1           NaN   857.142857\n",
       "2           NaN  2000.000000\n",
       "3           NaN  7857.142857\n",
       "4           NaN  2000.000000\n",
       "...         ...          ...\n",
       "6556608  제주 제주시 -4500.000000\n",
       "6556609  제주 제주시  4142.857143\n",
       "6556610  제주 제주시  4500.000000\n",
       "6556611  제주 제주시   571.428571\n",
       "6556612  제주 제주시  5857.142857\n",
       "\n",
       "[6556613 rows x 2 columns]"
      ]
     },
     "metadata": {},
     "execution_count": 84
    }
   ],
   "metadata": {}
  },
  {
   "cell_type": "code",
   "execution_count": 36,
   "source": [
    "# fillna를 통해서 nan 값을 대치해줌\n",
    "region_1 = region_.fillna('모름')\n",
    "# 지역별로 amount를 묶음\n",
    "region_2 = region_1['amount'].groupby(region_1['region'])\n",
    "# 지역별 amount의 평균을 dataframe으로 만듦\n",
    "region_3 = pd.DataFrame(region_2.mean()) \n",
    "region_3"
   ],
   "outputs": [
    {
     "output_type": "execute_result",
     "data": {
      "text/html": [
       "<div>\n",
       "<style scoped>\n",
       "    .dataframe tbody tr th:only-of-type {\n",
       "        vertical-align: middle;\n",
       "    }\n",
       "\n",
       "    .dataframe tbody tr th {\n",
       "        vertical-align: top;\n",
       "    }\n",
       "\n",
       "    .dataframe thead th {\n",
       "        text-align: right;\n",
       "    }\n",
       "</style>\n",
       "<table border=\"1\" class=\"dataframe\">\n",
       "  <thead>\n",
       "    <tr style=\"text-align: right;\">\n",
       "      <th></th>\n",
       "      <th>amount</th>\n",
       "    </tr>\n",
       "    <tr>\n",
       "      <th>region</th>\n",
       "      <th></th>\n",
       "    </tr>\n",
       "  </thead>\n",
       "  <tbody>\n",
       "    <tr>\n",
       "      <th>강원 강릉시</th>\n",
       "      <td>7409.415484</td>\n",
       "    </tr>\n",
       "    <tr>\n",
       "      <th>강원 삼척시</th>\n",
       "      <td>8023.419596</td>\n",
       "    </tr>\n",
       "    <tr>\n",
       "      <th>강원 속초시</th>\n",
       "      <td>16593.699141</td>\n",
       "    </tr>\n",
       "    <tr>\n",
       "      <th>강원 양구군</th>\n",
       "      <td>10799.438604</td>\n",
       "    </tr>\n",
       "    <tr>\n",
       "      <th>강원 원주시</th>\n",
       "      <td>8507.560292</td>\n",
       "    </tr>\n",
       "    <tr>\n",
       "      <th>...</th>\n",
       "      <td>...</td>\n",
       "    </tr>\n",
       "    <tr>\n",
       "      <th>충북 제천시</th>\n",
       "      <td>5655.039867</td>\n",
       "    </tr>\n",
       "    <tr>\n",
       "      <th>충북 증평군</th>\n",
       "      <td>5261.246131</td>\n",
       "    </tr>\n",
       "    <tr>\n",
       "      <th>충북 진천군</th>\n",
       "      <td>4370.129740</td>\n",
       "    </tr>\n",
       "    <tr>\n",
       "      <th>충북 청주시</th>\n",
       "      <td>8047.485747</td>\n",
       "    </tr>\n",
       "    <tr>\n",
       "      <th>충북 충주시</th>\n",
       "      <td>7743.247049</td>\n",
       "    </tr>\n",
       "  </tbody>\n",
       "</table>\n",
       "<p>181 rows × 1 columns</p>\n",
       "</div>"
      ],
      "text/plain": [
       "              amount\n",
       "region              \n",
       "강원 강릉시   7409.415484\n",
       "강원 삼척시   8023.419596\n",
       "강원 속초시  16593.699141\n",
       "강원 양구군  10799.438604\n",
       "강원 원주시   8507.560292\n",
       "...              ...\n",
       "충북 제천시   5655.039867\n",
       "충북 증평군   5261.246131\n",
       "충북 진천군   4370.129740\n",
       "충북 청주시   8047.485747\n",
       "충북 충주시   7743.247049\n",
       "\n",
       "[181 rows x 1 columns]"
      ]
     },
     "metadata": {},
     "execution_count": 36
    }
   ],
   "metadata": {}
  },
  {
   "cell_type": "code",
   "execution_count": 37,
   "source": [
    "# index로 분류되어 있는 지역을 칼럼으로 지정하기 위해 인덱스 칼럼을 추가함\n",
    "region_3.insert(0, column='index', value=range(0,181,1))\n",
    "region_3"
   ],
   "outputs": [
    {
     "output_type": "execute_result",
     "data": {
      "text/html": [
       "<div>\n",
       "<style scoped>\n",
       "    .dataframe tbody tr th:only-of-type {\n",
       "        vertical-align: middle;\n",
       "    }\n",
       "\n",
       "    .dataframe tbody tr th {\n",
       "        vertical-align: top;\n",
       "    }\n",
       "\n",
       "    .dataframe thead th {\n",
       "        text-align: right;\n",
       "    }\n",
       "</style>\n",
       "<table border=\"1\" class=\"dataframe\">\n",
       "  <thead>\n",
       "    <tr style=\"text-align: right;\">\n",
       "      <th></th>\n",
       "      <th>index</th>\n",
       "      <th>amount</th>\n",
       "    </tr>\n",
       "    <tr>\n",
       "      <th>region</th>\n",
       "      <th></th>\n",
       "      <th></th>\n",
       "    </tr>\n",
       "  </thead>\n",
       "  <tbody>\n",
       "    <tr>\n",
       "      <th>강원 강릉시</th>\n",
       "      <td>0</td>\n",
       "      <td>7409.415484</td>\n",
       "    </tr>\n",
       "    <tr>\n",
       "      <th>강원 삼척시</th>\n",
       "      <td>1</td>\n",
       "      <td>8023.419596</td>\n",
       "    </tr>\n",
       "    <tr>\n",
       "      <th>강원 속초시</th>\n",
       "      <td>2</td>\n",
       "      <td>16593.699141</td>\n",
       "    </tr>\n",
       "    <tr>\n",
       "      <th>강원 양구군</th>\n",
       "      <td>3</td>\n",
       "      <td>10799.438604</td>\n",
       "    </tr>\n",
       "    <tr>\n",
       "      <th>강원 원주시</th>\n",
       "      <td>4</td>\n",
       "      <td>8507.560292</td>\n",
       "    </tr>\n",
       "    <tr>\n",
       "      <th>...</th>\n",
       "      <td>...</td>\n",
       "      <td>...</td>\n",
       "    </tr>\n",
       "    <tr>\n",
       "      <th>충북 제천시</th>\n",
       "      <td>176</td>\n",
       "      <td>5655.039867</td>\n",
       "    </tr>\n",
       "    <tr>\n",
       "      <th>충북 증평군</th>\n",
       "      <td>177</td>\n",
       "      <td>5261.246131</td>\n",
       "    </tr>\n",
       "    <tr>\n",
       "      <th>충북 진천군</th>\n",
       "      <td>178</td>\n",
       "      <td>4370.129740</td>\n",
       "    </tr>\n",
       "    <tr>\n",
       "      <th>충북 청주시</th>\n",
       "      <td>179</td>\n",
       "      <td>8047.485747</td>\n",
       "    </tr>\n",
       "    <tr>\n",
       "      <th>충북 충주시</th>\n",
       "      <td>180</td>\n",
       "      <td>7743.247049</td>\n",
       "    </tr>\n",
       "  </tbody>\n",
       "</table>\n",
       "<p>181 rows × 2 columns</p>\n",
       "</div>"
      ],
      "text/plain": [
       "        index        amount\n",
       "region                     \n",
       "강원 강릉시      0   7409.415484\n",
       "강원 삼척시      1   8023.419596\n",
       "강원 속초시      2  16593.699141\n",
       "강원 양구군      3  10799.438604\n",
       "강원 원주시      4   8507.560292\n",
       "...       ...           ...\n",
       "충북 제천시    176   5655.039867\n",
       "충북 증평군    177   5261.246131\n",
       "충북 진천군    178   4370.129740\n",
       "충북 청주시    179   8047.485747\n",
       "충북 충주시    180   7743.247049\n",
       "\n",
       "[181 rows x 2 columns]"
      ]
     },
     "metadata": {},
     "execution_count": 37
    }
   ],
   "metadata": {}
  },
  {
   "cell_type": "code",
   "execution_count": 46,
   "source": [
    "# 만든 index를 새로운 index로 지정함\n",
    "big_region_data = region_3.reset_index().set_index('index')\n",
    "big_region_data"
   ],
   "outputs": [
    {
     "output_type": "execute_result",
     "data": {
      "text/html": [
       "<div>\n",
       "<style scoped>\n",
       "    .dataframe tbody tr th:only-of-type {\n",
       "        vertical-align: middle;\n",
       "    }\n",
       "\n",
       "    .dataframe tbody tr th {\n",
       "        vertical-align: top;\n",
       "    }\n",
       "\n",
       "    .dataframe thead th {\n",
       "        text-align: right;\n",
       "    }\n",
       "</style>\n",
       "<table border=\"1\" class=\"dataframe\">\n",
       "  <thead>\n",
       "    <tr style=\"text-align: right;\">\n",
       "      <th></th>\n",
       "      <th>region</th>\n",
       "      <th>amount</th>\n",
       "    </tr>\n",
       "    <tr>\n",
       "      <th>index</th>\n",
       "      <th></th>\n",
       "      <th></th>\n",
       "    </tr>\n",
       "  </thead>\n",
       "  <tbody>\n",
       "    <tr>\n",
       "      <th>0</th>\n",
       "      <td>강원 강릉시</td>\n",
       "      <td>7409.415484</td>\n",
       "    </tr>\n",
       "    <tr>\n",
       "      <th>1</th>\n",
       "      <td>강원 삼척시</td>\n",
       "      <td>8023.419596</td>\n",
       "    </tr>\n",
       "    <tr>\n",
       "      <th>2</th>\n",
       "      <td>강원 속초시</td>\n",
       "      <td>16593.699141</td>\n",
       "    </tr>\n",
       "    <tr>\n",
       "      <th>3</th>\n",
       "      <td>강원 양구군</td>\n",
       "      <td>10799.438604</td>\n",
       "    </tr>\n",
       "    <tr>\n",
       "      <th>4</th>\n",
       "      <td>강원 원주시</td>\n",
       "      <td>8507.560292</td>\n",
       "    </tr>\n",
       "    <tr>\n",
       "      <th>...</th>\n",
       "      <td>...</td>\n",
       "      <td>...</td>\n",
       "    </tr>\n",
       "    <tr>\n",
       "      <th>176</th>\n",
       "      <td>충북 제천시</td>\n",
       "      <td>5655.039867</td>\n",
       "    </tr>\n",
       "    <tr>\n",
       "      <th>177</th>\n",
       "      <td>충북 증평군</td>\n",
       "      <td>5261.246131</td>\n",
       "    </tr>\n",
       "    <tr>\n",
       "      <th>178</th>\n",
       "      <td>충북 진천군</td>\n",
       "      <td>4370.129740</td>\n",
       "    </tr>\n",
       "    <tr>\n",
       "      <th>179</th>\n",
       "      <td>충북 청주시</td>\n",
       "      <td>8047.485747</td>\n",
       "    </tr>\n",
       "    <tr>\n",
       "      <th>180</th>\n",
       "      <td>충북 충주시</td>\n",
       "      <td>7743.247049</td>\n",
       "    </tr>\n",
       "  </tbody>\n",
       "</table>\n",
       "<p>181 rows × 2 columns</p>\n",
       "</div>"
      ],
      "text/plain": [
       "       region        amount\n",
       "index                      \n",
       "0      강원 강릉시   7409.415484\n",
       "1      강원 삼척시   8023.419596\n",
       "2      강원 속초시  16593.699141\n",
       "3      강원 양구군  10799.438604\n",
       "4      강원 원주시   8507.560292\n",
       "...       ...           ...\n",
       "176    충북 제천시   5655.039867\n",
       "177    충북 증평군   5261.246131\n",
       "178    충북 진천군   4370.129740\n",
       "179    충북 청주시   8047.485747\n",
       "180    충북 충주시   7743.247049\n",
       "\n",
       "[181 rows x 2 columns]"
      ]
     },
     "metadata": {},
     "execution_count": 46
    }
   ],
   "metadata": {}
  },
  {
   "cell_type": "code",
   "execution_count": 47,
   "source": [
    "# 광역시, 도별로 분류하기 위한 작업 (new column 생성)\n",
    "big_region_data['big_region'] = big_region_data['region'].str[0:2]\n",
    "big_region_data"
   ],
   "outputs": [
    {
     "output_type": "execute_result",
     "data": {
      "text/html": [
       "<div>\n",
       "<style scoped>\n",
       "    .dataframe tbody tr th:only-of-type {\n",
       "        vertical-align: middle;\n",
       "    }\n",
       "\n",
       "    .dataframe tbody tr th {\n",
       "        vertical-align: top;\n",
       "    }\n",
       "\n",
       "    .dataframe thead th {\n",
       "        text-align: right;\n",
       "    }\n",
       "</style>\n",
       "<table border=\"1\" class=\"dataframe\">\n",
       "  <thead>\n",
       "    <tr style=\"text-align: right;\">\n",
       "      <th></th>\n",
       "      <th>region</th>\n",
       "      <th>amount</th>\n",
       "      <th>big_region</th>\n",
       "    </tr>\n",
       "    <tr>\n",
       "      <th>index</th>\n",
       "      <th></th>\n",
       "      <th></th>\n",
       "      <th></th>\n",
       "    </tr>\n",
       "  </thead>\n",
       "  <tbody>\n",
       "    <tr>\n",
       "      <th>0</th>\n",
       "      <td>강원 강릉시</td>\n",
       "      <td>7409.415484</td>\n",
       "      <td>강원</td>\n",
       "    </tr>\n",
       "    <tr>\n",
       "      <th>1</th>\n",
       "      <td>강원 삼척시</td>\n",
       "      <td>8023.419596</td>\n",
       "      <td>강원</td>\n",
       "    </tr>\n",
       "    <tr>\n",
       "      <th>2</th>\n",
       "      <td>강원 속초시</td>\n",
       "      <td>16593.699141</td>\n",
       "      <td>강원</td>\n",
       "    </tr>\n",
       "    <tr>\n",
       "      <th>3</th>\n",
       "      <td>강원 양구군</td>\n",
       "      <td>10799.438604</td>\n",
       "      <td>강원</td>\n",
       "    </tr>\n",
       "    <tr>\n",
       "      <th>4</th>\n",
       "      <td>강원 원주시</td>\n",
       "      <td>8507.560292</td>\n",
       "      <td>강원</td>\n",
       "    </tr>\n",
       "    <tr>\n",
       "      <th>...</th>\n",
       "      <td>...</td>\n",
       "      <td>...</td>\n",
       "      <td>...</td>\n",
       "    </tr>\n",
       "    <tr>\n",
       "      <th>176</th>\n",
       "      <td>충북 제천시</td>\n",
       "      <td>5655.039867</td>\n",
       "      <td>충북</td>\n",
       "    </tr>\n",
       "    <tr>\n",
       "      <th>177</th>\n",
       "      <td>충북 증평군</td>\n",
       "      <td>5261.246131</td>\n",
       "      <td>충북</td>\n",
       "    </tr>\n",
       "    <tr>\n",
       "      <th>178</th>\n",
       "      <td>충북 진천군</td>\n",
       "      <td>4370.129740</td>\n",
       "      <td>충북</td>\n",
       "    </tr>\n",
       "    <tr>\n",
       "      <th>179</th>\n",
       "      <td>충북 청주시</td>\n",
       "      <td>8047.485747</td>\n",
       "      <td>충북</td>\n",
       "    </tr>\n",
       "    <tr>\n",
       "      <th>180</th>\n",
       "      <td>충북 충주시</td>\n",
       "      <td>7743.247049</td>\n",
       "      <td>충북</td>\n",
       "    </tr>\n",
       "  </tbody>\n",
       "</table>\n",
       "<p>181 rows × 3 columns</p>\n",
       "</div>"
      ],
      "text/plain": [
       "       region        amount big_region\n",
       "index                                 \n",
       "0      강원 강릉시   7409.415484         강원\n",
       "1      강원 삼척시   8023.419596         강원\n",
       "2      강원 속초시  16593.699141         강원\n",
       "3      강원 양구군  10799.438604         강원\n",
       "4      강원 원주시   8507.560292         강원\n",
       "...       ...           ...        ...\n",
       "176    충북 제천시   5655.039867         충북\n",
       "177    충북 증평군   5261.246131         충북\n",
       "178    충북 진천군   4370.129740         충북\n",
       "179    충북 청주시   8047.485747         충북\n",
       "180    충북 충주시   7743.247049         충북\n",
       "\n",
       "[181 rows x 3 columns]"
      ]
     },
     "metadata": {},
     "execution_count": 47
    }
   ],
   "metadata": {}
  },
  {
   "cell_type": "code",
   "execution_count": 48,
   "source": [
    "# 지역별 매출 그룹화 후, 평균 값 도출\n",
    "\n",
    "grouped_big_region_data = big_region_data['amount'].groupby(big_region_data['big_region'])\n",
    "grouped_big_region_data.mean()"
   ],
   "outputs": [
    {
     "output_type": "execute_result",
     "data": {
      "text/plain": [
       "big_region\n",
       "강원     9946.059429\n",
       "경기    12366.297121\n",
       "경남     8438.555506\n",
       "경북    10891.238790\n",
       "광주    13608.727891\n",
       "대구    10834.778180\n",
       "대전     6791.773688\n",
       "모름     9482.203503\n",
       "부산    11240.258076\n",
       "서울    13124.439885\n",
       "세종    10045.499691\n",
       "울산     9615.141335\n",
       "인천    12321.094937\n",
       "전남    15822.592490\n",
       "전북     9136.034296\n",
       "제주     7633.419527\n",
       "충남     7135.346421\n",
       "충북     8421.124220\n",
       "Name: amount, dtype: float64"
      ]
     },
     "metadata": {},
     "execution_count": 48
    }
   ],
   "metadata": {}
  },
  {
   "cell_type": "code",
   "execution_count": 69,
   "source": [
    "# 전체 지역 평균 매출\n",
    "big_region_data['amount'].mean()"
   ],
   "outputs": [
    {
     "output_type": "execute_result",
     "data": {
      "text/plain": [
       "11073.538494693754"
      ]
     },
     "metadata": {},
     "execution_count": 69
    }
   ],
   "metadata": {}
  },
  {
   "cell_type": "code",
   "execution_count": 78,
   "source": [
    "plt.figure(figsize=(18, 9))\n",
    "\n",
    "rc('font', family='AppleGothic')\n",
    "plt.rcParams['axes.unicode_minus'] = False  # 한글 폰트 깨짐 방지\n",
    "\n",
    "plt.bar(grouped_big_region_data.mean().index, grouped_big_region_data.mean().values)                # 광역시, 도별 평균 매출 그래프\n",
    "plt.axhline(y=big_region_data['amount'].mean(), color= 'r', linewidth = 2, label='전체 지역 평균 매출') # 전체 지역 평균 매출 그래프 추가\n",
    "plt.grid(True, axis='y')\n",
    "\n",
    "plt.xlabel('big_region')\n",
    "plt.ylabel('mean of amount')\n",
    "plt.legend(loc='best')\n",
    "plt.title('광역시, 도별 평균 매출(단위 : 원)')\n",
    "\n",
    "plt.show()\n",
    "plt.tight_layout()"
   ],
   "outputs": [
    {
     "output_type": "display_data",
     "data": {
      "text/plain": [
       "<Figure size 640x480 with 0 Axes>"
      ]
     },
     "metadata": {}
    },
    {
     "output_type": "display_data",
     "data": {
      "image/png": "[encoded data removed]",
      "text/plain": [
       "<Figure size 1800x900 with 1 Axes>"
      ]
     },
     "metadata": {}
    }
   ],
   "metadata": {}
  },
  {
   "cell_type": "markdown",
   "source": [
    "## 2. 합계 구하기"
   ],
   "metadata": {}
  },
  {
   "cell_type": "code",
   "execution_count": 109,
   "source": [
    "# sum 데이터프레임 생성\n",
    "\n",
    "region_1 = region_.fillna('모름')\n",
    "region_2 = region_1['amount'].groupby(region_1['region'])\n",
    "region_3_sum = pd.DataFrame(region_2.sum()) \n",
    "region_3_sum.insert(0, column='index', value=range(0,181,1))\n",
    "big_region_data_sum = region_3_sum.reset_index().set_index('index')\n",
    "big_region_data_sum['big_region'] = big_region_data_sum['region'].str[0:2]\n",
    "\n",
    "# 지역별 분류\n",
    "\n",
    "grouped_big_region_data_sum = (big_region_data_sum['amount']/100000000).groupby(big_region_data_sum['big_region']) # 단위 (억원) 변환\n",
    "grouped_big_region_data_sum.sum()"
   ],
   "outputs": [
    {
     "output_type": "execute_result",
     "data": {
      "text/plain": [
       "big_region\n",
       "강원     17.938428\n",
       "경기    107.236676\n",
       "경남     31.460637\n",
       "경북     26.303771\n",
       "광주     15.380237\n",
       "대구     20.245818\n",
       "대전     12.073882\n",
       "모름    193.699229\n",
       "부산     40.765386\n",
       "서울    106.007643\n",
       "세종      2.411560\n",
       "울산     12.704957\n",
       "인천     23.301482\n",
       "전남     15.970683\n",
       "전북     14.765919\n",
       "제주      9.033366\n",
       "충남     16.644916\n",
       "충북     18.245275\n",
       "Name: amount, dtype: float64"
      ]
     },
     "metadata": {},
     "execution_count": 109
    }
   ],
   "metadata": {}
  },
  {
   "cell_type": "code",
   "execution_count": null,
   "source": [
    "subset = dataset.loc[(dataset['시도구분']) != '지역']"
   ],
   "outputs": [],
   "metadata": {}
  },
  {
   "cell_type": "code",
   "execution_count": 110,
   "source": [
    "big_region_data_sum['amount'].sum()/100000000"
   ],
   "outputs": [
    {
     "output_type": "execute_result",
     "data": {
      "text/plain": [
       "684.1898670257143"
      ]
     },
     "metadata": {},
     "execution_count": 110
    }
   ],
   "metadata": {}
  },
  {
   "cell_type": "code",
   "execution_count": 100,
   "source": [
    "plt.figure(figsize=(18, 9))\n",
    "\n",
    "rc('font', family='AppleGothic')\n",
    "plt.rcParams['axes.unicode_minus'] = False  # 한글 폰트 깨짐 방지\n",
    "\n",
    "plt.bar(grouped_big_region_data_sum.sum().index, grouped_big_region_data_sum.sum().values)                # 광역시, 도별 평균 매출 그래프\n",
    "#plt.axhline(y=big_region_data['amount'].sum(), color= 'r', linewidth = 2, label='전체 지역 평균 매출') # 전체 지역 평균 매출 그래프 추가\n",
    "plt.grid(True, axis='y')\n",
    "\n",
    "plt.xlabel('big_region')\n",
    "plt.ylabel('sum of amount')\n",
    "plt.legend(loc='best')\n",
    "plt.title('광역시, 도별 매출(단위 : 억원)')\n",
    "\n",
    "plt.show()\n",
    "plt.tight_layout()"
   ],
   "outputs": [
    {
     "output_type": "stream",
     "name": "stderr",
     "text": [
      "No handles with labels found to put in legend.\n"
     ]
    },
    {
     "output_type": "display_data",
     "data": {
      "text/plain": [
       "<Figure size 640x480 with 0 Axes>"
      ]
     },
     "metadata": {}
    },
    {
     "output_type": "display_data",
     "data": {
      "image/png": "[encoded data removed]",
      "text/plain": [
       "<Figure size 1800x900 with 1 Axes>"
      ]
     },
     "metadata": {}
    }
   ],
   "metadata": {}
  },
  {
   "cell_type": "code",
   "execution_count": 72,
   "source": [
    "import numpy as np\n",
    "b = (region_4['region'].tolist())\n",
    "b"
   ],
   "outputs": [
    {
     "output_type": "execute_result",
     "data": {
      "text/plain": [
       "['강원 강릉시',\n",
       " '강원 삼척시',\n",
       " '강원 속초시',\n",
       " '강원 양구군',\n",
       " '강원 원주시',\n",
       " '강원 철원군',\n",
       " '강원 춘천시',\n",
       " '강원 태백시',\n",
       " '강원 홍천군',\n",
       " '강원 횡성군',\n",
       " '경기 가평군',\n",
       " '경기 고양시',\n",
       " '경기 과천시',\n",
       " '경기 광명시',\n",
       " '경기 광주시',\n",
       " '경기 구리시',\n",
       " '경기 군포시',\n",
       " '경기 김포시',\n",
       " '경기 남양주시',\n",
       " '경기 동두천시',\n",
       " '경기 부천시',\n",
       " '경기 성남시',\n",
       " '경기 수원시',\n",
       " '경기 시흥시',\n",
       " '경기 안산시',\n",
       " '경기 안성시',\n",
       " '경기 안양시',\n",
       " '경기 양주시',\n",
       " '경기 양평군',\n",
       " '경기 연천군',\n",
       " '경기 오산시',\n",
       " '경기 용인시',\n",
       " '경기 의왕시',\n",
       " '경기 의정부시',\n",
       " '경기 이천시',\n",
       " '경기 파주시',\n",
       " '경기 평택시',\n",
       " '경기 포천시',\n",
       " '경기 하남시',\n",
       " '경기 화성시',\n",
       " '경남 거제시',\n",
       " '경남 거창군',\n",
       " '경남 김해시',\n",
       " '경남 남해군',\n",
       " '경남 밀양시',\n",
       " '경남 사천시',\n",
       " '경남 양산시',\n",
       " '경남 진주시',\n",
       " '경남 창녕군',\n",
       " '경남 창원시',\n",
       " '경남 통영시',\n",
       " '경남 함안군',\n",
       " '경북 경산시',\n",
       " '경북 경주시',\n",
       " '경북 구미시',\n",
       " '경북 김천시',\n",
       " '경북 상주시',\n",
       " '경북 성주군',\n",
       " '경북 안동시',\n",
       " '경북 영주시',\n",
       " '경북 영천시',\n",
       " '경북 울진군',\n",
       " '경북 칠곡군',\n",
       " '경북 포항시',\n",
       " '광주 광산구',\n",
       " '광주 남구',\n",
       " '광주 동구',\n",
       " '광주 북구',\n",
       " '광주 서구',\n",
       " '대구 남구',\n",
       " '대구 달서구',\n",
       " '대구 달성군',\n",
       " '대구 동구',\n",
       " '대구 북구',\n",
       " '대구 서구',\n",
       " '대구 수성구',\n",
       " '대구 중구',\n",
       " '대전 대덕구',\n",
       " '대전 동구',\n",
       " '대전 서구',\n",
       " '대전 유성구',\n",
       " '대전 중구',\n",
       " '모름',\n",
       " '부산 강서구',\n",
       " '부산 금정구',\n",
       " '부산 기장군',\n",
       " '부산 남구',\n",
       " '부산 동구',\n",
       " '부산 동래구',\n",
       " '부산 부산진구',\n",
       " '부산 북구',\n",
       " '부산 사상구',\n",
       " '부산 사하구',\n",
       " '부산 서구',\n",
       " '부산 수영구',\n",
       " '부산 연제구',\n",
       " '부산 영도구',\n",
       " '부산 중구',\n",
       " '부산 해운대구',\n",
       " '서울 강남구',\n",
       " '서울 강동구',\n",
       " '서울 강북구',\n",
       " '서울 강서구',\n",
       " '서울 관악구',\n",
       " '서울 광진구',\n",
       " '서울 구로구',\n",
       " '서울 금천구',\n",
       " '서울 노원구',\n",
       " '서울 동대문구',\n",
       " '서울 동작구',\n",
       " '서울 마포구',\n",
       " '서울 서대문구',\n",
       " '서울 서초구',\n",
       " '서울 성동구',\n",
       " '서울 성북구',\n",
       " '서울 송파구',\n",
       " '서울 양천구',\n",
       " '서울 영등포구',\n",
       " '서울 용산구',\n",
       " '서울 은평구',\n",
       " '서울 종로구',\n",
       " '서울 중구',\n",
       " '서울 중랑구',\n",
       " '세종 고운서길',\n",
       " '세종 달빛로',\n",
       " '세종 도움3로',\n",
       " '세종 조치원읍',\n",
       " '울산 남구',\n",
       " '울산 동구',\n",
       " '울산 북구',\n",
       " '울산 울주군',\n",
       " '울산 중구',\n",
       " '인천 계양구',\n",
       " '인천 남구',\n",
       " '인천 남동구',\n",
       " '인천 동구',\n",
       " '인천 부평구',\n",
       " '인천 서구',\n",
       " '인천 연수구',\n",
       " '인천 중구',\n",
       " '전남 고흥군',\n",
       " '전남 곡성군',\n",
       " '전남 광양시',\n",
       " '전남 나주시',\n",
       " '전남 담양군',\n",
       " '전남 목포시',\n",
       " '전남 무안군',\n",
       " '전남 순천시',\n",
       " '전남 여수시',\n",
       " '전남 완도군',\n",
       " '전남 함평군',\n",
       " '전남 해남군',\n",
       " '전북 군산시',\n",
       " '전북 김제시',\n",
       " '전북 남원시',\n",
       " '전북 순창군',\n",
       " '전북 익산시',\n",
       " '전북 전주시',\n",
       " '전북 정읍시',\n",
       " '제주 서귀포시',\n",
       " '제주 제주시',\n",
       " '충남 공주시',\n",
       " '충남 금산군',\n",
       " '충남 논산시',\n",
       " '충남 당진시',\n",
       " '충남 보령시',\n",
       " '충남 부여군',\n",
       " '충남 서산시',\n",
       " '충남 서천군',\n",
       " '충남 아산시',\n",
       " '충남 예산군',\n",
       " '충남 천안시',\n",
       " '충남 홍성군',\n",
       " '충북 단양군',\n",
       " '충북 옥천군',\n",
       " '충북 음성군',\n",
       " '충북 제천시',\n",
       " '충북 증평군',\n",
       " '충북 진천군',\n",
       " '충북 청주시',\n",
       " '충북 충주시']"
      ]
     },
     "metadata": {},
     "execution_count": 72
    }
   ],
   "metadata": {}
  },
  {
   "cell_type": "code",
   "execution_count": 1,
   "source": [
    "dataset['region'] = dataset['regjon'].str[0:2]"
   ],
   "outputs": [
    {
     "output_type": "error",
     "ename": "NameError",
     "evalue": "name 'dataset' is not defined",
     "traceback": [
      "\u001b[0;31m---------------------------------------------------------------------------\u001b[0m",
      "\u001b[0;31mNameError\u001b[0m                                 Traceback (most recent call last)",
      "\u001b[0;32m<ipython-input-1-eed251da8305>\u001b[0m in \u001b[0;36m<module>\u001b[0;34m\u001b[0m\n\u001b[0;32m----> 1\u001b[0;31m \u001b[0mdataset\u001b[0m\u001b[0;34m[\u001b[0m\u001b[0;34m'region'\u001b[0m\u001b[0;34m]\u001b[0m \u001b[0;34m=\u001b[0m \u001b[0mdataset\u001b[0m\u001b[0;34m[\u001b[0m\u001b[0;34m'regjon'\u001b[0m\u001b[0;34m]\u001b[0m\u001b[0;34m.\u001b[0m\u001b[0mstr\u001b[0m\u001b[0;34m[\u001b[0m\u001b[0;36m0\u001b[0m\u001b[0;34m:\u001b[0m\u001b[0;36m2\u001b[0m\u001b[0;34m]\u001b[0m\u001b[0;34m\u001b[0m\u001b[0;34m\u001b[0m\u001b[0m\n\u001b[0m",
      "\u001b[0;31mNameError\u001b[0m: name 'dataset' is not defined"
     ]
    }
   ],
   "metadata": {}
  },
  {
   "cell_type": "code",
   "execution_count": null,
   "source": [],
   "outputs": [],
   "metadata": {}
  }
 ],
 "metadata": {
  "orig_nbformat": 4,
  "language_info": {
   "name": "python",
   "version": "3.9.6",
   "mimetype": "text/x-python",
   "codemirror_mode": {
    "name": "ipython",
    "version": 3
   },
   "pygments_lexer": "ipython3",
   "nbconvert_exporter": "python",
   "file_extension": ".py"
  },
  "kernelspec": {
   "name": "python3",
   "display_name": "Python 3.9.6 64-bit ('pythonProject4': conda)"
  },
  "interpreter": {
   "hash": "0e532115abeb172ccd0a16786b6fed74bf6c6a181c5a849b853367ec4b51c499"
  }
 },
 "nbformat": 4,
 "nbformat_minor": 2
}