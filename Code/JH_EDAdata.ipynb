{
 "cells": [
  {
   "cell_type": "code",
   "execution_count": 175,
   "source": [
    "import pandas as pd\r\n",
    "\r\n",
    "import matplotlib.pyplot as plt\r\n",
    "import plotly.express as px\r\n",
    "import seaborn as sns\r\n",
    "\r\n",
    "\r\n",
    "import datetime\r\n",
    "\r\n",
    "import Cat"
   ],
   "outputs": [],
   "metadata": {}
  },
  {
   "cell_type": "code",
   "execution_count": 176,
   "source": [
    "dataset = pd.read_csv('../../data/funda_train.csv')"
   ],
   "outputs": [],
   "metadata": {}
  },
  {
   "cell_type": "markdown",
   "source": [
    "# EDA\r\n",
    "\r\n",
    "1. 0, Nan 값 체크\r\n",
    "\r\n",
    "2. 시간 별 매출\r\n",
    "3. 지역 별 매출\r\n",
    "4. 업종 별 매출\r\n",
    "5. 가게 별 매출"
   ],
   "metadata": {}
  },
  {
   "cell_type": "code",
   "execution_count": 4,
   "source": [
    "dataset.info()"
   ],
   "outputs": [
    {
     "output_type": "stream",
     "name": "stdout",
     "text": [
      "<class 'pandas.core.frame.DataFrame'>\n",
      "RangeIndex: 6556613 entries, 0 to 6556612\n",
      "Data columns (total 9 columns):\n",
      " #   Column            Dtype  \n",
      "---  ------            -----  \n",
      " 0   store_id          int64  \n",
      " 1   card_id           int64  \n",
      " 2   card_company      object \n",
      " 3   transacted_date   object \n",
      " 4   transacted_time   object \n",
      " 5   installment_term  int64  \n",
      " 6   region            object \n",
      " 7   type_of_business  object \n",
      " 8   amount            float64\n",
      "dtypes: float64(1), int64(3), object(5)\n",
      "memory usage: 450.2+ MB\n"
     ]
    }
   ],
   "metadata": {}
  },
  {
   "cell_type": "code",
   "execution_count": 4,
   "source": [
    "dataset.isin([0]).sum()"
   ],
   "outputs": [
    {
     "output_type": "execute_result",
     "data": {
      "text/plain": [
       "store_id               4481\n",
       "card_id                   5\n",
       "card_company              0\n",
       "transacted_date           0\n",
       "transacted_time           0\n",
       "installment_term    6327632\n",
       "region                    0\n",
       "type_of_business          0\n",
       "amount                   80\n",
       "dtype: int64"
      ]
     },
     "metadata": {},
     "execution_count": 4
    }
   ],
   "metadata": {}
  },
  {
   "cell_type": "code",
   "execution_count": 5,
   "source": [
    "dataset.isnull().sum() "
   ],
   "outputs": [
    {
     "output_type": "execute_result",
     "data": {
      "text/plain": [
       "store_id                  0\n",
       "card_id                   0\n",
       "card_company              0\n",
       "transacted_date           0\n",
       "transacted_time           0\n",
       "installment_term          0\n",
       "region              2042766\n",
       "type_of_business    3952609\n",
       "amount                    0\n",
       "dtype: int64"
      ]
     },
     "metadata": {},
     "execution_count": 5
    }
   ],
   "metadata": {}
  },
  {
   "cell_type": "code",
   "execution_count": 179,
   "source": [
    "dataset['region'] = dataset['region'].fillna('지역 모름')\r\n",
    "dataset['type_of_business'] = dataset['type_of_business'].fillna('업종 모름')\r\n",
    "\r\n",
    "dataset.isnull().sum() # 결측지가 잘 대체됐는지 확인"
   ],
   "outputs": [
    {
     "output_type": "execute_result",
     "data": {
      "text/plain": [
       "store_id            0\n",
       "card_id             0\n",
       "card_company        0\n",
       "transacted_date     0\n",
       "transacted_time     0\n",
       "installment_term    0\n",
       "region              0\n",
       "type_of_business    0\n",
       "amount              0\n",
       "dtype: int64"
      ]
     },
     "metadata": {},
     "execution_count": 179
    }
   ],
   "metadata": {}
  },
  {
   "cell_type": "code",
   "execution_count": 180,
   "source": [
    "dataset['datetime'] = pd.to_datetime(dataset.transacted_date + \" \" + \r\n",
    "                                dataset.transacted_time, format='%Y-%m-%d %H:%M:%S')\r\n",
    "\r\n",
    "dataset['time'] = dataset['datetime'].dt.time\r\n",
    "dataset['day'] = dataset['datetime'].dt.day\r\n",
    "dataset['month'] = dataset['datetime'].dt.month"
   ],
   "outputs": [],
   "metadata": {}
  },
  {
   "cell_type": "code",
   "execution_count": 190,
   "source": [
    "dataset['시도 구분'] = dataset['region'].str[0:2]\r\n"
   ],
   "outputs": [],
   "metadata": {}
  },
  {
   "cell_type": "code",
   "execution_count": 191,
   "source": [
    "dataset"
   ],
   "outputs": [
    {
     "output_type": "execute_result",
     "data": {
      "text/html": [
       "<div>\n",
       "<style scoped>\n",
       "    .dataframe tbody tr th:only-of-type {\n",
       "        vertical-align: middle;\n",
       "    }\n",
       "\n",
       "    .dataframe tbody tr th {\n",
       "        vertical-align: top;\n",
       "    }\n",
       "\n",
       "    .dataframe thead th {\n",
       "        text-align: right;\n",
       "    }\n",
       "</style>\n",
       "<table border=\"1\" class=\"dataframe\">\n",
       "  <thead>\n",
       "    <tr style=\"text-align: right;\">\n",
       "      <th></th>\n",
       "      <th>store_id</th>\n",
       "      <th>card_id</th>\n",
       "      <th>card_company</th>\n",
       "      <th>transacted_date</th>\n",
       "      <th>transacted_time</th>\n",
       "      <th>installment_term</th>\n",
       "      <th>region</th>\n",
       "      <th>type_of_business</th>\n",
       "      <th>amount</th>\n",
       "      <th>datetime</th>\n",
       "      <th>time</th>\n",
       "      <th>day</th>\n",
       "      <th>month</th>\n",
       "      <th>시도 구분</th>\n",
       "    </tr>\n",
       "  </thead>\n",
       "  <tbody>\n",
       "    <tr>\n",
       "      <th>0</th>\n",
       "      <td>0</td>\n",
       "      <td>0</td>\n",
       "      <td>b</td>\n",
       "      <td>2016-06-01</td>\n",
       "      <td>13:13</td>\n",
       "      <td>0</td>\n",
       "      <td>지역 모름</td>\n",
       "      <td>기타 미용업</td>\n",
       "      <td>1857.142857</td>\n",
       "      <td>2016-06-01 13:13:00</td>\n",
       "      <td>13:13:00</td>\n",
       "      <td>1</td>\n",
       "      <td>6</td>\n",
       "      <td>지역</td>\n",
       "    </tr>\n",
       "    <tr>\n",
       "      <th>1</th>\n",
       "      <td>0</td>\n",
       "      <td>1</td>\n",
       "      <td>h</td>\n",
       "      <td>2016-06-01</td>\n",
       "      <td>18:12</td>\n",
       "      <td>0</td>\n",
       "      <td>지역 모름</td>\n",
       "      <td>기타 미용업</td>\n",
       "      <td>857.142857</td>\n",
       "      <td>2016-06-01 18:12:00</td>\n",
       "      <td>18:12:00</td>\n",
       "      <td>1</td>\n",
       "      <td>6</td>\n",
       "      <td>지역</td>\n",
       "    </tr>\n",
       "    <tr>\n",
       "      <th>2</th>\n",
       "      <td>0</td>\n",
       "      <td>2</td>\n",
       "      <td>c</td>\n",
       "      <td>2016-06-01</td>\n",
       "      <td>18:52</td>\n",
       "      <td>0</td>\n",
       "      <td>지역 모름</td>\n",
       "      <td>기타 미용업</td>\n",
       "      <td>2000.000000</td>\n",
       "      <td>2016-06-01 18:52:00</td>\n",
       "      <td>18:52:00</td>\n",
       "      <td>1</td>\n",
       "      <td>6</td>\n",
       "      <td>지역</td>\n",
       "    </tr>\n",
       "    <tr>\n",
       "      <th>3</th>\n",
       "      <td>0</td>\n",
       "      <td>3</td>\n",
       "      <td>a</td>\n",
       "      <td>2016-06-01</td>\n",
       "      <td>20:22</td>\n",
       "      <td>0</td>\n",
       "      <td>지역 모름</td>\n",
       "      <td>기타 미용업</td>\n",
       "      <td>7857.142857</td>\n",
       "      <td>2016-06-01 20:22:00</td>\n",
       "      <td>20:22:00</td>\n",
       "      <td>1</td>\n",
       "      <td>6</td>\n",
       "      <td>지역</td>\n",
       "    </tr>\n",
       "    <tr>\n",
       "      <th>4</th>\n",
       "      <td>0</td>\n",
       "      <td>4</td>\n",
       "      <td>c</td>\n",
       "      <td>2016-06-02</td>\n",
       "      <td>11:06</td>\n",
       "      <td>0</td>\n",
       "      <td>지역 모름</td>\n",
       "      <td>기타 미용업</td>\n",
       "      <td>2000.000000</td>\n",
       "      <td>2016-06-02 11:06:00</td>\n",
       "      <td>11:06:00</td>\n",
       "      <td>2</td>\n",
       "      <td>6</td>\n",
       "      <td>지역</td>\n",
       "    </tr>\n",
       "    <tr>\n",
       "      <th>...</th>\n",
       "      <td>...</td>\n",
       "      <td>...</td>\n",
       "      <td>...</td>\n",
       "      <td>...</td>\n",
       "      <td>...</td>\n",
       "      <td>...</td>\n",
       "      <td>...</td>\n",
       "      <td>...</td>\n",
       "      <td>...</td>\n",
       "      <td>...</td>\n",
       "      <td>...</td>\n",
       "      <td>...</td>\n",
       "      <td>...</td>\n",
       "      <td>...</td>\n",
       "    </tr>\n",
       "    <tr>\n",
       "      <th>6556608</th>\n",
       "      <td>2136</td>\n",
       "      <td>4663855</td>\n",
       "      <td>d</td>\n",
       "      <td>2019-02-28</td>\n",
       "      <td>23:20</td>\n",
       "      <td>0</td>\n",
       "      <td>제주 제주시</td>\n",
       "      <td>기타 주점업</td>\n",
       "      <td>-4500.000000</td>\n",
       "      <td>2019-02-28 23:20:00</td>\n",
       "      <td>23:20:00</td>\n",
       "      <td>28</td>\n",
       "      <td>2</td>\n",
       "      <td>제주</td>\n",
       "    </tr>\n",
       "    <tr>\n",
       "      <th>6556609</th>\n",
       "      <td>2136</td>\n",
       "      <td>4663855</td>\n",
       "      <td>d</td>\n",
       "      <td>2019-02-28</td>\n",
       "      <td>23:24</td>\n",
       "      <td>0</td>\n",
       "      <td>제주 제주시</td>\n",
       "      <td>기타 주점업</td>\n",
       "      <td>4142.857143</td>\n",
       "      <td>2019-02-28 23:24:00</td>\n",
       "      <td>23:24:00</td>\n",
       "      <td>28</td>\n",
       "      <td>2</td>\n",
       "      <td>제주</td>\n",
       "    </tr>\n",
       "    <tr>\n",
       "      <th>6556610</th>\n",
       "      <td>2136</td>\n",
       "      <td>4663489</td>\n",
       "      <td>a</td>\n",
       "      <td>2019-02-28</td>\n",
       "      <td>23:24</td>\n",
       "      <td>0</td>\n",
       "      <td>제주 제주시</td>\n",
       "      <td>기타 주점업</td>\n",
       "      <td>4500.000000</td>\n",
       "      <td>2019-02-28 23:24:00</td>\n",
       "      <td>23:24:00</td>\n",
       "      <td>28</td>\n",
       "      <td>2</td>\n",
       "      <td>제주</td>\n",
       "    </tr>\n",
       "    <tr>\n",
       "      <th>6556611</th>\n",
       "      <td>2136</td>\n",
       "      <td>4663856</td>\n",
       "      <td>d</td>\n",
       "      <td>2019-02-28</td>\n",
       "      <td>23:27</td>\n",
       "      <td>0</td>\n",
       "      <td>제주 제주시</td>\n",
       "      <td>기타 주점업</td>\n",
       "      <td>571.428571</td>\n",
       "      <td>2019-02-28 23:27:00</td>\n",
       "      <td>23:27:00</td>\n",
       "      <td>28</td>\n",
       "      <td>2</td>\n",
       "      <td>제주</td>\n",
       "    </tr>\n",
       "    <tr>\n",
       "      <th>6556612</th>\n",
       "      <td>2136</td>\n",
       "      <td>4658616</td>\n",
       "      <td>c</td>\n",
       "      <td>2019-02-28</td>\n",
       "      <td>23:54</td>\n",
       "      <td>0</td>\n",
       "      <td>제주 제주시</td>\n",
       "      <td>기타 주점업</td>\n",
       "      <td>5857.142857</td>\n",
       "      <td>2019-02-28 23:54:00</td>\n",
       "      <td>23:54:00</td>\n",
       "      <td>28</td>\n",
       "      <td>2</td>\n",
       "      <td>제주</td>\n",
       "    </tr>\n",
       "  </tbody>\n",
       "</table>\n",
       "<p>6556613 rows × 14 columns</p>\n",
       "</div>"
      ],
      "text/plain": [
       "         store_id  card_id card_company transacted_date transacted_time  \\\n",
       "0               0        0            b      2016-06-01           13:13   \n",
       "1               0        1            h      2016-06-01           18:12   \n",
       "2               0        2            c      2016-06-01           18:52   \n",
       "3               0        3            a      2016-06-01           20:22   \n",
       "4               0        4            c      2016-06-02           11:06   \n",
       "...           ...      ...          ...             ...             ...   \n",
       "6556608      2136  4663855            d      2019-02-28           23:20   \n",
       "6556609      2136  4663855            d      2019-02-28           23:24   \n",
       "6556610      2136  4663489            a      2019-02-28           23:24   \n",
       "6556611      2136  4663856            d      2019-02-28           23:27   \n",
       "6556612      2136  4658616            c      2019-02-28           23:54   \n",
       "\n",
       "         installment_term  region type_of_business       amount  \\\n",
       "0                       0   지역 모름           기타 미용업  1857.142857   \n",
       "1                       0   지역 모름           기타 미용업   857.142857   \n",
       "2                       0   지역 모름           기타 미용업  2000.000000   \n",
       "3                       0   지역 모름           기타 미용업  7857.142857   \n",
       "4                       0   지역 모름           기타 미용업  2000.000000   \n",
       "...                   ...     ...              ...          ...   \n",
       "6556608                 0  제주 제주시           기타 주점업 -4500.000000   \n",
       "6556609                 0  제주 제주시           기타 주점업  4142.857143   \n",
       "6556610                 0  제주 제주시           기타 주점업  4500.000000   \n",
       "6556611                 0  제주 제주시           기타 주점업   571.428571   \n",
       "6556612                 0  제주 제주시           기타 주점업  5857.142857   \n",
       "\n",
       "                   datetime      time  day  month 시도 구분  \n",
       "0       2016-06-01 13:13:00  13:13:00    1      6    지역  \n",
       "1       2016-06-01 18:12:00  18:12:00    1      6    지역  \n",
       "2       2016-06-01 18:52:00  18:52:00    1      6    지역  \n",
       "3       2016-06-01 20:22:00  20:22:00    1      6    지역  \n",
       "4       2016-06-02 11:06:00  11:06:00    2      6    지역  \n",
       "...                     ...       ...  ...    ...   ...  \n",
       "6556608 2019-02-28 23:20:00  23:20:00   28      2    제주  \n",
       "6556609 2019-02-28 23:24:00  23:24:00   28      2    제주  \n",
       "6556610 2019-02-28 23:24:00  23:24:00   28      2    제주  \n",
       "6556611 2019-02-28 23:27:00  23:27:00   28      2    제주  \n",
       "6556612 2019-02-28 23:54:00  23:54:00   28      2    제주  \n",
       "\n",
       "[6556613 rows x 14 columns]"
      ]
     },
     "metadata": {},
     "execution_count": 191
    }
   ],
   "metadata": {}
  },
  {
   "cell_type": "code",
   "execution_count": 115,
   "source": [
    "dataset['type_of_business'].value_counts()"
   ],
   "outputs": [
    {
     "output_type": "execute_result",
     "data": {
      "text/plain": [
       "업종 모름                       3952609\n",
       "한식 음식점업                      745905\n",
       "두발 미용업                       178475\n",
       "의복 소매업                       158234\n",
       "기타 주점업                       102413\n",
       "                             ...   \n",
       "곡물 및 기타 식량작물 재배업                569\n",
       "주방용품 및 가정용 유리, 요업 제품 소매업        551\n",
       "배전반 및 전기 자동제어반 제조업              533\n",
       "그 외 기타 생활용품 도매업                 519\n",
       "신선식품 및 단순 가공식품 도매업              231\n",
       "Name: type_of_business, Length: 146, dtype: int64"
      ]
     },
     "metadata": {},
     "execution_count": 115
    }
   ],
   "metadata": {}
  },
  {
   "cell_type": "code",
   "execution_count": 192,
   "source": [
    "def business_sales(business_type, datetimes): \r\n",
    "\r\n",
    "    \"\"\" parameter\r\n",
    "        business_type : dataset['type_of_business']에 있는 업종명을 넣어주세요.\r\n",
    "        datetimes : 셋 중에 하나를 선택하세요. time, day, month \r\n",
    "    \"\"\"\r\n",
    "    \r\n",
    "    dataset_ = dataset.loc[(dataset['시도 구분'] == business_type), ['amount',datetimes]]\r\n",
    "    group = dataset_['amount'].groupby(dataset_[datetimes]) \r\n",
    "\r\n",
    "    fig = px.line(group.sum(), title = business_type + \" 매출\")\r\n",
    "    fig.show()"
   ],
   "outputs": [],
   "metadata": {}
  },
  {
   "cell_type": "code",
   "execution_count": 195,
   "source": [
    "# '기타 주점업' , '한식 음식점업', '치킨 전문점' ,'한복 소매업','수영장 운영업'\r\n",
    "business_sales('강원','month')"
   ],
   "outputs": [
    {
     "output_type": "display_data",
     "data": {
      "application/vnd.plotly.v1+json": {
       "config": {
        "plotlyServerURL": "https://plotly.com"
       },
       "data": [
        {
         "hovertemplate": "variable=amount<br>month=%{x}<br>value=%{y}<extra></extra>",
         "legendgroup": "amount",
         "line": {
          "color": "#636efa",
          "dash": "solid"
         },
         "marker": {
          "symbol": "circle"
         },
         "mode": "lines",
         "name": "amount",
         "orientation": "v",
         "showlegend": true,
         "type": "scatter",
         "x": [
          1,
          2,
          3,
          4,
          5,
          6,
          7,
          8,
          9,
          10,
          11,
          12
         ],
         "xaxis": "x",
         "y": [
          162891071.00000077,
          143836981.7142876,
          115582427.14285702,
          108324964.42857,
          112403638.5714278,
          148965859.571429,
          154913711.00000086,
          160045911.00000098,
          157063096.285714,
          163924964.14285702,
          183266682.42857462,
          182623534.42857337
         ],
         "yaxis": "y"
        }
       ],
       "layout": {
        "legend": {
         "title": {
          "text": "variable"
         },
         "tracegroupgap": 0
        },
        "template": {
         "data": {
          "bar": [
           {
            "error_x": {
             "color": "#2a3f5f"
            },
            "error_y": {
             "color": "#2a3f5f"
            },
            "marker": {
             "line": {
              "color": "#E5ECF6",
              "width": 0.5
             },
             "pattern": {
              "fillmode": "overlay",
              "size": 10,
              "solidity": 0.2
             }
            },
            "type": "bar"
           }
          ],
          "barpolar": [
           {
            "marker": {
             "line": {
              "color": "#E5ECF6",
              "width": 0.5
             },
             "pattern": {
              "fillmode": "overlay",
              "size": 10,
              "solidity": 0.2
             }
            },
            "type": "barpolar"
           }
          ],
          "carpet": [
           {
            "aaxis": {
             "endlinecolor": "#2a3f5f",
             "gridcolor": "white",
             "linecolor": "white",
             "minorgridcolor": "white",
             "startlinecolor": "#2a3f5f"
            },
            "baxis": {
             "endlinecolor": "#2a3f5f",
             "gridcolor": "white",
             "linecolor": "white",
             "minorgridcolor": "white",
             "startlinecolor": "#2a3f5f"
            },
            "type": "carpet"
           }
          ],
          "choropleth": [
           {
            "colorbar": {
             "outlinewidth": 0,
             "ticks": ""
            },
            "type": "choropleth"
           }
          ],
          "contour": [
           {
            "colorbar": {
             "outlinewidth": 0,
             "ticks": ""
            },
            "colorscale": [
             [
              0,
              "#0d0887"
             ],
             [
              0.1111111111111111,
              "#46039f"
             ],
             [
              0.2222222222222222,
              "#7201a8"
             ],
             [
              0.3333333333333333,
              "#9c179e"
             ],
             [
              0.4444444444444444,
              "#bd3786"
             ],
             [
              0.5555555555555556,
              "#d8576b"
             ],
             [
              0.6666666666666666,
              "#ed7953"
             ],
             [
              0.7777777777777778,
              "#fb9f3a"
             ],
             [
              0.8888888888888888,
              "#fdca26"
             ],
             [
              1,
              "#f0f921"
             ]
            ],
            "type": "contour"
           }
          ],
          "contourcarpet": [
           {
            "colorbar": {
             "outlinewidth": 0,
             "ticks": ""
            },
            "type": "contourcarpet"
           }
          ],
          "heatmap": [
           {
            "colorbar": {
             "outlinewidth": 0,
             "ticks": ""
            },
            "colorscale": [
             [
              0,
              "#0d0887"
             ],
             [
              0.1111111111111111,
              "#46039f"
             ],
             [
              0.2222222222222222,
              "#7201a8"
             ],
             [
              0.3333333333333333,
              "#9c179e"
             ],
             [
              0.4444444444444444,
              "#bd3786"
             ],
             [
              0.5555555555555556,
              "#d8576b"
             ],
             [
              0.6666666666666666,
              "#ed7953"
             ],
             [
              0.7777777777777778,
              "#fb9f3a"
             ],
             [
              0.8888888888888888,
              "#fdca26"
             ],
             [
              1,
              "#f0f921"
             ]
            ],
            "type": "heatmap"
           }
          ],
          "heatmapgl": [
           {
            "colorbar": {
             "outlinewidth": 0,
             "ticks": ""
            },
            "colorscale": [
             [
              0,
              "#0d0887"
             ],
             [
              0.1111111111111111,
              "#46039f"
             ],
             [
              0.2222222222222222,
              "#7201a8"
             ],
             [
              0.3333333333333333,
              "#9c179e"
             ],
             [
              0.4444444444444444,
              "#bd3786"
             ],
             [
              0.5555555555555556,
              "#d8576b"
             ],
             [
              0.6666666666666666,
              "#ed7953"
             ],
             [
              0.7777777777777778,
              "#fb9f3a"
             ],
             [
              0.8888888888888888,
              "#fdca26"
             ],
             [
              1,
              "#f0f921"
             ]
            ],
            "type": "heatmapgl"
           }
          ],
          "histogram": [
           {
            "marker": {
             "pattern": {
              "fillmode": "overlay",
              "size": 10,
              "solidity": 0.2
             }
            },
            "type": "histogram"
           }
          ],
          "histogram2d": [
           {
            "colorbar": {
             "outlinewidth": 0,
             "ticks": ""
            },
            "colorscale": [
             [
              0,
              "#0d0887"
             ],
             [
              0.1111111111111111,
              "#46039f"
             ],
             [
              0.2222222222222222,
              "#7201a8"
             ],
             [
              0.3333333333333333,
              "#9c179e"
             ],
             [
              0.4444444444444444,
              "#bd3786"
             ],
             [
              0.5555555555555556,
              "#d8576b"
             ],
             [
              0.6666666666666666,
              "#ed7953"
             ],
             [
              0.7777777777777778,
              "#fb9f3a"
             ],
             [
              0.8888888888888888,
              "#fdca26"
             ],
             [
              1,
              "#f0f921"
             ]
            ],
            "type": "histogram2d"
           }
          ],
          "histogram2dcontour": [
           {
            "colorbar": {
             "outlinewidth": 0,
             "ticks": ""
            },
            "colorscale": [
             [
              0,
              "#0d0887"
             ],
             [
              0.1111111111111111,
              "#46039f"
             ],
             [
              0.2222222222222222,
              "#7201a8"
             ],
             [
              0.3333333333333333,
              "#9c179e"
             ],
             [
              0.4444444444444444,
              "#bd3786"
             ],
             [
              0.5555555555555556,
              "#d8576b"
             ],
             [
              0.6666666666666666,
              "#ed7953"
             ],
             [
              0.7777777777777778,
              "#fb9f3a"
             ],
             [
              0.8888888888888888,
              "#fdca26"
             ],
             [
              1,
              "#f0f921"
             ]
            ],
            "type": "histogram2dcontour"
           }
          ],
          "mesh3d": [
           {
            "colorbar": {
             "outlinewidth": 0,
             "ticks": ""
            },
            "type": "mesh3d"
           }
          ],
          "parcoords": [
           {
            "line": {
             "colorbar": {
              "outlinewidth": 0,
              "ticks": ""
             }
            },
            "type": "parcoords"
           }
          ],
          "pie": [
           {
            "automargin": true,
            "type": "pie"
           }
          ],
          "scatter": [
           {
            "marker": {
             "colorbar": {
              "outlinewidth": 0,
              "ticks": ""
             }
            },
            "type": "scatter"
           }
          ],
          "scatter3d": [
           {
            "line": {
             "colorbar": {
              "outlinewidth": 0,
              "ticks": ""
             }
            },
            "marker": {
             "colorbar": {
              "outlinewidth": 0,
              "ticks": ""
             }
            },
            "type": "scatter3d"
           }
          ],
          "scattercarpet": [
           {
            "marker": {
             "colorbar": {
              "outlinewidth": 0,
              "ticks": ""
             }
            },
            "type": "scattercarpet"
           }
          ],
          "scattergeo": [
           {
            "marker": {
             "colorbar": {
              "outlinewidth": 0,
              "ticks": ""
             }
            },
            "type": "scattergeo"
           }
          ],
          "scattergl": [
           {
            "marker": {
             "colorbar": {
              "outlinewidth": 0,
              "ticks": ""
             }
            },
            "type": "scattergl"
           }
          ],
          "scattermapbox": [
           {
            "marker": {
             "colorbar": {
              "outlinewidth": 0,
              "ticks": ""
             }
            },
            "type": "scattermapbox"
           }
          ],
          "scatterpolar": [
           {
            "marker": {
             "colorbar": {
              "outlinewidth": 0,
              "ticks": ""
             }
            },
            "type": "scatterpolar"
           }
          ],
          "scatterpolargl": [
           {
            "marker": {
             "colorbar": {
              "outlinewidth": 0,
              "ticks": ""
             }
            },
            "type": "scatterpolargl"
           }
          ],
          "scatterternary": [
           {
            "marker": {
             "colorbar": {
              "outlinewidth": 0,
              "ticks": ""
             }
            },
            "type": "scatterternary"
           }
          ],
          "surface": [
           {
            "colorbar": {
             "outlinewidth": 0,
             "ticks": ""
            },
            "colorscale": [
             [
              0,
              "#0d0887"
             ],
             [
              0.1111111111111111,
              "#46039f"
             ],
             [
              0.2222222222222222,
              "#7201a8"
             ],
             [
              0.3333333333333333,
              "#9c179e"
             ],
             [
              0.4444444444444444,
              "#bd3786"
             ],
             [
              0.5555555555555556,
              "#d8576b"
             ],
             [
              0.6666666666666666,
              "#ed7953"
             ],
             [
              0.7777777777777778,
              "#fb9f3a"
             ],
             [
              0.8888888888888888,
              "#fdca26"
             ],
             [
              1,
              "#f0f921"
             ]
            ],
            "type": "surface"
           }
          ],
          "table": [
           {
            "cells": {
             "fill": {
              "color": "#EBF0F8"
             },
             "line": {
              "color": "white"
             }
            },
            "header": {
             "fill": {
              "color": "#C8D4E3"
             },
             "line": {
              "color": "white"
             }
            },
            "type": "table"
           }
          ]
         },
         "layout": {
          "annotationdefaults": {
           "arrowcolor": "#2a3f5f",
           "arrowhead": 0,
           "arrowwidth": 1
          },
          "autotypenumbers": "strict",
          "coloraxis": {
           "colorbar": {
            "outlinewidth": 0,
            "ticks": ""
           }
          },
          "colorscale": {
           "diverging": [
            [
             0,
             "#8e0152"
            ],
            [
             0.1,
             "#c51b7d"
            ],
            [
             0.2,
             "#de77ae"
            ],
            [
             0.3,
             "#f1b6da"
            ],
            [
             0.4,
             "#fde0ef"
            ],
            [
             0.5,
             "#f7f7f7"
            ],
            [
             0.6,
             "#e6f5d0"
            ],
            [
             0.7,
             "#b8e186"
            ],
            [
             0.8,
             "#7fbc41"
            ],
            [
             0.9,
             "#4d9221"
            ],
            [
             1,
             "#276419"
            ]
           ],
           "sequential": [
            [
             0,
             "#0d0887"
            ],
            [
             0.1111111111111111,
             "#46039f"
            ],
            [
             0.2222222222222222,
             "#7201a8"
            ],
            [
             0.3333333333333333,
             "#9c179e"
            ],
            [
             0.4444444444444444,
             "#bd3786"
            ],
            [
             0.5555555555555556,
             "#d8576b"
            ],
            [
             0.6666666666666666,
             "#ed7953"
            ],
            [
             0.7777777777777778,
             "#fb9f3a"
            ],
            [
             0.8888888888888888,
             "#fdca26"
            ],
            [
             1,
             "#f0f921"
            ]
           ],
           "sequentialminus": [
            [
             0,
             "#0d0887"
            ],
            [
             0.1111111111111111,
             "#46039f"
            ],
            [
             0.2222222222222222,
             "#7201a8"
            ],
            [
             0.3333333333333333,
             "#9c179e"
            ],
            [
             0.4444444444444444,
             "#bd3786"
            ],
            [
             0.5555555555555556,
             "#d8576b"
            ],
            [
             0.6666666666666666,
             "#ed7953"
            ],
            [
             0.7777777777777778,
             "#fb9f3a"
            ],
            [
             0.8888888888888888,
             "#fdca26"
            ],
            [
             1,
             "#f0f921"
            ]
           ]
          },
          "colorway": [
           "#636efa",
           "#EF553B",
           "#00cc96",
           "#ab63fa",
           "#FFA15A",
           "#19d3f3",
           "#FF6692",
           "#B6E880",
           "#FF97FF",
           "#FECB52"
          ],
          "font": {
           "color": "#2a3f5f"
          },
          "geo": {
           "bgcolor": "white",
           "lakecolor": "white",
           "landcolor": "#E5ECF6",
           "showlakes": true,
           "showland": true,
           "subunitcolor": "white"
          },
          "hoverlabel": {
           "align": "left"
          },
          "hovermode": "closest",
          "mapbox": {
           "style": "light"
          },
          "paper_bgcolor": "white",
          "plot_bgcolor": "#E5ECF6",
          "polar": {
           "angularaxis": {
            "gridcolor": "white",
            "linecolor": "white",
            "ticks": ""
           },
           "bgcolor": "#E5ECF6",
           "radialaxis": {
            "gridcolor": "white",
            "linecolor": "white",
            "ticks": ""
           }
          },
          "scene": {
           "xaxis": {
            "backgroundcolor": "#E5ECF6",
            "gridcolor": "white",
            "gridwidth": 2,
            "linecolor": "white",
            "showbackground": true,
            "ticks": "",
            "zerolinecolor": "white"
           },
           "yaxis": {
            "backgroundcolor": "#E5ECF6",
            "gridcolor": "white",
            "gridwidth": 2,
            "linecolor": "white",
            "showbackground": true,
            "ticks": "",
            "zerolinecolor": "white"
           },
           "zaxis": {
            "backgroundcolor": "#E5ECF6",
            "gridcolor": "white",
            "gridwidth": 2,
            "linecolor": "white",
            "showbackground": true,
            "ticks": "",
            "zerolinecolor": "white"
           }
          },
          "shapedefaults": {
           "line": {
            "color": "#2a3f5f"
           }
          },
          "ternary": {
           "aaxis": {
            "gridcolor": "white",
            "linecolor": "white",
            "ticks": ""
           },
           "baxis": {
            "gridcolor": "white",
            "linecolor": "white",
            "ticks": ""
           },
           "bgcolor": "#E5ECF6",
           "caxis": {
            "gridcolor": "white",
            "linecolor": "white",
            "ticks": ""
           }
          },
          "title": {
           "x": 0.05
          },
          "xaxis": {
           "automargin": true,
           "gridcolor": "white",
           "linecolor": "white",
           "ticks": "",
           "title": {
            "standoff": 15
           },
           "zerolinecolor": "white",
           "zerolinewidth": 2
          },
          "yaxis": {
           "automargin": true,
           "gridcolor": "white",
           "linecolor": "white",
           "ticks": "",
           "title": {
            "standoff": 15
           },
           "zerolinecolor": "white",
           "zerolinewidth": 2
          }
         }
        },
        "title": {
         "text": "강원 매출"
        },
        "xaxis": {
         "anchor": "y",
         "domain": [
          0,
          1
         ],
         "title": {
          "text": "month"
         }
        },
        "yaxis": {
         "anchor": "x",
         "domain": [
          0,
          1
         ],
         "title": {
          "text": "value"
         }
        }
       }
      }
     },
     "metadata": {}
    }
   ],
   "metadata": {}
  },
  {
   "cell_type": "code",
   "execution_count": 196,
   "source": [
    "business_sales('부산','month')"
   ],
   "outputs": [
    {
     "output_type": "display_data",
     "data": {
      "application/vnd.plotly.v1+json": {
       "config": {
        "plotlyServerURL": "https://plotly.com"
       },
       "data": [
        {
         "hovertemplate": "variable=amount<br>month=%{x}<br>value=%{y}<extra></extra>",
         "legendgroup": "amount",
         "line": {
          "color": "#636efa",
          "dash": "solid"
         },
         "marker": {
          "symbol": "circle"
         },
         "mode": "lines",
         "name": "amount",
         "orientation": "v",
         "showlegend": true,
         "type": "scatter",
         "x": [
          1,
          2,
          3,
          4,
          5,
          6,
          7,
          8,
          9,
          10,
          11,
          12
         ],
         "xaxis": "x",
         "y": [
          351970406.4285742,
          338570915.8571457,
          266218146.71428537,
          267921176.00000185,
          283193027.142857,
          372767033.8571418,
          368358624.5714268,
          384852385.1428563,
          358454600.2857124,
          355193384.5714289,
          349829888.1428559,
          379208997.57143027
         ],
         "yaxis": "y"
        }
       ],
       "layout": {
        "legend": {
         "title": {
          "text": "variable"
         },
         "tracegroupgap": 0
        },
        "template": {
         "data": {
          "bar": [
           {
            "error_x": {
             "color": "#2a3f5f"
            },
            "error_y": {
             "color": "#2a3f5f"
            },
            "marker": {
             "line": {
              "color": "#E5ECF6",
              "width": 0.5
             },
             "pattern": {
              "fillmode": "overlay",
              "size": 10,
              "solidity": 0.2
             }
            },
            "type": "bar"
           }
          ],
          "barpolar": [
           {
            "marker": {
             "line": {
              "color": "#E5ECF6",
              "width": 0.5
             },
             "pattern": {
              "fillmode": "overlay",
              "size": 10,
              "solidity": 0.2
             }
            },
            "type": "barpolar"
           }
          ],
          "carpet": [
           {
            "aaxis": {
             "endlinecolor": "#2a3f5f",
             "gridcolor": "white",
             "linecolor": "white",
             "minorgridcolor": "white",
             "startlinecolor": "#2a3f5f"
            },
            "baxis": {
             "endlinecolor": "#2a3f5f",
             "gridcolor": "white",
             "linecolor": "white",
             "minorgridcolor": "white",
             "startlinecolor": "#2a3f5f"
            },
            "type": "carpet"
           }
          ],
          "choropleth": [
           {
            "colorbar": {
             "outlinewidth": 0,
             "ticks": ""
            },
            "type": "choropleth"
           }
          ],
          "contour": [
           {
            "colorbar": {
             "outlinewidth": 0,
             "ticks": ""
            },
            "colorscale": [
             [
              0,
              "#0d0887"
             ],
             [
              0.1111111111111111,
              "#46039f"
             ],
             [
              0.2222222222222222,
              "#7201a8"
             ],
             [
              0.3333333333333333,
              "#9c179e"
             ],
             [
              0.4444444444444444,
              "#bd3786"
             ],
             [
              0.5555555555555556,
              "#d8576b"
             ],
             [
              0.6666666666666666,
              "#ed7953"
             ],
             [
              0.7777777777777778,
              "#fb9f3a"
             ],
             [
              0.8888888888888888,
              "#fdca26"
             ],
             [
              1,
              "#f0f921"
             ]
            ],
            "type": "contour"
           }
          ],
          "contourcarpet": [
           {
            "colorbar": {
             "outlinewidth": 0,
             "ticks": ""
            },
            "type": "contourcarpet"
           }
          ],
          "heatmap": [
           {
            "colorbar": {
             "outlinewidth": 0,
             "ticks": ""
            },
            "colorscale": [
             [
              0,
              "#0d0887"
             ],
             [
              0.1111111111111111,
              "#46039f"
             ],
             [
              0.2222222222222222,
              "#7201a8"
             ],
             [
              0.3333333333333333,
              "#9c179e"
             ],
             [
              0.4444444444444444,
              "#bd3786"
             ],
             [
              0.5555555555555556,
              "#d8576b"
             ],
             [
              0.6666666666666666,
              "#ed7953"
             ],
             [
              0.7777777777777778,
              "#fb9f3a"
             ],
             [
              0.8888888888888888,
              "#fdca26"
             ],
             [
              1,
              "#f0f921"
             ]
            ],
            "type": "heatmap"
           }
          ],
          "heatmapgl": [
           {
            "colorbar": {
             "outlinewidth": 0,
             "ticks": ""
            },
            "colorscale": [
             [
              0,
              "#0d0887"
             ],
             [
              0.1111111111111111,
              "#46039f"
             ],
             [
              0.2222222222222222,
              "#7201a8"
             ],
             [
              0.3333333333333333,
              "#9c179e"
             ],
             [
              0.4444444444444444,
              "#bd3786"
             ],
             [
              0.5555555555555556,
              "#d8576b"
             ],
             [
              0.6666666666666666,
              "#ed7953"
             ],
             [
              0.7777777777777778,
              "#fb9f3a"
             ],
             [
              0.8888888888888888,
              "#fdca26"
             ],
             [
              1,
              "#f0f921"
             ]
            ],
            "type": "heatmapgl"
           }
          ],
          "histogram": [
           {
            "marker": {
             "pattern": {
              "fillmode": "overlay",
              "size": 10,
              "solidity": 0.2
             }
            },
            "type": "histogram"
           }
          ],
          "histogram2d": [
           {
            "colorbar": {
             "outlinewidth": 0,
             "ticks": ""
            },
            "colorscale": [
             [
              0,
              "#0d0887"
             ],
             [
              0.1111111111111111,
              "#46039f"
             ],
             [
              0.2222222222222222,
              "#7201a8"
             ],
             [
              0.3333333333333333,
              "#9c179e"
             ],
             [
              0.4444444444444444,
              "#bd3786"
             ],
             [
              0.5555555555555556,
              "#d8576b"
             ],
             [
              0.6666666666666666,
              "#ed7953"
             ],
             [
              0.7777777777777778,
              "#fb9f3a"
             ],
             [
              0.8888888888888888,
              "#fdca26"
             ],
             [
              1,
              "#f0f921"
             ]
            ],
            "type": "histogram2d"
           }
          ],
          "histogram2dcontour": [
           {
            "colorbar": {
             "outlinewidth": 0,
             "ticks": ""
            },
            "colorscale": [
             [
              0,
              "#0d0887"
             ],
             [
              0.1111111111111111,
              "#46039f"
             ],
             [
              0.2222222222222222,
              "#7201a8"
             ],
             [
              0.3333333333333333,
              "#9c179e"
             ],
             [
              0.4444444444444444,
              "#bd3786"
             ],
             [
              0.5555555555555556,
              "#d8576b"
             ],
             [
              0.6666666666666666,
              "#ed7953"
             ],
             [
              0.7777777777777778,
              "#fb9f3a"
             ],
             [
              0.8888888888888888,
              "#fdca26"
             ],
             [
              1,
              "#f0f921"
             ]
            ],
            "type": "histogram2dcontour"
           }
          ],
          "mesh3d": [
           {
            "colorbar": {
             "outlinewidth": 0,
             "ticks": ""
            },
            "type": "mesh3d"
           }
          ],
          "parcoords": [
           {
            "line": {
             "colorbar": {
              "outlinewidth": 0,
              "ticks": ""
             }
            },
            "type": "parcoords"
           }
          ],
          "pie": [
           {
            "automargin": true,
            "type": "pie"
           }
          ],
          "scatter": [
           {
            "marker": {
             "colorbar": {
              "outlinewidth": 0,
              "ticks": ""
             }
            },
            "type": "scatter"
           }
          ],
          "scatter3d": [
           {
            "line": {
             "colorbar": {
              "outlinewidth": 0,
              "ticks": ""
             }
            },
            "marker": {
             "colorbar": {
              "outlinewidth": 0,
              "ticks": ""
             }
            },
            "type": "scatter3d"
           }
          ],
          "scattercarpet": [
           {
            "marker": {
             "colorbar": {
              "outlinewidth": 0,
              "ticks": ""
             }
            },
            "type": "scattercarpet"
           }
          ],
          "scattergeo": [
           {
            "marker": {
             "colorbar": {
              "outlinewidth": 0,
              "ticks": ""
             }
            },
            "type": "scattergeo"
           }
          ],
          "scattergl": [
           {
            "marker": {
             "colorbar": {
              "outlinewidth": 0,
              "ticks": ""
             }
            },
            "type": "scattergl"
           }
          ],
          "scattermapbox": [
           {
            "marker": {
             "colorbar": {
              "outlinewidth": 0,
              "ticks": ""
             }
            },
            "type": "scattermapbox"
           }
          ],
          "scatterpolar": [
           {
            "marker": {
             "colorbar": {
              "outlinewidth": 0,
              "ticks": ""
             }
            },
            "type": "scatterpolar"
           }
          ],
          "scatterpolargl": [
           {
            "marker": {
             "colorbar": {
              "outlinewidth": 0,
              "ticks": ""
             }
            },
            "type": "scatterpolargl"
           }
          ],
          "scatterternary": [
           {
            "marker": {
             "colorbar": {
              "outlinewidth": 0,
              "ticks": ""
             }
            },
            "type": "scatterternary"
           }
          ],
          "surface": [
           {
            "colorbar": {
             "outlinewidth": 0,
             "ticks": ""
            },
            "colorscale": [
             [
              0,
              "#0d0887"
             ],
             [
              0.1111111111111111,
              "#46039f"
             ],
             [
              0.2222222222222222,
              "#7201a8"
             ],
             [
              0.3333333333333333,
              "#9c179e"
             ],
             [
              0.4444444444444444,
              "#bd3786"
             ],
             [
              0.5555555555555556,
              "#d8576b"
             ],
             [
              0.6666666666666666,
              "#ed7953"
             ],
             [
              0.7777777777777778,
              "#fb9f3a"
             ],
             [
              0.8888888888888888,
              "#fdca26"
             ],
             [
              1,
              "#f0f921"
             ]
            ],
            "type": "surface"
           }
          ],
          "table": [
           {
            "cells": {
             "fill": {
              "color": "#EBF0F8"
             },
             "line": {
              "color": "white"
             }
            },
            "header": {
             "fill": {
              "color": "#C8D4E3"
             },
             "line": {
              "color": "white"
             }
            },
            "type": "table"
           }
          ]
         },
         "layout": {
          "annotationdefaults": {
           "arrowcolor": "#2a3f5f",
           "arrowhead": 0,
           "arrowwidth": 1
          },
          "autotypenumbers": "strict",
          "coloraxis": {
           "colorbar": {
            "outlinewidth": 0,
            "ticks": ""
           }
          },
          "colorscale": {
           "diverging": [
            [
             0,
             "#8e0152"
            ],
            [
             0.1,
             "#c51b7d"
            ],
            [
             0.2,
             "#de77ae"
            ],
            [
             0.3,
             "#f1b6da"
            ],
            [
             0.4,
             "#fde0ef"
            ],
            [
             0.5,
             "#f7f7f7"
            ],
            [
             0.6,
             "#e6f5d0"
            ],
            [
             0.7,
             "#b8e186"
            ],
            [
             0.8,
             "#7fbc41"
            ],
            [
             0.9,
             "#4d9221"
            ],
            [
             1,
             "#276419"
            ]
           ],
           "sequential": [
            [
             0,
             "#0d0887"
            ],
            [
             0.1111111111111111,
             "#46039f"
            ],
            [
             0.2222222222222222,
             "#7201a8"
            ],
            [
             0.3333333333333333,
             "#9c179e"
            ],
            [
             0.4444444444444444,
             "#bd3786"
            ],
            [
             0.5555555555555556,
             "#d8576b"
            ],
            [
             0.6666666666666666,
             "#ed7953"
            ],
            [
             0.7777777777777778,
             "#fb9f3a"
            ],
            [
             0.8888888888888888,
             "#fdca26"
            ],
            [
             1,
             "#f0f921"
            ]
           ],
           "sequentialminus": [
            [
             0,
             "#0d0887"
            ],
            [
             0.1111111111111111,
             "#46039f"
            ],
            [
             0.2222222222222222,
             "#7201a8"
            ],
            [
             0.3333333333333333,
             "#9c179e"
            ],
            [
             0.4444444444444444,
             "#bd3786"
            ],
            [
             0.5555555555555556,
             "#d8576b"
            ],
            [
             0.6666666666666666,
             "#ed7953"
            ],
            [
             0.7777777777777778,
             "#fb9f3a"
            ],
            [
             0.8888888888888888,
             "#fdca26"
            ],
            [
             1,
             "#f0f921"
            ]
           ]
          },
          "colorway": [
           "#636efa",
           "#EF553B",
           "#00cc96",
           "#ab63fa",
           "#FFA15A",
           "#19d3f3",
           "#FF6692",
           "#B6E880",
           "#FF97FF",
           "#FECB52"
          ],
          "font": {
           "color": "#2a3f5f"
          },
          "geo": {
           "bgcolor": "white",
           "lakecolor": "white",
           "landcolor": "#E5ECF6",
           "showlakes": true,
           "showland": true,
           "subunitcolor": "white"
          },
          "hoverlabel": {
           "align": "left"
          },
          "hovermode": "closest",
          "mapbox": {
           "style": "light"
          },
          "paper_bgcolor": "white",
          "plot_bgcolor": "#E5ECF6",
          "polar": {
           "angularaxis": {
            "gridcolor": "white",
            "linecolor": "white",
            "ticks": ""
           },
           "bgcolor": "#E5ECF6",
           "radialaxis": {
            "gridcolor": "white",
            "linecolor": "white",
            "ticks": ""
           }
          },
          "scene": {
           "xaxis": {
            "backgroundcolor": "#E5ECF6",
            "gridcolor": "white",
            "gridwidth": 2,
            "linecolor": "white",
            "showbackground": true,
            "ticks": "",
            "zerolinecolor": "white"
           },
           "yaxis": {
            "backgroundcolor": "#E5ECF6",
            "gridcolor": "white",
            "gridwidth": 2,
            "linecolor": "white",
            "showbackground": true,
            "ticks": "",
            "zerolinecolor": "white"
           },
           "zaxis": {
            "backgroundcolor": "#E5ECF6",
            "gridcolor": "white",
            "gridwidth": 2,
            "linecolor": "white",
            "showbackground": true,
            "ticks": "",
            "zerolinecolor": "white"
           }
          },
          "shapedefaults": {
           "line": {
            "color": "#2a3f5f"
           }
          },
          "ternary": {
           "aaxis": {
            "gridcolor": "white",
            "linecolor": "white",
            "ticks": ""
           },
           "baxis": {
            "gridcolor": "white",
            "linecolor": "white",
            "ticks": ""
           },
           "bgcolor": "#E5ECF6",
           "caxis": {
            "gridcolor": "white",
            "linecolor": "white",
            "ticks": ""
           }
          },
          "title": {
           "x": 0.05
          },
          "xaxis": {
           "automargin": true,
           "gridcolor": "white",
           "linecolor": "white",
           "ticks": "",
           "title": {
            "standoff": 15
           },
           "zerolinecolor": "white",
           "zerolinewidth": 2
          },
          "yaxis": {
           "automargin": true,
           "gridcolor": "white",
           "linecolor": "white",
           "ticks": "",
           "title": {
            "standoff": 15
           },
           "zerolinecolor": "white",
           "zerolinewidth": 2
          }
         }
        },
        "title": {
         "text": "부산 매출"
        },
        "xaxis": {
         "anchor": "y",
         "domain": [
          0,
          1
         ],
         "title": {
          "text": "month"
         }
        },
        "yaxis": {
         "anchor": "x",
         "domain": [
          0,
          1
         ],
         "title": {
          "text": "value"
         }
        }
       }
      }
     },
     "metadata": {}
    }
   ],
   "metadata": {}
  },
  {
   "cell_type": "code",
   "execution_count": 123,
   "source": [
    "drop_features = ['store_id', 'card_id', 'card_company', 'transacted_date',\r\n",
    "       'transacted_time', 'installment_term', 'region', 'type_of_business','datetime']\r\n",
    "\r\n",
    "#dataset_time = dataset_time.set_index('time')\r\n",
    "dataset_times = dataset.drop(drop_features, axis=1)\r\n",
    "dataset_times = dataset_times.sort_values(by=['time'], axis=0, ascending=True)"
   ],
   "outputs": [],
   "metadata": {}
  },
  {
   "cell_type": "code",
   "execution_count": 91,
   "source": [
    "dataset_times"
   ],
   "outputs": [
    {
     "output_type": "execute_result",
     "data": {
      "text/html": [
       "<div>\n",
       "<style scoped>\n",
       "    .dataframe tbody tr th:only-of-type {\n",
       "        vertical-align: middle;\n",
       "    }\n",
       "\n",
       "    .dataframe tbody tr th {\n",
       "        vertical-align: top;\n",
       "    }\n",
       "\n",
       "    .dataframe thead th {\n",
       "        text-align: right;\n",
       "    }\n",
       "</style>\n",
       "<table border=\"1\" class=\"dataframe\">\n",
       "  <thead>\n",
       "    <tr style=\"text-align: right;\">\n",
       "      <th></th>\n",
       "      <th>amount</th>\n",
       "      <th>time</th>\n",
       "      <th>day</th>\n",
       "      <th>month</th>\n",
       "    </tr>\n",
       "  </thead>\n",
       "  <tbody>\n",
       "    <tr>\n",
       "      <th>3093263</th>\n",
       "      <td>3428.571429</td>\n",
       "      <td>00:00:00</td>\n",
       "      <td>21</td>\n",
       "      <td>10</td>\n",
       "    </tr>\n",
       "    <tr>\n",
       "      <th>4985328</th>\n",
       "      <td>4714.285714</td>\n",
       "      <td>00:00:00</td>\n",
       "      <td>8</td>\n",
       "      <td>1</td>\n",
       "    </tr>\n",
       "    <tr>\n",
       "      <th>3537062</th>\n",
       "      <td>21428.571429</td>\n",
       "      <td>00:00:00</td>\n",
       "      <td>19</td>\n",
       "      <td>7</td>\n",
       "    </tr>\n",
       "    <tr>\n",
       "      <th>327899</th>\n",
       "      <td>1142.857143</td>\n",
       "      <td>00:00:00</td>\n",
       "      <td>20</td>\n",
       "      <td>7</td>\n",
       "    </tr>\n",
       "    <tr>\n",
       "      <th>5932538</th>\n",
       "      <td>12428.571429</td>\n",
       "      <td>00:00:00</td>\n",
       "      <td>2</td>\n",
       "      <td>11</td>\n",
       "    </tr>\n",
       "    <tr>\n",
       "      <th>...</th>\n",
       "      <td>...</td>\n",
       "      <td>...</td>\n",
       "      <td>...</td>\n",
       "      <td>...</td>\n",
       "    </tr>\n",
       "    <tr>\n",
       "      <th>182103</th>\n",
       "      <td>14285.714286</td>\n",
       "      <td>23:59:00</td>\n",
       "      <td>2</td>\n",
       "      <td>11</td>\n",
       "    </tr>\n",
       "    <tr>\n",
       "      <th>21988</th>\n",
       "      <td>5285.714286</td>\n",
       "      <td>23:59:00</td>\n",
       "      <td>4</td>\n",
       "      <td>7</td>\n",
       "    </tr>\n",
       "    <tr>\n",
       "      <th>1647177</th>\n",
       "      <td>39785.714286</td>\n",
       "      <td>23:59:00</td>\n",
       "      <td>30</td>\n",
       "      <td>11</td>\n",
       "    </tr>\n",
       "    <tr>\n",
       "      <th>1720597</th>\n",
       "      <td>12285.714286</td>\n",
       "      <td>23:59:00</td>\n",
       "      <td>18</td>\n",
       "      <td>10</td>\n",
       "    </tr>\n",
       "    <tr>\n",
       "      <th>4013874</th>\n",
       "      <td>9714.285714</td>\n",
       "      <td>23:59:00</td>\n",
       "      <td>5</td>\n",
       "      <td>11</td>\n",
       "    </tr>\n",
       "  </tbody>\n",
       "</table>\n",
       "<p>6556613 rows × 4 columns</p>\n",
       "</div>"
      ],
      "text/plain": [
       "               amount      time  day  month\n",
       "3093263   3428.571429  00:00:00   21     10\n",
       "4985328   4714.285714  00:00:00    8      1\n",
       "3537062  21428.571429  00:00:00   19      7\n",
       "327899    1142.857143  00:00:00   20      7\n",
       "5932538  12428.571429  00:00:00    2     11\n",
       "...               ...       ...  ...    ...\n",
       "182103   14285.714286  23:59:00    2     11\n",
       "21988     5285.714286  23:59:00    4      7\n",
       "1647177  39785.714286  23:59:00   30     11\n",
       "1720597  12285.714286  23:59:00   18     10\n",
       "4013874   9714.285714  23:59:00    5     11\n",
       "\n",
       "[6556613 rows x 4 columns]"
      ]
     },
     "metadata": {},
     "execution_count": 91
    }
   ],
   "metadata": {}
  },
  {
   "cell_type": "code",
   "execution_count": 168,
   "source": [
    "grouped_time = (dataset['amount']/1000000).groupby(dataset['time'])\r\n",
    "grouped_day = (dataset['amount']/10000000).groupby(dataset['day'])\r\n",
    "grouped_month = (dataset['amount']/10000000).groupby(dataset['month'])"
   ],
   "outputs": [],
   "metadata": {}
  },
  {
   "cell_type": "code",
   "execution_count": 78,
   "source": [
    "sns.set_style(\"darkgrid\")\r\n",
    "plt.rcParams['font.family'] = 'malgun gothic'"
   ],
   "outputs": [],
   "metadata": {}
  },
  {
   "cell_type": "code",
   "execution_count": 169,
   "source": [
    "grouped_time.sum().plot(figsize = (20,6), \r\n",
    "                        title = '시간 별 매출(단위: 억원)')\r\n",
    "\r\n",
    "plt.show()"
   ],
   "outputs": [
    {
     "output_type": "display_data",
     "data": {
      "image/png": "[encoded data removed]",
      "text/plain": [
       "<Figure size 1440x432 with 1 Axes>"
      ]
     },
     "metadata": {}
    }
   ],
   "metadata": {}
  },
  {
   "cell_type": "code",
   "execution_count": 170,
   "source": [
    "fig = px.line(grouped_time.sum(), \r\n",
    "        title = '<b>시간 별 매출 (단위 : 억원)</b>')\r\n",
    "fig.show()"
   ],
   "outputs": [
    {
     "output_type": "display_data",
     "data": {
      "application/vnd.plotly.v1+json": {
       "config": {
        "plotlyServerURL": "https://plotly.com"
       },
       "data": [
        {
         "hovertemplate": "variable=amount<br>time=%{x}<br>value=%{y}<extra></extra>",
         "legendgroup": "amount",
         "line": {
          "color": "#636efa",
          "dash": "solid"
         },
         "marker": {
          "symbol": "circle"
         },
         "mode": "lines",
         "name": "amount",
         "showlegend": true,
         "type": "scattergl",
         "x": [
          "00:00:00",
          "00:01:00",
          "00:02:00",
          "00:03:00",
          "00:04:00",
          "00:05:00",
          "00:06:00",
          "00:07:00",
          "00:08:00",
          "00:09:00",
          "00:10:00",
          "00:11:00",
          "00:12:00",
          "00:13:00",
          "00:14:00",
          "00:15:00",
          "00:16:00",
          "00:17:00",
          "00:18:00",
          "00:19:00",
          "00:20:00",
          "00:21:00",
          "00:22:00",
          "00:23:00",
          "00:24:00",
          "00:25:00",
          "00:26:00",
          "00:27:00",
          "00:28:00",
          "00:29:00",
          "00:30:00",
          "00:31:00",
          "00:32:00",
          "00:33:00",
          "00:34:00",
          "00:35:00",
          "00:36:00",
          "00:37:00",
          "00:38:00",
          "00:39:00",
          "00:40:00",
          "00:41:00",
          "00:42:00",
          "00:43:00",
          "00:44:00",
          "00:45:00",
          "00:46:00",
          "00:47:00",
          "00:48:00",
          "00:49:00",
          "00:50:00",
          "00:51:00",
          "00:52:00",
          "00:53:00",
          "00:54:00",
          "00:55:00",
          "00:56:00",
          "00:57:00",
          "00:58:00",
          "00:59:00",
          "01:00:00",
          "01:01:00",
          "01:02:00",
          "01:03:00",
          "01:04:00",
          "01:05:00",
          "01:06:00",
          "01:07:00",
          "01:08:00",
          "01:09:00",
          "01:10:00",
          "01:11:00",
          "01:12:00",
          "01:13:00",
          "01:14:00",
          "01:15:00",
          "01:16:00",
          "01:17:00",
          "01:18:00",
          "01:19:00",
          "01:20:00",
          "01:21:00",
          "01:22:00",
          "01:23:00",
          "01:24:00",
          "01:25:00",
          "01:26:00",
          "01:27:00",
          "01:28:00",
          "01:29:00",
          "01:30:00",
          "01:31:00",
          "01:32:00",
          "01:33:00",
          "01:34:00",
          "01:35:00",
          "01:36:00",
          "01:37:00",
          "01:38:00",
          "01:39:00",
          "01:40:00",
          "01:41:00",
          "01:42:00",
          "01:43:00",
          "01:44:00",
          "01:45:00",
          "01:46:00",
          "01:47:00",
          "01:48:00",
          "01:49:00",
          "01:50:00",
          "01:51:00",
          "01:52:00",
          "01:53:00",
          "01:54:00",
          "01:55:00",
          "01:56:00",
          "01:57:00",
          "01:58:00",
          "01:59:00",
          "02:00:00",
          "02:01:00",
          "02:02:00",
          "02:03:00",
          "02:04:00",
          "02:05:00",
          "02:06:00",
          "02:07:00",
          "02:08:00",
          "02:09:00",
          "02:10:00",
          "02:11:00",
          "02:12:00",
          "02:13:00",
          "02:14:00",
          "02:15:00",
          "02:16:00",
          "02:17:00",
          "02:18:00",
          "02:19:00",
          "02:20:00",
          "02:21:00",
          "02:22:00",
          "02:23:00",
          "02:24:00",
          "02:25:00",
          "02:26:00",
          "02:27:00",
          "02:28:00",
          "02:29:00",
          "02:30:00",
          "02:31:00",
          "02:32:00",
          "02:33:00",
          "02:34:00",
          "02:35:00",
          "02:36:00",
          "02:37:00",
          "02:38:00",
          "02:39:00",
          "02:40:00",
          "02:41:00",
          "02:42:00",
          "02:43:00",
          "02:44:00",
          "02:45:00",
          "02:46:00",
          "02:47:00",
          "02:48:00",
          "02:49:00",
          "02:50:00",
          "02:51:00",
          "02:52:00",
          "02:53:00",
          "02:54:00",
          "02:55:00",
          "02:56:00",
          "02:57:00",
          "02:58:00",
          "02:59:00",
          "03:00:00",
          "03:01:00",
          "03:02:00",
          "03:03:00",
          "03:04:00",
          "03:05:00",
          "03:06:00",
          "03:07:00",
          "03:08:00",
          "03:09:00",
          "03:10:00",
          "03:11:00",
          "03:12:00",
          "03:13:00",
          "03:14:00",
          "03:15:00",
          "03:16:00",
          "03:17:00",
          "03:18:00",
          "03:19:00",
          "03:20:00",
          "03:21:00",
          "03:22:00",
          "03:23:00",
          "03:24:00",
          "03:25:00",
          "03:26:00",
          "03:27:00",
          "03:28:00",
          "03:29:00",
          "03:30:00",
          "03:31:00",
          "03:32:00",
          "03:33:00",
          "03:34:00",
          "03:35:00",
          "03:36:00",
          "03:37:00",
          "03:38:00",
          "03:39:00",
          "03:40:00",
          "03:41:00",
          "03:42:00",
          "03:43:00",
          "03:44:00",
          "03:45:00",
          "03:46:00",
          "03:47:00",
          "03:48:00",
          "03:49:00",
          "03:50:00",
          "03:51:00",
          "03:52:00",
          "03:53:00",
          "03:54:00",
          "03:55:00",
          "03:56:00",
          "03:57:00",
          "03:58:00",
          "03:59:00",
          "04:00:00",
          "04:01:00",
          "04:02:00",
          "04:03:00",
          "04:04:00",
          "04:05:00",
          "04:06:00",
          "04:07:00",
          "04:08:00",
          "04:09:00",
          "04:10:00",
          "04:11:00",
          "04:12:00",
          "04:13:00",
          "04:14:00",
          "04:15:00",
          "04:16:00",
          "04:17:00",
          "04:18:00",
          "04:19:00",
          "04:20:00",
          "04:21:00",
          "04:22:00",
          "04:23:00",
          "04:24:00",
          "04:25:00",
          "04:26:00",
          "04:27:00",
          "04:28:00",
          "04:29:00",
          "04:30:00",
          "04:31:00",
          "04:32:00",
          "04:33:00",
          "04:34:00",
          "04:35:00",
          "04:36:00",
          "04:37:00",
          "04:38:00",
          "04:39:00",
          "04:40:00",
          "04:41:00",
          "04:42:00",
          "04:43:00",
          "04:44:00",
          "04:45:00",
          "04:46:00",
          "04:47:00",
          "04:48:00",
          "04:49:00",
          "04:50:00",
          "04:51:00",
          "04:52:00",
          "04:53:00",
          "04:54:00",
          "04:55:00",
          "04:56:00",
          "04:57:00",
          "04:58:00",
          "04:59:00",
          "05:00:00",
          "05:01:00",
          "05:02:00",
          "05:03:00",
          "05:04:00",
          "05:05:00",
          "05:06:00",
          "05:07:00",
          "05:08:00",
          "05:09:00",
          "05:10:00",
          "05:11:00",
          "05:12:00",
          "05:13:00",
          "05:14:00",
          "05:15:00",
          "05:16:00",
          "05:17:00",
          "05:18:00",
          "05:19:00",
          "05:20:00",
          "05:21:00",
          "05:22:00",
          "05:23:00",
          "05:24:00",
          "05:25:00",
          "05:26:00",
          "05:27:00",
          "05:28:00",
          "05:29:00",
          "05:30:00",
          "05:31:00",
          "05:32:00",
          "05:33:00",
          "05:34:00",
          "05:35:00",
          "05:36:00",
          "05:37:00",
          "05:38:00",
          "05:39:00",
          "05:40:00",
          "05:41:00",
          "05:42:00",
          "05:43:00",
          "05:44:00",
          "05:45:00",
          "05:46:00",
          "05:47:00",
          "05:48:00",
          "05:49:00",
          "05:50:00",
          "05:51:00",
          "05:52:00",
          "05:53:00",
          "05:54:00",
          "05:55:00",
          "05:56:00",
          "05:57:00",
          "05:58:00",
          "05:59:00",
          "06:00:00",
          "06:01:00",
          "06:02:00",
          "06:03:00",
          "06:04:00",
          "06:05:00",
          "06:06:00",
          "06:07:00",
          "06:08:00",
          "06:09:00",
          "06:10:00",
          "06:11:00",
          "06:12:00",
          "06:13:00",
          "06:14:00",
          "06:15:00",
          "06:16:00",
          "06:17:00",
          "06:18:00",
          "06:19:00",
          "06:20:00",
          "06:21:00",
          "06:22:00",
          "06:23:00",
          "06:24:00",
          "06:25:00",
          "06:26:00",
          "06:27:00",
          "06:28:00",
          "06:29:00",
          "06:30:00",
          "06:31:00",
          "06:32:00",
          "06:33:00",
          "06:34:00",
          "06:35:00",
          "06:36:00",
          "06:37:00",
          "06:38:00",
          "06:39:00",
          "06:40:00",
          "06:41:00",
          "06:42:00",
          "06:43:00",
          "06:44:00",
          "06:45:00",
          "06:46:00",
          "06:47:00",
          "06:48:00",
          "06:49:00",
          "06:50:00",
          "06:51:00",
          "06:52:00",
          "06:53:00",
          "06:54:00",
          "06:55:00",
          "06:56:00",
          "06:57:00",
          "06:58:00",
          "06:59:00",
          "07:00:00",
          "07:01:00",
          "07:02:00",
          "07:03:00",
          "07:04:00",
          "07:05:00",
          "07:06:00",
          "07:07:00",
          "07:08:00",
          "07:09:00",
          "07:10:00",
          "07:11:00",
          "07:12:00",
          "07:13:00",
          "07:14:00",
          "07:15:00",
          "07:16:00",
          "07:17:00",
          "07:18:00",
          "07:19:00",
          "07:20:00",
          "07:21:00",
          "07:22:00",
          "07:23:00",
          "07:24:00",
          "07:25:00",
          "07:26:00",
          "07:27:00",
          "07:28:00",
          "07:29:00",
          "07:30:00",
          "07:31:00",
          "07:32:00",
          "07:33:00",
          "07:34:00",
          "07:35:00",
          "07:36:00",
          "07:37:00",
          "07:38:00",
          "07:39:00",
          "07:40:00",
          "07:41:00",
          "07:42:00",
          "07:43:00",
          "07:44:00",
          "07:45:00",
          "07:46:00",
          "07:47:00",
          "07:48:00",
          "07:49:00",
          "07:50:00",
          "07:51:00",
          "07:52:00",
          "07:53:00",
          "07:54:00",
          "07:55:00",
          "07:56:00",
          "07:57:00",
          "07:58:00",
          "07:59:00",
          "08:00:00",
          "08:01:00",
          "08:02:00",
          "08:03:00",
          "08:04:00",
          "08:05:00",
          "08:06:00",
          "08:07:00",
          "08:08:00",
          "08:09:00",
          "08:10:00",
          "08:11:00",
          "08:12:00",
          "08:13:00",
          "08:14:00",
          "08:15:00",
          "08:16:00",
          "08:17:00",
          "08:18:00",
          "08:19:00",
          "08:20:00",
          "08:21:00",
          "08:22:00",
          "08:23:00",
          "08:24:00",
          "08:25:00",
          "08:26:00",
          "08:27:00",
          "08:28:00",
          "08:29:00",
          "08:30:00",
          "08:31:00",
          "08:32:00",
          "08:33:00",
          "08:34:00",
          "08:35:00",
          "08:36:00",
          "08:37:00",
          "08:38:00",
          "08:39:00",
          "08:40:00",
          "08:41:00",
          "08:42:00",
          "08:43:00",
          "08:44:00",
          "08:45:00",
          "08:46:00",
          "08:47:00",
          "08:48:00",
          "08:49:00",
          "08:50:00",
          "08:51:00",
          "08:52:00",
          "08:53:00",
          "08:54:00",
          "08:55:00",
          "08:56:00",
          "08:57:00",
          "08:58:00",
          "08:59:00",
          "09:00:00",
          "09:01:00",
          "09:02:00",
          "09:03:00",
          "09:04:00",
          "09:05:00",
          "09:06:00",
          "09:07:00",
          "09:08:00",
          "09:09:00",
          "09:10:00",
          "09:11:00",
          "09:12:00",
          "09:13:00",
          "09:14:00",
          "09:15:00",
          "09:16:00",
          "09:17:00",
          "09:18:00",
          "09:19:00",
          "09:20:00",
          "09:21:00",
          "09:22:00",
          "09:23:00",
          "09:24:00",
          "09:25:00",
          "09:26:00",
          "09:27:00",
          "09:28:00",
          "09:29:00",
          "09:30:00",
          "09:31:00",
          "09:32:00",
          "09:33:00",
          "09:34:00",
          "09:35:00",
          "09:36:00",
          "09:37:00",
          "09:38:00",
          "09:39:00",
          "09:40:00",
          "09:41:00",
          "09:42:00",
          "09:43:00",
          "09:44:00",
          "09:45:00",
          "09:46:00",
          "09:47:00",
          "09:48:00",
          "09:49:00",
          "09:50:00",
          "09:51:00",
          "09:52:00",
          "09:53:00",
          "09:54:00",
          "09:55:00",
          "09:56:00",
          "09:57:00",
          "09:58:00",
          "09:59:00",
          "10:00:00",
          "10:01:00",
          "10:02:00",
          "10:03:00",
          "10:04:00",
          "10:05:00",
          "10:06:00",
          "10:07:00",
          "10:08:00",
          "10:09:00",
          "10:10:00",
          "10:11:00",
          "10:12:00",
          "10:13:00",
          "10:14:00",
          "10:15:00",
          "10:16:00",
          "10:17:00",
          "10:18:00",
          "10:19:00",
          "10:20:00",
          "10:21:00",
          "10:22:00",
          "10:23:00",
          "10:24:00",
          "10:25:00",
          "10:26:00",
          "10:27:00",
          "10:28:00",
          "10:29:00",
          "10:30:00",
          "10:31:00",
          "10:32:00",
          "10:33:00",
          "10:34:00",
          "10:35:00",
          "10:36:00",
          "10:37:00",
          "10:38:00",
          "10:39:00",
          "10:40:00",
          "10:41:00",
          "10:42:00",
          "10:43:00",
          "10:44:00",
          "10:45:00",
          "10:46:00",
          "10:47:00",
          "10:48:00",
          "10:49:00",
          "10:50:00",
          "10:51:00",
          "10:52:00",
          "10:53:00",
          "10:54:00",
          "10:55:00",
          "10:56:00",
          "10:57:00",
          "10:58:00",
          "10:59:00",
          "11:00:00",
          "11:01:00",
          "11:02:00",
          "11:03:00",
          "11:04:00",
          "11:05:00",
          "11:06:00",
          "11:07:00",
          "11:08:00",
          "11:09:00",
          "11:10:00",
          "11:11:00",
          "11:12:00",
          "11:13:00",
          "11:14:00",
          "11:15:00",
          "11:16:00",
          "11:17:00",
          "11:18:00",
          "11:19:00",
          "11:20:00",
          "11:21:00",
          "11:22:00",
          "11:23:00",
          "11:24:00",
          "11:25:00",
          "11:26:00",
          "11:27:00",
          "11:28:00",
          "11:29:00",
          "11:30:00",
          "11:31:00",
          "11:32:00",
          "11:33:00",
          "11:34:00",
          "11:35:00",
          "11:36:00",
          "11:37:00",
          "11:38:00",
          "11:39:00",
          "11:40:00",
          "11:41:00",
          "11:42:00",
          "11:43:00",
          "11:44:00",
          "11:45:00",
          "11:46:00",
          "11:47:00",
          "11:48:00",
          "11:49:00",
          "11:50:00",
          "11:51:00",
          "11:52:00",
          "11:53:00",
          "11:54:00",
          "11:55:00",
          "11:56:00",
          "11:57:00",
          "11:58:00",
          "11:59:00",
          "12:00:00",
          "12:01:00",
          "12:02:00",
          "12:03:00",
          "12:04:00",
          "12:05:00",
          "12:06:00",
          "12:07:00",
          "12:08:00",
          "12:09:00",
          "12:10:00",
          "12:11:00",
          "12:12:00",
          "12:13:00",
          "12:14:00",
          "12:15:00",
          "12:16:00",
          "12:17:00",
          "12:18:00",
          "12:19:00",
          "12:20:00",
          "12:21:00",
          "12:22:00",
          "12:23:00",
          "12:24:00",
          "12:25:00",
          "12:26:00",
          "12:27:00",
          "12:28:00",
          "12:29:00",
          "12:30:00",
          "12:31:00",
          "12:32:00",
          "12:33:00",
          "12:34:00",
          "12:35:00",
          "12:36:00",
          "12:37:00",
          "12:38:00",
          "12:39:00",
          "12:40:00",
          "12:41:00",
          "12:42:00",
          "12:43:00",
          "12:44:00",
          "12:45:00",
          "12:46:00",
          "12:47:00",
          "12:48:00",
          "12:49:00",
          "12:50:00",
          "12:51:00",
          "12:52:00",
          "12:53:00",
          "12:54:00",
          "12:55:00",
          "12:56:00",
          "12:57:00",
          "12:58:00",
          "12:59:00",
          "13:00:00",
          "13:01:00",
          "13:02:00",
          "13:03:00",
          "13:04:00",
          "13:05:00",
          "13:06:00",
          "13:07:00",
          "13:08:00",
          "13:09:00",
          "13:10:00",
          "13:11:00",
          "13:12:00",
          "13:13:00",
          "13:14:00",
          "13:15:00",
          "13:16:00",
          "13:17:00",
          "13:18:00",
          "13:19:00",
          "13:20:00",
          "13:21:00",
          "13:22:00",
          "13:23:00",
          "13:24:00",
          "13:25:00",
          "13:26:00",
          "13:27:00",
          "13:28:00",
          "13:29:00",
          "13:30:00",
          "13:31:00",
          "13:32:00",
          "13:33:00",
          "13:34:00",
          "13:35:00",
          "13:36:00",
          "13:37:00",
          "13:38:00",
          "13:39:00",
          "13:40:00",
          "13:41:00",
          "13:42:00",
          "13:43:00",
          "13:44:00",
          "13:45:00",
          "13:46:00",
          "13:47:00",
          "13:48:00",
          "13:49:00",
          "13:50:00",
          "13:51:00",
          "13:52:00",
          "13:53:00",
          "13:54:00",
          "13:55:00",
          "13:56:00",
          "13:57:00",
          "13:58:00",
          "13:59:00",
          "14:00:00",
          "14:01:00",
          "14:02:00",
          "14:03:00",
          "14:04:00",
          "14:05:00",
          "14:06:00",
          "14:07:00",
          "14:08:00",
          "14:09:00",
          "14:10:00",
          "14:11:00",
          "14:12:00",
          "14:13:00",
          "14:14:00",
          "14:15:00",
          "14:16:00",
          "14:17:00",
          "14:18:00",
          "14:19:00",
          "14:20:00",
          "14:21:00",
          "14:22:00",
          "14:23:00",
          "14:24:00",
          "14:25:00",
          "14:26:00",
          "14:27:00",
          "14:28:00",
          "14:29:00",
          "14:30:00",
          "14:31:00",
          "14:32:00",
          "14:33:00",
          "14:34:00",
          "14:35:00",
          "14:36:00",
          "14:37:00",
          "14:38:00",
          "14:39:00",
          "14:40:00",
          "14:41:00",
          "14:42:00",
          "14:43:00",
          "14:44:00",
          "14:45:00",
          "14:46:00",
          "14:47:00",
          "14:48:00",
          "14:49:00",
          "14:50:00",
          "14:51:00",
          "14:52:00",
          "14:53:00",
          "14:54:00",
          "14:55:00",
          "14:56:00",
          "14:57:00",
          "14:58:00",
          "14:59:00",
          "15:00:00",
          "15:01:00",
          "15:02:00",
          "15:03:00",
          "15:04:00",
          "15:05:00",
          "15:06:00",
          "15:07:00",
          "15:08:00",
          "15:09:00",
          "15:10:00",
          "15:11:00",
          "15:12:00",
          "15:13:00",
          "15:14:00",
          "15:15:00",
          "15:16:00",
          "15:17:00",
          "15:18:00",
          "15:19:00",
          "15:20:00",
          "15:21:00",
          "15:22:00",
          "15:23:00",
          "15:24:00",
          "15:25:00",
          "15:26:00",
          "15:27:00",
          "15:28:00",
          "15:29:00",
          "15:30:00",
          "15:31:00",
          "15:32:00",
          "15:33:00",
          "15:34:00",
          "15:35:00",
          "15:36:00",
          "15:37:00",
          "15:38:00",
          "15:39:00",
          "15:40:00",
          "15:41:00",
          "15:42:00",
          "15:43:00",
          "15:44:00",
          "15:45:00",
          "15:46:00",
          "15:47:00",
          "15:48:00",
          "15:49:00",
          "15:50:00",
          "15:51:00",
          "15:52:00",
          "15:53:00",
          "15:54:00",
          "15:55:00",
          "15:56:00",
          "15:57:00",
          "15:58:00",
          "15:59:00",
          "16:00:00",
          "16:01:00",
          "16:02:00",
          "16:03:00",
          "16:04:00",
          "16:05:00",
          "16:06:00",
          "16:07:00",
          "16:08:00",
          "16:09:00",
          "16:10:00",
          "16:11:00",
          "16:12:00",
          "16:13:00",
          "16:14:00",
          "16:15:00",
          "16:16:00",
          "16:17:00",
          "16:18:00",
          "16:19:00",
          "16:20:00",
          "16:21:00",
          "16:22:00",
          "16:23:00",
          "16:24:00",
          "16:25:00",
          "16:26:00",
          "16:27:00",
          "16:28:00",
          "16:29:00",
          "16:30:00",
          "16:31:00",
          "16:32:00",
          "16:33:00",
          "16:34:00",
          "16:35:00",
          "16:36:00",
          "16:37:00",
          "16:38:00",
          "16:39:00",
          "16:40:00",
          "16:41:00",
          "16:42:00",
          "16:43:00",
          "16:44:00",
          "16:45:00",
          "16:46:00",
          "16:47:00",
          "16:48:00",
          "16:49:00",
          "16:50:00",
          "16:51:00",
          "16:52:00",
          "16:53:00",
          "16:54:00",
          "16:55:00",
          "16:56:00",
          "16:57:00",
          "16:58:00",
          "16:59:00",
          "17:00:00",
          "17:01:00",
          "17:02:00",
          "17:03:00",
          "17:04:00",
          "17:05:00",
          "17:06:00",
          "17:07:00",
          "17:08:00",
          "17:09:00",
          "17:10:00",
          "17:11:00",
          "17:12:00",
          "17:13:00",
          "17:14:00",
          "17:15:00",
          "17:16:00",
          "17:17:00",
          "17:18:00",
          "17:19:00",
          "17:20:00",
          "17:21:00",
          "17:22:00",
          "17:23:00",
          "17:24:00",
          "17:25:00",
          "17:26:00",
          "17:27:00",
          "17:28:00",
          "17:29:00",
          "17:30:00",
          "17:31:00",
          "17:32:00",
          "17:33:00",
          "17:34:00",
          "17:35:00",
          "17:36:00",
          "17:37:00",
          "17:38:00",
          "17:39:00",
          "17:40:00",
          "17:41:00",
          "17:42:00",
          "17:43:00",
          "17:44:00",
          "17:45:00",
          "17:46:00",
          "17:47:00",
          "17:48:00",
          "17:49:00",
          "17:50:00",
          "17:51:00",
          "17:52:00",
          "17:53:00",
          "17:54:00",
          "17:55:00",
          "17:56:00",
          "17:57:00",
          "17:58:00",
          "17:59:00",
          "18:00:00",
          "18:01:00",
          "18:02:00",
          "18:03:00",
          "18:04:00",
          "18:05:00",
          "18:06:00",
          "18:07:00",
          "18:08:00",
          "18:09:00",
          "18:10:00",
          "18:11:00",
          "18:12:00",
          "18:13:00",
          "18:14:00",
          "18:15:00",
          "18:16:00",
          "18:17:00",
          "18:18:00",
          "18:19:00",
          "18:20:00",
          "18:21:00",
          "18:22:00",
          "18:23:00",
          "18:24:00",
          "18:25:00",
          "18:26:00",
          "18:27:00",
          "18:28:00",
          "18:29:00",
          "18:30:00",
          "18:31:00",
          "18:32:00",
          "18:33:00",
          "18:34:00",
          "18:35:00",
          "18:36:00",
          "18:37:00",
          "18:38:00",
          "18:39:00",
          "18:40:00",
          "18:41:00",
          "18:42:00",
          "18:43:00",
          "18:44:00",
          "18:45:00",
          "18:46:00",
          "18:47:00",
          "18:48:00",
          "18:49:00",
          "18:50:00",
          "18:51:00",
          "18:52:00",
          "18:53:00",
          "18:54:00",
          "18:55:00",
          "18:56:00",
          "18:57:00",
          "18:58:00",
          "18:59:00",
          "19:00:00",
          "19:01:00",
          "19:02:00",
          "19:03:00",
          "19:04:00",
          "19:05:00",
          "19:06:00",
          "19:07:00",
          "19:08:00",
          "19:09:00",
          "19:10:00",
          "19:11:00",
          "19:12:00",
          "19:13:00",
          "19:14:00",
          "19:15:00",
          "19:16:00",
          "19:17:00",
          "19:18:00",
          "19:19:00",
          "19:20:00",
          "19:21:00",
          "19:22:00",
          "19:23:00",
          "19:24:00",
          "19:25:00",
          "19:26:00",
          "19:27:00",
          "19:28:00",
          "19:29:00",
          "19:30:00",
          "19:31:00",
          "19:32:00",
          "19:33:00",
          "19:34:00",
          "19:35:00",
          "19:36:00",
          "19:37:00",
          "19:38:00",
          "19:39:00",
          "19:40:00",
          "19:41:00",
          "19:42:00",
          "19:43:00",
          "19:44:00",
          "19:45:00",
          "19:46:00",
          "19:47:00",
          "19:48:00",
          "19:49:00",
          "19:50:00",
          "19:51:00",
          "19:52:00",
          "19:53:00",
          "19:54:00",
          "19:55:00",
          "19:56:00",
          "19:57:00",
          "19:58:00",
          "19:59:00",
          "20:00:00",
          "20:01:00",
          "20:02:00",
          "20:03:00",
          "20:04:00",
          "20:05:00",
          "20:06:00",
          "20:07:00",
          "20:08:00",
          "20:09:00",
          "20:10:00",
          "20:11:00",
          "20:12:00",
          "20:13:00",
          "20:14:00",
          "20:15:00",
          "20:16:00",
          "20:17:00",
          "20:18:00",
          "20:19:00",
          "20:20:00",
          "20:21:00",
          "20:22:00",
          "20:23:00",
          "20:24:00",
          "20:25:00",
          "20:26:00",
          "20:27:00",
          "20:28:00",
          "20:29:00",
          "20:30:00",
          "20:31:00",
          "20:32:00",
          "20:33:00",
          "20:34:00",
          "20:35:00",
          "20:36:00",
          "20:37:00",
          "20:38:00",
          "20:39:00",
          "20:40:00",
          "20:41:00",
          "20:42:00",
          "20:43:00",
          "20:44:00",
          "20:45:00",
          "20:46:00",
          "20:47:00",
          "20:48:00",
          "20:49:00",
          "20:50:00",
          "20:51:00",
          "20:52:00",
          "20:53:00",
          "20:54:00",
          "20:55:00",
          "20:56:00",
          "20:57:00",
          "20:58:00",
          "20:59:00",
          "21:00:00",
          "21:01:00",
          "21:02:00",
          "21:03:00",
          "21:04:00",
          "21:05:00",
          "21:06:00",
          "21:07:00",
          "21:08:00",
          "21:09:00",
          "21:10:00",
          "21:11:00",
          "21:12:00",
          "21:13:00",
          "21:14:00",
          "21:15:00",
          "21:16:00",
          "21:17:00",
          "21:18:00",
          "21:19:00",
          "21:20:00",
          "21:21:00",
          "21:22:00",
          "21:23:00",
          "21:24:00",
          "21:25:00",
          "21:26:00",
          "21:27:00",
          "21:28:00",
          "21:29:00",
          "21:30:00",
          "21:31:00",
          "21:32:00",
          "21:33:00",
          "21:34:00",
          "21:35:00",
          "21:36:00",
          "21:37:00",
          "21:38:00",
          "21:39:00",
          "21:40:00",
          "21:41:00",
          "21:42:00",
          "21:43:00",
          "21:44:00",
          "21:45:00",
          "21:46:00",
          "21:47:00",
          "21:48:00",
          "21:49:00",
          "21:50:00",
          "21:51:00",
          "21:52:00",
          "21:53:00",
          "21:54:00",
          "21:55:00",
          "21:56:00",
          "21:57:00",
          "21:58:00",
          "21:59:00",
          "22:00:00",
          "22:01:00",
          "22:02:00",
          "22:03:00",
          "22:04:00",
          "22:05:00",
          "22:06:00",
          "22:07:00",
          "22:08:00",
          "22:09:00",
          "22:10:00",
          "22:11:00",
          "22:12:00",
          "22:13:00",
          "22:14:00",
          "22:15:00",
          "22:16:00",
          "22:17:00",
          "22:18:00",
          "22:19:00",
          "22:20:00",
          "22:21:00",
          "22:22:00",
          "22:23:00",
          "22:24:00",
          "22:25:00",
          "22:26:00",
          "22:27:00",
          "22:28:00",
          "22:29:00",
          "22:30:00",
          "22:31:00",
          "22:32:00",
          "22:33:00",
          "22:34:00",
          "22:35:00",
          "22:36:00",
          "22:37:00",
          "22:38:00",
          "22:39:00",
          "22:40:00",
          "22:41:00",
          "22:42:00",
          "22:43:00",
          "22:44:00",
          "22:45:00",
          "22:46:00",
          "22:47:00",
          "22:48:00",
          "22:49:00",
          "22:50:00",
          "22:51:00",
          "22:52:00",
          "22:53:00",
          "22:54:00",
          "22:55:00",
          "22:56:00",
          "22:57:00",
          "22:58:00",
          "22:59:00",
          "23:00:00",
          "23:01:00",
          "23:02:00",
          "23:03:00",
          "23:04:00",
          "23:05:00",
          "23:06:00",
          "23:07:00",
          "23:08:00",
          "23:09:00",
          "23:10:00",
          "23:11:00",
          "23:12:00",
          "23:13:00",
          "23:14:00",
          "23:15:00",
          "23:16:00",
          "23:17:00",
          "23:18:00",
          "23:19:00",
          "23:20:00",
          "23:21:00",
          "23:22:00",
          "23:23:00",
          "23:24:00",
          "23:25:00",
          "23:26:00",
          "23:27:00",
          "23:28:00",
          "23:29:00",
          "23:30:00",
          "23:31:00",
          "23:32:00",
          "23:33:00",
          "23:34:00",
          "23:35:00",
          "23:36:00",
          "23:37:00",
          "23:38:00",
          "23:39:00",
          "23:40:00",
          "23:41:00",
          "23:42:00",
          "23:43:00",
          "23:44:00",
          "23:45:00",
          "23:46:00",
          "23:47:00",
          "23:48:00",
          "23:49:00",
          "23:50:00",
          "23:51:00",
          "23:52:00",
          "23:53:00",
          "23:54:00",
          "23:55:00",
          "23:56:00",
          "23:57:00",
          "23:58:00",
          "23:59:00"
         ],
         "xaxis": "x",
         "y": [
          39.250924285714945,
          38.74938728571486,
          39.69190000000051,
          38.42343728571474,
          39.032774142857654,
          39.14277857142918,
          36.58323571428612,
          37.87169714285755,
          37.47077285714331,
          36.061795714286106,
          36.93768642857189,
          37.403473714286164,
          36.44069771428611,
          35.09667457142895,
          36.19785714285756,
          37.29974800000054,
          34.835182428571855,
          36.46067914285759,
          32.642944000000384,
          35.38369285714323,
          32.427600571429,
          34.64478457142907,
          33.2133220000004,
          33.8619242857147,
          34.38762428571465,
          34.74597857142894,
          31.289365428571735,
          32.44565042857182,
          32.009205714285976,
          33.71393014285746,
          31.61176542857171,
          33.67490000000026,
          31.615600571428935,
          31.991969428571753,
          31.594864285714596,
          32.46150928571453,
          34.415879000000366,
          31.664571428571715,
          32.47144528571459,
          33.54878800000038,
          30.57263557142886,
          32.1932214285717,
          30.239307142857445,
          32.27784757142886,
          31.65840142857165,
          29.2585714285717,
          30.16712700000025,
          32.0166288571431,
          30.899136142857408,
          29.442872857143215,
          29.479400000000226,
          30.614168571428895,
          30.465501428571663,
          30.763677142857386,
          31.915540000000266,
          29.278734285714524,
          30.294807142857497,
          28.972485714285966,
          26.69422142857166,
          27.117531428571635,
          30.742785714286068,
          29.597261428571674,
          28.872707142857355,
          30.088314285714517,
          29.49345857142883,
          28.47404142857166,
          27.68696571428598,
          29.18760985714309,
          27.35917857142876,
          28.06983714285736,
          26.94955714285744,
          27.108582857143098,
          24.392077000000175,
          26.178614285714545,
          24.37925285714302,
          25.649257142857287,
          24.765185714285877,
          24.833640000000212,
          26.189095571428744,
          25.80970142857158,
          24.722928428571596,
          24.864073000000115,
          25.786497142857343,
          25.014517142857297,
          24.973709571428756,
          25.53095714285731,
          24.848799285714435,
          25.108777000000195,
          24.601102857143037,
          26.1184485714287,
          22.151990714285887,
          25.551637714285828,
          24.263812857142977,
          24.951288857143027,
          22.707964714285854,
          21.989478571428737,
          22.10439571428587,
          24.49992971428592,
          21.75784614285732,
          22.668873285714486,
          22.25967371428588,
          21.777950000000086,
          22.146492857142977,
          23.676714142857243,
          22.12982857142876,
          22.78432857142879,
          20.652378571428713,
          20.72580057142867,
          22.409987142857307,
          22.401185714285862,
          23.636407142857255,
          20.653442857143002,
          23.899507142857345,
          23.27640471428585,
          23.18374728571444,
          22.70005428571438,
          24.112332142857326,
          21.49755142857152,
          23.431721428571578,
          24.162034285714416,
          23.97524571428587,
          23.561096857143024,
          25.003018571428683,
          20.64376242857161,
          22.061662285714412,
          21.018285714285888,
          20.339593000000143,
          20.40363714285729,
          20.803428571428682,
          20.096398571428644,
          19.010778571428663,
          18.900678571428653,
          17.197717857142944,
          18.724934285714372,
          19.54202142857152,
          17.43207857142867,
          18.36353557142864,
          17.601835571428648,
          16.96458857142862,
          16.765235571428658,
          16.061414285714346,
          16.314370000000036,
          17.541385714285745,
          16.658186285714354,
          16.49755000000008,
          16.15768500000006,
          16.35890000000007,
          15.749792714285775,
          15.99712085714295,
          15.445360000000063,
          16.37059285714291,
          15.523535714285746,
          15.322528571428613,
          15.912721428571471,
          15.393378571428627,
          14.548961285714338,
          14.424890142857214,
          14.864078571428635,
          14.720714285714331,
          13.736942714285766,
          14.275192857142898,
          13.087071285714336,
          13.948422000000026,
          13.798975571428606,
          13.777865714285758,
          13.655100000000065,
          14.068414285714328,
          14.244285714285754,
          14.407395714285732,
          13.847385714285739,
          14.472778571428629,
          14.164065571428614,
          15.412771428571457,
          15.101557142857162,
          14.260135714285736,
          14.25132142857147,
          13.170807142857166,
          14.409557142857189,
          14.059261285714294,
          15.869685285714322,
          15.435692857142888,
          14.351964285714311,
          15.607099857142913,
          16.354014285714317,
          14.641028428571461,
          12.929161857142889,
          12.605631000000038,
          11.981385714285754,
          12.457112571428608,
          12.038564285714312,
          12.066808857142854,
          11.673844285714305,
          11.654242857142883,
          10.819092857142858,
          11.926871428571452,
          11.446288857142875,
          10.20819685714288,
          8.544414285714282,
          9.166403857142862,
          9.839685714285736,
          10.732285714285716,
          8.983078428571424,
          8.437542857142864,
          9.12457142857143,
          9.519414142857144,
          9.004607142857152,
          8.274099857142865,
          9.253942857142862,
          8.440542857142855,
          7.695785714285713,
          9.107257142857154,
          7.946014142857143,
          7.904785714285717,
          7.928164285714283,
          7.9726762857142885,
          8.065708571428575,
          7.15426514285714,
          8.285664285714287,
          8.445342857142863,
          6.967314285714288,
          8.291357142857146,
          8.063771428571426,
          7.568757142857141,
          6.866771428571421,
          6.225178571428572,
          7.262000000000001,
          7.034571428571426,
          7.802999999999992,
          6.125649999999999,
          7.468130857142852,
          5.969497857142857,
          7.262394285714284,
          5.988685714285715,
          5.419807142857142,
          6.254985714285717,
          5.0275642857142815,
          7.029304714285718,
          6.422578571428571,
          6.780200000000003,
          5.8346999999999944,
          6.20247,
          4.967614285714285,
          5.9601857142857195,
          5.264464285714286,
          5.29171414285714,
          5.691957142857144,
          5.51471,
          5.4013000000000035,
          5.0076285714285715,
          5.296449285714285,
          4.689922142857143,
          4.986335714285712,
          4.720171428571427,
          4.744928571428572,
          4.8460999999999945,
          4.575192857142857,
          4.500857142857144,
          4.230871428571425,
          3.986714285714283,
          3.933342857142856,
          4.1854,
          4.165242857142852,
          4.49809714285714,
          4.265878571428571,
          4.504014285714286,
          3.644457142857139,
          3.8681714285714297,
          3.7221999999999964,
          3.9983857142857158,
          3.868599999999998,
          4.128885714285714,
          3.9778857142857116,
          3.709757142857143,
          3.9233999999999973,
          4.076328571428569,
          3.5990928571428555,
          3.4025642857142846,
          3.132299999999998,
          2.580399999999999,
          2.8647214285714266,
          3.7514285714285687,
          2.4188857142857123,
          3.3096857142857132,
          3.1833428571428546,
          3.2677714285714266,
          3.3550571428571403,
          2.998207142857142,
          2.4597071428571424,
          2.4154614285714273,
          2.2650457142857134,
          2.8778571428571404,
          2.808179285714287,
          3.3854064285714296,
          2.9807928571428577,
          3.6510428571428544,
          2.4148285714285693,
          2.472971428571428,
          3.018214285714284,
          2.6216428571428567,
          2.5599571428571437,
          2.8262428571428546,
          2.93062857142857,
          3.0333428571428547,
          2.2970214285714294,
          2.2366285714285707,
          1.6953999999999994,
          1.9225785714285704,
          2.580314285714285,
          2.451871428571428,
          2.1013642857142854,
          2.5677,
          2.128029999999999,
          2.0276285714285707,
          1.76205,
          1.7597857142857147,
          1.9320142857142855,
          2.28465,
          1.574497999999999,
          1.9087142857142847,
          1.852442857142857,
          1.9536714285714283,
          2.062714285714285,
          1.6977428571428566,
          1.5366571428571427,
          1.9697571428571425,
          2.1316642857142845,
          1.7895714285714275,
          1.5670285714285705,
          1.7252371428571418,
          1.687141428571427,
          1.676192857142857,
          1.7104999999999988,
          1.9690000000000014,
          1.472499999999999,
          1.0604142857142855,
          1.448642857142857,
          1.4922857142857142,
          1.2400357142857144,
          1.2798071428571425,
          1.4400285714285717,
          1.3937857142857133,
          1.9496000000000009,
          1.4968285714285707,
          1.0499428571428566,
          1.0210714285714289,
          1.621828571428571,
          1.2975857142857148,
          1.1295142857142855,
          1.2359714285714287,
          1.1632571428571428,
          1.5227428571428565,
          1.1119785714285713,
          1.2387142857142854,
          1.0013714285714286,
          1.333242857142857,
          1.493478571428571,
          2.0830285714285703,
          1.2953999999999999,
          1.3932571428571414,
          1.0379714285714285,
          1.8150571428571423,
          1.269385714285714,
          1.470457142857142,
          0.9580285714285718,
          1.104821285714286,
          1.6493142857142848,
          1.4748285714285714,
          1.1781428571428576,
          1.0092357142857145,
          1.2982999999999996,
          1.2502754285714281,
          1.188371428571428,
          1.0195817142857142,
          1.153657142857143,
          1.3643428571428566,
          1.0350357142857145,
          1.177057142857143,
          1.4960928571428567,
          1.508964285714286,
          1.9796571428571426,
          1.3037357142857149,
          1.255330285714286,
          1.8225285714285717,
          0.9904142857142857,
          1.1971714285714292,
          1.1873641428571429,
          0.9566928571428578,
          1.04495,
          1.2384714285714287,
          1.452885714285714,
          1.9720428571428574,
          1.1168571428571432,
          2.857035714285714,
          0.9729714285714286,
          1.1398600000000005,
          0.9377185714285713,
          1.0325,
          0.9408000000000001,
          1.5286785714285709,
          1.6460142857142857,
          1.46625,
          1.8685621428571437,
          1.5044042857142863,
          1.326057142857144,
          1.569442857142857,
          1.460073142857143,
          1.3193714285714286,
          1.1749285714285724,
          1.3464285714285713,
          1.4209428571428575,
          1.6594357142857155,
          1.6787714285714297,
          1.985362857142859,
          1.785414285714286,
          1.900657142857144,
          1.3757785714285726,
          1.9541614285714282,
          3.224414285714286,
          2.4373657142857152,
          1.3361142857142863,
          1.7026499999999998,
          2.0318285714285698,
          1.825992857142858,
          2.019885714285716,
          2.285842857142858,
          2.317692857142858,
          1.8949142857142844,
          2.801592857142856,
          3.2059142857142886,
          2.1310714285714294,
          2.118721428571429,
          2.4709642857142873,
          2.506728571428575,
          1.7225714285714304,
          2.931200000000004,
          2.173460571428575,
          3.039165714285716,
          1.7079085714285727,
          2.3841999999999985,
          1.8938785714285726,
          2.7392682857142883,
          1.5436114285714289,
          2.2460285714285733,
          2.7469642857142866,
          1.5411357142857172,
          1.9737534285714302,
          3.188217142857144,
          2.48101,
          2.115597142857145,
          2.002782857142859,
          2.8795242857142886,
          3.196087142857148,
          2.687977142857145,
          2.1019214285714285,
          1.9498999999999997,
          4.658987142857152,
          2.83419857142857,
          2.4844499999999994,
          2.6087299999999995,
          3.1461464285714293,
          2.4303614285714312,
          2.8056371428571443,
          3.1340642857142904,
          3.7949499999999996,
          2.8653242857142853,
          3.8732672857142885,
          3.6265142857142862,
          3.370018571428573,
          2.9438200000000005,
          3.654454285714285,
          4.710278571428575,
          3.0512942857142873,
          4.273684285714286,
          4.99174142857143,
          6.615315714285717,
          3.660992857142858,
          4.703498571428576,
          4.395038571428571,
          6.418877142857153,
          3.722097142857145,
          3.8822771428571428,
          5.281513857142862,
          6.544848571428576,
          4.3377257142857175,
          3.5663242857142854,
          4.489408571428573,
          4.254518571428573,
          4.947910857142863,
          3.020857142857142,
          4.455410000000003,
          2.3278814285714273,
          2.844430000000002,
          3.3748685714285713,
          2.6970571428571426,
          3.5760214285714294,
          3.309794714285717,
          3.2359685714285717,
          4.14760285714286,
          5.314581428571425,
          3.0067607142857145,
          4.597893571428579,
          4.385221428571428,
          4.28102928571429,
          4.593128428571434,
          3.8824857142857123,
          4.013809285714284,
          4.173891714285719,
          4.282978571428575,
          4.97748842857143,
          3.0030472857142847,
          6.740310428571433,
          3.5041420000000025,
          3.557690000000003,
          4.77948942857144,
          5.517921714285721,
          8.662031428571439,
          5.675255714285715,
          5.637515571428574,
          5.34049828571429,
          5.577504142857153,
          6.781560714285732,
          7.4272971428571495,
          5.776957142857151,
          5.962559571428567,
          5.481482857142866,
          6.250359571428571,
          8.512879571428595,
          7.527089571428586,
          7.114687142857147,
          8.408018142857152,
          8.215050000000012,
          6.444195571428581,
          8.506424285714301,
          9.118822857142877,
          9.30222071428574,
          6.769506571428579,
          11.049792857142904,
          9.526890714285742,
          10.814321142857171,
          10.434190714285737,
          11.48534571428573,
          11.332164000000025,
          9.139110000000006,
          12.524195285714303,
          9.914337428571448,
          11.214167714285738,
          8.470847000000008,
          10.888910000000001,
          12.633115285714311,
          13.006668571428598,
          13.572179428571445,
          13.632319000000026,
          14.722363000000042,
          13.700861000000033,
          15.137884428571445,
          10.535587571428582,
          10.672959000000002,
          10.766207428571448,
          12.723064571428583,
          12.78217571428574,
          11.093901428571439,
          11.22502328571429,
          15.488693571428602,
          17.525719000000056,
          10.706990000000017,
          11.345287428571442,
          14.908834142857154,
          12.613066714285754,
          13.019004428571451,
          16.10043585714286,
          16.157675428571434,
          13.337582000000014,
          13.588521285714302,
          17.745411428571455,
          13.985764142857176,
          13.374739142857157,
          14.225614428571443,
          13.92784642857144,
          17.8533808571429,
          14.197123428571457,
          13.7817678571429,
          14.409373714285735,
          18.51161928571437,
          19.79889157142864,
          18.83220300000005,
          19.863175428571456,
          16.777611000000018,
          16.705968285714317,
          16.23151400000005,
          23.461210857142962,
          20.985794428571474,
          26.43552314285724,
          20.890612142857215,
          19.803751714285795,
          19.0384540000001,
          21.956983714285787,
          23.655373857142944,
          26.30603842857151,
          24.593425714285868,
          20.968093285714367,
          23.139912285714367,
          22.94137114285726,
          21.15707657142866,
          24.816729000000105,
          26.265388285714355,
          27.330939571428676,
          24.083839142857194,
          25.674880285714366,
          23.074942857142926,
          22.789838714285775,
          26.108725428571486,
          23.55694157142869,
          24.77589200000013,
          23.983707285714324,
          26.761950285714406,
          26.505887428571505,
          33.786138571428644,
          22.024399285714335,
          22.965105714285784,
          24.534929857142966,
          29.39757814285719,
          23.265303428571507,
          26.18013885714296,
          24.88578071428582,
          24.562393571428675,
          28.127285142857282,
          30.17954714285725,
          29.958486142857186,
          25.245511571428704,
          28.345484714285814,
          29.160438142857263,
          26.45340271428584,
          28.142226571428708,
          31.438069714285838,
          31.136317714285788,
          32.81314257142868,
          29.681353142857233,
          33.531820857143074,
          31.40073071428584,
          29.925387571428608,
          31.34974257142868,
          30.88443885714304,
          36.21272114285733,
          28.879560285714454,
          28.53010385714306,
          31.936961571428668,
          28.91747357142869,
          30.821278142857313,
          30.50274257142871,
          35.09086371428586,
          34.4775801428573,
          33.95020014285727,
          34.656813285714506,
          35.8188044285717,
          47.75828900000026,
          35.74130714285736,
          37.21663500000029,
          33.52235628571443,
          38.043147857143154,
          40.722590857143075,
          43.26059414285733,
          36.19134485714301,
          44.82787600000042,
          41.755446285714676,
          40.93246914285744,
          40.754821428571596,
          41.00234614285743,
          42.28257800000026,
          41.00509557142882,
          38.55240271428598,
          39.69027785714314,
          46.278407714286075,
          42.48401357142888,
          39.135037857143075,
          43.69547000000037,
          45.494517714286005,
          45.927375857143176,
          37.00385785714309,
          38.95203371428601,
          41.87842828571465,
          41.02673600000033,
          40.47770071428595,
          44.369338857143106,
          46.242866571428834,
          43.08864000000042,
          44.31937742857167,
          43.6166811428575,
          46.94128900000029,
          45.22339071428613,
          47.24076514285754,
          39.91677157142882,
          47.783312857143095,
          45.17651057142898,
          50.79148585714329,
          42.55438428571458,
          47.23174914285761,
          52.02346385714329,
          50.86851085714321,
          44.40033114285751,
          48.26626214285746,
          45.523579714286086,
          48.89037871428621,
          49.85655600000046,
          48.5982962857148,
          42.11639071428601,
          48.51978728571467,
          51.11660900000054,
          53.32142957142913,
          48.535564000000676,
          48.62007342857196,
          52.91456942857199,
          51.10682842857198,
          48.16195885714347,
          52.87117485714356,
          52.192286571429236,
          53.27486200000049,
          53.41670314285768,
          58.69197228571497,
          56.78209342857197,
          55.288101285714916,
          53.2008912857149,
          52.74077442857201,
          59.54605257142942,
          58.199016714286486,
          60.46717242857201,
          60.095060714286674,
          61.7183177142865,
          55.79820785714369,
          59.45351371428663,
          55.341070571429434,
          57.84741957142946,
          64.2134218571437,
          62.529788142857754,
          59.81773228571512,
          61.84948057142953,
          64.26845085714386,
          58.91231671428671,
          68.5234882857153,
          64.5855162857153,
          65.3643034285727,
          70.5984224285724,
          69.89348285714341,
          71.21754285714348,
          67.55994242857274,
          66.16221328571535,
          68.94818000000095,
          71.92522571428691,
          74.96781757142925,
          72.65547571428617,
          74.59888371428605,
          71.717787142858,
          75.8286711428572,
          76.66205428571465,
          73.39257128571508,
          78.13613257142953,
          78.72153914285751,
          79.27972228571512,
          75.80907128571461,
          76.78521000000109,
          76.39819785714376,
          69.89783014285806,
          77.93613157142892,
          74.72453257142922,
          76.52562628571528,
          74.03963400000045,
          73.3422284285719,
          81.3361144285723,
          75.07729957142936,
          75.77643542857206,
          73.29334271428641,
          77.44799285714379,
          80.94268785714321,
          72.69663985714352,
          74.76021357142898,
          71.36250371428635,
          83.35305214285802,
          78.01391085714322,
          74.78256828571507,
          74.36633057142923,
          75.0997008571437,
          75.89259600000034,
          77.7230348571433,
          75.11397342857192,
          75.06025185714356,
          73.4718734285722,
          79.3073335714293,
          78.19393200000056,
          74.22710714285752,
          73.03928628571511,
          75.19750242857211,
          75.12922871428594,
          69.8935078571434,
          67.06439471428627,
          72.02320514285779,
          66.10439171428656,
          71.77536242857211,
          68.77621800000101,
          72.06316757142918,
          72.71362000000055,
          75.32886700000094,
          71.93883414285764,
          67.88994757142947,
          70.97101600000053,
          70.6197677142865,
          67.16950585714345,
          70.68699742857193,
          65.92937271428673,
          66.70529585714367,
          72.28777071428644,
          67.13183571428657,
          68.96735614285767,
          70.20599928571491,
          71.18223228571479,
          72.31067900000052,
          73.46191228571496,
          70.65300885714353,
          68.29498428571458,
          69.14060042857182,
          67.25467985714369,
          70.73561628571476,
          68.62159128571474,
          72.28173800000046,
          72.96382214285765,
          71.97186771428636,
          69.46489928571472,
          75.84435857142898,
          72.55528457142896,
          67.1765817142864,
          71.20651728571495,
          74.80434285714317,
          71.6470055714293,
          71.1885558571436,
          72.24316128571493,
          72.77109528571484,
          72.6065497142861,
          71.28614728571479,
          74.0429407142861,
          73.09531514285767,
          72.88867157142911,
          69.48756100000055,
          77.1539010000007,
          77.3131845714288,
          81.5907570000004,
          84.17004085714329,
          81.18868442857193,
          84.913796571429,
          80.88263242857177,
          75.361840571429,
          84.18741900000063,
          83.76371057142948,
          76.84745571428647,
          76.9237675714287,
          78.25826000000062,
          72.24108100000029,
          86.7538577142867,
          77.05035828571464,
          77.24959585714326,
          80.34772514285746,
          78.55983071428606,
          84.20151385714321,
          74.99766700000053,
          79.83440500000042,
          75.63737314285747,
          80.66173914285753,
          78.63212757142917,
          70.15567071428612,
          79.59796700000058,
          74.49908914285756,
          77.5676900000003,
          81.35755700000054,
          80.77601100000048,
          82.79114014285771,
          77.07555528571484,
          74.32128728571483,
          76.78907957142926,
          78.4622990000006,
          81.56160142857179,
          78.13813642857177,
          80.55192028571426,
          76.54462171428591,
          78.8392610000003,
          81.76337285714341,
          77.69698742857169,
          79.92476114285763,
          78.15317771428629,
          80.27948900000052,
          80.71252300000044,
          79.00975485714328,
          77.507307714286,
          79.64099257142895,
          79.07480771428607,
          79.4736608571434,
          84.05557957142895,
          86.60435442857154,
          85.07165128571525,
          88.13821114285739,
          80.10940271428629,
          87.63963185714361,
          85.71962528571528,
          87.36253942857198,
          87.43786057142891,
          84.89895485714331,
          85.35145171428645,
          90.02690200000106,
          86.42763914285761,
          86.05456471428633,
          84.67254557142907,
          89.90241628571522,
          98.85132400000049,
          85.0838988571433,
          84.86826785714342,
          86.62551014285741,
          85.50231042857203,
          83.82298357142949,
          79.51835685714335,
          85.35720842857202,
          80.78716657142931,
          89.66305542857188,
          82.27232400000034,
          85.97099914285783,
          81.05713928571491,
          77.97008714285796,
          84.70913557142913,
          83.58345914285748,
          83.1691268571434,
          81.77546714285752,
          91.84458285714321,
          88.90839657142922,
          82.30009957142924,
          77.84553142857204,
          87.31625557142887,
          85.19285014285735,
          81.34597014285771,
          83.85655942857217,
          80.45770057142931,
          89.3460868571438,
          90.68509500000053,
          83.19315071428623,
          90.0586941428575,
          90.41164442857182,
          85.03919514285741,
          85.80647000000076,
          91.72606257142905,
          93.41326657142893,
          85.78773542857196,
          86.80850257142895,
          81.50078900000045,
          87.24090771428651,
          92.09333942857188,
          80.80679142857215,
          86.82448928571505,
          88.63741557142875,
          90.3196657142863,
          89.90224542857219,
          87.46138057142942,
          86.48542742857192,
          91.19503657142893,
          93.11677971428594,
          92.60324228571467,
          90.7787012857148,
          95.43741514285807,
          87.33618528571489,
          90.02429814285777,
          97.9286615714291,
          91.07442485714316,
          95.04674785714359,
          96.17847200000018,
          99.88389471428592,
          89.72719300000034,
          85.46881357142904,
          91.44161671428623,
          89.90684214285751,
          86.9629831428577,
          84.29921171428623,
          80.35529214285756,
          90.06875285714325,
          90.2135925714293,
          89.53842257142885,
          78.70497328571484,
          83.99541457142925,
          85.25880914285791,
          84.86283328571484,
          81.6426705714288,
          84.20133171428624,
          84.00070614285778,
          81.84886242857213,
          89.6545767142865,
          78.43347942857211,
          87.38692771428633,
          85.79517614285754,
          87.22751900000047,
          83.15837600000044,
          87.21242357142883,
          93.25101757142895,
          84.66506871428625,
          85.82422242857191,
          82.20193971428631,
          85.98117585714334,
          79.7646845714293,
          80.42082328571502,
          83.55635742857197,
          85.65328114285775,
          86.12386228571495,
          79.64465800000046,
          81.38404828571468,
          84.94090857142898,
          80.43676542857214,
          83.32859785714363,
          87.1235604285722,
          91.9931198571439,
          80.4072457142864,
          88.6759961428576,
          89.2665930000005,
          91.0006704285719,
          90.99916057142902,
          85.36694257142908,
          97.19486342857242,
          91.8945368571435,
          94.30101357142922,
          94.64202628571482,
          97.1280234285721,
          96.90407385714357,
          106.11798971428635,
          101.41689685714292,
          105.22116571428663,
          96.43004414285755,
          95.31737014285719,
          90.30521771428643,
          96.39402885714337,
          88.12392471428606,
          92.05552385714364,
          86.96294585714341,
          86.93078971428663,
          86.89049000000081,
          87.90474957142924,
          91.29775328571496,
          84.8410091428578,
          80.85654142857226,
          85.08609657142914,
          82.66918271428624,
          87.09739785714335,
          89.38602942857192,
          82.94163842857205,
          85.89499828571486,
          92.84325514285776,
          86.15571700000078,
          89.63731914285805,
          86.02580957142914,
          90.61746271428649,
          94.6440537142866,
          95.0286414285721,
          90.2886387142864,
          90.46065971428678,
          86.03284857142904,
          86.24371214285783,
          90.19207414285788,
          89.16932542857205,
          86.9582775714295,
          89.45293428571503,
          88.5597492857148,
          84.86814785714311,
          84.65013600000057,
          83.44185057142894,
          89.06809857142915,
          91.26809571428666,
          84.72124542857232,
          83.27142400000065,
          84.77465757142933,
          83.48284300000094,
          92.22067914285799,
          87.08098585714397,
          89.4331242857151,
          88.52685100000105,
          91.66676157142926,
          87.02902628571498,
          92.86137628571493,
          94.3838685714294,
          91.57255600000076,
          96.86495714285772,
          93.26272314285784,
          93.64865900000068,
          93.82295657142922,
          102.9972514285722,
          99.21474700000064,
          99.4813197142865,
          92.48912514285796,
          95.27602357142933,
          89.88673685714346,
          89.28684100000092,
          87.7395908571438,
          86.93895128571512,
          87.65926414285785,
          89.47829000000046,
          90.45312871428622,
          81.88593214285757,
          86.11695771428646,
          88.50278671428684,
          88.98642542857209,
          89.86556914285816,
          87.75042757142916,
          86.76849342857206,
          90.4970257142866,
          85.90911214285802,
          89.66377757142914,
          85.44303271428655,
          88.27640085714381,
          86.56758385714345,
          91.12840371428614,
          90.1337602857151,
          87.320059142858,
          95.18243614285755,
          88.84139085714347,
          90.31543628571507,
          96.5632700000006,
          86.76041714285824,
          87.89354457142937,
          91.07870928571529,
          87.41519314285793,
          91.95733142857226,
          83.42724871428662,
          96.6198297142865,
          89.32253657142964,
          94.71353985714372,
          93.78901757142896,
          91.31299828571508,
          90.75442914285784,
          91.0334557142862,
          92.34526985714405,
          86.19974557142936,
          89.36911500000106,
          92.41342714285783,
          94.88037457142909,
          93.81820771428664,
          96.1942197142867,
          94.20846842857219,
          94.59922828571536,
          94.4237751428579,
          98.77000914285824,
          105.87930728571462,
          101.70759342857227,
          103.30019871428661,
          101.25493957142928,
          102.8708687142867,
          104.20946514285778,
          97.78806071428649,
          100.26902314285789,
          98.25123714285814,
          98.25947114285837,
          100.71081571428648,
          98.51890314285797,
          95.558787142858,
          94.65655942857268,
          94.02456671428648,
          91.37454185714398,
          94.8665351428579,
          94.96381400000107,
          90.38859414285842,
          93.04626014285827,
          94.38143857142936,
          96.63686700000044,
          92.8855744285723,
          94.55045185714351,
          93.66744057142935,
          90.729783428573,
          90.82216314285832,
          94.18131328571492,
          94.62109357142947,
          90.36894814285768,
          94.78118071428685,
          95.2806244285723,
          97.22118785714414,
          95.2537717142863,
          95.36731028571583,
          96.65652900000147,
          97.26709500000075,
          94.83264257142963,
          100.32623400000095,
          94.67346857142941,
          96.16640600000096,
          97.79422442857273,
          98.63959928571526,
          102.71454485714351,
          94.59355314285806,
          94.56849628571524,
          95.47063500000117,
          94.01395442857303,
          101.00868071428641,
          95.82563314285775,
          100.33910885714411,
          98.45541771428647,
          101.64128400000072,
          99.47146900000114,
          99.87760571428655,
          107.71441600000114,
          101.91934757142951,
          103.73784828571549,
          106.0151987142869,
          105.51548914285833,
          108.82326614285823,
          108.69374485714351,
          111.7401445714289,
          102.81506600000124,
          112.15073242857255,
          112.86977285714389,
          108.04516257142984,
          105.62519457142956,
          105.83686528571559,
          101.7853188571432,
          103.23112600000098,
          102.59129214285757,
          99.2326418571443,
          100.79823471428666,
          101.2091941428583,
          100.44343571428698,
          99.58936728571535,
          97.35374128571557,
          99.42161614285824,
          104.54163471428657,
          97.03019328571567,
          98.28357571428668,
          100.08059285714351,
          98.36970014285828,
          96.21189628571534,
          101.75878700000106,
          98.56190285714395,
          100.34782657142912,
          99.43141700000079,
          99.67459457142995,
          102.18484642857263,
          96.7784517142864,
          101.54214728571496,
          98.95390985714394,
          107.76880571428703,
          102.95773171428691,
          97.92990171428728,
          96.65776357142948,
          102.53223000000129,
          95.83573914285832,
          99.30707857142885,
          102.57667300000149,
          94.7161935714298,
          94.08122271428651,
          94.646961857144,
          94.49380171428638,
          92.64138871428656,
          93.8391015714298,
          91.91891071428672,
          93.53319985714344,
          93.1749195714298,
          93.66388342857269,
          92.46564914285793,
          96.00990314285824,
          100.32275085714386,
          93.83806300000089,
          91.25787271428659,
          91.41778171428673,
          92.90913428571511,
          92.12419428571529,
          93.01669971428667,
          93.21538242857218,
          93.26353885714347,
          97.9569601428587,
          93.85804214285784,
          94.01150285714397,
          93.16565514285779,
          92.7065768571436,
          87.65826871428646,
          87.46758600000084,
          86.02174157142964,
          84.00606600000127,
          83.94231714285786,
          81.65238000000105,
          79.38341571428681,
          81.28347357142954,
          83.0370561428583,
          78.41524314285816,
          79.51276214285808,
          80.09293242857218,
          75.50044214285826,
          75.86158057142957,
          78.38912242857214,
          75.93758914285786,
          74.23738857142948,
          77.42249028571496,
          74.03298500000116,
          78.5870578571441,
          76.71575028571512,
          75.56306485714387,
          74.30654271428679,
          74.21818828571556,
          73.08044200000097,
          74.47577142857237,
          72.35098357142954,
          69.85897000000084,
          74.54039257142944,
          72.55666242857232,
          71.940323000001,
          68.02210557142946,
          67.13735214285816,
          68.44858071428669,
          69.99610571428671,
          72.79960271428683,
          68.3201488571439,
          66.96902642857239,
          68.77713085714383,
          68.46601414285819,
          69.41454928571545,
          67.04905328571547,
          69.75344314285816,
          66.34465728571531,
          67.13432857142949,
          72.13439214285786,
          71.62010357142938,
          70.12531614285807,
          71.38629828571524,
          70.46214128571496,
          76.46366714285809,
          71.00731100000071,
          73.2238552857152,
          71.94429214285783,
          74.18396971428668,
          71.63353257142953,
          70.14898114285805,
          72.53977171428681,
          67.26908357142962,
          66.63606485714384,
          65.8820702857153,
          67.90818885714395,
          62.75783500000107,
          60.14963942857228,
          62.843082857143806,
          60.13714657142951,
          64.25597657142974,
          60.66390028571544,
          57.37064314285806,
          55.09357714285799,
          54.71924428571532,
          58.682262000000904,
          59.03519428571521,
          56.05948142857245,
          55.82805271428659,
          56.1276085714295,
          55.14989500000098,
          57.95304885714392,
          55.57004585714377,
          54.40745700000075,
          54.28687800000089,
          53.993059571429725,
          52.76878428571513,
          55.98733571428677,
          54.24015114285804,
          55.471302857143634,
          54.41059757142944,
          54.48401171428667,
          53.63677642857225,
          53.55994271428651,
          53.74424171428659,
          49.06957171428653,
          50.973294000000735,
          51.32459242857237,
          50.17447328571524,
          51.3877557142864,
          53.6873032857152,
          49.57162757142935,
          53.03058028571518,
          52.065789142858144,
          50.266150714286574,
          50.95552428571539,
          51.751749000000906,
          48.6248657142866,
          48.67937957142943,
          51.14946585714385,
          49.703827142858145,
          50.63420900000074,
          53.230790857143624,
          49.855694000000916,
          52.78673257142944,
          51.354844285715224,
          50.521427000000784,
          51.25973871428648,
          49.27436642857234,
          51.07948857142926,
          49.17443785714366,
          51.58842542857229,
          48.42779185714362,
          48.011958285714975,
          51.243024285715016,
          47.39115285714365,
          47.24039371428633,
          50.03076685714362,
          49.21870028571495,
          47.07031200000088,
          45.38801200000071,
          46.35238142857208,
          46.67122585714385,
          47.95282828571501,
          44.106258857143665,
          48.983542571429325,
          45.54205285714355,
          46.777285571429346,
          46.861587285714954,
          44.97157428571508,
          44.33321142857225,
          45.44267057142932,
          45.869724285715094,
          43.301425714286296,
          45.74790842857216,
          44.604368428572144,
          44.219886428571904,
          47.021829142857804,
          46.16522928571499,
          42.6783602857149,
          44.093621428572085,
          44.055265857143574,
          44.07890571428646,
          41.989544857143514,
          41.43611142857202,
          42.37106000000048,
          43.061672857143556,
          40.48472485714354,
          43.08028942857223,
          42.30859485714356,
          41.723567857143586,
          43.446077142857824,
          40.58973200000065,
          42.57388142857197,
          42.5930100000004,
          41.368602142857675,
          42.835034857143434,
          43.72890085714347,
          41.459911428572035,
          40.538755714286346,
          42.09250714285761,
          39.54476785714346,
          41.044701428571926,
          40.35465657142916,
          40.897735571429074,
          40.062498142857734,
          40.3004228571434,
          39.764302000000484
         ],
         "yaxis": "y"
        }
       ],
       "layout": {
        "legend": {
         "title": {
          "text": "variable"
         },
         "tracegroupgap": 0
        },
        "template": {
         "data": {
          "bar": [
           {
            "error_x": {
             "color": "#2a3f5f"
            },
            "error_y": {
             "color": "#2a3f5f"
            },
            "marker": {
             "line": {
              "color": "#E5ECF6",
              "width": 0.5
             },
             "pattern": {
              "fillmode": "overlay",
              "size": 10,
              "solidity": 0.2
             }
            },
            "type": "bar"
           }
          ],
          "barpolar": [
           {
            "marker": {
             "line": {
              "color": "#E5ECF6",
              "width": 0.5
             },
             "pattern": {
              "fillmode": "overlay",
              "size": 10,
              "solidity": 0.2
             }
            },
            "type": "barpolar"
           }
          ],
          "carpet": [
           {
            "aaxis": {
             "endlinecolor": "#2a3f5f",
             "gridcolor": "white",
             "linecolor": "white",
             "minorgridcolor": "white",
             "startlinecolor": "#2a3f5f"
            },
            "baxis": {
             "endlinecolor": "#2a3f5f",
             "gridcolor": "white",
             "linecolor": "white",
             "minorgridcolor": "white",
             "startlinecolor": "#2a3f5f"
            },
            "type": "carpet"
           }
          ],
          "choropleth": [
           {
            "colorbar": {
             "outlinewidth": 0,
             "ticks": ""
            },
            "type": "choropleth"
           }
          ],
          "contour": [
           {
            "colorbar": {
             "outlinewidth": 0,
             "ticks": ""
            },
            "colorscale": [
             [
              0,
              "#0d0887"
             ],
             [
              0.1111111111111111,
              "#46039f"
             ],
             [
              0.2222222222222222,
              "#7201a8"
             ],
             [
              0.3333333333333333,
              "#9c179e"
             ],
             [
              0.4444444444444444,
              "#bd3786"
             ],
             [
              0.5555555555555556,
              "#d8576b"
             ],
             [
              0.6666666666666666,
              "#ed7953"
             ],
             [
              0.7777777777777778,
              "#fb9f3a"
             ],
             [
              0.8888888888888888,
              "#fdca26"
             ],
             [
              1,
              "#f0f921"
             ]
            ],
            "type": "contour"
           }
          ],
          "contourcarpet": [
           {
            "colorbar": {
             "outlinewidth": 0,
             "ticks": ""
            },
            "type": "contourcarpet"
           }
          ],
          "heatmap": [
           {
            "colorbar": {
             "outlinewidth": 0,
             "ticks": ""
            },
            "colorscale": [
             [
              0,
              "#0d0887"
             ],
             [
              0.1111111111111111,
              "#46039f"
             ],
             [
              0.2222222222222222,
              "#7201a8"
             ],
             [
              0.3333333333333333,
              "#9c179e"
             ],
             [
              0.4444444444444444,
              "#bd3786"
             ],
             [
              0.5555555555555556,
              "#d8576b"
             ],
             [
              0.6666666666666666,
              "#ed7953"
             ],
             [
              0.7777777777777778,
              "#fb9f3a"
             ],
             [
              0.8888888888888888,
              "#fdca26"
             ],
             [
              1,
              "#f0f921"
             ]
            ],
            "type": "heatmap"
           }
          ],
          "heatmapgl": [
           {
            "colorbar": {
             "outlinewidth": 0,
             "ticks": ""
            },
            "colorscale": [
             [
              0,
              "#0d0887"
             ],
             [
              0.1111111111111111,
              "#46039f"
             ],
             [
              0.2222222222222222,
              "#7201a8"
             ],
             [
              0.3333333333333333,
              "#9c179e"
             ],
             [
              0.4444444444444444,
              "#bd3786"
             ],
             [
              0.5555555555555556,
              "#d8576b"
             ],
             [
              0.6666666666666666,
              "#ed7953"
             ],
             [
              0.7777777777777778,
              "#fb9f3a"
             ],
             [
              0.8888888888888888,
              "#fdca26"
             ],
             [
              1,
              "#f0f921"
             ]
            ],
            "type": "heatmapgl"
           }
          ],
          "histogram": [
           {
            "marker": {
             "pattern": {
              "fillmode": "overlay",
              "size": 10,
              "solidity": 0.2
             }
            },
            "type": "histogram"
           }
          ],
          "histogram2d": [
           {
            "colorbar": {
             "outlinewidth": 0,
             "ticks": ""
            },
            "colorscale": [
             [
              0,
              "#0d0887"
             ],
             [
              0.1111111111111111,
              "#46039f"
             ],
             [
              0.2222222222222222,
              "#7201a8"
             ],
             [
              0.3333333333333333,
              "#9c179e"
             ],
             [
              0.4444444444444444,
              "#bd3786"
             ],
             [
              0.5555555555555556,
              "#d8576b"
             ],
             [
              0.6666666666666666,
              "#ed7953"
             ],
             [
              0.7777777777777778,
              "#fb9f3a"
             ],
             [
              0.8888888888888888,
              "#fdca26"
             ],
             [
              1,
              "#f0f921"
             ]
            ],
            "type": "histogram2d"
           }
          ],
          "histogram2dcontour": [
           {
            "colorbar": {
             "outlinewidth": 0,
             "ticks": ""
            },
            "colorscale": [
             [
              0,
              "#0d0887"
             ],
             [
              0.1111111111111111,
              "#46039f"
             ],
             [
              0.2222222222222222,
              "#7201a8"
             ],
             [
              0.3333333333333333,
              "#9c179e"
             ],
             [
              0.4444444444444444,
              "#bd3786"
             ],
             [
              0.5555555555555556,
              "#d8576b"
             ],
             [
              0.6666666666666666,
              "#ed7953"
             ],
             [
              0.7777777777777778,
              "#fb9f3a"
             ],
             [
              0.8888888888888888,
              "#fdca26"
             ],
             [
              1,
              "#f0f921"
             ]
            ],
            "type": "histogram2dcontour"
           }
          ],
          "mesh3d": [
           {
            "colorbar": {
             "outlinewidth": 0,
             "ticks": ""
            },
            "type": "mesh3d"
           }
          ],
          "parcoords": [
           {
            "line": {
             "colorbar": {
              "outlinewidth": 0,
              "ticks": ""
             }
            },
            "type": "parcoords"
           }
          ],
          "pie": [
           {
            "automargin": true,
            "type": "pie"
           }
          ],
          "scatter": [
           {
            "marker": {
             "colorbar": {
              "outlinewidth": 0,
              "ticks": ""
             }
            },
            "type": "scatter"
           }
          ],
          "scatter3d": [
           {
            "line": {
             "colorbar": {
              "outlinewidth": 0,
              "ticks": ""
             }
            },
            "marker": {
             "colorbar": {
              "outlinewidth": 0,
              "ticks": ""
             }
            },
            "type": "scatter3d"
           }
          ],
          "scattercarpet": [
           {
            "marker": {
             "colorbar": {
              "outlinewidth": 0,
              "ticks": ""
             }
            },
            "type": "scattercarpet"
           }
          ],
          "scattergeo": [
           {
            "marker": {
             "colorbar": {
              "outlinewidth": 0,
              "ticks": ""
             }
            },
            "type": "scattergeo"
           }
          ],
          "scattergl": [
           {
            "marker": {
             "colorbar": {
              "outlinewidth": 0,
              "ticks": ""
             }
            },
            "type": "scattergl"
           }
          ],
          "scattermapbox": [
           {
            "marker": {
             "colorbar": {
              "outlinewidth": 0,
              "ticks": ""
             }
            },
            "type": "scattermapbox"
           }
          ],
          "scatterpolar": [
           {
            "marker": {
             "colorbar": {
              "outlinewidth": 0,
              "ticks": ""
             }
            },
            "type": "scatterpolar"
           }
          ],
          "scatterpolargl": [
           {
            "marker": {
             "colorbar": {
              "outlinewidth": 0,
              "ticks": ""
             }
            },
            "type": "scatterpolargl"
           }
          ],
          "scatterternary": [
           {
            "marker": {
             "colorbar": {
              "outlinewidth": 0,
              "ticks": ""
             }
            },
            "type": "scatterternary"
           }
          ],
          "surface": [
           {
            "colorbar": {
             "outlinewidth": 0,
             "ticks": ""
            },
            "colorscale": [
             [
              0,
              "#0d0887"
             ],
             [
              0.1111111111111111,
              "#46039f"
             ],
             [
              0.2222222222222222,
              "#7201a8"
             ],
             [
              0.3333333333333333,
              "#9c179e"
             ],
             [
              0.4444444444444444,
              "#bd3786"
             ],
             [
              0.5555555555555556,
              "#d8576b"
             ],
             [
              0.6666666666666666,
              "#ed7953"
             ],
             [
              0.7777777777777778,
              "#fb9f3a"
             ],
             [
              0.8888888888888888,
              "#fdca26"
             ],
             [
              1,
              "#f0f921"
             ]
            ],
            "type": "surface"
           }
          ],
          "table": [
           {
            "cells": {
             "fill": {
              "color": "#EBF0F8"
             },
             "line": {
              "color": "white"
             }
            },
            "header": {
             "fill": {
              "color": "#C8D4E3"
             },
             "line": {
              "color": "white"
             }
            },
            "type": "table"
           }
          ]
         },
         "layout": {
          "annotationdefaults": {
           "arrowcolor": "#2a3f5f",
           "arrowhead": 0,
           "arrowwidth": 1
          },
          "autotypenumbers": "strict",
          "coloraxis": {
           "colorbar": {
            "outlinewidth": 0,
            "ticks": ""
           }
          },
          "colorscale": {
           "diverging": [
            [
             0,
             "#8e0152"
            ],
            [
             0.1,
             "#c51b7d"
            ],
            [
             0.2,
             "#de77ae"
            ],
            [
             0.3,
             "#f1b6da"
            ],
            [
             0.4,
             "#fde0ef"
            ],
            [
             0.5,
             "#f7f7f7"
            ],
            [
             0.6,
             "#e6f5d0"
            ],
            [
             0.7,
             "#b8e186"
            ],
            [
             0.8,
             "#7fbc41"
            ],
            [
             0.9,
             "#4d9221"
            ],
            [
             1,
             "#276419"
            ]
           ],
           "sequential": [
            [
             0,
             "#0d0887"
            ],
            [
             0.1111111111111111,
             "#46039f"
            ],
            [
             0.2222222222222222,
             "#7201a8"
            ],
            [
             0.3333333333333333,
             "#9c179e"
            ],
            [
             0.4444444444444444,
             "#bd3786"
            ],
            [
             0.5555555555555556,
             "#d8576b"
            ],
            [
             0.6666666666666666,
             "#ed7953"
            ],
            [
             0.7777777777777778,
             "#fb9f3a"
            ],
            [
             0.8888888888888888,
             "#fdca26"
            ],
            [
             1,
             "#f0f921"
            ]
           ],
           "sequentialminus": [
            [
             0,
             "#0d0887"
            ],
            [
             0.1111111111111111,
             "#46039f"
            ],
            [
             0.2222222222222222,
             "#7201a8"
            ],
            [
             0.3333333333333333,
             "#9c179e"
            ],
            [
             0.4444444444444444,
             "#bd3786"
            ],
            [
             0.5555555555555556,
             "#d8576b"
            ],
            [
             0.6666666666666666,
             "#ed7953"
            ],
            [
             0.7777777777777778,
             "#fb9f3a"
            ],
            [
             0.8888888888888888,
             "#fdca26"
            ],
            [
             1,
             "#f0f921"
            ]
           ]
          },
          "colorway": [
           "#636efa",
           "#EF553B",
           "#00cc96",
           "#ab63fa",
           "#FFA15A",
           "#19d3f3",
           "#FF6692",
           "#B6E880",
           "#FF97FF",
           "#FECB52"
          ],
          "font": {
           "color": "#2a3f5f"
          },
          "geo": {
           "bgcolor": "white",
           "lakecolor": "white",
           "landcolor": "#E5ECF6",
           "showlakes": true,
           "showland": true,
           "subunitcolor": "white"
          },
          "hoverlabel": {
           "align": "left"
          },
          "hovermode": "closest",
          "mapbox": {
           "style": "light"
          },
          "paper_bgcolor": "white",
          "plot_bgcolor": "#E5ECF6",
          "polar": {
           "angularaxis": {
            "gridcolor": "white",
            "linecolor": "white",
            "ticks": ""
           },
           "bgcolor": "#E5ECF6",
           "radialaxis": {
            "gridcolor": "white",
            "linecolor": "white",
            "ticks": ""
           }
          },
          "scene": {
           "xaxis": {
            "backgroundcolor": "#E5ECF6",
            "gridcolor": "white",
            "gridwidth": 2,
            "linecolor": "white",
            "showbackground": true,
            "ticks": "",
            "zerolinecolor": "white"
           },
           "yaxis": {
            "backgroundcolor": "#E5ECF6",
            "gridcolor": "white",
            "gridwidth": 2,
            "linecolor": "white",
            "showbackground": true,
            "ticks": "",
            "zerolinecolor": "white"
           },
           "zaxis": {
            "backgroundcolor": "#E5ECF6",
            "gridcolor": "white",
            "gridwidth": 2,
            "linecolor": "white",
            "showbackground": true,
            "ticks": "",
            "zerolinecolor": "white"
           }
          },
          "shapedefaults": {
           "line": {
            "color": "#2a3f5f"
           }
          },
          "ternary": {
           "aaxis": {
            "gridcolor": "white",
            "linecolor": "white",
            "ticks": ""
           },
           "baxis": {
            "gridcolor": "white",
            "linecolor": "white",
            "ticks": ""
           },
           "bgcolor": "#E5ECF6",
           "caxis": {
            "gridcolor": "white",
            "linecolor": "white",
            "ticks": ""
           }
          },
          "title": {
           "x": 0.05
          },
          "xaxis": {
           "automargin": true,
           "gridcolor": "white",
           "linecolor": "white",
           "ticks": "",
           "title": {
            "standoff": 15
           },
           "zerolinecolor": "white",
           "zerolinewidth": 2
          },
          "yaxis": {
           "automargin": true,
           "gridcolor": "white",
           "linecolor": "white",
           "ticks": "",
           "title": {
            "standoff": 15
           },
           "zerolinecolor": "white",
           "zerolinewidth": 2
          }
         }
        },
        "title": {
         "text": "<b>시간 별 매출 (단위 : 억원)</b>"
        },
        "xaxis": {
         "anchor": "y",
         "domain": [
          0,
          1
         ],
         "title": {
          "text": "time"
         }
        },
        "yaxis": {
         "anchor": "x",
         "domain": [
          0,
          1
         ],
         "title": {
          "text": "value"
         }
        }
       }
      }
     },
     "metadata": {}
    }
   ],
   "metadata": {}
  },
  {
   "cell_type": "code",
   "execution_count": 172,
   "source": [
    "grouped_day.sum().plot(figsize = (20,6), \r\n",
    "                       title = '일 별 매출(단위: 억원)', \r\n",
    "                       marker='o',\r\n",
    "                       linewidth=2,\r\n",
    "                       color = 'k')\r\n",
    "\r\n",
    "plt.show()"
   ],
   "outputs": [
    {
     "output_type": "display_data",
     "data": {
      "image/png": "[encoded data removed]",
      "text/plain": [
       "<Figure size 1440x432 with 1 Axes>"
      ]
     },
     "metadata": {}
    }
   ],
   "metadata": {}
  },
  {
   "cell_type": "code",
   "execution_count": 98,
   "source": [
    "fig = px.line(grouped_day.sum(), \r\n",
    "        markers = 'o', \r\n",
    "        title = '<b>일 별 매출 (단위 : 억원)</b>')\r\n",
    "fig.show()"
   ],
   "outputs": [
    {
     "output_type": "display_data",
     "data": {
      "application/vnd.plotly.v1+json": {
       "config": {
        "plotlyServerURL": "https://plotly.com"
       },
       "data": [
        {
         "hovertemplate": "variable=amount<br>day=%{x}<br>value=%{y}<extra></extra>",
         "legendgroup": "amount",
         "line": {
          "color": "#636efa",
          "dash": "solid"
         },
         "marker": {
          "symbol": "circle"
         },
         "mode": "markers+lines",
         "name": "amount",
         "orientation": "v",
         "showlegend": true,
         "type": "scatter",
         "x": [
          1,
          2,
          3,
          4,
          5,
          6,
          7,
          8,
          9,
          10,
          11,
          12,
          13,
          14,
          15,
          16,
          17,
          18,
          19,
          20,
          21,
          22,
          23,
          24,
          25,
          26,
          27,
          28,
          29,
          30,
          31
         ],
         "xaxis": "x",
         "y": [
          232.04744151431856,
          239.0958574000289,
          224.34837948574233,
          215.84677404288317,
          213.29693708574035,
          213.08189602859943,
          221.08565664288946,
          222.9216080428908,
          211.40742790002884,
          217.26697034289322,
          214.97874500002723,
          213.61998017146027,
          220.96127690004386,
          219.7183319143221,
          210.9651768286017,
          212.34912105717487,
          211.3345236571745,
          211.0622999571733,
          214.61092600003244,
          220.8613039571832,
          223.16110985718242,
          215.4687357428943,
          217.98018345718563,
          217.80519532861064,
          226.9695390143268,
          243.52302677148984,
          251.80505907149256,
          264.53180844290733,
          234.76797958575457,
          231.64539311432378,
          153.3800059428564
         ],
         "yaxis": "y"
        }
       ],
       "layout": {
        "legend": {
         "title": {
          "text": "variable"
         },
         "tracegroupgap": 0
        },
        "template": {
         "data": {
          "bar": [
           {
            "error_x": {
             "color": "#2a3f5f"
            },
            "error_y": {
             "color": "#2a3f5f"
            },
            "marker": {
             "line": {
              "color": "#E5ECF6",
              "width": 0.5
             },
             "pattern": {
              "fillmode": "overlay",
              "size": 10,
              "solidity": 0.2
             }
            },
            "type": "bar"
           }
          ],
          "barpolar": [
           {
            "marker": {
             "line": {
              "color": "#E5ECF6",
              "width": 0.5
             },
             "pattern": {
              "fillmode": "overlay",
              "size": 10,
              "solidity": 0.2
             }
            },
            "type": "barpolar"
           }
          ],
          "carpet": [
           {
            "aaxis": {
             "endlinecolor": "#2a3f5f",
             "gridcolor": "white",
             "linecolor": "white",
             "minorgridcolor": "white",
             "startlinecolor": "#2a3f5f"
            },
            "baxis": {
             "endlinecolor": "#2a3f5f",
             "gridcolor": "white",
             "linecolor": "white",
             "minorgridcolor": "white",
             "startlinecolor": "#2a3f5f"
            },
            "type": "carpet"
           }
          ],
          "choropleth": [
           {
            "colorbar": {
             "outlinewidth": 0,
             "ticks": ""
            },
            "type": "choropleth"
           }
          ],
          "contour": [
           {
            "colorbar": {
             "outlinewidth": 0,
             "ticks": ""
            },
            "colorscale": [
             [
              0,
              "#0d0887"
             ],
             [
              0.1111111111111111,
              "#46039f"
             ],
             [
              0.2222222222222222,
              "#7201a8"
             ],
             [
              0.3333333333333333,
              "#9c179e"
             ],
             [
              0.4444444444444444,
              "#bd3786"
             ],
             [
              0.5555555555555556,
              "#d8576b"
             ],
             [
              0.6666666666666666,
              "#ed7953"
             ],
             [
              0.7777777777777778,
              "#fb9f3a"
             ],
             [
              0.8888888888888888,
              "#fdca26"
             ],
             [
              1,
              "#f0f921"
             ]
            ],
            "type": "contour"
           }
          ],
          "contourcarpet": [
           {
            "colorbar": {
             "outlinewidth": 0,
             "ticks": ""
            },
            "type": "contourcarpet"
           }
          ],
          "heatmap": [
           {
            "colorbar": {
             "outlinewidth": 0,
             "ticks": ""
            },
            "colorscale": [
             [
              0,
              "#0d0887"
             ],
             [
              0.1111111111111111,
              "#46039f"
             ],
             [
              0.2222222222222222,
              "#7201a8"
             ],
             [
              0.3333333333333333,
              "#9c179e"
             ],
             [
              0.4444444444444444,
              "#bd3786"
             ],
             [
              0.5555555555555556,
              "#d8576b"
             ],
             [
              0.6666666666666666,
              "#ed7953"
             ],
             [
              0.7777777777777778,
              "#fb9f3a"
             ],
             [
              0.8888888888888888,
              "#fdca26"
             ],
             [
              1,
              "#f0f921"
             ]
            ],
            "type": "heatmap"
           }
          ],
          "heatmapgl": [
           {
            "colorbar": {
             "outlinewidth": 0,
             "ticks": ""
            },
            "colorscale": [
             [
              0,
              "#0d0887"
             ],
             [
              0.1111111111111111,
              "#46039f"
             ],
             [
              0.2222222222222222,
              "#7201a8"
             ],
             [
              0.3333333333333333,
              "#9c179e"
             ],
             [
              0.4444444444444444,
              "#bd3786"
             ],
             [
              0.5555555555555556,
              "#d8576b"
             ],
             [
              0.6666666666666666,
              "#ed7953"
             ],
             [
              0.7777777777777778,
              "#fb9f3a"
             ],
             [
              0.8888888888888888,
              "#fdca26"
             ],
             [
              1,
              "#f0f921"
             ]
            ],
            "type": "heatmapgl"
           }
          ],
          "histogram": [
           {
            "marker": {
             "pattern": {
              "fillmode": "overlay",
              "size": 10,
              "solidity": 0.2
             }
            },
            "type": "histogram"
           }
          ],
          "histogram2d": [
           {
            "colorbar": {
             "outlinewidth": 0,
             "ticks": ""
            },
            "colorscale": [
             [
              0,
              "#0d0887"
             ],
             [
              0.1111111111111111,
              "#46039f"
             ],
             [
              0.2222222222222222,
              "#7201a8"
             ],
             [
              0.3333333333333333,
              "#9c179e"
             ],
             [
              0.4444444444444444,
              "#bd3786"
             ],
             [
              0.5555555555555556,
              "#d8576b"
             ],
             [
              0.6666666666666666,
              "#ed7953"
             ],
             [
              0.7777777777777778,
              "#fb9f3a"
             ],
             [
              0.8888888888888888,
              "#fdca26"
             ],
             [
              1,
              "#f0f921"
             ]
            ],
            "type": "histogram2d"
           }
          ],
          "histogram2dcontour": [
           {
            "colorbar": {
             "outlinewidth": 0,
             "ticks": ""
            },
            "colorscale": [
             [
              0,
              "#0d0887"
             ],
             [
              0.1111111111111111,
              "#46039f"
             ],
             [
              0.2222222222222222,
              "#7201a8"
             ],
             [
              0.3333333333333333,
              "#9c179e"
             ],
             [
              0.4444444444444444,
              "#bd3786"
             ],
             [
              0.5555555555555556,
              "#d8576b"
             ],
             [
              0.6666666666666666,
              "#ed7953"
             ],
             [
              0.7777777777777778,
              "#fb9f3a"
             ],
             [
              0.8888888888888888,
              "#fdca26"
             ],
             [
              1,
              "#f0f921"
             ]
            ],
            "type": "histogram2dcontour"
           }
          ],
          "mesh3d": [
           {
            "colorbar": {
             "outlinewidth": 0,
             "ticks": ""
            },
            "type": "mesh3d"
           }
          ],
          "parcoords": [
           {
            "line": {
             "colorbar": {
              "outlinewidth": 0,
              "ticks": ""
             }
            },
            "type": "parcoords"
           }
          ],
          "pie": [
           {
            "automargin": true,
            "type": "pie"
           }
          ],
          "scatter": [
           {
            "marker": {
             "colorbar": {
              "outlinewidth": 0,
              "ticks": ""
             }
            },
            "type": "scatter"
           }
          ],
          "scatter3d": [
           {
            "line": {
             "colorbar": {
              "outlinewidth": 0,
              "ticks": ""
             }
            },
            "marker": {
             "colorbar": {
              "outlinewidth": 0,
              "ticks": ""
             }
            },
            "type": "scatter3d"
           }
          ],
          "scattercarpet": [
           {
            "marker": {
             "colorbar": {
              "outlinewidth": 0,
              "ticks": ""
             }
            },
            "type": "scattercarpet"
           }
          ],
          "scattergeo": [
           {
            "marker": {
             "colorbar": {
              "outlinewidth": 0,
              "ticks": ""
             }
            },
            "type": "scattergeo"
           }
          ],
          "scattergl": [
           {
            "marker": {
             "colorbar": {
              "outlinewidth": 0,
              "ticks": ""
             }
            },
            "type": "scattergl"
           }
          ],
          "scattermapbox": [
           {
            "marker": {
             "colorbar": {
              "outlinewidth": 0,
              "ticks": ""
             }
            },
            "type": "scattermapbox"
           }
          ],
          "scatterpolar": [
           {
            "marker": {
             "colorbar": {
              "outlinewidth": 0,
              "ticks": ""
             }
            },
            "type": "scatterpolar"
           }
          ],
          "scatterpolargl": [
           {
            "marker": {
             "colorbar": {
              "outlinewidth": 0,
              "ticks": ""
             }
            },
            "type": "scatterpolargl"
           }
          ],
          "scatterternary": [
           {
            "marker": {
             "colorbar": {
              "outlinewidth": 0,
              "ticks": ""
             }
            },
            "type": "scatterternary"
           }
          ],
          "surface": [
           {
            "colorbar": {
             "outlinewidth": 0,
             "ticks": ""
            },
            "colorscale": [
             [
              0,
              "#0d0887"
             ],
             [
              0.1111111111111111,
              "#46039f"
             ],
             [
              0.2222222222222222,
              "#7201a8"
             ],
             [
              0.3333333333333333,
              "#9c179e"
             ],
             [
              0.4444444444444444,
              "#bd3786"
             ],
             [
              0.5555555555555556,
              "#d8576b"
             ],
             [
              0.6666666666666666,
              "#ed7953"
             ],
             [
              0.7777777777777778,
              "#fb9f3a"
             ],
             [
              0.8888888888888888,
              "#fdca26"
             ],
             [
              1,
              "#f0f921"
             ]
            ],
            "type": "surface"
           }
          ],
          "table": [
           {
            "cells": {
             "fill": {
              "color": "#EBF0F8"
             },
             "line": {
              "color": "white"
             }
            },
            "header": {
             "fill": {
              "color": "#C8D4E3"
             },
             "line": {
              "color": "white"
             }
            },
            "type": "table"
           }
          ]
         },
         "layout": {
          "annotationdefaults": {
           "arrowcolor": "#2a3f5f",
           "arrowhead": 0,
           "arrowwidth": 1
          },
          "autotypenumbers": "strict",
          "coloraxis": {
           "colorbar": {
            "outlinewidth": 0,
            "ticks": ""
           }
          },
          "colorscale": {
           "diverging": [
            [
             0,
             "#8e0152"
            ],
            [
             0.1,
             "#c51b7d"
            ],
            [
             0.2,
             "#de77ae"
            ],
            [
             0.3,
             "#f1b6da"
            ],
            [
             0.4,
             "#fde0ef"
            ],
            [
             0.5,
             "#f7f7f7"
            ],
            [
             0.6,
             "#e6f5d0"
            ],
            [
             0.7,
             "#b8e186"
            ],
            [
             0.8,
             "#7fbc41"
            ],
            [
             0.9,
             "#4d9221"
            ],
            [
             1,
             "#276419"
            ]
           ],
           "sequential": [
            [
             0,
             "#0d0887"
            ],
            [
             0.1111111111111111,
             "#46039f"
            ],
            [
             0.2222222222222222,
             "#7201a8"
            ],
            [
             0.3333333333333333,
             "#9c179e"
            ],
            [
             0.4444444444444444,
             "#bd3786"
            ],
            [
             0.5555555555555556,
             "#d8576b"
            ],
            [
             0.6666666666666666,
             "#ed7953"
            ],
            [
             0.7777777777777778,
             "#fb9f3a"
            ],
            [
             0.8888888888888888,
             "#fdca26"
            ],
            [
             1,
             "#f0f921"
            ]
           ],
           "sequentialminus": [
            [
             0,
             "#0d0887"
            ],
            [
             0.1111111111111111,
             "#46039f"
            ],
            [
             0.2222222222222222,
             "#7201a8"
            ],
            [
             0.3333333333333333,
             "#9c179e"
            ],
            [
             0.4444444444444444,
             "#bd3786"
            ],
            [
             0.5555555555555556,
             "#d8576b"
            ],
            [
             0.6666666666666666,
             "#ed7953"
            ],
            [
             0.7777777777777778,
             "#fb9f3a"
            ],
            [
             0.8888888888888888,
             "#fdca26"
            ],
            [
             1,
             "#f0f921"
            ]
           ]
          },
          "colorway": [
           "#636efa",
           "#EF553B",
           "#00cc96",
           "#ab63fa",
           "#FFA15A",
           "#19d3f3",
           "#FF6692",
           "#B6E880",
           "#FF97FF",
           "#FECB52"
          ],
          "font": {
           "color": "#2a3f5f"
          },
          "geo": {
           "bgcolor": "white",
           "lakecolor": "white",
           "landcolor": "#E5ECF6",
           "showlakes": true,
           "showland": true,
           "subunitcolor": "white"
          },
          "hoverlabel": {
           "align": "left"
          },
          "hovermode": "closest",
          "mapbox": {
           "style": "light"
          },
          "paper_bgcolor": "white",
          "plot_bgcolor": "#E5ECF6",
          "polar": {
           "angularaxis": {
            "gridcolor": "white",
            "linecolor": "white",
            "ticks": ""
           },
           "bgcolor": "#E5ECF6",
           "radialaxis": {
            "gridcolor": "white",
            "linecolor": "white",
            "ticks": ""
           }
          },
          "scene": {
           "xaxis": {
            "backgroundcolor": "#E5ECF6",
            "gridcolor": "white",
            "gridwidth": 2,
            "linecolor": "white",
            "showbackground": true,
            "ticks": "",
            "zerolinecolor": "white"
           },
           "yaxis": {
            "backgroundcolor": "#E5ECF6",
            "gridcolor": "white",
            "gridwidth": 2,
            "linecolor": "white",
            "showbackground": true,
            "ticks": "",
            "zerolinecolor": "white"
           },
           "zaxis": {
            "backgroundcolor": "#E5ECF6",
            "gridcolor": "white",
            "gridwidth": 2,
            "linecolor": "white",
            "showbackground": true,
            "ticks": "",
            "zerolinecolor": "white"
           }
          },
          "shapedefaults": {
           "line": {
            "color": "#2a3f5f"
           }
          },
          "ternary": {
           "aaxis": {
            "gridcolor": "white",
            "linecolor": "white",
            "ticks": ""
           },
           "baxis": {
            "gridcolor": "white",
            "linecolor": "white",
            "ticks": ""
           },
           "bgcolor": "#E5ECF6",
           "caxis": {
            "gridcolor": "white",
            "linecolor": "white",
            "ticks": ""
           }
          },
          "title": {
           "x": 0.05
          },
          "xaxis": {
           "automargin": true,
           "gridcolor": "white",
           "linecolor": "white",
           "ticks": "",
           "title": {
            "standoff": 15
           },
           "zerolinecolor": "white",
           "zerolinewidth": 2
          },
          "yaxis": {
           "automargin": true,
           "gridcolor": "white",
           "linecolor": "white",
           "ticks": "",
           "title": {
            "standoff": 15
           },
           "zerolinecolor": "white",
           "zerolinewidth": 2
          }
         }
        },
        "title": {
         "text": "<b>일 별 매출 (단위 : 억원)</b>"
        },
        "xaxis": {
         "anchor": "y",
         "domain": [
          0,
          1
         ],
         "title": {
          "text": "day"
         }
        },
        "yaxis": {
         "anchor": "x",
         "domain": [
          0,
          1
         ],
         "title": {
          "text": "value"
         }
        }
       }
      }
     },
     "metadata": {}
    }
   ],
   "metadata": {}
  },
  {
   "cell_type": "code",
   "execution_count": 88,
   "source": [
    "grouped_month.sum().plot(figsize = (20,6),\r\n",
    "                         title = '월 별 매출(단위: 억원)', \r\n",
    "                         marker='o',\r\n",
    "                         linewidth=2,\r\n",
    "                         color = 'k')\r\n",
    "plt.show()"
   ],
   "outputs": [
    {
     "output_type": "display_data",
     "data": {
      "image/png": "[encoded data removed]",
      "text/plain": [
       "<Figure size 1440x432 with 1 Axes>"
      ]
     },
     "metadata": {}
    }
   ],
   "metadata": {}
  },
  {
   "cell_type": "code",
   "execution_count": 99,
   "source": [
    "fig = px.line(grouped_month.sum(), \r\n",
    "        markers = 'o', \r\n",
    "        title = '<b>월 별 매출 (단위 : 억원)</b>')\r\n",
    "fig.show()"
   ],
   "outputs": [
    {
     "output_type": "display_data",
     "data": {
      "application/vnd.plotly.v1+json": {
       "config": {
        "plotlyServerURL": "https://plotly.com"
       },
       "data": [
        {
         "hovertemplate": "variable=amount<br>month=%{x}<br>value=%{y}<extra></extra>",
         "legendgroup": "amount",
         "line": {
          "color": "#636efa",
          "dash": "solid"
         },
         "marker": {
          "symbol": "circle"
         },
         "mode": "markers+lines",
         "name": "amount",
         "orientation": "v",
         "showlegend": true,
         "type": "scatter",
         "x": [
          1,
          2,
          3,
          4,
          5,
          6,
          7,
          8,
          9,
          10,
          11,
          12
         ],
         "xaxis": "x",
         "y": [
          606.7231251852845,
          567.7904729140167,
          450.19191282843195,
          442.4691306855759,
          463.79581475700644,
          602.7227737852245,
          615.7297283995056,
          601.4415856709578,
          602.4529844137998,
          613.0889534851757,
          618.5686185566561,
          656.923569570778
         ],
         "yaxis": "y"
        }
       ],
       "layout": {
        "legend": {
         "title": {
          "text": "variable"
         },
         "tracegroupgap": 0
        },
        "template": {
         "data": {
          "bar": [
           {
            "error_x": {
             "color": "#2a3f5f"
            },
            "error_y": {
             "color": "#2a3f5f"
            },
            "marker": {
             "line": {
              "color": "#E5ECF6",
              "width": 0.5
             },
             "pattern": {
              "fillmode": "overlay",
              "size": 10,
              "solidity": 0.2
             }
            },
            "type": "bar"
           }
          ],
          "barpolar": [
           {
            "marker": {
             "line": {
              "color": "#E5ECF6",
              "width": 0.5
             },
             "pattern": {
              "fillmode": "overlay",
              "size": 10,
              "solidity": 0.2
             }
            },
            "type": "barpolar"
           }
          ],
          "carpet": [
           {
            "aaxis": {
             "endlinecolor": "#2a3f5f",
             "gridcolor": "white",
             "linecolor": "white",
             "minorgridcolor": "white",
             "startlinecolor": "#2a3f5f"
            },
            "baxis": {
             "endlinecolor": "#2a3f5f",
             "gridcolor": "white",
             "linecolor": "white",
             "minorgridcolor": "white",
             "startlinecolor": "#2a3f5f"
            },
            "type": "carpet"
           }
          ],
          "choropleth": [
           {
            "colorbar": {
             "outlinewidth": 0,
             "ticks": ""
            },
            "type": "choropleth"
           }
          ],
          "contour": [
           {
            "colorbar": {
             "outlinewidth": 0,
             "ticks": ""
            },
            "colorscale": [
             [
              0,
              "#0d0887"
             ],
             [
              0.1111111111111111,
              "#46039f"
             ],
             [
              0.2222222222222222,
              "#7201a8"
             ],
             [
              0.3333333333333333,
              "#9c179e"
             ],
             [
              0.4444444444444444,
              "#bd3786"
             ],
             [
              0.5555555555555556,
              "#d8576b"
             ],
             [
              0.6666666666666666,
              "#ed7953"
             ],
             [
              0.7777777777777778,
              "#fb9f3a"
             ],
             [
              0.8888888888888888,
              "#fdca26"
             ],
             [
              1,
              "#f0f921"
             ]
            ],
            "type": "contour"
           }
          ],
          "contourcarpet": [
           {
            "colorbar": {
             "outlinewidth": 0,
             "ticks": ""
            },
            "type": "contourcarpet"
           }
          ],
          "heatmap": [
           {
            "colorbar": {
             "outlinewidth": 0,
             "ticks": ""
            },
            "colorscale": [
             [
              0,
              "#0d0887"
             ],
             [
              0.1111111111111111,
              "#46039f"
             ],
             [
              0.2222222222222222,
              "#7201a8"
             ],
             [
              0.3333333333333333,
              "#9c179e"
             ],
             [
              0.4444444444444444,
              "#bd3786"
             ],
             [
              0.5555555555555556,
              "#d8576b"
             ],
             [
              0.6666666666666666,
              "#ed7953"
             ],
             [
              0.7777777777777778,
              "#fb9f3a"
             ],
             [
              0.8888888888888888,
              "#fdca26"
             ],
             [
              1,
              "#f0f921"
             ]
            ],
            "type": "heatmap"
           }
          ],
          "heatmapgl": [
           {
            "colorbar": {
             "outlinewidth": 0,
             "ticks": ""
            },
            "colorscale": [
             [
              0,
              "#0d0887"
             ],
             [
              0.1111111111111111,
              "#46039f"
             ],
             [
              0.2222222222222222,
              "#7201a8"
             ],
             [
              0.3333333333333333,
              "#9c179e"
             ],
             [
              0.4444444444444444,
              "#bd3786"
             ],
             [
              0.5555555555555556,
              "#d8576b"
             ],
             [
              0.6666666666666666,
              "#ed7953"
             ],
             [
              0.7777777777777778,
              "#fb9f3a"
             ],
             [
              0.8888888888888888,
              "#fdca26"
             ],
             [
              1,
              "#f0f921"
             ]
            ],
            "type": "heatmapgl"
           }
          ],
          "histogram": [
           {
            "marker": {
             "pattern": {
              "fillmode": "overlay",
              "size": 10,
              "solidity": 0.2
             }
            },
            "type": "histogram"
           }
          ],
          "histogram2d": [
           {
            "colorbar": {
             "outlinewidth": 0,
             "ticks": ""
            },
            "colorscale": [
             [
              0,
              "#0d0887"
             ],
             [
              0.1111111111111111,
              "#46039f"
             ],
             [
              0.2222222222222222,
              "#7201a8"
             ],
             [
              0.3333333333333333,
              "#9c179e"
             ],
             [
              0.4444444444444444,
              "#bd3786"
             ],
             [
              0.5555555555555556,
              "#d8576b"
             ],
             [
              0.6666666666666666,
              "#ed7953"
             ],
             [
              0.7777777777777778,
              "#fb9f3a"
             ],
             [
              0.8888888888888888,
              "#fdca26"
             ],
             [
              1,
              "#f0f921"
             ]
            ],
            "type": "histogram2d"
           }
          ],
          "histogram2dcontour": [
           {
            "colorbar": {
             "outlinewidth": 0,
             "ticks": ""
            },
            "colorscale": [
             [
              0,
              "#0d0887"
             ],
             [
              0.1111111111111111,
              "#46039f"
             ],
             [
              0.2222222222222222,
              "#7201a8"
             ],
             [
              0.3333333333333333,
              "#9c179e"
             ],
             [
              0.4444444444444444,
              "#bd3786"
             ],
             [
              0.5555555555555556,
              "#d8576b"
             ],
             [
              0.6666666666666666,
              "#ed7953"
             ],
             [
              0.7777777777777778,
              "#fb9f3a"
             ],
             [
              0.8888888888888888,
              "#fdca26"
             ],
             [
              1,
              "#f0f921"
             ]
            ],
            "type": "histogram2dcontour"
           }
          ],
          "mesh3d": [
           {
            "colorbar": {
             "outlinewidth": 0,
             "ticks": ""
            },
            "type": "mesh3d"
           }
          ],
          "parcoords": [
           {
            "line": {
             "colorbar": {
              "outlinewidth": 0,
              "ticks": ""
             }
            },
            "type": "parcoords"
           }
          ],
          "pie": [
           {
            "automargin": true,
            "type": "pie"
           }
          ],
          "scatter": [
           {
            "marker": {
             "colorbar": {
              "outlinewidth": 0,
              "ticks": ""
             }
            },
            "type": "scatter"
           }
          ],
          "scatter3d": [
           {
            "line": {
             "colorbar": {
              "outlinewidth": 0,
              "ticks": ""
             }
            },
            "marker": {
             "colorbar": {
              "outlinewidth": 0,
              "ticks": ""
             }
            },
            "type": "scatter3d"
           }
          ],
          "scattercarpet": [
           {
            "marker": {
             "colorbar": {
              "outlinewidth": 0,
              "ticks": ""
             }
            },
            "type": "scattercarpet"
           }
          ],
          "scattergeo": [
           {
            "marker": {
             "colorbar": {
              "outlinewidth": 0,
              "ticks": ""
             }
            },
            "type": "scattergeo"
           }
          ],
          "scattergl": [
           {
            "marker": {
             "colorbar": {
              "outlinewidth": 0,
              "ticks": ""
             }
            },
            "type": "scattergl"
           }
          ],
          "scattermapbox": [
           {
            "marker": {
             "colorbar": {
              "outlinewidth": 0,
              "ticks": ""
             }
            },
            "type": "scattermapbox"
           }
          ],
          "scatterpolar": [
           {
            "marker": {
             "colorbar": {
              "outlinewidth": 0,
              "ticks": ""
             }
            },
            "type": "scatterpolar"
           }
          ],
          "scatterpolargl": [
           {
            "marker": {
             "colorbar": {
              "outlinewidth": 0,
              "ticks": ""
             }
            },
            "type": "scatterpolargl"
           }
          ],
          "scatterternary": [
           {
            "marker": {
             "colorbar": {
              "outlinewidth": 0,
              "ticks": ""
             }
            },
            "type": "scatterternary"
           }
          ],
          "surface": [
           {
            "colorbar": {
             "outlinewidth": 0,
             "ticks": ""
            },
            "colorscale": [
             [
              0,
              "#0d0887"
             ],
             [
              0.1111111111111111,
              "#46039f"
             ],
             [
              0.2222222222222222,
              "#7201a8"
             ],
             [
              0.3333333333333333,
              "#9c179e"
             ],
             [
              0.4444444444444444,
              "#bd3786"
             ],
             [
              0.5555555555555556,
              "#d8576b"
             ],
             [
              0.6666666666666666,
              "#ed7953"
             ],
             [
              0.7777777777777778,
              "#fb9f3a"
             ],
             [
              0.8888888888888888,
              "#fdca26"
             ],
             [
              1,
              "#f0f921"
             ]
            ],
            "type": "surface"
           }
          ],
          "table": [
           {
            "cells": {
             "fill": {
              "color": "#EBF0F8"
             },
             "line": {
              "color": "white"
             }
            },
            "header": {
             "fill": {
              "color": "#C8D4E3"
             },
             "line": {
              "color": "white"
             }
            },
            "type": "table"
           }
          ]
         },
         "layout": {
          "annotationdefaults": {
           "arrowcolor": "#2a3f5f",
           "arrowhead": 0,
           "arrowwidth": 1
          },
          "autotypenumbers": "strict",
          "coloraxis": {
           "colorbar": {
            "outlinewidth": 0,
            "ticks": ""
           }
          },
          "colorscale": {
           "diverging": [
            [
             0,
             "#8e0152"
            ],
            [
             0.1,
             "#c51b7d"
            ],
            [
             0.2,
             "#de77ae"
            ],
            [
             0.3,
             "#f1b6da"
            ],
            [
             0.4,
             "#fde0ef"
            ],
            [
             0.5,
             "#f7f7f7"
            ],
            [
             0.6,
             "#e6f5d0"
            ],
            [
             0.7,
             "#b8e186"
            ],
            [
             0.8,
             "#7fbc41"
            ],
            [
             0.9,
             "#4d9221"
            ],
            [
             1,
             "#276419"
            ]
           ],
           "sequential": [
            [
             0,
             "#0d0887"
            ],
            [
             0.1111111111111111,
             "#46039f"
            ],
            [
             0.2222222222222222,
             "#7201a8"
            ],
            [
             0.3333333333333333,
             "#9c179e"
            ],
            [
             0.4444444444444444,
             "#bd3786"
            ],
            [
             0.5555555555555556,
             "#d8576b"
            ],
            [
             0.6666666666666666,
             "#ed7953"
            ],
            [
             0.7777777777777778,
             "#fb9f3a"
            ],
            [
             0.8888888888888888,
             "#fdca26"
            ],
            [
             1,
             "#f0f921"
            ]
           ],
           "sequentialminus": [
            [
             0,
             "#0d0887"
            ],
            [
             0.1111111111111111,
             "#46039f"
            ],
            [
             0.2222222222222222,
             "#7201a8"
            ],
            [
             0.3333333333333333,
             "#9c179e"
            ],
            [
             0.4444444444444444,
             "#bd3786"
            ],
            [
             0.5555555555555556,
             "#d8576b"
            ],
            [
             0.6666666666666666,
             "#ed7953"
            ],
            [
             0.7777777777777778,
             "#fb9f3a"
            ],
            [
             0.8888888888888888,
             "#fdca26"
            ],
            [
             1,
             "#f0f921"
            ]
           ]
          },
          "colorway": [
           "#636efa",
           "#EF553B",
           "#00cc96",
           "#ab63fa",
           "#FFA15A",
           "#19d3f3",
           "#FF6692",
           "#B6E880",
           "#FF97FF",
           "#FECB52"
          ],
          "font": {
           "color": "#2a3f5f"
          },
          "geo": {
           "bgcolor": "white",
           "lakecolor": "white",
           "landcolor": "#E5ECF6",
           "showlakes": true,
           "showland": true,
           "subunitcolor": "white"
          },
          "hoverlabel": {
           "align": "left"
          },
          "hovermode": "closest",
          "mapbox": {
           "style": "light"
          },
          "paper_bgcolor": "white",
          "plot_bgcolor": "#E5ECF6",
          "polar": {
           "angularaxis": {
            "gridcolor": "white",
            "linecolor": "white",
            "ticks": ""
           },
           "bgcolor": "#E5ECF6",
           "radialaxis": {
            "gridcolor": "white",
            "linecolor": "white",
            "ticks": ""
           }
          },
          "scene": {
           "xaxis": {
            "backgroundcolor": "#E5ECF6",
            "gridcolor": "white",
            "gridwidth": 2,
            "linecolor": "white",
            "showbackground": true,
            "ticks": "",
            "zerolinecolor": "white"
           },
           "yaxis": {
            "backgroundcolor": "#E5ECF6",
            "gridcolor": "white",
            "gridwidth": 2,
            "linecolor": "white",
            "showbackground": true,
            "ticks": "",
            "zerolinecolor": "white"
           },
           "zaxis": {
            "backgroundcolor": "#E5ECF6",
            "gridcolor": "white",
            "gridwidth": 2,
            "linecolor": "white",
            "showbackground": true,
            "ticks": "",
            "zerolinecolor": "white"
           }
          },
          "shapedefaults": {
           "line": {
            "color": "#2a3f5f"
           }
          },
          "ternary": {
           "aaxis": {
            "gridcolor": "white",
            "linecolor": "white",
            "ticks": ""
           },
           "baxis": {
            "gridcolor": "white",
            "linecolor": "white",
            "ticks": ""
           },
           "bgcolor": "#E5ECF6",
           "caxis": {
            "gridcolor": "white",
            "linecolor": "white",
            "ticks": ""
           }
          },
          "title": {
           "x": 0.05
          },
          "xaxis": {
           "automargin": true,
           "gridcolor": "white",
           "linecolor": "white",
           "ticks": "",
           "title": {
            "standoff": 15
           },
           "zerolinecolor": "white",
           "zerolinewidth": 2
          },
          "yaxis": {
           "automargin": true,
           "gridcolor": "white",
           "linecolor": "white",
           "ticks": "",
           "title": {
            "standoff": 15
           },
           "zerolinecolor": "white",
           "zerolinewidth": 2
          }
         }
        },
        "title": {
         "text": "<b>월 별 매출 (단위 : 억원)</b>"
        },
        "xaxis": {
         "anchor": "y",
         "domain": [
          0,
          1
         ],
         "title": {
          "text": "month"
         }
        },
        "yaxis": {
         "anchor": "x",
         "domain": [
          0,
          1
         ],
         "title": {
          "text": "value"
         }
        }
       }
      }
     },
     "metadata": {}
    }
   ],
   "metadata": {}
  },
  {
   "cell_type": "code",
   "execution_count": 140,
   "source": [
    "dataset['month'].value_counts().plot(figsize = (8,12),\r\n",
    "                                     kind = 'barh')"
   ],
   "outputs": [
    {
     "output_type": "execute_result",
     "data": {
      "text/plain": [
       "<AxesSubplot:>"
      ]
     },
     "metadata": {},
     "execution_count": 140
    },
    {
     "output_type": "display_data",
     "data": {
      "image/png": "[encoded data removed]",
      "text/plain": [
       "<Figure size 576x864 with 1 Axes>"
      ]
     },
     "metadata": {}
    }
   ],
   "metadata": {}
  },
  {
   "cell_type": "code",
   "execution_count": null,
   "source": [],
   "outputs": [],
   "metadata": {}
  }
 ],
 "metadata": {
  "orig_nbformat": 4,
  "language_info": {
   "name": "python",
   "version": "3.9.6",
   "mimetype": "text/x-python",
   "codemirror_mode": {
    "name": "ipython",
    "version": 3
   },
   "pygments_lexer": "ipython3",
   "nbconvert_exporter": "python",
   "file_extension": ".py"
  },
  "kernelspec": {
   "name": "python3",
   "display_name": "Python 3.9.6 64-bit"
  },
  "interpreter": {
   "hash": "71b59b5ba49ad06bb2a011e750699e3983d230921f30bf7f37eb3a01ae69aa26"
  }
 },
 "nbformat": 4,
 "nbformat_minor": 2
}