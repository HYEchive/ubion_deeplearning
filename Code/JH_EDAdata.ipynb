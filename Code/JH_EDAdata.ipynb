{
 "cells": [
  {
   "cell_type": "code",
   "execution_count": 1,
   "source": [
    "import pandas as pd\r\n",
    "import matplotlib.pyplot as plt\r\n",
    "import plotly.express as px"
   ],
   "outputs": [],
   "metadata": {}
  },
  {
   "cell_type": "code",
   "execution_count": 2,
   "source": [
    "dataset = pd.read_csv('../../data/funda_train.csv')"
   ],
   "outputs": [],
   "metadata": {}
  },
  {
   "cell_type": "code",
   "execution_count": 68,
   "source": [
    "dataset['card_company'].value_counts().plot(kind = 'bar')"
   ],
   "outputs": [
    {
     "output_type": "execute_result",
     "data": {
      "text/plain": [
       "<AxesSubplot:>"
      ]
     },
     "metadata": {},
     "execution_count": 68
    },
    {
     "output_type": "display_data",
     "data": {
      "image/png": "[encoded data removed]",
      "text/plain": [
       "<Figure size 432x288 with 1 Axes>"
      ]
     },
     "metadata": {
      "needs_background": "light"
     }
    }
   ],
   "metadata": {}
  },
  {
   "cell_type": "code",
   "execution_count": 69,
   "source": [
    "dataset.info()"
   ],
   "outputs": [
    {
     "output_type": "stream",
     "name": "stdout",
     "text": [
      "<class 'pandas.core.frame.DataFrame'>\n",
      "RangeIndex: 6556613 entries, 0 to 6556612\n",
      "Data columns (total 9 columns):\n",
      " #   Column            Dtype  \n",
      "---  ------            -----  \n",
      " 0   store_id          int64  \n",
      " 1   card_id           int64  \n",
      " 2   card_company      object \n",
      " 3   transacted_date   object \n",
      " 4   transacted_time   object \n",
      " 5   installment_term  int64  \n",
      " 6   region            object \n",
      " 7   type_of_business  object \n",
      " 8   amount            float64\n",
      "dtypes: float64(1), int64(3), object(5)\n",
      "memory usage: 450.2+ MB\n"
     ]
    }
   ],
   "metadata": {}
  },
  {
   "cell_type": "code",
   "execution_count": 70,
   "source": [
    "dataset['datetime'] = pd.to_datetime(dataset.transacted_date + \" \" + \r\n",
    "                                dataset.transacted_time, format='%Y-%m-%d %H:%M:%S')"
   ],
   "outputs": [],
   "metadata": {}
  },
  {
   "cell_type": "code",
   "execution_count": 71,
   "source": [
    "dataset['log_time'] = dataset['datetime'].dt.time"
   ],
   "outputs": [],
   "metadata": {}
  },
  {
   "cell_type": "code",
   "execution_count": 72,
   "source": [
    "dataset['log_time'][1] < dataset['log_time'][2]"
   ],
   "outputs": [
    {
     "output_type": "execute_result",
     "data": {
      "text/plain": [
       "True"
      ]
     },
     "metadata": {},
     "execution_count": 72
    }
   ],
   "metadata": {}
  },
  {
   "cell_type": "code",
   "execution_count": 73,
   "source": [
    "import datetime"
   ],
   "outputs": [],
   "metadata": {}
  },
  {
   "cell_type": "code",
   "execution_count": 74,
   "source": [
    "afternoon = datetime.time(12,00)"
   ],
   "outputs": [],
   "metadata": {}
  },
  {
   "cell_type": "code",
   "execution_count": 75,
   "source": [
    "len(dataset)"
   ],
   "outputs": [
    {
     "output_type": "execute_result",
     "data": {
      "text/plain": [
       "6556613"
      ]
     },
     "metadata": {},
     "execution_count": 75
    }
   ],
   "metadata": {}
  },
  {
   "cell_type": "code",
   "execution_count": 76,
   "source": [
    "5582065/6556613"
   ],
   "outputs": [
    {
     "output_type": "execute_result",
     "data": {
      "text/plain": [
       "0.8513641113178405"
      ]
     },
     "metadata": {},
     "execution_count": 76
    }
   ],
   "metadata": {}
  },
  {
   "cell_type": "code",
   "execution_count": 82,
   "source": [
    "dataset_time = dataset.sort_values(by=['log_time'], axis=0, ascending=False)"
   ],
   "outputs": [],
   "metadata": {}
  },
  {
   "cell_type": "code",
   "execution_count": 83,
   "source": [
    "dataset_time"
   ],
   "outputs": [
    {
     "output_type": "execute_result",
     "data": {
      "text/html": [
       "<div>\n",
       "<style scoped>\n",
       "    .dataframe tbody tr th:only-of-type {\n",
       "        vertical-align: middle;\n",
       "    }\n",
       "\n",
       "    .dataframe tbody tr th {\n",
       "        vertical-align: top;\n",
       "    }\n",
       "\n",
       "    .dataframe thead th {\n",
       "        text-align: right;\n",
       "    }\n",
       "</style>\n",
       "<table border=\"1\" class=\"dataframe\">\n",
       "  <thead>\n",
       "    <tr style=\"text-align: right;\">\n",
       "      <th></th>\n",
       "      <th>store_id</th>\n",
       "      <th>card_id</th>\n",
       "      <th>card_company</th>\n",
       "      <th>transacted_date</th>\n",
       "      <th>transacted_time</th>\n",
       "      <th>installment_term</th>\n",
       "      <th>region</th>\n",
       "      <th>type_of_business</th>\n",
       "      <th>amount</th>\n",
       "      <th>datetime</th>\n",
       "      <th>log_time</th>\n",
       "    </tr>\n",
       "  </thead>\n",
       "  <tbody>\n",
       "    <tr>\n",
       "      <th>1980201</th>\n",
       "      <td>684</td>\n",
       "      <td>1378312</td>\n",
       "      <td>b</td>\n",
       "      <td>2018-04-11</td>\n",
       "      <td>23:59</td>\n",
       "      <td>0</td>\n",
       "      <td>경기 포천시</td>\n",
       "      <td>한식 음식점업</td>\n",
       "      <td>1000.000000</td>\n",
       "      <td>2018-04-11 23:59:00</td>\n",
       "      <td>23:59:00</td>\n",
       "    </tr>\n",
       "    <tr>\n",
       "      <th>32542</th>\n",
       "      <td>10</td>\n",
       "      <td>29591</td>\n",
       "      <td>f</td>\n",
       "      <td>2017-09-16</td>\n",
       "      <td>23:59</td>\n",
       "      <td>0</td>\n",
       "      <td>NaN</td>\n",
       "      <td>NaN</td>\n",
       "      <td>6285.714286</td>\n",
       "      <td>2017-09-16 23:59:00</td>\n",
       "      <td>23:59:00</td>\n",
       "    </tr>\n",
       "    <tr>\n",
       "      <th>2948152</th>\n",
       "      <td>963</td>\n",
       "      <td>2053573</td>\n",
       "      <td>c</td>\n",
       "      <td>2018-07-13</td>\n",
       "      <td>23:59</td>\n",
       "      <td>0</td>\n",
       "      <td>NaN</td>\n",
       "      <td>NaN</td>\n",
       "      <td>2214.285714</td>\n",
       "      <td>2018-07-13 23:59:00</td>\n",
       "      <td>23:59:00</td>\n",
       "    </tr>\n",
       "    <tr>\n",
       "      <th>5617156</th>\n",
       "      <td>1848</td>\n",
       "      <td>3992542</td>\n",
       "      <td>c</td>\n",
       "      <td>2018-12-18</td>\n",
       "      <td>23:59</td>\n",
       "      <td>0</td>\n",
       "      <td>서울 마포구</td>\n",
       "      <td>NaN</td>\n",
       "      <td>2914.285714</td>\n",
       "      <td>2018-12-18 23:59:00</td>\n",
       "      <td>23:59:00</td>\n",
       "    </tr>\n",
       "    <tr>\n",
       "      <th>1157752</th>\n",
       "      <td>425</td>\n",
       "      <td>785685</td>\n",
       "      <td>a</td>\n",
       "      <td>2018-04-27</td>\n",
       "      <td>23:59</td>\n",
       "      <td>0</td>\n",
       "      <td>서울 강남구</td>\n",
       "      <td>NaN</td>\n",
       "      <td>3857.142857</td>\n",
       "      <td>2018-04-27 23:59:00</td>\n",
       "      <td>23:59:00</td>\n",
       "    </tr>\n",
       "    <tr>\n",
       "      <th>...</th>\n",
       "      <td>...</td>\n",
       "      <td>...</td>\n",
       "      <td>...</td>\n",
       "      <td>...</td>\n",
       "      <td>...</td>\n",
       "      <td>...</td>\n",
       "      <td>...</td>\n",
       "      <td>...</td>\n",
       "      <td>...</td>\n",
       "      <td>...</td>\n",
       "      <td>...</td>\n",
       "    </tr>\n",
       "    <tr>\n",
       "      <th>4068123</th>\n",
       "      <td>1333</td>\n",
       "      <td>2883666</td>\n",
       "      <td>f</td>\n",
       "      <td>2018-04-07</td>\n",
       "      <td>00:00</td>\n",
       "      <td>0</td>\n",
       "      <td>대구 중구</td>\n",
       "      <td>한식 음식점업</td>\n",
       "      <td>14142.857143</td>\n",
       "      <td>2018-04-07 00:00:00</td>\n",
       "      <td>00:00:00</td>\n",
       "    </tr>\n",
       "    <tr>\n",
       "      <th>4721063</th>\n",
       "      <td>1550</td>\n",
       "      <td>3365318</td>\n",
       "      <td>a</td>\n",
       "      <td>2017-06-28</td>\n",
       "      <td>00:00</td>\n",
       "      <td>0</td>\n",
       "      <td>충북 청주시</td>\n",
       "      <td>NaN</td>\n",
       "      <td>1571.428571</td>\n",
       "      <td>2017-06-28 00:00:00</td>\n",
       "      <td>00:00:00</td>\n",
       "    </tr>\n",
       "    <tr>\n",
       "      <th>3043516</th>\n",
       "      <td>991</td>\n",
       "      <td>2117826</td>\n",
       "      <td>f</td>\n",
       "      <td>2017-07-15</td>\n",
       "      <td>00:00</td>\n",
       "      <td>0</td>\n",
       "      <td>서울 용산구</td>\n",
       "      <td>NaN</td>\n",
       "      <td>6428.571429</td>\n",
       "      <td>2017-07-15 00:00:00</td>\n",
       "      <td>00:00:00</td>\n",
       "    </tr>\n",
       "    <tr>\n",
       "      <th>4721012</th>\n",
       "      <td>1550</td>\n",
       "      <td>3365310</td>\n",
       "      <td>c</td>\n",
       "      <td>2017-06-21</td>\n",
       "      <td>00:00</td>\n",
       "      <td>0</td>\n",
       "      <td>충북 청주시</td>\n",
       "      <td>NaN</td>\n",
       "      <td>428.571429</td>\n",
       "      <td>2017-06-21 00:00:00</td>\n",
       "      <td>00:00:00</td>\n",
       "    </tr>\n",
       "    <tr>\n",
       "      <th>1452961</th>\n",
       "      <td>529</td>\n",
       "      <td>1001098</td>\n",
       "      <td>f</td>\n",
       "      <td>2017-06-24</td>\n",
       "      <td>00:00</td>\n",
       "      <td>0</td>\n",
       "      <td>서울 송파구</td>\n",
       "      <td>NaN</td>\n",
       "      <td>11857.142857</td>\n",
       "      <td>2017-06-24 00:00:00</td>\n",
       "      <td>00:00:00</td>\n",
       "    </tr>\n",
       "  </tbody>\n",
       "</table>\n",
       "<p>6556613 rows × 11 columns</p>\n",
       "</div>"
      ],
      "text/plain": [
       "         store_id  card_id card_company transacted_date transacted_time  \\\n",
       "1980201       684  1378312            b      2018-04-11           23:59   \n",
       "32542          10    29591            f      2017-09-16           23:59   \n",
       "2948152       963  2053573            c      2018-07-13           23:59   \n",
       "5617156      1848  3992542            c      2018-12-18           23:59   \n",
       "1157752       425   785685            a      2018-04-27           23:59   \n",
       "...           ...      ...          ...             ...             ...   \n",
       "4068123      1333  2883666            f      2018-04-07           00:00   \n",
       "4721063      1550  3365318            a      2017-06-28           00:00   \n",
       "3043516       991  2117826            f      2017-07-15           00:00   \n",
       "4721012      1550  3365310            c      2017-06-21           00:00   \n",
       "1452961       529  1001098            f      2017-06-24           00:00   \n",
       "\n",
       "         installment_term  region type_of_business        amount  \\\n",
       "1980201                 0  경기 포천시          한식 음식점업   1000.000000   \n",
       "32542                   0     NaN              NaN   6285.714286   \n",
       "2948152                 0     NaN              NaN   2214.285714   \n",
       "5617156                 0  서울 마포구              NaN   2914.285714   \n",
       "1157752                 0  서울 강남구              NaN   3857.142857   \n",
       "...                   ...     ...              ...           ...   \n",
       "4068123                 0   대구 중구          한식 음식점업  14142.857143   \n",
       "4721063                 0  충북 청주시              NaN   1571.428571   \n",
       "3043516                 0  서울 용산구              NaN   6428.571429   \n",
       "4721012                 0  충북 청주시              NaN    428.571429   \n",
       "1452961                 0  서울 송파구              NaN  11857.142857   \n",
       "\n",
       "                   datetime  log_time  \n",
       "1980201 2018-04-11 23:59:00  23:59:00  \n",
       "32542   2017-09-16 23:59:00  23:59:00  \n",
       "2948152 2018-07-13 23:59:00  23:59:00  \n",
       "5617156 2018-12-18 23:59:00  23:59:00  \n",
       "1157752 2018-04-27 23:59:00  23:59:00  \n",
       "...                     ...       ...  \n",
       "4068123 2018-04-07 00:00:00  00:00:00  \n",
       "4721063 2017-06-28 00:00:00  00:00:00  \n",
       "3043516 2017-07-15 00:00:00  00:00:00  \n",
       "4721012 2017-06-21 00:00:00  00:00:00  \n",
       "1452961 2017-06-24 00:00:00  00:00:00  \n",
       "\n",
       "[6556613 rows x 11 columns]"
      ]
     },
     "metadata": {},
     "execution_count": 83
    }
   ],
   "metadata": {}
  },
  {
   "cell_type": "code",
   "execution_count": 85,
   "source": [
    "dataset_time = dataset_time.set_index('log_time')"
   ],
   "outputs": [],
   "metadata": {}
  },
  {
   "cell_type": "code",
   "execution_count": 88,
   "source": [
    "drop_features = ['store_id', 'card_id', 'card_company', 'transacted_date',\r\n",
    "       'transacted_time', 'installment_term', 'region', 'type_of_business','datetime']\r\n",
    "\r\n",
    "dataset_time = dataset_time.drop(drop_features, axis=1)"
   ],
   "outputs": [],
   "metadata": {}
  },
  {
   "cell_type": "code",
   "execution_count": 91,
   "source": [
    "dataset_time.plot(figsize = (12,4))"
   ],
   "outputs": [
    {
     "output_type": "execute_result",
     "data": {
      "text/plain": [
       "<AxesSubplot:xlabel='log_time'>"
      ]
     },
     "metadata": {},
     "execution_count": 91
    },
    {
     "output_type": "display_data",
     "data": {
      "image/png": "[encoded data removed]",
      "text/plain": [
       "<Figure size 864x288 with 1 Axes>"
      ]
     },
     "metadata": {
      "needs_background": "light"
     }
    }
   ],
   "metadata": {}
  },
  {
   "cell_type": "code",
   "execution_count": 81,
   "source": [
    "len(dataset['log_time'])"
   ],
   "outputs": [
    {
     "output_type": "execute_result",
     "data": {
      "text/plain": [
       "6556613"
      ]
     },
     "metadata": {},
     "execution_count": 81
    }
   ],
   "metadata": {}
  },
  {
   "cell_type": "code",
   "execution_count": 80,
   "source": [
    "plt.bar(dataset['log_time'],dataset['amount'])\r\n",
    "\r\n",
    "plt.show()"
   ],
   "outputs": [
    {
     "output_type": "error",
     "ename": "TypeError",
     "evalue": "the dtypes of parameters x (object) and width (float64) are incompatible",
     "traceback": [
      "\u001b[1;31m---------------------------------------------------------------------------\u001b[0m",
      "\u001b[1;31mTypeError\u001b[0m                                 Traceback (most recent call last)",
      "\u001b[1;32m~\\AppData\\Local\\Programs\\Python\\Python39\\lib\\site-packages\\matplotlib\\axes\\_axes.py\u001b[0m in \u001b[0;36mbar\u001b[1;34m(self, x, height, width, bottom, align, **kwargs)\u001b[0m\n\u001b[0;32m   2334\u001b[0m                 \u001b[1;32mtry\u001b[0m\u001b[1;33m:\u001b[0m\u001b[1;33m\u001b[0m\u001b[1;33m\u001b[0m\u001b[0m\n\u001b[1;32m-> 2335\u001b[1;33m                     \u001b[0mleft\u001b[0m \u001b[1;33m=\u001b[0m \u001b[0mx\u001b[0m \u001b[1;33m-\u001b[0m \u001b[0mwidth\u001b[0m \u001b[1;33m/\u001b[0m \u001b[1;36m2\u001b[0m\u001b[1;33m\u001b[0m\u001b[1;33m\u001b[0m\u001b[0m\n\u001b[0m\u001b[0;32m   2336\u001b[0m                 \u001b[1;32mexcept\u001b[0m \u001b[0mTypeError\u001b[0m \u001b[1;32mas\u001b[0m \u001b[0me\u001b[0m\u001b[1;33m:\u001b[0m\u001b[1;33m\u001b[0m\u001b[1;33m\u001b[0m\u001b[0m\n",
      "\u001b[1;31mTypeError\u001b[0m: unsupported operand type(s) for -: 'datetime.time' and 'float'",
      "\nThe above exception was the direct cause of the following exception:\n",
      "\u001b[1;31mTypeError\u001b[0m                                 Traceback (most recent call last)",
      "\u001b[1;32m~\\AppData\\Local\\Temp/ipykernel_28376/852905415.py\u001b[0m in \u001b[0;36m<module>\u001b[1;34m\u001b[0m\n\u001b[1;32m----> 1\u001b[1;33m \u001b[0mplt\u001b[0m\u001b[1;33m.\u001b[0m\u001b[0mbar\u001b[0m\u001b[1;33m(\u001b[0m\u001b[0mdataset\u001b[0m\u001b[1;33m[\u001b[0m\u001b[1;34m'log_time'\u001b[0m\u001b[1;33m]\u001b[0m\u001b[1;33m,\u001b[0m\u001b[0mdataset\u001b[0m\u001b[1;33m[\u001b[0m\u001b[1;34m'amount'\u001b[0m\u001b[1;33m]\u001b[0m\u001b[1;33m)\u001b[0m\u001b[1;33m\u001b[0m\u001b[1;33m\u001b[0m\u001b[0m\n\u001b[0m\u001b[0;32m      2\u001b[0m \u001b[1;33m\u001b[0m\u001b[0m\n\u001b[0;32m      3\u001b[0m \u001b[0mplt\u001b[0m\u001b[1;33m.\u001b[0m\u001b[0mshow\u001b[0m\u001b[1;33m(\u001b[0m\u001b[1;33m)\u001b[0m\u001b[1;33m\u001b[0m\u001b[1;33m\u001b[0m\u001b[0m\n",
      "\u001b[1;32m~\\AppData\\Local\\Programs\\Python\\Python39\\lib\\site-packages\\matplotlib\\pyplot.py\u001b[0m in \u001b[0;36mbar\u001b[1;34m(x, height, width, bottom, align, data, **kwargs)\u001b[0m\n\u001b[0;32m   2649\u001b[0m         \u001b[0mx\u001b[0m\u001b[1;33m,\u001b[0m \u001b[0mheight\u001b[0m\u001b[1;33m,\u001b[0m \u001b[0mwidth\u001b[0m\u001b[1;33m=\u001b[0m\u001b[1;36m0.8\u001b[0m\u001b[1;33m,\u001b[0m \u001b[0mbottom\u001b[0m\u001b[1;33m=\u001b[0m\u001b[1;32mNone\u001b[0m\u001b[1;33m,\u001b[0m \u001b[1;33m*\u001b[0m\u001b[1;33m,\u001b[0m \u001b[0malign\u001b[0m\u001b[1;33m=\u001b[0m\u001b[1;34m'center'\u001b[0m\u001b[1;33m,\u001b[0m\u001b[1;33m\u001b[0m\u001b[1;33m\u001b[0m\u001b[0m\n\u001b[0;32m   2650\u001b[0m         data=None, **kwargs):\n\u001b[1;32m-> 2651\u001b[1;33m     return gca().bar(\n\u001b[0m\u001b[0;32m   2652\u001b[0m         \u001b[0mx\u001b[0m\u001b[1;33m,\u001b[0m \u001b[0mheight\u001b[0m\u001b[1;33m,\u001b[0m \u001b[0mwidth\u001b[0m\u001b[1;33m=\u001b[0m\u001b[0mwidth\u001b[0m\u001b[1;33m,\u001b[0m \u001b[0mbottom\u001b[0m\u001b[1;33m=\u001b[0m\u001b[0mbottom\u001b[0m\u001b[1;33m,\u001b[0m \u001b[0malign\u001b[0m\u001b[1;33m=\u001b[0m\u001b[0malign\u001b[0m\u001b[1;33m,\u001b[0m\u001b[1;33m\u001b[0m\u001b[1;33m\u001b[0m\u001b[0m\n\u001b[0;32m   2653\u001b[0m         **({\"data\": data} if data is not None else {}), **kwargs)\n",
      "\u001b[1;32m~\\AppData\\Local\\Programs\\Python\\Python39\\lib\\site-packages\\matplotlib\\__init__.py\u001b[0m in \u001b[0;36minner\u001b[1;34m(ax, data, *args, **kwargs)\u001b[0m\n\u001b[0;32m   1359\u001b[0m     \u001b[1;32mdef\u001b[0m \u001b[0minner\u001b[0m\u001b[1;33m(\u001b[0m\u001b[0max\u001b[0m\u001b[1;33m,\u001b[0m \u001b[1;33m*\u001b[0m\u001b[0margs\u001b[0m\u001b[1;33m,\u001b[0m \u001b[0mdata\u001b[0m\u001b[1;33m=\u001b[0m\u001b[1;32mNone\u001b[0m\u001b[1;33m,\u001b[0m \u001b[1;33m**\u001b[0m\u001b[0mkwargs\u001b[0m\u001b[1;33m)\u001b[0m\u001b[1;33m:\u001b[0m\u001b[1;33m\u001b[0m\u001b[1;33m\u001b[0m\u001b[0m\n\u001b[0;32m   1360\u001b[0m         \u001b[1;32mif\u001b[0m \u001b[0mdata\u001b[0m \u001b[1;32mis\u001b[0m \u001b[1;32mNone\u001b[0m\u001b[1;33m:\u001b[0m\u001b[1;33m\u001b[0m\u001b[1;33m\u001b[0m\u001b[0m\n\u001b[1;32m-> 1361\u001b[1;33m             \u001b[1;32mreturn\u001b[0m \u001b[0mfunc\u001b[0m\u001b[1;33m(\u001b[0m\u001b[0max\u001b[0m\u001b[1;33m,\u001b[0m \u001b[1;33m*\u001b[0m\u001b[0mmap\u001b[0m\u001b[1;33m(\u001b[0m\u001b[0msanitize_sequence\u001b[0m\u001b[1;33m,\u001b[0m \u001b[0margs\u001b[0m\u001b[1;33m)\u001b[0m\u001b[1;33m,\u001b[0m \u001b[1;33m**\u001b[0m\u001b[0mkwargs\u001b[0m\u001b[1;33m)\u001b[0m\u001b[1;33m\u001b[0m\u001b[1;33m\u001b[0m\u001b[0m\n\u001b[0m\u001b[0;32m   1362\u001b[0m \u001b[1;33m\u001b[0m\u001b[0m\n\u001b[0;32m   1363\u001b[0m         \u001b[0mbound\u001b[0m \u001b[1;33m=\u001b[0m \u001b[0mnew_sig\u001b[0m\u001b[1;33m.\u001b[0m\u001b[0mbind\u001b[0m\u001b[1;33m(\u001b[0m\u001b[0max\u001b[0m\u001b[1;33m,\u001b[0m \u001b[1;33m*\u001b[0m\u001b[0margs\u001b[0m\u001b[1;33m,\u001b[0m \u001b[1;33m**\u001b[0m\u001b[0mkwargs\u001b[0m\u001b[1;33m)\u001b[0m\u001b[1;33m\u001b[0m\u001b[1;33m\u001b[0m\u001b[0m\n",
      "\u001b[1;32m~\\AppData\\Local\\Programs\\Python\\Python39\\lib\\site-packages\\matplotlib\\axes\\_axes.py\u001b[0m in \u001b[0;36mbar\u001b[1;34m(self, x, height, width, bottom, align, **kwargs)\u001b[0m\n\u001b[0;32m   2335\u001b[0m                     \u001b[0mleft\u001b[0m \u001b[1;33m=\u001b[0m \u001b[0mx\u001b[0m \u001b[1;33m-\u001b[0m \u001b[0mwidth\u001b[0m \u001b[1;33m/\u001b[0m \u001b[1;36m2\u001b[0m\u001b[1;33m\u001b[0m\u001b[1;33m\u001b[0m\u001b[0m\n\u001b[0;32m   2336\u001b[0m                 \u001b[1;32mexcept\u001b[0m \u001b[0mTypeError\u001b[0m \u001b[1;32mas\u001b[0m \u001b[0me\u001b[0m\u001b[1;33m:\u001b[0m\u001b[1;33m\u001b[0m\u001b[1;33m\u001b[0m\u001b[0m\n\u001b[1;32m-> 2337\u001b[1;33m                     raise TypeError(f'the dtypes of parameters x ({x.dtype}) '\n\u001b[0m\u001b[0;32m   2338\u001b[0m                                     \u001b[1;34mf'and width ({width.dtype}) '\u001b[0m\u001b[1;33m\u001b[0m\u001b[1;33m\u001b[0m\u001b[0m\n\u001b[0;32m   2339\u001b[0m                                     f'are incompatible') from e\n",
      "\u001b[1;31mTypeError\u001b[0m: the dtypes of parameters x (object) and width (float64) are incompatible"
     ]
    },
    {
     "output_type": "display_data",
     "data": {
      "image/png": "[encoded data removed]",
      "text/plain": [
       "<Figure size 432x288 with 1 Axes>"
      ]
     },
     "metadata": {
      "needs_background": "light"
     }
    }
   ],
   "metadata": {}
  },
  {
   "cell_type": "code",
   "execution_count": 36,
   "source": [
    "dataset['region'] = dataset['region'].fillna('지역 모름')"
   ],
   "outputs": [],
   "metadata": {}
  },
  {
   "cell_type": "code",
   "execution_count": 69,
   "source": [
    "a = dataset['region'][0:5].values[0][0:2]\r\n"
   ],
   "outputs": [],
   "metadata": {}
  },
  {
   "cell_type": "code",
   "execution_count": 44,
   "source": [
    "\r\n",
    "dataset['지역'] = dataset['region'][i][0:2]\r\n"
   ],
   "outputs": [
    {
     "output_type": "stream",
     "name": "stderr",
     "text": [
      "C:\\Users\\JH\\AppData\\Local\\Temp/ipykernel_18832/2212702150.py:2: SettingWithCopyWarning: \n",
      "A value is trying to be set on a copy of a slice from a DataFrame\n",
      "\n",
      "See the caveats in the documentation: https://pandas.pydata.org/pandas-docs/stable/user_guide/indexing.html#returning-a-view-versus-a-copy\n",
      "  dataset['지역'][i] = dataset['region'][i][0:2]\n"
     ]
    },
    {
     "output_type": "error",
     "ename": "KeyboardInterrupt",
     "evalue": "",
     "traceback": [
      "\u001b[1;31m---------------------------------------------------------------------------\u001b[0m",
      "\u001b[1;31mKeyboardInterrupt\u001b[0m                         Traceback (most recent call last)",
      "\u001b[1;32m~\\AppData\\Local\\Temp/ipykernel_18832/2212702150.py\u001b[0m in \u001b[0;36m<module>\u001b[1;34m\u001b[0m\n\u001b[0;32m      1\u001b[0m \u001b[1;32mfor\u001b[0m \u001b[0mi\u001b[0m \u001b[1;32min\u001b[0m \u001b[0mrange\u001b[0m\u001b[1;33m(\u001b[0m\u001b[0mlen\u001b[0m\u001b[1;33m(\u001b[0m\u001b[0mdataset\u001b[0m\u001b[1;33m)\u001b[0m\u001b[1;33m)\u001b[0m\u001b[1;33m:\u001b[0m\u001b[1;33m\u001b[0m\u001b[1;33m\u001b[0m\u001b[0m\n\u001b[1;32m----> 2\u001b[1;33m     \u001b[0mdataset\u001b[0m\u001b[1;33m[\u001b[0m\u001b[1;34m'지역'\u001b[0m\u001b[1;33m]\u001b[0m\u001b[1;33m[\u001b[0m\u001b[0mi\u001b[0m\u001b[1;33m]\u001b[0m \u001b[1;33m=\u001b[0m \u001b[0mdataset\u001b[0m\u001b[1;33m[\u001b[0m\u001b[1;34m'region'\u001b[0m\u001b[1;33m]\u001b[0m\u001b[1;33m[\u001b[0m\u001b[0mi\u001b[0m\u001b[1;33m]\u001b[0m\u001b[1;33m[\u001b[0m\u001b[1;36m0\u001b[0m\u001b[1;33m:\u001b[0m\u001b[1;36m2\u001b[0m\u001b[1;33m]\u001b[0m\u001b[1;33m\u001b[0m\u001b[1;33m\u001b[0m\u001b[0m\n\u001b[0m",
      "\u001b[1;32m~\\AppData\\Local\\Programs\\Python\\Python39\\lib\\site-packages\\pandas\\core\\series.py\u001b[0m in \u001b[0;36m__setitem__\u001b[1;34m(self, key, value)\u001b[0m\n\u001b[0;32m    999\u001b[0m \u001b[1;33m\u001b[0m\u001b[0m\n\u001b[0;32m   1000\u001b[0m         \u001b[1;32mif\u001b[0m \u001b[0mcacher_needs_updating\u001b[0m\u001b[1;33m:\u001b[0m\u001b[1;33m\u001b[0m\u001b[1;33m\u001b[0m\u001b[0m\n\u001b[1;32m-> 1001\u001b[1;33m             \u001b[0mself\u001b[0m\u001b[1;33m.\u001b[0m\u001b[0m_maybe_update_cacher\u001b[0m\u001b[1;33m(\u001b[0m\u001b[1;33m)\u001b[0m\u001b[1;33m\u001b[0m\u001b[1;33m\u001b[0m\u001b[0m\n\u001b[0m\u001b[0;32m   1002\u001b[0m \u001b[1;33m\u001b[0m\u001b[0m\n\u001b[0;32m   1003\u001b[0m     \u001b[1;32mdef\u001b[0m \u001b[0m_set_with_engine\u001b[0m\u001b[1;33m(\u001b[0m\u001b[0mself\u001b[0m\u001b[1;33m,\u001b[0m \u001b[0mkey\u001b[0m\u001b[1;33m,\u001b[0m \u001b[0mvalue\u001b[0m\u001b[1;33m)\u001b[0m\u001b[1;33m:\u001b[0m\u001b[1;33m\u001b[0m\u001b[1;33m\u001b[0m\u001b[0m\n",
      "\u001b[1;32m~\\AppData\\Local\\Programs\\Python\\Python39\\lib\\site-packages\\pandas\\core\\generic.py\u001b[0m in \u001b[0;36m_maybe_update_cacher\u001b[1;34m(self, clear, verify_is_copy)\u001b[0m\n\u001b[0;32m   3471\u001b[0m                 \u001b[1;32mif\u001b[0m \u001b[0mlen\u001b[0m\u001b[1;33m(\u001b[0m\u001b[0mself\u001b[0m\u001b[1;33m)\u001b[0m \u001b[1;33m==\u001b[0m \u001b[0mlen\u001b[0m\u001b[1;33m(\u001b[0m\u001b[0mref\u001b[0m\u001b[1;33m)\u001b[0m\u001b[1;33m:\u001b[0m\u001b[1;33m\u001b[0m\u001b[1;33m\u001b[0m\u001b[0m\n\u001b[0;32m   3472\u001b[0m                     \u001b[1;31m# otherwise, either self or ref has swapped in new arrays\u001b[0m\u001b[1;33m\u001b[0m\u001b[1;33m\u001b[0m\u001b[1;33m\u001b[0m\u001b[0m\n\u001b[1;32m-> 3473\u001b[1;33m                     \u001b[0mref\u001b[0m\u001b[1;33m.\u001b[0m\u001b[0m_maybe_cache_changed\u001b[0m\u001b[1;33m(\u001b[0m\u001b[0mcacher\u001b[0m\u001b[1;33m[\u001b[0m\u001b[1;36m0\u001b[0m\u001b[1;33m]\u001b[0m\u001b[1;33m,\u001b[0m \u001b[0mself\u001b[0m\u001b[1;33m)\u001b[0m\u001b[1;33m\u001b[0m\u001b[1;33m\u001b[0m\u001b[0m\n\u001b[0m\u001b[0;32m   3474\u001b[0m                 \u001b[1;32melse\u001b[0m\u001b[1;33m:\u001b[0m\u001b[1;33m\u001b[0m\u001b[1;33m\u001b[0m\u001b[0m\n\u001b[0;32m   3475\u001b[0m                     \u001b[1;31m# GH#33675 we have swapped in a new array, so parent\u001b[0m\u001b[1;33m\u001b[0m\u001b[1;33m\u001b[0m\u001b[1;33m\u001b[0m\u001b[0m\n",
      "\u001b[1;32m~\\AppData\\Local\\Programs\\Python\\Python39\\lib\\site-packages\\pandas\\core\\generic.py\u001b[0m in \u001b[0;36m_maybe_cache_changed\u001b[1;34m(self, item, value)\u001b[0m\n\u001b[0;32m   3429\u001b[0m         \"\"\"\n\u001b[0;32m   3430\u001b[0m         \u001b[0mloc\u001b[0m \u001b[1;33m=\u001b[0m \u001b[0mself\u001b[0m\u001b[1;33m.\u001b[0m\u001b[0m_info_axis\u001b[0m\u001b[1;33m.\u001b[0m\u001b[0mget_loc\u001b[0m\u001b[1;33m(\u001b[0m\u001b[0mitem\u001b[0m\u001b[1;33m)\u001b[0m\u001b[1;33m\u001b[0m\u001b[1;33m\u001b[0m\u001b[0m\n\u001b[1;32m-> 3431\u001b[1;33m         \u001b[0mself\u001b[0m\u001b[1;33m.\u001b[0m\u001b[0m_mgr\u001b[0m\u001b[1;33m.\u001b[0m\u001b[0miset\u001b[0m\u001b[1;33m(\u001b[0m\u001b[0mloc\u001b[0m\u001b[1;33m,\u001b[0m \u001b[0mvalue\u001b[0m\u001b[1;33m)\u001b[0m\u001b[1;33m\u001b[0m\u001b[1;33m\u001b[0m\u001b[0m\n\u001b[0m\u001b[0;32m   3432\u001b[0m \u001b[1;33m\u001b[0m\u001b[0m\n\u001b[0;32m   3433\u001b[0m     \u001b[1;33m@\u001b[0m\u001b[0mfinal\u001b[0m\u001b[1;33m\u001b[0m\u001b[1;33m\u001b[0m\u001b[0m\n",
      "\u001b[1;32m~\\AppData\\Local\\Programs\\Python\\Python39\\lib\\site-packages\\pandas\\core\\internals\\managers.py\u001b[0m in \u001b[0;36miset\u001b[1;34m(self, loc, value)\u001b[0m\n\u001b[0;32m   1108\u001b[0m             \u001b[0mblk_locs\u001b[0m \u001b[1;33m=\u001b[0m \u001b[0mblklocs\u001b[0m\u001b[1;33m[\u001b[0m\u001b[0mval_locs\u001b[0m\u001b[1;33m.\u001b[0m\u001b[0mindexer\u001b[0m\u001b[1;33m]\u001b[0m\u001b[1;33m\u001b[0m\u001b[1;33m\u001b[0m\u001b[0m\n\u001b[0;32m   1109\u001b[0m             \u001b[1;32mif\u001b[0m \u001b[0mblk\u001b[0m\u001b[1;33m.\u001b[0m\u001b[0mshould_store\u001b[0m\u001b[1;33m(\u001b[0m\u001b[0mvalue\u001b[0m\u001b[1;33m)\u001b[0m\u001b[1;33m:\u001b[0m\u001b[1;33m\u001b[0m\u001b[1;33m\u001b[0m\u001b[0m\n\u001b[1;32m-> 1110\u001b[1;33m                 \u001b[0mblk\u001b[0m\u001b[1;33m.\u001b[0m\u001b[0mset_inplace\u001b[0m\u001b[1;33m(\u001b[0m\u001b[0mblk_locs\u001b[0m\u001b[1;33m,\u001b[0m \u001b[0mvalue_getitem\u001b[0m\u001b[1;33m(\u001b[0m\u001b[0mval_locs\u001b[0m\u001b[1;33m)\u001b[0m\u001b[1;33m)\u001b[0m\u001b[1;33m\u001b[0m\u001b[1;33m\u001b[0m\u001b[0m\n\u001b[0m\u001b[0;32m   1111\u001b[0m             \u001b[1;32melse\u001b[0m\u001b[1;33m:\u001b[0m\u001b[1;33m\u001b[0m\u001b[1;33m\u001b[0m\u001b[0m\n\u001b[0;32m   1112\u001b[0m                 \u001b[0munfit_mgr_locs\u001b[0m\u001b[1;33m.\u001b[0m\u001b[0mappend\u001b[0m\u001b[1;33m(\u001b[0m\u001b[0mblk\u001b[0m\u001b[1;33m.\u001b[0m\u001b[0mmgr_locs\u001b[0m\u001b[1;33m.\u001b[0m\u001b[0mas_array\u001b[0m\u001b[1;33m[\u001b[0m\u001b[0mblk_locs\u001b[0m\u001b[1;33m]\u001b[0m\u001b[1;33m)\u001b[0m\u001b[1;33m\u001b[0m\u001b[1;33m\u001b[0m\u001b[0m\n",
      "\u001b[1;31mKeyboardInterrupt\u001b[0m: "
     ]
    }
   ],
   "metadata": {}
  },
  {
   "cell_type": "code",
   "execution_count": 37,
   "source": [
    "dataset.loc[(dataset['log_time'] > afternoon)]"
   ],
   "outputs": [
    {
     "output_type": "error",
     "ename": "KeyError",
     "evalue": "'log_time'",
     "traceback": [
      "\u001b[1;31m---------------------------------------------------------------------------\u001b[0m",
      "\u001b[1;31mKeyError\u001b[0m                                  Traceback (most recent call last)",
      "\u001b[1;32m~\\AppData\\Local\\Programs\\Python\\Python39\\lib\\site-packages\\pandas\\core\\indexes\\base.py\u001b[0m in \u001b[0;36mget_loc\u001b[1;34m(self, key, method, tolerance)\u001b[0m\n\u001b[0;32m   3080\u001b[0m             \u001b[1;32mtry\u001b[0m\u001b[1;33m:\u001b[0m\u001b[1;33m\u001b[0m\u001b[1;33m\u001b[0m\u001b[0m\n\u001b[1;32m-> 3081\u001b[1;33m                 \u001b[1;32mreturn\u001b[0m \u001b[0mself\u001b[0m\u001b[1;33m.\u001b[0m\u001b[0m_engine\u001b[0m\u001b[1;33m.\u001b[0m\u001b[0mget_loc\u001b[0m\u001b[1;33m(\u001b[0m\u001b[0mcasted_key\u001b[0m\u001b[1;33m)\u001b[0m\u001b[1;33m\u001b[0m\u001b[1;33m\u001b[0m\u001b[0m\n\u001b[0m\u001b[0;32m   3082\u001b[0m             \u001b[1;32mexcept\u001b[0m \u001b[0mKeyError\u001b[0m \u001b[1;32mas\u001b[0m \u001b[0merr\u001b[0m\u001b[1;33m:\u001b[0m\u001b[1;33m\u001b[0m\u001b[1;33m\u001b[0m\u001b[0m\n",
      "\u001b[1;32mpandas\\_libs\\index.pyx\u001b[0m in \u001b[0;36mpandas._libs.index.IndexEngine.get_loc\u001b[1;34m()\u001b[0m\n",
      "\u001b[1;32mpandas\\_libs\\index.pyx\u001b[0m in \u001b[0;36mpandas._libs.index.IndexEngine.get_loc\u001b[1;34m()\u001b[0m\n",
      "\u001b[1;32mpandas\\_libs\\hashtable_class_helper.pxi\u001b[0m in \u001b[0;36mpandas._libs.hashtable.PyObjectHashTable.get_item\u001b[1;34m()\u001b[0m\n",
      "\u001b[1;32mpandas\\_libs\\hashtable_class_helper.pxi\u001b[0m in \u001b[0;36mpandas._libs.hashtable.PyObjectHashTable.get_item\u001b[1;34m()\u001b[0m\n",
      "\u001b[1;31mKeyError\u001b[0m: 'log_time'",
      "\nThe above exception was the direct cause of the following exception:\n",
      "\u001b[1;31mKeyError\u001b[0m                                  Traceback (most recent call last)",
      "\u001b[1;32m~\\AppData\\Local\\Temp/ipykernel_18832/755529203.py\u001b[0m in \u001b[0;36m<module>\u001b[1;34m\u001b[0m\n\u001b[1;32m----> 1\u001b[1;33m \u001b[0mdataset\u001b[0m\u001b[1;33m.\u001b[0m\u001b[0mloc\u001b[0m\u001b[1;33m[\u001b[0m\u001b[1;33m(\u001b[0m\u001b[0mdataset\u001b[0m\u001b[1;33m[\u001b[0m\u001b[1;34m'log_time'\u001b[0m\u001b[1;33m]\u001b[0m \u001b[1;33m>\u001b[0m \u001b[0mafternoon\u001b[0m\u001b[1;33m)\u001b[0m\u001b[1;33m]\u001b[0m\u001b[1;33m\u001b[0m\u001b[1;33m\u001b[0m\u001b[0m\n\u001b[0m",
      "\u001b[1;32m~\\AppData\\Local\\Programs\\Python\\Python39\\lib\\site-packages\\pandas\\core\\frame.py\u001b[0m in \u001b[0;36m__getitem__\u001b[1;34m(self, key)\u001b[0m\n\u001b[0;32m   3022\u001b[0m             \u001b[1;32mif\u001b[0m \u001b[0mself\u001b[0m\u001b[1;33m.\u001b[0m\u001b[0mcolumns\u001b[0m\u001b[1;33m.\u001b[0m\u001b[0mnlevels\u001b[0m \u001b[1;33m>\u001b[0m \u001b[1;36m1\u001b[0m\u001b[1;33m:\u001b[0m\u001b[1;33m\u001b[0m\u001b[1;33m\u001b[0m\u001b[0m\n\u001b[0;32m   3023\u001b[0m                 \u001b[1;32mreturn\u001b[0m \u001b[0mself\u001b[0m\u001b[1;33m.\u001b[0m\u001b[0m_getitem_multilevel\u001b[0m\u001b[1;33m(\u001b[0m\u001b[0mkey\u001b[0m\u001b[1;33m)\u001b[0m\u001b[1;33m\u001b[0m\u001b[1;33m\u001b[0m\u001b[0m\n\u001b[1;32m-> 3024\u001b[1;33m             \u001b[0mindexer\u001b[0m \u001b[1;33m=\u001b[0m \u001b[0mself\u001b[0m\u001b[1;33m.\u001b[0m\u001b[0mcolumns\u001b[0m\u001b[1;33m.\u001b[0m\u001b[0mget_loc\u001b[0m\u001b[1;33m(\u001b[0m\u001b[0mkey\u001b[0m\u001b[1;33m)\u001b[0m\u001b[1;33m\u001b[0m\u001b[1;33m\u001b[0m\u001b[0m\n\u001b[0m\u001b[0;32m   3025\u001b[0m             \u001b[1;32mif\u001b[0m \u001b[0mis_integer\u001b[0m\u001b[1;33m(\u001b[0m\u001b[0mindexer\u001b[0m\u001b[1;33m)\u001b[0m\u001b[1;33m:\u001b[0m\u001b[1;33m\u001b[0m\u001b[1;33m\u001b[0m\u001b[0m\n\u001b[0;32m   3026\u001b[0m                 \u001b[0mindexer\u001b[0m \u001b[1;33m=\u001b[0m \u001b[1;33m[\u001b[0m\u001b[0mindexer\u001b[0m\u001b[1;33m]\u001b[0m\u001b[1;33m\u001b[0m\u001b[1;33m\u001b[0m\u001b[0m\n",
      "\u001b[1;32m~\\AppData\\Local\\Programs\\Python\\Python39\\lib\\site-packages\\pandas\\core\\indexes\\base.py\u001b[0m in \u001b[0;36mget_loc\u001b[1;34m(self, key, method, tolerance)\u001b[0m\n\u001b[0;32m   3081\u001b[0m                 \u001b[1;32mreturn\u001b[0m \u001b[0mself\u001b[0m\u001b[1;33m.\u001b[0m\u001b[0m_engine\u001b[0m\u001b[1;33m.\u001b[0m\u001b[0mget_loc\u001b[0m\u001b[1;33m(\u001b[0m\u001b[0mcasted_key\u001b[0m\u001b[1;33m)\u001b[0m\u001b[1;33m\u001b[0m\u001b[1;33m\u001b[0m\u001b[0m\n\u001b[0;32m   3082\u001b[0m             \u001b[1;32mexcept\u001b[0m \u001b[0mKeyError\u001b[0m \u001b[1;32mas\u001b[0m \u001b[0merr\u001b[0m\u001b[1;33m:\u001b[0m\u001b[1;33m\u001b[0m\u001b[1;33m\u001b[0m\u001b[0m\n\u001b[1;32m-> 3083\u001b[1;33m                 \u001b[1;32mraise\u001b[0m \u001b[0mKeyError\u001b[0m\u001b[1;33m(\u001b[0m\u001b[0mkey\u001b[0m\u001b[1;33m)\u001b[0m \u001b[1;32mfrom\u001b[0m \u001b[0merr\u001b[0m\u001b[1;33m\u001b[0m\u001b[1;33m\u001b[0m\u001b[0m\n\u001b[0m\u001b[0;32m   3084\u001b[0m \u001b[1;33m\u001b[0m\u001b[0m\n\u001b[0;32m   3085\u001b[0m         \u001b[1;32mif\u001b[0m \u001b[0mtolerance\u001b[0m \u001b[1;32mis\u001b[0m \u001b[1;32mnot\u001b[0m \u001b[1;32mNone\u001b[0m\u001b[1;33m:\u001b[0m\u001b[1;33m\u001b[0m\u001b[1;33m\u001b[0m\u001b[0m\n",
      "\u001b[1;31mKeyError\u001b[0m: 'log_time'"
     ]
    }
   ],
   "metadata": {}
  },
  {
   "cell_type": "code",
   "execution_count": 63,
   "source": [
    "dataset.loc[(dataset['log_time'] < afternoon)]"
   ],
   "outputs": [
    {
     "output_type": "execute_result",
     "data": {
      "text/html": [
       "<div>\n",
       "<style scoped>\n",
       "    .dataframe tbody tr th:only-of-type {\n",
       "        vertical-align: middle;\n",
       "    }\n",
       "\n",
       "    .dataframe tbody tr th {\n",
       "        vertical-align: top;\n",
       "    }\n",
       "\n",
       "    .dataframe thead th {\n",
       "        text-align: right;\n",
       "    }\n",
       "</style>\n",
       "<table border=\"1\" class=\"dataframe\">\n",
       "  <thead>\n",
       "    <tr style=\"text-align: right;\">\n",
       "      <th></th>\n",
       "      <th>store_id</th>\n",
       "      <th>card_id</th>\n",
       "      <th>card_company</th>\n",
       "      <th>transacted_date</th>\n",
       "      <th>transacted_time</th>\n",
       "      <th>installment_term</th>\n",
       "      <th>region</th>\n",
       "      <th>type_of_business</th>\n",
       "      <th>amount</th>\n",
       "      <th>datetime</th>\n",
       "      <th>log_time</th>\n",
       "    </tr>\n",
       "  </thead>\n",
       "  <tbody>\n",
       "    <tr>\n",
       "      <th>4</th>\n",
       "      <td>0</td>\n",
       "      <td>4</td>\n",
       "      <td>c</td>\n",
       "      <td>2016-06-02</td>\n",
       "      <td>11:06</td>\n",
       "      <td>0</td>\n",
       "      <td>NaN</td>\n",
       "      <td>기타 미용업</td>\n",
       "      <td>2000.000000</td>\n",
       "      <td>2016-06-02 11:06:00</td>\n",
       "      <td>11:06:00</td>\n",
       "    </tr>\n",
       "    <tr>\n",
       "      <th>14</th>\n",
       "      <td>0</td>\n",
       "      <td>14</td>\n",
       "      <td>a</td>\n",
       "      <td>2016-06-04</td>\n",
       "      <td>11:15</td>\n",
       "      <td>0</td>\n",
       "      <td>NaN</td>\n",
       "      <td>기타 미용업</td>\n",
       "      <td>2000.000000</td>\n",
       "      <td>2016-06-04 11:15:00</td>\n",
       "      <td>11:15:00</td>\n",
       "    </tr>\n",
       "    <tr>\n",
       "      <th>21</th>\n",
       "      <td>0</td>\n",
       "      <td>21</td>\n",
       "      <td>f</td>\n",
       "      <td>2016-06-05</td>\n",
       "      <td>11:09</td>\n",
       "      <td>0</td>\n",
       "      <td>NaN</td>\n",
       "      <td>기타 미용업</td>\n",
       "      <td>1285.714286</td>\n",
       "      <td>2016-06-05 11:09:00</td>\n",
       "      <td>11:09:00</td>\n",
       "    </tr>\n",
       "    <tr>\n",
       "      <th>22</th>\n",
       "      <td>0</td>\n",
       "      <td>22</td>\n",
       "      <td>c</td>\n",
       "      <td>2016-06-05</td>\n",
       "      <td>11:31</td>\n",
       "      <td>0</td>\n",
       "      <td>NaN</td>\n",
       "      <td>기타 미용업</td>\n",
       "      <td>2000.000000</td>\n",
       "      <td>2016-06-05 11:31:00</td>\n",
       "      <td>11:31:00</td>\n",
       "    </tr>\n",
       "    <tr>\n",
       "      <th>24</th>\n",
       "      <td>0</td>\n",
       "      <td>24</td>\n",
       "      <td>a</td>\n",
       "      <td>2016-06-06</td>\n",
       "      <td>11:35</td>\n",
       "      <td>0</td>\n",
       "      <td>NaN</td>\n",
       "      <td>기타 미용업</td>\n",
       "      <td>7142.857143</td>\n",
       "      <td>2016-06-06 11:35:00</td>\n",
       "      <td>11:35:00</td>\n",
       "    </tr>\n",
       "    <tr>\n",
       "      <th>...</th>\n",
       "      <td>...</td>\n",
       "      <td>...</td>\n",
       "      <td>...</td>\n",
       "      <td>...</td>\n",
       "      <td>...</td>\n",
       "      <td>...</td>\n",
       "      <td>...</td>\n",
       "      <td>...</td>\n",
       "      <td>...</td>\n",
       "      <td>...</td>\n",
       "      <td>...</td>\n",
       "    </tr>\n",
       "    <tr>\n",
       "      <th>6556590</th>\n",
       "      <td>2136</td>\n",
       "      <td>4663844</td>\n",
       "      <td>b</td>\n",
       "      <td>2019-02-27</td>\n",
       "      <td>01:19</td>\n",
       "      <td>0</td>\n",
       "      <td>제주 제주시</td>\n",
       "      <td>기타 주점업</td>\n",
       "      <td>6000.000000</td>\n",
       "      <td>2019-02-27 01:19:00</td>\n",
       "      <td>01:19:00</td>\n",
       "    </tr>\n",
       "    <tr>\n",
       "      <th>6556591</th>\n",
       "      <td>2136</td>\n",
       "      <td>4663845</td>\n",
       "      <td>b</td>\n",
       "      <td>2019-02-27</td>\n",
       "      <td>02:15</td>\n",
       "      <td>0</td>\n",
       "      <td>제주 제주시</td>\n",
       "      <td>기타 주점업</td>\n",
       "      <td>5142.857143</td>\n",
       "      <td>2019-02-27 02:15:00</td>\n",
       "      <td>02:15:00</td>\n",
       "    </tr>\n",
       "    <tr>\n",
       "      <th>6556592</th>\n",
       "      <td>2136</td>\n",
       "      <td>1977050</td>\n",
       "      <td>d</td>\n",
       "      <td>2019-02-27</td>\n",
       "      <td>03:45</td>\n",
       "      <td>0</td>\n",
       "      <td>제주 제주시</td>\n",
       "      <td>기타 주점업</td>\n",
       "      <td>6428.571429</td>\n",
       "      <td>2019-02-27 03:45:00</td>\n",
       "      <td>03:45:00</td>\n",
       "    </tr>\n",
       "    <tr>\n",
       "      <th>6556598</th>\n",
       "      <td>2136</td>\n",
       "      <td>4661654</td>\n",
       "      <td>a</td>\n",
       "      <td>2019-02-28</td>\n",
       "      <td>01:04</td>\n",
       "      <td>0</td>\n",
       "      <td>제주 제주시</td>\n",
       "      <td>기타 주점업</td>\n",
       "      <td>8571.428571</td>\n",
       "      <td>2019-02-28 01:04:00</td>\n",
       "      <td>01:04:00</td>\n",
       "    </tr>\n",
       "    <tr>\n",
       "      <th>6556599</th>\n",
       "      <td>2136</td>\n",
       "      <td>4663850</td>\n",
       "      <td>a</td>\n",
       "      <td>2019-02-28</td>\n",
       "      <td>02:35</td>\n",
       "      <td>0</td>\n",
       "      <td>제주 제주시</td>\n",
       "      <td>기타 주점업</td>\n",
       "      <td>7428.571429</td>\n",
       "      <td>2019-02-28 02:35:00</td>\n",
       "      <td>02:35:00</td>\n",
       "    </tr>\n",
       "  </tbody>\n",
       "</table>\n",
       "<p>968769 rows × 11 columns</p>\n",
       "</div>"
      ],
      "text/plain": [
       "         store_id  card_id card_company transacted_date transacted_time  \\\n",
       "4               0        4            c      2016-06-02           11:06   \n",
       "14              0       14            a      2016-06-04           11:15   \n",
       "21              0       21            f      2016-06-05           11:09   \n",
       "22              0       22            c      2016-06-05           11:31   \n",
       "24              0       24            a      2016-06-06           11:35   \n",
       "...           ...      ...          ...             ...             ...   \n",
       "6556590      2136  4663844            b      2019-02-27           01:19   \n",
       "6556591      2136  4663845            b      2019-02-27           02:15   \n",
       "6556592      2136  1977050            d      2019-02-27           03:45   \n",
       "6556598      2136  4661654            a      2019-02-28           01:04   \n",
       "6556599      2136  4663850            a      2019-02-28           02:35   \n",
       "\n",
       "         installment_term  region type_of_business       amount  \\\n",
       "4                       0     NaN           기타 미용업  2000.000000   \n",
       "14                      0     NaN           기타 미용업  2000.000000   \n",
       "21                      0     NaN           기타 미용업  1285.714286   \n",
       "22                      0     NaN           기타 미용업  2000.000000   \n",
       "24                      0     NaN           기타 미용업  7142.857143   \n",
       "...                   ...     ...              ...          ...   \n",
       "6556590                 0  제주 제주시           기타 주점업  6000.000000   \n",
       "6556591                 0  제주 제주시           기타 주점업  5142.857143   \n",
       "6556592                 0  제주 제주시           기타 주점업  6428.571429   \n",
       "6556598                 0  제주 제주시           기타 주점업  8571.428571   \n",
       "6556599                 0  제주 제주시           기타 주점업  7428.571429   \n",
       "\n",
       "                   datetime  log_time  \n",
       "4       2016-06-02 11:06:00  11:06:00  \n",
       "14      2016-06-04 11:15:00  11:15:00  \n",
       "21      2016-06-05 11:09:00  11:09:00  \n",
       "22      2016-06-05 11:31:00  11:31:00  \n",
       "24      2016-06-06 11:35:00  11:35:00  \n",
       "...                     ...       ...  \n",
       "6556590 2019-02-27 01:19:00  01:19:00  \n",
       "6556591 2019-02-27 02:15:00  02:15:00  \n",
       "6556592 2019-02-27 03:45:00  03:45:00  \n",
       "6556598 2019-02-28 01:04:00  01:04:00  \n",
       "6556599 2019-02-28 02:35:00  02:35:00  \n",
       "\n",
       "[968769 rows x 11 columns]"
      ]
     },
     "metadata": {},
     "execution_count": 63
    }
   ],
   "metadata": {}
  },
  {
   "cell_type": "code",
   "execution_count": 7,
   "source": [
    "grouped = dataset['amount'].groupby(dataset['region'])\r\n",
    "grouped.mean()"
   ],
   "outputs": [
    {
     "output_type": "execute_result",
     "data": {
      "text/plain": [
       "region\n",
       "강원 강릉시     7409.415484\n",
       "강원 삼척시     8023.419596\n",
       "강원 속초시    16593.699141\n",
       "강원 양구군    10799.438604\n",
       "강원 원주시     8507.560292\n",
       "              ...     \n",
       "충북 제천시     5655.039867\n",
       "충북 증평군     5261.246131\n",
       "충북 진천군     4370.129740\n",
       "충북 청주시     8047.485747\n",
       "충북 충주시     7743.247049\n",
       "Name: amount, Length: 180, dtype: float64"
      ]
     },
     "metadata": {},
     "execution_count": 7
    }
   ],
   "metadata": {}
  },
  {
   "cell_type": "code",
   "execution_count": 10,
   "source": [
    "grouped.mean().index"
   ],
   "outputs": [
    {
     "output_type": "execute_result",
     "data": {
      "text/plain": [
       "Index(['강원 강릉시', '강원 삼척시', '강원 속초시', '강원 양구군', '강원 원주시', '강원 철원군', '강원 춘천시',\n",
       "       '강원 태백시', '강원 홍천군', '강원 횡성군',\n",
       "       ...\n",
       "       '충남 천안시', '충남 홍성군', '충북 단양군', '충북 옥천군', '충북 음성군', '충북 제천시', '충북 증평군',\n",
       "       '충북 진천군', '충북 청주시', '충북 충주시'],\n",
       "      dtype='object', name='region', length=180)"
      ]
     },
     "metadata": {},
     "execution_count": 10
    }
   ],
   "metadata": {}
  },
  {
   "cell_type": "code",
   "execution_count": 11,
   "source": [
    "grouped.mean().values"
   ],
   "outputs": [
    {
     "output_type": "execute_result",
     "data": {
      "text/plain": [
       "array([ 7409.41548383,  8023.41959611, 16593.69914111, 10799.43860353,\n",
       "        8507.56029188,  1863.4860081 , 13847.74137793, 17826.13553455,\n",
       "        7798.13069245,  6791.56756153,  7521.692949  , 12722.89306128,\n",
       "       58984.75683415, 14984.23289378,  6349.61952405,  7087.40759161,\n",
       "        6496.19191379, 27419.65988955,  7245.75822895, 14780.24228903,\n",
       "       11095.93654739, 17299.4045272 , 11329.42317693,  7071.7204802 ,\n",
       "       11636.24665529,  4787.98613796,  8245.00329801, 14887.27766546,\n",
       "        5438.46280448,  8349.5634706 ,  4599.08570022, 22128.52478866,\n",
       "       11067.57790585, 10457.79812333,  7152.77803441,  8524.97444861,\n",
       "        7625.35021027,  4459.83418274, 13588.26194952, 17651.24835101,\n",
       "        8763.65704537,  4744.53193351,  8122.78807483,  3051.03158657,\n",
       "       10386.44329925,  8420.09738947,  5595.14189187,  6772.37136587,\n",
       "        8946.7094703 ,  8442.965416  ,  6813.2188659 , 21203.70972991,\n",
       "        5743.18092175, 17138.90282535,  8929.9548161 , 10167.50389657,\n",
       "       38071.43693217,  5408.65360957,  8684.78235225,  5328.09317155,\n",
       "       14158.32071344,  3806.35072821,  4776.41196013,  8481.27355164,\n",
       "        9834.93501112, 17990.04547852, 12872.14687971, 12515.51175462,\n",
       "       14831.00033101,  6030.44554764, 15634.81338031,  8711.32801418,\n",
       "       11282.81837742,  9782.74927102, 15741.25144009,  4286.2464545 ,\n",
       "       15208.57295882,  4329.97491628,  6185.24697337, 12242.74238562,\n",
       "        6499.34237462,  4701.56179111,  5170.68374144,  7025.28298393,\n",
       "       24468.75848369, 19885.1959262 ,  5451.08652157,  8309.09380523,\n",
       "        9298.92353593, 10437.04050617,  9146.05763632,  8568.12012286,\n",
       "        7753.53909908,  9855.16781061, 19779.90568124,  4132.39781752,\n",
       "       12332.32961182, 18230.54593841, 33144.93344693,  6149.2439333 ,\n",
       "        6136.96024907, 20584.46002748, 19390.96294255, 44420.38645158,\n",
       "        7948.51042099, 18243.99181289,  4725.66574296, 10258.21765864,\n",
       "       11215.02313859, 13622.49427496,  5422.08584496, 18880.93248846,\n",
       "        8028.69192232, 13984.60654802, 12977.48811505,  4036.94921677,\n",
       "       18083.66914959,  9147.5928448 ,  5134.06553498,  6949.76175549,\n",
       "       10511.92906371,  5987.93466307,  2751.29715327, 21255.62442651,\n",
       "        3410.77451217, 12764.30267062, 11938.74562954,  6753.03428939,\n",
       "       11902.816454  ,  6991.75461049, 10489.35569171, 13555.87604926,\n",
       "        9334.5057847 ,  9441.09843365, 17055.23158232,  5673.72533587,\n",
       "       20388.07595259,  9252.85276101, 13867.39360014, 15912.86686813,\n",
       "        4654.1206402 ,  6383.02901897, 18017.43855607, 26967.86211468,\n",
       "       13291.42982488, 15211.30492942, 15507.10678   , 12376.47160754,\n",
       "       45119.5720579 ,  6209.42201072, 10220.48547566, 10756.98460213,\n",
       "        3667.30162807,  5590.68764273, 13595.79214874, 10193.69013106,\n",
       "       11089.87996019,  9057.90395708,  6336.24325096,  8930.59580214,\n",
       "        7592.92549772,  3592.84934498,  9440.86831043,  6546.49306114,\n",
       "        5606.54827244,  4806.96179327,  4274.75104486,  5876.21808986,\n",
       "       11000.80267091,  3069.89449887,  8501.37605983, 15314.46840371,\n",
       "        5570.22184247, 23071.36609095,  7650.25729488,  5655.03986711,\n",
       "        5261.2461307 ,  4370.12974048,  8047.48574683,  7743.24704918])"
      ]
     },
     "metadata": {},
     "execution_count": 11
    }
   ],
   "metadata": {}
  },
  {
   "cell_type": "code",
   "execution_count": 24,
   "source": [
    "plt.rcParams['font.family'] = 'malgun gothic'\r\n",
    "plt.rcParams['figure.figsize'] = (15,5)\r\n",
    "\r\n",
    "\r\n",
    "plt.bar(grouped.mean().index[0:10], grouped.mean().values[0:10])"
   ],
   "outputs": [
    {
     "output_type": "execute_result",
     "data": {
      "text/plain": [
       "<BarContainer object of 10 artists>"
      ]
     },
     "metadata": {},
     "execution_count": 24
    },
    {
     "output_type": "display_data",
     "data": {
      "image/png": "[encoded data removed]",
      "text/plain": [
       "<Figure size 1080x360 with 1 Axes>"
      ]
     },
     "metadata": {
      "needs_background": "light"
     }
    }
   ],
   "metadata": {}
  },
  {
   "cell_type": "code",
   "execution_count": 25,
   "source": [
    "def get_col_unique(data):\r\n",
    "    print(\"데이터 프레임 열들의 속성 값들을 보여줍니다.\")\r\n",
    "    print(\"----------------------------------------------------------------------------------------------\")\r\n",
    "    for i in range(len(data.columns)):\r\n",
    "        print(data.columns[i],\":\",data.iloc[:,i].unique(), \"속성값의 갯수 :\", len(data.iloc[:,i].unique()))\r\n",
    "        print(\"----------------------------------------------------------------------------------------------\")\r\n",
    "\r\n",
    "def store_plot(data,start_id,end_id):\r\n",
    "    plt.figure(figsize=(15, 6))\r\n",
    "    for i in data['store_id'].unique()[start_id:end_id]:\r\n",
    "        plt.plot(data[data['store_id']== i].index, data[data['store_id'] == i].amount, label='store_{}'.format(i))\r\n",
    "    plt.legend()"
   ],
   "outputs": [],
   "metadata": {}
  },
  {
   "cell_type": "code",
   "execution_count": null,
   "source": [
    "store_plot()"
   ],
   "outputs": [],
   "metadata": {}
  },
  {
   "cell_type": "code",
   "execution_count": 4,
   "source": [
    "get_col_unique(dataset)"
   ],
   "outputs": [
    {
     "output_type": "stream",
     "name": "stdout",
     "text": [
      "데이터 프레임 열들의 속성 값들을 보여줍니다.\n",
      "----------------------------------------------------------------------------------------------\n",
      "store_id : [   0    1    2 ... 2134 2135 2136] 속성값의 갯수 : 1967\n",
      "----------------------------------------------------------------------------------------------\n",
      "card_id : [      0       1       2 ... 4663854 4663855 4663856] 속성값의 갯수 : 3950001\n",
      "----------------------------------------------------------------------------------------------\n",
      "card_company : ['b' 'h' 'c' 'a' 'f' 'e' 'g' 'd'] 속성값의 갯수 : 8\n",
      "----------------------------------------------------------------------------------------------\n",
      "transacted_date : ['2016-06-01' '2016-06-02' '2016-06-03' ... '2019-01-01' '2019-02-05'\n",
      " '2017-10-04'] 속성값의 갯수 : 1003\n",
      "----------------------------------------------------------------------------------------------\n",
      "transacted_time : ['13:13' '18:12' '18:52' ... '07:48' '07:51' '08:15'] 속성값의 갯수 : 1440\n",
      "----------------------------------------------------------------------------------------------\n",
      "installment_term : [ 0  2  3 60  4  5  6 10 12 15  7  8  9 18 24 16 14 11 20 36 13 35 80 17\n",
      " 19 23 30 22 83 63 93 65 82 72] 속성값의 갯수 : 34\n",
      "----------------------------------------------------------------------------------------------\n",
      "region : [nan '서울 종로구' '충북 충주시' '부산 동래구' '경기 평택시' '부산 동구' '광주 동구' '경기 파주시' '대구 수성구'\n",
      " '경기 용인시' '서울 중구' '경기 안양시' '경기 수원시' '경기 화성시' '서울 송파구' '서울 마포구' '부산 부산진구'\n",
      " '서울 용산구' '충남 금산군' '서울 중랑구' '전남 목포시' '경기 안성시' '서울 영등포구' '서울 동작구' '경기 과천시'\n",
      " '경북 경주시' '인천 계양구' '서울 강서구' '경기 성남시' '인천 남동구' '서울 광진구' '서울 서대문구' '서울 은평구'\n",
      " '서울 강남구' '강원 강릉시' '서울 구로구' '서울 서초구' '경기 시흥시' '인천 서구' '서울 양천구' '경기 부천시'\n",
      " '경기 광주시' '서울 금천구' '서울 관악구' '인천 남구' '인천 동구' '충북 제천시' '광주 광산구' '인천 연수구'\n",
      " '인천 부평구' '경기 의왕시' '전남 순천시' '경기 이천시' '경기 의정부시' '경기 포천시' '경기 양주시' '경기 고양시'\n",
      " '충북 옥천군' '경기 광명시' '경기 구리시' '경기 남양주시' '경기 가평군' '전남 여수시' '경기 안산시' '경기 오산시'\n",
      " '경기 김포시' '서울 성동구' '전북 군산시' '경남 김해시' '경기 군포시' '제주 서귀포시' '서울 강북구' '제주 제주시'\n",
      " '부산 금정구' '경북 구미시' '광주 서구' '부산 사상구' '충남 천안시' '강원 원주시' '충남 아산시' '경북 포항시'\n",
      " '부산 강서구' '강원 횡성군' '대구 남구' '경남 양산시' '경남 창원시' '강원 양구군' '경남 통영시' '충남 당진시'\n",
      " '부산 사하구' '강원 태백시' '서울 동대문구' '충북 청주시' '대구 북구' '서울 성북구' '부산 해운대구' '경북 경산시'\n",
      " '서울 노원구' '부산 연제구' '경기 하남시' '서울 강동구' '부산 수영구' '대전 대덕구' '부산 북구' '강원 춘천시'\n",
      " '인천 중구' '강원 삼척시' '전북 전주시' '강원 홍천군' '강원 속초시' '경기 연천군' '대전 중구' '부산 중구'\n",
      " '충북 단양군' '대전 서구' '울산 북구' '경남 거제시' '광주 북구' '부산 서구' '대구 동구' '경기 동두천시'\n",
      " '충남 서산시' '경북 영주시' '부산 남구' '전남 나주시' '충북 음성군' '충북 증평군' '대전 동구' '울산 남구'\n",
      " '충남 공주시' '충남 부여군' '충남 홍성군' '충남 보령시' '울산 중구' '대전 유성구' '울산 울주군' '경북 영천시'\n",
      " '대구 중구' '전남 무안군' '충남 서천군' '전북 익산시' '전북 김제시' '전북 정읍시' '전북 순창군' '전북 남원시'\n",
      " '광주 남구' '전남 담양군' '전남 해남군' '전남 함평군' '전남 완도군' '전남 고흥군' '경남 창녕군' '대구 달서구'\n",
      " '부산 영도구' '경북 김천시' '경기 양평군' '충북 진천군' '세종 도움3로' '대구 서구' '경북 울진군' '경북 안동시'\n",
      " '전남 곡성군' '대구 달성군' '경남 남해군' '경남 사천시' '부산 기장군' '경남 함안군' '울산 동구' '경남 거창군'\n",
      " '경남 진주시' '경남 밀양시' '경북 상주시' '세종 고운서길' '충남 논산시' '경북 성주군' '전남 광양시' '세종 달빛로'\n",
      " '세종 조치원읍' '경북 칠곡군' '강원 철원군' '충남 예산군'] 속성값의 갯수 : 181\n",
      "----------------------------------------------------------------------------------------------\n",
      "type_of_business : ['기타 미용업' nan '의복 액세서리 및 모조 장신구 도매업' '한식 음식점업' '배관 및 냉ㆍ난방장치 도매업'\n",
      " '그 외 기타 스포츠시설 운영업' '간이음식 포장 판매 전문점' '안경 및 렌즈 소매업'\n",
      " '그 외 기타 분류 안된 상품 전문 소매업' '채소, 과실 및 뿌리작물 소매업' '서양식 음식점업' '통신기기 소매업'\n",
      " '기타 주점업' '의복 소매업' '두발 미용업' '섬유, 직물 및 의복액세서리 소매업' '외국어학원' '기타 외국식 음식점업'\n",
      " '가정용 세탁업' '낚시장 운영업' '육류 소매업' '전자상거래 소매업' '일식 음식점업' '화장품, 비누 및 방향제 소매업'\n",
      " '가전제품 소매업' '기타 스포츠 교육기관' '체형 등 기타 신체관리 서비스업' '여행사업' '기타 교육지원 서비스업'\n",
      " '기타 교습학원' '곡물 및 기타 식량작물 재배업' '기록매체 복제업' '골프연습장 운영업' '속옷 및 잠옷 소매업'\n",
      " '그 외 기타 분류 안된 사업지원 서비스업' '담배 소매업' '기타 예술학원' '문구용품 및 회화용품 소매업'\n",
      " '기타 음ㆍ식료품 위주 종합 소매업' '운동 및 경기용품 소매업' '그 외 기타 상품 전문 도매업'\n",
      " '그 외 기타 창작 및 예술관련 서비스업' '자전거 및 기타 운송장비 소매업' '가구 소매업' '애완용 동물 및 관련용품 소매업'\n",
      " '철물, 금속 파스너 및 수공구 도매업' '피부 미용업' '기타 자동차 신품 부품 및 내장품 판매업' '비알코올 음료점업'\n",
      " '화장품 및 화장용품 도매업' '애완동물 장묘 및 보호 서비스업' '그 외 기타 무점포 소매업' '운동 및 경기용품 도매업'\n",
      " '치킨 전문점' '자동차 전문 수리업' '일반 교과 학원' '그 외 기타 생활용품 도매업' '그 외 기타 종합 소매업'\n",
      " '컴퓨터 및 주변장치, 소프트웨어 소매업' '기타 엔지니어링 서비스업' '체력단련시설 운영업' '기타 기술 및 직업훈련학원'\n",
      " '컴퓨터 학원' '음료 소매업' '인물사진 및 행사용 영상 촬영업' '상품 종합 도매업' '화초 및 식물 소매업'\n",
      " '모터사이클 및 부품 도매업' '마사지업' '주방용품 및 가정용 유리, 요업 제품 소매업'\n",
      " '기념품, 관광 민예품 및 장식용품 소매업' '서적, 신문 및 잡지류 소매업' '종자 및 묘목 도매업'\n",
      " '그 외 기타 분류 안된 교육기관' '건강보조식품 소매업' '자전거 및 기타 운송장비 도매업' '김밥 및 기타 간이 음식점업'\n",
      " '화훼류 및 식물 도매업' '중식 음식점업' '신발 소매업' '자동차 중고 부품 및 내장품 판매업' '신발 도매업'\n",
      " '의약품 도매업' '자동차 세차업' '남녀용 겉옷 및 셔츠 도매업' '가정용 직물제품 소매업' '당구장 운영업'\n",
      " '그 외 기타 달리 분류되지 않은 개인 서비스업' '악기 도매업' '문구용품, 회화용품, 사무용품·· 도매업' '경영 컨설팅업'\n",
      " '독서실 운영업' '자동차 신품 타이어 및 튜브 판매업' '스포츠 및 레크리에이션 용품 임대업' '공구 소매업' '슈퍼마켓'\n",
      " '게임용구, 인형 및 장난감 소매업' '피자, 햄버거, 샌드위치 및 유사 음식점업' '기타 일반 및 생활 숙박시설 운영업'\n",
      " '노래연습장 운영업' '떡류 제조업' '신선식품 및 단순 가공식품 도매업' '그 외 기타 분류 안된 가정용품 소매업'\n",
      " '배전반 및 전기 자동제어반 제조업' '유아용 의류 소매업' '한의원' '예술품 및 골동품 소매업' '통신장비 수리업' '이용업'\n",
      " '시계 및 귀금속 소매업' '기타 식료품 소매업' '커튼 및 침구용품 도매업' '유아용 의류 도매업' '안경 및 안경렌즈 제조업'\n",
      " '그 외 기타 건축자재 도매업' '통신·방송장비 및 부품 도매업' '그 외 기타 나무제품 제조업' '의약품 및 의료용품 소매업'\n",
      " '여관업' '귀금속 및 관련제품 제조업' '사무용 기기 소매업' '의료용품 도매업' '제과점업' '기타 산업용 농산물 도매업'\n",
      " '한복 소매업' '육류 도매업' '일반 병원' '신선, 냉동 및 기타 수산물 소매업' '자동차 종합 수리업'\n",
      " '결혼 상담 및 준비 서비스업' '간판 및 광고물 제조업' '기타 인문 및 사회과학 연구개발업' '기타 건물 관련설비 설치 공사업'\n",
      " '일반 의원' '수산물 가공식품 도매업' '신선, 냉동 및 기타 수산물 도매업' '페인트, 창호 및 기타 건설자재 소매업'\n",
      " '그 외 기타 분류 안된 오락관련 서비스업' '수영장 운영업' '그 외 기타 스포츠 서비스업' '택배업' '체인화 편의점'\n",
      " '침구 및 관련제품 제조업' '스포츠 클럽 운영업' '생활용 유리ㆍ요업ㆍ목재ㆍ금속 제품 및 날붙이 도매업' '예식장업'] 속성값의 갯수 : 146\n",
      "----------------------------------------------------------------------------------------------\n",
      "amount : [ 1857.14285714   857.14285714  2000.         ... -3885.71428571\n",
      "    33.57142857   -33.57142857] 속성값의 갯수 : 30551\n",
      "----------------------------------------------------------------------------------------------\n"
     ]
    }
   ],
   "metadata": {}
  },
  {
   "cell_type": "code",
   "execution_count": null,
   "source": [
    "dataset."
   ],
   "outputs": [],
   "metadata": {}
  }
 ],
 "metadata": {
  "orig_nbformat": 4,
  "language_info": {
   "name": "python",
   "version": "3.9.6",
   "mimetype": "text/x-python",
   "codemirror_mode": {
    "name": "ipython",
    "version": 3
   },
   "pygments_lexer": "ipython3",
   "nbconvert_exporter": "python",
   "file_extension": ".py"
  },
  "kernelspec": {
   "name": "python3",
   "display_name": "Python 3.9.6 64-bit"
  },
  "interpreter": {
   "hash": "71b59b5ba49ad06bb2a011e750699e3983d230921f30bf7f37eb3a01ae69aa26"
  }
 },
 "nbformat": 4,
 "nbformat_minor": 2
}