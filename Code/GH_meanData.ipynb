{
 "cells": [
  {
   "cell_type": "code",
   "execution_count": 1,
   "metadata": {},
   "outputs": [],
   "source": [
    "import pandas as pd\n",
    "from tqdm import tqdm"
   ]
  },
  {
   "cell_type": "code",
   "execution_count": 2,
   "metadata": {},
   "outputs": [],
   "source": [
    "finalset = pd.read_csv('finalset.csv', index_col= 'Unnamed: 0')"
   ]
  },
  {
   "cell_type": "code",
   "execution_count": 3,
   "metadata": {},
   "outputs": [],
   "source": [
    "finalset['datetime'] = pd.to_datetime(finalset['year_month'] + '-25', format='%Y-%m-%d')"
   ]
  },
  {
   "cell_type": "code",
   "execution_count": 5,
   "metadata": {},
   "outputs": [
    {
     "data": {
      "text/html": [
       "<div>\n",
       "<style scoped>\n",
       "    .dataframe tbody tr th:only-of-type {\n",
       "        vertical-align: middle;\n",
       "    }\n",
       "\n",
       "    .dataframe tbody tr th {\n",
       "        vertical-align: top;\n",
       "    }\n",
       "\n",
       "    .dataframe thead th {\n",
       "        text-align: right;\n",
       "    }\n",
       "</style>\n",
       "<table border=\"1\" class=\"dataframe\">\n",
       "  <thead>\n",
       "    <tr style=\"text-align: right;\">\n",
       "      <th></th>\n",
       "      <th>store_id</th>\n",
       "      <th>amount</th>\n",
       "      <th>datetime</th>\n",
       "    </tr>\n",
       "  </thead>\n",
       "  <tbody>\n",
       "    <tr>\n",
       "      <th>0</th>\n",
       "      <td>0</td>\n",
       "      <td>7.470000e+05</td>\n",
       "      <td>2016-06-25</td>\n",
       "    </tr>\n",
       "    <tr>\n",
       "      <th>1</th>\n",
       "      <td>0</td>\n",
       "      <td>1.005000e+06</td>\n",
       "      <td>2016-07-25</td>\n",
       "    </tr>\n",
       "    <tr>\n",
       "      <th>2</th>\n",
       "      <td>0</td>\n",
       "      <td>8.715714e+05</td>\n",
       "      <td>2016-08-25</td>\n",
       "    </tr>\n",
       "    <tr>\n",
       "      <th>3</th>\n",
       "      <td>0</td>\n",
       "      <td>8.978571e+05</td>\n",
       "      <td>2016-09-25</td>\n",
       "    </tr>\n",
       "    <tr>\n",
       "      <th>4</th>\n",
       "      <td>0</td>\n",
       "      <td>8.354286e+05</td>\n",
       "      <td>2016-10-25</td>\n",
       "    </tr>\n",
       "    <tr>\n",
       "      <th>...</th>\n",
       "      <td>...</td>\n",
       "      <td>...</td>\n",
       "      <td>...</td>\n",
       "    </tr>\n",
       "    <tr>\n",
       "      <th>60146</th>\n",
       "      <td>2136</td>\n",
       "      <td>2.012214e+06</td>\n",
       "      <td>2018-10-25</td>\n",
       "    </tr>\n",
       "    <tr>\n",
       "      <th>60147</th>\n",
       "      <td>2136</td>\n",
       "      <td>2.135429e+06</td>\n",
       "      <td>2018-11-25</td>\n",
       "    </tr>\n",
       "    <tr>\n",
       "      <th>60148</th>\n",
       "      <td>2136</td>\n",
       "      <td>2.427429e+06</td>\n",
       "      <td>2018-12-25</td>\n",
       "    </tr>\n",
       "    <tr>\n",
       "      <th>60149</th>\n",
       "      <td>2136</td>\n",
       "      <td>1.873643e+06</td>\n",
       "      <td>2019-01-25</td>\n",
       "    </tr>\n",
       "    <tr>\n",
       "      <th>60150</th>\n",
       "      <td>2136</td>\n",
       "      <td>2.227429e+06</td>\n",
       "      <td>2019-02-25</td>\n",
       "    </tr>\n",
       "  </tbody>\n",
       "</table>\n",
       "<p>60151 rows × 3 columns</p>\n",
       "</div>"
      ],
      "text/plain": [
       "       store_id        amount   datetime\n",
       "0             0  7.470000e+05 2016-06-25\n",
       "1             0  1.005000e+06 2016-07-25\n",
       "2             0  8.715714e+05 2016-08-25\n",
       "3             0  8.978571e+05 2016-09-25\n",
       "4             0  8.354286e+05 2016-10-25\n",
       "...         ...           ...        ...\n",
       "60146      2136  2.012214e+06 2018-10-25\n",
       "60147      2136  2.135429e+06 2018-11-25\n",
       "60148      2136  2.427429e+06 2018-12-25\n",
       "60149      2136  1.873643e+06 2019-01-25\n",
       "60150      2136  2.227429e+06 2019-02-25\n",
       "\n",
       "[60151 rows x 3 columns]"
      ]
     },
     "execution_count": 5,
     "metadata": {},
     "output_type": "execute_result"
    }
   ],
   "source": [
    "finalset = finalset.drop('year_month', axis = 1)\n",
    "finalset"
   ]
  },
  {
   "cell_type": "code",
   "execution_count": 6,
   "metadata": {},
   "outputs": [
    {
     "name": "stdout",
     "output_type": "stream",
     "text": [
      "795 매출 데이터량이 너무 적습니다.\n",
      "매출 데이터량이 적은 가게의 수 :  1\n"
     ]
    }
   ],
   "source": [
    "# 매출 데이터량(12개 미만)이 적은 가게를 필터링하는 함수 / 제거 알고리즘 구현해야함\n",
    "n_store = 0 \n",
    "for i in finalset['store_id'].unique()[0:]:\n",
    "    subset_5 = finalset[finalset['store_id'] == i]\n",
    "    if len(subset_5) < 12:\n",
    "        print(i,\"매출 데이터량이 너무 적습니다.\")\n",
    "        n_store += 1\n",
    "    else:\n",
    "        pass\n",
    "print(\"매출 데이터량이 적은 가게의 수 : \", n_store)"
   ]
  },
  {
   "cell_type": "code",
   "execution_count": 7,
   "metadata": {},
   "outputs": [
    {
     "name": "stderr",
     "output_type": "stream",
     "text": [
      " 48%|████▊     | 953/1967 [00:00<00:00, 2070.39it/s]"
     ]
    },
    {
     "name": "stdout",
     "output_type": "stream",
     "text": [
      "795 매출 데이터량이 너무 적습니다.\n"
     ]
    },
    {
     "name": "stderr",
     "output_type": "stream",
     "text": [
      "100%|██████████| 1967/1967 [00:01<00:00, 1786.96it/s]"
     ]
    },
    {
     "name": "stdout",
     "output_type": "stream",
     "text": [
      "1 개의 가게가 최근 매출이 없습니다.\n"
     ]
    },
    {
     "name": "stderr",
     "output_type": "stream",
     "text": [
      "\n"
     ]
    }
   ],
   "source": [
    "n_store = 0\n",
    "\n",
    "for i in tqdm(finalset['store_id'].unique()[0:]):\n",
    "    subset_5  = finalset.loc[finalset['store_id'] == i]\n",
    "    if len(subset_5) < 12:\n",
    "        print(i,\"매출 데이터량이 너무 적습니다.\")\n",
    "        # 스토어 개수를 출력하기 위한 함수\n",
    "        n_store += 1\n",
    "        # 스토어 아이디 별로 loc 시행\n",
    "        non_id = subset_5['store_id'].unique()[0]\n",
    "        finalset = finalset.loc[finalset['store_id'] != non_id]     \n",
    "    else:\n",
    "        pass\n",
    "print(n_store,\"개의 가게가 최근 매출이 없습니다.\")\n",
    "\n",
    "finalset = finalset.reset_index(drop=True)"
   ]
  },
  {
   "cell_type": "code",
   "execution_count": 9,
   "metadata": {},
   "outputs": [
    {
     "data": {
      "text/html": [
       "<div>\n",
       "<style scoped>\n",
       "    .dataframe tbody tr th:only-of-type {\n",
       "        vertical-align: middle;\n",
       "    }\n",
       "\n",
       "    .dataframe tbody tr th {\n",
       "        vertical-align: top;\n",
       "    }\n",
       "\n",
       "    .dataframe thead th {\n",
       "        text-align: right;\n",
       "    }\n",
       "</style>\n",
       "<table border=\"1\" class=\"dataframe\">\n",
       "  <thead>\n",
       "    <tr style=\"text-align: right;\">\n",
       "      <th></th>\n",
       "      <th>store_id</th>\n",
       "      <th>amount</th>\n",
       "      <th>datetime</th>\n",
       "    </tr>\n",
       "  </thead>\n",
       "  <tbody>\n",
       "  </tbody>\n",
       "</table>\n",
       "</div>"
      ],
      "text/plain": [
       "Empty DataFrame\n",
       "Columns: [store_id, amount, datetime]\n",
       "Index: []"
      ]
     },
     "execution_count": 9,
     "metadata": {},
     "output_type": "execute_result"
    }
   ],
   "source": [
    "finalset[finalset['store_id']==795]"
   ]
  },
  {
   "cell_type": "code",
   "execution_count": 50,
   "metadata": {},
   "outputs": [
    {
     "data": {
      "text/html": [
       "<div>\n",
       "<style scoped>\n",
       "    .dataframe tbody tr th:only-of-type {\n",
       "        vertical-align: middle;\n",
       "    }\n",
       "\n",
       "    .dataframe tbody tr th {\n",
       "        vertical-align: top;\n",
       "    }\n",
       "\n",
       "    .dataframe thead th {\n",
       "        text-align: right;\n",
       "    }\n",
       "</style>\n",
       "<table border=\"1\" class=\"dataframe\">\n",
       "  <thead>\n",
       "    <tr style=\"text-align: right;\">\n",
       "      <th></th>\n",
       "      <th>store_id</th>\n",
       "      <th>amount</th>\n",
       "      <th>datetime</th>\n",
       "    </tr>\n",
       "  </thead>\n",
       "  <tbody>\n",
       "  </tbody>\n",
       "</table>\n",
       "</div>"
      ],
      "text/plain": [
       "Empty DataFrame\n",
       "Columns: [store_id, amount, datetime]\n",
       "Index: []"
      ]
     },
     "execution_count": 50,
     "metadata": {},
     "output_type": "execute_result"
    }
   ],
   "source": [
    "subset_6 = pd.DataFrame(data={'store_id': [],'amount' : [],'datetime' : []})\n",
    "subset_6"
   ]
  },
  {
   "cell_type": "code",
   "execution_count": 76,
   "metadata": {},
   "outputs": [
    {
     "name": "stdout",
     "output_type": "stream",
     "text": [
      "913260.080357143 원을 34 가게의 2019-02-25일 매출에 입력합니다.\n",
      "83982.01058201057 원을 251 가게의 2019-02-25일 매출에 입력합니다.\n",
      "346787.0967741936 원을 277 가게의 2019-02-25일 매출에 입력합니다.\n",
      "766754.6666666665 원을 368 가게의 2019-02-25일 매출에 입력합니다.\n",
      "953487.5324675324 원을 578 가게의 2019-02-25일 매출에 입력합니다.\n",
      "513579.4642857143 원을 739 가게의 2019-02-25일 매출에 입력합니다.\n",
      "911331.700892857 원을 849 가게의 2019-02-25일 매출에 입력합니다.\n",
      "353992.2991071429 원을 870 가게의 2019-02-25일 매출에 입력합니다.\n",
      "889403.1250000001 원을 888 가게의 2019-02-25일 매출에 입력합니다.\n",
      "2197391.3043478257 원을 1182 가게의 2019-02-25일 매출에 입력합니다.\n",
      "301888.3116883117 원을 1193 가게의 2019-02-25일 매출에 입력합니다.\n",
      "701802.9556650248 원을 1244 가게의 2019-02-25일 매출에 입력합니다.\n",
      "5704116.071428571 원을 1269 가게의 2019-02-25일 매출에 입력합니다.\n",
      "111370.53571428571 원을 1471 가게의 2019-02-25일 매출에 입력합니다.\n",
      "451343.75000000006 원을 1565 가게의 2019-02-25일 매출에 입력합니다.\n",
      "362086.9047619047 원을 1869 가게의 2019-02-25일 매출에 입력합니다.\n",
      "384501.05820105836 원을 1906 가게의 2019-02-25일 매출에 입력합니다.\n",
      "1748209.440993789 원을 1983 가게의 2019-02-25일 매출에 입력합니다.\n",
      "1431900.0 원을 2067 가게의 2019-02-25일 매출에 입력합니다.\n"
     ]
    }
   ],
   "source": [
    "store_id_list = list()\n",
    "amount_list = list()\n",
    "for i in finalset['store_id'].unique():\n",
    "    subset_5 = finalset[finalset['store_id'] == i]\n",
    "    if finalset['datetime'][31] == subset_5['datetime'].tail(1).values:\n",
    "        store_id_list.append(subset_5['store_id'].unique()[0])\n",
    "        amount_list.append(subset_5['amount'].mean())\n",
    "        print(subset_5['amount'].mean(),'원을',subset_5['store_id'].unique()[0],'가게의 2019-02-25일 매출에 입력합니다.')\n",
    "    else:\n",
    "        pass"
   ]
  },
  {
   "cell_type": "code",
   "execution_count": 85,
   "metadata": {},
   "outputs": [
    {
     "name": "stdout",
     "output_type": "stream",
     "text": [
      "[34, 251, 277, 368, 578, 739, 849, 870, 888, 1182, 1193, 1244, 1269, 1471, 1565, 1869, 1906, 1983, 2067]\n",
      "[913260.080357143, 83982.01058201057, 346787.0967741936, 766754.6666666665, 953487.5324675324, 513579.4642857143, 911331.700892857, 353992.2991071429, 889403.1250000001, 2197391.3043478257, 301888.3116883117, 701802.9556650248, 5704116.071428571, 111370.53571428571, 451343.75000000006, 362086.9047619047, 384501.05820105836, 1748209.440993789, 1431900.0]\n",
      "19\n"
     ]
    }
   ],
   "source": [
    "print(store_id_list)\n",
    "print(amount_list)\n",
    "print(len(amount_list))"
   ]
  },
  {
   "cell_type": "code",
   "execution_count": 104,
   "metadata": {},
   "outputs": [],
   "source": [
    "subset_6['store_id'] =  store_id_list\n",
    "subset_6['amount'] = amount_list\n",
    "subset_6['datetime'] = '2019-02-25'"
   ]
  },
  {
   "cell_type": "code",
   "execution_count": 105,
   "metadata": {},
   "outputs": [
    {
     "data": {
      "text/html": [
       "<div>\n",
       "<style scoped>\n",
       "    .dataframe tbody tr th:only-of-type {\n",
       "        vertical-align: middle;\n",
       "    }\n",
       "\n",
       "    .dataframe tbody tr th {\n",
       "        vertical-align: top;\n",
       "    }\n",
       "\n",
       "    .dataframe thead th {\n",
       "        text-align: right;\n",
       "    }\n",
       "</style>\n",
       "<table border=\"1\" class=\"dataframe\">\n",
       "  <thead>\n",
       "    <tr style=\"text-align: right;\">\n",
       "      <th></th>\n",
       "      <th>store_id</th>\n",
       "      <th>amount</th>\n",
       "      <th>datetime</th>\n",
       "    </tr>\n",
       "  </thead>\n",
       "  <tbody>\n",
       "    <tr>\n",
       "      <th>0</th>\n",
       "      <td>34</td>\n",
       "      <td>9.132601e+05</td>\n",
       "      <td>2019-02-25</td>\n",
       "    </tr>\n",
       "    <tr>\n",
       "      <th>1</th>\n",
       "      <td>251</td>\n",
       "      <td>8.398201e+04</td>\n",
       "      <td>2019-02-25</td>\n",
       "    </tr>\n",
       "    <tr>\n",
       "      <th>2</th>\n",
       "      <td>277</td>\n",
       "      <td>3.467871e+05</td>\n",
       "      <td>2019-02-25</td>\n",
       "    </tr>\n",
       "    <tr>\n",
       "      <th>3</th>\n",
       "      <td>368</td>\n",
       "      <td>7.667547e+05</td>\n",
       "      <td>2019-02-25</td>\n",
       "    </tr>\n",
       "    <tr>\n",
       "      <th>4</th>\n",
       "      <td>578</td>\n",
       "      <td>9.534875e+05</td>\n",
       "      <td>2019-02-25</td>\n",
       "    </tr>\n",
       "    <tr>\n",
       "      <th>5</th>\n",
       "      <td>739</td>\n",
       "      <td>5.135795e+05</td>\n",
       "      <td>2019-02-25</td>\n",
       "    </tr>\n",
       "    <tr>\n",
       "      <th>6</th>\n",
       "      <td>849</td>\n",
       "      <td>9.113317e+05</td>\n",
       "      <td>2019-02-25</td>\n",
       "    </tr>\n",
       "    <tr>\n",
       "      <th>7</th>\n",
       "      <td>870</td>\n",
       "      <td>3.539923e+05</td>\n",
       "      <td>2019-02-25</td>\n",
       "    </tr>\n",
       "    <tr>\n",
       "      <th>8</th>\n",
       "      <td>888</td>\n",
       "      <td>8.894031e+05</td>\n",
       "      <td>2019-02-25</td>\n",
       "    </tr>\n",
       "    <tr>\n",
       "      <th>9</th>\n",
       "      <td>1182</td>\n",
       "      <td>2.197391e+06</td>\n",
       "      <td>2019-02-25</td>\n",
       "    </tr>\n",
       "    <tr>\n",
       "      <th>10</th>\n",
       "      <td>1193</td>\n",
       "      <td>3.018883e+05</td>\n",
       "      <td>2019-02-25</td>\n",
       "    </tr>\n",
       "    <tr>\n",
       "      <th>11</th>\n",
       "      <td>1244</td>\n",
       "      <td>7.018030e+05</td>\n",
       "      <td>2019-02-25</td>\n",
       "    </tr>\n",
       "    <tr>\n",
       "      <th>12</th>\n",
       "      <td>1269</td>\n",
       "      <td>5.704116e+06</td>\n",
       "      <td>2019-02-25</td>\n",
       "    </tr>\n",
       "    <tr>\n",
       "      <th>13</th>\n",
       "      <td>1471</td>\n",
       "      <td>1.113705e+05</td>\n",
       "      <td>2019-02-25</td>\n",
       "    </tr>\n",
       "    <tr>\n",
       "      <th>14</th>\n",
       "      <td>1565</td>\n",
       "      <td>4.513438e+05</td>\n",
       "      <td>2019-02-25</td>\n",
       "    </tr>\n",
       "    <tr>\n",
       "      <th>15</th>\n",
       "      <td>1869</td>\n",
       "      <td>3.620869e+05</td>\n",
       "      <td>2019-02-25</td>\n",
       "    </tr>\n",
       "    <tr>\n",
       "      <th>16</th>\n",
       "      <td>1906</td>\n",
       "      <td>3.845011e+05</td>\n",
       "      <td>2019-02-25</td>\n",
       "    </tr>\n",
       "    <tr>\n",
       "      <th>17</th>\n",
       "      <td>1983</td>\n",
       "      <td>1.748209e+06</td>\n",
       "      <td>2019-02-25</td>\n",
       "    </tr>\n",
       "    <tr>\n",
       "      <th>18</th>\n",
       "      <td>2067</td>\n",
       "      <td>1.431900e+06</td>\n",
       "      <td>2019-02-25</td>\n",
       "    </tr>\n",
       "  </tbody>\n",
       "</table>\n",
       "</div>"
      ],
      "text/plain": [
       "    store_id        amount    datetime\n",
       "0         34  9.132601e+05  2019-02-25\n",
       "1        251  8.398201e+04  2019-02-25\n",
       "2        277  3.467871e+05  2019-02-25\n",
       "3        368  7.667547e+05  2019-02-25\n",
       "4        578  9.534875e+05  2019-02-25\n",
       "5        739  5.135795e+05  2019-02-25\n",
       "6        849  9.113317e+05  2019-02-25\n",
       "7        870  3.539923e+05  2019-02-25\n",
       "8        888  8.894031e+05  2019-02-25\n",
       "9       1182  2.197391e+06  2019-02-25\n",
       "10      1193  3.018883e+05  2019-02-25\n",
       "11      1244  7.018030e+05  2019-02-25\n",
       "12      1269  5.704116e+06  2019-02-25\n",
       "13      1471  1.113705e+05  2019-02-25\n",
       "14      1565  4.513438e+05  2019-02-25\n",
       "15      1869  3.620869e+05  2019-02-25\n",
       "16      1906  3.845011e+05  2019-02-25\n",
       "17      1983  1.748209e+06  2019-02-25\n",
       "18      2067  1.431900e+06  2019-02-25"
      ]
     },
     "execution_count": 105,
     "metadata": {},
     "output_type": "execute_result"
    }
   ],
   "source": [
    "subset_6"
   ]
  },
  {
   "cell_type": "code",
   "execution_count": null,
   "metadata": {},
   "outputs": [],
   "source": [
    "finalset['datetime'] = pd.to_datetime(finalset['year_month'] + '-25', format='%Y-%m-%d')"
   ]
  },
  {
   "cell_type": "code",
   "execution_count": 109,
   "metadata": {},
   "outputs": [
    {
     "name": "stderr",
     "output_type": "stream",
     "text": [
      "<ipython-input-109-b1fa5f2d0aa5>:2: FutureWarning: Inferring datetime64[ns] from data containing strings is deprecated and will be removed in a future version. To retain the old behavior explicitly pass Series(data, dtype={value.dtype})\n",
      "  finalset = finalset.sort_values(by=['store_id','datetime']).reset_index(drop = True)\n"
     ]
    }
   ],
   "source": [
    "finalset = pd.concat([finalset,subset_6], axis = 0)\n",
    "finalset = finalset.sort_values(by=['store_id','datetime']).reset_index(drop = True)\n",
    "# finalset['datetime'] = pd.to_datetime(finalset['datetime'] + '-25', format='%Y-%m-%d')"
   ]
  },
  {
   "cell_type": "code",
   "execution_count": 97,
   "metadata": {},
   "outputs": [
    {
     "data": {
      "text/plain": [
       "Timestamp('2016-06-25 00:00:00')"
      ]
     },
     "execution_count": 97,
     "metadata": {},
     "output_type": "execute_result"
    }
   ],
   "source": [
    "finalset['datetime'][0]"
   ]
  },
  {
   "cell_type": "code",
   "execution_count": 98,
   "metadata": {},
   "outputs": [
    {
     "name": "stdout",
     "output_type": "stream",
     "text": [
      "34 번째 가게는 최근 30일 간의 매출이 없습니다.\n"
     ]
    }
   ],
   "source": [
    "for i in finalset['store_id'].unique()[:50]:\n",
    "    subset_5 = finalset[finalset['store_id'] == i].tail(1)\n",
    "    if finalset['datetime'][32] != subset_5['datetime'].values:\n",
    "                print(i,\"번째 가게는 최근 30일 간의 매출이 없습니다.\")\n"
   ]
  },
  {
   "cell_type": "code",
   "execution_count": 99,
   "metadata": {},
   "outputs": [
    {
     "name": "stdout",
     "output_type": "stream",
     "text": [
      "34 번째 가게는 최근 30일 간의 매출이 없습니다.\n",
      "      store_id         amount             datetime\n",
      "1008        34  913260.080357  2019-02-25 00:00:00\n",
      "111 번째 가게는 최근 30일 간의 매출이 없습니다.\n",
      "      store_id   amount             datetime\n",
      "3275       111  83000.0  2018-09-25 00:00:00\n",
      "251 번째 가게는 최근 30일 간의 매출이 없습니다.\n",
      "      store_id        amount             datetime\n",
      "7432       251  83982.010582  2019-02-25 00:00:00\n",
      "257 번째 가게는 최근 30일 간의 매출이 없습니다.\n",
      "      store_id         amount             datetime\n",
      "7614       257  276785.714286  2018-09-25 00:00:00\n",
      "277 번째 가게는 최근 30일 간의 매출이 없습니다.\n",
      "      store_id         amount             datetime\n",
      "8195       277  346787.096774  2019-02-25 00:00:00\n",
      "368 번째 가게는 최근 30일 간의 매출이 없습니다.\n",
      "       store_id         amount             datetime\n",
      "10927       368  766754.666667  2019-02-25 00:00:00\n",
      "374 번째 가게는 최근 30일 간의 매출이 없습니다.\n",
      "       store_id         amount             datetime\n",
      "11122       374  169571.428571  2018-12-25 00:00:00\n",
      "479 번째 가게는 최근 30일 간의 매출이 없습니다.\n",
      "       store_id   amount             datetime\n",
      "14051       479  25000.0  2018-12-25 00:00:00\n",
      "578 번째 가게는 최근 30일 간의 매출이 없습니다.\n",
      "       store_id         amount             datetime\n",
      "17000       578  953487.532468  2019-02-25 00:00:00\n",
      "619 번째 가게는 최근 30일 간의 매출이 없습니다.\n",
      "       store_id         amount             datetime\n",
      "18212       619  271428.571429  2018-11-25 00:00:00\n",
      "632 번째 가게는 최근 30일 간의 매출이 없습니다.\n",
      "       store_id        amount             datetime\n",
      "18578       632  79714.285714  2018-10-25 00:00:00\n",
      "640 번째 가게는 최근 30일 간의 매출이 없습니다.\n",
      "       store_id         amount             datetime\n",
      "18805       640  238571.428571  2018-10-25 00:00:00\n",
      "739 번째 가게는 최근 30일 간의 매출이 없습니다.\n",
      "       store_id         amount             datetime\n",
      "21574       739  513579.464286  2019-02-25 00:00:00\n",
      "772 번째 가게는 최근 30일 간의 매출이 없습니다.\n",
      "       store_id    amount             datetime\n",
      "22549       772  311500.0  2018-10-25 00:00:00\n",
      "802 번째 가게는 최근 30일 간의 매출이 없습니다.\n",
      "       store_id         amount             datetime\n",
      "23406       802  186857.142857  2018-11-25 00:00:00\n",
      "838 번째 가게는 최근 30일 간의 매출이 없습니다.\n",
      "       store_id         amount             datetime\n",
      "24483       838  750928.571429  2018-12-25 00:00:00\n",
      "849 번째 가게는 최근 30일 간의 매출이 없습니다.\n",
      "       store_id         amount             datetime\n",
      "24829       849  911331.700893  2019-02-25 00:00:00\n",
      "870 번째 가게는 최근 30일 간의 매출이 없습니다.\n",
      "       store_id         amount             datetime\n",
      "25485       870  353992.299107  2019-02-25 00:00:00\n",
      "888 번째 가게는 최근 30일 간의 매출이 없습니다.\n",
      "       store_id      amount             datetime\n",
      "26045       888  889403.125  2019-02-25 00:00:00\n",
      "999 번째 가게는 최근 30일 간의 매출이 없습니다.\n",
      "       store_id         amount             datetime\n",
      "29195       999  452135.714286  2018-02-25 00:00:00\n",
      "1182 번째 가게는 최근 30일 간의 매출이 없습니다.\n",
      "       store_id        amount             datetime\n",
      "34016      1182  2.197391e+06  2019-02-25 00:00:00\n",
      "1193 번째 가게는 최근 30일 간의 매출이 없습니다.\n",
      "       store_id         amount             datetime\n",
      "34347      1193  301888.311688  2019-02-25 00:00:00\n",
      "1217 번째 가게는 최근 30일 간의 매출이 없습니다.\n",
      "       store_id         amount             datetime\n",
      "34964      1217  199857.142857  2018-12-25 00:00:00\n",
      "1233 번째 가게는 최근 30일 간의 매출이 없습니다.\n",
      "       store_id        amount             datetime\n",
      "35417      1233  17857.142857  2018-06-25 00:00:00\n",
      "1244 번째 가게는 최근 30일 간의 매출이 없습니다.\n",
      "       store_id         amount             datetime\n",
      "35652      1244  701802.955665  2019-02-25 00:00:00\n",
      "1269 번째 가게는 최근 30일 간의 매출이 없습니다.\n",
      "       store_id        amount             datetime\n",
      "36360      1269  5.704116e+06  2019-02-25 00:00:00\n",
      "1471 번째 가게는 최근 30일 간의 매출이 없습니다.\n",
      "       store_id         amount             datetime\n",
      "41961      1471  111370.535714  2019-02-25 00:00:00\n",
      "1520 번째 가게는 최근 30일 간의 매출이 없습니다.\n",
      "       store_id       amount             datetime\n",
      "43285      1520  3785.714286  2018-12-25 00:00:00\n",
      "1527 번째 가게는 최근 30일 간의 매출이 없습니다.\n",
      "       store_id       amount             datetime\n",
      "43473      1527  1428.571429  2018-06-25 00:00:00\n",
      "1565 번째 가게는 최근 30일 간의 매출이 없습니다.\n",
      "       store_id     amount             datetime\n",
      "44490      1565  451343.75  2019-02-25 00:00:00\n",
      "1567 번째 가게는 최근 30일 간의 매출이 없습니다.\n",
      "       store_id    amount             datetime\n",
      "44552      1567  478400.0  2018-11-25 00:00:00\n",
      "1598 번째 가게는 최근 30일 간의 매출이 없습니다.\n",
      "       store_id       amount             datetime\n",
      "45468      1598  2857.142857  2018-11-25 00:00:00\n",
      "1604 번째 가게는 최근 30일 간의 매출이 없습니다.\n",
      "       store_id         amount             datetime\n",
      "45654      1604  264597.142857  2018-09-25 00:00:00\n",
      "1685 번째 가게는 최근 30일 간의 매출이 없습니다.\n",
      "       store_id        amount             datetime\n",
      "47935      1685  58714.285714  2018-10-25 00:00:00\n",
      "1869 번째 가게는 최근 30일 간의 매출이 없습니다.\n",
      "       store_id         amount             datetime\n",
      "53128      1869  362086.904762  2019-02-25 00:00:00\n",
      "1906 번째 가게는 최근 30일 간의 매출이 없습니다.\n",
      "       store_id         amount             datetime\n",
      "54137      1906  384501.058201  2019-02-25 00:00:00\n",
      "1967 번째 가게는 최근 30일 간의 매출이 없습니다.\n",
      "       store_id        amount             datetime\n",
      "55701      1967  56185.714286  2018-12-25 00:00:00\n",
      "1983 번째 가게는 최근 30일 간의 매출이 없습니다.\n",
      "       store_id        amount             datetime\n",
      "56133      1983  1.748209e+06  2019-02-25 00:00:00\n",
      "2027 번째 가게는 최근 30일 간의 매출이 없습니다.\n",
      "       store_id         amount             datetime\n",
      "57339      2027  167142.857143  2018-11-25 00:00:00\n",
      "2053 번째 가게는 최근 30일 간의 매출이 없습니다.\n",
      "       store_id  amount             datetime\n",
      "57925      2053  5500.0  2018-12-25 00:00:00\n",
      "2058 번째 가게는 최근 30일 간의 매출이 없습니다.\n",
      "       store_id         amount             datetime\n",
      "58025      2058  271428.571429  2018-08-25 00:00:00\n",
      "2067 번째 가게는 최근 30일 간의 매출이 없습니다.\n",
      "       store_id     amount             datetime\n",
      "58283      2067  1431900.0  2019-02-25 00:00:00\n",
      "2086 번째 가게는 최근 30일 간의 매출이 없습니다.\n",
      "       store_id         amount             datetime\n",
      "58816      2086  537571.428571  2018-11-25 00:00:00\n",
      "2119 번째 가게는 최근 30일 간의 매출이 없습니다.\n",
      "       store_id         amount             datetime\n",
      "59760      2119  722571.428571  2018-02-25 00:00:00\n",
      "44 개의 가게가 최근 매출이 없습니다.\n"
     ]
    }
   ],
   "source": [
    "# 2019-02 월 데이터가 없는 가게를 필터링하는 함수 / 제거 알고리즘 구현해야함\n",
    "\n",
    "n_stores = 0\n",
    "for i in finalset['store_id'].unique()[30:]:\n",
    "    subset_5 = finalset[finalset['store_id'] == i].tail(1)\n",
    "    if finalset['datetime'][32] != subset_5['datetime'].values:\n",
    "        print(i,\"번째 가게는 최근 30일 간의 매출이 없습니다.\")\n",
    "        print(subset_5)\n",
    "        n_stores += 1\n",
    "    else:\n",
    "        pass\n",
    "print(n_stores,\"개의 가게가 최근 매출이 없습니다.\")"
   ]
  },
  {
   "cell_type": "code",
   "execution_count": null,
   "metadata": {},
   "outputs": [],
   "source": []
  }
 ],
 "metadata": {
  "interpreter": {
   "hash": "3e194ca94d9d720df57297bf37581ae4a889736a9f9aea5aedd380eb1a7083ce"
  },
  "kernelspec": {
   "display_name": "Python 3.9.6 64-bit ('pythonProject4': conda)",
   "name": "python3"
  },
  "language_info": {
   "codemirror_mode": {
    "name": "ipython",
    "version": 3
   },
   "file_extension": ".py",
   "mimetype": "text/x-python",
   "name": "python",
   "nbconvert_exporter": "python",
   "pygments_lexer": "ipython3",
   "version": "3.9.6"
  },
  "orig_nbformat": 4
 },
 "nbformat": 4,
 "nbformat_minor": 2
}
